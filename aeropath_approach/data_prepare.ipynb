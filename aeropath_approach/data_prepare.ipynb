{
 "cells": [
  {
   "cell_type": "code",
   "execution_count": null,
   "metadata": {},
   "outputs": [],
   "source": [
    "from datasets import load_dataset\n",
    "import nibabel as nib\n",
    "from concurrent.futures import ThreadPoolExecutor\n",
    "from matplotlib import pyplot as plt\n",
    "import numpy as np\n",
    "import os\n",
    "import glob\n",
    "from natsort import natsorted\n",
    "from ipywidgets import interact, IntSlider\n",
    "from monai.apps import download_and_extract\n",
    "from monai.transforms import (\n",
    "    Compose,\n",
    "    CropForegroundd,\n",
    "    LoadImaged,\n",
    "    EnsureChannelFirstd,\n",
    "    Orientationd,\n",
    ")\n",
    "from monai.data import Dataset, DataLoader, CacheDataset"
   ]
  },
  {
   "cell_type": "code",
   "execution_count": null,
   "metadata": {},
   "outputs": [],
   "source": [
    "data_dir = '/home/gasyna/RiSA_S3/3D_segmentation/'"
   ]
  },
  {
   "cell_type": "code",
   "execution_count": null,
   "metadata": {},
   "outputs": [],
   "source": [
    "resource = \"https://zenodo.org/records/10069289/files/AeroPath.zip?download=1\"\n",
    "md5 = \"3fd5106c175c85d60eaece220f5dfd87\"\n",
    "\n",
    "compressed_file = os.path.join(data_dir, \"AeroPath.zip\")\n",
    "if not os.path.exists(data_dir):\n",
    "    download_and_extract(resource, compressed_file, data_dir, md5)"
   ]
  },
  {
   "cell_type": "code",
   "execution_count": null,
   "metadata": {},
   "outputs": [],
   "source": [
    "\n",
    "pattern = os.path.join(data_dir, 'AeroPath/**/*_CT_HR_label_airways.nii.gz')\n",
    "train_airways = natsorted(glob.glob(pattern, recursive=True))\n",
    "print(len(train_airways), train_airways)\n",
    "\n",
    "pattern = os.path.join(data_dir, 'AeroPath/**/*_CT_HR_label_lungs.nii.gz')\n",
    "train_lungs = natsorted(glob.glob(pattern, recursive=True))\n",
    "print(len(train_lungs), train_lungs)\n",
    "\n",
    "pattern = os.path.join(data_dir, 'AeroPath/**/*_CT_HR.nii.gz')\n",
    "train_scans = natsorted(glob.glob(pattern, recursive=True))\n",
    "print(len(train_scans), train_scans)"
   ]
  },
  {
   "cell_type": "code",
   "execution_count": null,
   "metadata": {},
   "outputs": [],
   "source": [
    "def create_directory(path):\n",
    "    if not os.path.exists(path):\n",
    "        os.makedirs(path)"
   ]
  },
  {
   "cell_type": "code",
   "execution_count": null,
   "metadata": {},
   "outputs": [],
   "source": [
    "prepare_data_transforms = Compose(\n",
    "    [\n",
    "    LoadImaged(keys=[\"scan\", \"lungs\",  \"airways\"]),  # Load the NIfTI files\n",
    "    EnsureChannelFirstd(keys=[\"scan\", \"lungs\",  \"airways\"]),\n",
    "    Orientationd(keys=[\"scan\", \"lungs\",  \"airways\"], axcodes=\"RAS\"),\n",
    "    CropForegroundd(keys=[\"scan\", \"lungs\",  \"airways\"], margin = 2, source_key=\"lungs\"),\n",
    "    ]\n",
    "),\n",
    "\n",
    "data_dicts = [\n",
    "    {\"scan\": scan, \"lungs\": lungs, \"airways\": airways} for scan, lungs, airways in zip(train_scans, train_lungs, train_airways)\n",
    "]\n",
    "\n",
    "\n",
    "transformed_ds = Dataset(data=data_dicts, transform=prepare_data_transforms)\n"
   ]
  },
  {
   "cell_type": "code",
   "execution_count": null,
   "metadata": {},
   "outputs": [],
   "source": [
    "import nibabel as nib\n",
    "\n",
    "for data, train_airway, train_lung, train_scan in zip(transformed_ds, train_airways, train_lungs, train_scans):\n",
    "\n",
    "    scan, lungs, airways = data[\"scan\"][0, :, :, :], data[\"lungs\"][0, :, :, :], data[\"airways\"][0, :, :, :]\n",
    "    scan, lungs, airways = scan.numpy(), lungs.numpy(), airways.numpy()\n",
    "    \n",
    "    original_airway = nib.load(train_airway)\n",
    "    original_lung   = nib.load(train_lung)\n",
    "    original_scan   = nib.load(train_scan)\n",
    "\n",
    "    airway_affine   = original_airway.affine\n",
    "    lung_affine     = original_lung.affine\n",
    "    scan_affine     = original_scan.affine\n",
    "\n",
    "\n",
    "    dirname         = train_airway.split('/')[-2]\n",
    "\n",
    "    filename_airway = train_airway.split('/')[-1]\n",
    "    filename_lung   = train_lung.split('/')[-1]\n",
    "    filename_scan   = train_scan.split('/')[-1]\n",
    "\n",
    "\n",
    "    create_directory(f'../dataset_cut/{dirname}/')\n",
    "\n",
    "    airways_nib = nib.Nifti1Image(airways, airway_affine)\n",
    "    lungs_nib   = nib.Nifti1Image(lungs, lung_affine)\n",
    "    scan_nib    = nib.Nifti1Image(scan, scan_affine)\n",
    "\n",
    "    nib.save(airways_nib, f'../dataset_cut/{dirname}/{filename_airway}')\n",
    "    nib.save(lungs_nib, f'../dataset_cut/{dirname}/{filename_lung}')\n",
    "    nib.save(scan_nib, f'../dataset_cut/{dirname}/{filename_scan}')\n"
   ]
  }
 ],
 "metadata": {
  "kernelspec": {
   "display_name": "Python 3",
   "language": "python",
   "name": "python3"
  },
  "language_info": {
   "codemirror_mode": {
    "name": "ipython",
    "version": 3
   },
   "file_extension": ".py",
   "mimetype": "text/x-python",
   "name": "python",
   "nbconvert_exporter": "python",
   "pygments_lexer": "ipython3",
   "version": "3.10.12"
  }
 },
 "nbformat": 4,
 "nbformat_minor": 2
}
