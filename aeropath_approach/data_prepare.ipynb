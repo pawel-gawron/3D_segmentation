{
 "cells": [
  {
   "cell_type": "code",
   "execution_count": 1,
   "metadata": {},
   "outputs": [],
   "source": [
    "from datasets import load_dataset\n",
    "\n",
    "import nibabel as nib\n",
    "import scipy.ndimage\n",
    "\n",
    "from nibabel.processing import resample_to_output\n",
    "from concurrent.futures import ThreadPoolExecutor\n",
    "from matplotlib import pyplot as plt\n",
    "import numpy as np\n",
    "import os\n",
    "import glob\n",
    "import tempfile\n",
    "from natsort import natsorted\n",
    "from ipywidgets import interact, IntSlider\n",
    "\n",
    "from monai.apps import download_and_extract"
   ]
  },
  {
   "cell_type": "code",
   "execution_count": 2,
   "metadata": {},
   "outputs": [],
   "source": [
    "data_dir = '/home/pawel/Documents/RISA/3D_segmentation'"
   ]
  },
  {
   "cell_type": "code",
   "execution_count": 14,
   "metadata": {},
   "outputs": [
    {
     "name": "stderr",
     "output_type": "stream",
     "text": [
      "AeroPath.zip: 4.70GB [02:51, 29.4MB/s]                               "
     ]
    },
    {
     "name": "stdout",
     "output_type": "stream",
     "text": [
      "2024-06-23 12:55:50,366 - INFO - Downloaded: /home/pawel/Documents/RiSA/3D_segmentation/AeroPath/AeroPath.zip\n"
     ]
    },
    {
     "name": "stderr",
     "output_type": "stream",
     "text": [
      "\n"
     ]
    },
    {
     "name": "stdout",
     "output_type": "stream",
     "text": [
      "2024-06-23 12:55:57,824 - INFO - Verified 'AeroPath.zip', md5: 3fd5106c175c85d60eaece220f5dfd87.\n",
      "2024-06-23 12:55:57,825 - INFO - Writing into directory: /home/pawel/Documents/RiSA/3D_segmentation/AeroPath.\n"
     ]
    }
   ],
   "source": [
    "resource = \"https://zenodo.org/records/10069289/files/AeroPath.zip?download=1\"\n",
    "md5 = \"3fd5106c175c85d60eaece220f5dfd87\"\n",
    "\n",
    "compressed_file = os.path.join(data_dir, \"AeroPath.zip\")\n",
    "if not os.path.exists(data_dir):\n",
    "    download_and_extract(resource, compressed_file, data_dir, md5)"
   ]
  },
  {
   "cell_type": "code",
   "execution_count": 3,
   "metadata": {},
   "outputs": [
    {
     "name": "stdout",
     "output_type": "stream",
     "text": [
      "['/home/pawel/Documents/RISA/3D_segmentation/AeroPath/1/1_CT_HR_label_airways.nii.gz', '/home/pawel/Documents/RISA/3D_segmentation/AeroPath/2/2_CT_HR_label_airways.nii.gz', '/home/pawel/Documents/RISA/3D_segmentation/AeroPath/3/3_CT_HR_label_airways.nii.gz', '/home/pawel/Documents/RISA/3D_segmentation/AeroPath/4/4_CT_HR_label_airways.nii.gz', '/home/pawel/Documents/RISA/3D_segmentation/AeroPath/5/5_CT_HR_label_airways.nii.gz', '/home/pawel/Documents/RISA/3D_segmentation/AeroPath/6/6_CT_HR_label_airways.nii.gz', '/home/pawel/Documents/RISA/3D_segmentation/AeroPath/7/7_CT_HR_label_airways.nii.gz', '/home/pawel/Documents/RISA/3D_segmentation/AeroPath/8/8_CT_HR_label_airways.nii.gz', '/home/pawel/Documents/RISA/3D_segmentation/AeroPath/9/9_CT_HR_label_airways.nii.gz', '/home/pawel/Documents/RISA/3D_segmentation/AeroPath/10/10_CT_HR_label_airways.nii.gz', '/home/pawel/Documents/RISA/3D_segmentation/AeroPath/11/11_CT_HR_label_airways.nii.gz', '/home/pawel/Documents/RISA/3D_segmentation/AeroPath/12/12_CT_HR_label_airways.nii.gz', '/home/pawel/Documents/RISA/3D_segmentation/AeroPath/13/13_CT_HR_label_airways.nii.gz', '/home/pawel/Documents/RISA/3D_segmentation/AeroPath/14/14_CT_HR_label_airways.nii.gz', '/home/pawel/Documents/RISA/3D_segmentation/AeroPath/15/15_CT_HR_label_airways.nii.gz', '/home/pawel/Documents/RISA/3D_segmentation/AeroPath/16/16_CT_HR_label_airways.nii.gz', '/home/pawel/Documents/RISA/3D_segmentation/AeroPath/17/17_CT_HR_label_airways.nii.gz', '/home/pawel/Documents/RISA/3D_segmentation/AeroPath/18/18_CT_HR_label_airways.nii.gz', '/home/pawel/Documents/RISA/3D_segmentation/AeroPath/19/19_CT_HR_label_airways.nii.gz', '/home/pawel/Documents/RISA/3D_segmentation/AeroPath/20/20_CT_HR_label_airways.nii.gz', '/home/pawel/Documents/RISA/3D_segmentation/AeroPath/21/21_CT_HR_label_airways.nii.gz', '/home/pawel/Documents/RISA/3D_segmentation/AeroPath/22/22_CT_HR_label_airways.nii.gz', '/home/pawel/Documents/RISA/3D_segmentation/AeroPath/23/23_CT_HR_label_airways.nii.gz', '/home/pawel/Documents/RISA/3D_segmentation/AeroPath/24/24_CT_HR_label_airways.nii.gz', '/home/pawel/Documents/RISA/3D_segmentation/AeroPath/25/25_CT_HR_label_airways.nii.gz', '/home/pawel/Documents/RISA/3D_segmentation/AeroPath/26/26_CT_HR_label_airways.nii.gz', '/home/pawel/Documents/RISA/3D_segmentation/AeroPath/27/27_CT_HR_label_airways.nii.gz']\n",
      "['/home/pawel/Documents/RISA/3D_segmentation/AeroPath/1/1_CT_HR.nii.gz', '/home/pawel/Documents/RISA/3D_segmentation/AeroPath/2/2_CT_HR.nii.gz', '/home/pawel/Documents/RISA/3D_segmentation/AeroPath/3/3_CT_HR.nii.gz', '/home/pawel/Documents/RISA/3D_segmentation/AeroPath/4/4_CT_HR.nii.gz', '/home/pawel/Documents/RISA/3D_segmentation/AeroPath/5/5_CT_HR.nii.gz', '/home/pawel/Documents/RISA/3D_segmentation/AeroPath/6/6_CT_HR.nii.gz', '/home/pawel/Documents/RISA/3D_segmentation/AeroPath/7/7_CT_HR.nii.gz', '/home/pawel/Documents/RISA/3D_segmentation/AeroPath/8/8_CT_HR.nii.gz', '/home/pawel/Documents/RISA/3D_segmentation/AeroPath/9/9_CT_HR.nii.gz', '/home/pawel/Documents/RISA/3D_segmentation/AeroPath/10/10_CT_HR.nii.gz', '/home/pawel/Documents/RISA/3D_segmentation/AeroPath/11/11_CT_HR.nii.gz', '/home/pawel/Documents/RISA/3D_segmentation/AeroPath/12/12_CT_HR.nii.gz', '/home/pawel/Documents/RISA/3D_segmentation/AeroPath/13/13_CT_HR.nii.gz', '/home/pawel/Documents/RISA/3D_segmentation/AeroPath/14/14_CT_HR.nii.gz', '/home/pawel/Documents/RISA/3D_segmentation/AeroPath/15/15_CT_HR.nii.gz', '/home/pawel/Documents/RISA/3D_segmentation/AeroPath/16/16_CT_HR.nii.gz', '/home/pawel/Documents/RISA/3D_segmentation/AeroPath/17/17_CT_HR.nii.gz', '/home/pawel/Documents/RISA/3D_segmentation/AeroPath/18/18_CT_HR.nii.gz', '/home/pawel/Documents/RISA/3D_segmentation/AeroPath/19/19_CT_HR.nii.gz', '/home/pawel/Documents/RISA/3D_segmentation/AeroPath/20/20_CT_HR.nii.gz', '/home/pawel/Documents/RISA/3D_segmentation/AeroPath/21/21_CT_HR.nii.gz', '/home/pawel/Documents/RISA/3D_segmentation/AeroPath/22/22_CT_HR.nii.gz', '/home/pawel/Documents/RISA/3D_segmentation/AeroPath/23/23_CT_HR.nii.gz', '/home/pawel/Documents/RISA/3D_segmentation/AeroPath/24/24_CT_HR.nii.gz', '/home/pawel/Documents/RISA/3D_segmentation/AeroPath/25/25_CT_HR.nii.gz', '/home/pawel/Documents/RISA/3D_segmentation/AeroPath/26/26_CT_HR.nii.gz', '/home/pawel/Documents/RISA/3D_segmentation/AeroPath/27/27_CT_HR.nii.gz']\n"
     ]
    }
   ],
   "source": [
    "pattern = os.path.join(data_dir, '**/*_CT_HR_label_airways.nii.gz')\n",
    "train_labels = natsorted(glob.glob(pattern, recursive=True))\n",
    "print(train_labels)\n",
    "\n",
    "pattern = os.path.join(data_dir, '**/*_CT_HR.nii.gz')\n",
    "train_scans = natsorted(glob.glob(pattern, recursive=True))\n",
    "print(train_scans)"
   ]
  },
  {
   "cell_type": "code",
   "execution_count": 4,
   "metadata": {},
   "outputs": [
    {
     "ename": "KeyboardInterrupt",
     "evalue": "",
     "output_type": "error",
     "traceback": [
      "\u001b[0;31m---------------------------------------------------------------------------\u001b[0m",
      "\u001b[0;31mKeyboardInterrupt\u001b[0m                         Traceback (most recent call last)",
      "Cell \u001b[0;32mIn[4], line 5\u001b[0m\n\u001b[1;32m      2\u001b[0m scan \u001b[38;5;241m=\u001b[39m nib\u001b[38;5;241m.\u001b[39mload(scan_path)\n\u001b[1;32m      3\u001b[0m label \u001b[38;5;241m=\u001b[39m nib\u001b[38;5;241m.\u001b[39mload(label_path)\n\u001b[0;32m----> 5\u001b[0m resampled_scan \u001b[38;5;241m=\u001b[39m \u001b[43mresample_to_output\u001b[49m\u001b[43m(\u001b[49m\u001b[43mscan\u001b[49m\u001b[43m,\u001b[49m\u001b[43m \u001b[49m\u001b[43m(\u001b[49m\u001b[38;5;241;43m0.75\u001b[39;49m\u001b[43m,\u001b[49m\u001b[43m \u001b[49m\u001b[38;5;241;43m0.75\u001b[39;49m\u001b[43m,\u001b[49m\u001b[43m \u001b[49m\u001b[38;5;241;43m0.75\u001b[39;49m\u001b[43m)\u001b[49m\u001b[43m,\u001b[49m\u001b[43m \u001b[49m\u001b[43morder\u001b[49m\u001b[38;5;241;43m=\u001b[39;49m\u001b[38;5;241;43m1\u001b[39;49m\u001b[43m)\u001b[49m\n\u001b[1;32m      6\u001b[0m nib\u001b[38;5;241m.\u001b[39msave(resampled_scan, scan_path)\n\u001b[1;32m      8\u001b[0m resampled_label \u001b[38;5;241m=\u001b[39m resample_to_output(label, (\u001b[38;5;241m0.75\u001b[39m, \u001b[38;5;241m0.75\u001b[39m, \u001b[38;5;241m0.75\u001b[39m), order\u001b[38;5;241m=\u001b[39m\u001b[38;5;241m1\u001b[39m)\n",
      "File \u001b[0;32m~/Documents/RISA/3D_segmentation/.venv/lib/python3.10/site-packages/nibabel/processing.py:246\u001b[0m, in \u001b[0;36mresample_to_output\u001b[0;34m(in_img, voxel_sizes, order, mode, cval, out_class)\u001b[0m\n\u001b[1;32m    244\u001b[0m         voxel_sizes \u001b[38;5;241m=\u001b[39m \u001b[38;5;28mtuple\u001b[39m(voxel_sizes) \u001b[38;5;241m+\u001b[39m (\u001b[38;5;241m1\u001b[39m,) \u001b[38;5;241m*\u001b[39m (\u001b[38;5;241m3\u001b[39m \u001b[38;5;241m-\u001b[39m n_dim)\n\u001b[1;32m    245\u001b[0m out_vox_map \u001b[38;5;241m=\u001b[39m vox2out_vox((in_img\u001b[38;5;241m.\u001b[39mshape, in_img\u001b[38;5;241m.\u001b[39maffine), voxel_sizes)\n\u001b[0;32m--> 246\u001b[0m \u001b[38;5;28;01mreturn\u001b[39;00m \u001b[43mresample_from_to\u001b[49m\u001b[43m(\u001b[49m\u001b[43min_img\u001b[49m\u001b[43m,\u001b[49m\u001b[43m \u001b[49m\u001b[43mout_vox_map\u001b[49m\u001b[43m,\u001b[49m\u001b[43m \u001b[49m\u001b[43morder\u001b[49m\u001b[43m,\u001b[49m\u001b[43m \u001b[49m\u001b[43mmode\u001b[49m\u001b[43m,\u001b[49m\u001b[43m \u001b[49m\u001b[43mcval\u001b[49m\u001b[43m,\u001b[49m\u001b[43m \u001b[49m\u001b[43mout_class\u001b[49m\u001b[43m)\u001b[49m\n",
      "File \u001b[0;32m~/Documents/RISA/3D_segmentation/.venv/lib/python3.10/site-packages/nibabel/processing.py:179\u001b[0m, in \u001b[0;36mresample_from_to\u001b[0;34m(from_img, to_vox_map, order, mode, cval, out_class)\u001b[0m\n\u001b[1;32m    177\u001b[0m to_vox2from_vox \u001b[38;5;241m=\u001b[39m npl\u001b[38;5;241m.\u001b[39minv(a_from_affine)\u001b[38;5;241m.\u001b[39mdot(a_to_affine)\n\u001b[1;32m    178\u001b[0m rzs, trans \u001b[38;5;241m=\u001b[39m to_matvec(to_vox2from_vox)\n\u001b[0;32m--> 179\u001b[0m data \u001b[38;5;241m=\u001b[39m \u001b[43mspnd\u001b[49m\u001b[38;5;241;43m.\u001b[39;49m\u001b[43maffine_transform\u001b[49m\u001b[43m(\u001b[49m\n\u001b[1;32m    180\u001b[0m \u001b[43m    \u001b[49m\u001b[43mfrom_img\u001b[49m\u001b[38;5;241;43m.\u001b[39;49m\u001b[43mdataobj\u001b[49m\u001b[43m,\u001b[49m\u001b[43m \u001b[49m\u001b[43mrzs\u001b[49m\u001b[43m,\u001b[49m\u001b[43m \u001b[49m\u001b[43mtrans\u001b[49m\u001b[43m,\u001b[49m\u001b[43m \u001b[49m\u001b[43mto_shape\u001b[49m\u001b[43m,\u001b[49m\u001b[43m \u001b[49m\u001b[43morder\u001b[49m\u001b[38;5;241;43m=\u001b[39;49m\u001b[43morder\u001b[49m\u001b[43m,\u001b[49m\u001b[43m \u001b[49m\u001b[43mmode\u001b[49m\u001b[38;5;241;43m=\u001b[39;49m\u001b[43mmode\u001b[49m\u001b[43m,\u001b[49m\u001b[43m \u001b[49m\u001b[43mcval\u001b[49m\u001b[38;5;241;43m=\u001b[39;49m\u001b[43mcval\u001b[49m\n\u001b[1;32m    181\u001b[0m \u001b[43m\u001b[49m\u001b[43m)\u001b[49m\n\u001b[1;32m    182\u001b[0m \u001b[38;5;28;01mreturn\u001b[39;00m out_class(data, to_affine, from_img\u001b[38;5;241m.\u001b[39mheader)\n",
      "File \u001b[0;32m~/Documents/RISA/3D_segmentation/.venv/lib/python3.10/site-packages/scipy/ndimage/_interpolation.py:628\u001b[0m, in \u001b[0;36maffine_transform\u001b[0;34m(input, matrix, offset, output_shape, output, order, mode, cval, prefilter)\u001b[0m\n\u001b[1;32m    625\u001b[0m     _nd_image\u001b[38;5;241m.\u001b[39mzoom_shift(filtered, matrix, offset\u001b[38;5;241m/\u001b[39mmatrix, output, order,\n\u001b[1;32m    626\u001b[0m                          mode, cval, npad, \u001b[38;5;28;01mFalse\u001b[39;00m)\n\u001b[1;32m    627\u001b[0m \u001b[38;5;28;01melse\u001b[39;00m:\n\u001b[0;32m--> 628\u001b[0m     \u001b[43m_nd_image\u001b[49m\u001b[38;5;241;43m.\u001b[39;49m\u001b[43mgeometric_transform\u001b[49m\u001b[43m(\u001b[49m\u001b[43mfiltered\u001b[49m\u001b[43m,\u001b[49m\u001b[43m \u001b[49m\u001b[38;5;28;43;01mNone\u001b[39;49;00m\u001b[43m,\u001b[49m\u001b[43m \u001b[49m\u001b[38;5;28;43;01mNone\u001b[39;49;00m\u001b[43m,\u001b[49m\u001b[43m \u001b[49m\u001b[43mmatrix\u001b[49m\u001b[43m,\u001b[49m\u001b[43m \u001b[49m\u001b[43moffset\u001b[49m\u001b[43m,\u001b[49m\n\u001b[1;32m    629\u001b[0m \u001b[43m                                  \u001b[49m\u001b[43moutput\u001b[49m\u001b[43m,\u001b[49m\u001b[43m \u001b[49m\u001b[43morder\u001b[49m\u001b[43m,\u001b[49m\u001b[43m \u001b[49m\u001b[43mmode\u001b[49m\u001b[43m,\u001b[49m\u001b[43m \u001b[49m\u001b[43mcval\u001b[49m\u001b[43m,\u001b[49m\u001b[43m \u001b[49m\u001b[43mnpad\u001b[49m\u001b[43m,\u001b[49m\u001b[43m \u001b[49m\u001b[38;5;28;43;01mNone\u001b[39;49;00m\u001b[43m,\u001b[49m\n\u001b[1;32m    630\u001b[0m \u001b[43m                                  \u001b[49m\u001b[38;5;28;43;01mNone\u001b[39;49;00m\u001b[43m)\u001b[49m\n\u001b[1;32m    631\u001b[0m \u001b[38;5;28;01mreturn\u001b[39;00m output\n",
      "\u001b[0;31mKeyboardInterrupt\u001b[0m: "
     ]
    }
   ],
   "source": [
    "for scan_path, label_path in zip(train_scans, train_labels):\n",
    "    scan = nib.load(scan_path)\n",
    "    label = nib.load(label_path)\n",
    "\n",
    "    resampled_scan = resample_to_output(scan, (0.75, 0.75, 0.75), order=1)\n",
    "    nib.save(resampled_scan, scan_path)\n",
    "\n",
    "    resampled_label = resample_to_output(label, (0.75, 0.75, 0.75), order=1)\n",
    "    nib.save(resampled_label, label_path)"
   ]
  },
  {
   "cell_type": "code",
   "execution_count": 49,
   "metadata": {},
   "outputs": [
    {
     "name": "stdout",
     "output_type": "stream",
     "text": [
      "Input scan shape:  (468, 468, 512)\n",
      "min:  -1024.0 max:  3071.0\n",
      "Input label shape:  (468, 468, 512)\n",
      "min:  0.0 max:  1.0\n",
      "min:  0.0 max:  1.0\n",
      "min:  0.0 max:  1.0\n",
      "min:  0.0 max:  1.0\n",
      "min:  0.0 max:  1.0\n",
      "min:  0.0 max:  1.0\n",
      "min:  0.0 max:  1.0\n",
      "min:  0.0 max:  1.0\n",
      "min:  0.0 max:  1.0\n"
     ]
    }
   ],
   "source": [
    "def create_directory(path):\n",
    "    if not os.path.exists(path):\n",
    "        os.makedirs(path)\n",
    "\n",
    "def save_patched_data(data, affine, base_path, idx, prefix):\n",
    "    x, y, z = data.shape\n",
    "    patches = [\n",
    "        (data[:x//2, :, :z//2], f'{idx}_1_{prefix}.nii.gz'),\n",
    "        (data[x//2:, :, :z//2], f'{idx}_2_{prefix}.nii.gz'),\n",
    "        (data[:x//2, :, z//2:], f'{idx}_3_{prefix}.nii.gz'),\n",
    "        (data[x//2:, :, z//2:], f'{idx}_4_{prefix}.nii.gz')\n",
    "    ]\n",
    "    for patch, filename in patches:\n",
    "        patch[patch > 1024] = 1024\n",
    "        patch[patch < -1024] = -1024\n",
    "        patch = (patch - np.min(patch)) / (np.max(patch) - np.min(patch))\n",
    "        print(\"min: \", np.min(patch), \"max: \", np.max(patch))\n",
    "        img = nib.Nifti1Image(patch, affine)\n",
    "        nib.save(img, os.path.join(base_path, filename))\n",
    "\n",
    "scan_base_path = '../dataset/scan_patched_4'\n",
    "label_base_path = '../dataset/airways_patched_4'\n",
    "create_directory(scan_base_path)\n",
    "create_directory(label_base_path)\n",
    "\n",
    "for idx, (scan_path, label_path) in enumerate(zip(train_scans, train_labels)):\n",
    "    scan = nib.load(scan_path)\n",
    "    data_scan = scan.get_fdata()\n",
    "    print(\"Input scan shape: \", data_scan.shape)\n",
    "    print(\"min: \", np.min(data_scan), \"max: \", np.max(data_scan))\n",
    "    affine = scan.affine\n",
    "\n",
    "    label = nib.load(label_path)\n",
    "    data_label = label.get_fdata()\n",
    "    print(\"Input label shape: \", data_label.shape)\n",
    "    print(\"min: \", np.min(data_label), \"max: \", np.max(data_label))\n",
    "\n",
    "    save_patched_data(data_scan, affine, scan_base_path, idx, \"CT_HR\")\n",
    "    save_patched_data(data_label, affine, label_base_path, idx, \"CT_HR\")\n"
   ]
  },
  {
   "cell_type": "code",
   "execution_count": 50,
   "metadata": {},
   "outputs": [
    {
     "data": {
      "application/vnd.jupyter.widget-view+json": {
       "model_id": "9fae536d8f164bc88f3555a43101c927",
       "version_major": 2,
       "version_minor": 0
      },
      "text/plain": [
       "interactive(children=(IntSlider(value=0, description='Image', max=7), IntSlider(value=0, description='Slice', …"
      ]
     },
     "metadata": {},
     "output_type": "display_data"
    }
   ],
   "source": [
    "def load_and_resample_images(image_paths, new_spacing=(0.75, 0.75, 0.75), order=1):\n",
    "    resampled_images = []\n",
    "    for image_path in image_paths:\n",
    "        img = nib.load(image_path)\n",
    "        resampled_img = resample_to_output(img, new_spacing, order=order)\n",
    "        resampled_images.append(resampled_img)\n",
    "    return resampled_images\n",
    "\n",
    "def show_slice(image, slice_index):\n",
    "    plt.figure(figsize=(6, 6))\n",
    "    plt.imshow(image[:, :, slice_index], cmap='gray')\n",
    "    plt.axis('off')\n",
    "    plt.show()\n",
    "\n",
    "def interactive_viewer(resampled_images):\n",
    "    image_shape = resampled_images[0].shape\n",
    "    max_slices = image_shape[2]\n",
    "\n",
    "    def view_image(image_index, slice_index):\n",
    "        image = resampled_images[image_index].get_fdata()\n",
    "        show_slice(image, slice_index)\n",
    "\n",
    "    interact(view_image, \n",
    "             image_index=IntSlider(min=0, max=len(resampled_images)-1, step=1, description='Image'), \n",
    "             slice_index=IntSlider(min=0, max=max_slices-1, step=1, description='Slice'))\n",
    "\n",
    "train_images = ['../dataset/scan_patched_4/0_1_CT_HR.nii.gz', '../dataset/scan_patched_4/0_2_CT_HR.nii.gz',\n",
    "                '../dataset/scan_patched_4/0_3_CT_HR.nii.gz', '../dataset/scan_patched_4/0_4_CT_HR.nii.gz',\n",
    "                '../dataset/airways_patched_4/0_1_CT_HR.nii.gz', '../dataset/airways_patched_4/0_2_CT_HR.nii.gz',\n",
    "                '../dataset/airways_patched_4/0_3_CT_HR.nii.gz', '../dataset/airways_patched_4/0_4_CT_HR.nii.gz']\n",
    "\n",
    "resampled_images = load_and_resample_images(train_images)\n",
    "\n",
    "interactive_viewer(resampled_images)"
   ]
  },
  {
   "cell_type": "code",
   "execution_count": 37,
   "metadata": {},
   "outputs": [],
   "source": []
  }
 ],
 "metadata": {
  "kernelspec": {
   "display_name": "Python 3",
   "language": "python",
   "name": "python3"
  },
  "language_info": {
   "codemirror_mode": {
    "name": "ipython",
    "version": 3
   },
   "file_extension": ".py",
   "mimetype": "text/x-python",
   "name": "python",
   "nbconvert_exporter": "python",
   "pygments_lexer": "ipython3",
   "version": "3.10.12"
  }
 },
 "nbformat": 4,
 "nbformat_minor": 2
}
