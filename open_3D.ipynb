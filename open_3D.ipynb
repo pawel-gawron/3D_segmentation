{
 "cells": [
  {
   "cell_type": "code",
   "execution_count": 1,
   "metadata": {},
   "outputs": [
    {
     "name": "stdout",
     "output_type": "stream",
     "text": [
      "Jupyter environment detected. Enabling Open3D WebVisualizer.\n",
      "[Open3D INFO] WebRTC GUI backend enabled.\n",
      "[Open3D INFO] WebRTCWindowSystem: HTTP handshake server disabled.\n",
      "Saved AeroPath/1/1_CT_HR_label_airways.nii.gz as a NumPy array to 1_CT_HR_label_airways.npy\n"
     ]
    }
   ],
   "source": [
    "import open3d as o3d\n",
    "import numpy as np\n",
    "import SimpleITK as sitk\n",
    "from skimage import measure\n",
    "import matplotlib.pyplot as plt\n",
    "import nibabel as nib\n",
    "\n",
    "def npy_to_voxel_grid(npy_file, voxel_size=1.0):\n",
    "    # Load the .npy file\n",
    "    volume = np.load(npy_file)\n",
    "    \n",
    "    # Create a PointCloud from the non-zero voxels\n",
    "    points = np.argwhere(volume > 0)  # Get the indices of non-zero elements\n",
    "    point_cloud = o3d.geometry.PointCloud()\n",
    "    point_cloud.points = o3d.utility.Vector3dVector(points)\n",
    "\n",
    "    # Assign colors (uniform color in this case)\n",
    "    colors = np.tile([1, 0, 0], (len(points), 1))  # Repeat the color for each point\n",
    "    point_cloud.colors = o3d.utility.Vector3dVector(colors)\n",
    "\n",
    "    # Use create_from_point_cloud_within_bounds to generate a VoxelGrid\n",
    "    voxel_grid = o3d.geometry.VoxelGrid.create_from_point_cloud_within_bounds(\n",
    "        point_cloud,\n",
    "        voxel_size=voxel_size,\n",
    "        min_bound=[0, 0, 0],\n",
    "        max_bound=np.array(volume.shape) * voxel_size\n",
    "    )\n",
    "    \n",
    "    return voxel_grid\n",
    "\n",
    "def visualize(voxel_grid):\n",
    "    # Visualize the VoxelGrid\n",
    "    o3d.visualization.draw_geometries([voxel_grid])\n",
    "\n",
    "\n",
    "# Function to convert NIfTI to NumPy\n",
    "def save_nifti_as_numpy(nifti_path, output_path):\n",
    "    img = nib.load(nifti_path)\n",
    "    data = img.get_fdata()\n",
    "    np.save(output_path, data)\n",
    "    print(f\"Saved {nifti_path} as a NumPy array to {output_path}\")\n",
    "\n",
    "# Usage example:\n",
    "nii_file = 'AeroPath/1/1_CT_HR_label_airways.nii.gz'\n",
    "npy_file = '1_CT_HR_label_airways.npy'\n",
    "\n",
    "# Save and convert NIfTI to NumPy\n",
    "save_nifti_as_numpy(nii_file, npy_file)\n",
    "\n",
    "# Load NumPy array as a voxel grid and visualize\n",
    "voxel_grid = npy_to_voxel_grid(npy_file, voxel_size=1.0)\n",
    "visualize(voxel_grid)\n",
    "\n"
   ]
  },
  {
   "cell_type": "code",
   "execution_count": 18,
   "metadata": {},
   "outputs": [
    {
     "name": "stdout",
     "output_type": "stream",
     "text": [
      "Saved AeroPath/1/1_CT_HR_label_airways.nii.gz as a NumPy array to 1_CT_HR_label_airways.npy\n"
     ]
    }
   ],
   "source": []
  },
  {
   "cell_type": "code",
   "execution_count": 2,
   "metadata": {},
   "outputs": [
    {
     "ename": "FileNotFoundError",
     "evalue": "[Errno 2] No such file or directory: '1_CT_HR_label_airways.npy.npy'",
     "output_type": "error",
     "traceback": [
      "\u001b[0;31m---------------------------------------------------------------------------\u001b[0m",
      "\u001b[0;31mFileNotFoundError\u001b[0m                         Traceback (most recent call last)",
      "Cell \u001b[0;32mIn[2], line 1\u001b[0m\n\u001b[0;32m----> 1\u001b[0m volume \u001b[38;5;241m=\u001b[39m \u001b[43mnp\u001b[49m\u001b[38;5;241;43m.\u001b[39;49m\u001b[43mload\u001b[49m\u001b[43m(\u001b[49m\u001b[43mnpy_file\u001b[49m\u001b[43m \u001b[49m\u001b[38;5;241;43m+\u001b[39;49m\u001b[43m \u001b[49m\u001b[38;5;124;43m'\u001b[39;49m\u001b[38;5;124;43m.npy\u001b[39;49m\u001b[38;5;124;43m'\u001b[39;49m\u001b[43m)\u001b[49m\n\u001b[1;32m      2\u001b[0m volume\n",
      "File \u001b[0;32m~/RiSA_S3/3D_segmentation/.venv/lib/python3.10/site-packages/numpy/lib/npyio.py:427\u001b[0m, in \u001b[0;36mload\u001b[0;34m(file, mmap_mode, allow_pickle, fix_imports, encoding, max_header_size)\u001b[0m\n\u001b[1;32m    425\u001b[0m     own_fid \u001b[38;5;241m=\u001b[39m \u001b[38;5;28;01mFalse\u001b[39;00m\n\u001b[1;32m    426\u001b[0m \u001b[38;5;28;01melse\u001b[39;00m:\n\u001b[0;32m--> 427\u001b[0m     fid \u001b[38;5;241m=\u001b[39m stack\u001b[38;5;241m.\u001b[39menter_context(\u001b[38;5;28;43mopen\u001b[39;49m\u001b[43m(\u001b[49m\u001b[43mos_fspath\u001b[49m\u001b[43m(\u001b[49m\u001b[43mfile\u001b[49m\u001b[43m)\u001b[49m\u001b[43m,\u001b[49m\u001b[43m \u001b[49m\u001b[38;5;124;43m\"\u001b[39;49m\u001b[38;5;124;43mrb\u001b[39;49m\u001b[38;5;124;43m\"\u001b[39;49m\u001b[43m)\u001b[49m)\n\u001b[1;32m    428\u001b[0m     own_fid \u001b[38;5;241m=\u001b[39m \u001b[38;5;28;01mTrue\u001b[39;00m\n\u001b[1;32m    430\u001b[0m \u001b[38;5;66;03m# Code to distinguish from NumPy binary files and pickles.\u001b[39;00m\n",
      "\u001b[0;31mFileNotFoundError\u001b[0m: [Errno 2] No such file or directory: '1_CT_HR_label_airways.npy.npy'"
     ]
    }
   ],
   "source": [
    "volume = np.load(npy_file + '.npy')\n",
    "volume"
   ]
  },
  {
   "cell_type": "code",
   "execution_count": 11,
   "metadata": {},
   "outputs": [],
   "source": []
  },
  {
   "cell_type": "code",
   "execution_count": 34,
   "metadata": {},
   "outputs": [
    {
     "name": "stdout",
     "output_type": "stream",
     "text": [
      "Data max value: 1424\n",
      "Data min value: 0\n"
     ]
    }
   ],
   "source": [
    "volume = np.load(npy_file)\n",
    "print(\"Data max value:\", np.max(volume))\n",
    "print(\"Data min value:\", np.min(volume))"
   ]
  },
  {
   "cell_type": "code",
   "execution_count": 59,
   "metadata": {},
   "outputs": [
    {
     "name": "stdout",
     "output_type": "stream",
     "text": [
      "0\n",
      "1\n",
      "0.0023279109058218115\n"
     ]
    },
    {
     "data": {
      "image/png": "[encoded data removed]",
      "text/plain": [
       "<Figure size 640x480 with 1 Axes>"
      ]
     },
     "metadata": {},
     "output_type": "display_data"
    }
   ],
   "source": [
    "npy_file = \"/home/gasyna/RiSA_S3/3D_segmentation/3D_data_loader/dataset/airways/2_CT_HR_0_0_5.npy\"\n",
    "file = np.load(npy_file)\n",
    "\n",
    "\n",
    "print(file.min())\n",
    "print(file.max())\n",
    "print(file.mean())\n",
    "\n",
    "fig, ax = plt.subplots()\n",
    "im = ax.imshow(file[..., 30], cmap=\"gray\")\n",
    "\n",
    "plt.show()"
   ]
  },
  {
   "cell_type": "code",
   "execution_count": 60,
   "metadata": {},
   "outputs": [
    {
     "data": {
      "text/plain": [
       "array([[0, 0, 0, ..., 0, 0, 0],\n",
       "       [0, 0, 0, ..., 0, 0, 0],\n",
       "       [0, 0, 0, ..., 0, 0, 0],\n",
       "       ...,\n",
       "       [0, 0, 0, ..., 0, 0, 0],\n",
       "       [0, 0, 0, ..., 0, 0, 0],\n",
       "       [0, 0, 0, ..., 0, 0, 0]], dtype=int16)"
      ]
     },
     "execution_count": 60,
     "metadata": {},
     "output_type": "execute_result"
    }
   ],
   "source": [
    "\n",
    "file[..., 30]"
   ]
  },
  {
   "cell_type": "code",
   "execution_count": null,
   "metadata": {},
   "outputs": [],
   "source": [
    "file"
   ]
  }
 ],
 "metadata": {
  "kernelspec": {
   "display_name": ".venv",
   "language": "python",
   "name": "python3"
  },
  "language_info": {
   "codemirror_mode": {
    "name": "ipython",
    "version": 3
   },
   "file_extension": ".py",
   "mimetype": "text/x-python",
   "name": "python",
   "nbconvert_exporter": "python",
   "pygments_lexer": "ipython3",
   "version": "3.10.12"
  }
 },
 "nbformat": 4,
 "nbformat_minor": 2
}
