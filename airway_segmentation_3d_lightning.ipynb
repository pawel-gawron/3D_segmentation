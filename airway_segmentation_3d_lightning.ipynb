{
  "cells": [
    {
      "cell_type": "markdown",
      "metadata": {
        "id": "aTe3HtVqI0vM"
      },
      "source": [
        "## Setup environment"
      ]
    },
    {
      "cell_type": "code",
      "execution_count": null,
      "metadata": {
        "colab": {
          "base_uri": "https://localhost:8080/"
        },
        "id": "igaMSdU8I0vM",
        "outputId": "fbf973c9-5926-4875-cda6-903844ab9f9b"
      },
      "outputs": [],
      "source": [
        "!python -c \"import monai\" || pip install -q \"monai-weekly[nibabel]\"\n",
        "!python -c \"import matplotlib\" || pip install -q matplotlib\n",
        "!pip install -q pytorch-lightning~=2.0\n",
        "%matplotlib inline"
      ]
    },
    {
      "cell_type": "markdown",
      "metadata": {
        "id": "m7oM0xTwI0vN"
      },
      "source": [
        "## Setup imports"
      ]
    },
    {
      "cell_type": "code",
      "execution_count": 1,
      "metadata": {
        "id": "7HEKxFEKI0vN",
        "tags": []
      },
      "outputs": [
        {
          "name": "stdout",
          "output_type": "stream",
          "text": [
            "MONAI version: 1.3.2\n",
            "Numpy version: 1.26.4\n",
            "Pytorch version: 2.3.1+cu121\n",
            "MONAI flags: HAS_EXT = False, USE_COMPILED = False, USE_META_DICT = False\n",
            "MONAI rev id: 59a7211070538586369afd4a01eca0a7fe2e742e\n",
            "MONAI __file__: /home/<username>/Documents/RISA/3D_segmentation/.venv/lib/python3.10/site-packages/monai/__init__.py\n",
            "\n",
            "Optional dependencies:\n",
            "Pytorch Ignite version: NOT INSTALLED or UNKNOWN VERSION.\n",
            "ITK version: NOT INSTALLED or UNKNOWN VERSION.\n",
            "Nibabel version: 5.2.1\n",
            "scikit-image version: 0.24.0\n",
            "scipy version: 1.14.0\n",
            "Pillow version: 10.3.0\n",
            "Tensorboard version: 2.17.0\n",
            "gdown version: NOT INSTALLED or UNKNOWN VERSION.\n",
            "TorchVision version: NOT INSTALLED or UNKNOWN VERSION.\n",
            "tqdm version: 4.66.4\n",
            "lmdb version: NOT INSTALLED or UNKNOWN VERSION.\n",
            "psutil version: 6.0.0\n",
            "pandas version: 2.2.2\n",
            "einops version: 0.8.0\n",
            "transformers version: NOT INSTALLED or UNKNOWN VERSION.\n",
            "mlflow version: NOT INSTALLED or UNKNOWN VERSION.\n",
            "pynrrd version: NOT INSTALLED or UNKNOWN VERSION.\n",
            "clearml version: NOT INSTALLED or UNKNOWN VERSION.\n",
            "\n",
            "For details about installing the optional dependencies, please visit:\n",
            "    https://docs.monai.io/en/latest/installation.html#installing-the-recommended-dependencies\n",
            "\n"
          ]
        }
      ],
      "source": [
        "import pytorch_lightning\n",
        "from pytorch_lightning.callbacks import ModelCheckpoint\n",
        "from monai.utils import set_determinism\n",
        "from monai.transforms import (\n",
        "AsDiscrete,\n",
        "EnsureChannelFirstd,\n",
        "Compose,\n",
        "CropForegroundd,\n",
        "LoadImaged,\n",
        "Orientationd,\n",
        "RandCropByPosNegLabeld,\n",
        "ScaleIntensityRanged,\n",
        "Spacingd,\n",
        "EnsureType,\n",
        "EnsureTyped,\n",
        "Resized,\n",
        "RandAdjustContrastd, \n",
        "RandFlipd, \n",
        "RandAffined, \n",
        "RandAdjustContrastd\n",
        "\n",
        ")\n",
        "from monai.networks.nets import UNet, UNETR\n",
        "from monai.networks.layers import Norm\n",
        "from monai.metrics import DiceMetric\n",
        "from monai.losses import DiceLoss\n",
        "from monai.inferers import sliding_window_inference\n",
        "from monai.data import CacheDataset, list_data_collate, decollate_batch, DataLoader\n",
        "from monai.config import print_config\n",
        "from monai.apps import download_and_extract\n",
        "import torch\n",
        "import matplotlib.pyplot as plt\n",
        "import tempfile\n",
        "import shutil\n",
        "import os\n",
        "import glob\n",
        "import nibabel as nib\n",
        "import numpy as np\n",
        "from natsort import natsorted\n",
        "from sklearn.model_selection import KFold\n",
        "from sklearn.metrics import jaccard_score\n",
        "from neptune.utils import stringify_unsupported\n",
        "\n",
        "from dotenv import dotenv_values\n",
        "\n",
        "\n",
        "print_config()"
      ]
    },
    {
      "cell_type": "markdown",
      "metadata": {
        "id": "UzzE3GGNI0vO"
      },
      "source": [
        "## Setup data directory\n",
        "\n",
        "You can specify a directory with the `MONAI_DATA_DIRECTORY` environment variable.  \n",
        "This allows you to save results and reuse downloads.  \n",
        "If not specified a temporary directory will be used."
      ]
    },
    {
      "cell_type": "code",
      "execution_count": 2,
      "metadata": {
        "id": "1f_XjbPrI0vO",
        "tags": []
      },
      "outputs": [
        {
          "name": "stdout",
          "output_type": "stream",
          "text": [
            "/tmp/tmpdkfmk8ll\n"
          ]
        }
      ],
      "source": [
        "directory = os.environ.get(\"MONAI_DATA_DIRECTORY\")\n",
        "root_dir = tempfile.mkdtemp() if directory is None else directory\n",
        "print(root_dir)"
      ]
    },
    {
      "cell_type": "code",
      "execution_count": 3,
      "metadata": {},
      "outputs": [],
      "source": [
        "data_dir = os.path.join(os.getcwd(), 'AeroPath')"
      ]
    },
    {
      "cell_type": "markdown",
      "metadata": {
        "id": "8YTzgAPbI0vP"
      },
      "source": [
        "## Download dataset\n",
        "\n",
        "Downloads and extracts the dataset"
      ]
    },
    {
      "cell_type": "code",
      "execution_count": 6,
      "metadata": {},
      "outputs": [],
      "source": [
        "resource = \"https://zenodo.org/records/10069289/files/AeroPath.zip?download=1\"\n",
        "md5 = \"3fd5106c175c85d60eaece220f5dfd87\"\n",
        "\n",
        "compressed_file = os.path.join(root_dir, \"AeroPath.zip\")\n",
        "if not os.path.exists(data_dir):\n",
        "    download_and_extract(resource, compressed_file, root_dir, md5)"
      ]
    },
    {
      "cell_type": "code",
      "execution_count": 4,
      "metadata": {},
      "outputs": [],
      "source": [
        "# segment_name = \"left_upper\"\n",
        "# segment_name = \"right_upper\"\n",
        "# segment_name = \"right_bottom\"\n",
        "# segment_name = \"left_bottom\"\n",
        "segment_name = \"whole\"\n",
        "# segment_name = \"2Q\""
      ]
    },
    {
      "cell_type": "markdown",
      "metadata": {},
      "source": [
        "## Neptune logger"
      ]
    },
    {
      "cell_type": "code",
      "execution_count": 27,
      "metadata": {},
      "outputs": [],
      "source": [
        "keys = dotenv_values(\".env\")\n",
        "api_key = keys[\"API_KEY\"]\n",
        "\n",
        "neptune_logger = pytorch_lightning.loggers.NeptuneLogger(\n",
        "    project=\"aeropath-workspace/airways-model\",\n",
        "    api_key=api_key,\n",
        "    tags=['aeropath', 'airways', 'monai', segment_name],\n",
        "    name='airways-training'\n",
        ")"
      ]
    },
    {
      "cell_type": "code",
      "execution_count": 28,
      "metadata": {},
      "outputs": [],
      "source": [
        "checkpoint_callback = ModelCheckpoint(\n",
        "    monitor='val_dice',\n",
        "    dirpath=os.path.join(data_dir, 'checkpoints'),  # Directory to save checkpoints\n",
        "    filename=segment_name + '_{epoch:02d}-{val_dice:.4f}',  # Filename prefix for saving checkpoints\n",
        "    save_top_k=1,  # Save only the best checkpoint\n",
        "    mode='max',  # `min` for minimizing the metric, `max` for maximizing\n",
        "    verbose=True,  # Log a message when saving the best checkpoint\n",
        ")"
      ]
    },
    {
      "cell_type": "markdown",
      "metadata": {
        "id": "zSQVxGHhI0vQ"
      },
      "source": [
        "## Define the LightningModule\n",
        "\n",
        "The LightningModule contains a refactoring of your training code. The following module is a refactoring of the code in `spleen_segmentation_3d.ipynb`:"
      ]
    },
    {
      "cell_type": "code",
      "execution_count": 31,
      "metadata": {
        "id": "Y1-m7FfcI0vQ"
      },
      "outputs": [],
      "source": [
        "parameters = {\n",
        "    'spatial_dims': 3,\n",
        "    'in_channels': 1,\n",
        "    'out_channels': 2,\n",
        "    'channels': (16, 32, 64, 128, 256),\n",
        "    'strides': (2, 2, 2, 2),\n",
        "    'num_res_units': 2,\n",
        "    'norm': Norm.BATCH\n",
        "}\n",
        "\n",
        "\n",
        "class UNetClass(pytorch_lightning.LightningModule):\n",
        "    def __init__(self, mode, roi_size, spatial_size):\n",
        "        super().__init__()\n",
        "        self._model = UNet(**parameters)\n",
        "        self.loss_function = DiceLoss(to_onehot_y=True, softmax=True)\n",
        "        self.post_pred = Compose([EnsureType(\"tensor\", device=\"cpu\"), AsDiscrete(argmax=True, to_onehot=2)])\n",
        "        self.post_label = Compose([EnsureType(\"tensor\", device=\"cpu\"), AsDiscrete(to_onehot=2)])\n",
        "        self.dice_metric = DiceMetric(include_background=False, reduction=\"mean\", get_not_nans=False)\n",
        "        self.best_val_dice = 0\n",
        "        self.best_val_epoch = 0\n",
        "        self.validation_step_outputs = []\n",
        "\n",
        "        self.mode = mode\n",
        "        self.roi_size = roi_size\n",
        "        self.spatial_size = spatial_size\n",
        "\n",
        "    def forward(self, x):\n",
        "        return self._model(x)\n",
        "\n",
        "    def prepare_data(self, prepare_val_data=True, prepare_test_data=True):\n",
        "        # # set up the correct data path\n",
        "        def get_patterns(mode):\n",
        "            patterns = {\n",
        "                'whole': ('AeroPath/**/*_CT_HR_label_airways.nii.gz', 'AeroPath/**/*_CT_HR.nii.gz'),\n",
        "                '1Q': ('nonoverlapping_labels/**/quadrant_1_*.nii.gz', 'nonoverlapping_quadrants/**/quadrant_1_*_CT_HR.nii.gz'),\n",
        "                '2Q': ('nonoverlapping_labels/**/quadrant_2_*.nii.gz', 'nonoverlapping_quadrants/**/quadrant_2_*_CT_HR.nii.gz'),\n",
        "                'left_bottom': ('dataset/airways_patched_4/**/*left_bottom_*.nii.gz', 'dataset/scan_patched_4/**/*left_bottom_*.nii.gz'),\n",
        "                'left_upper': ('dataset/airways_patched_4/**/*left_upper_*.nii.gz', 'dataset/scan_patched_4/**/*left_upper_*.nii.gz'),\n",
        "                'right_bottom': ('dataset/airways_patched_4/**/*right_bottom_*.nii.gz', 'dataset/scan_patched_4/**/*right_bottom_*.nii.gz'),\n",
        "                'right_upper': ('dataset/airways_patched_4/**/*right_upper_*.nii.gz', 'dataset/scan_patched_4/**/*right_upper_*.nii.gz')\n",
        "            }\n",
        "            return patterns.get(mode, (None, None))\n",
        "\n",
        "        pattern_labels, pattern_images = get_patterns(self.mode)\n",
        "        if pattern_labels and pattern_images:\n",
        "            train_labels = sorted(glob.glob(pattern_labels, recursive=True))\n",
        "            train_images = sorted(glob.glob(pattern_images, recursive=True))\n",
        "\n",
        "        data_dicts = [\n",
        "            {\"image\": image_name, \"label\": label_name} for image_name, label_name in zip(train_images, train_labels)\n",
        "        ]\n",
        "        train_files, val_files = data_dicts[:-9], data_dicts[-9:]\n",
        "\n",
        "        # set deterministic training for reproducibility\n",
        "        set_determinism(seed=0)\n",
        "\n",
        "        # define the data transforms\n",
        "        train_transforms = Compose(\n",
        "            [\n",
        "                LoadImaged(keys=[\"image\", \"label\"]),\n",
        "                EnsureChannelFirstd(keys=[\"image\", \"label\"]),\n",
        "                Orientationd(keys=[\"image\", \"label\"], axcodes=\"RAS\"),\n",
        "                Spacingd(\n",
        "                    keys=[\"image\", \"label\"],\n",
        "                    # pixdim=(1.5, 1.5, 2.0),\n",
        "                    pixdim=(1.0, 1.0, 1.35),\n",
        "                    mode=(\"bilinear\", \"nearest\"),\n",
        "                ),\n",
        "                ScaleIntensityRanged(\n",
        "                    keys=[\"image\"],\n",
        "                    a_min=-1024,\n",
        "                    a_max=1024,\n",
        "                    b_min=0.0,\n",
        "                    b_max=1.0,\n",
        "                    clip=True,\n",
        "                ),\n",
        "                CropForegroundd(keys=[\"image\", \"label\"], source_key=\"image\"),\n",
        "                # Resized(keys=[\"image\", \"label\"], spatial_size=self.spatial_size),\n",
        "                # randomly crop out patch samples from\n",
        "                # big image based on pos / neg ratio\n",
        "                # the image centers of negative samples\n",
        "                # must be in valid image area\n",
        "                RandCropByPosNegLabeld(\n",
        "                    keys=[\"image\", \"label\"],\n",
        "                    label_key=\"label\",\n",
        "                    spatial_size=(64, 64, 64),\n",
        "                    pos=1,\n",
        "                    neg=1,\n",
        "                    num_samples=4,\n",
        "                    image_key=\"image\",\n",
        "                    image_threshold=0,\n",
        "                ),\n",
        "\n",
        "                # user can also add other random transforms\n",
        "                #                 RandAffined(\n",
        "                #                     keys=['image', 'label'],\n",
        "                #                     mode=('bilinear', 'nearest'),\n",
        "                #                     prob=1.0,\n",
        "                #                     spatial_size=(96, 96, 96),\n",
        "                #                     rotate_range=(0, 0, np.pi/15),\n",
        "                #                     scale_range=(0.1, 0.1, 0.1)),\n",
        "                # Adding the data augmentation transforms with a probability of 50%\n",
        "                # RandFlipd(\n",
        "                #     keys=[\"image\", \"label\"],\n",
        "                #     spatial_axis=[0],  # Horizontal flip\n",
        "                #     prob=0.5\n",
        "                # ),\n",
        "                # RandFlipd(\n",
        "                #     keys=[\"image\", \"label\"],\n",
        "                #     spatial_axis=[1],  # Vertical flip\n",
        "                #     prob=0.5\n",
        "                # ),\n",
        "                # RandAffined(\n",
        "                #     keys=[\"image\", \"label\"],\n",
        "                #     prob=0.5,\n",
        "                #     rotate_range=(np.deg2rad(20), np.deg2rad(20), np.deg2rad(20)),\n",
        "                #     translate_range=(0.2, 0.2, 0.2),\n",
        "                #     scale_range=(0.5, 1.5),\n",
        "                #     mode=('bilinear', 'nearest')\n",
        "                # ),\n",
        "                RandAdjustContrastd(\n",
        "                    keys=[\"image\"],\n",
        "                    gamma=(0.5, 2.0),\n",
        "                    prob=0.0\n",
        "                ),\n",
        "                EnsureTyped(keys=[\"image\", \"label\"]),\n",
        "            ]\n",
        "        )\n",
        "        val_transforms = Compose(\n",
        "            [\n",
        "                LoadImaged(keys=[\"image\", \"label\"]),\n",
        "                EnsureChannelFirstd(keys=[\"image\", \"label\"]),\n",
        "                Orientationd(keys=[\"image\", \"label\"], axcodes=\"RAS\"),\n",
        "                Spacingd(\n",
        "                    keys=[\"image\", \"label\"],\n",
        "                    # pixdim=(1.5, 1.5, 2.0),\n",
        "                    pixdim=(1.0, 1.0, 1.35),\n",
        "                    mode=(\"bilinear\", \"nearest\"),\n",
        "                ),\n",
        "                ScaleIntensityRanged(\n",
        "                    keys=[\"image\"],\n",
        "                    a_min=-1024,\n",
        "                    a_max=1024,\n",
        "                    b_min=0.0,\n",
        "                    b_max=1.0,\n",
        "                    clip=True,\n",
        "                ),\n",
        "                # Resized(keys=[\"image\", \"label\"], spatial_size=self.spatial_size),\n",
        "                CropForegroundd(keys=[\"image\", \"label\"], source_key=\"image\"),\n",
        "            ]\n",
        "        )\n",
        "                    \n",
        "\n",
        "        # we use cached datasets - these are 10x faster than regular datasets\n",
        "        if prepare_test_data:\n",
        "            self.train_ds = CacheDataset(\n",
        "                data=train_files,\n",
        "                transform=train_transforms,\n",
        "                cache_rate=1.0,\n",
        "                num_workers=4,\n",
        "            )\n",
        "        if prepare_val_data:\n",
        "            self.val_ds = CacheDataset(\n",
        "                data=val_files,\n",
        "                transform=val_transforms,\n",
        "                cache_rate=1.0,\n",
        "                num_workers=4,\n",
        "            )\n",
        "\n",
        "\n",
        "    def train_dataloader(self):\n",
        "        train_loader = DataLoader(\n",
        "            self.train_ds,\n",
        "            batch_size=4,\n",
        "            shuffle=True,\n",
        "            num_workers=4,\n",
        "            collate_fn=list_data_collate,\n",
        "        )\n",
        "        return train_loader\n",
        "\n",
        "    def val_dataloader(self):\n",
        "        val_loader = DataLoader(self.val_ds, batch_size=1, num_workers=4)\n",
        "        return val_loader\n",
        "\n",
        "    def configure_optimizers(self):\n",
        "        optimizer = torch.optim.Adam(self._model.parameters(), 1e-4)\n",
        "        return optimizer\n",
        "\n",
        "    def training_step(self, batch, batch_idx):\n",
        "        images, labels = batch[\"image\"], batch[\"label\"]\n",
        "        output = self.forward(images)\n",
        "        loss = self.loss_function(output, labels)\n",
        "        tensorboard_logs = {\"train_loss\": loss.item()}\n",
        "        self.log('train_loss', loss, on_step=False, on_epoch=True, prog_bar=False, logger=True)\n",
        "        return {\"loss\": loss, \"log\": tensorboard_logs}\n",
        "\n",
        "    \n",
        "    def validation_step(self, batch, batch_idx):\n",
        "        images, labels = batch[\"image\"], batch[\"label\"]\n",
        "        roi_size = self.roi_size\n",
        "        sw_batch_size = 4\n",
        "        outputs = sliding_window_inference(images, roi_size, sw_batch_size, self)\n",
        "        loss = self.loss_function(outputs, labels)\n",
        "        outputs = [self.post_pred(i) for i in decollate_batch(outputs)]\n",
        "        labels = [self.post_label(i) for i in decollate_batch(labels)]\n",
        "        self.dice_metric(y_pred=outputs, y=labels)\n",
        "\n",
        "        outputs_np = [output.argmax(dim=0).cpu().numpy() for output in outputs]\n",
        "        labels_np = [label.argmax(dim=0).cpu().numpy() for label in labels]\n",
        "        iou = np.mean([jaccard_score(ln.flatten(), on.flatten(), average='macro') for ln, on in zip(labels_np, outputs_np)])\n",
        "\n",
        "        d = {\"val_loss\": loss, \"val_number\": len(outputs), \"iou\": iou}\n",
        "        self.validation_step_outputs.append(d)\n",
        "        return d\n",
        "    \n",
        "\n",
        "    \n",
        "    def perform_inference(self, model, data):\n",
        "        # Perform inference using the model\n",
        "        with torch.no_grad():\n",
        "            data = torch.DoubleTensor(data)  # Convert data to type Double\n",
        "            model_output = model(data.unsqueeze(0))\n",
        "        return model_output\n",
        "\n",
        "    def on_validation_epoch_end(self):\n",
        "        val_loss, num_items, total_iou = 0, 0, 0\n",
        "        for output in self.validation_step_outputs:\n",
        "            val_loss += output[\"val_loss\"].sum().item()\n",
        "            num_items += output[\"val_number\"]\n",
        "            total_iou += output[\"iou\"] * output[\"val_number\"]\n",
        "        mean_val_dice = self.dice_metric.aggregate().item()\n",
        "        mean_val_iou = total_iou / num_items\n",
        "        self.dice_metric.reset()\n",
        "        mean_val_loss = torch.tensor(val_loss / num_items)\n",
        "        tensorboard_logs = {\n",
        "            \"val_dice\": mean_val_dice,\n",
        "            \"val_loss\": mean_val_loss,\n",
        "            \"val_iou\": mean_val_iou,\n",
        "        }\n",
        "        if mean_val_dice > self.best_val_dice:\n",
        "            self.best_val_dice = mean_val_dice\n",
        "            self.best_val_epoch = self.current_epoch\n",
        "        print(\n",
        "            f\"current epoch: {self.current_epoch} \"\n",
        "            f\"current mean dice: {mean_val_dice:.4f} \"\n",
        "            f\"current mean iou: {mean_val_iou:.4f}\"\n",
        "            f\"\\nbest mean dice: {self.best_val_dice:.4f} \"\n",
        "            f\"at epoch: {self.best_val_epoch}\"\n",
        "        )\n",
        "        self.validation_step_outputs.clear()  # free memory\n",
        "        self.log('val_dice', mean_val_dice, on_step=False, on_epoch=True, prog_bar=True, logger=True)\n",
        "        self.log('val_loss', mean_val_loss, on_step=False, on_epoch=True, prog_bar=False, logger=True)\n",
        "        self.log('val_iou', mean_val_iou, on_step=False, on_epoch=True, prog_bar=False, logger=True)\n",
        "\n",
        "        return {\"log\": tensorboard_logs}\n",
        "    \n",
        "    \n",
        "    def dice_score(self, prediction_tensor, label_tensor):\n",
        "        # Compute Dice score\n",
        "        dice_metric = DiceMetric(include_background=True, reduction=\"mean\")\n",
        "        dice_metric(y_pred=prediction_tensor, y=label_tensor)\n",
        "        dice_score = dice_metric.aggregate().item()\n",
        "        dice_metric.reset()\n",
        "\n",
        "        print(dice_score)"
      ]
    },
    {
      "cell_type": "code",
      "execution_count": 32,
      "metadata": {},
      "outputs": [],
      "source": [
        "Net_segment       = UNetClass(mode = segment_name,       roi_size=(160*2, 160, 160),   spatial_size=(160*2, 160, 160))\n",
        "NetWhole          = UNetClass(mode = 'whole',            roi_size=(128, 128, 144),   spatial_size=(128, 128, 144))\n",
        "Net1Q             = UNetClass(mode = '1Q',               roi_size=(160*2, 160, 160), spatial_size=(160*2, 160, 160))\n",
        "Net2Q             = UNetClass(mode = '2Q',               roi_size=(160*2, 160, 160), spatial_size=(160*2, 160, 160))\n",
        "\n",
        "# NetWhole    = UNetClass(mode = 'whole', roi_size=(192, 192, 212),   spatial_size=(192, 192, 212))"
      ]
    },
    {
      "cell_type": "markdown",
      "metadata": {},
      "source": [
        "## Log model parameters"
      ]
    },
    {
      "cell_type": "code",
      "execution_count": 33,
      "metadata": {},
      "outputs": [
        {
          "name": "stdout",
          "output_type": "stream",
          "text": [
            "[neptune] [info   ] Neptune initialized. Open in the app: https://app.neptune.ai/aeropath-workspace/airways-model/e/AIR-89\n"
          ]
        }
      ],
      "source": [
        "neptune_logger.experiment[\"model/parameters\"] = stringify_unsupported(parameters)"
      ]
    },
    {
      "cell_type": "markdown",
      "metadata": {
        "id": "xSVCubC2I0vR"
      },
      "source": [
        "## Run the training"
      ]
    },
    {
      "cell_type": "code",
      "execution_count": 34,
      "metadata": {
        "id": "Y8BpsB6sI0vR",
        "scrolled": false,
        "tags": []
      },
      "outputs": [
        {
          "name": "stderr",
          "output_type": "stream",
          "text": [
            "GPU available: True (cuda), used: True\n",
            "TPU available: False, using: 0 TPU cores\n",
            "HPU available: False, using: 0 HPUs\n",
            "/home/pawel/Documents/RISA/3D_segmentation/.venv/lib/python3.10/site-packages/monai/utils/deprecate_utils.py:321: FutureWarning: monai.transforms.croppad.dictionary CropForegroundd.__init__:allow_smaller: Current default value of argument `allow_smaller=True` has been deprecated since version 1.2. It will be changed to `allow_smaller=False` in version 1.5.\n",
            "  warn_deprecated(argname, msg, warning_category)\n",
            "Loading dataset: 100%|██████████| 18/18 [01:16<00:00,  4.25s/it]\n",
            "Loading dataset: 100%|██████████| 9/9 [00:37<00:00,  4.19s/it]\n",
            "/home/pawel/Documents/RISA/3D_segmentation/.venv/lib/python3.10/site-packages/pytorch_lightning/callbacks/model_checkpoint.py:652: Checkpoint directory /home/pawel/Documents/RISA/3D_segmentation/AeroPath/checkpoints exists and is not empty.\n",
            "LOCAL_RANK: 0 - CUDA_VISIBLE_DEVICES: [0]\n",
            "\n",
            "  | Name          | Type     | Params | Mode \n",
            "---------------------------------------------------\n",
            "0 | _model        | UNet     | 4.8 M  | train\n",
            "1 | loss_function | DiceLoss | 0      | train\n",
            "---------------------------------------------------\n",
            "4.8 M     Trainable params\n",
            "0         Non-trainable params\n",
            "4.8 M     Total params\n",
            "19.236    Total estimated model params size (MB)\n"
          ]
        },
        {
          "data": {
            "application/vnd.jupyter.widget-view+json": {
              "model_id": "29f6add05c084c198ae213fbc0967f36",
              "version_major": 2,
              "version_minor": 0
            },
            "text/plain": [
              "Sanity Checking: |          | 0/? [00:00<?, ?it/s]"
            ]
          },
          "metadata": {},
          "output_type": "display_data"
        },
        {
          "name": "stdout",
          "output_type": "stream",
          "text": [
            "current epoch: 0 current mean dice: 0.0024 current mean iou: 0.3880\n",
            "best mean dice: 0.0024 at epoch: 0\n"
          ]
        },
        {
          "name": "stderr",
          "output_type": "stream",
          "text": [
            "/home/pawel/Documents/RISA/3D_segmentation/.venv/lib/python3.10/site-packages/pytorch_lightning/loops/fit_loop.py:298: The number of training batches (5) is smaller than the logging interval Trainer(log_every_n_steps=16). Set a lower value for log_every_n_steps if you want to see logs for the training epoch.\n"
          ]
        },
        {
          "data": {
            "application/vnd.jupyter.widget-view+json": {
              "model_id": "c44917e57c41457988d868265d81ae48",
              "version_major": 2,
              "version_minor": 0
            },
            "text/plain": [
              "Training: |          | 0/? [00:00<?, ?it/s]"
            ]
          },
          "metadata": {},
          "output_type": "display_data"
        },
        {
          "data": {
            "application/vnd.jupyter.widget-view+json": {
              "model_id": "98032b48c40d4042b1471c6f58a36e78",
              "version_major": 2,
              "version_minor": 0
            },
            "text/plain": [
              "Validation: |          | 0/? [00:00<?, ?it/s]"
            ]
          },
          "metadata": {},
          "output_type": "display_data"
        },
        {
          "name": "stderr",
          "output_type": "stream",
          "text": [
            "Epoch 0, global step 5: 'val_dice' reached 0.00232 (best 0.00232), saving model to '/home/pawel/Documents/RISA/3D_segmentation/AeroPath/checkpoints/whole_epoch=00-val_dice=0.0023.ckpt' as top 1\n"
          ]
        },
        {
          "name": "stdout",
          "output_type": "stream",
          "text": [
            "current epoch: 0 current mean dice: 0.0023 current mean iou: 0.3521\n",
            "best mean dice: 0.0024 at epoch: 0\n",
            "[neptune] [error  ] Error occurred during asynchronous operation processing: X-coordinates (step) must be strictly increasing for series attribute: training/epoch. Invalid point: 4.0\n"
          ]
        },
        {
          "data": {
            "application/vnd.jupyter.widget-view+json": {
              "model_id": "f50f751b21b24202a2bd6a5a43535419",
              "version_major": 2,
              "version_minor": 0
            },
            "text/plain": [
              "Validation: |          | 0/? [00:00<?, ?it/s]"
            ]
          },
          "metadata": {},
          "output_type": "display_data"
        },
        {
          "name": "stderr",
          "output_type": "stream",
          "text": [
            "Epoch 1, global step 10: 'val_dice' reached 0.00238 (best 0.00238), saving model to '/home/pawel/Documents/RISA/3D_segmentation/AeroPath/checkpoints/whole_epoch=01-val_dice=0.0024.ckpt' as top 1\n"
          ]
        },
        {
          "name": "stdout",
          "output_type": "stream",
          "text": [
            "current epoch: 1 current mean dice: 0.0024 current mean iou: 0.2730\n",
            "best mean dice: 0.0024 at epoch: 0\n",
            "[neptune] [error  ] Error occurred during asynchronous operation processing: X-coordinates (step) must be strictly increasing for series attribute: training/epoch. Invalid point: 9.0\n"
          ]
        },
        {
          "data": {
            "application/vnd.jupyter.widget-view+json": {
              "model_id": "ad6757bc456c42ad8b68d688065a525f",
              "version_major": 2,
              "version_minor": 0
            },
            "text/plain": [
              "Validation: |          | 0/? [00:00<?, ?it/s]"
            ]
          },
          "metadata": {},
          "output_type": "display_data"
        },
        {
          "name": "stderr",
          "output_type": "stream",
          "text": [
            "Epoch 2, global step 15: 'val_dice' reached 0.00243 (best 0.00243), saving model to '/home/pawel/Documents/RISA/3D_segmentation/AeroPath/checkpoints/whole_epoch=02-val_dice=0.0024.ckpt' as top 1\n"
          ]
        },
        {
          "name": "stdout",
          "output_type": "stream",
          "text": [
            "current epoch: 2 current mean dice: 0.0024 current mean iou: 0.2712\n",
            "best mean dice: 0.0024 at epoch: 2\n",
            "[neptune] [error  ] Error occurred during asynchronous operation processing: X-coordinates (step) must be strictly increasing for series attribute: training/epoch. Invalid point: 14.0\n"
          ]
        },
        {
          "data": {
            "application/vnd.jupyter.widget-view+json": {
              "model_id": "b5ad8c8a62bb42febb59c0735ff9717c",
              "version_major": 2,
              "version_minor": 0
            },
            "text/plain": [
              "Validation: |          | 0/? [00:00<?, ?it/s]"
            ]
          },
          "metadata": {},
          "output_type": "display_data"
        },
        {
          "name": "stderr",
          "output_type": "stream",
          "text": [
            "Epoch 3, global step 20: 'val_dice' reached 0.00247 (best 0.00247), saving model to '/home/pawel/Documents/RISA/3D_segmentation/AeroPath/checkpoints/whole_epoch=03-val_dice=0.0025.ckpt' as top 1\n"
          ]
        },
        {
          "name": "stdout",
          "output_type": "stream",
          "text": [
            "current epoch: 3 current mean dice: 0.0025 current mean iou: 0.2911\n",
            "best mean dice: 0.0025 at epoch: 3\n",
            "[neptune] [error  ] Error occurred during asynchronous operation processing: X-coordinates (step) must be strictly increasing for series attribute: training/epoch. Invalid point: 19.0\n"
          ]
        },
        {
          "data": {
            "application/vnd.jupyter.widget-view+json": {
              "model_id": "853a140d7c7f4e78ba4e4ae577bf43fa",
              "version_major": 2,
              "version_minor": 0
            },
            "text/plain": [
              "Validation: |          | 0/? [00:00<?, ?it/s]"
            ]
          },
          "metadata": {},
          "output_type": "display_data"
        },
        {
          "name": "stderr",
          "output_type": "stream",
          "text": [
            "Epoch 4, global step 25: 'val_dice' reached 0.00260 (best 0.00260), saving model to '/home/pawel/Documents/RISA/3D_segmentation/AeroPath/checkpoints/whole_epoch=04-val_dice=0.0026.ckpt' as top 1\n"
          ]
        },
        {
          "name": "stdout",
          "output_type": "stream",
          "text": [
            "current epoch: 4 current mean dice: 0.0026 current mean iou: 0.3133\n",
            "best mean dice: 0.0026 at epoch: 4\n",
            "[neptune] [error  ] Error occurred during asynchronous operation processing: X-coordinates (step) must be strictly increasing for series attribute: training/epoch. Invalid point: 24.0\n"
          ]
        },
        {
          "data": {
            "application/vnd.jupyter.widget-view+json": {
              "model_id": "1794613e3613486dbdd445b3055463dd",
              "version_major": 2,
              "version_minor": 0
            },
            "text/plain": [
              "Validation: |          | 0/? [00:00<?, ?it/s]"
            ]
          },
          "metadata": {},
          "output_type": "display_data"
        },
        {
          "name": "stderr",
          "output_type": "stream",
          "text": [
            "Epoch 5, global step 30: 'val_dice' reached 0.00279 (best 0.00279), saving model to '/home/pawel/Documents/RISA/3D_segmentation/AeroPath/checkpoints/whole_epoch=05-val_dice=0.0028.ckpt' as top 1\n"
          ]
        },
        {
          "name": "stdout",
          "output_type": "stream",
          "text": [
            "current epoch: 5 current mean dice: 0.0028 current mean iou: 0.3279\n",
            "best mean dice: 0.0028 at epoch: 5\n",
            "[neptune] [error  ] Error occurred during asynchronous operation processing: X-coordinates (step) must be strictly increasing for series attribute: training/epoch. Invalid point: 29.0\n"
          ]
        },
        {
          "data": {
            "application/vnd.jupyter.widget-view+json": {
              "model_id": "7c4fae88cfd74c5f9b8b9ccbb1808d4a",
              "version_major": 2,
              "version_minor": 0
            },
            "text/plain": [
              "Validation: |          | 0/? [00:00<?, ?it/s]"
            ]
          },
          "metadata": {},
          "output_type": "display_data"
        },
        {
          "name": "stderr",
          "output_type": "stream",
          "text": [
            "Epoch 6, global step 35: 'val_dice' reached 0.00309 (best 0.00309), saving model to '/home/pawel/Documents/RISA/3D_segmentation/AeroPath/checkpoints/whole_epoch=06-val_dice=0.0031.ckpt' as top 1\n"
          ]
        },
        {
          "name": "stdout",
          "output_type": "stream",
          "text": [
            "current epoch: 6 current mean dice: 0.0031 current mean iou: 0.3343\n",
            "best mean dice: 0.0031 at epoch: 6\n",
            "[neptune] [error  ] Error occurred during asynchronous operation processing: X-coordinates (step) must be strictly increasing for series attribute: training/epoch. Invalid point: 34.0\n"
          ]
        },
        {
          "data": {
            "application/vnd.jupyter.widget-view+json": {
              "model_id": "e08cf8fc5e7e4822a7d5cfc38e749da1",
              "version_major": 2,
              "version_minor": 0
            },
            "text/plain": [
              "Validation: |          | 0/? [00:00<?, ?it/s]"
            ]
          },
          "metadata": {},
          "output_type": "display_data"
        },
        {
          "name": "stderr",
          "output_type": "stream",
          "text": [
            "Epoch 7, global step 40: 'val_dice' reached 0.00374 (best 0.00374), saving model to '/home/pawel/Documents/RISA/3D_segmentation/AeroPath/checkpoints/whole_epoch=07-val_dice=0.0037.ckpt' as top 1\n"
          ]
        },
        {
          "name": "stdout",
          "output_type": "stream",
          "text": [
            "current epoch: 7 current mean dice: 0.0037 current mean iou: 0.3421\n",
            "best mean dice: 0.0037 at epoch: 7\n",
            "[neptune] [error  ] Error occurred during asynchronous operation processing: X-coordinates (step) must be strictly increasing for series attribute: training/epoch. Invalid point: 39.0\n"
          ]
        },
        {
          "data": {
            "application/vnd.jupyter.widget-view+json": {
              "model_id": "60696a3b011b45fdb0040fc36e3e50a9",
              "version_major": 2,
              "version_minor": 0
            },
            "text/plain": [
              "Validation: |          | 0/? [00:00<?, ?it/s]"
            ]
          },
          "metadata": {},
          "output_type": "display_data"
        },
        {
          "name": "stderr",
          "output_type": "stream",
          "text": [
            "Epoch 8, global step 45: 'val_dice' reached 0.00461 (best 0.00461), saving model to '/home/pawel/Documents/RISA/3D_segmentation/AeroPath/checkpoints/whole_epoch=08-val_dice=0.0046.ckpt' as top 1\n"
          ]
        },
        {
          "name": "stdout",
          "output_type": "stream",
          "text": [
            "current epoch: 8 current mean dice: 0.0046 current mean iou: 0.3458\n",
            "best mean dice: 0.0046 at epoch: 8\n",
            "[neptune] [error  ] Error occurred during asynchronous operation processing: X-coordinates (step) must be strictly increasing for series attribute: training/epoch. Invalid point: 44.0\n"
          ]
        },
        {
          "data": {
            "application/vnd.jupyter.widget-view+json": {
              "model_id": "2dbfb2d8c1c34ae9ac6aecceaafb6b26",
              "version_major": 2,
              "version_minor": 0
            },
            "text/plain": [
              "Validation: |          | 0/? [00:00<?, ?it/s]"
            ]
          },
          "metadata": {},
          "output_type": "display_data"
        },
        {
          "name": "stderr",
          "output_type": "stream",
          "text": [
            "Epoch 9, global step 50: 'val_dice' reached 0.00511 (best 0.00511), saving model to '/home/pawel/Documents/RISA/3D_segmentation/AeroPath/checkpoints/whole_epoch=09-val_dice=0.0051.ckpt' as top 1\n"
          ]
        },
        {
          "name": "stdout",
          "output_type": "stream",
          "text": [
            "current epoch: 9 current mean dice: 0.0051 current mean iou: 0.3428\n",
            "best mean dice: 0.0051 at epoch: 9\n",
            "[neptune] [error  ] Error occurred during asynchronous operation processing: X-coordinates (step) must be strictly increasing for series attribute: training/epoch. Invalid point: 49.0\n"
          ]
        },
        {
          "data": {
            "application/vnd.jupyter.widget-view+json": {
              "model_id": "454e6f7f915544ce8cac73362c62a4c6",
              "version_major": 2,
              "version_minor": 0
            },
            "text/plain": [
              "Validation: |          | 0/? [00:00<?, ?it/s]"
            ]
          },
          "metadata": {},
          "output_type": "display_data"
        },
        {
          "name": "stderr",
          "output_type": "stream",
          "text": [
            "Epoch 10, global step 55: 'val_dice' reached 0.00535 (best 0.00535), saving model to '/home/pawel/Documents/RISA/3D_segmentation/AeroPath/checkpoints/whole_epoch=10-val_dice=0.0053.ckpt' as top 1\n"
          ]
        },
        {
          "name": "stdout",
          "output_type": "stream",
          "text": [
            "current epoch: 10 current mean dice: 0.0053 current mean iou: 0.3391\n",
            "best mean dice: 0.0053 at epoch: 10\n",
            "[neptune] [error  ] Error occurred during asynchronous operation processing: X-coordinates (step) must be strictly increasing for series attribute: training/epoch. Invalid point: 54.0\n"
          ]
        },
        {
          "data": {
            "application/vnd.jupyter.widget-view+json": {
              "model_id": "6216b109721d42528820d94149362a49",
              "version_major": 2,
              "version_minor": 0
            },
            "text/plain": [
              "Validation: |          | 0/? [00:00<?, ?it/s]"
            ]
          },
          "metadata": {},
          "output_type": "display_data"
        },
        {
          "name": "stderr",
          "output_type": "stream",
          "text": [
            "Epoch 11, global step 60: 'val_dice' reached 0.00568 (best 0.00568), saving model to '/home/pawel/Documents/RISA/3D_segmentation/AeroPath/checkpoints/whole_epoch=11-val_dice=0.0057.ckpt' as top 1\n"
          ]
        },
        {
          "name": "stdout",
          "output_type": "stream",
          "text": [
            "current epoch: 11 current mean dice: 0.0057 current mean iou: 0.3407\n",
            "best mean dice: 0.0057 at epoch: 11\n",
            "[neptune] [error  ] Error occurred during asynchronous operation processing: X-coordinates (step) must be strictly increasing for series attribute: training/epoch. Invalid point: 59.0\n"
          ]
        },
        {
          "data": {
            "application/vnd.jupyter.widget-view+json": {
              "model_id": "25c755f9a7cf43128c919eab633db624",
              "version_major": 2,
              "version_minor": 0
            },
            "text/plain": [
              "Validation: |          | 0/? [00:00<?, ?it/s]"
            ]
          },
          "metadata": {},
          "output_type": "display_data"
        },
        {
          "name": "stderr",
          "output_type": "stream",
          "text": [
            "Epoch 12, global step 65: 'val_dice' was not in top 1\n"
          ]
        },
        {
          "name": "stdout",
          "output_type": "stream",
          "text": [
            "current epoch: 12 current mean dice: 0.0055 current mean iou: 0.3305\n",
            "best mean dice: 0.0057 at epoch: 11\n",
            "[neptune] [error  ] Error occurred during asynchronous operation processing: X-coordinates (step) must be strictly increasing for series attribute: training/epoch. Invalid point: 64.0\n"
          ]
        },
        {
          "data": {
            "application/vnd.jupyter.widget-view+json": {
              "model_id": "13e4631c51144d2cb4a4e64ca328e28b",
              "version_major": 2,
              "version_minor": 0
            },
            "text/plain": [
              "Validation: |          | 0/? [00:00<?, ?it/s]"
            ]
          },
          "metadata": {},
          "output_type": "display_data"
        },
        {
          "name": "stderr",
          "output_type": "stream",
          "text": [
            "Epoch 13, global step 70: 'val_dice' was not in top 1\n"
          ]
        },
        {
          "name": "stdout",
          "output_type": "stream",
          "text": [
            "current epoch: 13 current mean dice: 0.0053 current mean iou: 0.3224\n",
            "best mean dice: 0.0057 at epoch: 11\n",
            "[neptune] [error  ] Error occurred during asynchronous operation processing: X-coordinates (step) must be strictly increasing for series attribute: training/epoch. Invalid point: 69.0\n"
          ]
        },
        {
          "data": {
            "application/vnd.jupyter.widget-view+json": {
              "model_id": "44550c3b610f4bd09f048aae73455ee6",
              "version_major": 2,
              "version_minor": 0
            },
            "text/plain": [
              "Validation: |          | 0/? [00:00<?, ?it/s]"
            ]
          },
          "metadata": {},
          "output_type": "display_data"
        },
        {
          "name": "stderr",
          "output_type": "stream",
          "text": [
            "Epoch 14, global step 75: 'val_dice' was not in top 1\n"
          ]
        },
        {
          "name": "stdout",
          "output_type": "stream",
          "text": [
            "current epoch: 14 current mean dice: 0.0047 current mean iou: 0.2990\n",
            "best mean dice: 0.0057 at epoch: 11\n",
            "[neptune] [error  ] Error occurred during asynchronous operation processing: X-coordinates (step) must be strictly increasing for series attribute: training/epoch. Invalid point: 74.0\n"
          ]
        },
        {
          "data": {
            "application/vnd.jupyter.widget-view+json": {
              "model_id": "59b8bc9e9fc44a83aabd94c667693816",
              "version_major": 2,
              "version_minor": 0
            },
            "text/plain": [
              "Validation: |          | 0/? [00:00<?, ?it/s]"
            ]
          },
          "metadata": {},
          "output_type": "display_data"
        },
        {
          "name": "stderr",
          "output_type": "stream",
          "text": [
            "Epoch 15, global step 80: 'val_dice' was not in top 1\n"
          ]
        },
        {
          "name": "stdout",
          "output_type": "stream",
          "text": [
            "current epoch: 15 current mean dice: 0.0051 current mean iou: 0.3072\n",
            "best mean dice: 0.0057 at epoch: 11\n",
            "[neptune] [error  ] Error occurred during asynchronous operation processing: X-coordinates (step) must be strictly increasing for series attribute: training/epoch. Invalid point: 79.0\n"
          ]
        },
        {
          "data": {
            "application/vnd.jupyter.widget-view+json": {
              "model_id": "6d68c5c1e7984d1a8e12c8031e788220",
              "version_major": 2,
              "version_minor": 0
            },
            "text/plain": [
              "Validation: |          | 0/? [00:00<?, ?it/s]"
            ]
          },
          "metadata": {},
          "output_type": "display_data"
        },
        {
          "name": "stderr",
          "output_type": "stream",
          "text": [
            "Epoch 16, global step 85: 'val_dice' was not in top 1\n"
          ]
        },
        {
          "name": "stdout",
          "output_type": "stream",
          "text": [
            "current epoch: 16 current mean dice: 0.0046 current mean iou: 0.2874\n",
            "best mean dice: 0.0057 at epoch: 11\n",
            "[neptune] [error  ] Error occurred during asynchronous operation processing: X-coordinates (step) must be strictly increasing for series attribute: training/epoch. Invalid point: 84.0\n"
          ]
        },
        {
          "data": {
            "application/vnd.jupyter.widget-view+json": {
              "model_id": "fdb01920c358418d858d218538e0305d",
              "version_major": 2,
              "version_minor": 0
            },
            "text/plain": [
              "Validation: |          | 0/? [00:00<?, ?it/s]"
            ]
          },
          "metadata": {},
          "output_type": "display_data"
        },
        {
          "name": "stderr",
          "output_type": "stream",
          "text": [
            "Epoch 17, global step 90: 'val_dice' was not in top 1\n"
          ]
        },
        {
          "name": "stdout",
          "output_type": "stream",
          "text": [
            "current epoch: 17 current mean dice: 0.0052 current mean iou: 0.3134\n",
            "best mean dice: 0.0057 at epoch: 11\n",
            "[neptune] [error  ] Error occurred during asynchronous operation processing: X-coordinates (step) must be strictly increasing for series attribute: training/epoch. Invalid point: 89.0\n"
          ]
        },
        {
          "data": {
            "application/vnd.jupyter.widget-view+json": {
              "model_id": "dbd76992bc0a455284d95a5161de7529",
              "version_major": 2,
              "version_minor": 0
            },
            "text/plain": [
              "Validation: |          | 0/? [00:00<?, ?it/s]"
            ]
          },
          "metadata": {},
          "output_type": "display_data"
        },
        {
          "name": "stderr",
          "output_type": "stream",
          "text": [
            "Epoch 18, global step 95: 'val_dice' was not in top 1\n"
          ]
        },
        {
          "name": "stdout",
          "output_type": "stream",
          "text": [
            "current epoch: 18 current mean dice: 0.0051 current mean iou: 0.3056\n",
            "best mean dice: 0.0057 at epoch: 11\n",
            "[neptune] [error  ] Error occurred during asynchronous operation processing: X-coordinates (step) must be strictly increasing for series attribute: training/epoch. Invalid point: 94.0\n"
          ]
        },
        {
          "data": {
            "application/vnd.jupyter.widget-view+json": {
              "model_id": "ea09c099afbd4884a682de548159eadc",
              "version_major": 2,
              "version_minor": 0
            },
            "text/plain": [
              "Validation: |          | 0/? [00:00<?, ?it/s]"
            ]
          },
          "metadata": {},
          "output_type": "display_data"
        },
        {
          "name": "stderr",
          "output_type": "stream",
          "text": [
            "Epoch 19, global step 100: 'val_dice' was not in top 1\n"
          ]
        },
        {
          "name": "stdout",
          "output_type": "stream",
          "text": [
            "current epoch: 19 current mean dice: 0.0049 current mean iou: 0.2969\n",
            "best mean dice: 0.0057 at epoch: 11\n",
            "[neptune] [error  ] Error occurred during asynchronous operation processing: X-coordinates (step) must be strictly increasing for series attribute: training/epoch. Invalid point: 99.0\n"
          ]
        },
        {
          "data": {
            "application/vnd.jupyter.widget-view+json": {
              "model_id": "ddcda7d9185644f3830ad2fcdfdc4069",
              "version_major": 2,
              "version_minor": 0
            },
            "text/plain": [
              "Validation: |          | 0/? [00:00<?, ?it/s]"
            ]
          },
          "metadata": {},
          "output_type": "display_data"
        },
        {
          "name": "stderr",
          "output_type": "stream",
          "text": [
            "Epoch 20, global step 105: 'val_dice' was not in top 1\n"
          ]
        },
        {
          "name": "stdout",
          "output_type": "stream",
          "text": [
            "current epoch: 20 current mean dice: 0.0051 current mean iou: 0.3099\n",
            "best mean dice: 0.0057 at epoch: 11\n",
            "[neptune] [error  ] Error occurred during asynchronous operation processing: X-coordinates (step) must be strictly increasing for series attribute: training/epoch. Invalid point: 104.0\n"
          ]
        },
        {
          "data": {
            "application/vnd.jupyter.widget-view+json": {
              "model_id": "fd57cf00013f4550aa8182bf25b5421f",
              "version_major": 2,
              "version_minor": 0
            },
            "text/plain": [
              "Validation: |          | 0/? [00:00<?, ?it/s]"
            ]
          },
          "metadata": {},
          "output_type": "display_data"
        },
        {
          "name": "stderr",
          "output_type": "stream",
          "text": [
            "Epoch 21, global step 110: 'val_dice' was not in top 1\n"
          ]
        },
        {
          "name": "stdout",
          "output_type": "stream",
          "text": [
            "current epoch: 21 current mean dice: 0.0053 current mean iou: 0.3157\n",
            "best mean dice: 0.0057 at epoch: 11\n",
            "[neptune] [error  ] Error occurred during asynchronous operation processing: X-coordinates (step) must be strictly increasing for series attribute: training/epoch. Invalid point: 109.0\n"
          ]
        },
        {
          "data": {
            "application/vnd.jupyter.widget-view+json": {
              "model_id": "7a587876a7a84d2aaa0e829ca5695afe",
              "version_major": 2,
              "version_minor": 0
            },
            "text/plain": [
              "Validation: |          | 0/? [00:00<?, ?it/s]"
            ]
          },
          "metadata": {},
          "output_type": "display_data"
        },
        {
          "name": "stderr",
          "output_type": "stream",
          "text": [
            "Epoch 22, global step 115: 'val_dice' was not in top 1\n"
          ]
        },
        {
          "name": "stdout",
          "output_type": "stream",
          "text": [
            "current epoch: 22 current mean dice: 0.0052 current mean iou: 0.3117\n",
            "best mean dice: 0.0057 at epoch: 11\n",
            "[neptune] [error  ] Error occurred during asynchronous operation processing: X-coordinates (step) must be strictly increasing for series attribute: training/epoch. Invalid point: 114.0\n"
          ]
        },
        {
          "data": {
            "application/vnd.jupyter.widget-view+json": {
              "model_id": "03d4e960e9054d08b1328a9763a330b9",
              "version_major": 2,
              "version_minor": 0
            },
            "text/plain": [
              "Validation: |          | 0/? [00:00<?, ?it/s]"
            ]
          },
          "metadata": {},
          "output_type": "display_data"
        },
        {
          "name": "stderr",
          "output_type": "stream",
          "text": [
            "Epoch 23, global step 120: 'val_dice' was not in top 1\n"
          ]
        },
        {
          "name": "stdout",
          "output_type": "stream",
          "text": [
            "current epoch: 23 current mean dice: 0.0051 current mean iou: 0.3072\n",
            "best mean dice: 0.0057 at epoch: 11\n",
            "[neptune] [error  ] Error occurred during asynchronous operation processing: X-coordinates (step) must be strictly increasing for series attribute: training/epoch. Invalid point: 119.0\n"
          ]
        },
        {
          "data": {
            "application/vnd.jupyter.widget-view+json": {
              "model_id": "758bf8f2a35043faa3df2132f8e1c766",
              "version_major": 2,
              "version_minor": 0
            },
            "text/plain": [
              "Validation: |          | 0/? [00:00<?, ?it/s]"
            ]
          },
          "metadata": {},
          "output_type": "display_data"
        },
        {
          "name": "stderr",
          "output_type": "stream",
          "text": [
            "Epoch 24, global step 125: 'val_dice' was not in top 1\n"
          ]
        },
        {
          "name": "stdout",
          "output_type": "stream",
          "text": [
            "current epoch: 24 current mean dice: 0.0052 current mean iou: 0.3099\n",
            "best mean dice: 0.0057 at epoch: 11\n",
            "[neptune] [error  ] Error occurred during asynchronous operation processing: X-coordinates (step) must be strictly increasing for series attribute: training/epoch. Invalid point: 124.0\n"
          ]
        },
        {
          "data": {
            "application/vnd.jupyter.widget-view+json": {
              "model_id": "6b296422a3ee4823a1d66eae4d129db6",
              "version_major": 2,
              "version_minor": 0
            },
            "text/plain": [
              "Validation: |          | 0/? [00:00<?, ?it/s]"
            ]
          },
          "metadata": {},
          "output_type": "display_data"
        },
        {
          "name": "stderr",
          "output_type": "stream",
          "text": [
            "Epoch 25, global step 130: 'val_dice' was not in top 1\n"
          ]
        },
        {
          "name": "stdout",
          "output_type": "stream",
          "text": [
            "current epoch: 25 current mean dice: 0.0053 current mean iou: 0.3137\n",
            "best mean dice: 0.0057 at epoch: 11\n",
            "[neptune] [error  ] Error occurred during asynchronous operation processing: X-coordinates (step) must be strictly increasing for series attribute: training/epoch. Invalid point: 129.0\n"
          ]
        },
        {
          "data": {
            "application/vnd.jupyter.widget-view+json": {
              "model_id": "2dba9070d4e343af99f18cbd564d04a6",
              "version_major": 2,
              "version_minor": 0
            },
            "text/plain": [
              "Validation: |          | 0/? [00:00<?, ?it/s]"
            ]
          },
          "metadata": {},
          "output_type": "display_data"
        },
        {
          "name": "stderr",
          "output_type": "stream",
          "text": [
            "Epoch 26, global step 135: 'val_dice' reached 0.00576 (best 0.00576), saving model to '/home/pawel/Documents/RISA/3D_segmentation/AeroPath/checkpoints/whole_epoch=26-val_dice=0.0058.ckpt' as top 1\n"
          ]
        },
        {
          "name": "stdout",
          "output_type": "stream",
          "text": [
            "current epoch: 26 current mean dice: 0.0058 current mean iou: 0.3315\n",
            "best mean dice: 0.0058 at epoch: 26\n",
            "[neptune] [error  ] Error occurred during asynchronous operation processing: X-coordinates (step) must be strictly increasing for series attribute: training/epoch. Invalid point: 134.0\n"
          ]
        },
        {
          "data": {
            "application/vnd.jupyter.widget-view+json": {
              "model_id": "b9e3525a0c584a97a45d839bd0a7e533",
              "version_major": 2,
              "version_minor": 0
            },
            "text/plain": [
              "Validation: |          | 0/? [00:00<?, ?it/s]"
            ]
          },
          "metadata": {},
          "output_type": "display_data"
        },
        {
          "name": "stderr",
          "output_type": "stream",
          "text": [
            "Epoch 27, global step 140: 'val_dice' was not in top 1\n"
          ]
        },
        {
          "name": "stdout",
          "output_type": "stream",
          "text": [
            "current epoch: 27 current mean dice: 0.0055 current mean iou: 0.3239\n",
            "best mean dice: 0.0058 at epoch: 26\n",
            "[neptune] [error  ] Error occurred during asynchronous operation processing: X-coordinates (step) must be strictly increasing for series attribute: training/epoch. Invalid point: 139.0\n"
          ]
        },
        {
          "data": {
            "application/vnd.jupyter.widget-view+json": {
              "model_id": "95a7d37273c54a95a0a271d704cfc558",
              "version_major": 2,
              "version_minor": 0
            },
            "text/plain": [
              "Validation: |          | 0/? [00:00<?, ?it/s]"
            ]
          },
          "metadata": {},
          "output_type": "display_data"
        },
        {
          "name": "stderr",
          "output_type": "stream",
          "text": [
            "Epoch 28, global step 145: 'val_dice' reached 0.00662 (best 0.00662), saving model to '/home/pawel/Documents/RISA/3D_segmentation/AeroPath/checkpoints/whole_epoch=28-val_dice=0.0066.ckpt' as top 1\n"
          ]
        },
        {
          "name": "stdout",
          "output_type": "stream",
          "text": [
            "current epoch: 28 current mean dice: 0.0066 current mean iou: 0.3527\n",
            "best mean dice: 0.0066 at epoch: 28\n",
            "[neptune] [error  ] Error occurred during asynchronous operation processing: X-coordinates (step) must be strictly increasing for series attribute: training/epoch. Invalid point: 144.0\n"
          ]
        },
        {
          "data": {
            "application/vnd.jupyter.widget-view+json": {
              "model_id": "3db24fadfead4f62837eca06cf275f61",
              "version_major": 2,
              "version_minor": 0
            },
            "text/plain": [
              "Validation: |          | 0/? [00:00<?, ?it/s]"
            ]
          },
          "metadata": {},
          "output_type": "display_data"
        },
        {
          "name": "stderr",
          "output_type": "stream",
          "text": [
            "Epoch 29, global step 150: 'val_dice' was not in top 1\n"
          ]
        },
        {
          "name": "stdout",
          "output_type": "stream",
          "text": [
            "current epoch: 29 current mean dice: 0.0063 current mean iou: 0.3478\n",
            "best mean dice: 0.0066 at epoch: 28\n",
            "[neptune] [error  ] Error occurred during asynchronous operation processing: X-coordinates (step) must be strictly increasing for series attribute: training/epoch. Invalid point: 149.0\n"
          ]
        },
        {
          "data": {
            "application/vnd.jupyter.widget-view+json": {
              "model_id": "5f22cf5ed0eb4280b665d6651db97712",
              "version_major": 2,
              "version_minor": 0
            },
            "text/plain": [
              "Validation: |          | 0/? [00:00<?, ?it/s]"
            ]
          },
          "metadata": {},
          "output_type": "display_data"
        },
        {
          "name": "stderr",
          "output_type": "stream",
          "text": [
            "Epoch 30, global step 155: 'val_dice' was not in top 1\n"
          ]
        },
        {
          "name": "stdout",
          "output_type": "stream",
          "text": [
            "current epoch: 30 current mean dice: 0.0063 current mean iou: 0.3472\n",
            "best mean dice: 0.0066 at epoch: 28\n",
            "[neptune] [error  ] Error occurred during asynchronous operation processing: X-coordinates (step) must be strictly increasing for series attribute: training/epoch. Invalid point: 154.0\n"
          ]
        },
        {
          "data": {
            "application/vnd.jupyter.widget-view+json": {
              "model_id": "090d0411616a4a18b2e015f7d21095df",
              "version_major": 2,
              "version_minor": 0
            },
            "text/plain": [
              "Validation: |          | 0/? [00:00<?, ?it/s]"
            ]
          },
          "metadata": {},
          "output_type": "display_data"
        },
        {
          "name": "stderr",
          "output_type": "stream",
          "text": [
            "Epoch 31, global step 160: 'val_dice' was not in top 1\n"
          ]
        },
        {
          "name": "stdout",
          "output_type": "stream",
          "text": [
            "current epoch: 31 current mean dice: 0.0065 current mean iou: 0.3527\n",
            "best mean dice: 0.0066 at epoch: 28\n",
            "[neptune] [error  ] Error occurred during asynchronous operation processing: X-coordinates (step) must be strictly increasing for series attribute: training/epoch. Invalid point: 159.0\n"
          ]
        },
        {
          "data": {
            "application/vnd.jupyter.widget-view+json": {
              "model_id": "f3d38f5e8f014379b1bad25fd165c64a",
              "version_major": 2,
              "version_minor": 0
            },
            "text/plain": [
              "Validation: |          | 0/? [00:00<?, ?it/s]"
            ]
          },
          "metadata": {},
          "output_type": "display_data"
        },
        {
          "name": "stderr",
          "output_type": "stream",
          "text": [
            "Epoch 32, global step 165: 'val_dice' reached 0.00673 (best 0.00673), saving model to '/home/pawel/Documents/RISA/3D_segmentation/AeroPath/checkpoints/whole_epoch=32-val_dice=0.0067.ckpt' as top 1\n"
          ]
        },
        {
          "name": "stdout",
          "output_type": "stream",
          "text": [
            "current epoch: 32 current mean dice: 0.0067 current mean iou: 0.3580\n",
            "best mean dice: 0.0067 at epoch: 32\n",
            "[neptune] [error  ] Error occurred during asynchronous operation processing: X-coordinates (step) must be strictly increasing for series attribute: training/epoch. Invalid point: 164.0\n"
          ]
        },
        {
          "data": {
            "application/vnd.jupyter.widget-view+json": {
              "model_id": "af4766502a884a6e9e17e8a4f7f8cf2b",
              "version_major": 2,
              "version_minor": 0
            },
            "text/plain": [
              "Validation: |          | 0/? [00:00<?, ?it/s]"
            ]
          },
          "metadata": {},
          "output_type": "display_data"
        },
        {
          "name": "stderr",
          "output_type": "stream",
          "text": [
            "Epoch 33, global step 170: 'val_dice' reached 0.00681 (best 0.00681), saving model to '/home/pawel/Documents/RISA/3D_segmentation/AeroPath/checkpoints/whole_epoch=33-val_dice=0.0068.ckpt' as top 1\n"
          ]
        },
        {
          "name": "stdout",
          "output_type": "stream",
          "text": [
            "current epoch: 33 current mean dice: 0.0068 current mean iou: 0.3617\n",
            "best mean dice: 0.0068 at epoch: 33\n",
            "[neptune] [error  ] Error occurred during asynchronous operation processing: X-coordinates (step) must be strictly increasing for series attribute: training/epoch. Invalid point: 169.0\n"
          ]
        },
        {
          "data": {
            "application/vnd.jupyter.widget-view+json": {
              "model_id": "e4156092e7f44440816d085981634c52",
              "version_major": 2,
              "version_minor": 0
            },
            "text/plain": [
              "Validation: |          | 0/? [00:00<?, ?it/s]"
            ]
          },
          "metadata": {},
          "output_type": "display_data"
        },
        {
          "name": "stderr",
          "output_type": "stream",
          "text": [
            "Epoch 34, global step 175: 'val_dice' was not in top 1\n"
          ]
        },
        {
          "name": "stdout",
          "output_type": "stream",
          "text": [
            "current epoch: 34 current mean dice: 0.0065 current mean iou: 0.3521\n",
            "best mean dice: 0.0068 at epoch: 33\n",
            "[neptune] [error  ] Error occurred during asynchronous operation processing: X-coordinates (step) must be strictly increasing for series attribute: training/epoch. Invalid point: 174.0\n"
          ]
        },
        {
          "data": {
            "application/vnd.jupyter.widget-view+json": {
              "model_id": "b98b3c1ca429475b87cb0249614344c1",
              "version_major": 2,
              "version_minor": 0
            },
            "text/plain": [
              "Validation: |          | 0/? [00:00<?, ?it/s]"
            ]
          },
          "metadata": {},
          "output_type": "display_data"
        },
        {
          "name": "stderr",
          "output_type": "stream",
          "text": [
            "Epoch 35, global step 180: 'val_dice' reached 0.00709 (best 0.00709), saving model to '/home/pawel/Documents/RISA/3D_segmentation/AeroPath/checkpoints/whole_epoch=35-val_dice=0.0071.ckpt' as top 1\n"
          ]
        },
        {
          "name": "stdout",
          "output_type": "stream",
          "text": [
            "current epoch: 35 current mean dice: 0.0071 current mean iou: 0.3652\n",
            "best mean dice: 0.0071 at epoch: 35\n",
            "[neptune] [error  ] Error occurred during asynchronous operation processing: X-coordinates (step) must be strictly increasing for series attribute: training/epoch. Invalid point: 179.0\n"
          ]
        },
        {
          "data": {
            "application/vnd.jupyter.widget-view+json": {
              "model_id": "b62e1bc901b6448e8100491498e167d6",
              "version_major": 2,
              "version_minor": 0
            },
            "text/plain": [
              "Validation: |          | 0/? [00:00<?, ?it/s]"
            ]
          },
          "metadata": {},
          "output_type": "display_data"
        },
        {
          "name": "stderr",
          "output_type": "stream",
          "text": [
            "Epoch 36, global step 185: 'val_dice' was not in top 1\n"
          ]
        },
        {
          "name": "stdout",
          "output_type": "stream",
          "text": [
            "current epoch: 36 current mean dice: 0.0068 current mean iou: 0.3601\n",
            "best mean dice: 0.0071 at epoch: 35\n",
            "[neptune] [error  ] Error occurred during asynchronous operation processing: X-coordinates (step) must be strictly increasing for series attribute: training/epoch. Invalid point: 184.0\n"
          ]
        },
        {
          "data": {
            "application/vnd.jupyter.widget-view+json": {
              "model_id": "4b85e72d47b34247b724da5487e8cf8f",
              "version_major": 2,
              "version_minor": 0
            },
            "text/plain": [
              "Validation: |          | 0/? [00:00<?, ?it/s]"
            ]
          },
          "metadata": {},
          "output_type": "display_data"
        },
        {
          "name": "stderr",
          "output_type": "stream",
          "text": [
            "Epoch 37, global step 190: 'val_dice' reached 0.00770 (best 0.00770), saving model to '/home/pawel/Documents/RISA/3D_segmentation/AeroPath/checkpoints/whole_epoch=37-val_dice=0.0077.ckpt' as top 1\n"
          ]
        },
        {
          "name": "stdout",
          "output_type": "stream",
          "text": [
            "current epoch: 37 current mean dice: 0.0077 current mean iou: 0.3758\n",
            "best mean dice: 0.0077 at epoch: 37\n",
            "[neptune] [error  ] Error occurred during asynchronous operation processing: X-coordinates (step) must be strictly increasing for series attribute: training/epoch. Invalid point: 189.0\n"
          ]
        },
        {
          "data": {
            "application/vnd.jupyter.widget-view+json": {
              "model_id": "32a42123eec5488a810c7f3b195702b1",
              "version_major": 2,
              "version_minor": 0
            },
            "text/plain": [
              "Validation: |          | 0/? [00:00<?, ?it/s]"
            ]
          },
          "metadata": {},
          "output_type": "display_data"
        },
        {
          "name": "stderr",
          "output_type": "stream",
          "text": [
            "Epoch 38, global step 195: 'val_dice' was not in top 1\n"
          ]
        },
        {
          "name": "stdout",
          "output_type": "stream",
          "text": [
            "current epoch: 38 current mean dice: 0.0077 current mean iou: 0.3760\n",
            "best mean dice: 0.0077 at epoch: 37\n",
            "[neptune] [error  ] Error occurred during asynchronous operation processing: X-coordinates (step) must be strictly increasing for series attribute: training/epoch. Invalid point: 194.0\n"
          ]
        },
        {
          "data": {
            "application/vnd.jupyter.widget-view+json": {
              "model_id": "3781aecad29b41e5a1c3ce8b5c7f3b73",
              "version_major": 2,
              "version_minor": 0
            },
            "text/plain": [
              "Validation: |          | 0/? [00:00<?, ?it/s]"
            ]
          },
          "metadata": {},
          "output_type": "display_data"
        },
        {
          "name": "stderr",
          "output_type": "stream",
          "text": [
            "Epoch 39, global step 200: 'val_dice' reached 0.00882 (best 0.00882), saving model to '/home/pawel/Documents/RISA/3D_segmentation/AeroPath/checkpoints/whole_epoch=39-val_dice=0.0088.ckpt' as top 1\n"
          ]
        },
        {
          "name": "stdout",
          "output_type": "stream",
          "text": [
            "current epoch: 39 current mean dice: 0.0088 current mean iou: 0.3939\n",
            "best mean dice: 0.0088 at epoch: 39\n",
            "[neptune] [error  ] Error occurred during asynchronous operation processing: X-coordinates (step) must be strictly increasing for series attribute: training/epoch. Invalid point: 199.0\n"
          ]
        },
        {
          "data": {
            "application/vnd.jupyter.widget-view+json": {
              "model_id": "605b349c2d8849cebb4b225fae1ab704",
              "version_major": 2,
              "version_minor": 0
            },
            "text/plain": [
              "Validation: |          | 0/? [00:00<?, ?it/s]"
            ]
          },
          "metadata": {},
          "output_type": "display_data"
        },
        {
          "name": "stderr",
          "output_type": "stream",
          "text": [
            "Epoch 40, global step 205: 'val_dice' was not in top 1\n"
          ]
        },
        {
          "name": "stdout",
          "output_type": "stream",
          "text": [
            "current epoch: 40 current mean dice: 0.0079 current mean iou: 0.3805\n",
            "best mean dice: 0.0088 at epoch: 39\n",
            "[neptune] [error  ] Error occurred during asynchronous operation processing: X-coordinates (step) must be strictly increasing for series attribute: training/epoch. Invalid point: 204.0\n"
          ]
        },
        {
          "data": {
            "application/vnd.jupyter.widget-view+json": {
              "model_id": "943078438a08448ea77d4145ae499d63",
              "version_major": 2,
              "version_minor": 0
            },
            "text/plain": [
              "Validation: |          | 0/? [00:00<?, ?it/s]"
            ]
          },
          "metadata": {},
          "output_type": "display_data"
        },
        {
          "name": "stderr",
          "output_type": "stream",
          "text": [
            "Epoch 41, global step 210: 'val_dice' reached 0.00991 (best 0.00991), saving model to '/home/pawel/Documents/RISA/3D_segmentation/AeroPath/checkpoints/whole_epoch=41-val_dice=0.0099.ckpt' as top 1\n"
          ]
        },
        {
          "name": "stdout",
          "output_type": "stream",
          "text": [
            "current epoch: 41 current mean dice: 0.0099 current mean iou: 0.4105\n",
            "best mean dice: 0.0099 at epoch: 41\n",
            "[neptune] [error  ] Error occurred during asynchronous operation processing: X-coordinates (step) must be strictly increasing for series attribute: training/epoch. Invalid point: 209.0\n"
          ]
        },
        {
          "data": {
            "application/vnd.jupyter.widget-view+json": {
              "model_id": "9d7c363d388245cbb353d76305ba823a",
              "version_major": 2,
              "version_minor": 0
            },
            "text/plain": [
              "Validation: |          | 0/? [00:00<?, ?it/s]"
            ]
          },
          "metadata": {},
          "output_type": "display_data"
        },
        {
          "name": "stderr",
          "output_type": "stream",
          "text": [
            "Epoch 42, global step 215: 'val_dice' was not in top 1\n"
          ]
        },
        {
          "name": "stdout",
          "output_type": "stream",
          "text": [
            "current epoch: 42 current mean dice: 0.0075 current mean iou: 0.3706\n",
            "best mean dice: 0.0099 at epoch: 41\n",
            "[neptune] [error  ] Error occurred during asynchronous operation processing: X-coordinates (step) must be strictly increasing for series attribute: training/epoch. Invalid point: 214.0\n"
          ]
        },
        {
          "data": {
            "application/vnd.jupyter.widget-view+json": {
              "model_id": "5eba0cb080bb423ca044cd196ca7cd20",
              "version_major": 2,
              "version_minor": 0
            },
            "text/plain": [
              "Validation: |          | 0/? [00:00<?, ?it/s]"
            ]
          },
          "metadata": {},
          "output_type": "display_data"
        },
        {
          "name": "stderr",
          "output_type": "stream",
          "text": [
            "Epoch 43, global step 220: 'val_dice' was not in top 1\n"
          ]
        },
        {
          "name": "stdout",
          "output_type": "stream",
          "text": [
            "current epoch: 43 current mean dice: 0.0082 current mean iou: 0.3829\n",
            "best mean dice: 0.0099 at epoch: 41\n",
            "[neptune] [error  ] Error occurred during asynchronous operation processing: X-coordinates (step) must be strictly increasing for series attribute: training/epoch. Invalid point: 219.0\n"
          ]
        },
        {
          "data": {
            "application/vnd.jupyter.widget-view+json": {
              "model_id": "32005fd5ee844018938064554d78be33",
              "version_major": 2,
              "version_minor": 0
            },
            "text/plain": [
              "Validation: |          | 0/? [00:00<?, ?it/s]"
            ]
          },
          "metadata": {},
          "output_type": "display_data"
        },
        {
          "name": "stderr",
          "output_type": "stream",
          "text": [
            "Epoch 44, global step 225: 'val_dice' was not in top 1\n"
          ]
        },
        {
          "name": "stdout",
          "output_type": "stream",
          "text": [
            "current epoch: 44 current mean dice: 0.0081 current mean iou: 0.3830\n",
            "best mean dice: 0.0099 at epoch: 41\n",
            "[neptune] [error  ] Error occurred during asynchronous operation processing: X-coordinates (step) must be strictly increasing for series attribute: training/epoch. Invalid point: 224.0\n"
          ]
        },
        {
          "data": {
            "application/vnd.jupyter.widget-view+json": {
              "model_id": "1848561a180f4766b5b0d29396e40641",
              "version_major": 2,
              "version_minor": 0
            },
            "text/plain": [
              "Validation: |          | 0/? [00:00<?, ?it/s]"
            ]
          },
          "metadata": {},
          "output_type": "display_data"
        },
        {
          "name": "stderr",
          "output_type": "stream",
          "text": [
            "Epoch 45, global step 230: 'val_dice' reached 0.01201 (best 0.01201), saving model to '/home/pawel/Documents/RISA/3D_segmentation/AeroPath/checkpoints/whole_epoch=45-val_dice=0.0120.ckpt' as top 1\n"
          ]
        },
        {
          "name": "stdout",
          "output_type": "stream",
          "text": [
            "current epoch: 45 current mean dice: 0.0120 current mean iou: 0.4244\n",
            "best mean dice: 0.0120 at epoch: 45\n",
            "[neptune] [error  ] Error occurred during asynchronous operation processing: X-coordinates (step) must be strictly increasing for series attribute: training/epoch. Invalid point: 229.0\n"
          ]
        },
        {
          "data": {
            "application/vnd.jupyter.widget-view+json": {
              "model_id": "c51cc7b085c04269af40a46aa0b61871",
              "version_major": 2,
              "version_minor": 0
            },
            "text/plain": [
              "Validation: |          | 0/? [00:00<?, ?it/s]"
            ]
          },
          "metadata": {},
          "output_type": "display_data"
        },
        {
          "name": "stderr",
          "output_type": "stream",
          "text": [
            "Epoch 46, global step 235: 'val_dice' was not in top 1\n"
          ]
        },
        {
          "name": "stdout",
          "output_type": "stream",
          "text": [
            "current epoch: 46 current mean dice: 0.0086 current mean iou: 0.3892\n",
            "best mean dice: 0.0120 at epoch: 45\n",
            "[neptune] [error  ] Error occurred during asynchronous operation processing: X-coordinates (step) must be strictly increasing for series attribute: training/epoch. Invalid point: 234.0\n"
          ]
        },
        {
          "data": {
            "application/vnd.jupyter.widget-view+json": {
              "model_id": "2219cf46f790484da924148ba97913b0",
              "version_major": 2,
              "version_minor": 0
            },
            "text/plain": [
              "Validation: |          | 0/? [00:00<?, ?it/s]"
            ]
          },
          "metadata": {},
          "output_type": "display_data"
        },
        {
          "name": "stderr",
          "output_type": "stream",
          "text": [
            "Epoch 47, global step 240: 'val_dice' was not in top 1\n"
          ]
        },
        {
          "name": "stdout",
          "output_type": "stream",
          "text": [
            "current epoch: 47 current mean dice: 0.0090 current mean iou: 0.3957\n",
            "best mean dice: 0.0120 at epoch: 45\n",
            "[neptune] [error  ] Error occurred during asynchronous operation processing: X-coordinates (step) must be strictly increasing for series attribute: training/epoch. Invalid point: 239.0\n"
          ]
        },
        {
          "data": {
            "application/vnd.jupyter.widget-view+json": {
              "model_id": "5c4c136abbd8483595dc8d0c72b032b9",
              "version_major": 2,
              "version_minor": 0
            },
            "text/plain": [
              "Validation: |          | 0/? [00:00<?, ?it/s]"
            ]
          },
          "metadata": {},
          "output_type": "display_data"
        },
        {
          "name": "stderr",
          "output_type": "stream",
          "text": [
            "Epoch 48, global step 245: 'val_dice' was not in top 1\n"
          ]
        },
        {
          "name": "stdout",
          "output_type": "stream",
          "text": [
            "current epoch: 48 current mean dice: 0.0086 current mean iou: 0.3887\n",
            "best mean dice: 0.0120 at epoch: 45\n",
            "[neptune] [error  ] Error occurred during asynchronous operation processing: X-coordinates (step) must be strictly increasing for series attribute: training/epoch. Invalid point: 244.0\n"
          ]
        },
        {
          "data": {
            "application/vnd.jupyter.widget-view+json": {
              "model_id": "8fede6a471df4fee8c4d7a32ba9a9797",
              "version_major": 2,
              "version_minor": 0
            },
            "text/plain": [
              "Validation: |          | 0/? [00:00<?, ?it/s]"
            ]
          },
          "metadata": {},
          "output_type": "display_data"
        },
        {
          "name": "stderr",
          "output_type": "stream",
          "text": [
            "Epoch 49, global step 250: 'val_dice' reached 0.01259 (best 0.01259), saving model to '/home/pawel/Documents/RISA/3D_segmentation/AeroPath/checkpoints/whole_epoch=49-val_dice=0.0126.ckpt' as top 1\n"
          ]
        },
        {
          "name": "stdout",
          "output_type": "stream",
          "text": [
            "current epoch: 49 current mean dice: 0.0126 current mean iou: 0.4286\n",
            "best mean dice: 0.0126 at epoch: 49\n",
            "[neptune] [error  ] Error occurred during asynchronous operation processing: X-coordinates (step) must be strictly increasing for series attribute: training/epoch. Invalid point: 249.0\n"
          ]
        },
        {
          "data": {
            "application/vnd.jupyter.widget-view+json": {
              "model_id": "839c06668972429fa2e6785c94febe37",
              "version_major": 2,
              "version_minor": 0
            },
            "text/plain": [
              "Validation: |          | 0/? [00:00<?, ?it/s]"
            ]
          },
          "metadata": {},
          "output_type": "display_data"
        },
        {
          "name": "stderr",
          "output_type": "stream",
          "text": [
            "Epoch 50, global step 255: 'val_dice' was not in top 1\n"
          ]
        },
        {
          "name": "stdout",
          "output_type": "stream",
          "text": [
            "current epoch: 50 current mean dice: 0.0111 current mean iou: 0.4170\n",
            "best mean dice: 0.0126 at epoch: 49\n",
            "[neptune] [error  ] Error occurred during asynchronous operation processing: X-coordinates (step) must be strictly increasing for series attribute: training/epoch. Invalid point: 254.0\n"
          ]
        },
        {
          "data": {
            "application/vnd.jupyter.widget-view+json": {
              "model_id": "58bb9c72955f4711a11bc1011c92e7ee",
              "version_major": 2,
              "version_minor": 0
            },
            "text/plain": [
              "Validation: |          | 0/? [00:00<?, ?it/s]"
            ]
          },
          "metadata": {},
          "output_type": "display_data"
        },
        {
          "name": "stderr",
          "output_type": "stream",
          "text": [
            "Epoch 51, global step 260: 'val_dice' was not in top 1\n"
          ]
        },
        {
          "name": "stdout",
          "output_type": "stream",
          "text": [
            "current epoch: 51 current mean dice: 0.0054 current mean iou: 0.3163\n",
            "best mean dice: 0.0126 at epoch: 49\n",
            "[neptune] [error  ] Error occurred during asynchronous operation processing: X-coordinates (step) must be strictly increasing for series attribute: training/epoch. Invalid point: 259.0\n"
          ]
        },
        {
          "data": {
            "application/vnd.jupyter.widget-view+json": {
              "model_id": "d5514c6ceaa047229ac3e1e2ad2925f3",
              "version_major": 2,
              "version_minor": 0
            },
            "text/plain": [
              "Validation: |          | 0/? [00:00<?, ?it/s]"
            ]
          },
          "metadata": {},
          "output_type": "display_data"
        },
        {
          "name": "stderr",
          "output_type": "stream",
          "text": [
            "Epoch 52, global step 265: 'val_dice' was not in top 1\n"
          ]
        },
        {
          "name": "stdout",
          "output_type": "stream",
          "text": [
            "current epoch: 52 current mean dice: 0.0091 current mean iou: 0.3943\n",
            "best mean dice: 0.0126 at epoch: 49\n",
            "[neptune] [error  ] Error occurred during asynchronous operation processing: X-coordinates (step) must be strictly increasing for series attribute: training/epoch. Invalid point: 264.0\n"
          ]
        },
        {
          "data": {
            "application/vnd.jupyter.widget-view+json": {
              "model_id": "29633e2909924a388acab1972d991a88",
              "version_major": 2,
              "version_minor": 0
            },
            "text/plain": [
              "Validation: |          | 0/? [00:00<?, ?it/s]"
            ]
          },
          "metadata": {},
          "output_type": "display_data"
        },
        {
          "name": "stderr",
          "output_type": "stream",
          "text": [
            "Epoch 53, global step 270: 'val_dice' was not in top 1\n"
          ]
        },
        {
          "name": "stdout",
          "output_type": "stream",
          "text": [
            "current epoch: 53 current mean dice: 0.0097 current mean iou: 0.4018\n",
            "best mean dice: 0.0126 at epoch: 49\n",
            "[neptune] [error  ] Error occurred during asynchronous operation processing: X-coordinates (step) must be strictly increasing for series attribute: training/epoch. Invalid point: 269.0\n"
          ]
        },
        {
          "data": {
            "application/vnd.jupyter.widget-view+json": {
              "model_id": "bc9f33897d844c089d2042df14bef6e5",
              "version_major": 2,
              "version_minor": 0
            },
            "text/plain": [
              "Validation: |          | 0/? [00:00<?, ?it/s]"
            ]
          },
          "metadata": {},
          "output_type": "display_data"
        },
        {
          "name": "stderr",
          "output_type": "stream",
          "text": [
            "Epoch 54, global step 275: 'val_dice' was not in top 1\n"
          ]
        },
        {
          "name": "stdout",
          "output_type": "stream",
          "text": [
            "current epoch: 54 current mean dice: 0.0092 current mean iou: 0.3963\n",
            "best mean dice: 0.0126 at epoch: 49\n",
            "[neptune] [error  ] Error occurred during asynchronous operation processing: X-coordinates (step) must be strictly increasing for series attribute: training/epoch. Invalid point: 274.0\n"
          ]
        },
        {
          "data": {
            "application/vnd.jupyter.widget-view+json": {
              "model_id": "83c2f36548c34d9d8653c289002dcc24",
              "version_major": 2,
              "version_minor": 0
            },
            "text/plain": [
              "Validation: |          | 0/? [00:00<?, ?it/s]"
            ]
          },
          "metadata": {},
          "output_type": "display_data"
        },
        {
          "name": "stderr",
          "output_type": "stream",
          "text": [
            "Epoch 55, global step 280: 'val_dice' was not in top 1\n"
          ]
        },
        {
          "name": "stdout",
          "output_type": "stream",
          "text": [
            "current epoch: 55 current mean dice: 0.0101 current mean iou: 0.4070\n",
            "best mean dice: 0.0126 at epoch: 49\n",
            "[neptune] [error  ] Error occurred during asynchronous operation processing: X-coordinates (step) must be strictly increasing for series attribute: training/epoch. Invalid point: 279.0\n"
          ]
        },
        {
          "data": {
            "application/vnd.jupyter.widget-view+json": {
              "model_id": "a2ac78581a2540efaa0a374ebb5bb68d",
              "version_major": 2,
              "version_minor": 0
            },
            "text/plain": [
              "Validation: |          | 0/? [00:00<?, ?it/s]"
            ]
          },
          "metadata": {},
          "output_type": "display_data"
        },
        {
          "name": "stderr",
          "output_type": "stream",
          "text": [
            "Epoch 56, global step 285: 'val_dice' reached 0.01428 (best 0.01428), saving model to '/home/pawel/Documents/RISA/3D_segmentation/AeroPath/checkpoints/whole_epoch=56-val_dice=0.0143.ckpt' as top 1\n"
          ]
        },
        {
          "name": "stdout",
          "output_type": "stream",
          "text": [
            "current epoch: 56 current mean dice: 0.0143 current mean iou: 0.4379\n",
            "best mean dice: 0.0143 at epoch: 56\n",
            "[neptune] [error  ] Error occurred during asynchronous operation processing: X-coordinates (step) must be strictly increasing for series attribute: training/epoch. Invalid point: 284.0\n"
          ]
        },
        {
          "data": {
            "application/vnd.jupyter.widget-view+json": {
              "model_id": "86243fe04681485cb3bc2aa75efdcf9b",
              "version_major": 2,
              "version_minor": 0
            },
            "text/plain": [
              "Validation: |          | 0/? [00:00<?, ?it/s]"
            ]
          },
          "metadata": {},
          "output_type": "display_data"
        },
        {
          "name": "stderr",
          "output_type": "stream",
          "text": [
            "Epoch 57, global step 290: 'val_dice' was not in top 1\n"
          ]
        },
        {
          "name": "stdout",
          "output_type": "stream",
          "text": [
            "current epoch: 57 current mean dice: 0.0113 current mean iou: 0.4208\n",
            "best mean dice: 0.0143 at epoch: 56\n",
            "[neptune] [error  ] Error occurred during asynchronous operation processing: X-coordinates (step) must be strictly increasing for series attribute: training/epoch. Invalid point: 289.0\n"
          ]
        },
        {
          "data": {
            "application/vnd.jupyter.widget-view+json": {
              "model_id": "5c367b2c63bd4a8fa474bc8f7ef2d602",
              "version_major": 2,
              "version_minor": 0
            },
            "text/plain": [
              "Validation: |          | 0/? [00:00<?, ?it/s]"
            ]
          },
          "metadata": {},
          "output_type": "display_data"
        },
        {
          "name": "stderr",
          "output_type": "stream",
          "text": [
            "Epoch 58, global step 295: 'val_dice' was not in top 1\n"
          ]
        },
        {
          "name": "stdout",
          "output_type": "stream",
          "text": [
            "current epoch: 58 current mean dice: 0.0084 current mean iou: 0.3874\n",
            "best mean dice: 0.0143 at epoch: 56\n",
            "[neptune] [error  ] Error occurred during asynchronous operation processing: X-coordinates (step) must be strictly increasing for series attribute: training/epoch. Invalid point: 294.0\n"
          ]
        },
        {
          "data": {
            "application/vnd.jupyter.widget-view+json": {
              "model_id": "600a22ea3b874de391f8678f55881b8c",
              "version_major": 2,
              "version_minor": 0
            },
            "text/plain": [
              "Validation: |          | 0/? [00:00<?, ?it/s]"
            ]
          },
          "metadata": {},
          "output_type": "display_data"
        },
        {
          "name": "stderr",
          "output_type": "stream",
          "text": [
            "Epoch 59, global step 300: 'val_dice' was not in top 1\n"
          ]
        },
        {
          "name": "stdout",
          "output_type": "stream",
          "text": [
            "current epoch: 59 current mean dice: 0.0066 current mean iou: 0.3565\n",
            "best mean dice: 0.0143 at epoch: 56\n",
            "[neptune] [error  ] Error occurred during asynchronous operation processing: X-coordinates (step) must be strictly increasing for series attribute: training/epoch. Invalid point: 299.0\n"
          ]
        },
        {
          "data": {
            "application/vnd.jupyter.widget-view+json": {
              "model_id": "045cf9af19af45849864f8c0f602aadb",
              "version_major": 2,
              "version_minor": 0
            },
            "text/plain": [
              "Validation: |          | 0/? [00:00<?, ?it/s]"
            ]
          },
          "metadata": {},
          "output_type": "display_data"
        },
        {
          "name": "stderr",
          "output_type": "stream",
          "text": [
            "Epoch 60, global step 305: 'val_dice' was not in top 1\n"
          ]
        },
        {
          "name": "stdout",
          "output_type": "stream",
          "text": [
            "current epoch: 60 current mean dice: 0.0112 current mean iou: 0.4175\n",
            "best mean dice: 0.0143 at epoch: 56\n",
            "[neptune] [error  ] Error occurred during asynchronous operation processing: X-coordinates (step) must be strictly increasing for series attribute: training/epoch. Invalid point: 304.0\n"
          ]
        },
        {
          "data": {
            "application/vnd.jupyter.widget-view+json": {
              "model_id": "31f719b8cf78424eb34d79af67cfe16a",
              "version_major": 2,
              "version_minor": 0
            },
            "text/plain": [
              "Validation: |          | 0/? [00:00<?, ?it/s]"
            ]
          },
          "metadata": {},
          "output_type": "display_data"
        },
        {
          "name": "stderr",
          "output_type": "stream",
          "text": [
            "Epoch 61, global step 310: 'val_dice' was not in top 1\n"
          ]
        },
        {
          "name": "stdout",
          "output_type": "stream",
          "text": [
            "current epoch: 61 current mean dice: 0.0069 current mean iou: 0.3700\n",
            "best mean dice: 0.0143 at epoch: 56\n",
            "[neptune] [error  ] Error occurred during asynchronous operation processing: X-coordinates (step) must be strictly increasing for series attribute: training/epoch. Invalid point: 309.0\n"
          ]
        },
        {
          "data": {
            "application/vnd.jupyter.widget-view+json": {
              "model_id": "c261aa38419849e9839436dc8d42be29",
              "version_major": 2,
              "version_minor": 0
            },
            "text/plain": [
              "Validation: |          | 0/? [00:00<?, ?it/s]"
            ]
          },
          "metadata": {},
          "output_type": "display_data"
        },
        {
          "name": "stderr",
          "output_type": "stream",
          "text": [
            "Epoch 62, global step 315: 'val_dice' reached 0.02131 (best 0.02131), saving model to '/home/pawel/Documents/RISA/3D_segmentation/AeroPath/checkpoints/whole_epoch=62-val_dice=0.0213.ckpt' as top 1\n"
          ]
        },
        {
          "name": "stdout",
          "output_type": "stream",
          "text": [
            "current epoch: 62 current mean dice: 0.0213 current mean iou: 0.4616\n",
            "best mean dice: 0.0213 at epoch: 62\n",
            "[neptune] [error  ] Error occurred during asynchronous operation processing: X-coordinates (step) must be strictly increasing for series attribute: training/epoch. Invalid point: 314.0\n"
          ]
        },
        {
          "data": {
            "application/vnd.jupyter.widget-view+json": {
              "model_id": "ec7aff2d4d46421a9585704c65cecde9",
              "version_major": 2,
              "version_minor": 0
            },
            "text/plain": [
              "Validation: |          | 0/? [00:00<?, ?it/s]"
            ]
          },
          "metadata": {},
          "output_type": "display_data"
        },
        {
          "name": "stderr",
          "output_type": "stream",
          "text": [
            "Epoch 63, global step 320: 'val_dice' was not in top 1\n"
          ]
        },
        {
          "name": "stdout",
          "output_type": "stream",
          "text": [
            "current epoch: 63 current mean dice: 0.0110 current mean iou: 0.4161\n",
            "best mean dice: 0.0213 at epoch: 62\n",
            "[neptune] [error  ] Error occurred during asynchronous operation processing: X-coordinates (step) must be strictly increasing for series attribute: training/epoch. Invalid point: 319.0\n"
          ]
        },
        {
          "data": {
            "application/vnd.jupyter.widget-view+json": {
              "model_id": "3751ebd0fd8c4c7fb6710861c5134a0b",
              "version_major": 2,
              "version_minor": 0
            },
            "text/plain": [
              "Validation: |          | 0/? [00:00<?, ?it/s]"
            ]
          },
          "metadata": {},
          "output_type": "display_data"
        },
        {
          "name": "stderr",
          "output_type": "stream",
          "text": [
            "Epoch 64, global step 325: 'val_dice' was not in top 1\n"
          ]
        },
        {
          "name": "stdout",
          "output_type": "stream",
          "text": [
            "current epoch: 64 current mean dice: 0.0119 current mean iou: 0.4233\n",
            "best mean dice: 0.0213 at epoch: 62\n",
            "[neptune] [error  ] Error occurred during asynchronous operation processing: X-coordinates (step) must be strictly increasing for series attribute: training/epoch. Invalid point: 324.0\n"
          ]
        },
        {
          "data": {
            "application/vnd.jupyter.widget-view+json": {
              "model_id": "5702c5edad7d42e5aa74e6ac955c4535",
              "version_major": 2,
              "version_minor": 0
            },
            "text/plain": [
              "Validation: |          | 0/? [00:00<?, ?it/s]"
            ]
          },
          "metadata": {},
          "output_type": "display_data"
        },
        {
          "name": "stderr",
          "output_type": "stream",
          "text": [
            "Epoch 65, global step 330: 'val_dice' was not in top 1\n"
          ]
        },
        {
          "name": "stdout",
          "output_type": "stream",
          "text": [
            "current epoch: 65 current mean dice: 0.0091 current mean iou: 0.3971\n",
            "best mean dice: 0.0213 at epoch: 62\n",
            "[neptune] [error  ] Error occurred during asynchronous operation processing: X-coordinates (step) must be strictly increasing for series attribute: training/epoch. Invalid point: 329.0\n"
          ]
        },
        {
          "data": {
            "application/vnd.jupyter.widget-view+json": {
              "model_id": "4177db329af8402eac2a51ba7a63c14d",
              "version_major": 2,
              "version_minor": 0
            },
            "text/plain": [
              "Validation: |          | 0/? [00:00<?, ?it/s]"
            ]
          },
          "metadata": {},
          "output_type": "display_data"
        },
        {
          "name": "stderr",
          "output_type": "stream",
          "text": [
            "Epoch 66, global step 335: 'val_dice' was not in top 1\n"
          ]
        },
        {
          "name": "stdout",
          "output_type": "stream",
          "text": [
            "current epoch: 66 current mean dice: 0.0101 current mean iou: 0.4090\n",
            "best mean dice: 0.0213 at epoch: 62\n",
            "[neptune] [error  ] Error occurred during asynchronous operation processing: X-coordinates (step) must be strictly increasing for series attribute: training/epoch. Invalid point: 334.0\n"
          ]
        },
        {
          "data": {
            "application/vnd.jupyter.widget-view+json": {
              "model_id": "04e46debf4c94e7dae17749af46c083f",
              "version_major": 2,
              "version_minor": 0
            },
            "text/plain": [
              "Validation: |          | 0/? [00:00<?, ?it/s]"
            ]
          },
          "metadata": {},
          "output_type": "display_data"
        },
        {
          "name": "stderr",
          "output_type": "stream",
          "text": [
            "Epoch 67, global step 340: 'val_dice' was not in top 1\n"
          ]
        },
        {
          "name": "stdout",
          "output_type": "stream",
          "text": [
            "current epoch: 67 current mean dice: 0.0140 current mean iou: 0.4348\n",
            "best mean dice: 0.0213 at epoch: 62\n",
            "[neptune] [error  ] Error occurred during asynchronous operation processing: X-coordinates (step) must be strictly increasing for series attribute: training/epoch. Invalid point: 339.0\n"
          ]
        },
        {
          "data": {
            "application/vnd.jupyter.widget-view+json": {
              "model_id": "5d03745371164b03927203d4ed0d8771",
              "version_major": 2,
              "version_minor": 0
            },
            "text/plain": [
              "Validation: |          | 0/? [00:00<?, ?it/s]"
            ]
          },
          "metadata": {},
          "output_type": "display_data"
        },
        {
          "name": "stderr",
          "output_type": "stream",
          "text": [
            "Epoch 68, global step 345: 'val_dice' was not in top 1\n"
          ]
        },
        {
          "name": "stdout",
          "output_type": "stream",
          "text": [
            "current epoch: 68 current mean dice: 0.0081 current mean iou: 0.3925\n",
            "best mean dice: 0.0213 at epoch: 62\n",
            "[neptune] [error  ] Error occurred during asynchronous operation processing: X-coordinates (step) must be strictly increasing for series attribute: training/epoch. Invalid point: 344.0\n"
          ]
        },
        {
          "data": {
            "application/vnd.jupyter.widget-view+json": {
              "model_id": "f6415dbfa77d48b5a3eea4f2814cf0b3",
              "version_major": 2,
              "version_minor": 0
            },
            "text/plain": [
              "Validation: |          | 0/? [00:00<?, ?it/s]"
            ]
          },
          "metadata": {},
          "output_type": "display_data"
        },
        {
          "name": "stderr",
          "output_type": "stream",
          "text": [
            "Epoch 69, global step 350: 'val_dice' was not in top 1\n"
          ]
        },
        {
          "name": "stdout",
          "output_type": "stream",
          "text": [
            "current epoch: 69 current mean dice: 0.0116 current mean iou: 0.4184\n",
            "best mean dice: 0.0213 at epoch: 62\n",
            "[neptune] [error  ] Error occurred during asynchronous operation processing: X-coordinates (step) must be strictly increasing for series attribute: training/epoch. Invalid point: 349.0\n"
          ]
        },
        {
          "data": {
            "application/vnd.jupyter.widget-view+json": {
              "model_id": "2a06c2e3a2c047608641f19c70d661d0",
              "version_major": 2,
              "version_minor": 0
            },
            "text/plain": [
              "Validation: |          | 0/? [00:00<?, ?it/s]"
            ]
          },
          "metadata": {},
          "output_type": "display_data"
        },
        {
          "name": "stderr",
          "output_type": "stream",
          "text": [
            "Epoch 70, global step 355: 'val_dice' was not in top 1\n"
          ]
        },
        {
          "name": "stdout",
          "output_type": "stream",
          "text": [
            "current epoch: 70 current mean dice: 0.0102 current mean iou: 0.4103\n",
            "best mean dice: 0.0213 at epoch: 62\n",
            "[neptune] [error  ] Error occurred during asynchronous operation processing: X-coordinates (step) must be strictly increasing for series attribute: training/epoch. Invalid point: 354.0\n"
          ]
        },
        {
          "data": {
            "application/vnd.jupyter.widget-view+json": {
              "model_id": "3dcfc357f5cb41619d9de47c00940706",
              "version_major": 2,
              "version_minor": 0
            },
            "text/plain": [
              "Validation: |          | 0/? [00:00<?, ?it/s]"
            ]
          },
          "metadata": {},
          "output_type": "display_data"
        },
        {
          "name": "stderr",
          "output_type": "stream",
          "text": [
            "Epoch 71, global step 360: 'val_dice' was not in top 1\n"
          ]
        },
        {
          "name": "stdout",
          "output_type": "stream",
          "text": [
            "current epoch: 71 current mean dice: 0.0140 current mean iou: 0.4356\n",
            "best mean dice: 0.0213 at epoch: 62\n",
            "[neptune] [error  ] Error occurred during asynchronous operation processing: X-coordinates (step) must be strictly increasing for series attribute: training/epoch. Invalid point: 359.0\n"
          ]
        },
        {
          "data": {
            "application/vnd.jupyter.widget-view+json": {
              "model_id": "1972acc0dc804af8bb16f55f76e0a7ce",
              "version_major": 2,
              "version_minor": 0
            },
            "text/plain": [
              "Validation: |          | 0/? [00:00<?, ?it/s]"
            ]
          },
          "metadata": {},
          "output_type": "display_data"
        },
        {
          "name": "stderr",
          "output_type": "stream",
          "text": [
            "Epoch 72, global step 365: 'val_dice' was not in top 1\n"
          ]
        },
        {
          "name": "stdout",
          "output_type": "stream",
          "text": [
            "current epoch: 72 current mean dice: 0.0125 current mean iou: 0.4280\n",
            "best mean dice: 0.0213 at epoch: 62\n",
            "[neptune] [error  ] Error occurred during asynchronous operation processing: X-coordinates (step) must be strictly increasing for series attribute: training/epoch. Invalid point: 364.0\n"
          ]
        },
        {
          "data": {
            "application/vnd.jupyter.widget-view+json": {
              "model_id": "f9f3531926dc4c2cb4f16469f855948a",
              "version_major": 2,
              "version_minor": 0
            },
            "text/plain": [
              "Validation: |          | 0/? [00:00<?, ?it/s]"
            ]
          },
          "metadata": {},
          "output_type": "display_data"
        },
        {
          "name": "stderr",
          "output_type": "stream",
          "text": [
            "Epoch 73, global step 370: 'val_dice' was not in top 1\n"
          ]
        },
        {
          "name": "stdout",
          "output_type": "stream",
          "text": [
            "current epoch: 73 current mean dice: 0.0075 current mean iou: 0.3705\n",
            "best mean dice: 0.0213 at epoch: 62\n",
            "[neptune] [error  ] Error occurred during asynchronous operation processing: X-coordinates (step) must be strictly increasing for series attribute: training/epoch. Invalid point: 369.0\n"
          ]
        },
        {
          "data": {
            "application/vnd.jupyter.widget-view+json": {
              "model_id": "1b7a1f7451af4b0d8bdfd0acce702f1d",
              "version_major": 2,
              "version_minor": 0
            },
            "text/plain": [
              "Validation: |          | 0/? [00:00<?, ?it/s]"
            ]
          },
          "metadata": {},
          "output_type": "display_data"
        },
        {
          "name": "stderr",
          "output_type": "stream",
          "text": [
            "Epoch 74, global step 375: 'val_dice' was not in top 1\n"
          ]
        },
        {
          "name": "stdout",
          "output_type": "stream",
          "text": [
            "current epoch: 74 current mean dice: 0.0074 current mean iou: 0.3711\n",
            "best mean dice: 0.0213 at epoch: 62\n",
            "[neptune] [error  ] Error occurred during asynchronous operation processing: X-coordinates (step) must be strictly increasing for series attribute: training/epoch. Invalid point: 374.0\n"
          ]
        },
        {
          "data": {
            "application/vnd.jupyter.widget-view+json": {
              "model_id": "d29b1b513f76472e9682814b6249c492",
              "version_major": 2,
              "version_minor": 0
            },
            "text/plain": [
              "Validation: |          | 0/? [00:00<?, ?it/s]"
            ]
          },
          "metadata": {},
          "output_type": "display_data"
        },
        {
          "name": "stderr",
          "output_type": "stream",
          "text": [
            "Epoch 75, global step 380: 'val_dice' was not in top 1\n"
          ]
        },
        {
          "name": "stdout",
          "output_type": "stream",
          "text": [
            "current epoch: 75 current mean dice: 0.0066 current mean iou: 0.3548\n",
            "best mean dice: 0.0213 at epoch: 62\n",
            "[neptune] [error  ] Error occurred during asynchronous operation processing: X-coordinates (step) must be strictly increasing for series attribute: training/epoch. Invalid point: 379.0\n"
          ]
        },
        {
          "data": {
            "application/vnd.jupyter.widget-view+json": {
              "model_id": "52267ca212684606a6ebb01280f2750c",
              "version_major": 2,
              "version_minor": 0
            },
            "text/plain": [
              "Validation: |          | 0/? [00:00<?, ?it/s]"
            ]
          },
          "metadata": {},
          "output_type": "display_data"
        },
        {
          "name": "stderr",
          "output_type": "stream",
          "text": [
            "Epoch 76, global step 385: 'val_dice' was not in top 1\n"
          ]
        },
        {
          "name": "stdout",
          "output_type": "stream",
          "text": [
            "current epoch: 76 current mean dice: 0.0089 current mean iou: 0.3925\n",
            "best mean dice: 0.0213 at epoch: 62\n",
            "[neptune] [error  ] Error occurred during asynchronous operation processing: X-coordinates (step) must be strictly increasing for series attribute: training/epoch. Invalid point: 384.0\n"
          ]
        },
        {
          "data": {
            "application/vnd.jupyter.widget-view+json": {
              "model_id": "c5921ec1ac5a42ed8eb196cbbe56b3fb",
              "version_major": 2,
              "version_minor": 0
            },
            "text/plain": [
              "Validation: |          | 0/? [00:00<?, ?it/s]"
            ]
          },
          "metadata": {},
          "output_type": "display_data"
        },
        {
          "name": "stderr",
          "output_type": "stream",
          "text": [
            "Epoch 77, global step 390: 'val_dice' was not in top 1\n"
          ]
        },
        {
          "name": "stdout",
          "output_type": "stream",
          "text": [
            "current epoch: 77 current mean dice: 0.0083 current mean iou: 0.3853\n",
            "best mean dice: 0.0213 at epoch: 62\n",
            "[neptune] [error  ] Error occurred during asynchronous operation processing: X-coordinates (step) must be strictly increasing for series attribute: training/epoch. Invalid point: 389.0\n"
          ]
        },
        {
          "data": {
            "application/vnd.jupyter.widget-view+json": {
              "model_id": "ec763701671948f4b9496dbe1878584a",
              "version_major": 2,
              "version_minor": 0
            },
            "text/plain": [
              "Validation: |          | 0/? [00:00<?, ?it/s]"
            ]
          },
          "metadata": {},
          "output_type": "display_data"
        },
        {
          "name": "stderr",
          "output_type": "stream",
          "text": [
            "Epoch 78, global step 395: 'val_dice' was not in top 1\n"
          ]
        },
        {
          "name": "stdout",
          "output_type": "stream",
          "text": [
            "current epoch: 78 current mean dice: 0.0101 current mean iou: 0.4062\n",
            "best mean dice: 0.0213 at epoch: 62\n",
            "[neptune] [error  ] Error occurred during asynchronous operation processing: X-coordinates (step) must be strictly increasing for series attribute: training/epoch. Invalid point: 394.0\n"
          ]
        },
        {
          "data": {
            "application/vnd.jupyter.widget-view+json": {
              "model_id": "816aa0f595d04463a033533a2fe43d92",
              "version_major": 2,
              "version_minor": 0
            },
            "text/plain": [
              "Validation: |          | 0/? [00:00<?, ?it/s]"
            ]
          },
          "metadata": {},
          "output_type": "display_data"
        },
        {
          "name": "stderr",
          "output_type": "stream",
          "text": [
            "Epoch 79, global step 400: 'val_dice' reached 0.06397 (best 0.06397), saving model to '/home/pawel/Documents/RISA/3D_segmentation/AeroPath/checkpoints/whole_epoch=79-val_dice=0.0640.ckpt' as top 1\n"
          ]
        },
        {
          "name": "stdout",
          "output_type": "stream",
          "text": [
            "current epoch: 79 current mean dice: 0.0640 current mean iou: 0.5029\n",
            "best mean dice: 0.0640 at epoch: 79\n",
            "[neptune] [error  ] Error occurred during asynchronous operation processing: X-coordinates (step) must be strictly increasing for series attribute: training/epoch. Invalid point: 399.0\n"
          ]
        },
        {
          "data": {
            "application/vnd.jupyter.widget-view+json": {
              "model_id": "2778ce7b3dc6431ab408c4475baead3d",
              "version_major": 2,
              "version_minor": 0
            },
            "text/plain": [
              "Validation: |          | 0/? [00:00<?, ?it/s]"
            ]
          },
          "metadata": {},
          "output_type": "display_data"
        },
        {
          "name": "stderr",
          "output_type": "stream",
          "text": [
            "Epoch 80, global step 405: 'val_dice' was not in top 1\n"
          ]
        },
        {
          "name": "stdout",
          "output_type": "stream",
          "text": [
            "current epoch: 80 current mean dice: 0.0624 current mean iou: 0.5035\n",
            "best mean dice: 0.0640 at epoch: 79\n",
            "[neptune] [error  ] Error occurred during asynchronous operation processing: X-coordinates (step) must be strictly increasing for series attribute: training/epoch. Invalid point: 404.0\n"
          ]
        },
        {
          "data": {
            "application/vnd.jupyter.widget-view+json": {
              "model_id": "668908f58949469bb4ef66fc4af32680",
              "version_major": 2,
              "version_minor": 0
            },
            "text/plain": [
              "Validation: |          | 0/? [00:00<?, ?it/s]"
            ]
          },
          "metadata": {},
          "output_type": "display_data"
        },
        {
          "name": "stderr",
          "output_type": "stream",
          "text": [
            "Epoch 81, global step 410: 'val_dice' was not in top 1\n"
          ]
        },
        {
          "name": "stdout",
          "output_type": "stream",
          "text": [
            "current epoch: 81 current mean dice: 0.0316 current mean iou: 0.4827\n",
            "best mean dice: 0.0640 at epoch: 79\n",
            "[neptune] [error  ] Error occurred during asynchronous operation processing: X-coordinates (step) must be strictly increasing for series attribute: training/epoch. Invalid point: 409.0\n"
          ]
        },
        {
          "data": {
            "application/vnd.jupyter.widget-view+json": {
              "model_id": "8f15a2044607400194572062e8cd52a3",
              "version_major": 2,
              "version_minor": 0
            },
            "text/plain": [
              "Validation: |          | 0/? [00:00<?, ?it/s]"
            ]
          },
          "metadata": {},
          "output_type": "display_data"
        },
        {
          "name": "stderr",
          "output_type": "stream",
          "text": [
            "Epoch 82, global step 415: 'val_dice' was not in top 1\n"
          ]
        },
        {
          "name": "stdout",
          "output_type": "stream",
          "text": [
            "current epoch: 82 current mean dice: 0.0576 current mean iou: 0.5000\n",
            "best mean dice: 0.0640 at epoch: 79\n",
            "[neptune] [error  ] Error occurred during asynchronous operation processing: X-coordinates (step) must be strictly increasing for series attribute: training/epoch. Invalid point: 414.0\n"
          ]
        },
        {
          "data": {
            "application/vnd.jupyter.widget-view+json": {
              "model_id": "28bc41d8acc040a2b79033410d7457e6",
              "version_major": 2,
              "version_minor": 0
            },
            "text/plain": [
              "Validation: |          | 0/? [00:00<?, ?it/s]"
            ]
          },
          "metadata": {},
          "output_type": "display_data"
        },
        {
          "name": "stderr",
          "output_type": "stream",
          "text": [
            "Epoch 83, global step 420: 'val_dice' was not in top 1\n"
          ]
        },
        {
          "name": "stdout",
          "output_type": "stream",
          "text": [
            "current epoch: 83 current mean dice: 0.0419 current mean iou: 0.4911\n",
            "best mean dice: 0.0640 at epoch: 79\n",
            "[neptune] [error  ] Error occurred during asynchronous operation processing: X-coordinates (step) must be strictly increasing for series attribute: training/epoch. Invalid point: 419.0\n"
          ]
        },
        {
          "data": {
            "application/vnd.jupyter.widget-view+json": {
              "model_id": "13b21def33834fd8b988359465ad3715",
              "version_major": 2,
              "version_minor": 0
            },
            "text/plain": [
              "Validation: |          | 0/? [00:00<?, ?it/s]"
            ]
          },
          "metadata": {},
          "output_type": "display_data"
        },
        {
          "name": "stderr",
          "output_type": "stream",
          "text": [
            "Epoch 84, global step 425: 'val_dice' was not in top 1\n"
          ]
        },
        {
          "name": "stdout",
          "output_type": "stream",
          "text": [
            "current epoch: 84 current mean dice: 0.0304 current mean iou: 0.4773\n",
            "best mean dice: 0.0640 at epoch: 79\n",
            "[neptune] [error  ] Error occurred during asynchronous operation processing: X-coordinates (step) must be strictly increasing for series attribute: training/epoch. Invalid point: 424.0\n"
          ]
        },
        {
          "data": {
            "application/vnd.jupyter.widget-view+json": {
              "model_id": "42738e9ebd9a4615b8bf4252f056388e",
              "version_major": 2,
              "version_minor": 0
            },
            "text/plain": [
              "Validation: |          | 0/? [00:00<?, ?it/s]"
            ]
          },
          "metadata": {},
          "output_type": "display_data"
        },
        {
          "name": "stderr",
          "output_type": "stream",
          "text": [
            "Epoch 85, global step 430: 'val_dice' was not in top 1\n"
          ]
        },
        {
          "name": "stdout",
          "output_type": "stream",
          "text": [
            "current epoch: 85 current mean dice: 0.0452 current mean iou: 0.4925\n",
            "best mean dice: 0.0640 at epoch: 79\n",
            "[neptune] [error  ] Error occurred during asynchronous operation processing: X-coordinates (step) must be strictly increasing for series attribute: training/epoch. Invalid point: 429.0\n"
          ]
        },
        {
          "data": {
            "application/vnd.jupyter.widget-view+json": {
              "model_id": "635258ae39844c8387b34673b038d188",
              "version_major": 2,
              "version_minor": 0
            },
            "text/plain": [
              "Validation: |          | 0/? [00:00<?, ?it/s]"
            ]
          },
          "metadata": {},
          "output_type": "display_data"
        },
        {
          "name": "stderr",
          "output_type": "stream",
          "text": [
            "Epoch 86, global step 435: 'val_dice' was not in top 1\n"
          ]
        },
        {
          "name": "stdout",
          "output_type": "stream",
          "text": [
            "current epoch: 86 current mean dice: 0.0609 current mean iou: 0.5013\n",
            "best mean dice: 0.0640 at epoch: 79\n",
            "[neptune] [error  ] Error occurred during asynchronous operation processing: X-coordinates (step) must be strictly increasing for series attribute: training/epoch. Invalid point: 434.0\n"
          ]
        },
        {
          "data": {
            "application/vnd.jupyter.widget-view+json": {
              "model_id": "f6ab27c213d4476bafe618177efd3818",
              "version_major": 2,
              "version_minor": 0
            },
            "text/plain": [
              "Validation: |          | 0/? [00:00<?, ?it/s]"
            ]
          },
          "metadata": {},
          "output_type": "display_data"
        },
        {
          "name": "stderr",
          "output_type": "stream",
          "text": [
            "Epoch 87, global step 440: 'val_dice' was not in top 1\n"
          ]
        },
        {
          "name": "stdout",
          "output_type": "stream",
          "text": [
            "current epoch: 87 current mean dice: 0.0444 current mean iou: 0.4916\n",
            "best mean dice: 0.0640 at epoch: 79\n",
            "[neptune] [error  ] Error occurred during asynchronous operation processing: X-coordinates (step) must be strictly increasing for series attribute: training/epoch. Invalid point: 439.0\n"
          ]
        },
        {
          "data": {
            "application/vnd.jupyter.widget-view+json": {
              "model_id": "be53f11105094341a258b5c635881187",
              "version_major": 2,
              "version_minor": 0
            },
            "text/plain": [
              "Validation: |          | 0/? [00:00<?, ?it/s]"
            ]
          },
          "metadata": {},
          "output_type": "display_data"
        },
        {
          "name": "stderr",
          "output_type": "stream",
          "text": [
            "Epoch 88, global step 445: 'val_dice' was not in top 1\n"
          ]
        },
        {
          "name": "stdout",
          "output_type": "stream",
          "text": [
            "current epoch: 88 current mean dice: 0.0381 current mean iou: 0.4874\n",
            "best mean dice: 0.0640 at epoch: 79\n",
            "[neptune] [error  ] Error occurred during asynchronous operation processing: X-coordinates (step) must be strictly increasing for series attribute: training/epoch. Invalid point: 444.0\n"
          ]
        },
        {
          "data": {
            "application/vnd.jupyter.widget-view+json": {
              "model_id": "d6e87cb70a864213a58585c507cc2c95",
              "version_major": 2,
              "version_minor": 0
            },
            "text/plain": [
              "Validation: |          | 0/? [00:00<?, ?it/s]"
            ]
          },
          "metadata": {},
          "output_type": "display_data"
        },
        {
          "name": "stderr",
          "output_type": "stream",
          "text": [
            "Epoch 89, global step 450: 'val_dice' was not in top 1\n"
          ]
        },
        {
          "name": "stdout",
          "output_type": "stream",
          "text": [
            "current epoch: 89 current mean dice: 0.0218 current mean iou: 0.4591\n",
            "best mean dice: 0.0640 at epoch: 79\n",
            "[neptune] [error  ] Error occurred during asynchronous operation processing: X-coordinates (step) must be strictly increasing for series attribute: training/epoch. Invalid point: 449.0\n"
          ]
        },
        {
          "data": {
            "application/vnd.jupyter.widget-view+json": {
              "model_id": "dd53949094184536803354e950baaf90",
              "version_major": 2,
              "version_minor": 0
            },
            "text/plain": [
              "Validation: |          | 0/? [00:00<?, ?it/s]"
            ]
          },
          "metadata": {},
          "output_type": "display_data"
        },
        {
          "name": "stderr",
          "output_type": "stream",
          "text": [
            "Epoch 90, global step 455: 'val_dice' reached 0.06919 (best 0.06919), saving model to '/home/pawel/Documents/RISA/3D_segmentation/AeroPath/checkpoints/whole_epoch=90-val_dice=0.0692.ckpt' as top 1\n"
          ]
        },
        {
          "name": "stdout",
          "output_type": "stream",
          "text": [
            "current epoch: 90 current mean dice: 0.0692 current mean iou: 0.5034\n",
            "best mean dice: 0.0692 at epoch: 90\n",
            "[neptune] [error  ] Error occurred during asynchronous operation processing: X-coordinates (step) must be strictly increasing for series attribute: training/epoch. Invalid point: 454.0\n"
          ]
        },
        {
          "data": {
            "application/vnd.jupyter.widget-view+json": {
              "model_id": "461cef5fc88d4e6aa4e4661d31fc0952",
              "version_major": 2,
              "version_minor": 0
            },
            "text/plain": [
              "Validation: |          | 0/? [00:00<?, ?it/s]"
            ]
          },
          "metadata": {},
          "output_type": "display_data"
        },
        {
          "name": "stderr",
          "output_type": "stream",
          "text": [
            "Epoch 91, global step 460: 'val_dice' reached 0.24983 (best 0.24983), saving model to '/home/pawel/Documents/RISA/3D_segmentation/AeroPath/checkpoints/whole_epoch=91-val_dice=0.2498.ckpt' as top 1\n"
          ]
        },
        {
          "name": "stdout",
          "output_type": "stream",
          "text": [
            "current epoch: 91 current mean dice: 0.2498 current mean iou: 0.5697\n",
            "best mean dice: 0.2498 at epoch: 91\n",
            "[neptune] [error  ] Error occurred during asynchronous operation processing: X-coordinates (step) must be strictly increasing for series attribute: training/epoch. Invalid point: 459.0\n"
          ]
        },
        {
          "data": {
            "application/vnd.jupyter.widget-view+json": {
              "model_id": "ed0217949e134fed9d713e1048cd2cb4",
              "version_major": 2,
              "version_minor": 0
            },
            "text/plain": [
              "Validation: |          | 0/? [00:00<?, ?it/s]"
            ]
          },
          "metadata": {},
          "output_type": "display_data"
        },
        {
          "name": "stderr",
          "output_type": "stream",
          "text": [
            "Epoch 92, global step 465: 'val_dice' was not in top 1\n"
          ]
        },
        {
          "name": "stdout",
          "output_type": "stream",
          "text": [
            "current epoch: 92 current mean dice: 0.0385 current mean iou: 0.4863\n",
            "best mean dice: 0.2498 at epoch: 91\n",
            "[neptune] [error  ] Error occurred during asynchronous operation processing: X-coordinates (step) must be strictly increasing for series attribute: training/epoch. Invalid point: 464.0\n"
          ]
        },
        {
          "data": {
            "application/vnd.jupyter.widget-view+json": {
              "model_id": "f5cc2e54230d48798a9bd5194b68619e",
              "version_major": 2,
              "version_minor": 0
            },
            "text/plain": [
              "Validation: |          | 0/? [00:00<?, ?it/s]"
            ]
          },
          "metadata": {},
          "output_type": "display_data"
        },
        {
          "name": "stderr",
          "output_type": "stream",
          "text": [
            "Epoch 93, global step 470: 'val_dice' was not in top 1\n"
          ]
        },
        {
          "name": "stdout",
          "output_type": "stream",
          "text": [
            "current epoch: 93 current mean dice: 0.0458 current mean iou: 0.4934\n",
            "best mean dice: 0.2498 at epoch: 91\n",
            "[neptune] [error  ] Error occurred during asynchronous operation processing: X-coordinates (step) must be strictly increasing for series attribute: training/epoch. Invalid point: 469.0\n"
          ]
        },
        {
          "data": {
            "application/vnd.jupyter.widget-view+json": {
              "model_id": "25191e4b3b7e4a9eab5fc18731d1555f",
              "version_major": 2,
              "version_minor": 0
            },
            "text/plain": [
              "Validation: |          | 0/? [00:00<?, ?it/s]"
            ]
          },
          "metadata": {},
          "output_type": "display_data"
        },
        {
          "name": "stderr",
          "output_type": "stream",
          "text": [
            "Epoch 94, global step 475: 'val_dice' was not in top 1\n"
          ]
        },
        {
          "name": "stdout",
          "output_type": "stream",
          "text": [
            "current epoch: 94 current mean dice: 0.0409 current mean iou: 0.4888\n",
            "best mean dice: 0.2498 at epoch: 91\n",
            "[neptune] [error  ] Error occurred during asynchronous operation processing: X-coordinates (step) must be strictly increasing for series attribute: training/epoch. Invalid point: 474.0\n"
          ]
        },
        {
          "data": {
            "application/vnd.jupyter.widget-view+json": {
              "model_id": "62f3473a87c846cf8a7c1fbf1f5028ff",
              "version_major": 2,
              "version_minor": 0
            },
            "text/plain": [
              "Validation: |          | 0/? [00:00<?, ?it/s]"
            ]
          },
          "metadata": {},
          "output_type": "display_data"
        },
        {
          "name": "stderr",
          "output_type": "stream",
          "text": [
            "Epoch 95, global step 480: 'val_dice' was not in top 1\n"
          ]
        },
        {
          "name": "stdout",
          "output_type": "stream",
          "text": [
            "current epoch: 95 current mean dice: 0.0237 current mean iou: 0.4680\n",
            "best mean dice: 0.2498 at epoch: 91\n",
            "[neptune] [error  ] Error occurred during asynchronous operation processing: X-coordinates (step) must be strictly increasing for series attribute: training/epoch. Invalid point: 479.0\n"
          ]
        },
        {
          "data": {
            "application/vnd.jupyter.widget-view+json": {
              "model_id": "661c645b6dff4f4f80b7b6ffd5bb60f7",
              "version_major": 2,
              "version_minor": 0
            },
            "text/plain": [
              "Validation: |          | 0/? [00:00<?, ?it/s]"
            ]
          },
          "metadata": {},
          "output_type": "display_data"
        },
        {
          "name": "stderr",
          "output_type": "stream",
          "text": [
            "Epoch 96, global step 485: 'val_dice' was not in top 1\n"
          ]
        },
        {
          "name": "stdout",
          "output_type": "stream",
          "text": [
            "current epoch: 96 current mean dice: 0.0265 current mean iou: 0.4731\n",
            "best mean dice: 0.2498 at epoch: 91\n",
            "[neptune] [error  ] Error occurred during asynchronous operation processing: X-coordinates (step) must be strictly increasing for series attribute: training/epoch. Invalid point: 484.0\n"
          ]
        },
        {
          "data": {
            "application/vnd.jupyter.widget-view+json": {
              "model_id": "9b969ec68ca6476ab11e84effbd147af",
              "version_major": 2,
              "version_minor": 0
            },
            "text/plain": [
              "Validation: |          | 0/? [00:00<?, ?it/s]"
            ]
          },
          "metadata": {},
          "output_type": "display_data"
        },
        {
          "name": "stderr",
          "output_type": "stream",
          "text": [
            "Epoch 97, global step 490: 'val_dice' was not in top 1\n"
          ]
        },
        {
          "name": "stdout",
          "output_type": "stream",
          "text": [
            "current epoch: 97 current mean dice: 0.0355 current mean iou: 0.4816\n",
            "best mean dice: 0.2498 at epoch: 91\n",
            "[neptune] [error  ] Error occurred during asynchronous operation processing: X-coordinates (step) must be strictly increasing for series attribute: training/epoch. Invalid point: 489.0\n"
          ]
        },
        {
          "data": {
            "application/vnd.jupyter.widget-view+json": {
              "model_id": "1d7602d20483457390c241adf9c85018",
              "version_major": 2,
              "version_minor": 0
            },
            "text/plain": [
              "Validation: |          | 0/? [00:00<?, ?it/s]"
            ]
          },
          "metadata": {},
          "output_type": "display_data"
        },
        {
          "name": "stderr",
          "output_type": "stream",
          "text": [
            "Epoch 98, global step 495: 'val_dice' was not in top 1\n"
          ]
        },
        {
          "name": "stdout",
          "output_type": "stream",
          "text": [
            "current epoch: 98 current mean dice: 0.0129 current mean iou: 0.4265\n",
            "best mean dice: 0.2498 at epoch: 91\n",
            "[neptune] [error  ] Error occurred during asynchronous operation processing: X-coordinates (step) must be strictly increasing for series attribute: training/epoch. Invalid point: 494.0\n"
          ]
        },
        {
          "data": {
            "application/vnd.jupyter.widget-view+json": {
              "model_id": "1e6cbbd51eb44a42b1d9061d62342f3d",
              "version_major": 2,
              "version_minor": 0
            },
            "text/plain": [
              "Validation: |          | 0/? [00:00<?, ?it/s]"
            ]
          },
          "metadata": {},
          "output_type": "display_data"
        },
        {
          "name": "stderr",
          "output_type": "stream",
          "text": [
            "Epoch 99, global step 500: 'val_dice' was not in top 1\n"
          ]
        },
        {
          "name": "stdout",
          "output_type": "stream",
          "text": [
            "current epoch: 99 current mean dice: 0.0484 current mean iou: 0.4928\n",
            "best mean dice: 0.2498 at epoch: 91\n",
            "[neptune] [error  ] Error occurred during asynchronous operation processing: X-coordinates (step) must be strictly increasing for series attribute: training/epoch. Invalid point: 499.0\n"
          ]
        },
        {
          "data": {
            "application/vnd.jupyter.widget-view+json": {
              "model_id": "15612cf0fb604428838be5de78c6050b",
              "version_major": 2,
              "version_minor": 0
            },
            "text/plain": [
              "Validation: |          | 0/? [00:00<?, ?it/s]"
            ]
          },
          "metadata": {},
          "output_type": "display_data"
        },
        {
          "name": "stderr",
          "output_type": "stream",
          "text": [
            "Epoch 100, global step 505: 'val_dice' was not in top 1\n"
          ]
        },
        {
          "name": "stdout",
          "output_type": "stream",
          "text": [
            "current epoch: 100 current mean dice: 0.0738 current mean iou: 0.5072\n",
            "best mean dice: 0.2498 at epoch: 91\n",
            "[neptune] [error  ] Error occurred during asynchronous operation processing: X-coordinates (step) must be strictly increasing for series attribute: training/epoch. Invalid point: 504.0\n"
          ]
        },
        {
          "data": {
            "application/vnd.jupyter.widget-view+json": {
              "model_id": "3f1e8a6dc0174fb0a80f9edb9539b629",
              "version_major": 2,
              "version_minor": 0
            },
            "text/plain": [
              "Validation: |          | 0/? [00:00<?, ?it/s]"
            ]
          },
          "metadata": {},
          "output_type": "display_data"
        },
        {
          "name": "stderr",
          "output_type": "stream",
          "text": [
            "Epoch 101, global step 510: 'val_dice' was not in top 1\n"
          ]
        },
        {
          "name": "stdout",
          "output_type": "stream",
          "text": [
            "current epoch: 101 current mean dice: 0.1057 current mean iou: 0.5204\n",
            "best mean dice: 0.2498 at epoch: 91\n",
            "[neptune] [error  ] Error occurred during asynchronous operation processing: X-coordinates (step) must be strictly increasing for series attribute: training/epoch. Invalid point: 509.0\n"
          ]
        },
        {
          "data": {
            "application/vnd.jupyter.widget-view+json": {
              "model_id": "5d2852f8eab74abda5f6f02b2d0be143",
              "version_major": 2,
              "version_minor": 0
            },
            "text/plain": [
              "Validation: |          | 0/? [00:00<?, ?it/s]"
            ]
          },
          "metadata": {},
          "output_type": "display_data"
        },
        {
          "name": "stderr",
          "output_type": "stream",
          "text": [
            "Epoch 102, global step 515: 'val_dice' was not in top 1\n"
          ]
        },
        {
          "name": "stdout",
          "output_type": "stream",
          "text": [
            "current epoch: 102 current mean dice: 0.0981 current mean iou: 0.5174\n",
            "best mean dice: 0.2498 at epoch: 91\n",
            "[neptune] [error  ] Error occurred during asynchronous operation processing: X-coordinates (step) must be strictly increasing for series attribute: training/epoch. Invalid point: 514.0\n"
          ]
        },
        {
          "data": {
            "application/vnd.jupyter.widget-view+json": {
              "model_id": "67bae55040ad4804b88d87598298b5b9",
              "version_major": 2,
              "version_minor": 0
            },
            "text/plain": [
              "Validation: |          | 0/? [00:00<?, ?it/s]"
            ]
          },
          "metadata": {},
          "output_type": "display_data"
        },
        {
          "name": "stderr",
          "output_type": "stream",
          "text": [
            "Epoch 103, global step 520: 'val_dice' was not in top 1\n"
          ]
        },
        {
          "name": "stdout",
          "output_type": "stream",
          "text": [
            "current epoch: 103 current mean dice: 0.1622 current mean iou: 0.5398\n",
            "best mean dice: 0.2498 at epoch: 91\n",
            "[neptune] [error  ] Error occurred during asynchronous operation processing: X-coordinates (step) must be strictly increasing for series attribute: training/epoch. Invalid point: 519.0\n"
          ]
        },
        {
          "data": {
            "application/vnd.jupyter.widget-view+json": {
              "model_id": "90442755d052402ab114e98c1a1b9ca5",
              "version_major": 2,
              "version_minor": 0
            },
            "text/plain": [
              "Validation: |          | 0/? [00:00<?, ?it/s]"
            ]
          },
          "metadata": {},
          "output_type": "display_data"
        },
        {
          "name": "stderr",
          "output_type": "stream",
          "text": [
            "Epoch 104, global step 525: 'val_dice' was not in top 1\n"
          ]
        },
        {
          "name": "stdout",
          "output_type": "stream",
          "text": [
            "current epoch: 104 current mean dice: 0.1049 current mean iou: 0.5204\n",
            "best mean dice: 0.2498 at epoch: 91\n",
            "[neptune] [error  ] Error occurred during asynchronous operation processing: X-coordinates (step) must be strictly increasing for series attribute: training/epoch. Invalid point: 524.0\n"
          ]
        },
        {
          "data": {
            "application/vnd.jupyter.widget-view+json": {
              "model_id": "91f0d32758204a2590d6867822da2dc4",
              "version_major": 2,
              "version_minor": 0
            },
            "text/plain": [
              "Validation: |          | 0/? [00:00<?, ?it/s]"
            ]
          },
          "metadata": {},
          "output_type": "display_data"
        },
        {
          "name": "stderr",
          "output_type": "stream",
          "text": [
            "Epoch 105, global step 530: 'val_dice' was not in top 1\n"
          ]
        },
        {
          "name": "stdout",
          "output_type": "stream",
          "text": [
            "current epoch: 105 current mean dice: 0.0638 current mean iou: 0.5034\n",
            "best mean dice: 0.2498 at epoch: 91\n",
            "[neptune] [error  ] Error occurred during asynchronous operation processing: X-coordinates (step) must be strictly increasing for series attribute: training/epoch. Invalid point: 529.0\n"
          ]
        },
        {
          "data": {
            "application/vnd.jupyter.widget-view+json": {
              "model_id": "574d4ae73a864c8a85f5a275fa158bf7",
              "version_major": 2,
              "version_minor": 0
            },
            "text/plain": [
              "Validation: |          | 0/? [00:00<?, ?it/s]"
            ]
          },
          "metadata": {},
          "output_type": "display_data"
        },
        {
          "name": "stderr",
          "output_type": "stream",
          "text": [
            "Epoch 106, global step 535: 'val_dice' was not in top 1\n"
          ]
        },
        {
          "name": "stdout",
          "output_type": "stream",
          "text": [
            "current epoch: 106 current mean dice: 0.1508 current mean iou: 0.5362\n",
            "best mean dice: 0.2498 at epoch: 91\n",
            "[neptune] [error  ] Error occurred during asynchronous operation processing: X-coordinates (step) must be strictly increasing for series attribute: training/epoch. Invalid point: 534.0\n"
          ]
        },
        {
          "data": {
            "application/vnd.jupyter.widget-view+json": {
              "model_id": "1c7be3844b2f4a539100f15b5774c07f",
              "version_major": 2,
              "version_minor": 0
            },
            "text/plain": [
              "Validation: |          | 0/? [00:00<?, ?it/s]"
            ]
          },
          "metadata": {},
          "output_type": "display_data"
        },
        {
          "name": "stderr",
          "output_type": "stream",
          "text": [
            "Epoch 107, global step 540: 'val_dice' was not in top 1\n"
          ]
        },
        {
          "name": "stdout",
          "output_type": "stream",
          "text": [
            "current epoch: 107 current mean dice: 0.0654 current mean iou: 0.5040\n",
            "best mean dice: 0.2498 at epoch: 91\n",
            "[neptune] [error  ] Error occurred during asynchronous operation processing: X-coordinates (step) must be strictly increasing for series attribute: training/epoch. Invalid point: 539.0\n"
          ]
        },
        {
          "data": {
            "application/vnd.jupyter.widget-view+json": {
              "model_id": "1fb8b3725fc446aa9ed9ec939295c4f1",
              "version_major": 2,
              "version_minor": 0
            },
            "text/plain": [
              "Validation: |          | 0/? [00:00<?, ?it/s]"
            ]
          },
          "metadata": {},
          "output_type": "display_data"
        },
        {
          "name": "stderr",
          "output_type": "stream",
          "text": [
            "Epoch 108, global step 545: 'val_dice' was not in top 1\n"
          ]
        },
        {
          "name": "stdout",
          "output_type": "stream",
          "text": [
            "current epoch: 108 current mean dice: 0.0461 current mean iou: 0.4918\n",
            "best mean dice: 0.2498 at epoch: 91\n",
            "[neptune] [error  ] Error occurred during asynchronous operation processing: X-coordinates (step) must be strictly increasing for series attribute: training/epoch. Invalid point: 544.0\n"
          ]
        },
        {
          "data": {
            "application/vnd.jupyter.widget-view+json": {
              "model_id": "b1a9157b018b46d682818546e3258b58",
              "version_major": 2,
              "version_minor": 0
            },
            "text/plain": [
              "Validation: |          | 0/? [00:00<?, ?it/s]"
            ]
          },
          "metadata": {},
          "output_type": "display_data"
        },
        {
          "name": "stderr",
          "output_type": "stream",
          "text": [
            "Epoch 109, global step 550: 'val_dice' was not in top 1\n"
          ]
        },
        {
          "name": "stdout",
          "output_type": "stream",
          "text": [
            "current epoch: 109 current mean dice: 0.1781 current mean iou: 0.5451\n",
            "best mean dice: 0.2498 at epoch: 91\n",
            "[neptune] [error  ] Error occurred during asynchronous operation processing: X-coordinates (step) must be strictly increasing for series attribute: training/epoch. Invalid point: 549.0\n"
          ]
        },
        {
          "data": {
            "application/vnd.jupyter.widget-view+json": {
              "model_id": "c98a322bfb2a43debf4f060a2ed956f5",
              "version_major": 2,
              "version_minor": 0
            },
            "text/plain": [
              "Validation: |          | 0/? [00:00<?, ?it/s]"
            ]
          },
          "metadata": {},
          "output_type": "display_data"
        },
        {
          "name": "stderr",
          "output_type": "stream",
          "text": [
            "Epoch 110, global step 555: 'val_dice' was not in top 1\n"
          ]
        },
        {
          "name": "stdout",
          "output_type": "stream",
          "text": [
            "current epoch: 110 current mean dice: 0.0874 current mean iou: 0.5129\n",
            "best mean dice: 0.2498 at epoch: 91\n",
            "[neptune] [error  ] Error occurred during asynchronous operation processing: X-coordinates (step) must be strictly increasing for series attribute: training/epoch. Invalid point: 554.0\n"
          ]
        },
        {
          "data": {
            "application/vnd.jupyter.widget-view+json": {
              "model_id": "c9b41b4a47304f12ad9e467eceeac2a0",
              "version_major": 2,
              "version_minor": 0
            },
            "text/plain": [
              "Validation: |          | 0/? [00:00<?, ?it/s]"
            ]
          },
          "metadata": {},
          "output_type": "display_data"
        },
        {
          "name": "stderr",
          "output_type": "stream",
          "text": [
            "Epoch 111, global step 560: 'val_dice' was not in top 1\n"
          ]
        },
        {
          "name": "stdout",
          "output_type": "stream",
          "text": [
            "current epoch: 111 current mean dice: 0.0302 current mean iou: 0.4762\n",
            "best mean dice: 0.2498 at epoch: 91\n",
            "[neptune] [error  ] Error occurred during asynchronous operation processing: X-coordinates (step) must be strictly increasing for series attribute: training/epoch. Invalid point: 559.0\n"
          ]
        },
        {
          "data": {
            "application/vnd.jupyter.widget-view+json": {
              "model_id": "43378d850b364f12b79c75a587540bb0",
              "version_major": 2,
              "version_minor": 0
            },
            "text/plain": [
              "Validation: |          | 0/? [00:00<?, ?it/s]"
            ]
          },
          "metadata": {},
          "output_type": "display_data"
        },
        {
          "name": "stderr",
          "output_type": "stream",
          "text": [
            "Epoch 112, global step 565: 'val_dice' was not in top 1\n"
          ]
        },
        {
          "name": "stdout",
          "output_type": "stream",
          "text": [
            "current epoch: 112 current mean dice: 0.0370 current mean iou: 0.4845\n",
            "best mean dice: 0.2498 at epoch: 91\n",
            "[neptune] [error  ] Error occurred during asynchronous operation processing: X-coordinates (step) must be strictly increasing for series attribute: training/epoch. Invalid point: 564.0\n"
          ]
        },
        {
          "data": {
            "application/vnd.jupyter.widget-view+json": {
              "model_id": "5b70df88a73545efb7f4d3c8f595c578",
              "version_major": 2,
              "version_minor": 0
            },
            "text/plain": [
              "Validation: |          | 0/? [00:00<?, ?it/s]"
            ]
          },
          "metadata": {},
          "output_type": "display_data"
        },
        {
          "name": "stderr",
          "output_type": "stream",
          "text": [
            "Epoch 113, global step 570: 'val_dice' was not in top 1\n"
          ]
        },
        {
          "name": "stdout",
          "output_type": "stream",
          "text": [
            "current epoch: 113 current mean dice: 0.1012 current mean iou: 0.5187\n",
            "best mean dice: 0.2498 at epoch: 91\n",
            "[neptune] [error  ] Error occurred during asynchronous operation processing: X-coordinates (step) must be strictly increasing for series attribute: training/epoch. Invalid point: 569.0\n"
          ]
        },
        {
          "data": {
            "application/vnd.jupyter.widget-view+json": {
              "model_id": "cda0254c90bc437bac1b1de4c5ce5cd3",
              "version_major": 2,
              "version_minor": 0
            },
            "text/plain": [
              "Validation: |          | 0/? [00:00<?, ?it/s]"
            ]
          },
          "metadata": {},
          "output_type": "display_data"
        },
        {
          "name": "stderr",
          "output_type": "stream",
          "text": [
            "Epoch 114, global step 575: 'val_dice' was not in top 1\n"
          ]
        },
        {
          "name": "stdout",
          "output_type": "stream",
          "text": [
            "current epoch: 114 current mean dice: 0.1037 current mean iou: 0.5195\n",
            "best mean dice: 0.2498 at epoch: 91\n",
            "[neptune] [error  ] Error occurred during asynchronous operation processing: X-coordinates (step) must be strictly increasing for series attribute: training/epoch. Invalid point: 574.0\n"
          ]
        },
        {
          "data": {
            "application/vnd.jupyter.widget-view+json": {
              "model_id": "4306c1e32392480fbeee7c17db50dfc4",
              "version_major": 2,
              "version_minor": 0
            },
            "text/plain": [
              "Validation: |          | 0/? [00:00<?, ?it/s]"
            ]
          },
          "metadata": {},
          "output_type": "display_data"
        },
        {
          "name": "stderr",
          "output_type": "stream",
          "text": [
            "Epoch 115, global step 580: 'val_dice' was not in top 1\n"
          ]
        },
        {
          "name": "stdout",
          "output_type": "stream",
          "text": [
            "current epoch: 115 current mean dice: 0.0498 current mean iou: 0.4950\n",
            "best mean dice: 0.2498 at epoch: 91\n",
            "[neptune] [error  ] Error occurred during asynchronous operation processing: X-coordinates (step) must be strictly increasing for series attribute: training/epoch. Invalid point: 579.0\n"
          ]
        },
        {
          "data": {
            "application/vnd.jupyter.widget-view+json": {
              "model_id": "151fb47695574045b252e7a6ee0ff9aa",
              "version_major": 2,
              "version_minor": 0
            },
            "text/plain": [
              "Validation: |          | 0/? [00:00<?, ?it/s]"
            ]
          },
          "metadata": {},
          "output_type": "display_data"
        },
        {
          "name": "stderr",
          "output_type": "stream",
          "text": [
            "Epoch 116, global step 585: 'val_dice' was not in top 1\n"
          ]
        },
        {
          "name": "stdout",
          "output_type": "stream",
          "text": [
            "current epoch: 116 current mean dice: 0.1200 current mean iou: 0.5254\n",
            "best mean dice: 0.2498 at epoch: 91\n",
            "[neptune] [error  ] Error occurred during asynchronous operation processing: X-coordinates (step) must be strictly increasing for series attribute: training/epoch. Invalid point: 584.0\n"
          ]
        },
        {
          "data": {
            "application/vnd.jupyter.widget-view+json": {
              "model_id": "b2aa05030f514358b8a9b9754cd6c891",
              "version_major": 2,
              "version_minor": 0
            },
            "text/plain": [
              "Validation: |          | 0/? [00:00<?, ?it/s]"
            ]
          },
          "metadata": {},
          "output_type": "display_data"
        },
        {
          "name": "stderr",
          "output_type": "stream",
          "text": [
            "Epoch 117, global step 590: 'val_dice' was not in top 1\n"
          ]
        },
        {
          "name": "stdout",
          "output_type": "stream",
          "text": [
            "current epoch: 117 current mean dice: 0.1211 current mean iou: 0.5256\n",
            "best mean dice: 0.2498 at epoch: 91\n",
            "[neptune] [error  ] Error occurred during asynchronous operation processing: X-coordinates (step) must be strictly increasing for series attribute: training/epoch. Invalid point: 589.0\n"
          ]
        },
        {
          "data": {
            "application/vnd.jupyter.widget-view+json": {
              "model_id": "2f3fca544ec74bad9046f3bc02aeceb2",
              "version_major": 2,
              "version_minor": 0
            },
            "text/plain": [
              "Validation: |          | 0/? [00:00<?, ?it/s]"
            ]
          },
          "metadata": {},
          "output_type": "display_data"
        },
        {
          "name": "stderr",
          "output_type": "stream",
          "text": [
            "Epoch 118, global step 595: 'val_dice' reached 0.26969 (best 0.26969), saving model to '/home/pawel/Documents/RISA/3D_segmentation/AeroPath/checkpoints/whole_epoch=118-val_dice=0.2697.ckpt' as top 1\n"
          ]
        },
        {
          "name": "stdout",
          "output_type": "stream",
          "text": [
            "current epoch: 118 current mean dice: 0.2697 current mean iou: 0.5764\n",
            "best mean dice: 0.2697 at epoch: 118\n",
            "[neptune] [error  ] Error occurred during asynchronous operation processing: X-coordinates (step) must be strictly increasing for series attribute: training/epoch. Invalid point: 594.0\n"
          ]
        },
        {
          "data": {
            "application/vnd.jupyter.widget-view+json": {
              "model_id": "b0c6b5abc8f14c3a8b962ecbf7c58fd1",
              "version_major": 2,
              "version_minor": 0
            },
            "text/plain": [
              "Validation: |          | 0/? [00:00<?, ?it/s]"
            ]
          },
          "metadata": {},
          "output_type": "display_data"
        },
        {
          "name": "stderr",
          "output_type": "stream",
          "text": [
            "Epoch 119, global step 600: 'val_dice' was not in top 1\n"
          ]
        },
        {
          "name": "stdout",
          "output_type": "stream",
          "text": [
            "current epoch: 119 current mean dice: 0.1668 current mean iou: 0.5413\n",
            "best mean dice: 0.2697 at epoch: 118\n",
            "[neptune] [error  ] Error occurred during asynchronous operation processing: X-coordinates (step) must be strictly increasing for series attribute: training/epoch. Invalid point: 599.0\n"
          ]
        },
        {
          "data": {
            "application/vnd.jupyter.widget-view+json": {
              "model_id": "566259334fd044908c9712991a593e77",
              "version_major": 2,
              "version_minor": 0
            },
            "text/plain": [
              "Validation: |          | 0/? [00:00<?, ?it/s]"
            ]
          },
          "metadata": {},
          "output_type": "display_data"
        },
        {
          "name": "stderr",
          "output_type": "stream",
          "text": [
            "Epoch 120, global step 605: 'val_dice' was not in top 1\n"
          ]
        },
        {
          "name": "stdout",
          "output_type": "stream",
          "text": [
            "current epoch: 120 current mean dice: 0.0446 current mean iou: 0.4900\n",
            "best mean dice: 0.2697 at epoch: 118\n",
            "[neptune] [error  ] Error occurred during asynchronous operation processing: X-coordinates (step) must be strictly increasing for series attribute: training/epoch. Invalid point: 604.0\n"
          ]
        },
        {
          "data": {
            "application/vnd.jupyter.widget-view+json": {
              "model_id": "33814e25cc2c4e30bb60f8a6e3e1e994",
              "version_major": 2,
              "version_minor": 0
            },
            "text/plain": [
              "Validation: |          | 0/? [00:00<?, ?it/s]"
            ]
          },
          "metadata": {},
          "output_type": "display_data"
        },
        {
          "name": "stderr",
          "output_type": "stream",
          "text": [
            "Epoch 121, global step 610: 'val_dice' was not in top 1\n"
          ]
        },
        {
          "name": "stdout",
          "output_type": "stream",
          "text": [
            "current epoch: 121 current mean dice: 0.1493 current mean iou: 0.5355\n",
            "best mean dice: 0.2697 at epoch: 118\n",
            "[neptune] [error  ] Error occurred during asynchronous operation processing: X-coordinates (step) must be strictly increasing for series attribute: training/epoch. Invalid point: 609.0\n"
          ]
        },
        {
          "data": {
            "application/vnd.jupyter.widget-view+json": {
              "model_id": "83fa5c3eaeb14353b20999cea5dd570c",
              "version_major": 2,
              "version_minor": 0
            },
            "text/plain": [
              "Validation: |          | 0/? [00:00<?, ?it/s]"
            ]
          },
          "metadata": {},
          "output_type": "display_data"
        },
        {
          "name": "stderr",
          "output_type": "stream",
          "text": [
            "Epoch 122, global step 615: 'val_dice' was not in top 1\n"
          ]
        },
        {
          "name": "stdout",
          "output_type": "stream",
          "text": [
            "current epoch: 122 current mean dice: 0.1477 current mean iou: 0.5352\n",
            "best mean dice: 0.2697 at epoch: 118\n",
            "[neptune] [error  ] Error occurred during asynchronous operation processing: X-coordinates (step) must be strictly increasing for series attribute: training/epoch. Invalid point: 614.0\n"
          ]
        },
        {
          "data": {
            "application/vnd.jupyter.widget-view+json": {
              "model_id": "e10fc3fef8714d1ba83dff74a525bb7f",
              "version_major": 2,
              "version_minor": 0
            },
            "text/plain": [
              "Validation: |          | 0/? [00:00<?, ?it/s]"
            ]
          },
          "metadata": {},
          "output_type": "display_data"
        },
        {
          "name": "stderr",
          "output_type": "stream",
          "text": [
            "Epoch 123, global step 620: 'val_dice' was not in top 1\n"
          ]
        },
        {
          "name": "stdout",
          "output_type": "stream",
          "text": [
            "current epoch: 123 current mean dice: 0.0917 current mean iou: 0.5152\n",
            "best mean dice: 0.2697 at epoch: 118\n",
            "[neptune] [error  ] Error occurred during asynchronous operation processing: X-coordinates (step) must be strictly increasing for series attribute: training/epoch. Invalid point: 619.0\n"
          ]
        },
        {
          "data": {
            "application/vnd.jupyter.widget-view+json": {
              "model_id": "74379cc98bd34449891880be908fb7aa",
              "version_major": 2,
              "version_minor": 0
            },
            "text/plain": [
              "Validation: |          | 0/? [00:00<?, ?it/s]"
            ]
          },
          "metadata": {},
          "output_type": "display_data"
        },
        {
          "name": "stderr",
          "output_type": "stream",
          "text": [
            "Epoch 124, global step 625: 'val_dice' was not in top 1\n"
          ]
        },
        {
          "name": "stdout",
          "output_type": "stream",
          "text": [
            "current epoch: 124 current mean dice: 0.0939 current mean iou: 0.5157\n",
            "best mean dice: 0.2697 at epoch: 118\n",
            "[neptune] [error  ] Error occurred during asynchronous operation processing: X-coordinates (step) must be strictly increasing for series attribute: training/epoch. Invalid point: 624.0\n"
          ]
        },
        {
          "data": {
            "application/vnd.jupyter.widget-view+json": {
              "model_id": "e5fdd5b6a9154cfa855824f9865286bc",
              "version_major": 2,
              "version_minor": 0
            },
            "text/plain": [
              "Validation: |          | 0/? [00:00<?, ?it/s]"
            ]
          },
          "metadata": {},
          "output_type": "display_data"
        },
        {
          "name": "stderr",
          "output_type": "stream",
          "text": [
            "Epoch 125, global step 630: 'val_dice' was not in top 1\n"
          ]
        },
        {
          "name": "stdout",
          "output_type": "stream",
          "text": [
            "current epoch: 125 current mean dice: 0.2422 current mean iou: 0.5672\n",
            "best mean dice: 0.2697 at epoch: 118\n",
            "[neptune] [error  ] Error occurred during asynchronous operation processing: X-coordinates (step) must be strictly increasing for series attribute: training/epoch. Invalid point: 629.0\n"
          ]
        },
        {
          "data": {
            "application/vnd.jupyter.widget-view+json": {
              "model_id": "eaa60f80e9eb41c881e509d77b5dd2b7",
              "version_major": 2,
              "version_minor": 0
            },
            "text/plain": [
              "Validation: |          | 0/? [00:00<?, ?it/s]"
            ]
          },
          "metadata": {},
          "output_type": "display_data"
        },
        {
          "name": "stderr",
          "output_type": "stream",
          "text": [
            "Epoch 126, global step 635: 'val_dice' was not in top 1\n"
          ]
        },
        {
          "name": "stdout",
          "output_type": "stream",
          "text": [
            "current epoch: 126 current mean dice: 0.0939 current mean iou: 0.5154\n",
            "best mean dice: 0.2697 at epoch: 118\n",
            "[neptune] [error  ] Error occurred during asynchronous operation processing: X-coordinates (step) must be strictly increasing for series attribute: training/epoch. Invalid point: 634.0\n"
          ]
        },
        {
          "data": {
            "application/vnd.jupyter.widget-view+json": {
              "model_id": "d08ab0c78089418b88890e0cd3aa27b7",
              "version_major": 2,
              "version_minor": 0
            },
            "text/plain": [
              "Validation: |          | 0/? [00:00<?, ?it/s]"
            ]
          },
          "metadata": {},
          "output_type": "display_data"
        },
        {
          "name": "stderr",
          "output_type": "stream",
          "text": [
            "Epoch 127, global step 640: 'val_dice' was not in top 1\n"
          ]
        },
        {
          "name": "stdout",
          "output_type": "stream",
          "text": [
            "current epoch: 127 current mean dice: 0.1674 current mean iou: 0.5418\n",
            "best mean dice: 0.2697 at epoch: 118\n",
            "[neptune] [error  ] Error occurred during asynchronous operation processing: X-coordinates (step) must be strictly increasing for series attribute: training/epoch. Invalid point: 639.0\n"
          ]
        },
        {
          "data": {
            "application/vnd.jupyter.widget-view+json": {
              "model_id": "dd1262d589f0455b9855866756eb251b",
              "version_major": 2,
              "version_minor": 0
            },
            "text/plain": [
              "Validation: |          | 0/? [00:00<?, ?it/s]"
            ]
          },
          "metadata": {},
          "output_type": "display_data"
        },
        {
          "name": "stderr",
          "output_type": "stream",
          "text": [
            "Epoch 128, global step 645: 'val_dice' reached 0.29950 (best 0.29950), saving model to '/home/pawel/Documents/RISA/3D_segmentation/AeroPath/checkpoints/whole_epoch=128-val_dice=0.2995.ckpt' as top 1\n"
          ]
        },
        {
          "name": "stdout",
          "output_type": "stream",
          "text": [
            "current epoch: 128 current mean dice: 0.2995 current mean iou: 0.5884\n",
            "best mean dice: 0.2995 at epoch: 128\n",
            "[neptune] [error  ] Error occurred during asynchronous operation processing: X-coordinates (step) must be strictly increasing for series attribute: training/epoch. Invalid point: 644.0\n"
          ]
        },
        {
          "data": {
            "application/vnd.jupyter.widget-view+json": {
              "model_id": "086ec2c3fa5d4fbea5fe55105c32a9a6",
              "version_major": 2,
              "version_minor": 0
            },
            "text/plain": [
              "Validation: |          | 0/? [00:00<?, ?it/s]"
            ]
          },
          "metadata": {},
          "output_type": "display_data"
        },
        {
          "name": "stderr",
          "output_type": "stream",
          "text": [
            "Epoch 129, global step 650: 'val_dice' reached 0.35941 (best 0.35941), saving model to '/home/pawel/Documents/RISA/3D_segmentation/AeroPath/checkpoints/whole_epoch=129-val_dice=0.3594.ckpt' as top 1\n"
          ]
        },
        {
          "name": "stdout",
          "output_type": "stream",
          "text": [
            "current epoch: 129 current mean dice: 0.3594 current mean iou: 0.6107\n",
            "best mean dice: 0.3594 at epoch: 129\n",
            "[neptune] [error  ] Error occurred during asynchronous operation processing: X-coordinates (step) must be strictly increasing for series attribute: training/epoch. Invalid point: 649.0\n"
          ]
        },
        {
          "data": {
            "application/vnd.jupyter.widget-view+json": {
              "model_id": "8400b39db64f40c482d95f6e48bbd325",
              "version_major": 2,
              "version_minor": 0
            },
            "text/plain": [
              "Validation: |          | 0/? [00:00<?, ?it/s]"
            ]
          },
          "metadata": {},
          "output_type": "display_data"
        },
        {
          "name": "stderr",
          "output_type": "stream",
          "text": [
            "Epoch 130, global step 655: 'val_dice' was not in top 1\n"
          ]
        },
        {
          "name": "stdout",
          "output_type": "stream",
          "text": [
            "current epoch: 130 current mean dice: 0.3333 current mean iou: 0.6005\n",
            "best mean dice: 0.3594 at epoch: 129\n",
            "[neptune] [error  ] Error occurred during asynchronous operation processing: X-coordinates (step) must be strictly increasing for series attribute: training/epoch. Invalid point: 654.0\n"
          ]
        },
        {
          "data": {
            "application/vnd.jupyter.widget-view+json": {
              "model_id": "a2abd9325f9949fe9a5ee289574b7ea9",
              "version_major": 2,
              "version_minor": 0
            },
            "text/plain": [
              "Validation: |          | 0/? [00:00<?, ?it/s]"
            ]
          },
          "metadata": {},
          "output_type": "display_data"
        },
        {
          "name": "stderr",
          "output_type": "stream",
          "text": [
            "Epoch 131, global step 660: 'val_dice' was not in top 1\n"
          ]
        },
        {
          "name": "stdout",
          "output_type": "stream",
          "text": [
            "current epoch: 131 current mean dice: 0.1413 current mean iou: 0.5328\n",
            "best mean dice: 0.3594 at epoch: 129\n",
            "[neptune] [error  ] Error occurred during asynchronous operation processing: X-coordinates (step) must be strictly increasing for series attribute: training/epoch. Invalid point: 659.0\n"
          ]
        },
        {
          "data": {
            "application/vnd.jupyter.widget-view+json": {
              "model_id": "c678b63b565c4f7388dfc23740d81951",
              "version_major": 2,
              "version_minor": 0
            },
            "text/plain": [
              "Validation: |          | 0/? [00:00<?, ?it/s]"
            ]
          },
          "metadata": {},
          "output_type": "display_data"
        },
        {
          "name": "stderr",
          "output_type": "stream",
          "text": [
            "Epoch 132, global step 665: 'val_dice' was not in top 1\n"
          ]
        },
        {
          "name": "stdout",
          "output_type": "stream",
          "text": [
            "current epoch: 132 current mean dice: 0.1283 current mean iou: 0.5285\n",
            "best mean dice: 0.3594 at epoch: 129\n",
            "[neptune] [error  ] Error occurred during asynchronous operation processing: X-coordinates (step) must be strictly increasing for series attribute: training/epoch. Invalid point: 664.0\n"
          ]
        },
        {
          "data": {
            "application/vnd.jupyter.widget-view+json": {
              "model_id": "c6400d38ac094a948490c09b4c7fb8b2",
              "version_major": 2,
              "version_minor": 0
            },
            "text/plain": [
              "Validation: |          | 0/? [00:00<?, ?it/s]"
            ]
          },
          "metadata": {},
          "output_type": "display_data"
        },
        {
          "name": "stderr",
          "output_type": "stream",
          "text": [
            "Epoch 133, global step 670: 'val_dice' was not in top 1\n"
          ]
        },
        {
          "name": "stdout",
          "output_type": "stream",
          "text": [
            "current epoch: 133 current mean dice: 0.3135 current mean iou: 0.5931\n",
            "best mean dice: 0.3594 at epoch: 129\n",
            "[neptune] [error  ] Error occurred during asynchronous operation processing: X-coordinates (step) must be strictly increasing for series attribute: training/epoch. Invalid point: 669.0\n"
          ]
        },
        {
          "data": {
            "application/vnd.jupyter.widget-view+json": {
              "model_id": "b8e9db64a117484ca7b70b0615f2156f",
              "version_major": 2,
              "version_minor": 0
            },
            "text/plain": [
              "Validation: |          | 0/? [00:00<?, ?it/s]"
            ]
          },
          "metadata": {},
          "output_type": "display_data"
        },
        {
          "name": "stderr",
          "output_type": "stream",
          "text": [
            "Epoch 134, global step 675: 'val_dice' was not in top 1\n"
          ]
        },
        {
          "name": "stdout",
          "output_type": "stream",
          "text": [
            "current epoch: 134 current mean dice: 0.1845 current mean iou: 0.5475\n",
            "best mean dice: 0.3594 at epoch: 129\n",
            "[neptune] [error  ] Error occurred during asynchronous operation processing: X-coordinates (step) must be strictly increasing for series attribute: training/epoch. Invalid point: 674.0\n"
          ]
        },
        {
          "data": {
            "application/vnd.jupyter.widget-view+json": {
              "model_id": "baf46100a8c9440dbd9a62cb51a06bf3",
              "version_major": 2,
              "version_minor": 0
            },
            "text/plain": [
              "Validation: |          | 0/? [00:00<?, ?it/s]"
            ]
          },
          "metadata": {},
          "output_type": "display_data"
        },
        {
          "name": "stderr",
          "output_type": "stream",
          "text": [
            "Epoch 135, global step 680: 'val_dice' was not in top 1\n"
          ]
        },
        {
          "name": "stdout",
          "output_type": "stream",
          "text": [
            "current epoch: 135 current mean dice: 0.2854 current mean iou: 0.5821\n",
            "best mean dice: 0.3594 at epoch: 129\n",
            "[neptune] [error  ] Error occurred during asynchronous operation processing: X-coordinates (step) must be strictly increasing for series attribute: training/epoch. Invalid point: 679.0\n"
          ]
        },
        {
          "data": {
            "application/vnd.jupyter.widget-view+json": {
              "model_id": "4d9029fac7ec4503b2ed4c4824ac9e9c",
              "version_major": 2,
              "version_minor": 0
            },
            "text/plain": [
              "Validation: |          | 0/? [00:00<?, ?it/s]"
            ]
          },
          "metadata": {},
          "output_type": "display_data"
        },
        {
          "name": "stderr",
          "output_type": "stream",
          "text": [
            "Epoch 136, global step 685: 'val_dice' was not in top 1\n"
          ]
        },
        {
          "name": "stdout",
          "output_type": "stream",
          "text": [
            "current epoch: 136 current mean dice: 0.2119 current mean iou: 0.5564\n",
            "best mean dice: 0.3594 at epoch: 129\n",
            "[neptune] [error  ] Error occurred during asynchronous operation processing: X-coordinates (step) must be strictly increasing for series attribute: training/epoch. Invalid point: 684.0\n"
          ]
        },
        {
          "data": {
            "application/vnd.jupyter.widget-view+json": {
              "model_id": "e04577b19483461c947d7f7714458ab8",
              "version_major": 2,
              "version_minor": 0
            },
            "text/plain": [
              "Validation: |          | 0/? [00:00<?, ?it/s]"
            ]
          },
          "metadata": {},
          "output_type": "display_data"
        },
        {
          "name": "stderr",
          "output_type": "stream",
          "text": [
            "Epoch 137, global step 690: 'val_dice' was not in top 1\n"
          ]
        },
        {
          "name": "stdout",
          "output_type": "stream",
          "text": [
            "current epoch: 137 current mean dice: 0.1498 current mean iou: 0.5358\n",
            "best mean dice: 0.3594 at epoch: 129\n",
            "[neptune] [error  ] Error occurred during asynchronous operation processing: X-coordinates (step) must be strictly increasing for series attribute: training/epoch. Invalid point: 689.0\n"
          ]
        },
        {
          "data": {
            "application/vnd.jupyter.widget-view+json": {
              "model_id": "77c987d61a034bc4a4963f5ead5dd88e",
              "version_major": 2,
              "version_minor": 0
            },
            "text/plain": [
              "Validation: |          | 0/? [00:00<?, ?it/s]"
            ]
          },
          "metadata": {},
          "output_type": "display_data"
        },
        {
          "name": "stderr",
          "output_type": "stream",
          "text": [
            "Epoch 138, global step 695: 'val_dice' was not in top 1\n"
          ]
        },
        {
          "name": "stdout",
          "output_type": "stream",
          "text": [
            "current epoch: 138 current mean dice: 0.2799 current mean iou: 0.5811\n",
            "best mean dice: 0.3594 at epoch: 129\n",
            "[neptune] [error  ] Error occurred during asynchronous operation processing: X-coordinates (step) must be strictly increasing for series attribute: training/epoch. Invalid point: 694.0\n"
          ]
        },
        {
          "data": {
            "application/vnd.jupyter.widget-view+json": {
              "model_id": "4eaf0ab00a964be7859e392aabed5c93",
              "version_major": 2,
              "version_minor": 0
            },
            "text/plain": [
              "Validation: |          | 0/? [00:00<?, ?it/s]"
            ]
          },
          "metadata": {},
          "output_type": "display_data"
        },
        {
          "name": "stderr",
          "output_type": "stream",
          "text": [
            "Epoch 139, global step 700: 'val_dice' reached 0.37102 (best 0.37102), saving model to '/home/pawel/Documents/RISA/3D_segmentation/AeroPath/checkpoints/whole_epoch=139-val_dice=0.3710.ckpt' as top 1\n"
          ]
        },
        {
          "name": "stdout",
          "output_type": "stream",
          "text": [
            "current epoch: 139 current mean dice: 0.3710 current mean iou: 0.6158\n",
            "best mean dice: 0.3710 at epoch: 139\n",
            "[neptune] [error  ] Error occurred during asynchronous operation processing: X-coordinates (step) must be strictly increasing for series attribute: training/epoch. Invalid point: 699.0\n"
          ]
        },
        {
          "data": {
            "application/vnd.jupyter.widget-view+json": {
              "model_id": "5987aa29f9d24867b3039dc68814b792",
              "version_major": 2,
              "version_minor": 0
            },
            "text/plain": [
              "Validation: |          | 0/? [00:00<?, ?it/s]"
            ]
          },
          "metadata": {},
          "output_type": "display_data"
        },
        {
          "name": "stderr",
          "output_type": "stream",
          "text": [
            "Epoch 140, global step 705: 'val_dice' was not in top 1\n"
          ]
        },
        {
          "name": "stdout",
          "output_type": "stream",
          "text": [
            "current epoch: 140 current mean dice: 0.2692 current mean iou: 0.5769\n",
            "best mean dice: 0.3710 at epoch: 139\n",
            "[neptune] [error  ] Error occurred during asynchronous operation processing: X-coordinates (step) must be strictly increasing for series attribute: training/epoch. Invalid point: 704.0\n"
          ]
        },
        {
          "data": {
            "application/vnd.jupyter.widget-view+json": {
              "model_id": "d67e565d55a14110959482ab4796fff9",
              "version_major": 2,
              "version_minor": 0
            },
            "text/plain": [
              "Validation: |          | 0/? [00:00<?, ?it/s]"
            ]
          },
          "metadata": {},
          "output_type": "display_data"
        },
        {
          "name": "stderr",
          "output_type": "stream",
          "text": [
            "Epoch 141, global step 710: 'val_dice' was not in top 1\n"
          ]
        },
        {
          "name": "stdout",
          "output_type": "stream",
          "text": [
            "current epoch: 141 current mean dice: 0.1951 current mean iou: 0.5516\n",
            "best mean dice: 0.3710 at epoch: 139\n",
            "[neptune] [error  ] Error occurred during asynchronous operation processing: X-coordinates (step) must be strictly increasing for series attribute: training/epoch. Invalid point: 709.0\n"
          ]
        },
        {
          "data": {
            "application/vnd.jupyter.widget-view+json": {
              "model_id": "d4696f9f9e0a469a8556d6df15e7bbd7",
              "version_major": 2,
              "version_minor": 0
            },
            "text/plain": [
              "Validation: |          | 0/? [00:00<?, ?it/s]"
            ]
          },
          "metadata": {},
          "output_type": "display_data"
        },
        {
          "name": "stderr",
          "output_type": "stream",
          "text": [
            "Epoch 142, global step 715: 'val_dice' reached 0.38120 (best 0.38120), saving model to '/home/pawel/Documents/RISA/3D_segmentation/AeroPath/checkpoints/whole_epoch=142-val_dice=0.3812.ckpt' as top 1\n"
          ]
        },
        {
          "name": "stdout",
          "output_type": "stream",
          "text": [
            "current epoch: 142 current mean dice: 0.3812 current mean iou: 0.6201\n",
            "best mean dice: 0.3812 at epoch: 142\n",
            "[neptune] [error  ] Error occurred during asynchronous operation processing: X-coordinates (step) must be strictly increasing for series attribute: training/epoch. Invalid point: 714.0\n"
          ]
        },
        {
          "data": {
            "application/vnd.jupyter.widget-view+json": {
              "model_id": "e55e148421db450db206fd56c5a6aabc",
              "version_major": 2,
              "version_minor": 0
            },
            "text/plain": [
              "Validation: |          | 0/? [00:00<?, ?it/s]"
            ]
          },
          "metadata": {},
          "output_type": "display_data"
        },
        {
          "name": "stderr",
          "output_type": "stream",
          "text": [
            "Epoch 143, global step 720: 'val_dice' reached 0.40390 (best 0.40390), saving model to '/home/pawel/Documents/RISA/3D_segmentation/AeroPath/checkpoints/whole_epoch=143-val_dice=0.4039.ckpt' as top 1\n"
          ]
        },
        {
          "name": "stdout",
          "output_type": "stream",
          "text": [
            "current epoch: 143 current mean dice: 0.4039 current mean iou: 0.6282\n",
            "best mean dice: 0.4039 at epoch: 143\n",
            "[neptune] [error  ] Error occurred during asynchronous operation processing: X-coordinates (step) must be strictly increasing for series attribute: training/epoch. Invalid point: 719.0\n"
          ]
        },
        {
          "data": {
            "application/vnd.jupyter.widget-view+json": {
              "model_id": "2914efc51d144a959f8d05193f7ca909",
              "version_major": 2,
              "version_minor": 0
            },
            "text/plain": [
              "Validation: |          | 0/? [00:00<?, ?it/s]"
            ]
          },
          "metadata": {},
          "output_type": "display_data"
        },
        {
          "name": "stderr",
          "output_type": "stream",
          "text": [
            "Epoch 144, global step 725: 'val_dice' was not in top 1\n"
          ]
        },
        {
          "name": "stdout",
          "output_type": "stream",
          "text": [
            "current epoch: 144 current mean dice: 0.2893 current mean iou: 0.5836\n",
            "best mean dice: 0.4039 at epoch: 143\n",
            "[neptune] [error  ] Error occurred during asynchronous operation processing: X-coordinates (step) must be strictly increasing for series attribute: training/epoch. Invalid point: 724.0\n"
          ]
        },
        {
          "data": {
            "application/vnd.jupyter.widget-view+json": {
              "model_id": "211e606a65354d1ba8371eab947ea0ad",
              "version_major": 2,
              "version_minor": 0
            },
            "text/plain": [
              "Validation: |          | 0/? [00:00<?, ?it/s]"
            ]
          },
          "metadata": {},
          "output_type": "display_data"
        },
        {
          "name": "stderr",
          "output_type": "stream",
          "text": [
            "Epoch 145, global step 730: 'val_dice' reached 0.41280 (best 0.41280), saving model to '/home/pawel/Documents/RISA/3D_segmentation/AeroPath/checkpoints/whole_epoch=145-val_dice=0.4128.ckpt' as top 1\n"
          ]
        },
        {
          "name": "stdout",
          "output_type": "stream",
          "text": [
            "current epoch: 145 current mean dice: 0.4128 current mean iou: 0.6319\n",
            "best mean dice: 0.4128 at epoch: 145\n",
            "[neptune] [error  ] Error occurred during asynchronous operation processing: X-coordinates (step) must be strictly increasing for series attribute: training/epoch. Invalid point: 729.0\n"
          ]
        },
        {
          "data": {
            "application/vnd.jupyter.widget-view+json": {
              "model_id": "a1cb6a247d494ee58b1f3a5493c95c8e",
              "version_major": 2,
              "version_minor": 0
            },
            "text/plain": [
              "Validation: |          | 0/? [00:00<?, ?it/s]"
            ]
          },
          "metadata": {},
          "output_type": "display_data"
        },
        {
          "name": "stderr",
          "output_type": "stream",
          "text": [
            "Epoch 146, global step 735: 'val_dice' was not in top 1\n"
          ]
        },
        {
          "name": "stdout",
          "output_type": "stream",
          "text": [
            "current epoch: 146 current mean dice: 0.4072 current mean iou: 0.6304\n",
            "best mean dice: 0.4128 at epoch: 145\n",
            "[neptune] [error  ] Error occurred during asynchronous operation processing: X-coordinates (step) must be strictly increasing for series attribute: training/epoch. Invalid point: 734.0\n"
          ]
        },
        {
          "data": {
            "application/vnd.jupyter.widget-view+json": {
              "model_id": "6511fb9ec58f4336b861d877841165a4",
              "version_major": 2,
              "version_minor": 0
            },
            "text/plain": [
              "Validation: |          | 0/? [00:00<?, ?it/s]"
            ]
          },
          "metadata": {},
          "output_type": "display_data"
        },
        {
          "name": "stderr",
          "output_type": "stream",
          "text": [
            "Epoch 147, global step 740: 'val_dice' was not in top 1\n"
          ]
        },
        {
          "name": "stdout",
          "output_type": "stream",
          "text": [
            "current epoch: 147 current mean dice: 0.2211 current mean iou: 0.5601\n",
            "best mean dice: 0.4128 at epoch: 145\n",
            "[neptune] [error  ] Error occurred during asynchronous operation processing: X-coordinates (step) must be strictly increasing for series attribute: training/epoch. Invalid point: 739.0\n"
          ]
        },
        {
          "data": {
            "application/vnd.jupyter.widget-view+json": {
              "model_id": "705e4bd3d4cb49ec8ef04eddba66434f",
              "version_major": 2,
              "version_minor": 0
            },
            "text/plain": [
              "Validation: |          | 0/? [00:00<?, ?it/s]"
            ]
          },
          "metadata": {},
          "output_type": "display_data"
        },
        {
          "name": "stderr",
          "output_type": "stream",
          "text": [
            "Epoch 148, global step 745: 'val_dice' was not in top 1\n"
          ]
        },
        {
          "name": "stdout",
          "output_type": "stream",
          "text": [
            "current epoch: 148 current mean dice: 0.3003 current mean iou: 0.5884\n",
            "best mean dice: 0.4128 at epoch: 145\n",
            "[neptune] [error  ] Error occurred during asynchronous operation processing: X-coordinates (step) must be strictly increasing for series attribute: training/epoch. Invalid point: 744.0\n"
          ]
        },
        {
          "data": {
            "application/vnd.jupyter.widget-view+json": {
              "model_id": "0516ec03f9364a0e9228762695a94e40",
              "version_major": 2,
              "version_minor": 0
            },
            "text/plain": [
              "Validation: |          | 0/? [00:00<?, ?it/s]"
            ]
          },
          "metadata": {},
          "output_type": "display_data"
        },
        {
          "name": "stderr",
          "output_type": "stream",
          "text": [
            "Epoch 149, global step 750: 'val_dice' was not in top 1\n"
          ]
        },
        {
          "name": "stdout",
          "output_type": "stream",
          "text": [
            "current epoch: 149 current mean dice: 0.1213 current mean iou: 0.5263\n",
            "best mean dice: 0.4128 at epoch: 145\n",
            "[neptune] [error  ] Error occurred during asynchronous operation processing: X-coordinates (step) must be strictly increasing for series attribute: training/epoch. Invalid point: 749.0\n"
          ]
        },
        {
          "data": {
            "application/vnd.jupyter.widget-view+json": {
              "model_id": "3e67d6a806d540b582119881ebd9847d",
              "version_major": 2,
              "version_minor": 0
            },
            "text/plain": [
              "Validation: |          | 0/? [00:00<?, ?it/s]"
            ]
          },
          "metadata": {},
          "output_type": "display_data"
        },
        {
          "name": "stderr",
          "output_type": "stream",
          "text": [
            "Epoch 150, global step 755: 'val_dice' was not in top 1\n"
          ]
        },
        {
          "name": "stdout",
          "output_type": "stream",
          "text": [
            "current epoch: 150 current mean dice: 0.3235 current mean iou: 0.5975\n",
            "best mean dice: 0.4128 at epoch: 145\n",
            "[neptune] [error  ] Error occurred during asynchronous operation processing: X-coordinates (step) must be strictly increasing for series attribute: training/epoch. Invalid point: 754.0\n"
          ]
        },
        {
          "data": {
            "application/vnd.jupyter.widget-view+json": {
              "model_id": "4914331fb4f74bcb8d70855c7589f6a6",
              "version_major": 2,
              "version_minor": 0
            },
            "text/plain": [
              "Validation: |          | 0/? [00:00<?, ?it/s]"
            ]
          },
          "metadata": {},
          "output_type": "display_data"
        },
        {
          "name": "stderr",
          "output_type": "stream",
          "text": [
            "Epoch 151, global step 760: 'val_dice' was not in top 1\n"
          ]
        },
        {
          "name": "stdout",
          "output_type": "stream",
          "text": [
            "current epoch: 151 current mean dice: 0.1288 current mean iou: 0.5282\n",
            "best mean dice: 0.4128 at epoch: 145\n",
            "[neptune] [error  ] Error occurred during asynchronous operation processing: X-coordinates (step) must be strictly increasing for series attribute: training/epoch. Invalid point: 759.0\n"
          ]
        },
        {
          "data": {
            "application/vnd.jupyter.widget-view+json": {
              "model_id": "760dc7413f4446d791ae3501146b4cb3",
              "version_major": 2,
              "version_minor": 0
            },
            "text/plain": [
              "Validation: |          | 0/? [00:00<?, ?it/s]"
            ]
          },
          "metadata": {},
          "output_type": "display_data"
        },
        {
          "name": "stderr",
          "output_type": "stream",
          "text": [
            "Epoch 152, global step 765: 'val_dice' was not in top 1\n"
          ]
        },
        {
          "name": "stdout",
          "output_type": "stream",
          "text": [
            "current epoch: 152 current mean dice: 0.1474 current mean iou: 0.5350\n",
            "best mean dice: 0.4128 at epoch: 145\n",
            "[neptune] [error  ] Error occurred during asynchronous operation processing: X-coordinates (step) must be strictly increasing for series attribute: training/epoch. Invalid point: 764.0\n"
          ]
        },
        {
          "data": {
            "application/vnd.jupyter.widget-view+json": {
              "model_id": "4d18bd500be845e1ac1c95b5530c9e7c",
              "version_major": 2,
              "version_minor": 0
            },
            "text/plain": [
              "Validation: |          | 0/? [00:00<?, ?it/s]"
            ]
          },
          "metadata": {},
          "output_type": "display_data"
        },
        {
          "name": "stderr",
          "output_type": "stream",
          "text": [
            "Epoch 153, global step 770: 'val_dice' was not in top 1\n"
          ]
        },
        {
          "name": "stdout",
          "output_type": "stream",
          "text": [
            "current epoch: 153 current mean dice: 0.3674 current mean iou: 0.6142\n",
            "best mean dice: 0.4128 at epoch: 145\n",
            "[neptune] [error  ] Error occurred during asynchronous operation processing: X-coordinates (step) must be strictly increasing for series attribute: training/epoch. Invalid point: 769.0\n"
          ]
        },
        {
          "data": {
            "application/vnd.jupyter.widget-view+json": {
              "model_id": "af2a8239e6a4445283472125a705845c",
              "version_major": 2,
              "version_minor": 0
            },
            "text/plain": [
              "Validation: |          | 0/? [00:00<?, ?it/s]"
            ]
          },
          "metadata": {},
          "output_type": "display_data"
        },
        {
          "name": "stderr",
          "output_type": "stream",
          "text": [
            "Epoch 154, global step 775: 'val_dice' was not in top 1\n"
          ]
        },
        {
          "name": "stdout",
          "output_type": "stream",
          "text": [
            "current epoch: 154 current mean dice: 0.3727 current mean iou: 0.6156\n",
            "best mean dice: 0.4128 at epoch: 145\n",
            "[neptune] [error  ] Error occurred during asynchronous operation processing: X-coordinates (step) must be strictly increasing for series attribute: training/epoch. Invalid point: 774.0\n"
          ]
        },
        {
          "data": {
            "application/vnd.jupyter.widget-view+json": {
              "model_id": "ba36490c296d4ac19be35f5051e8472a",
              "version_major": 2,
              "version_minor": 0
            },
            "text/plain": [
              "Validation: |          | 0/? [00:00<?, ?it/s]"
            ]
          },
          "metadata": {},
          "output_type": "display_data"
        },
        {
          "name": "stderr",
          "output_type": "stream",
          "text": [
            "Epoch 155, global step 780: 'val_dice' was not in top 1\n"
          ]
        },
        {
          "name": "stdout",
          "output_type": "stream",
          "text": [
            "current epoch: 155 current mean dice: 0.1775 current mean iou: 0.5453\n",
            "best mean dice: 0.4128 at epoch: 145\n",
            "[neptune] [error  ] Error occurred during asynchronous operation processing: X-coordinates (step) must be strictly increasing for series attribute: training/epoch. Invalid point: 779.0\n"
          ]
        },
        {
          "data": {
            "application/vnd.jupyter.widget-view+json": {
              "model_id": "2d8e66728c764baea7f62281168e62dc",
              "version_major": 2,
              "version_minor": 0
            },
            "text/plain": [
              "Validation: |          | 0/? [00:00<?, ?it/s]"
            ]
          },
          "metadata": {},
          "output_type": "display_data"
        },
        {
          "name": "stderr",
          "output_type": "stream",
          "text": [
            "Epoch 156, global step 785: 'val_dice' was not in top 1\n"
          ]
        },
        {
          "name": "stdout",
          "output_type": "stream",
          "text": [
            "current epoch: 156 current mean dice: 0.1202 current mean iou: 0.5254\n",
            "best mean dice: 0.4128 at epoch: 145\n",
            "[neptune] [error  ] Error occurred during asynchronous operation processing: X-coordinates (step) must be strictly increasing for series attribute: training/epoch. Invalid point: 784.0\n"
          ]
        },
        {
          "data": {
            "application/vnd.jupyter.widget-view+json": {
              "model_id": "0900aa8455354cbbb43b1b18109b0cb4",
              "version_major": 2,
              "version_minor": 0
            },
            "text/plain": [
              "Validation: |          | 0/? [00:00<?, ?it/s]"
            ]
          },
          "metadata": {},
          "output_type": "display_data"
        },
        {
          "name": "stderr",
          "output_type": "stream",
          "text": [
            "Epoch 157, global step 790: 'val_dice' was not in top 1\n"
          ]
        },
        {
          "name": "stdout",
          "output_type": "stream",
          "text": [
            "current epoch: 157 current mean dice: 0.3134 current mean iou: 0.5928\n",
            "best mean dice: 0.4128 at epoch: 145\n",
            "[neptune] [error  ] Error occurred during asynchronous operation processing: X-coordinates (step) must be strictly increasing for series attribute: training/epoch. Invalid point: 789.0\n"
          ]
        },
        {
          "data": {
            "application/vnd.jupyter.widget-view+json": {
              "model_id": "14c759cbf7b248b3be9b14c7a7d7544f",
              "version_major": 2,
              "version_minor": 0
            },
            "text/plain": [
              "Validation: |          | 0/? [00:00<?, ?it/s]"
            ]
          },
          "metadata": {},
          "output_type": "display_data"
        },
        {
          "name": "stderr",
          "output_type": "stream",
          "text": [
            "Epoch 158, global step 795: 'val_dice' was not in top 1\n"
          ]
        },
        {
          "name": "stdout",
          "output_type": "stream",
          "text": [
            "current epoch: 158 current mean dice: 0.3213 current mean iou: 0.5957\n",
            "best mean dice: 0.4128 at epoch: 145\n",
            "[neptune] [error  ] Error occurred during asynchronous operation processing: X-coordinates (step) must be strictly increasing for series attribute: training/epoch. Invalid point: 794.0\n"
          ]
        },
        {
          "data": {
            "application/vnd.jupyter.widget-view+json": {
              "model_id": "2fdab416b1b144ba8c767745dbf037f9",
              "version_major": 2,
              "version_minor": 0
            },
            "text/plain": [
              "Validation: |          | 0/? [00:00<?, ?it/s]"
            ]
          },
          "metadata": {},
          "output_type": "display_data"
        },
        {
          "name": "stderr",
          "output_type": "stream",
          "text": [
            "Epoch 159, global step 800: 'val_dice' was not in top 1\n"
          ]
        },
        {
          "name": "stdout",
          "output_type": "stream",
          "text": [
            "current epoch: 159 current mean dice: 0.1355 current mean iou: 0.5305\n",
            "best mean dice: 0.4128 at epoch: 145\n",
            "[neptune] [error  ] Error occurred during asynchronous operation processing: X-coordinates (step) must be strictly increasing for series attribute: training/epoch. Invalid point: 799.0\n"
          ]
        },
        {
          "data": {
            "application/vnd.jupyter.widget-view+json": {
              "model_id": "33a845ecb433468194040054cd637517",
              "version_major": 2,
              "version_minor": 0
            },
            "text/plain": [
              "Validation: |          | 0/? [00:00<?, ?it/s]"
            ]
          },
          "metadata": {},
          "output_type": "display_data"
        },
        {
          "name": "stderr",
          "output_type": "stream",
          "text": [
            "Epoch 160, global step 805: 'val_dice' was not in top 1\n"
          ]
        },
        {
          "name": "stdout",
          "output_type": "stream",
          "text": [
            "current epoch: 160 current mean dice: 0.2953 current mean iou: 0.5864\n",
            "best mean dice: 0.4128 at epoch: 145\n",
            "[neptune] [error  ] Error occurred during asynchronous operation processing: X-coordinates (step) must be strictly increasing for series attribute: training/epoch. Invalid point: 804.0\n"
          ]
        },
        {
          "data": {
            "application/vnd.jupyter.widget-view+json": {
              "model_id": "aff858f2b2ad438d878dfc811feeca62",
              "version_major": 2,
              "version_minor": 0
            },
            "text/plain": [
              "Validation: |          | 0/? [00:00<?, ?it/s]"
            ]
          },
          "metadata": {},
          "output_type": "display_data"
        },
        {
          "name": "stderr",
          "output_type": "stream",
          "text": [
            "Epoch 161, global step 810: 'val_dice' was not in top 1\n"
          ]
        },
        {
          "name": "stdout",
          "output_type": "stream",
          "text": [
            "current epoch: 161 current mean dice: 0.2049 current mean iou: 0.5544\n",
            "best mean dice: 0.4128 at epoch: 145\n",
            "[neptune] [error  ] Error occurred during asynchronous operation processing: X-coordinates (step) must be strictly increasing for series attribute: training/epoch. Invalid point: 809.0\n"
          ]
        },
        {
          "data": {
            "application/vnd.jupyter.widget-view+json": {
              "model_id": "4b24b962633f48e590b336d916e7bd2e",
              "version_major": 2,
              "version_minor": 0
            },
            "text/plain": [
              "Validation: |          | 0/? [00:00<?, ?it/s]"
            ]
          },
          "metadata": {},
          "output_type": "display_data"
        },
        {
          "name": "stderr",
          "output_type": "stream",
          "text": [
            "Epoch 162, global step 815: 'val_dice' was not in top 1\n"
          ]
        },
        {
          "name": "stdout",
          "output_type": "stream",
          "text": [
            "current epoch: 162 current mean dice: 0.4075 current mean iou: 0.6305\n",
            "best mean dice: 0.4128 at epoch: 145\n",
            "[neptune] [error  ] Error occurred during asynchronous operation processing: X-coordinates (step) must be strictly increasing for series attribute: training/epoch. Invalid point: 814.0\n"
          ]
        },
        {
          "data": {
            "application/vnd.jupyter.widget-view+json": {
              "model_id": "73c44fe4195d4b49a2cc397881778af4",
              "version_major": 2,
              "version_minor": 0
            },
            "text/plain": [
              "Validation: |          | 0/? [00:00<?, ?it/s]"
            ]
          },
          "metadata": {},
          "output_type": "display_data"
        },
        {
          "name": "stderr",
          "output_type": "stream",
          "text": [
            "Epoch 163, global step 820: 'val_dice' reached 0.51221 (best 0.51221), saving model to '/home/pawel/Documents/RISA/3D_segmentation/AeroPath/checkpoints/whole_epoch=163-val_dice=0.5122.ckpt' as top 1\n"
          ]
        },
        {
          "name": "stdout",
          "output_type": "stream",
          "text": [
            "current epoch: 163 current mean dice: 0.5122 current mean iou: 0.6743\n",
            "best mean dice: 0.5122 at epoch: 163\n",
            "[neptune] [error  ] Error occurred during asynchronous operation processing: X-coordinates (step) must be strictly increasing for series attribute: training/epoch. Invalid point: 819.0\n"
          ]
        },
        {
          "data": {
            "application/vnd.jupyter.widget-view+json": {
              "model_id": "8f797fe9f7af476ebec7134cd8a67888",
              "version_major": 2,
              "version_minor": 0
            },
            "text/plain": [
              "Validation: |          | 0/? [00:00<?, ?it/s]"
            ]
          },
          "metadata": {},
          "output_type": "display_data"
        },
        {
          "name": "stderr",
          "output_type": "stream",
          "text": [
            "Epoch 164, global step 825: 'val_dice' reached 0.51912 (best 0.51912), saving model to '/home/pawel/Documents/RISA/3D_segmentation/AeroPath/checkpoints/whole_epoch=164-val_dice=0.5191.ckpt' as top 1\n"
          ]
        },
        {
          "name": "stdout",
          "output_type": "stream",
          "text": [
            "current epoch: 164 current mean dice: 0.5191 current mean iou: 0.6777\n",
            "best mean dice: 0.5191 at epoch: 164\n",
            "[neptune] [error  ] Error occurred during asynchronous operation processing: X-coordinates (step) must be strictly increasing for series attribute: training/epoch. Invalid point: 824.0\n"
          ]
        },
        {
          "data": {
            "application/vnd.jupyter.widget-view+json": {
              "model_id": "87cda75e5cbd41e0843d775d4e84903c",
              "version_major": 2,
              "version_minor": 0
            },
            "text/plain": [
              "Validation: |          | 0/? [00:00<?, ?it/s]"
            ]
          },
          "metadata": {},
          "output_type": "display_data"
        },
        {
          "name": "stderr",
          "output_type": "stream",
          "text": [
            "Epoch 165, global step 830: 'val_dice' was not in top 1\n"
          ]
        },
        {
          "name": "stdout",
          "output_type": "stream",
          "text": [
            "current epoch: 165 current mean dice: 0.4613 current mean iou: 0.6525\n",
            "best mean dice: 0.5191 at epoch: 164\n",
            "[neptune] [error  ] Error occurred during asynchronous operation processing: X-coordinates (step) must be strictly increasing for series attribute: training/epoch. Invalid point: 829.0\n"
          ]
        },
        {
          "data": {
            "application/vnd.jupyter.widget-view+json": {
              "model_id": "6e195036b57047ff8da6c66fc2db78b8",
              "version_major": 2,
              "version_minor": 0
            },
            "text/plain": [
              "Validation: |          | 0/? [00:00<?, ?it/s]"
            ]
          },
          "metadata": {},
          "output_type": "display_data"
        },
        {
          "name": "stderr",
          "output_type": "stream",
          "text": [
            "Epoch 166, global step 835: 'val_dice' was not in top 1\n"
          ]
        },
        {
          "name": "stdout",
          "output_type": "stream",
          "text": [
            "current epoch: 166 current mean dice: 0.4970 current mean iou: 0.6680\n",
            "best mean dice: 0.5191 at epoch: 164\n",
            "[neptune] [error  ] Error occurred during asynchronous operation processing: X-coordinates (step) must be strictly increasing for series attribute: training/epoch. Invalid point: 834.0\n"
          ]
        },
        {
          "data": {
            "application/vnd.jupyter.widget-view+json": {
              "model_id": "0eea684f095343358221748d77fe6d7e",
              "version_major": 2,
              "version_minor": 0
            },
            "text/plain": [
              "Validation: |          | 0/? [00:00<?, ?it/s]"
            ]
          },
          "metadata": {},
          "output_type": "display_data"
        },
        {
          "name": "stderr",
          "output_type": "stream",
          "text": [
            "Epoch 167, global step 840: 'val_dice' was not in top 1\n"
          ]
        },
        {
          "name": "stdout",
          "output_type": "stream",
          "text": [
            "current epoch: 167 current mean dice: 0.3736 current mean iou: 0.6162\n",
            "best mean dice: 0.5191 at epoch: 164\n",
            "[neptune] [error  ] Error occurred during asynchronous operation processing: X-coordinates (step) must be strictly increasing for series attribute: training/epoch. Invalid point: 839.0\n"
          ]
        },
        {
          "data": {
            "application/vnd.jupyter.widget-view+json": {
              "model_id": "7106e37cfb334c0e9bd46690f974a7b2",
              "version_major": 2,
              "version_minor": 0
            },
            "text/plain": [
              "Validation: |          | 0/? [00:00<?, ?it/s]"
            ]
          },
          "metadata": {},
          "output_type": "display_data"
        },
        {
          "name": "stderr",
          "output_type": "stream",
          "text": [
            "Epoch 168, global step 845: 'val_dice' was not in top 1\n"
          ]
        },
        {
          "name": "stdout",
          "output_type": "stream",
          "text": [
            "current epoch: 168 current mean dice: 0.2922 current mean iou: 0.5856\n",
            "best mean dice: 0.5191 at epoch: 164\n",
            "[neptune] [error  ] Error occurred during asynchronous operation processing: X-coordinates (step) must be strictly increasing for series attribute: training/epoch. Invalid point: 844.0\n"
          ]
        },
        {
          "data": {
            "application/vnd.jupyter.widget-view+json": {
              "model_id": "112159f15c3945b4b54f534428a0669f",
              "version_major": 2,
              "version_minor": 0
            },
            "text/plain": [
              "Validation: |          | 0/? [00:00<?, ?it/s]"
            ]
          },
          "metadata": {},
          "output_type": "display_data"
        },
        {
          "name": "stderr",
          "output_type": "stream",
          "text": [
            "Epoch 169, global step 850: 'val_dice' was not in top 1\n"
          ]
        },
        {
          "name": "stdout",
          "output_type": "stream",
          "text": [
            "current epoch: 169 current mean dice: 0.2101 current mean iou: 0.5569\n",
            "best mean dice: 0.5191 at epoch: 164\n",
            "[neptune] [error  ] Error occurred during asynchronous operation processing: X-coordinates (step) must be strictly increasing for series attribute: training/epoch. Invalid point: 849.0\n"
          ]
        },
        {
          "data": {
            "application/vnd.jupyter.widget-view+json": {
              "model_id": "8b5a200434714be2955f150813b153f4",
              "version_major": 2,
              "version_minor": 0
            },
            "text/plain": [
              "Validation: |          | 0/? [00:00<?, ?it/s]"
            ]
          },
          "metadata": {},
          "output_type": "display_data"
        },
        {
          "name": "stderr",
          "output_type": "stream",
          "text": [
            "Epoch 170, global step 855: 'val_dice' was not in top 1\n"
          ]
        },
        {
          "name": "stdout",
          "output_type": "stream",
          "text": [
            "current epoch: 170 current mean dice: 0.3723 current mean iou: 0.6171\n",
            "best mean dice: 0.5191 at epoch: 164\n",
            "[neptune] [error  ] Error occurred during asynchronous operation processing: X-coordinates (step) must be strictly increasing for series attribute: training/epoch. Invalid point: 854.0\n"
          ]
        },
        {
          "data": {
            "application/vnd.jupyter.widget-view+json": {
              "model_id": "32bffe5872fe4639a8ca993233917441",
              "version_major": 2,
              "version_minor": 0
            },
            "text/plain": [
              "Validation: |          | 0/? [00:00<?, ?it/s]"
            ]
          },
          "metadata": {},
          "output_type": "display_data"
        },
        {
          "name": "stderr",
          "output_type": "stream",
          "text": [
            "Epoch 171, global step 860: 'val_dice' was not in top 1\n"
          ]
        },
        {
          "name": "stdout",
          "output_type": "stream",
          "text": [
            "current epoch: 171 current mean dice: 0.3848 current mean iou: 0.6217\n",
            "best mean dice: 0.5191 at epoch: 164\n",
            "[neptune] [error  ] Error occurred during asynchronous operation processing: X-coordinates (step) must be strictly increasing for series attribute: training/epoch. Invalid point: 859.0\n"
          ]
        },
        {
          "data": {
            "application/vnd.jupyter.widget-view+json": {
              "model_id": "6f4e49f3b9664cddb35f8978be90089e",
              "version_major": 2,
              "version_minor": 0
            },
            "text/plain": [
              "Validation: |          | 0/? [00:00<?, ?it/s]"
            ]
          },
          "metadata": {},
          "output_type": "display_data"
        },
        {
          "name": "stderr",
          "output_type": "stream",
          "text": [
            "Epoch 172, global step 865: 'val_dice' was not in top 1\n"
          ]
        },
        {
          "name": "stdout",
          "output_type": "stream",
          "text": [
            "current epoch: 172 current mean dice: 0.2342 current mean iou: 0.5650\n",
            "best mean dice: 0.5191 at epoch: 164\n",
            "[neptune] [error  ] Error occurred during asynchronous operation processing: X-coordinates (step) must be strictly increasing for series attribute: training/epoch. Invalid point: 864.0\n"
          ]
        },
        {
          "data": {
            "application/vnd.jupyter.widget-view+json": {
              "model_id": "3d9ea963f5ea40229d1e08181e79a1d8",
              "version_major": 2,
              "version_minor": 0
            },
            "text/plain": [
              "Validation: |          | 0/? [00:00<?, ?it/s]"
            ]
          },
          "metadata": {},
          "output_type": "display_data"
        },
        {
          "name": "stderr",
          "output_type": "stream",
          "text": [
            "Epoch 173, global step 870: 'val_dice' was not in top 1\n"
          ]
        },
        {
          "name": "stdout",
          "output_type": "stream",
          "text": [
            "current epoch: 173 current mean dice: 0.1264 current mean iou: 0.5278\n",
            "best mean dice: 0.5191 at epoch: 164\n",
            "[neptune] [error  ] Error occurred during asynchronous operation processing: X-coordinates (step) must be strictly increasing for series attribute: training/epoch. Invalid point: 869.0\n"
          ]
        },
        {
          "data": {
            "application/vnd.jupyter.widget-view+json": {
              "model_id": "a0e8aa72b6e24e76a5fcbfaf41227bf4",
              "version_major": 2,
              "version_minor": 0
            },
            "text/plain": [
              "Validation: |          | 0/? [00:00<?, ?it/s]"
            ]
          },
          "metadata": {},
          "output_type": "display_data"
        },
        {
          "name": "stderr",
          "output_type": "stream",
          "text": [
            "Epoch 174, global step 875: 'val_dice' was not in top 1\n"
          ]
        },
        {
          "name": "stdout",
          "output_type": "stream",
          "text": [
            "current epoch: 174 current mean dice: 0.1779 current mean iou: 0.5450\n",
            "best mean dice: 0.5191 at epoch: 164\n",
            "[neptune] [error  ] Error occurred during asynchronous operation processing: X-coordinates (step) must be strictly increasing for series attribute: training/epoch. Invalid point: 874.0\n"
          ]
        },
        {
          "data": {
            "application/vnd.jupyter.widget-view+json": {
              "model_id": "04d99d5c3fab4c1eba7d33c670a044d4",
              "version_major": 2,
              "version_minor": 0
            },
            "text/plain": [
              "Validation: |          | 0/? [00:00<?, ?it/s]"
            ]
          },
          "metadata": {},
          "output_type": "display_data"
        },
        {
          "name": "stderr",
          "output_type": "stream",
          "text": [
            "Epoch 175, global step 880: 'val_dice' was not in top 1\n"
          ]
        },
        {
          "name": "stdout",
          "output_type": "stream",
          "text": [
            "current epoch: 175 current mean dice: 0.4822 current mean iou: 0.6646\n",
            "best mean dice: 0.5191 at epoch: 164\n",
            "[neptune] [error  ] Error occurred during asynchronous operation processing: X-coordinates (step) must be strictly increasing for series attribute: training/epoch. Invalid point: 879.0\n"
          ]
        },
        {
          "data": {
            "application/vnd.jupyter.widget-view+json": {
              "model_id": "9176f98a825a4ea8b8815d51c1a74124",
              "version_major": 2,
              "version_minor": 0
            },
            "text/plain": [
              "Validation: |          | 0/? [00:00<?, ?it/s]"
            ]
          },
          "metadata": {},
          "output_type": "display_data"
        },
        {
          "name": "stderr",
          "output_type": "stream",
          "text": [
            "Epoch 176, global step 885: 'val_dice' was not in top 1\n"
          ]
        },
        {
          "name": "stdout",
          "output_type": "stream",
          "text": [
            "current epoch: 176 current mean dice: 0.4565 current mean iou: 0.6519\n",
            "best mean dice: 0.5191 at epoch: 164\n",
            "[neptune] [error  ] Error occurred during asynchronous operation processing: X-coordinates (step) must be strictly increasing for series attribute: training/epoch. Invalid point: 884.0\n"
          ]
        },
        {
          "data": {
            "application/vnd.jupyter.widget-view+json": {
              "model_id": "b7868a84d9c84cbbb9c98cc618f9ed08",
              "version_major": 2,
              "version_minor": 0
            },
            "text/plain": [
              "Validation: |          | 0/? [00:00<?, ?it/s]"
            ]
          },
          "metadata": {},
          "output_type": "display_data"
        },
        {
          "name": "stderr",
          "output_type": "stream",
          "text": [
            "Epoch 177, global step 890: 'val_dice' was not in top 1\n"
          ]
        },
        {
          "name": "stdout",
          "output_type": "stream",
          "text": [
            "current epoch: 177 current mean dice: 0.3127 current mean iou: 0.5924\n",
            "best mean dice: 0.5191 at epoch: 164\n",
            "[neptune] [error  ] Error occurred during asynchronous operation processing: X-coordinates (step) must be strictly increasing for series attribute: training/epoch. Invalid point: 889.0\n"
          ]
        },
        {
          "data": {
            "application/vnd.jupyter.widget-view+json": {
              "model_id": "702db1bd877d4b11bc4ef9d3f3ee432d",
              "version_major": 2,
              "version_minor": 0
            },
            "text/plain": [
              "Validation: |          | 0/? [00:00<?, ?it/s]"
            ]
          },
          "metadata": {},
          "output_type": "display_data"
        },
        {
          "name": "stderr",
          "output_type": "stream",
          "text": [
            "Epoch 178, global step 895: 'val_dice' was not in top 1\n"
          ]
        },
        {
          "name": "stdout",
          "output_type": "stream",
          "text": [
            "current epoch: 178 current mean dice: 0.3554 current mean iou: 0.6092\n",
            "best mean dice: 0.5191 at epoch: 164\n",
            "[neptune] [error  ] Error occurred during asynchronous operation processing: X-coordinates (step) must be strictly increasing for series attribute: training/epoch. Invalid point: 894.0\n"
          ]
        },
        {
          "data": {
            "application/vnd.jupyter.widget-view+json": {
              "model_id": "b0a21a7abee24ea9a218b20900cfc9eb",
              "version_major": 2,
              "version_minor": 0
            },
            "text/plain": [
              "Validation: |          | 0/? [00:00<?, ?it/s]"
            ]
          },
          "metadata": {},
          "output_type": "display_data"
        },
        {
          "name": "stderr",
          "output_type": "stream",
          "text": [
            "Epoch 179, global step 900: 'val_dice' was not in top 1\n"
          ]
        },
        {
          "name": "stdout",
          "output_type": "stream",
          "text": [
            "current epoch: 179 current mean dice: 0.4465 current mean iou: 0.6481\n",
            "best mean dice: 0.5191 at epoch: 164\n",
            "[neptune] [error  ] Error occurred during asynchronous operation processing: X-coordinates (step) must be strictly increasing for series attribute: training/epoch. Invalid point: 899.0\n"
          ]
        },
        {
          "data": {
            "application/vnd.jupyter.widget-view+json": {
              "model_id": "d07b4f22176a488dbbe47fe7d37abf4d",
              "version_major": 2,
              "version_minor": 0
            },
            "text/plain": [
              "Validation: |          | 0/? [00:00<?, ?it/s]"
            ]
          },
          "metadata": {},
          "output_type": "display_data"
        },
        {
          "name": "stderr",
          "output_type": "stream",
          "text": [
            "Epoch 180, global step 905: 'val_dice' was not in top 1\n"
          ]
        },
        {
          "name": "stdout",
          "output_type": "stream",
          "text": [
            "current epoch: 180 current mean dice: 0.4862 current mean iou: 0.6663\n",
            "best mean dice: 0.5191 at epoch: 164\n",
            "[neptune] [error  ] Error occurred during asynchronous operation processing: X-coordinates (step) must be strictly increasing for series attribute: training/epoch. Invalid point: 904.0\n"
          ]
        },
        {
          "data": {
            "application/vnd.jupyter.widget-view+json": {
              "model_id": "dacd35cb9cb541b8a035889c7a87bf65",
              "version_major": 2,
              "version_minor": 0
            },
            "text/plain": [
              "Validation: |          | 0/? [00:00<?, ?it/s]"
            ]
          },
          "metadata": {},
          "output_type": "display_data"
        },
        {
          "name": "stderr",
          "output_type": "stream",
          "text": [
            "Epoch 181, global step 910: 'val_dice' was not in top 1\n"
          ]
        },
        {
          "name": "stdout",
          "output_type": "stream",
          "text": [
            "current epoch: 181 current mean dice: 0.4992 current mean iou: 0.6710\n",
            "best mean dice: 0.5191 at epoch: 164\n",
            "[neptune] [error  ] Error occurred during asynchronous operation processing: X-coordinates (step) must be strictly increasing for series attribute: training/epoch. Invalid point: 909.0\n"
          ]
        },
        {
          "data": {
            "application/vnd.jupyter.widget-view+json": {
              "model_id": "8f5a2fbac15f421188bec9becbccb1c3",
              "version_major": 2,
              "version_minor": 0
            },
            "text/plain": [
              "Validation: |          | 0/? [00:00<?, ?it/s]"
            ]
          },
          "metadata": {},
          "output_type": "display_data"
        },
        {
          "name": "stderr",
          "output_type": "stream",
          "text": [
            "Epoch 182, global step 915: 'val_dice' was not in top 1\n"
          ]
        },
        {
          "name": "stdout",
          "output_type": "stream",
          "text": [
            "current epoch: 182 current mean dice: 0.5009 current mean iou: 0.6710\n",
            "best mean dice: 0.5191 at epoch: 164\n",
            "[neptune] [error  ] Error occurred during asynchronous operation processing: X-coordinates (step) must be strictly increasing for series attribute: training/epoch. Invalid point: 914.0\n"
          ]
        },
        {
          "data": {
            "application/vnd.jupyter.widget-view+json": {
              "model_id": "a29893a3130d49b39b3958cf801b2800",
              "version_major": 2,
              "version_minor": 0
            },
            "text/plain": [
              "Validation: |          | 0/? [00:00<?, ?it/s]"
            ]
          },
          "metadata": {},
          "output_type": "display_data"
        },
        {
          "name": "stderr",
          "output_type": "stream",
          "text": [
            "Epoch 183, global step 920: 'val_dice' was not in top 1\n"
          ]
        },
        {
          "name": "stdout",
          "output_type": "stream",
          "text": [
            "current epoch: 183 current mean dice: 0.4602 current mean iou: 0.6523\n",
            "best mean dice: 0.5191 at epoch: 164\n",
            "[neptune] [error  ] Error occurred during asynchronous operation processing: X-coordinates (step) must be strictly increasing for series attribute: training/epoch. Invalid point: 919.0\n"
          ]
        },
        {
          "data": {
            "application/vnd.jupyter.widget-view+json": {
              "model_id": "7368943b9a6a4e10a2c3057426220075",
              "version_major": 2,
              "version_minor": 0
            },
            "text/plain": [
              "Validation: |          | 0/? [00:00<?, ?it/s]"
            ]
          },
          "metadata": {},
          "output_type": "display_data"
        },
        {
          "name": "stderr",
          "output_type": "stream",
          "text": [
            "Epoch 184, global step 925: 'val_dice' was not in top 1\n"
          ]
        },
        {
          "name": "stdout",
          "output_type": "stream",
          "text": [
            "current epoch: 184 current mean dice: 0.4296 current mean iou: 0.6399\n",
            "best mean dice: 0.5191 at epoch: 164\n",
            "[neptune] [error  ] Error occurred during asynchronous operation processing: X-coordinates (step) must be strictly increasing for series attribute: training/epoch. Invalid point: 924.0\n"
          ]
        },
        {
          "data": {
            "application/vnd.jupyter.widget-view+json": {
              "model_id": "5507ec99e6d544b398c0f6bdf16388e2",
              "version_major": 2,
              "version_minor": 0
            },
            "text/plain": [
              "Validation: |          | 0/? [00:00<?, ?it/s]"
            ]
          },
          "metadata": {},
          "output_type": "display_data"
        },
        {
          "name": "stderr",
          "output_type": "stream",
          "text": [
            "Epoch 185, global step 930: 'val_dice' was not in top 1\n"
          ]
        },
        {
          "name": "stdout",
          "output_type": "stream",
          "text": [
            "current epoch: 185 current mean dice: 0.4489 current mean iou: 0.6478\n",
            "best mean dice: 0.5191 at epoch: 164\n",
            "[neptune] [error  ] Error occurred during asynchronous operation processing: X-coordinates (step) must be strictly increasing for series attribute: training/epoch. Invalid point: 929.0\n"
          ]
        },
        {
          "data": {
            "application/vnd.jupyter.widget-view+json": {
              "model_id": "0547a3767ef146d08ea83e8be020a89c",
              "version_major": 2,
              "version_minor": 0
            },
            "text/plain": [
              "Validation: |          | 0/? [00:00<?, ?it/s]"
            ]
          },
          "metadata": {},
          "output_type": "display_data"
        },
        {
          "name": "stderr",
          "output_type": "stream",
          "text": [
            "Epoch 186, global step 935: 'val_dice' was not in top 1\n"
          ]
        },
        {
          "name": "stdout",
          "output_type": "stream",
          "text": [
            "current epoch: 186 current mean dice: 0.4265 current mean iou: 0.6383\n",
            "best mean dice: 0.5191 at epoch: 164\n",
            "[neptune] [error  ] Error occurred during asynchronous operation processing: X-coordinates (step) must be strictly increasing for series attribute: training/epoch. Invalid point: 934.0\n"
          ]
        },
        {
          "data": {
            "application/vnd.jupyter.widget-view+json": {
              "model_id": "4135f081c31a41c9b85c8e609323332f",
              "version_major": 2,
              "version_minor": 0
            },
            "text/plain": [
              "Validation: |          | 0/? [00:00<?, ?it/s]"
            ]
          },
          "metadata": {},
          "output_type": "display_data"
        },
        {
          "name": "stderr",
          "output_type": "stream",
          "text": [
            "Epoch 187, global step 940: 'val_dice' was not in top 1\n"
          ]
        },
        {
          "name": "stdout",
          "output_type": "stream",
          "text": [
            "current epoch: 187 current mean dice: 0.0557 current mean iou: 0.4986\n",
            "best mean dice: 0.5191 at epoch: 164\n",
            "[neptune] [error  ] Error occurred during asynchronous operation processing: X-coordinates (step) must be strictly increasing for series attribute: training/epoch. Invalid point: 939.0\n"
          ]
        },
        {
          "data": {
            "application/vnd.jupyter.widget-view+json": {
              "model_id": "036d241b9acf46ce80437f740aa0d963",
              "version_major": 2,
              "version_minor": 0
            },
            "text/plain": [
              "Validation: |          | 0/? [00:00<?, ?it/s]"
            ]
          },
          "metadata": {},
          "output_type": "display_data"
        },
        {
          "name": "stderr",
          "output_type": "stream",
          "text": [
            "Epoch 188, global step 945: 'val_dice' was not in top 1\n"
          ]
        },
        {
          "name": "stdout",
          "output_type": "stream",
          "text": [
            "current epoch: 188 current mean dice: 0.3306 current mean iou: 0.5998\n",
            "best mean dice: 0.5191 at epoch: 164\n",
            "[neptune] [error  ] Error occurred during asynchronous operation processing: X-coordinates (step) must be strictly increasing for series attribute: training/epoch. Invalid point: 944.0\n"
          ]
        },
        {
          "data": {
            "application/vnd.jupyter.widget-view+json": {
              "model_id": "4e873bbd6f1340f8a81864463c187f58",
              "version_major": 2,
              "version_minor": 0
            },
            "text/plain": [
              "Validation: |          | 0/? [00:00<?, ?it/s]"
            ]
          },
          "metadata": {},
          "output_type": "display_data"
        },
        {
          "name": "stderr",
          "output_type": "stream",
          "text": [
            "Epoch 189, global step 950: 'val_dice' was not in top 1\n"
          ]
        },
        {
          "name": "stdout",
          "output_type": "stream",
          "text": [
            "current epoch: 189 current mean dice: 0.4357 current mean iou: 0.6428\n",
            "best mean dice: 0.5191 at epoch: 164\n",
            "[neptune] [error  ] Error occurred during asynchronous operation processing: X-coordinates (step) must be strictly increasing for series attribute: training/epoch. Invalid point: 949.0\n"
          ]
        },
        {
          "data": {
            "application/vnd.jupyter.widget-view+json": {
              "model_id": "52d4c84468f04c3d86ad10db58db8bea",
              "version_major": 2,
              "version_minor": 0
            },
            "text/plain": [
              "Validation: |          | 0/? [00:00<?, ?it/s]"
            ]
          },
          "metadata": {},
          "output_type": "display_data"
        },
        {
          "name": "stderr",
          "output_type": "stream",
          "text": [
            "Epoch 190, global step 955: 'val_dice' reached 0.63269 (best 0.63269), saving model to '/home/pawel/Documents/RISA/3D_segmentation/AeroPath/checkpoints/whole_epoch=190-val_dice=0.6327.ckpt' as top 1\n"
          ]
        },
        {
          "name": "stdout",
          "output_type": "stream",
          "text": [
            "current epoch: 190 current mean dice: 0.6327 current mean iou: 0.7348\n",
            "best mean dice: 0.6327 at epoch: 190\n",
            "[neptune] [error  ] Error occurred during asynchronous operation processing: X-coordinates (step) must be strictly increasing for series attribute: training/epoch. Invalid point: 954.0\n"
          ]
        },
        {
          "data": {
            "application/vnd.jupyter.widget-view+json": {
              "model_id": "f8353b04648b4bcb8466c7e9e534ee82",
              "version_major": 2,
              "version_minor": 0
            },
            "text/plain": [
              "Validation: |          | 0/? [00:00<?, ?it/s]"
            ]
          },
          "metadata": {},
          "output_type": "display_data"
        },
        {
          "name": "stderr",
          "output_type": "stream",
          "text": [
            "Epoch 191, global step 960: 'val_dice' was not in top 1\n"
          ]
        },
        {
          "name": "stdout",
          "output_type": "stream",
          "text": [
            "current epoch: 191 current mean dice: 0.5604 current mean iou: 0.6985\n",
            "best mean dice: 0.6327 at epoch: 190\n",
            "[neptune] [error  ] Error occurred during asynchronous operation processing: X-coordinates (step) must be strictly increasing for series attribute: training/epoch. Invalid point: 959.0\n"
          ]
        },
        {
          "data": {
            "application/vnd.jupyter.widget-view+json": {
              "model_id": "0dd4009086ef4e54a02965bb5e6a3626",
              "version_major": 2,
              "version_minor": 0
            },
            "text/plain": [
              "Validation: |          | 0/? [00:00<?, ?it/s]"
            ]
          },
          "metadata": {},
          "output_type": "display_data"
        },
        {
          "name": "stderr",
          "output_type": "stream",
          "text": [
            "Epoch 192, global step 965: 'val_dice' was not in top 1\n"
          ]
        },
        {
          "name": "stdout",
          "output_type": "stream",
          "text": [
            "current epoch: 192 current mean dice: 0.4648 current mean iou: 0.6552\n",
            "best mean dice: 0.6327 at epoch: 190\n",
            "[neptune] [error  ] Error occurred during asynchronous operation processing: X-coordinates (step) must be strictly increasing for series attribute: training/epoch. Invalid point: 964.0\n"
          ]
        },
        {
          "data": {
            "application/vnd.jupyter.widget-view+json": {
              "model_id": "2991bf4c3e3b48fc843df96e206c52f7",
              "version_major": 2,
              "version_minor": 0
            },
            "text/plain": [
              "Validation: |          | 0/? [00:00<?, ?it/s]"
            ]
          },
          "metadata": {},
          "output_type": "display_data"
        },
        {
          "name": "stderr",
          "output_type": "stream",
          "text": [
            "Epoch 193, global step 970: 'val_dice' was not in top 1\n"
          ]
        },
        {
          "name": "stdout",
          "output_type": "stream",
          "text": [
            "current epoch: 193 current mean dice: 0.4469 current mean iou: 0.6479\n",
            "best mean dice: 0.6327 at epoch: 190\n",
            "[neptune] [error  ] Error occurred during asynchronous operation processing: X-coordinates (step) must be strictly increasing for series attribute: training/epoch. Invalid point: 969.0\n"
          ]
        },
        {
          "data": {
            "application/vnd.jupyter.widget-view+json": {
              "model_id": "81dc32a6c7cd4e8e970ddd1355b40db8",
              "version_major": 2,
              "version_minor": 0
            },
            "text/plain": [
              "Validation: |          | 0/? [00:00<?, ?it/s]"
            ]
          },
          "metadata": {},
          "output_type": "display_data"
        },
        {
          "name": "stderr",
          "output_type": "stream",
          "text": [
            "Epoch 194, global step 975: 'val_dice' was not in top 1\n"
          ]
        },
        {
          "name": "stdout",
          "output_type": "stream",
          "text": [
            "current epoch: 194 current mean dice: 0.4204 current mean iou: 0.6365\n",
            "best mean dice: 0.6327 at epoch: 190\n",
            "[neptune] [error  ] Error occurred during asynchronous operation processing: X-coordinates (step) must be strictly increasing for series attribute: training/epoch. Invalid point: 974.0\n"
          ]
        },
        {
          "data": {
            "application/vnd.jupyter.widget-view+json": {
              "model_id": "552572f6e2c34531b0008d0d33157c9c",
              "version_major": 2,
              "version_minor": 0
            },
            "text/plain": [
              "Validation: |          | 0/? [00:00<?, ?it/s]"
            ]
          },
          "metadata": {},
          "output_type": "display_data"
        },
        {
          "name": "stderr",
          "output_type": "stream",
          "text": [
            "Epoch 195, global step 980: 'val_dice' was not in top 1\n"
          ]
        },
        {
          "name": "stdout",
          "output_type": "stream",
          "text": [
            "current epoch: 195 current mean dice: 0.4599 current mean iou: 0.6534\n",
            "best mean dice: 0.6327 at epoch: 190\n",
            "[neptune] [error  ] Error occurred during asynchronous operation processing: X-coordinates (step) must be strictly increasing for series attribute: training/epoch. Invalid point: 979.0\n"
          ]
        },
        {
          "data": {
            "application/vnd.jupyter.widget-view+json": {
              "model_id": "f255fbc1e7bc477c8b4acdaa8bca58fa",
              "version_major": 2,
              "version_minor": 0
            },
            "text/plain": [
              "Validation: |          | 0/? [00:00<?, ?it/s]"
            ]
          },
          "metadata": {},
          "output_type": "display_data"
        },
        {
          "name": "stderr",
          "output_type": "stream",
          "text": [
            "Epoch 196, global step 985: 'val_dice' was not in top 1\n"
          ]
        },
        {
          "name": "stdout",
          "output_type": "stream",
          "text": [
            "current epoch: 196 current mean dice: 0.1234 current mean iou: 0.5252\n",
            "best mean dice: 0.6327 at epoch: 190\n",
            "[neptune] [error  ] Error occurred during asynchronous operation processing: X-coordinates (step) must be strictly increasing for series attribute: training/epoch. Invalid point: 984.0\n"
          ]
        },
        {
          "data": {
            "application/vnd.jupyter.widget-view+json": {
              "model_id": "61cb38053b784cc2b3a686ca2a08a2af",
              "version_major": 2,
              "version_minor": 0
            },
            "text/plain": [
              "Validation: |          | 0/? [00:00<?, ?it/s]"
            ]
          },
          "metadata": {},
          "output_type": "display_data"
        },
        {
          "name": "stderr",
          "output_type": "stream",
          "text": [
            "Epoch 197, global step 990: 'val_dice' was not in top 1\n"
          ]
        },
        {
          "name": "stdout",
          "output_type": "stream",
          "text": [
            "current epoch: 197 current mean dice: 0.2380 current mean iou: 0.5668\n",
            "best mean dice: 0.6327 at epoch: 190\n",
            "[neptune] [error  ] Error occurred during asynchronous operation processing: X-coordinates (step) must be strictly increasing for series attribute: training/epoch. Invalid point: 989.0\n"
          ]
        },
        {
          "data": {
            "application/vnd.jupyter.widget-view+json": {
              "model_id": "23c56d7ebe4749db99b13fbbf815252b",
              "version_major": 2,
              "version_minor": 0
            },
            "text/plain": [
              "Validation: |          | 0/? [00:00<?, ?it/s]"
            ]
          },
          "metadata": {},
          "output_type": "display_data"
        },
        {
          "name": "stderr",
          "output_type": "stream",
          "text": [
            "Epoch 198, global step 995: 'val_dice' was not in top 1\n"
          ]
        },
        {
          "name": "stdout",
          "output_type": "stream",
          "text": [
            "current epoch: 198 current mean dice: 0.1743 current mean iou: 0.5433\n",
            "best mean dice: 0.6327 at epoch: 190\n",
            "[neptune] [error  ] Error occurred during asynchronous operation processing: X-coordinates (step) must be strictly increasing for series attribute: training/epoch. Invalid point: 994.0\n"
          ]
        },
        {
          "data": {
            "application/vnd.jupyter.widget-view+json": {
              "model_id": "bfc8204a50ac46f99dde0879a18c4065",
              "version_major": 2,
              "version_minor": 0
            },
            "text/plain": [
              "Validation: |          | 0/? [00:00<?, ?it/s]"
            ]
          },
          "metadata": {},
          "output_type": "display_data"
        },
        {
          "name": "stderr",
          "output_type": "stream",
          "text": [
            "Epoch 199, global step 1000: 'val_dice' was not in top 1\n"
          ]
        },
        {
          "name": "stdout",
          "output_type": "stream",
          "text": [
            "current epoch: 199 current mean dice: 0.1814 current mean iou: 0.5460\n",
            "best mean dice: 0.6327 at epoch: 190\n",
            "[neptune] [error  ] Error occurred during asynchronous operation processing: X-coordinates (step) must be strictly increasing for series attribute: training/epoch. Invalid point: 999.0\n"
          ]
        },
        {
          "data": {
            "application/vnd.jupyter.widget-view+json": {
              "model_id": "f26be0ae4c614e75a612ccdad7426604",
              "version_major": 2,
              "version_minor": 0
            },
            "text/plain": [
              "Validation: |          | 0/? [00:00<?, ?it/s]"
            ]
          },
          "metadata": {},
          "output_type": "display_data"
        },
        {
          "name": "stderr",
          "output_type": "stream",
          "text": [
            "Epoch 200, global step 1005: 'val_dice' was not in top 1\n"
          ]
        },
        {
          "name": "stdout",
          "output_type": "stream",
          "text": [
            "current epoch: 200 current mean dice: 0.3421 current mean iou: 0.6031\n",
            "best mean dice: 0.6327 at epoch: 190\n",
            "[neptune] [error  ] Error occurred during asynchronous operation processing: X-coordinates (step) must be strictly increasing for series attribute: training/epoch. Invalid point: 1004.0\n"
          ]
        },
        {
          "data": {
            "application/vnd.jupyter.widget-view+json": {
              "model_id": "d4273264bc7849e19417ae406ad553e0",
              "version_major": 2,
              "version_minor": 0
            },
            "text/plain": [
              "Validation: |          | 0/? [00:00<?, ?it/s]"
            ]
          },
          "metadata": {},
          "output_type": "display_data"
        },
        {
          "name": "stderr",
          "output_type": "stream",
          "text": [
            "Epoch 201, global step 1010: 'val_dice' was not in top 1\n"
          ]
        },
        {
          "name": "stdout",
          "output_type": "stream",
          "text": [
            "current epoch: 201 current mean dice: 0.4587 current mean iou: 0.6518\n",
            "best mean dice: 0.6327 at epoch: 190\n",
            "[neptune] [error  ] Error occurred during asynchronous operation processing: X-coordinates (step) must be strictly increasing for series attribute: training/epoch. Invalid point: 1009.0\n"
          ]
        },
        {
          "data": {
            "application/vnd.jupyter.widget-view+json": {
              "model_id": "3f1a28bfc8854f80bb14ecd50449a1cf",
              "version_major": 2,
              "version_minor": 0
            },
            "text/plain": [
              "Validation: |          | 0/? [00:00<?, ?it/s]"
            ]
          },
          "metadata": {},
          "output_type": "display_data"
        },
        {
          "name": "stderr",
          "output_type": "stream",
          "text": [
            "Epoch 202, global step 1015: 'val_dice' was not in top 1\n"
          ]
        },
        {
          "name": "stdout",
          "output_type": "stream",
          "text": [
            "current epoch: 202 current mean dice: 0.5421 current mean iou: 0.6898\n",
            "best mean dice: 0.6327 at epoch: 190\n",
            "[neptune] [error  ] Error occurred during asynchronous operation processing: X-coordinates (step) must be strictly increasing for series attribute: training/epoch. Invalid point: 1014.0\n"
          ]
        },
        {
          "data": {
            "application/vnd.jupyter.widget-view+json": {
              "model_id": "57a8d9d6b28b4b9280ec8a333362bea4",
              "version_major": 2,
              "version_minor": 0
            },
            "text/plain": [
              "Validation: |          | 0/? [00:00<?, ?it/s]"
            ]
          },
          "metadata": {},
          "output_type": "display_data"
        },
        {
          "name": "stderr",
          "output_type": "stream",
          "text": [
            "Epoch 203, global step 1020: 'val_dice' was not in top 1\n"
          ]
        },
        {
          "name": "stdout",
          "output_type": "stream",
          "text": [
            "current epoch: 203 current mean dice: 0.4817 current mean iou: 0.6621\n",
            "best mean dice: 0.6327 at epoch: 190\n",
            "[neptune] [error  ] Error occurred during asynchronous operation processing: X-coordinates (step) must be strictly increasing for series attribute: training/epoch. Invalid point: 1019.0\n"
          ]
        },
        {
          "data": {
            "application/vnd.jupyter.widget-view+json": {
              "model_id": "d89e35cf48914c12b96e050e9ab1f751",
              "version_major": 2,
              "version_minor": 0
            },
            "text/plain": [
              "Validation: |          | 0/? [00:00<?, ?it/s]"
            ]
          },
          "metadata": {},
          "output_type": "display_data"
        },
        {
          "name": "stderr",
          "output_type": "stream",
          "text": [
            "Epoch 204, global step 1025: 'val_dice' was not in top 1\n"
          ]
        },
        {
          "name": "stdout",
          "output_type": "stream",
          "text": [
            "current epoch: 204 current mean dice: 0.4794 current mean iou: 0.6624\n",
            "best mean dice: 0.6327 at epoch: 190\n",
            "[neptune] [error  ] Error occurred during asynchronous operation processing: X-coordinates (step) must be strictly increasing for series attribute: training/epoch. Invalid point: 1024.0\n"
          ]
        },
        {
          "data": {
            "application/vnd.jupyter.widget-view+json": {
              "model_id": "1d82211a6cb44beda971e99f5e628c32",
              "version_major": 2,
              "version_minor": 0
            },
            "text/plain": [
              "Validation: |          | 0/? [00:00<?, ?it/s]"
            ]
          },
          "metadata": {},
          "output_type": "display_data"
        },
        {
          "name": "stderr",
          "output_type": "stream",
          "text": [
            "Epoch 205, global step 1030: 'val_dice' was not in top 1\n"
          ]
        },
        {
          "name": "stdout",
          "output_type": "stream",
          "text": [
            "current epoch: 205 current mean dice: 0.4773 current mean iou: 0.6614\n",
            "best mean dice: 0.6327 at epoch: 190\n",
            "[neptune] [error  ] Error occurred during asynchronous operation processing: X-coordinates (step) must be strictly increasing for series attribute: training/epoch. Invalid point: 1029.0\n"
          ]
        },
        {
          "data": {
            "application/vnd.jupyter.widget-view+json": {
              "model_id": "de04da04e73f4b90b8b608a266021d2c",
              "version_major": 2,
              "version_minor": 0
            },
            "text/plain": [
              "Validation: |          | 0/? [00:00<?, ?it/s]"
            ]
          },
          "metadata": {},
          "output_type": "display_data"
        },
        {
          "name": "stderr",
          "output_type": "stream",
          "text": [
            "Epoch 206, global step 1035: 'val_dice' was not in top 1\n"
          ]
        },
        {
          "name": "stdout",
          "output_type": "stream",
          "text": [
            "current epoch: 206 current mean dice: 0.4724 current mean iou: 0.6588\n",
            "best mean dice: 0.6327 at epoch: 190\n",
            "[neptune] [error  ] Error occurred during asynchronous operation processing: X-coordinates (step) must be strictly increasing for series attribute: training/epoch. Invalid point: 1034.0\n"
          ]
        },
        {
          "data": {
            "application/vnd.jupyter.widget-view+json": {
              "model_id": "435ad385051d46829e7a0a52be22cf54",
              "version_major": 2,
              "version_minor": 0
            },
            "text/plain": [
              "Validation: |          | 0/? [00:00<?, ?it/s]"
            ]
          },
          "metadata": {},
          "output_type": "display_data"
        },
        {
          "name": "stderr",
          "output_type": "stream",
          "text": [
            "Epoch 207, global step 1040: 'val_dice' was not in top 1\n"
          ]
        },
        {
          "name": "stdout",
          "output_type": "stream",
          "text": [
            "current epoch: 207 current mean dice: 0.5200 current mean iou: 0.6796\n",
            "best mean dice: 0.6327 at epoch: 190\n",
            "[neptune] [error  ] Error occurred during asynchronous operation processing: X-coordinates (step) must be strictly increasing for series attribute: training/epoch. Invalid point: 1039.0\n"
          ]
        },
        {
          "data": {
            "application/vnd.jupyter.widget-view+json": {
              "model_id": "ee8068eb87524081a5376ec01baf95d0",
              "version_major": 2,
              "version_minor": 0
            },
            "text/plain": [
              "Validation: |          | 0/? [00:00<?, ?it/s]"
            ]
          },
          "metadata": {},
          "output_type": "display_data"
        },
        {
          "name": "stderr",
          "output_type": "stream",
          "text": [
            "Epoch 208, global step 1045: 'val_dice' was not in top 1\n"
          ]
        },
        {
          "name": "stdout",
          "output_type": "stream",
          "text": [
            "current epoch: 208 current mean dice: 0.5565 current mean iou: 0.6957\n",
            "best mean dice: 0.6327 at epoch: 190\n",
            "[neptune] [error  ] Error occurred during asynchronous operation processing: X-coordinates (step) must be strictly increasing for series attribute: training/epoch. Invalid point: 1044.0\n"
          ]
        },
        {
          "data": {
            "application/vnd.jupyter.widget-view+json": {
              "model_id": "b81d02f306b249d19337b8bead06b6a7",
              "version_major": 2,
              "version_minor": 0
            },
            "text/plain": [
              "Validation: |          | 0/? [00:00<?, ?it/s]"
            ]
          },
          "metadata": {},
          "output_type": "display_data"
        },
        {
          "name": "stderr",
          "output_type": "stream",
          "text": [
            "Epoch 209, global step 1050: 'val_dice' was not in top 1\n"
          ]
        },
        {
          "name": "stdout",
          "output_type": "stream",
          "text": [
            "current epoch: 209 current mean dice: 0.5365 current mean iou: 0.6854\n",
            "best mean dice: 0.6327 at epoch: 190\n",
            "[neptune] [error  ] Error occurred during asynchronous operation processing: X-coordinates (step) must be strictly increasing for series attribute: training/epoch. Invalid point: 1049.0\n"
          ]
        },
        {
          "data": {
            "application/vnd.jupyter.widget-view+json": {
              "model_id": "14fc06769ac64579913a292865d6310a",
              "version_major": 2,
              "version_minor": 0
            },
            "text/plain": [
              "Validation: |          | 0/? [00:00<?, ?it/s]"
            ]
          },
          "metadata": {},
          "output_type": "display_data"
        },
        {
          "name": "stderr",
          "output_type": "stream",
          "text": [
            "Epoch 210, global step 1055: 'val_dice' was not in top 1\n"
          ]
        },
        {
          "name": "stdout",
          "output_type": "stream",
          "text": [
            "current epoch: 210 current mean dice: 0.5415 current mean iou: 0.6890\n",
            "best mean dice: 0.6327 at epoch: 190\n",
            "[neptune] [error  ] Error occurred during asynchronous operation processing: X-coordinates (step) must be strictly increasing for series attribute: training/epoch. Invalid point: 1054.0\n"
          ]
        },
        {
          "data": {
            "application/vnd.jupyter.widget-view+json": {
              "model_id": "aab59727603e4faeb818372e8bb4b58c",
              "version_major": 2,
              "version_minor": 0
            },
            "text/plain": [
              "Validation: |          | 0/? [00:00<?, ?it/s]"
            ]
          },
          "metadata": {},
          "output_type": "display_data"
        },
        {
          "name": "stderr",
          "output_type": "stream",
          "text": [
            "Epoch 211, global step 1060: 'val_dice' was not in top 1\n"
          ]
        },
        {
          "name": "stdout",
          "output_type": "stream",
          "text": [
            "current epoch: 211 current mean dice: 0.3026 current mean iou: 0.5899\n",
            "best mean dice: 0.6327 at epoch: 190\n",
            "[neptune] [error  ] Error occurred during asynchronous operation processing: X-coordinates (step) must be strictly increasing for series attribute: training/epoch. Invalid point: 1059.0\n"
          ]
        },
        {
          "data": {
            "application/vnd.jupyter.widget-view+json": {
              "model_id": "06fbc1fbfa574db78b90efcdb5e1b929",
              "version_major": 2,
              "version_minor": 0
            },
            "text/plain": [
              "Validation: |          | 0/? [00:00<?, ?it/s]"
            ]
          },
          "metadata": {},
          "output_type": "display_data"
        },
        {
          "name": "stderr",
          "output_type": "stream",
          "text": [
            "Epoch 212, global step 1065: 'val_dice' was not in top 1\n"
          ]
        },
        {
          "name": "stdout",
          "output_type": "stream",
          "text": [
            "current epoch: 212 current mean dice: 0.3211 current mean iou: 0.5972\n",
            "best mean dice: 0.6327 at epoch: 190\n",
            "[neptune] [error  ] Error occurred during asynchronous operation processing: X-coordinates (step) must be strictly increasing for series attribute: training/epoch. Invalid point: 1064.0\n"
          ]
        },
        {
          "data": {
            "application/vnd.jupyter.widget-view+json": {
              "model_id": "51366053282a435995fa9451422e3a1e",
              "version_major": 2,
              "version_minor": 0
            },
            "text/plain": [
              "Validation: |          | 0/? [00:00<?, ?it/s]"
            ]
          },
          "metadata": {},
          "output_type": "display_data"
        },
        {
          "name": "stderr",
          "output_type": "stream",
          "text": [
            "Epoch 213, global step 1070: 'val_dice' was not in top 1\n"
          ]
        },
        {
          "name": "stdout",
          "output_type": "stream",
          "text": [
            "current epoch: 213 current mean dice: 0.4654 current mean iou: 0.6560\n",
            "best mean dice: 0.6327 at epoch: 190\n",
            "[neptune] [error  ] Error occurred during asynchronous operation processing: X-coordinates (step) must be strictly increasing for series attribute: training/epoch. Invalid point: 1069.0\n"
          ]
        },
        {
          "data": {
            "application/vnd.jupyter.widget-view+json": {
              "model_id": "ad2f1323eaef407fbf4eedaa51231d32",
              "version_major": 2,
              "version_minor": 0
            },
            "text/plain": [
              "Validation: |          | 0/? [00:00<?, ?it/s]"
            ]
          },
          "metadata": {},
          "output_type": "display_data"
        },
        {
          "name": "stderr",
          "output_type": "stream",
          "text": [
            "Epoch 214, global step 1075: 'val_dice' was not in top 1\n"
          ]
        },
        {
          "name": "stdout",
          "output_type": "stream",
          "text": [
            "current epoch: 214 current mean dice: 0.5013 current mean iou: 0.6712\n",
            "best mean dice: 0.6327 at epoch: 190\n",
            "[neptune] [error  ] Error occurred during asynchronous operation processing: X-coordinates (step) must be strictly increasing for series attribute: training/epoch. Invalid point: 1074.0\n"
          ]
        },
        {
          "data": {
            "application/vnd.jupyter.widget-view+json": {
              "model_id": "51a1f9cf29f44bc7af77a8d8f5df09ca",
              "version_major": 2,
              "version_minor": 0
            },
            "text/plain": [
              "Validation: |          | 0/? [00:00<?, ?it/s]"
            ]
          },
          "metadata": {},
          "output_type": "display_data"
        },
        {
          "name": "stderr",
          "output_type": "stream",
          "text": [
            "Epoch 215, global step 1080: 'val_dice' was not in top 1\n"
          ]
        },
        {
          "name": "stdout",
          "output_type": "stream",
          "text": [
            "current epoch: 215 current mean dice: 0.4249 current mean iou: 0.6384\n",
            "best mean dice: 0.6327 at epoch: 190\n",
            "[neptune] [error  ] Error occurred during asynchronous operation processing: X-coordinates (step) must be strictly increasing for series attribute: training/epoch. Invalid point: 1079.0\n"
          ]
        },
        {
          "data": {
            "application/vnd.jupyter.widget-view+json": {
              "model_id": "b8b5ffcc63d446c299ed730949c475f6",
              "version_major": 2,
              "version_minor": 0
            },
            "text/plain": [
              "Validation: |          | 0/? [00:00<?, ?it/s]"
            ]
          },
          "metadata": {},
          "output_type": "display_data"
        },
        {
          "name": "stderr",
          "output_type": "stream",
          "text": [
            "Epoch 216, global step 1085: 'val_dice' was not in top 1\n"
          ]
        },
        {
          "name": "stdout",
          "output_type": "stream",
          "text": [
            "current epoch: 216 current mean dice: 0.5871 current mean iou: 0.7136\n",
            "best mean dice: 0.6327 at epoch: 190\n",
            "[neptune] [error  ] Error occurred during asynchronous operation processing: X-coordinates (step) must be strictly increasing for series attribute: training/epoch. Invalid point: 1084.0\n"
          ]
        },
        {
          "data": {
            "application/vnd.jupyter.widget-view+json": {
              "model_id": "6b72ba6e00b6400ab0fad888a9c59ffa",
              "version_major": 2,
              "version_minor": 0
            },
            "text/plain": [
              "Validation: |          | 0/? [00:00<?, ?it/s]"
            ]
          },
          "metadata": {},
          "output_type": "display_data"
        },
        {
          "name": "stderr",
          "output_type": "stream",
          "text": [
            "Epoch 217, global step 1090: 'val_dice' was not in top 1\n"
          ]
        },
        {
          "name": "stdout",
          "output_type": "stream",
          "text": [
            "current epoch: 217 current mean dice: 0.5146 current mean iou: 0.6801\n",
            "best mean dice: 0.6327 at epoch: 190\n",
            "[neptune] [error  ] Error occurred during asynchronous operation processing: X-coordinates (step) must be strictly increasing for series attribute: training/epoch. Invalid point: 1089.0\n"
          ]
        },
        {
          "data": {
            "application/vnd.jupyter.widget-view+json": {
              "model_id": "f4e8b7f27715498596bfb8a133196440",
              "version_major": 2,
              "version_minor": 0
            },
            "text/plain": [
              "Validation: |          | 0/? [00:00<?, ?it/s]"
            ]
          },
          "metadata": {},
          "output_type": "display_data"
        },
        {
          "name": "stderr",
          "output_type": "stream",
          "text": [
            "Epoch 218, global step 1095: 'val_dice' was not in top 1\n"
          ]
        },
        {
          "name": "stdout",
          "output_type": "stream",
          "text": [
            "current epoch: 218 current mean dice: 0.3924 current mean iou: 0.6257\n",
            "best mean dice: 0.6327 at epoch: 190\n",
            "[neptune] [error  ] Error occurred during asynchronous operation processing: X-coordinates (step) must be strictly increasing for series attribute: training/epoch. Invalid point: 1094.0\n"
          ]
        },
        {
          "data": {
            "application/vnd.jupyter.widget-view+json": {
              "model_id": "5a873e0ed811488e8d16ff7b7637c940",
              "version_major": 2,
              "version_minor": 0
            },
            "text/plain": [
              "Validation: |          | 0/? [00:00<?, ?it/s]"
            ]
          },
          "metadata": {},
          "output_type": "display_data"
        },
        {
          "name": "stderr",
          "output_type": "stream",
          "text": [
            "Epoch 219, global step 1100: 'val_dice' was not in top 1\n"
          ]
        },
        {
          "name": "stdout",
          "output_type": "stream",
          "text": [
            "current epoch: 219 current mean dice: 0.3043 current mean iou: 0.5909\n",
            "best mean dice: 0.6327 at epoch: 190\n",
            "[neptune] [error  ] Error occurred during asynchronous operation processing: X-coordinates (step) must be strictly increasing for series attribute: training/epoch. Invalid point: 1099.0\n"
          ]
        },
        {
          "data": {
            "application/vnd.jupyter.widget-view+json": {
              "model_id": "7fdd2c9dcf784c8dad62fd703cca3c82",
              "version_major": 2,
              "version_minor": 0
            },
            "text/plain": [
              "Validation: |          | 0/? [00:00<?, ?it/s]"
            ]
          },
          "metadata": {},
          "output_type": "display_data"
        },
        {
          "name": "stderr",
          "output_type": "stream",
          "text": [
            "Epoch 220, global step 1105: 'val_dice' was not in top 1\n"
          ]
        },
        {
          "name": "stdout",
          "output_type": "stream",
          "text": [
            "current epoch: 220 current mean dice: 0.4804 current mean iou: 0.6641\n",
            "best mean dice: 0.6327 at epoch: 190\n",
            "[neptune] [error  ] Error occurred during asynchronous operation processing: X-coordinates (step) must be strictly increasing for series attribute: training/epoch. Invalid point: 1104.0\n"
          ]
        },
        {
          "data": {
            "application/vnd.jupyter.widget-view+json": {
              "model_id": "b9c157bb639f43f1a1ade6636cad9beb",
              "version_major": 2,
              "version_minor": 0
            },
            "text/plain": [
              "Validation: |          | 0/? [00:00<?, ?it/s]"
            ]
          },
          "metadata": {},
          "output_type": "display_data"
        },
        {
          "name": "stderr",
          "output_type": "stream",
          "text": [
            "Epoch 221, global step 1110: 'val_dice' was not in top 1\n"
          ]
        },
        {
          "name": "stdout",
          "output_type": "stream",
          "text": [
            "current epoch: 221 current mean dice: 0.5290 current mean iou: 0.6859\n",
            "best mean dice: 0.6327 at epoch: 190\n",
            "[neptune] [error  ] Error occurred during asynchronous operation processing: X-coordinates (step) must be strictly increasing for series attribute: training/epoch. Invalid point: 1109.0\n"
          ]
        },
        {
          "data": {
            "application/vnd.jupyter.widget-view+json": {
              "model_id": "e93ebb2ab27d4aa991c1a40e8c2ff2e9",
              "version_major": 2,
              "version_minor": 0
            },
            "text/plain": [
              "Validation: |          | 0/? [00:00<?, ?it/s]"
            ]
          },
          "metadata": {},
          "output_type": "display_data"
        },
        {
          "name": "stderr",
          "output_type": "stream",
          "text": [
            "Epoch 222, global step 1115: 'val_dice' was not in top 1\n"
          ]
        },
        {
          "name": "stdout",
          "output_type": "stream",
          "text": [
            "current epoch: 222 current mean dice: 0.5179 current mean iou: 0.6801\n",
            "best mean dice: 0.6327 at epoch: 190\n",
            "[neptune] [error  ] Error occurred during asynchronous operation processing: X-coordinates (step) must be strictly increasing for series attribute: training/epoch. Invalid point: 1114.0\n"
          ]
        },
        {
          "data": {
            "application/vnd.jupyter.widget-view+json": {
              "model_id": "9d4b1702f7e24537a285115ebfe8bfa1",
              "version_major": 2,
              "version_minor": 0
            },
            "text/plain": [
              "Validation: |          | 0/? [00:00<?, ?it/s]"
            ]
          },
          "metadata": {},
          "output_type": "display_data"
        },
        {
          "name": "stderr",
          "output_type": "stream",
          "text": [
            "Epoch 223, global step 1120: 'val_dice' was not in top 1\n"
          ]
        },
        {
          "name": "stdout",
          "output_type": "stream",
          "text": [
            "current epoch: 223 current mean dice: 0.5142 current mean iou: 0.6782\n",
            "best mean dice: 0.6327 at epoch: 190\n",
            "[neptune] [error  ] Error occurred during asynchronous operation processing: X-coordinates (step) must be strictly increasing for series attribute: training/epoch. Invalid point: 1119.0\n"
          ]
        },
        {
          "data": {
            "application/vnd.jupyter.widget-view+json": {
              "model_id": "6f0644c247904b0b83847d60a57cea81",
              "version_major": 2,
              "version_minor": 0
            },
            "text/plain": [
              "Validation: |          | 0/? [00:00<?, ?it/s]"
            ]
          },
          "metadata": {},
          "output_type": "display_data"
        },
        {
          "name": "stderr",
          "output_type": "stream",
          "text": [
            "Epoch 224, global step 1125: 'val_dice' was not in top 1\n"
          ]
        },
        {
          "name": "stdout",
          "output_type": "stream",
          "text": [
            "current epoch: 224 current mean dice: 0.5168 current mean iou: 0.6785\n",
            "best mean dice: 0.6327 at epoch: 190\n",
            "[neptune] [error  ] Error occurred during asynchronous operation processing: X-coordinates (step) must be strictly increasing for series attribute: training/epoch. Invalid point: 1124.0\n"
          ]
        },
        {
          "data": {
            "application/vnd.jupyter.widget-view+json": {
              "model_id": "5b0714d7fb4a408fb2b76588b6d5bb07",
              "version_major": 2,
              "version_minor": 0
            },
            "text/plain": [
              "Validation: |          | 0/? [00:00<?, ?it/s]"
            ]
          },
          "metadata": {},
          "output_type": "display_data"
        },
        {
          "name": "stderr",
          "output_type": "stream",
          "text": [
            "Epoch 225, global step 1130: 'val_dice' was not in top 1\n"
          ]
        },
        {
          "name": "stdout",
          "output_type": "stream",
          "text": [
            "current epoch: 225 current mean dice: 0.5418 current mean iou: 0.6905\n",
            "best mean dice: 0.6327 at epoch: 190\n",
            "[neptune] [error  ] Error occurred during asynchronous operation processing: X-coordinates (step) must be strictly increasing for series attribute: training/epoch. Invalid point: 1129.0\n"
          ]
        },
        {
          "data": {
            "application/vnd.jupyter.widget-view+json": {
              "model_id": "2ba89286f60146398afd6f4bb1659b81",
              "version_major": 2,
              "version_minor": 0
            },
            "text/plain": [
              "Validation: |          | 0/? [00:00<?, ?it/s]"
            ]
          },
          "metadata": {},
          "output_type": "display_data"
        },
        {
          "name": "stderr",
          "output_type": "stream",
          "text": [
            "Epoch 226, global step 1135: 'val_dice' was not in top 1\n"
          ]
        },
        {
          "name": "stdout",
          "output_type": "stream",
          "text": [
            "current epoch: 226 current mean dice: 0.5905 current mean iou: 0.7143\n",
            "best mean dice: 0.6327 at epoch: 190\n",
            "[neptune] [error  ] Error occurred during asynchronous operation processing: X-coordinates (step) must be strictly increasing for series attribute: training/epoch. Invalid point: 1134.0\n"
          ]
        },
        {
          "data": {
            "application/vnd.jupyter.widget-view+json": {
              "model_id": "c8071b82784341d3a65a133639091d0a",
              "version_major": 2,
              "version_minor": 0
            },
            "text/plain": [
              "Validation: |          | 0/? [00:00<?, ?it/s]"
            ]
          },
          "metadata": {},
          "output_type": "display_data"
        },
        {
          "name": "stderr",
          "output_type": "stream",
          "text": [
            "Epoch 227, global step 1140: 'val_dice' was not in top 1\n"
          ]
        },
        {
          "name": "stdout",
          "output_type": "stream",
          "text": [
            "current epoch: 227 current mean dice: 0.6232 current mean iou: 0.7304\n",
            "best mean dice: 0.6327 at epoch: 190\n",
            "[neptune] [error  ] Error occurred during asynchronous operation processing: X-coordinates (step) must be strictly increasing for series attribute: training/epoch. Invalid point: 1139.0\n"
          ]
        },
        {
          "data": {
            "application/vnd.jupyter.widget-view+json": {
              "model_id": "620223fb61bc45b78514cd4bf44557d6",
              "version_major": 2,
              "version_minor": 0
            },
            "text/plain": [
              "Validation: |          | 0/? [00:00<?, ?it/s]"
            ]
          },
          "metadata": {},
          "output_type": "display_data"
        },
        {
          "name": "stderr",
          "output_type": "stream",
          "text": [
            "Epoch 228, global step 1145: 'val_dice' was not in top 1\n"
          ]
        },
        {
          "name": "stdout",
          "output_type": "stream",
          "text": [
            "current epoch: 228 current mean dice: 0.5694 current mean iou: 0.7025\n",
            "best mean dice: 0.6327 at epoch: 190\n",
            "[neptune] [error  ] Error occurred during asynchronous operation processing: X-coordinates (step) must be strictly increasing for series attribute: training/epoch. Invalid point: 1144.0\n"
          ]
        },
        {
          "data": {
            "application/vnd.jupyter.widget-view+json": {
              "model_id": "fcf04752300c4016982576e5b531aeda",
              "version_major": 2,
              "version_minor": 0
            },
            "text/plain": [
              "Validation: |          | 0/? [00:00<?, ?it/s]"
            ]
          },
          "metadata": {},
          "output_type": "display_data"
        },
        {
          "name": "stderr",
          "output_type": "stream",
          "text": [
            "Epoch 229, global step 1150: 'val_dice' was not in top 1\n"
          ]
        },
        {
          "name": "stdout",
          "output_type": "stream",
          "text": [
            "current epoch: 229 current mean dice: 0.5145 current mean iou: 0.6773\n",
            "best mean dice: 0.6327 at epoch: 190\n",
            "[neptune] [error  ] Error occurred during asynchronous operation processing: X-coordinates (step) must be strictly increasing for series attribute: training/epoch. Invalid point: 1149.0\n"
          ]
        },
        {
          "data": {
            "application/vnd.jupyter.widget-view+json": {
              "model_id": "86decfbbba564717b75d33e84ef00797",
              "version_major": 2,
              "version_minor": 0
            },
            "text/plain": [
              "Validation: |          | 0/? [00:00<?, ?it/s]"
            ]
          },
          "metadata": {},
          "output_type": "display_data"
        },
        {
          "name": "stderr",
          "output_type": "stream",
          "text": [
            "Epoch 230, global step 1155: 'val_dice' was not in top 1\n"
          ]
        },
        {
          "name": "stdout",
          "output_type": "stream",
          "text": [
            "current epoch: 230 current mean dice: 0.4620 current mean iou: 0.6545\n",
            "best mean dice: 0.6327 at epoch: 190\n",
            "[neptune] [error  ] Error occurred during asynchronous operation processing: X-coordinates (step) must be strictly increasing for series attribute: training/epoch. Invalid point: 1154.0\n"
          ]
        },
        {
          "data": {
            "application/vnd.jupyter.widget-view+json": {
              "model_id": "b0d45115201a4343b78857916f4832e9",
              "version_major": 2,
              "version_minor": 0
            },
            "text/plain": [
              "Validation: |          | 0/? [00:00<?, ?it/s]"
            ]
          },
          "metadata": {},
          "output_type": "display_data"
        },
        {
          "name": "stderr",
          "output_type": "stream",
          "text": [
            "Epoch 231, global step 1160: 'val_dice' was not in top 1\n"
          ]
        },
        {
          "name": "stdout",
          "output_type": "stream",
          "text": [
            "current epoch: 231 current mean dice: 0.4132 current mean iou: 0.6316\n",
            "best mean dice: 0.6327 at epoch: 190\n",
            "[neptune] [error  ] Error occurred during asynchronous operation processing: X-coordinates (step) must be strictly increasing for series attribute: training/epoch. Invalid point: 1159.0\n"
          ]
        },
        {
          "data": {
            "application/vnd.jupyter.widget-view+json": {
              "model_id": "258bd0556e774d00812604e94a3b5df6",
              "version_major": 2,
              "version_minor": 0
            },
            "text/plain": [
              "Validation: |          | 0/? [00:00<?, ?it/s]"
            ]
          },
          "metadata": {},
          "output_type": "display_data"
        },
        {
          "name": "stderr",
          "output_type": "stream",
          "text": [
            "Epoch 232, global step 1165: 'val_dice' was not in top 1\n"
          ]
        },
        {
          "name": "stdout",
          "output_type": "stream",
          "text": [
            "current epoch: 232 current mean dice: 0.2016 current mean iou: 0.5530\n",
            "best mean dice: 0.6327 at epoch: 190\n",
            "[neptune] [error  ] Error occurred during asynchronous operation processing: X-coordinates (step) must be strictly increasing for series attribute: training/epoch. Invalid point: 1164.0\n"
          ]
        },
        {
          "data": {
            "application/vnd.jupyter.widget-view+json": {
              "model_id": "f350a30c4fd3468dba1f3aced167b133",
              "version_major": 2,
              "version_minor": 0
            },
            "text/plain": [
              "Validation: |          | 0/? [00:00<?, ?it/s]"
            ]
          },
          "metadata": {},
          "output_type": "display_data"
        },
        {
          "name": "stderr",
          "output_type": "stream",
          "text": [
            "Epoch 233, global step 1170: 'val_dice' was not in top 1\n"
          ]
        },
        {
          "name": "stdout",
          "output_type": "stream",
          "text": [
            "current epoch: 233 current mean dice: 0.4935 current mean iou: 0.6682\n",
            "best mean dice: 0.6327 at epoch: 190\n",
            "[neptune] [error  ] Error occurred during asynchronous operation processing: X-coordinates (step) must be strictly increasing for series attribute: training/epoch. Invalid point: 1169.0\n"
          ]
        },
        {
          "data": {
            "application/vnd.jupyter.widget-view+json": {
              "model_id": "c424099bbb49491087128d1a6e67ede3",
              "version_major": 2,
              "version_minor": 0
            },
            "text/plain": [
              "Validation: |          | 0/? [00:00<?, ?it/s]"
            ]
          },
          "metadata": {},
          "output_type": "display_data"
        },
        {
          "name": "stderr",
          "output_type": "stream",
          "text": [
            "Epoch 234, global step 1175: 'val_dice' was not in top 1\n"
          ]
        },
        {
          "name": "stdout",
          "output_type": "stream",
          "text": [
            "current epoch: 234 current mean dice: 0.5885 current mean iou: 0.7133\n",
            "best mean dice: 0.6327 at epoch: 190\n",
            "[neptune] [error  ] Error occurred during asynchronous operation processing: X-coordinates (step) must be strictly increasing for series attribute: training/epoch. Invalid point: 1174.0\n"
          ]
        },
        {
          "data": {
            "application/vnd.jupyter.widget-view+json": {
              "model_id": "39696cbc43624d6a9da5e0a02c54297e",
              "version_major": 2,
              "version_minor": 0
            },
            "text/plain": [
              "Validation: |          | 0/? [00:00<?, ?it/s]"
            ]
          },
          "metadata": {},
          "output_type": "display_data"
        },
        {
          "name": "stderr",
          "output_type": "stream",
          "text": [
            "Epoch 235, global step 1180: 'val_dice' reached 0.68058 (best 0.68058), saving model to '/home/pawel/Documents/RISA/3D_segmentation/AeroPath/checkpoints/whole_epoch=235-val_dice=0.6806.ckpt' as top 1\n"
          ]
        },
        {
          "name": "stdout",
          "output_type": "stream",
          "text": [
            "current epoch: 235 current mean dice: 0.6806 current mean iou: 0.7599\n",
            "best mean dice: 0.6806 at epoch: 235\n",
            "[neptune] [error  ] Error occurred during asynchronous operation processing: X-coordinates (step) must be strictly increasing for series attribute: training/epoch. Invalid point: 1179.0\n"
          ]
        },
        {
          "data": {
            "application/vnd.jupyter.widget-view+json": {
              "model_id": "4d67ffd8eaf74414b44774ceaf1bc7fd",
              "version_major": 2,
              "version_minor": 0
            },
            "text/plain": [
              "Validation: |          | 0/? [00:00<?, ?it/s]"
            ]
          },
          "metadata": {},
          "output_type": "display_data"
        },
        {
          "name": "stderr",
          "output_type": "stream",
          "text": [
            "Epoch 236, global step 1185: 'val_dice' was not in top 1\n"
          ]
        },
        {
          "name": "stdout",
          "output_type": "stream",
          "text": [
            "current epoch: 236 current mean dice: 0.5956 current mean iou: 0.7153\n",
            "best mean dice: 0.6806 at epoch: 235\n",
            "[neptune] [error  ] Error occurred during asynchronous operation processing: X-coordinates (step) must be strictly increasing for series attribute: training/epoch. Invalid point: 1184.0\n"
          ]
        },
        {
          "data": {
            "application/vnd.jupyter.widget-view+json": {
              "model_id": "2a08ca50fe7d48388b2d88448eb9e5ab",
              "version_major": 2,
              "version_minor": 0
            },
            "text/plain": [
              "Validation: |          | 0/? [00:00<?, ?it/s]"
            ]
          },
          "metadata": {},
          "output_type": "display_data"
        },
        {
          "name": "stderr",
          "output_type": "stream",
          "text": [
            "Epoch 237, global step 1190: 'val_dice' was not in top 1\n"
          ]
        },
        {
          "name": "stdout",
          "output_type": "stream",
          "text": [
            "current epoch: 237 current mean dice: 0.4243 current mean iou: 0.6368\n",
            "best mean dice: 0.6806 at epoch: 235\n",
            "[neptune] [error  ] Error occurred during asynchronous operation processing: X-coordinates (step) must be strictly increasing for series attribute: training/epoch. Invalid point: 1189.0\n"
          ]
        },
        {
          "data": {
            "application/vnd.jupyter.widget-view+json": {
              "model_id": "079ac185eede41e48c83d7750206a29f",
              "version_major": 2,
              "version_minor": 0
            },
            "text/plain": [
              "Validation: |          | 0/? [00:00<?, ?it/s]"
            ]
          },
          "metadata": {},
          "output_type": "display_data"
        },
        {
          "name": "stderr",
          "output_type": "stream",
          "text": [
            "Epoch 238, global step 1195: 'val_dice' was not in top 1\n"
          ]
        },
        {
          "name": "stdout",
          "output_type": "stream",
          "text": [
            "current epoch: 238 current mean dice: 0.4851 current mean iou: 0.6642\n",
            "best mean dice: 0.6806 at epoch: 235\n",
            "[neptune] [error  ] Error occurred during asynchronous operation processing: X-coordinates (step) must be strictly increasing for series attribute: training/epoch. Invalid point: 1194.0\n"
          ]
        },
        {
          "data": {
            "application/vnd.jupyter.widget-view+json": {
              "model_id": "8dda916db22a4e78a60800d30b44b60f",
              "version_major": 2,
              "version_minor": 0
            },
            "text/plain": [
              "Validation: |          | 0/? [00:00<?, ?it/s]"
            ]
          },
          "metadata": {},
          "output_type": "display_data"
        },
        {
          "name": "stderr",
          "output_type": "stream",
          "text": [
            "Epoch 239, global step 1200: 'val_dice' was not in top 1\n"
          ]
        },
        {
          "name": "stdout",
          "output_type": "stream",
          "text": [
            "current epoch: 239 current mean dice: 0.3883 current mean iou: 0.6229\n",
            "best mean dice: 0.6806 at epoch: 235\n",
            "[neptune] [error  ] Error occurred during asynchronous operation processing: X-coordinates (step) must be strictly increasing for series attribute: training/epoch. Invalid point: 1199.0\n"
          ]
        },
        {
          "data": {
            "application/vnd.jupyter.widget-view+json": {
              "model_id": "f6985f9ef62b4647839f14ef070d252f",
              "version_major": 2,
              "version_minor": 0
            },
            "text/plain": [
              "Validation: |          | 0/? [00:00<?, ?it/s]"
            ]
          },
          "metadata": {},
          "output_type": "display_data"
        },
        {
          "name": "stderr",
          "output_type": "stream",
          "text": [
            "Epoch 240, global step 1205: 'val_dice' was not in top 1\n"
          ]
        },
        {
          "name": "stdout",
          "output_type": "stream",
          "text": [
            "current epoch: 240 current mean dice: 0.1120 current mean iou: 0.5198\n",
            "best mean dice: 0.6806 at epoch: 235\n",
            "[neptune] [error  ] Error occurred during asynchronous operation processing: X-coordinates (step) must be strictly increasing for series attribute: training/epoch. Invalid point: 1204.0\n"
          ]
        },
        {
          "data": {
            "application/vnd.jupyter.widget-view+json": {
              "model_id": "25349092cfd240d1a83f78f7fc9e3b9b",
              "version_major": 2,
              "version_minor": 0
            },
            "text/plain": [
              "Validation: |          | 0/? [00:00<?, ?it/s]"
            ]
          },
          "metadata": {},
          "output_type": "display_data"
        },
        {
          "name": "stderr",
          "output_type": "stream",
          "text": [
            "Epoch 241, global step 1210: 'val_dice' was not in top 1\n"
          ]
        },
        {
          "name": "stdout",
          "output_type": "stream",
          "text": [
            "current epoch: 241 current mean dice: 0.1900 current mean iou: 0.5492\n",
            "best mean dice: 0.6806 at epoch: 235\n",
            "[neptune] [error  ] Error occurred during asynchronous operation processing: X-coordinates (step) must be strictly increasing for series attribute: training/epoch. Invalid point: 1209.0\n"
          ]
        },
        {
          "data": {
            "application/vnd.jupyter.widget-view+json": {
              "model_id": "6c8cda62778d4ee48a9cfb897d312efb",
              "version_major": 2,
              "version_minor": 0
            },
            "text/plain": [
              "Validation: |          | 0/? [00:00<?, ?it/s]"
            ]
          },
          "metadata": {},
          "output_type": "display_data"
        },
        {
          "name": "stderr",
          "output_type": "stream",
          "text": [
            "Epoch 242, global step 1215: 'val_dice' was not in top 1\n"
          ]
        },
        {
          "name": "stdout",
          "output_type": "stream",
          "text": [
            "current epoch: 242 current mean dice: 0.5112 current mean iou: 0.6770\n",
            "best mean dice: 0.6806 at epoch: 235\n",
            "[neptune] [error  ] Error occurred during asynchronous operation processing: X-coordinates (step) must be strictly increasing for series attribute: training/epoch. Invalid point: 1214.0\n"
          ]
        },
        {
          "data": {
            "application/vnd.jupyter.widget-view+json": {
              "model_id": "ef2ce213781b4db7bb25d9085f97ebd7",
              "version_major": 2,
              "version_minor": 0
            },
            "text/plain": [
              "Validation: |          | 0/? [00:00<?, ?it/s]"
            ]
          },
          "metadata": {},
          "output_type": "display_data"
        },
        {
          "name": "stderr",
          "output_type": "stream",
          "text": [
            "Epoch 243, global step 1220: 'val_dice' was not in top 1\n"
          ]
        },
        {
          "name": "stdout",
          "output_type": "stream",
          "text": [
            "current epoch: 243 current mean dice: 0.5773 current mean iou: 0.7064\n",
            "best mean dice: 0.6806 at epoch: 235\n",
            "[neptune] [error  ] Error occurred during asynchronous operation processing: X-coordinates (step) must be strictly increasing for series attribute: training/epoch. Invalid point: 1219.0\n"
          ]
        },
        {
          "data": {
            "application/vnd.jupyter.widget-view+json": {
              "model_id": "cae009eb45c540da95773c7d3fc73353",
              "version_major": 2,
              "version_minor": 0
            },
            "text/plain": [
              "Validation: |          | 0/? [00:00<?, ?it/s]"
            ]
          },
          "metadata": {},
          "output_type": "display_data"
        },
        {
          "name": "stderr",
          "output_type": "stream",
          "text": [
            "Epoch 244, global step 1225: 'val_dice' was not in top 1\n"
          ]
        },
        {
          "name": "stdout",
          "output_type": "stream",
          "text": [
            "current epoch: 244 current mean dice: 0.4971 current mean iou: 0.6680\n",
            "best mean dice: 0.6806 at epoch: 235\n",
            "[neptune] [error  ] Error occurred during asynchronous operation processing: X-coordinates (step) must be strictly increasing for series attribute: training/epoch. Invalid point: 1224.0\n"
          ]
        },
        {
          "data": {
            "application/vnd.jupyter.widget-view+json": {
              "model_id": "3801b0d2d5534ba8b43992e0b3e87bcc",
              "version_major": 2,
              "version_minor": 0
            },
            "text/plain": [
              "Validation: |          | 0/? [00:00<?, ?it/s]"
            ]
          },
          "metadata": {},
          "output_type": "display_data"
        },
        {
          "name": "stderr",
          "output_type": "stream",
          "text": [
            "Epoch 245, global step 1230: 'val_dice' was not in top 1\n"
          ]
        },
        {
          "name": "stdout",
          "output_type": "stream",
          "text": [
            "current epoch: 245 current mean dice: 0.2956 current mean iou: 0.5870\n",
            "best mean dice: 0.6806 at epoch: 235\n",
            "[neptune] [error  ] Error occurred during asynchronous operation processing: X-coordinates (step) must be strictly increasing for series attribute: training/epoch. Invalid point: 1229.0\n"
          ]
        },
        {
          "data": {
            "application/vnd.jupyter.widget-view+json": {
              "model_id": "ee7e69b01681414faaf3754a02658fbd",
              "version_major": 2,
              "version_minor": 0
            },
            "text/plain": [
              "Validation: |          | 0/? [00:00<?, ?it/s]"
            ]
          },
          "metadata": {},
          "output_type": "display_data"
        },
        {
          "name": "stderr",
          "output_type": "stream",
          "text": [
            "Epoch 246, global step 1235: 'val_dice' was not in top 1\n"
          ]
        },
        {
          "name": "stdout",
          "output_type": "stream",
          "text": [
            "current epoch: 246 current mean dice: 0.2238 current mean iou: 0.5609\n",
            "best mean dice: 0.6806 at epoch: 235\n",
            "[neptune] [error  ] Error occurred during asynchronous operation processing: X-coordinates (step) must be strictly increasing for series attribute: training/epoch. Invalid point: 1234.0\n"
          ]
        },
        {
          "data": {
            "application/vnd.jupyter.widget-view+json": {
              "model_id": "0a0f0b7823e84a669783f866ce12c27d",
              "version_major": 2,
              "version_minor": 0
            },
            "text/plain": [
              "Validation: |          | 0/? [00:00<?, ?it/s]"
            ]
          },
          "metadata": {},
          "output_type": "display_data"
        },
        {
          "name": "stderr",
          "output_type": "stream",
          "text": [
            "Epoch 247, global step 1240: 'val_dice' was not in top 1\n"
          ]
        },
        {
          "name": "stdout",
          "output_type": "stream",
          "text": [
            "current epoch: 247 current mean dice: 0.3392 current mean iou: 0.6024\n",
            "best mean dice: 0.6806 at epoch: 235\n",
            "[neptune] [error  ] Error occurred during asynchronous operation processing: X-coordinates (step) must be strictly increasing for series attribute: training/epoch. Invalid point: 1239.0\n"
          ]
        },
        {
          "data": {
            "application/vnd.jupyter.widget-view+json": {
              "model_id": "e21bd0cb0818406a9494f818be7cf2c1",
              "version_major": 2,
              "version_minor": 0
            },
            "text/plain": [
              "Validation: |          | 0/? [00:00<?, ?it/s]"
            ]
          },
          "metadata": {},
          "output_type": "display_data"
        },
        {
          "name": "stderr",
          "output_type": "stream",
          "text": [
            "Epoch 248, global step 1245: 'val_dice' was not in top 1\n"
          ]
        },
        {
          "name": "stdout",
          "output_type": "stream",
          "text": [
            "current epoch: 248 current mean dice: 0.4003 current mean iou: 0.6264\n",
            "best mean dice: 0.6806 at epoch: 235\n",
            "[neptune] [error  ] Error occurred during asynchronous operation processing: X-coordinates (step) must be strictly increasing for series attribute: training/epoch. Invalid point: 1244.0\n"
          ]
        },
        {
          "data": {
            "application/vnd.jupyter.widget-view+json": {
              "model_id": "070b749624a1468d871668313852e1d4",
              "version_major": 2,
              "version_minor": 0
            },
            "text/plain": [
              "Validation: |          | 0/? [00:00<?, ?it/s]"
            ]
          },
          "metadata": {},
          "output_type": "display_data"
        },
        {
          "name": "stderr",
          "output_type": "stream",
          "text": [
            "Epoch 249, global step 1250: 'val_dice' was not in top 1\n"
          ]
        },
        {
          "name": "stdout",
          "output_type": "stream",
          "text": [
            "current epoch: 249 current mean dice: 0.4494 current mean iou: 0.6463\n",
            "best mean dice: 0.6806 at epoch: 235\n",
            "[neptune] [error  ] Error occurred during asynchronous operation processing: X-coordinates (step) must be strictly increasing for series attribute: training/epoch. Invalid point: 1249.0\n"
          ]
        },
        {
          "data": {
            "application/vnd.jupyter.widget-view+json": {
              "model_id": "d0fde9aedf4348a995df92a6436650a5",
              "version_major": 2,
              "version_minor": 0
            },
            "text/plain": [
              "Validation: |          | 0/? [00:00<?, ?it/s]"
            ]
          },
          "metadata": {},
          "output_type": "display_data"
        },
        {
          "name": "stderr",
          "output_type": "stream",
          "text": [
            "Epoch 250, global step 1255: 'val_dice' was not in top 1\n"
          ]
        },
        {
          "name": "stdout",
          "output_type": "stream",
          "text": [
            "current epoch: 250 current mean dice: 0.4174 current mean iou: 0.6334\n",
            "best mean dice: 0.6806 at epoch: 235\n",
            "[neptune] [error  ] Error occurred during asynchronous operation processing: X-coordinates (step) must be strictly increasing for series attribute: training/epoch. Invalid point: 1254.0\n"
          ]
        },
        {
          "data": {
            "application/vnd.jupyter.widget-view+json": {
              "model_id": "77bf9f3bf6f04b229aea8ae3efb21843",
              "version_major": 2,
              "version_minor": 0
            },
            "text/plain": [
              "Validation: |          | 0/? [00:00<?, ?it/s]"
            ]
          },
          "metadata": {},
          "output_type": "display_data"
        },
        {
          "name": "stderr",
          "output_type": "stream",
          "text": [
            "Epoch 251, global step 1260: 'val_dice' was not in top 1\n"
          ]
        },
        {
          "name": "stdout",
          "output_type": "stream",
          "text": [
            "current epoch: 251 current mean dice: 0.3450 current mean iou: 0.6048\n",
            "best mean dice: 0.6806 at epoch: 235\n",
            "[neptune] [error  ] Error occurred during asynchronous operation processing: X-coordinates (step) must be strictly increasing for series attribute: training/epoch. Invalid point: 1259.0\n"
          ]
        },
        {
          "data": {
            "application/vnd.jupyter.widget-view+json": {
              "model_id": "300209cd49aa4d6f8fc2e6c20fc01ce9",
              "version_major": 2,
              "version_minor": 0
            },
            "text/plain": [
              "Validation: |          | 0/? [00:00<?, ?it/s]"
            ]
          },
          "metadata": {},
          "output_type": "display_data"
        },
        {
          "name": "stderr",
          "output_type": "stream",
          "text": [
            "Epoch 252, global step 1265: 'val_dice' was not in top 1\n"
          ]
        },
        {
          "name": "stdout",
          "output_type": "stream",
          "text": [
            "current epoch: 252 current mean dice: 0.3404 current mean iou: 0.6033\n",
            "best mean dice: 0.6806 at epoch: 235\n",
            "[neptune] [error  ] Error occurred during asynchronous operation processing: X-coordinates (step) must be strictly increasing for series attribute: training/epoch. Invalid point: 1264.0\n"
          ]
        },
        {
          "data": {
            "application/vnd.jupyter.widget-view+json": {
              "model_id": "1e9b76e4b5ce4156b4784090c620b115",
              "version_major": 2,
              "version_minor": 0
            },
            "text/plain": [
              "Validation: |          | 0/? [00:00<?, ?it/s]"
            ]
          },
          "metadata": {},
          "output_type": "display_data"
        },
        {
          "name": "stderr",
          "output_type": "stream",
          "text": [
            "Epoch 253, global step 1270: 'val_dice' was not in top 1\n"
          ]
        },
        {
          "name": "stdout",
          "output_type": "stream",
          "text": [
            "current epoch: 253 current mean dice: 0.5044 current mean iou: 0.6725\n",
            "best mean dice: 0.6806 at epoch: 235\n",
            "[neptune] [error  ] Error occurred during asynchronous operation processing: X-coordinates (step) must be strictly increasing for series attribute: training/epoch. Invalid point: 1269.0\n"
          ]
        },
        {
          "data": {
            "application/vnd.jupyter.widget-view+json": {
              "model_id": "59bd0fb9280c402dbc8af75677974bce",
              "version_major": 2,
              "version_minor": 0
            },
            "text/plain": [
              "Validation: |          | 0/? [00:00<?, ?it/s]"
            ]
          },
          "metadata": {},
          "output_type": "display_data"
        },
        {
          "name": "stderr",
          "output_type": "stream",
          "text": [
            "Epoch 254, global step 1275: 'val_dice' was not in top 1\n"
          ]
        },
        {
          "name": "stdout",
          "output_type": "stream",
          "text": [
            "current epoch: 254 current mean dice: 0.6286 current mean iou: 0.7319\n",
            "best mean dice: 0.6806 at epoch: 235\n",
            "[neptune] [error  ] Error occurred during asynchronous operation processing: X-coordinates (step) must be strictly increasing for series attribute: training/epoch. Invalid point: 1274.0\n"
          ]
        },
        {
          "data": {
            "application/vnd.jupyter.widget-view+json": {
              "model_id": "69e354c152104bbdb208e81b53b07311",
              "version_major": 2,
              "version_minor": 0
            },
            "text/plain": [
              "Validation: |          | 0/? [00:00<?, ?it/s]"
            ]
          },
          "metadata": {},
          "output_type": "display_data"
        },
        {
          "name": "stderr",
          "output_type": "stream",
          "text": [
            "Epoch 255, global step 1280: 'val_dice' was not in top 1\n"
          ]
        },
        {
          "name": "stdout",
          "output_type": "stream",
          "text": [
            "current epoch: 255 current mean dice: 0.6043 current mean iou: 0.7196\n",
            "best mean dice: 0.6806 at epoch: 235\n",
            "[neptune] [error  ] Error occurred during asynchronous operation processing: X-coordinates (step) must be strictly increasing for series attribute: training/epoch. Invalid point: 1279.0\n"
          ]
        },
        {
          "data": {
            "application/vnd.jupyter.widget-view+json": {
              "model_id": "0ad704df467c49279cb6928e926dfd38",
              "version_major": 2,
              "version_minor": 0
            },
            "text/plain": [
              "Validation: |          | 0/? [00:00<?, ?it/s]"
            ]
          },
          "metadata": {},
          "output_type": "display_data"
        },
        {
          "name": "stderr",
          "output_type": "stream",
          "text": [
            "Epoch 256, global step 1285: 'val_dice' was not in top 1\n"
          ]
        },
        {
          "name": "stdout",
          "output_type": "stream",
          "text": [
            "current epoch: 256 current mean dice: 0.6008 current mean iou: 0.7192\n",
            "best mean dice: 0.6806 at epoch: 235\n",
            "[neptune] [error  ] Error occurred during asynchronous operation processing: X-coordinates (step) must be strictly increasing for series attribute: training/epoch. Invalid point: 1284.0\n"
          ]
        },
        {
          "data": {
            "application/vnd.jupyter.widget-view+json": {
              "model_id": "d4ee8a18d1654fd59eb47ca877d3fe6b",
              "version_major": 2,
              "version_minor": 0
            },
            "text/plain": [
              "Validation: |          | 0/? [00:00<?, ?it/s]"
            ]
          },
          "metadata": {},
          "output_type": "display_data"
        },
        {
          "name": "stderr",
          "output_type": "stream",
          "text": [
            "Epoch 257, global step 1290: 'val_dice' was not in top 1\n"
          ]
        },
        {
          "name": "stdout",
          "output_type": "stream",
          "text": [
            "current epoch: 257 current mean dice: 0.5884 current mean iou: 0.7126\n",
            "best mean dice: 0.6806 at epoch: 235\n",
            "[neptune] [error  ] Error occurred during asynchronous operation processing: X-coordinates (step) must be strictly increasing for series attribute: training/epoch. Invalid point: 1289.0\n"
          ]
        },
        {
          "data": {
            "application/vnd.jupyter.widget-view+json": {
              "model_id": "a6fc675623554b4a8e9331f67fad469b",
              "version_major": 2,
              "version_minor": 0
            },
            "text/plain": [
              "Validation: |          | 0/? [00:00<?, ?it/s]"
            ]
          },
          "metadata": {},
          "output_type": "display_data"
        },
        {
          "name": "stderr",
          "output_type": "stream",
          "text": [
            "Epoch 258, global step 1295: 'val_dice' was not in top 1\n"
          ]
        },
        {
          "name": "stdout",
          "output_type": "stream",
          "text": [
            "current epoch: 258 current mean dice: 0.4882 current mean iou: 0.6658\n",
            "best mean dice: 0.6806 at epoch: 235\n",
            "[neptune] [error  ] Error occurred during asynchronous operation processing: X-coordinates (step) must be strictly increasing for series attribute: training/epoch. Invalid point: 1294.0\n"
          ]
        },
        {
          "data": {
            "application/vnd.jupyter.widget-view+json": {
              "model_id": "f4f87673455c491fb0c8a3b39cd4f7fa",
              "version_major": 2,
              "version_minor": 0
            },
            "text/plain": [
              "Validation: |          | 0/? [00:00<?, ?it/s]"
            ]
          },
          "metadata": {},
          "output_type": "display_data"
        },
        {
          "name": "stderr",
          "output_type": "stream",
          "text": [
            "Epoch 259, global step 1300: 'val_dice' was not in top 1\n"
          ]
        },
        {
          "name": "stdout",
          "output_type": "stream",
          "text": [
            "current epoch: 259 current mean dice: 0.5446 current mean iou: 0.6925\n",
            "best mean dice: 0.6806 at epoch: 235\n",
            "[neptune] [error  ] Error occurred during asynchronous operation processing: X-coordinates (step) must be strictly increasing for series attribute: training/epoch. Invalid point: 1299.0\n"
          ]
        },
        {
          "data": {
            "application/vnd.jupyter.widget-view+json": {
              "model_id": "23bb8f71dc7e4c0faf3876f4222054cc",
              "version_major": 2,
              "version_minor": 0
            },
            "text/plain": [
              "Validation: |          | 0/? [00:00<?, ?it/s]"
            ]
          },
          "metadata": {},
          "output_type": "display_data"
        },
        {
          "name": "stderr",
          "output_type": "stream",
          "text": [
            "Epoch 260, global step 1305: 'val_dice' was not in top 1\n"
          ]
        },
        {
          "name": "stdout",
          "output_type": "stream",
          "text": [
            "current epoch: 260 current mean dice: 0.6321 current mean iou: 0.7333\n",
            "best mean dice: 0.6806 at epoch: 235\n",
            "[neptune] [error  ] Error occurred during asynchronous operation processing: X-coordinates (step) must be strictly increasing for series attribute: training/epoch. Invalid point: 1304.0\n"
          ]
        },
        {
          "data": {
            "application/vnd.jupyter.widget-view+json": {
              "model_id": "4ad035753dda4ac4bc407acf79dfe320",
              "version_major": 2,
              "version_minor": 0
            },
            "text/plain": [
              "Validation: |          | 0/? [00:00<?, ?it/s]"
            ]
          },
          "metadata": {},
          "output_type": "display_data"
        },
        {
          "name": "stderr",
          "output_type": "stream",
          "text": [
            "Epoch 261, global step 1310: 'val_dice' was not in top 1\n"
          ]
        },
        {
          "name": "stdout",
          "output_type": "stream",
          "text": [
            "current epoch: 261 current mean dice: 0.6084 current mean iou: 0.7224\n",
            "best mean dice: 0.6806 at epoch: 235\n",
            "[neptune] [error  ] Error occurred during asynchronous operation processing: X-coordinates (step) must be strictly increasing for series attribute: training/epoch. Invalid point: 1309.0\n"
          ]
        },
        {
          "data": {
            "application/vnd.jupyter.widget-view+json": {
              "model_id": "3740937b9f904ea5b779b387df459597",
              "version_major": 2,
              "version_minor": 0
            },
            "text/plain": [
              "Validation: |          | 0/? [00:00<?, ?it/s]"
            ]
          },
          "metadata": {},
          "output_type": "display_data"
        },
        {
          "name": "stderr",
          "output_type": "stream",
          "text": [
            "Epoch 262, global step 1315: 'val_dice' was not in top 1\n"
          ]
        },
        {
          "name": "stdout",
          "output_type": "stream",
          "text": [
            "current epoch: 262 current mean dice: 0.3410 current mean iou: 0.6060\n",
            "best mean dice: 0.6806 at epoch: 235\n",
            "[neptune] [error  ] Error occurred during asynchronous operation processing: X-coordinates (step) must be strictly increasing for series attribute: training/epoch. Invalid point: 1314.0\n"
          ]
        },
        {
          "data": {
            "application/vnd.jupyter.widget-view+json": {
              "model_id": "38405acaf68f4ae0bff36fd606566e1e",
              "version_major": 2,
              "version_minor": 0
            },
            "text/plain": [
              "Validation: |          | 0/? [00:00<?, ?it/s]"
            ]
          },
          "metadata": {},
          "output_type": "display_data"
        },
        {
          "name": "stderr",
          "output_type": "stream",
          "text": [
            "Epoch 263, global step 1320: 'val_dice' was not in top 1\n"
          ]
        },
        {
          "name": "stdout",
          "output_type": "stream",
          "text": [
            "current epoch: 263 current mean dice: 0.2829 current mean iou: 0.5835\n",
            "best mean dice: 0.6806 at epoch: 235\n",
            "[neptune] [error  ] Error occurred during asynchronous operation processing: X-coordinates (step) must be strictly increasing for series attribute: training/epoch. Invalid point: 1319.0\n"
          ]
        },
        {
          "data": {
            "application/vnd.jupyter.widget-view+json": {
              "model_id": "a6262d41e21d49ce98d24977f65040c5",
              "version_major": 2,
              "version_minor": 0
            },
            "text/plain": [
              "Validation: |          | 0/? [00:00<?, ?it/s]"
            ]
          },
          "metadata": {},
          "output_type": "display_data"
        },
        {
          "name": "stderr",
          "output_type": "stream",
          "text": [
            "Epoch 264, global step 1325: 'val_dice' was not in top 1\n"
          ]
        },
        {
          "name": "stdout",
          "output_type": "stream",
          "text": [
            "current epoch: 264 current mean dice: 0.2214 current mean iou: 0.5600\n",
            "best mean dice: 0.6806 at epoch: 235\n",
            "[neptune] [error  ] Error occurred during asynchronous operation processing: X-coordinates (step) must be strictly increasing for series attribute: training/epoch. Invalid point: 1324.0\n"
          ]
        },
        {
          "data": {
            "application/vnd.jupyter.widget-view+json": {
              "model_id": "cc4234908f8e4e8f825f6f5b80f8e502",
              "version_major": 2,
              "version_minor": 0
            },
            "text/plain": [
              "Validation: |          | 0/? [00:00<?, ?it/s]"
            ]
          },
          "metadata": {},
          "output_type": "display_data"
        },
        {
          "name": "stderr",
          "output_type": "stream",
          "text": [
            "Epoch 265, global step 1330: 'val_dice' was not in top 1\n"
          ]
        },
        {
          "name": "stdout",
          "output_type": "stream",
          "text": [
            "current epoch: 265 current mean dice: 0.1296 current mean iou: 0.5259\n",
            "best mean dice: 0.6806 at epoch: 235\n",
            "[neptune] [error  ] Error occurred during asynchronous operation processing: X-coordinates (step) must be strictly increasing for series attribute: training/epoch. Invalid point: 1329.0\n"
          ]
        },
        {
          "data": {
            "application/vnd.jupyter.widget-view+json": {
              "model_id": "0800f89177e44d54a055cac7d4375f12",
              "version_major": 2,
              "version_minor": 0
            },
            "text/plain": [
              "Validation: |          | 0/? [00:00<?, ?it/s]"
            ]
          },
          "metadata": {},
          "output_type": "display_data"
        },
        {
          "name": "stderr",
          "output_type": "stream",
          "text": [
            "Epoch 266, global step 1335: 'val_dice' was not in top 1\n"
          ]
        },
        {
          "name": "stdout",
          "output_type": "stream",
          "text": [
            "current epoch: 266 current mean dice: 0.5614 current mean iou: 0.6980\n",
            "best mean dice: 0.6806 at epoch: 235\n",
            "[neptune] [error  ] Error occurred during asynchronous operation processing: X-coordinates (step) must be strictly increasing for series attribute: training/epoch. Invalid point: 1334.0\n"
          ]
        },
        {
          "data": {
            "application/vnd.jupyter.widget-view+json": {
              "model_id": "2eb51bf204c34992ac056b25c4892e43",
              "version_major": 2,
              "version_minor": 0
            },
            "text/plain": [
              "Validation: |          | 0/? [00:00<?, ?it/s]"
            ]
          },
          "metadata": {},
          "output_type": "display_data"
        },
        {
          "name": "stderr",
          "output_type": "stream",
          "text": [
            "Epoch 267, global step 1340: 'val_dice' was not in top 1\n"
          ]
        },
        {
          "name": "stdout",
          "output_type": "stream",
          "text": [
            "current epoch: 267 current mean dice: 0.6132 current mean iou: 0.7241\n",
            "best mean dice: 0.6806 at epoch: 235\n",
            "[neptune] [error  ] Error occurred during asynchronous operation processing: X-coordinates (step) must be strictly increasing for series attribute: training/epoch. Invalid point: 1339.0\n"
          ]
        },
        {
          "data": {
            "application/vnd.jupyter.widget-view+json": {
              "model_id": "88416cb125754ea1beb775033cbaa44b",
              "version_major": 2,
              "version_minor": 0
            },
            "text/plain": [
              "Validation: |          | 0/? [00:00<?, ?it/s]"
            ]
          },
          "metadata": {},
          "output_type": "display_data"
        },
        {
          "name": "stderr",
          "output_type": "stream",
          "text": [
            "Epoch 268, global step 1345: 'val_dice' was not in top 1\n"
          ]
        },
        {
          "name": "stdout",
          "output_type": "stream",
          "text": [
            "current epoch: 268 current mean dice: 0.5708 current mean iou: 0.7037\n",
            "best mean dice: 0.6806 at epoch: 235\n",
            "[neptune] [error  ] Error occurred during asynchronous operation processing: X-coordinates (step) must be strictly increasing for series attribute: training/epoch. Invalid point: 1344.0\n"
          ]
        },
        {
          "data": {
            "application/vnd.jupyter.widget-view+json": {
              "model_id": "e25ea4fc72644bd3b701141077fcd55c",
              "version_major": 2,
              "version_minor": 0
            },
            "text/plain": [
              "Validation: |          | 0/? [00:00<?, ?it/s]"
            ]
          },
          "metadata": {},
          "output_type": "display_data"
        },
        {
          "name": "stderr",
          "output_type": "stream",
          "text": [
            "Epoch 269, global step 1350: 'val_dice' was not in top 1\n"
          ]
        },
        {
          "name": "stdout",
          "output_type": "stream",
          "text": [
            "current epoch: 269 current mean dice: 0.5244 current mean iou: 0.6813\n",
            "best mean dice: 0.6806 at epoch: 235\n",
            "[neptune] [error  ] Error occurred during asynchronous operation processing: X-coordinates (step) must be strictly increasing for series attribute: training/epoch. Invalid point: 1349.0\n"
          ]
        },
        {
          "data": {
            "application/vnd.jupyter.widget-view+json": {
              "model_id": "698f40112f0d4cd097db0820b66cf64b",
              "version_major": 2,
              "version_minor": 0
            },
            "text/plain": [
              "Validation: |          | 0/? [00:00<?, ?it/s]"
            ]
          },
          "metadata": {},
          "output_type": "display_data"
        },
        {
          "name": "stderr",
          "output_type": "stream",
          "text": [
            "Epoch 270, global step 1355: 'val_dice' was not in top 1\n"
          ]
        },
        {
          "name": "stdout",
          "output_type": "stream",
          "text": [
            "current epoch: 270 current mean dice: 0.4713 current mean iou: 0.6581\n",
            "best mean dice: 0.6806 at epoch: 235\n",
            "[neptune] [error  ] Error occurred during asynchronous operation processing: X-coordinates (step) must be strictly increasing for series attribute: training/epoch. Invalid point: 1354.0\n"
          ]
        },
        {
          "data": {
            "application/vnd.jupyter.widget-view+json": {
              "model_id": "bc560a65ff46419da189fdf8e5a819c3",
              "version_major": 2,
              "version_minor": 0
            },
            "text/plain": [
              "Validation: |          | 0/? [00:00<?, ?it/s]"
            ]
          },
          "metadata": {},
          "output_type": "display_data"
        },
        {
          "name": "stderr",
          "output_type": "stream",
          "text": [
            "Epoch 271, global step 1360: 'val_dice' was not in top 1\n"
          ]
        },
        {
          "name": "stdout",
          "output_type": "stream",
          "text": [
            "current epoch: 271 current mean dice: 0.2599 current mean iou: 0.5738\n",
            "best mean dice: 0.6806 at epoch: 235\n",
            "[neptune] [error  ] Error occurred during asynchronous operation processing: X-coordinates (step) must be strictly increasing for series attribute: training/epoch. Invalid point: 1359.0\n"
          ]
        },
        {
          "data": {
            "application/vnd.jupyter.widget-view+json": {
              "model_id": "ec03b3a2f906442181f912efc082810a",
              "version_major": 2,
              "version_minor": 0
            },
            "text/plain": [
              "Validation: |          | 0/? [00:00<?, ?it/s]"
            ]
          },
          "metadata": {},
          "output_type": "display_data"
        },
        {
          "name": "stderr",
          "output_type": "stream",
          "text": [
            "Epoch 272, global step 1365: 'val_dice' was not in top 1\n"
          ]
        },
        {
          "name": "stdout",
          "output_type": "stream",
          "text": [
            "current epoch: 272 current mean dice: 0.0226 current mean iou: 0.4671\n",
            "best mean dice: 0.6806 at epoch: 235\n",
            "[neptune] [error  ] Error occurred during asynchronous operation processing: X-coordinates (step) must be strictly increasing for series attribute: training/epoch. Invalid point: 1364.0\n"
          ]
        },
        {
          "data": {
            "application/vnd.jupyter.widget-view+json": {
              "model_id": "4dd97befc2bc41e7a5770961c204665e",
              "version_major": 2,
              "version_minor": 0
            },
            "text/plain": [
              "Validation: |          | 0/? [00:00<?, ?it/s]"
            ]
          },
          "metadata": {},
          "output_type": "display_data"
        },
        {
          "name": "stderr",
          "output_type": "stream",
          "text": [
            "Epoch 273, global step 1370: 'val_dice' was not in top 1\n"
          ]
        },
        {
          "name": "stdout",
          "output_type": "stream",
          "text": [
            "current epoch: 273 current mean dice: 0.0388 current mean iou: 0.4871\n",
            "best mean dice: 0.6806 at epoch: 235\n",
            "[neptune] [error  ] Error occurred during asynchronous operation processing: X-coordinates (step) must be strictly increasing for series attribute: training/epoch. Invalid point: 1369.0\n"
          ]
        },
        {
          "data": {
            "application/vnd.jupyter.widget-view+json": {
              "model_id": "1ff4631e769145c39bacc7d67e624965",
              "version_major": 2,
              "version_minor": 0
            },
            "text/plain": [
              "Validation: |          | 0/? [00:00<?, ?it/s]"
            ]
          },
          "metadata": {},
          "output_type": "display_data"
        },
        {
          "name": "stderr",
          "output_type": "stream",
          "text": [
            "Epoch 274, global step 1375: 'val_dice' was not in top 1\n"
          ]
        },
        {
          "name": "stdout",
          "output_type": "stream",
          "text": [
            "current epoch: 274 current mean dice: 0.3751 current mean iou: 0.6165\n",
            "best mean dice: 0.6806 at epoch: 235\n",
            "[neptune] [error  ] Error occurred during asynchronous operation processing: X-coordinates (step) must be strictly increasing for series attribute: training/epoch. Invalid point: 1374.0\n"
          ]
        },
        {
          "data": {
            "application/vnd.jupyter.widget-view+json": {
              "model_id": "e666b3b72f1b478390c5d0a4dbb8cb04",
              "version_major": 2,
              "version_minor": 0
            },
            "text/plain": [
              "Validation: |          | 0/? [00:00<?, ?it/s]"
            ]
          },
          "metadata": {},
          "output_type": "display_data"
        },
        {
          "name": "stderr",
          "output_type": "stream",
          "text": [
            "Epoch 275, global step 1380: 'val_dice' was not in top 1\n"
          ]
        },
        {
          "name": "stdout",
          "output_type": "stream",
          "text": [
            "current epoch: 275 current mean dice: 0.4887 current mean iou: 0.6647\n",
            "best mean dice: 0.6806 at epoch: 235\n",
            "[neptune] [error  ] Error occurred during asynchronous operation processing: X-coordinates (step) must be strictly increasing for series attribute: training/epoch. Invalid point: 1379.0\n"
          ]
        },
        {
          "data": {
            "application/vnd.jupyter.widget-view+json": {
              "model_id": "8ed55325b0c34666a0f38e908d9b19d5",
              "version_major": 2,
              "version_minor": 0
            },
            "text/plain": [
              "Validation: |          | 0/? [00:00<?, ?it/s]"
            ]
          },
          "metadata": {},
          "output_type": "display_data"
        },
        {
          "name": "stderr",
          "output_type": "stream",
          "text": [
            "Epoch 276, global step 1385: 'val_dice' was not in top 1\n"
          ]
        },
        {
          "name": "stdout",
          "output_type": "stream",
          "text": [
            "current epoch: 276 current mean dice: 0.4420 current mean iou: 0.6437\n",
            "best mean dice: 0.6806 at epoch: 235\n",
            "[neptune] [error  ] Error occurred during asynchronous operation processing: X-coordinates (step) must be strictly increasing for series attribute: training/epoch. Invalid point: 1384.0\n"
          ]
        },
        {
          "data": {
            "application/vnd.jupyter.widget-view+json": {
              "model_id": "edd4215c1ee748629795a0acf7d3d1bc",
              "version_major": 2,
              "version_minor": 0
            },
            "text/plain": [
              "Validation: |          | 0/? [00:00<?, ?it/s]"
            ]
          },
          "metadata": {},
          "output_type": "display_data"
        },
        {
          "name": "stderr",
          "output_type": "stream",
          "text": [
            "Epoch 277, global step 1390: 'val_dice' was not in top 1\n"
          ]
        },
        {
          "name": "stdout",
          "output_type": "stream",
          "text": [
            "current epoch: 277 current mean dice: 0.3601 current mean iou: 0.6104\n",
            "best mean dice: 0.6806 at epoch: 235\n",
            "[neptune] [error  ] Error occurred during asynchronous operation processing: X-coordinates (step) must be strictly increasing for series attribute: training/epoch. Invalid point: 1389.0\n"
          ]
        },
        {
          "data": {
            "application/vnd.jupyter.widget-view+json": {
              "model_id": "793d0c761cc94063873288c6070fa70b",
              "version_major": 2,
              "version_minor": 0
            },
            "text/plain": [
              "Validation: |          | 0/? [00:00<?, ?it/s]"
            ]
          },
          "metadata": {},
          "output_type": "display_data"
        },
        {
          "name": "stderr",
          "output_type": "stream",
          "text": [
            "Epoch 278, global step 1395: 'val_dice' was not in top 1\n"
          ]
        },
        {
          "name": "stdout",
          "output_type": "stream",
          "text": [
            "current epoch: 278 current mean dice: 0.1179 current mean iou: 0.5222\n",
            "best mean dice: 0.6806 at epoch: 235\n",
            "[neptune] [error  ] Error occurred during asynchronous operation processing: X-coordinates (step) must be strictly increasing for series attribute: training/epoch. Invalid point: 1394.0\n"
          ]
        },
        {
          "data": {
            "application/vnd.jupyter.widget-view+json": {
              "model_id": "3cd210ee29ee470e906d6967e7c1ff90",
              "version_major": 2,
              "version_minor": 0
            },
            "text/plain": [
              "Validation: |          | 0/? [00:00<?, ?it/s]"
            ]
          },
          "metadata": {},
          "output_type": "display_data"
        },
        {
          "name": "stderr",
          "output_type": "stream",
          "text": [
            "Epoch 279, global step 1400: 'val_dice' was not in top 1\n"
          ]
        },
        {
          "name": "stdout",
          "output_type": "stream",
          "text": [
            "current epoch: 279 current mean dice: 0.3450 current mean iou: 0.6067\n",
            "best mean dice: 0.6806 at epoch: 235\n",
            "[neptune] [error  ] Error occurred during asynchronous operation processing: X-coordinates (step) must be strictly increasing for series attribute: training/epoch. Invalid point: 1399.0\n"
          ]
        },
        {
          "data": {
            "application/vnd.jupyter.widget-view+json": {
              "model_id": "ef1e26ffc8c54794ac886876ba4ea706",
              "version_major": 2,
              "version_minor": 0
            },
            "text/plain": [
              "Validation: |          | 0/? [00:00<?, ?it/s]"
            ]
          },
          "metadata": {},
          "output_type": "display_data"
        },
        {
          "name": "stderr",
          "output_type": "stream",
          "text": [
            "Epoch 280, global step 1405: 'val_dice' was not in top 1\n"
          ]
        },
        {
          "name": "stdout",
          "output_type": "stream",
          "text": [
            "current epoch: 280 current mean dice: 0.6002 current mean iou: 0.7198\n",
            "best mean dice: 0.6806 at epoch: 235\n",
            "[neptune] [error  ] Error occurred during asynchronous operation processing: X-coordinates (step) must be strictly increasing for series attribute: training/epoch. Invalid point: 1404.0\n"
          ]
        },
        {
          "data": {
            "application/vnd.jupyter.widget-view+json": {
              "model_id": "02bb40c470ed4981992f6b33548dc1ac",
              "version_major": 2,
              "version_minor": 0
            },
            "text/plain": [
              "Validation: |          | 0/? [00:00<?, ?it/s]"
            ]
          },
          "metadata": {},
          "output_type": "display_data"
        },
        {
          "name": "stderr",
          "output_type": "stream",
          "text": [
            "Epoch 281, global step 1410: 'val_dice' was not in top 1\n"
          ]
        },
        {
          "name": "stdout",
          "output_type": "stream",
          "text": [
            "current epoch: 281 current mean dice: 0.6575 current mean iou: 0.7487\n",
            "best mean dice: 0.6806 at epoch: 235\n",
            "[neptune] [error  ] Error occurred during asynchronous operation processing: X-coordinates (step) must be strictly increasing for series attribute: training/epoch. Invalid point: 1409.0\n"
          ]
        },
        {
          "data": {
            "application/vnd.jupyter.widget-view+json": {
              "model_id": "a21f0daa084a4b2695b3405e56f0eec2",
              "version_major": 2,
              "version_minor": 0
            },
            "text/plain": [
              "Validation: |          | 0/? [00:00<?, ?it/s]"
            ]
          },
          "metadata": {},
          "output_type": "display_data"
        },
        {
          "name": "stderr",
          "output_type": "stream",
          "text": [
            "Epoch 282, global step 1415: 'val_dice' was not in top 1\n"
          ]
        },
        {
          "name": "stdout",
          "output_type": "stream",
          "text": [
            "current epoch: 282 current mean dice: 0.5259 current mean iou: 0.6849\n",
            "best mean dice: 0.6806 at epoch: 235\n",
            "[neptune] [error  ] Error occurred during asynchronous operation processing: X-coordinates (step) must be strictly increasing for series attribute: training/epoch. Invalid point: 1414.0\n"
          ]
        },
        {
          "data": {
            "application/vnd.jupyter.widget-view+json": {
              "model_id": "4a3dac210fd1469f9dcb1f124e1123b1",
              "version_major": 2,
              "version_minor": 0
            },
            "text/plain": [
              "Validation: |          | 0/? [00:00<?, ?it/s]"
            ]
          },
          "metadata": {},
          "output_type": "display_data"
        },
        {
          "name": "stderr",
          "output_type": "stream",
          "text": [
            "Epoch 283, global step 1420: 'val_dice' was not in top 1\n"
          ]
        },
        {
          "name": "stdout",
          "output_type": "stream",
          "text": [
            "current epoch: 283 current mean dice: 0.3770 current mean iou: 0.6186\n",
            "best mean dice: 0.6806 at epoch: 235\n",
            "[neptune] [error  ] Error occurred during asynchronous operation processing: X-coordinates (step) must be strictly increasing for series attribute: training/epoch. Invalid point: 1419.0\n"
          ]
        },
        {
          "data": {
            "application/vnd.jupyter.widget-view+json": {
              "model_id": "a6bad4a095b6451caea2813fc6569c79",
              "version_major": 2,
              "version_minor": 0
            },
            "text/plain": [
              "Validation: |          | 0/? [00:00<?, ?it/s]"
            ]
          },
          "metadata": {},
          "output_type": "display_data"
        },
        {
          "name": "stderr",
          "output_type": "stream",
          "text": [
            "Epoch 284, global step 1425: 'val_dice' was not in top 1\n"
          ]
        },
        {
          "name": "stdout",
          "output_type": "stream",
          "text": [
            "current epoch: 284 current mean dice: 0.3388 current mean iou: 0.6038\n",
            "best mean dice: 0.6806 at epoch: 235\n",
            "[neptune] [error  ] Error occurred during asynchronous operation processing: X-coordinates (step) must be strictly increasing for series attribute: training/epoch. Invalid point: 1424.0\n"
          ]
        },
        {
          "data": {
            "application/vnd.jupyter.widget-view+json": {
              "model_id": "f8527d80f09e401ca68f89bd1ea298c4",
              "version_major": 2,
              "version_minor": 0
            },
            "text/plain": [
              "Validation: |          | 0/? [00:00<?, ?it/s]"
            ]
          },
          "metadata": {},
          "output_type": "display_data"
        },
        {
          "name": "stderr",
          "output_type": "stream",
          "text": [
            "Epoch 285, global step 1430: 'val_dice' was not in top 1\n"
          ]
        },
        {
          "name": "stdout",
          "output_type": "stream",
          "text": [
            "current epoch: 285 current mean dice: 0.4706 current mean iou: 0.6590\n",
            "best mean dice: 0.6806 at epoch: 235\n",
            "[neptune] [error  ] Error occurred during asynchronous operation processing: X-coordinates (step) must be strictly increasing for series attribute: training/epoch. Invalid point: 1429.0\n"
          ]
        },
        {
          "data": {
            "application/vnd.jupyter.widget-view+json": {
              "model_id": "b9f0f4b77cba41bc9dbb383883469411",
              "version_major": 2,
              "version_minor": 0
            },
            "text/plain": [
              "Validation: |          | 0/? [00:00<?, ?it/s]"
            ]
          },
          "metadata": {},
          "output_type": "display_data"
        },
        {
          "name": "stderr",
          "output_type": "stream",
          "text": [
            "Epoch 286, global step 1435: 'val_dice' was not in top 1\n"
          ]
        },
        {
          "name": "stdout",
          "output_type": "stream",
          "text": [
            "current epoch: 286 current mean dice: 0.5433 current mean iou: 0.6935\n",
            "best mean dice: 0.6806 at epoch: 235\n",
            "[neptune] [error  ] Error occurred during asynchronous operation processing: X-coordinates (step) must be strictly increasing for series attribute: training/epoch. Invalid point: 1434.0\n"
          ]
        },
        {
          "data": {
            "application/vnd.jupyter.widget-view+json": {
              "model_id": "a73e6ddb12bd4daca30a7560cf2d6807",
              "version_major": 2,
              "version_minor": 0
            },
            "text/plain": [
              "Validation: |          | 0/? [00:00<?, ?it/s]"
            ]
          },
          "metadata": {},
          "output_type": "display_data"
        },
        {
          "name": "stderr",
          "output_type": "stream",
          "text": [
            "Epoch 287, global step 1440: 'val_dice' was not in top 1\n"
          ]
        },
        {
          "name": "stdout",
          "output_type": "stream",
          "text": [
            "current epoch: 287 current mean dice: 0.5603 current mean iou: 0.6999\n",
            "best mean dice: 0.6806 at epoch: 235\n",
            "[neptune] [error  ] Error occurred during asynchronous operation processing: X-coordinates (step) must be strictly increasing for series attribute: training/epoch. Invalid point: 1439.0\n"
          ]
        },
        {
          "data": {
            "application/vnd.jupyter.widget-view+json": {
              "model_id": "4f76989245b048bba23694533968c3b6",
              "version_major": 2,
              "version_minor": 0
            },
            "text/plain": [
              "Validation: |          | 0/? [00:00<?, ?it/s]"
            ]
          },
          "metadata": {},
          "output_type": "display_data"
        },
        {
          "name": "stderr",
          "output_type": "stream",
          "text": [
            "Epoch 288, global step 1445: 'val_dice' was not in top 1\n"
          ]
        },
        {
          "name": "stdout",
          "output_type": "stream",
          "text": [
            "current epoch: 288 current mean dice: 0.5277 current mean iou: 0.6830\n",
            "best mean dice: 0.6806 at epoch: 235\n",
            "[neptune] [error  ] Error occurred during asynchronous operation processing: X-coordinates (step) must be strictly increasing for series attribute: training/epoch. Invalid point: 1444.0\n"
          ]
        },
        {
          "data": {
            "application/vnd.jupyter.widget-view+json": {
              "model_id": "935feb43d33f4652b40618d0b3d96518",
              "version_major": 2,
              "version_minor": 0
            },
            "text/plain": [
              "Validation: |          | 0/? [00:00<?, ?it/s]"
            ]
          },
          "metadata": {},
          "output_type": "display_data"
        },
        {
          "name": "stderr",
          "output_type": "stream",
          "text": [
            "Epoch 289, global step 1450: 'val_dice' was not in top 1\n"
          ]
        },
        {
          "name": "stdout",
          "output_type": "stream",
          "text": [
            "current epoch: 289 current mean dice: 0.5127 current mean iou: 0.6782\n",
            "best mean dice: 0.6806 at epoch: 235\n",
            "[neptune] [error  ] Error occurred during asynchronous operation processing: X-coordinates (step) must be strictly increasing for series attribute: training/epoch. Invalid point: 1449.0\n"
          ]
        },
        {
          "data": {
            "application/vnd.jupyter.widget-view+json": {
              "model_id": "cf1e781b3eb34c54ad30d70ca51a7adc",
              "version_major": 2,
              "version_minor": 0
            },
            "text/plain": [
              "Validation: |          | 0/? [00:00<?, ?it/s]"
            ]
          },
          "metadata": {},
          "output_type": "display_data"
        },
        {
          "name": "stderr",
          "output_type": "stream",
          "text": [
            "Epoch 290, global step 1455: 'val_dice' was not in top 1\n"
          ]
        },
        {
          "name": "stdout",
          "output_type": "stream",
          "text": [
            "current epoch: 290 current mean dice: 0.4916 current mean iou: 0.6687\n",
            "best mean dice: 0.6806 at epoch: 235\n",
            "[neptune] [error  ] Error occurred during asynchronous operation processing: X-coordinates (step) must be strictly increasing for series attribute: training/epoch. Invalid point: 1454.0\n"
          ]
        },
        {
          "data": {
            "application/vnd.jupyter.widget-view+json": {
              "model_id": "0e9aae0eeea948b683dbf4a9bd33cd82",
              "version_major": 2,
              "version_minor": 0
            },
            "text/plain": [
              "Validation: |          | 0/? [00:00<?, ?it/s]"
            ]
          },
          "metadata": {},
          "output_type": "display_data"
        },
        {
          "name": "stderr",
          "output_type": "stream",
          "text": [
            "Epoch 291, global step 1460: 'val_dice' was not in top 1\n"
          ]
        },
        {
          "name": "stdout",
          "output_type": "stream",
          "text": [
            "current epoch: 291 current mean dice: 0.4670 current mean iou: 0.6569\n",
            "best mean dice: 0.6806 at epoch: 235\n",
            "[neptune] [error  ] Error occurred during asynchronous operation processing: X-coordinates (step) must be strictly increasing for series attribute: training/epoch. Invalid point: 1459.0\n"
          ]
        },
        {
          "data": {
            "application/vnd.jupyter.widget-view+json": {
              "model_id": "c0841fc180f34561a55e25af46cde7ca",
              "version_major": 2,
              "version_minor": 0
            },
            "text/plain": [
              "Validation: |          | 0/? [00:00<?, ?it/s]"
            ]
          },
          "metadata": {},
          "output_type": "display_data"
        },
        {
          "name": "stderr",
          "output_type": "stream",
          "text": [
            "Epoch 292, global step 1465: 'val_dice' was not in top 1\n"
          ]
        },
        {
          "name": "stdout",
          "output_type": "stream",
          "text": [
            "current epoch: 292 current mean dice: 0.5547 current mean iou: 0.6999\n",
            "best mean dice: 0.6806 at epoch: 235\n",
            "[neptune] [error  ] Error occurred during asynchronous operation processing: X-coordinates (step) must be strictly increasing for series attribute: training/epoch. Invalid point: 1464.0\n"
          ]
        },
        {
          "data": {
            "application/vnd.jupyter.widget-view+json": {
              "model_id": "9dc1981d24b24105a5e2ab7cc47e40a9",
              "version_major": 2,
              "version_minor": 0
            },
            "text/plain": [
              "Validation: |          | 0/? [00:00<?, ?it/s]"
            ]
          },
          "metadata": {},
          "output_type": "display_data"
        },
        {
          "name": "stderr",
          "output_type": "stream",
          "text": [
            "Epoch 293, global step 1470: 'val_dice' was not in top 1\n"
          ]
        },
        {
          "name": "stdout",
          "output_type": "stream",
          "text": [
            "current epoch: 293 current mean dice: 0.5853 current mean iou: 0.7142\n",
            "best mean dice: 0.6806 at epoch: 235\n",
            "[neptune] [error  ] Error occurred during asynchronous operation processing: X-coordinates (step) must be strictly increasing for series attribute: training/epoch. Invalid point: 1469.0\n"
          ]
        },
        {
          "data": {
            "application/vnd.jupyter.widget-view+json": {
              "model_id": "f19b7229a4554956809489cb5821dc99",
              "version_major": 2,
              "version_minor": 0
            },
            "text/plain": [
              "Validation: |          | 0/? [00:00<?, ?it/s]"
            ]
          },
          "metadata": {},
          "output_type": "display_data"
        },
        {
          "name": "stderr",
          "output_type": "stream",
          "text": [
            "Epoch 294, global step 1475: 'val_dice' was not in top 1\n"
          ]
        },
        {
          "name": "stdout",
          "output_type": "stream",
          "text": [
            "current epoch: 294 current mean dice: 0.5879 current mean iou: 0.7154\n",
            "best mean dice: 0.6806 at epoch: 235\n",
            "[neptune] [error  ] Error occurred during asynchronous operation processing: X-coordinates (step) must be strictly increasing for series attribute: training/epoch. Invalid point: 1474.0\n"
          ]
        },
        {
          "data": {
            "application/vnd.jupyter.widget-view+json": {
              "model_id": "2f92d6fb415d482db1433c2ca7165e64",
              "version_major": 2,
              "version_minor": 0
            },
            "text/plain": [
              "Validation: |          | 0/? [00:00<?, ?it/s]"
            ]
          },
          "metadata": {},
          "output_type": "display_data"
        },
        {
          "name": "stderr",
          "output_type": "stream",
          "text": [
            "Epoch 295, global step 1480: 'val_dice' was not in top 1\n"
          ]
        },
        {
          "name": "stdout",
          "output_type": "stream",
          "text": [
            "current epoch: 295 current mean dice: 0.5658 current mean iou: 0.7036\n",
            "best mean dice: 0.6806 at epoch: 235\n",
            "[neptune] [error  ] Error occurred during asynchronous operation processing: X-coordinates (step) must be strictly increasing for series attribute: training/epoch. Invalid point: 1479.0\n"
          ]
        },
        {
          "data": {
            "application/vnd.jupyter.widget-view+json": {
              "model_id": "3c414d51691b4858865a5770c65babf3",
              "version_major": 2,
              "version_minor": 0
            },
            "text/plain": [
              "Validation: |          | 0/? [00:00<?, ?it/s]"
            ]
          },
          "metadata": {},
          "output_type": "display_data"
        },
        {
          "name": "stderr",
          "output_type": "stream",
          "text": [
            "Epoch 296, global step 1485: 'val_dice' was not in top 1\n"
          ]
        },
        {
          "name": "stdout",
          "output_type": "stream",
          "text": [
            "current epoch: 296 current mean dice: 0.6142 current mean iou: 0.7258\n",
            "best mean dice: 0.6806 at epoch: 235\n",
            "[neptune] [error  ] Error occurred during asynchronous operation processing: X-coordinates (step) must be strictly increasing for series attribute: training/epoch. Invalid point: 1484.0\n"
          ]
        },
        {
          "data": {
            "application/vnd.jupyter.widget-view+json": {
              "model_id": "a090ce8640f343dabb1fdc5c15239145",
              "version_major": 2,
              "version_minor": 0
            },
            "text/plain": [
              "Validation: |          | 0/? [00:00<?, ?it/s]"
            ]
          },
          "metadata": {},
          "output_type": "display_data"
        },
        {
          "name": "stderr",
          "output_type": "stream",
          "text": [
            "Epoch 297, global step 1490: 'val_dice' was not in top 1\n"
          ]
        },
        {
          "name": "stdout",
          "output_type": "stream",
          "text": [
            "current epoch: 297 current mean dice: 0.6204 current mean iou: 0.7288\n",
            "best mean dice: 0.6806 at epoch: 235\n",
            "[neptune] [error  ] Error occurred during asynchronous operation processing: X-coordinates (step) must be strictly increasing for series attribute: training/epoch. Invalid point: 1489.0\n"
          ]
        },
        {
          "data": {
            "application/vnd.jupyter.widget-view+json": {
              "model_id": "c0c1a2a9b1bf486db65cf73c74bb1cb7",
              "version_major": 2,
              "version_minor": 0
            },
            "text/plain": [
              "Validation: |          | 0/? [00:00<?, ?it/s]"
            ]
          },
          "metadata": {},
          "output_type": "display_data"
        },
        {
          "name": "stderr",
          "output_type": "stream",
          "text": [
            "Epoch 298, global step 1495: 'val_dice' was not in top 1\n"
          ]
        },
        {
          "name": "stdout",
          "output_type": "stream",
          "text": [
            "current epoch: 298 current mean dice: 0.4758 current mean iou: 0.6617\n",
            "best mean dice: 0.6806 at epoch: 235\n",
            "[neptune] [error  ] Error occurred during asynchronous operation processing: X-coordinates (step) must be strictly increasing for series attribute: training/epoch. Invalid point: 1494.0\n"
          ]
        },
        {
          "data": {
            "application/vnd.jupyter.widget-view+json": {
              "model_id": "ba22a5951cbd4855b017574c72840661",
              "version_major": 2,
              "version_minor": 0
            },
            "text/plain": [
              "Validation: |          | 0/? [00:00<?, ?it/s]"
            ]
          },
          "metadata": {},
          "output_type": "display_data"
        },
        {
          "name": "stderr",
          "output_type": "stream",
          "text": [
            "Epoch 299, global step 1500: 'val_dice' was not in top 1\n"
          ]
        },
        {
          "name": "stdout",
          "output_type": "stream",
          "text": [
            "current epoch: 299 current mean dice: 0.4966 current mean iou: 0.6715\n",
            "best mean dice: 0.6806 at epoch: 235\n",
            "[neptune] [error  ] Error occurred during asynchronous operation processing: X-coordinates (step) must be strictly increasing for series attribute: training/epoch. Invalid point: 1499.0\n"
          ]
        },
        {
          "data": {
            "application/vnd.jupyter.widget-view+json": {
              "model_id": "16fbd768275d4cba8116cdab32ae35e6",
              "version_major": 2,
              "version_minor": 0
            },
            "text/plain": [
              "Validation: |          | 0/? [00:00<?, ?it/s]"
            ]
          },
          "metadata": {},
          "output_type": "display_data"
        },
        {
          "name": "stderr",
          "output_type": "stream",
          "text": [
            "Epoch 300, global step 1505: 'val_dice' was not in top 1\n"
          ]
        },
        {
          "name": "stdout",
          "output_type": "stream",
          "text": [
            "current epoch: 300 current mean dice: 0.6477 current mean iou: 0.7431\n",
            "best mean dice: 0.6806 at epoch: 235\n",
            "[neptune] [error  ] Error occurred during asynchronous operation processing: X-coordinates (step) must be strictly increasing for series attribute: training/epoch. Invalid point: 1504.0\n"
          ]
        },
        {
          "data": {
            "application/vnd.jupyter.widget-view+json": {
              "model_id": "e594aa21be914629b11c7cd5f3a7f1bc",
              "version_major": 2,
              "version_minor": 0
            },
            "text/plain": [
              "Validation: |          | 0/? [00:00<?, ?it/s]"
            ]
          },
          "metadata": {},
          "output_type": "display_data"
        },
        {
          "name": "stderr",
          "output_type": "stream",
          "text": [
            "Epoch 301, global step 1510: 'val_dice' was not in top 1\n"
          ]
        },
        {
          "name": "stdout",
          "output_type": "stream",
          "text": [
            "current epoch: 301 current mean dice: 0.6379 current mean iou: 0.7375\n",
            "best mean dice: 0.6806 at epoch: 235\n",
            "[neptune] [error  ] Error occurred during asynchronous operation processing: X-coordinates (step) must be strictly increasing for series attribute: training/epoch. Invalid point: 1509.0\n"
          ]
        },
        {
          "data": {
            "application/vnd.jupyter.widget-view+json": {
              "model_id": "ada3931d9f504800831596c6a9a076d5",
              "version_major": 2,
              "version_minor": 0
            },
            "text/plain": [
              "Validation: |          | 0/? [00:00<?, ?it/s]"
            ]
          },
          "metadata": {},
          "output_type": "display_data"
        },
        {
          "name": "stderr",
          "output_type": "stream",
          "text": [
            "Epoch 302, global step 1515: 'val_dice' was not in top 1\n"
          ]
        },
        {
          "name": "stdout",
          "output_type": "stream",
          "text": [
            "current epoch: 302 current mean dice: 0.4100 current mean iou: 0.6332\n",
            "best mean dice: 0.6806 at epoch: 235\n",
            "[neptune] [error  ] Error occurred during asynchronous operation processing: X-coordinates (step) must be strictly increasing for series attribute: training/epoch. Invalid point: 1514.0\n"
          ]
        },
        {
          "data": {
            "application/vnd.jupyter.widget-view+json": {
              "model_id": "e1231992c32f49159c13114776b2c6a8",
              "version_major": 2,
              "version_minor": 0
            },
            "text/plain": [
              "Validation: |          | 0/? [00:00<?, ?it/s]"
            ]
          },
          "metadata": {},
          "output_type": "display_data"
        },
        {
          "name": "stderr",
          "output_type": "stream",
          "text": [
            "Epoch 303, global step 1520: 'val_dice' was not in top 1\n"
          ]
        },
        {
          "name": "stdout",
          "output_type": "stream",
          "text": [
            "current epoch: 303 current mean dice: 0.1178 current mean iou: 0.5231\n",
            "best mean dice: 0.6806 at epoch: 235\n",
            "[neptune] [error  ] Error occurred during asynchronous operation processing: X-coordinates (step) must be strictly increasing for series attribute: training/epoch. Invalid point: 1519.0\n"
          ]
        },
        {
          "data": {
            "application/vnd.jupyter.widget-view+json": {
              "model_id": "a21ac29ee3be4ccd8a2d0663004dd7f8",
              "version_major": 2,
              "version_minor": 0
            },
            "text/plain": [
              "Validation: |          | 0/? [00:00<?, ?it/s]"
            ]
          },
          "metadata": {},
          "output_type": "display_data"
        },
        {
          "name": "stderr",
          "output_type": "stream",
          "text": [
            "Epoch 304, global step 1525: 'val_dice' was not in top 1\n"
          ]
        },
        {
          "name": "stdout",
          "output_type": "stream",
          "text": [
            "current epoch: 304 current mean dice: 0.4858 current mean iou: 0.6672\n",
            "best mean dice: 0.6806 at epoch: 235\n",
            "[neptune] [error  ] Error occurred during asynchronous operation processing: X-coordinates (step) must be strictly increasing for series attribute: training/epoch. Invalid point: 1524.0\n"
          ]
        },
        {
          "data": {
            "application/vnd.jupyter.widget-view+json": {
              "model_id": "8fff800de89848569b1f17f1c64e1d10",
              "version_major": 2,
              "version_minor": 0
            },
            "text/plain": [
              "Validation: |          | 0/? [00:00<?, ?it/s]"
            ]
          },
          "metadata": {},
          "output_type": "display_data"
        },
        {
          "name": "stderr",
          "output_type": "stream",
          "text": [
            "Epoch 305, global step 1530: 'val_dice' was not in top 1\n"
          ]
        },
        {
          "name": "stdout",
          "output_type": "stream",
          "text": [
            "current epoch: 305 current mean dice: 0.5869 current mean iou: 0.7121\n",
            "best mean dice: 0.6806 at epoch: 235\n",
            "[neptune] [error  ] Error occurred during asynchronous operation processing: X-coordinates (step) must be strictly increasing for series attribute: training/epoch. Invalid point: 1529.0\n"
          ]
        },
        {
          "data": {
            "application/vnd.jupyter.widget-view+json": {
              "model_id": "ae369fa627b94ffb8fd5fa7fe78b91b5",
              "version_major": 2,
              "version_minor": 0
            },
            "text/plain": [
              "Validation: |          | 0/? [00:00<?, ?it/s]"
            ]
          },
          "metadata": {},
          "output_type": "display_data"
        },
        {
          "name": "stderr",
          "output_type": "stream",
          "text": [
            "Epoch 306, global step 1535: 'val_dice' was not in top 1\n"
          ]
        },
        {
          "name": "stdout",
          "output_type": "stream",
          "text": [
            "current epoch: 306 current mean dice: 0.6121 current mean iou: 0.7248\n",
            "best mean dice: 0.6806 at epoch: 235\n",
            "[neptune] [error  ] Error occurred during asynchronous operation processing: X-coordinates (step) must be strictly increasing for series attribute: training/epoch. Invalid point: 1534.0\n"
          ]
        },
        {
          "data": {
            "application/vnd.jupyter.widget-view+json": {
              "model_id": "0ff54fede38a4c31bb049e973e5d34c7",
              "version_major": 2,
              "version_minor": 0
            },
            "text/plain": [
              "Validation: |          | 0/? [00:00<?, ?it/s]"
            ]
          },
          "metadata": {},
          "output_type": "display_data"
        },
        {
          "name": "stderr",
          "output_type": "stream",
          "text": [
            "Epoch 307, global step 1540: 'val_dice' was not in top 1\n"
          ]
        },
        {
          "name": "stdout",
          "output_type": "stream",
          "text": [
            "current epoch: 307 current mean dice: 0.5050 current mean iou: 0.6712\n",
            "best mean dice: 0.6806 at epoch: 235\n",
            "[neptune] [error  ] Error occurred during asynchronous operation processing: X-coordinates (step) must be strictly increasing for series attribute: training/epoch. Invalid point: 1539.0\n"
          ]
        },
        {
          "data": {
            "application/vnd.jupyter.widget-view+json": {
              "model_id": "eb1b26e3a76b449e91e24a2b6ad151ac",
              "version_major": 2,
              "version_minor": 0
            },
            "text/plain": [
              "Validation: |          | 0/? [00:00<?, ?it/s]"
            ]
          },
          "metadata": {},
          "output_type": "display_data"
        },
        {
          "name": "stderr",
          "output_type": "stream",
          "text": [
            "Epoch 308, global step 1545: 'val_dice' reached 0.69149 (best 0.69149), saving model to '/home/pawel/Documents/RISA/3D_segmentation/AeroPath/checkpoints/whole_epoch=308-val_dice=0.6915.ckpt' as top 1\n"
          ]
        },
        {
          "name": "stdout",
          "output_type": "stream",
          "text": [
            "current epoch: 308 current mean dice: 0.6915 current mean iou: 0.7668\n",
            "best mean dice: 0.6915 at epoch: 308\n",
            "[neptune] [error  ] Error occurred during asynchronous operation processing: X-coordinates (step) must be strictly increasing for series attribute: training/epoch. Invalid point: 1544.0\n"
          ]
        },
        {
          "data": {
            "application/vnd.jupyter.widget-view+json": {
              "model_id": "ec1bd165bd62406890eba337d60bf766",
              "version_major": 2,
              "version_minor": 0
            },
            "text/plain": [
              "Validation: |          | 0/? [00:00<?, ?it/s]"
            ]
          },
          "metadata": {},
          "output_type": "display_data"
        },
        {
          "name": "stderr",
          "output_type": "stream",
          "text": [
            "Epoch 309, global step 1550: 'val_dice' was not in top 1\n"
          ]
        },
        {
          "name": "stdout",
          "output_type": "stream",
          "text": [
            "current epoch: 309 current mean dice: 0.5822 current mean iou: 0.7102\n",
            "best mean dice: 0.6915 at epoch: 308\n",
            "[neptune] [error  ] Error occurred during asynchronous operation processing: X-coordinates (step) must be strictly increasing for series attribute: training/epoch. Invalid point: 1549.0\n"
          ]
        },
        {
          "data": {
            "application/vnd.jupyter.widget-view+json": {
              "model_id": "ec1d50435a9848799b0c2bef6a36c6b2",
              "version_major": 2,
              "version_minor": 0
            },
            "text/plain": [
              "Validation: |          | 0/? [00:00<?, ?it/s]"
            ]
          },
          "metadata": {},
          "output_type": "display_data"
        },
        {
          "name": "stderr",
          "output_type": "stream",
          "text": [
            "Epoch 310, global step 1555: 'val_dice' was not in top 1\n"
          ]
        },
        {
          "name": "stdout",
          "output_type": "stream",
          "text": [
            "current epoch: 310 current mean dice: 0.4025 current mean iou: 0.6293\n",
            "best mean dice: 0.6915 at epoch: 308\n",
            "[neptune] [error  ] Error occurred during asynchronous operation processing: X-coordinates (step) must be strictly increasing for series attribute: training/epoch. Invalid point: 1554.0\n"
          ]
        },
        {
          "data": {
            "application/vnd.jupyter.widget-view+json": {
              "model_id": "52d2a21a3add4faa85e0a6a290428c59",
              "version_major": 2,
              "version_minor": 0
            },
            "text/plain": [
              "Validation: |          | 0/? [00:00<?, ?it/s]"
            ]
          },
          "metadata": {},
          "output_type": "display_data"
        },
        {
          "name": "stderr",
          "output_type": "stream",
          "text": [
            "Epoch 311, global step 1560: 'val_dice' was not in top 1\n"
          ]
        },
        {
          "name": "stdout",
          "output_type": "stream",
          "text": [
            "current epoch: 311 current mean dice: 0.4630 current mean iou: 0.6560\n",
            "best mean dice: 0.6915 at epoch: 308\n",
            "[neptune] [error  ] Error occurred during asynchronous operation processing: X-coordinates (step) must be strictly increasing for series attribute: training/epoch. Invalid point: 1559.0\n"
          ]
        },
        {
          "data": {
            "application/vnd.jupyter.widget-view+json": {
              "model_id": "5b65c5bbb7734367a92331feabad4913",
              "version_major": 2,
              "version_minor": 0
            },
            "text/plain": [
              "Validation: |          | 0/? [00:00<?, ?it/s]"
            ]
          },
          "metadata": {},
          "output_type": "display_data"
        },
        {
          "name": "stderr",
          "output_type": "stream",
          "text": [
            "Epoch 312, global step 1565: 'val_dice' was not in top 1\n"
          ]
        },
        {
          "name": "stdout",
          "output_type": "stream",
          "text": [
            "current epoch: 312 current mean dice: 0.5407 current mean iou: 0.6908\n",
            "best mean dice: 0.6915 at epoch: 308\n",
            "[neptune] [error  ] Error occurred during asynchronous operation processing: X-coordinates (step) must be strictly increasing for series attribute: training/epoch. Invalid point: 1564.0\n"
          ]
        },
        {
          "data": {
            "application/vnd.jupyter.widget-view+json": {
              "model_id": "74e0ebd3cc654a3b9b352d85dd86dd34",
              "version_major": 2,
              "version_minor": 0
            },
            "text/plain": [
              "Validation: |          | 0/? [00:00<?, ?it/s]"
            ]
          },
          "metadata": {},
          "output_type": "display_data"
        },
        {
          "name": "stderr",
          "output_type": "stream",
          "text": [
            "Epoch 313, global step 1570: 'val_dice' was not in top 1\n"
          ]
        },
        {
          "name": "stdout",
          "output_type": "stream",
          "text": [
            "current epoch: 313 current mean dice: 0.6332 current mean iou: 0.7363\n",
            "best mean dice: 0.6915 at epoch: 308\n",
            "[neptune] [error  ] Error occurred during asynchronous operation processing: X-coordinates (step) must be strictly increasing for series attribute: training/epoch. Invalid point: 1569.0\n"
          ]
        },
        {
          "data": {
            "application/vnd.jupyter.widget-view+json": {
              "model_id": "620f2b37350e44e9861e1047c5dea612",
              "version_major": 2,
              "version_minor": 0
            },
            "text/plain": [
              "Validation: |          | 0/? [00:00<?, ?it/s]"
            ]
          },
          "metadata": {},
          "output_type": "display_data"
        },
        {
          "name": "stderr",
          "output_type": "stream",
          "text": [
            "Epoch 314, global step 1575: 'val_dice' was not in top 1\n"
          ]
        },
        {
          "name": "stdout",
          "output_type": "stream",
          "text": [
            "current epoch: 314 current mean dice: 0.6783 current mean iou: 0.7598\n",
            "best mean dice: 0.6915 at epoch: 308\n",
            "[neptune] [error  ] Error occurred during asynchronous operation processing: X-coordinates (step) must be strictly increasing for series attribute: training/epoch. Invalid point: 1574.0\n"
          ]
        },
        {
          "data": {
            "application/vnd.jupyter.widget-view+json": {
              "model_id": "cba9de06d7e047839313edde1970e910",
              "version_major": 2,
              "version_minor": 0
            },
            "text/plain": [
              "Validation: |          | 0/? [00:00<?, ?it/s]"
            ]
          },
          "metadata": {},
          "output_type": "display_data"
        },
        {
          "name": "stderr",
          "output_type": "stream",
          "text": [
            "Epoch 315, global step 1580: 'val_dice' was not in top 1\n"
          ]
        },
        {
          "name": "stdout",
          "output_type": "stream",
          "text": [
            "current epoch: 315 current mean dice: 0.5600 current mean iou: 0.6994\n",
            "best mean dice: 0.6915 at epoch: 308\n",
            "[neptune] [error  ] Error occurred during asynchronous operation processing: X-coordinates (step) must be strictly increasing for series attribute: training/epoch. Invalid point: 1579.0\n"
          ]
        },
        {
          "data": {
            "application/vnd.jupyter.widget-view+json": {
              "model_id": "e5b4884a8cbd428cb900a9616faaf2ec",
              "version_major": 2,
              "version_minor": 0
            },
            "text/plain": [
              "Validation: |          | 0/? [00:00<?, ?it/s]"
            ]
          },
          "metadata": {},
          "output_type": "display_data"
        },
        {
          "name": "stderr",
          "output_type": "stream",
          "text": [
            "Epoch 316, global step 1585: 'val_dice' was not in top 1\n"
          ]
        },
        {
          "name": "stdout",
          "output_type": "stream",
          "text": [
            "current epoch: 316 current mean dice: 0.5609 current mean iou: 0.6992\n",
            "best mean dice: 0.6915 at epoch: 308\n",
            "[neptune] [error  ] Error occurred during asynchronous operation processing: X-coordinates (step) must be strictly increasing for series attribute: training/epoch. Invalid point: 1584.0\n"
          ]
        },
        {
          "data": {
            "application/vnd.jupyter.widget-view+json": {
              "model_id": "26ac0855aca04e34a0ce3a96fae71741",
              "version_major": 2,
              "version_minor": 0
            },
            "text/plain": [
              "Validation: |          | 0/? [00:00<?, ?it/s]"
            ]
          },
          "metadata": {},
          "output_type": "display_data"
        },
        {
          "name": "stderr",
          "output_type": "stream",
          "text": [
            "Epoch 317, global step 1590: 'val_dice' was not in top 1\n"
          ]
        },
        {
          "name": "stdout",
          "output_type": "stream",
          "text": [
            "current epoch: 317 current mean dice: 0.5570 current mean iou: 0.6982\n",
            "best mean dice: 0.6915 at epoch: 308\n",
            "[neptune] [error  ] Error occurred during asynchronous operation processing: X-coordinates (step) must be strictly increasing for series attribute: training/epoch. Invalid point: 1589.0\n"
          ]
        },
        {
          "data": {
            "application/vnd.jupyter.widget-view+json": {
              "model_id": "642706d1cdd3465ca919061ed6e01e43",
              "version_major": 2,
              "version_minor": 0
            },
            "text/plain": [
              "Validation: |          | 0/? [00:00<?, ?it/s]"
            ]
          },
          "metadata": {},
          "output_type": "display_data"
        },
        {
          "name": "stderr",
          "output_type": "stream",
          "text": [
            "Epoch 318, global step 1595: 'val_dice' was not in top 1\n"
          ]
        },
        {
          "name": "stdout",
          "output_type": "stream",
          "text": [
            "current epoch: 318 current mean dice: 0.5475 current mean iou: 0.6948\n",
            "best mean dice: 0.6915 at epoch: 308\n",
            "[neptune] [error  ] Error occurred during asynchronous operation processing: X-coordinates (step) must be strictly increasing for series attribute: training/epoch. Invalid point: 1594.0\n"
          ]
        },
        {
          "data": {
            "application/vnd.jupyter.widget-view+json": {
              "model_id": "bf10e8fa0fb14e48912d31a193600ba4",
              "version_major": 2,
              "version_minor": 0
            },
            "text/plain": [
              "Validation: |          | 0/? [00:00<?, ?it/s]"
            ]
          },
          "metadata": {},
          "output_type": "display_data"
        },
        {
          "name": "stderr",
          "output_type": "stream",
          "text": [
            "Epoch 319, global step 1600: 'val_dice' was not in top 1\n"
          ]
        },
        {
          "name": "stdout",
          "output_type": "stream",
          "text": [
            "current epoch: 319 current mean dice: 0.5648 current mean iou: 0.7042\n",
            "best mean dice: 0.6915 at epoch: 308\n",
            "[neptune] [error  ] Error occurred during asynchronous operation processing: X-coordinates (step) must be strictly increasing for series attribute: training/epoch. Invalid point: 1599.0\n"
          ]
        },
        {
          "data": {
            "application/vnd.jupyter.widget-view+json": {
              "model_id": "5c6513ae61514426aa1752fb02915e0d",
              "version_major": 2,
              "version_minor": 0
            },
            "text/plain": [
              "Validation: |          | 0/? [00:00<?, ?it/s]"
            ]
          },
          "metadata": {},
          "output_type": "display_data"
        },
        {
          "name": "stderr",
          "output_type": "stream",
          "text": [
            "Epoch 320, global step 1605: 'val_dice' was not in top 1\n"
          ]
        },
        {
          "name": "stdout",
          "output_type": "stream",
          "text": [
            "current epoch: 320 current mean dice: 0.6062 current mean iou: 0.7237\n",
            "best mean dice: 0.6915 at epoch: 308\n",
            "[neptune] [error  ] Error occurred during asynchronous operation processing: X-coordinates (step) must be strictly increasing for series attribute: training/epoch. Invalid point: 1604.0\n"
          ]
        },
        {
          "data": {
            "application/vnd.jupyter.widget-view+json": {
              "model_id": "5cba688d70fc449e91ebf84af4c1e350",
              "version_major": 2,
              "version_minor": 0
            },
            "text/plain": [
              "Validation: |          | 0/? [00:00<?, ?it/s]"
            ]
          },
          "metadata": {},
          "output_type": "display_data"
        },
        {
          "name": "stderr",
          "output_type": "stream",
          "text": [
            "Epoch 321, global step 1610: 'val_dice' was not in top 1\n"
          ]
        },
        {
          "name": "stdout",
          "output_type": "stream",
          "text": [
            "current epoch: 321 current mean dice: 0.6265 current mean iou: 0.7329\n",
            "best mean dice: 0.6915 at epoch: 308\n",
            "[neptune] [error  ] Error occurred during asynchronous operation processing: X-coordinates (step) must be strictly increasing for series attribute: training/epoch. Invalid point: 1609.0\n"
          ]
        },
        {
          "data": {
            "application/vnd.jupyter.widget-view+json": {
              "model_id": "73fc745bff4d411f86813272ac9c0a0d",
              "version_major": 2,
              "version_minor": 0
            },
            "text/plain": [
              "Validation: |          | 0/? [00:00<?, ?it/s]"
            ]
          },
          "metadata": {},
          "output_type": "display_data"
        },
        {
          "name": "stderr",
          "output_type": "stream",
          "text": [
            "Epoch 322, global step 1615: 'val_dice' reached 0.71660 (best 0.71660), saving model to '/home/pawel/Documents/RISA/3D_segmentation/AeroPath/checkpoints/whole_epoch=322-val_dice=0.7166.ckpt' as top 1\n"
          ]
        },
        {
          "name": "stdout",
          "output_type": "stream",
          "text": [
            "current epoch: 322 current mean dice: 0.7166 current mean iou: 0.7812\n",
            "best mean dice: 0.7166 at epoch: 322\n",
            "[neptune] [error  ] Error occurred during asynchronous operation processing: X-coordinates (step) must be strictly increasing for series attribute: training/epoch. Invalid point: 1614.0\n"
          ]
        },
        {
          "data": {
            "application/vnd.jupyter.widget-view+json": {
              "model_id": "9564117b62364ad99d50ff3247174737",
              "version_major": 2,
              "version_minor": 0
            },
            "text/plain": [
              "Validation: |          | 0/? [00:00<?, ?it/s]"
            ]
          },
          "metadata": {},
          "output_type": "display_data"
        },
        {
          "name": "stderr",
          "output_type": "stream",
          "text": [
            "Epoch 323, global step 1620: 'val_dice' was not in top 1\n"
          ]
        },
        {
          "name": "stdout",
          "output_type": "stream",
          "text": [
            "current epoch: 323 current mean dice: 0.7075 current mean iou: 0.7756\n",
            "best mean dice: 0.7166 at epoch: 322\n",
            "[neptune] [error  ] Error occurred during asynchronous operation processing: X-coordinates (step) must be strictly increasing for series attribute: training/epoch. Invalid point: 1619.0\n"
          ]
        },
        {
          "data": {
            "application/vnd.jupyter.widget-view+json": {
              "model_id": "e9ddbc5bca644f6489ebb653969f35cf",
              "version_major": 2,
              "version_minor": 0
            },
            "text/plain": [
              "Validation: |          | 0/? [00:00<?, ?it/s]"
            ]
          },
          "metadata": {},
          "output_type": "display_data"
        },
        {
          "name": "stderr",
          "output_type": "stream",
          "text": [
            "Epoch 324, global step 1625: 'val_dice' was not in top 1\n"
          ]
        },
        {
          "name": "stdout",
          "output_type": "stream",
          "text": [
            "current epoch: 324 current mean dice: 0.6622 current mean iou: 0.7512\n",
            "best mean dice: 0.7166 at epoch: 322\n",
            "[neptune] [error  ] Error occurred during asynchronous operation processing: X-coordinates (step) must be strictly increasing for series attribute: training/epoch. Invalid point: 1624.0\n"
          ]
        },
        {
          "data": {
            "application/vnd.jupyter.widget-view+json": {
              "model_id": "a357f17e7dbf4a039f9d7cd3c984cb5a",
              "version_major": 2,
              "version_minor": 0
            },
            "text/plain": [
              "Validation: |          | 0/? [00:00<?, ?it/s]"
            ]
          },
          "metadata": {},
          "output_type": "display_data"
        },
        {
          "name": "stderr",
          "output_type": "stream",
          "text": [
            "Epoch 325, global step 1630: 'val_dice' was not in top 1\n"
          ]
        },
        {
          "name": "stdout",
          "output_type": "stream",
          "text": [
            "current epoch: 325 current mean dice: 0.6129 current mean iou: 0.7272\n",
            "best mean dice: 0.7166 at epoch: 322\n",
            "[neptune] [error  ] Error occurred during asynchronous operation processing: X-coordinates (step) must be strictly increasing for series attribute: training/epoch. Invalid point: 1629.0\n"
          ]
        },
        {
          "data": {
            "application/vnd.jupyter.widget-view+json": {
              "model_id": "2206174faf4446cba8853588d313d37f",
              "version_major": 2,
              "version_minor": 0
            },
            "text/plain": [
              "Validation: |          | 0/? [00:00<?, ?it/s]"
            ]
          },
          "metadata": {},
          "output_type": "display_data"
        },
        {
          "name": "stderr",
          "output_type": "stream",
          "text": [
            "Epoch 326, global step 1635: 'val_dice' was not in top 1\n"
          ]
        },
        {
          "name": "stdout",
          "output_type": "stream",
          "text": [
            "current epoch: 326 current mean dice: 0.6441 current mean iou: 0.7416\n",
            "best mean dice: 0.7166 at epoch: 322\n",
            "[neptune] [error  ] Error occurred during asynchronous operation processing: X-coordinates (step) must be strictly increasing for series attribute: training/epoch. Invalid point: 1634.0\n"
          ]
        },
        {
          "data": {
            "application/vnd.jupyter.widget-view+json": {
              "model_id": "04b4628ed9434b41b2b3b9b8fa9b21a8",
              "version_major": 2,
              "version_minor": 0
            },
            "text/plain": [
              "Validation: |          | 0/? [00:00<?, ?it/s]"
            ]
          },
          "metadata": {},
          "output_type": "display_data"
        },
        {
          "name": "stderr",
          "output_type": "stream",
          "text": [
            "Epoch 327, global step 1640: 'val_dice' was not in top 1\n"
          ]
        },
        {
          "name": "stdout",
          "output_type": "stream",
          "text": [
            "current epoch: 327 current mean dice: 0.5658 current mean iou: 0.7032\n",
            "best mean dice: 0.7166 at epoch: 322\n",
            "[neptune] [error  ] Error occurred during asynchronous operation processing: X-coordinates (step) must be strictly increasing for series attribute: training/epoch. Invalid point: 1639.0\n"
          ]
        },
        {
          "data": {
            "application/vnd.jupyter.widget-view+json": {
              "model_id": "6f6baba15f1941c18fca5c14834b5996",
              "version_major": 2,
              "version_minor": 0
            },
            "text/plain": [
              "Validation: |          | 0/? [00:00<?, ?it/s]"
            ]
          },
          "metadata": {},
          "output_type": "display_data"
        },
        {
          "name": "stderr",
          "output_type": "stream",
          "text": [
            "Epoch 328, global step 1645: 'val_dice' was not in top 1\n"
          ]
        },
        {
          "name": "stdout",
          "output_type": "stream",
          "text": [
            "current epoch: 328 current mean dice: 0.5931 current mean iou: 0.7178\n",
            "best mean dice: 0.7166 at epoch: 322\n",
            "[neptune] [error  ] Error occurred during asynchronous operation processing: X-coordinates (step) must be strictly increasing for series attribute: training/epoch. Invalid point: 1644.0\n"
          ]
        },
        {
          "data": {
            "application/vnd.jupyter.widget-view+json": {
              "model_id": "98234fe5133343cfb84d8a9609bfb8ae",
              "version_major": 2,
              "version_minor": 0
            },
            "text/plain": [
              "Validation: |          | 0/? [00:00<?, ?it/s]"
            ]
          },
          "metadata": {},
          "output_type": "display_data"
        },
        {
          "name": "stderr",
          "output_type": "stream",
          "text": [
            "Epoch 329, global step 1650: 'val_dice' was not in top 1\n"
          ]
        },
        {
          "name": "stdout",
          "output_type": "stream",
          "text": [
            "current epoch: 329 current mean dice: 0.5311 current mean iou: 0.6881\n",
            "best mean dice: 0.7166 at epoch: 322\n",
            "[neptune] [error  ] Error occurred during asynchronous operation processing: X-coordinates (step) must be strictly increasing for series attribute: training/epoch. Invalid point: 1649.0\n"
          ]
        },
        {
          "data": {
            "application/vnd.jupyter.widget-view+json": {
              "model_id": "fcf8efda3cda4e1db343ae34bec5e157",
              "version_major": 2,
              "version_minor": 0
            },
            "text/plain": [
              "Validation: |          | 0/? [00:00<?, ?it/s]"
            ]
          },
          "metadata": {},
          "output_type": "display_data"
        },
        {
          "name": "stderr",
          "output_type": "stream",
          "text": [
            "Epoch 330, global step 1655: 'val_dice' was not in top 1\n"
          ]
        },
        {
          "name": "stdout",
          "output_type": "stream",
          "text": [
            "current epoch: 330 current mean dice: 0.6101 current mean iou: 0.7275\n",
            "best mean dice: 0.7166 at epoch: 322\n",
            "[neptune] [error  ] Error occurred during asynchronous operation processing: X-coordinates (step) must be strictly increasing for series attribute: training/epoch. Invalid point: 1654.0\n"
          ]
        },
        {
          "data": {
            "application/vnd.jupyter.widget-view+json": {
              "model_id": "9fa1163a88ed4f2195c4bf2bcd849711",
              "version_major": 2,
              "version_minor": 0
            },
            "text/plain": [
              "Validation: |          | 0/? [00:00<?, ?it/s]"
            ]
          },
          "metadata": {},
          "output_type": "display_data"
        },
        {
          "name": "stderr",
          "output_type": "stream",
          "text": [
            "Epoch 331, global step 1660: 'val_dice' was not in top 1\n"
          ]
        },
        {
          "name": "stdout",
          "output_type": "stream",
          "text": [
            "current epoch: 331 current mean dice: 0.5373 current mean iou: 0.6904\n",
            "best mean dice: 0.7166 at epoch: 322\n",
            "[neptune] [error  ] Error occurred during asynchronous operation processing: X-coordinates (step) must be strictly increasing for series attribute: training/epoch. Invalid point: 1659.0\n"
          ]
        },
        {
          "data": {
            "application/vnd.jupyter.widget-view+json": {
              "model_id": "309395f1a0c242b98855302ab2310f46",
              "version_major": 2,
              "version_minor": 0
            },
            "text/plain": [
              "Validation: |          | 0/? [00:00<?, ?it/s]"
            ]
          },
          "metadata": {},
          "output_type": "display_data"
        },
        {
          "name": "stderr",
          "output_type": "stream",
          "text": [
            "Epoch 332, global step 1665: 'val_dice' was not in top 1\n"
          ]
        },
        {
          "name": "stdout",
          "output_type": "stream",
          "text": [
            "current epoch: 332 current mean dice: 0.5037 current mean iou: 0.6758\n",
            "best mean dice: 0.7166 at epoch: 322\n",
            "[neptune] [error  ] Error occurred during asynchronous operation processing: X-coordinates (step) must be strictly increasing for series attribute: training/epoch. Invalid point: 1664.0\n"
          ]
        },
        {
          "data": {
            "application/vnd.jupyter.widget-view+json": {
              "model_id": "8910eefd509f4a6dab4b9f4c9c32a3ab",
              "version_major": 2,
              "version_minor": 0
            },
            "text/plain": [
              "Validation: |          | 0/? [00:00<?, ?it/s]"
            ]
          },
          "metadata": {},
          "output_type": "display_data"
        },
        {
          "name": "stderr",
          "output_type": "stream",
          "text": [
            "Epoch 333, global step 1670: 'val_dice' was not in top 1\n"
          ]
        },
        {
          "name": "stdout",
          "output_type": "stream",
          "text": [
            "current epoch: 333 current mean dice: 0.5276 current mean iou: 0.6883\n",
            "best mean dice: 0.7166 at epoch: 322\n",
            "[neptune] [error  ] Error occurred during asynchronous operation processing: X-coordinates (step) must be strictly increasing for series attribute: training/epoch. Invalid point: 1669.0\n"
          ]
        },
        {
          "data": {
            "application/vnd.jupyter.widget-view+json": {
              "model_id": "3868151da6df4b6bbf6a9039536ac42e",
              "version_major": 2,
              "version_minor": 0
            },
            "text/plain": [
              "Validation: |          | 0/? [00:00<?, ?it/s]"
            ]
          },
          "metadata": {},
          "output_type": "display_data"
        },
        {
          "name": "stderr",
          "output_type": "stream",
          "text": [
            "Epoch 334, global step 1675: 'val_dice' was not in top 1\n"
          ]
        },
        {
          "name": "stdout",
          "output_type": "stream",
          "text": [
            "current epoch: 334 current mean dice: 0.5760 current mean iou: 0.7116\n",
            "best mean dice: 0.7166 at epoch: 322\n",
            "[neptune] [error  ] Error occurred during asynchronous operation processing: X-coordinates (step) must be strictly increasing for series attribute: training/epoch. Invalid point: 1674.0\n"
          ]
        },
        {
          "data": {
            "application/vnd.jupyter.widget-view+json": {
              "model_id": "d2577958d1f740dbb5e9685ba7d42ab8",
              "version_major": 2,
              "version_minor": 0
            },
            "text/plain": [
              "Validation: |          | 0/? [00:00<?, ?it/s]"
            ]
          },
          "metadata": {},
          "output_type": "display_data"
        },
        {
          "name": "stderr",
          "output_type": "stream",
          "text": [
            "Epoch 335, global step 1680: 'val_dice' was not in top 1\n"
          ]
        },
        {
          "name": "stdout",
          "output_type": "stream",
          "text": [
            "current epoch: 335 current mean dice: 0.6008 current mean iou: 0.7198\n",
            "best mean dice: 0.7166 at epoch: 322\n",
            "[neptune] [error  ] Error occurred during asynchronous operation processing: X-coordinates (step) must be strictly increasing for series attribute: training/epoch. Invalid point: 1679.0\n"
          ]
        },
        {
          "data": {
            "application/vnd.jupyter.widget-view+json": {
              "model_id": "bc2953f0cf3e4433ae58fb24b3c8fd84",
              "version_major": 2,
              "version_minor": 0
            },
            "text/plain": [
              "Validation: |          | 0/? [00:00<?, ?it/s]"
            ]
          },
          "metadata": {},
          "output_type": "display_data"
        },
        {
          "name": "stderr",
          "output_type": "stream",
          "text": [
            "Epoch 336, global step 1685: 'val_dice' was not in top 1\n"
          ]
        },
        {
          "name": "stdout",
          "output_type": "stream",
          "text": [
            "current epoch: 336 current mean dice: 0.5599 current mean iou: 0.6997\n",
            "best mean dice: 0.7166 at epoch: 322\n",
            "[neptune] [error  ] Error occurred during asynchronous operation processing: X-coordinates (step) must be strictly increasing for series attribute: training/epoch. Invalid point: 1684.0\n"
          ]
        },
        {
          "data": {
            "application/vnd.jupyter.widget-view+json": {
              "model_id": "b181e1d155d74143ade7fa679a437c2f",
              "version_major": 2,
              "version_minor": 0
            },
            "text/plain": [
              "Validation: |          | 0/? [00:00<?, ?it/s]"
            ]
          },
          "metadata": {},
          "output_type": "display_data"
        },
        {
          "name": "stderr",
          "output_type": "stream",
          "text": [
            "Epoch 337, global step 1690: 'val_dice' was not in top 1\n"
          ]
        },
        {
          "name": "stdout",
          "output_type": "stream",
          "text": [
            "current epoch: 337 current mean dice: 0.5743 current mean iou: 0.7073\n",
            "best mean dice: 0.7166 at epoch: 322\n",
            "[neptune] [error  ] Error occurred during asynchronous operation processing: X-coordinates (step) must be strictly increasing for series attribute: training/epoch. Invalid point: 1689.0\n"
          ]
        },
        {
          "data": {
            "application/vnd.jupyter.widget-view+json": {
              "model_id": "c4996f4bad1e4e6bb7f51a10650e0006",
              "version_major": 2,
              "version_minor": 0
            },
            "text/plain": [
              "Validation: |          | 0/? [00:00<?, ?it/s]"
            ]
          },
          "metadata": {},
          "output_type": "display_data"
        },
        {
          "name": "stderr",
          "output_type": "stream",
          "text": [
            "Epoch 338, global step 1695: 'val_dice' was not in top 1\n"
          ]
        },
        {
          "name": "stdout",
          "output_type": "stream",
          "text": [
            "current epoch: 338 current mean dice: 0.6342 current mean iou: 0.7363\n",
            "best mean dice: 0.7166 at epoch: 322\n",
            "[neptune] [error  ] Error occurred during asynchronous operation processing: X-coordinates (step) must be strictly increasing for series attribute: training/epoch. Invalid point: 1694.0\n"
          ]
        },
        {
          "data": {
            "application/vnd.jupyter.widget-view+json": {
              "model_id": "fbe614897812414eac317214a3013c56",
              "version_major": 2,
              "version_minor": 0
            },
            "text/plain": [
              "Validation: |          | 0/? [00:00<?, ?it/s]"
            ]
          },
          "metadata": {},
          "output_type": "display_data"
        },
        {
          "name": "stderr",
          "output_type": "stream",
          "text": [
            "Epoch 339, global step 1700: 'val_dice' was not in top 1\n"
          ]
        },
        {
          "name": "stdout",
          "output_type": "stream",
          "text": [
            "current epoch: 339 current mean dice: 0.5228 current mean iou: 0.6830\n",
            "best mean dice: 0.7166 at epoch: 322\n",
            "[neptune] [error  ] Error occurred during asynchronous operation processing: X-coordinates (step) must be strictly increasing for series attribute: training/epoch. Invalid point: 1699.0\n"
          ]
        },
        {
          "data": {
            "application/vnd.jupyter.widget-view+json": {
              "model_id": "2db78e852d6b4c4ab7dff1898cd836a8",
              "version_major": 2,
              "version_minor": 0
            },
            "text/plain": [
              "Validation: |          | 0/? [00:00<?, ?it/s]"
            ]
          },
          "metadata": {},
          "output_type": "display_data"
        },
        {
          "name": "stderr",
          "output_type": "stream",
          "text": [
            "Epoch 340, global step 1705: 'val_dice' was not in top 1\n"
          ]
        },
        {
          "name": "stdout",
          "output_type": "stream",
          "text": [
            "current epoch: 340 current mean dice: 0.4322 current mean iou: 0.6411\n",
            "best mean dice: 0.7166 at epoch: 322\n",
            "[neptune] [error  ] Error occurred during asynchronous operation processing: X-coordinates (step) must be strictly increasing for series attribute: training/epoch. Invalid point: 1704.0\n"
          ]
        },
        {
          "data": {
            "application/vnd.jupyter.widget-view+json": {
              "model_id": "d52630fe87d34018810100d09aa91aad",
              "version_major": 2,
              "version_minor": 0
            },
            "text/plain": [
              "Validation: |          | 0/? [00:00<?, ?it/s]"
            ]
          },
          "metadata": {},
          "output_type": "display_data"
        },
        {
          "name": "stderr",
          "output_type": "stream",
          "text": [
            "Epoch 341, global step 1710: 'val_dice' was not in top 1\n"
          ]
        },
        {
          "name": "stdout",
          "output_type": "stream",
          "text": [
            "current epoch: 341 current mean dice: 0.4269 current mean iou: 0.6399\n",
            "best mean dice: 0.7166 at epoch: 322\n",
            "[neptune] [error  ] Error occurred during asynchronous operation processing: X-coordinates (step) must be strictly increasing for series attribute: training/epoch. Invalid point: 1709.0\n"
          ]
        },
        {
          "data": {
            "application/vnd.jupyter.widget-view+json": {
              "model_id": "7dafd02bcbf44771b7562d06005dd868",
              "version_major": 2,
              "version_minor": 0
            },
            "text/plain": [
              "Validation: |          | 0/? [00:00<?, ?it/s]"
            ]
          },
          "metadata": {},
          "output_type": "display_data"
        },
        {
          "name": "stderr",
          "output_type": "stream",
          "text": [
            "Epoch 342, global step 1715: 'val_dice' was not in top 1\n"
          ]
        },
        {
          "name": "stdout",
          "output_type": "stream",
          "text": [
            "current epoch: 342 current mean dice: 0.4620 current mean iou: 0.6560\n",
            "best mean dice: 0.7166 at epoch: 322\n",
            "[neptune] [error  ] Error occurred during asynchronous operation processing: X-coordinates (step) must be strictly increasing for series attribute: training/epoch. Invalid point: 1714.0\n"
          ]
        },
        {
          "data": {
            "application/vnd.jupyter.widget-view+json": {
              "model_id": "873c087c047848f58c9c36c98029ac4a",
              "version_major": 2,
              "version_minor": 0
            },
            "text/plain": [
              "Validation: |          | 0/? [00:00<?, ?it/s]"
            ]
          },
          "metadata": {},
          "output_type": "display_data"
        },
        {
          "name": "stderr",
          "output_type": "stream",
          "text": [
            "Epoch 343, global step 1720: 'val_dice' was not in top 1\n"
          ]
        },
        {
          "name": "stdout",
          "output_type": "stream",
          "text": [
            "current epoch: 343 current mean dice: 0.5581 current mean iou: 0.7022\n",
            "best mean dice: 0.7166 at epoch: 322\n",
            "[neptune] [error  ] Error occurred during asynchronous operation processing: X-coordinates (step) must be strictly increasing for series attribute: training/epoch. Invalid point: 1719.0\n"
          ]
        },
        {
          "data": {
            "application/vnd.jupyter.widget-view+json": {
              "model_id": "c4ee303cdae745b0bcc3b3417a170625",
              "version_major": 2,
              "version_minor": 0
            },
            "text/plain": [
              "Validation: |          | 0/? [00:00<?, ?it/s]"
            ]
          },
          "metadata": {},
          "output_type": "display_data"
        },
        {
          "name": "stderr",
          "output_type": "stream",
          "text": [
            "Epoch 344, global step 1725: 'val_dice' was not in top 1\n"
          ]
        },
        {
          "name": "stdout",
          "output_type": "stream",
          "text": [
            "current epoch: 344 current mean dice: 0.6193 current mean iou: 0.7303\n",
            "best mean dice: 0.7166 at epoch: 322\n",
            "[neptune] [error  ] Error occurred during asynchronous operation processing: X-coordinates (step) must be strictly increasing for series attribute: training/epoch. Invalid point: 1724.0\n"
          ]
        },
        {
          "data": {
            "application/vnd.jupyter.widget-view+json": {
              "model_id": "550bb84c84664e948715b9cd089bb2b9",
              "version_major": 2,
              "version_minor": 0
            },
            "text/plain": [
              "Validation: |          | 0/? [00:00<?, ?it/s]"
            ]
          },
          "metadata": {},
          "output_type": "display_data"
        },
        {
          "name": "stderr",
          "output_type": "stream",
          "text": [
            "Epoch 345, global step 1730: 'val_dice' was not in top 1\n"
          ]
        },
        {
          "name": "stdout",
          "output_type": "stream",
          "text": [
            "current epoch: 345 current mean dice: 0.6383 current mean iou: 0.7398\n",
            "best mean dice: 0.7166 at epoch: 322\n",
            "[neptune] [error  ] Error occurred during asynchronous operation processing: X-coordinates (step) must be strictly increasing for series attribute: training/epoch. Invalid point: 1729.0\n"
          ]
        },
        {
          "data": {
            "application/vnd.jupyter.widget-view+json": {
              "model_id": "8cc5e1774efa49c19a1d2b480021d244",
              "version_major": 2,
              "version_minor": 0
            },
            "text/plain": [
              "Validation: |          | 0/? [00:00<?, ?it/s]"
            ]
          },
          "metadata": {},
          "output_type": "display_data"
        },
        {
          "name": "stderr",
          "output_type": "stream",
          "text": [
            "Epoch 346, global step 1735: 'val_dice' was not in top 1\n"
          ]
        },
        {
          "name": "stdout",
          "output_type": "stream",
          "text": [
            "current epoch: 346 current mean dice: 0.6080 current mean iou: 0.7210\n",
            "best mean dice: 0.7166 at epoch: 322\n",
            "[neptune] [error  ] Error occurred during asynchronous operation processing: X-coordinates (step) must be strictly increasing for series attribute: training/epoch. Invalid point: 1734.0\n"
          ]
        },
        {
          "data": {
            "application/vnd.jupyter.widget-view+json": {
              "model_id": "94850638c11d4d19bf6ff5248ffac49e",
              "version_major": 2,
              "version_minor": 0
            },
            "text/plain": [
              "Validation: |          | 0/? [00:00<?, ?it/s]"
            ]
          },
          "metadata": {},
          "output_type": "display_data"
        },
        {
          "name": "stderr",
          "output_type": "stream",
          "text": [
            "Epoch 347, global step 1740: 'val_dice' was not in top 1\n"
          ]
        },
        {
          "name": "stdout",
          "output_type": "stream",
          "text": [
            "current epoch: 347 current mean dice: 0.5870 current mean iou: 0.7121\n",
            "best mean dice: 0.7166 at epoch: 322\n",
            "[neptune] [error  ] Error occurred during asynchronous operation processing: X-coordinates (step) must be strictly increasing for series attribute: training/epoch. Invalid point: 1739.0\n"
          ]
        },
        {
          "data": {
            "application/vnd.jupyter.widget-view+json": {
              "model_id": "4d2997f898e147f09c45703a7f968a28",
              "version_major": 2,
              "version_minor": 0
            },
            "text/plain": [
              "Validation: |          | 0/? [00:00<?, ?it/s]"
            ]
          },
          "metadata": {},
          "output_type": "display_data"
        },
        {
          "name": "stderr",
          "output_type": "stream",
          "text": [
            "Epoch 348, global step 1745: 'val_dice' was not in top 1\n"
          ]
        },
        {
          "name": "stdout",
          "output_type": "stream",
          "text": [
            "current epoch: 348 current mean dice: 0.5708 current mean iou: 0.7055\n",
            "best mean dice: 0.7166 at epoch: 322\n",
            "[neptune] [error  ] Error occurred during asynchronous operation processing: X-coordinates (step) must be strictly increasing for series attribute: training/epoch. Invalid point: 1744.0\n"
          ]
        },
        {
          "data": {
            "application/vnd.jupyter.widget-view+json": {
              "model_id": "094bd669cb7546bbacd502f13553234c",
              "version_major": 2,
              "version_minor": 0
            },
            "text/plain": [
              "Validation: |          | 0/? [00:00<?, ?it/s]"
            ]
          },
          "metadata": {},
          "output_type": "display_data"
        },
        {
          "name": "stderr",
          "output_type": "stream",
          "text": [
            "Epoch 349, global step 1750: 'val_dice' was not in top 1\n"
          ]
        },
        {
          "name": "stdout",
          "output_type": "stream",
          "text": [
            "current epoch: 349 current mean dice: 0.5379 current mean iou: 0.6915\n",
            "best mean dice: 0.7166 at epoch: 322\n",
            "[neptune] [error  ] Error occurred during asynchronous operation processing: X-coordinates (step) must be strictly increasing for series attribute: training/epoch. Invalid point: 1749.0\n"
          ]
        },
        {
          "data": {
            "application/vnd.jupyter.widget-view+json": {
              "model_id": "88a54f9ecd364113be3a3bd8f2940467",
              "version_major": 2,
              "version_minor": 0
            },
            "text/plain": [
              "Validation: |          | 0/? [00:00<?, ?it/s]"
            ]
          },
          "metadata": {},
          "output_type": "display_data"
        },
        {
          "name": "stderr",
          "output_type": "stream",
          "text": [
            "Epoch 350, global step 1755: 'val_dice' was not in top 1\n"
          ]
        },
        {
          "name": "stdout",
          "output_type": "stream",
          "text": [
            "current epoch: 350 current mean dice: 0.6027 current mean iou: 0.7237\n",
            "best mean dice: 0.7166 at epoch: 322\n",
            "[neptune] [error  ] Error occurred during asynchronous operation processing: X-coordinates (step) must be strictly increasing for series attribute: training/epoch. Invalid point: 1754.0\n"
          ]
        },
        {
          "data": {
            "application/vnd.jupyter.widget-view+json": {
              "model_id": "a03db2e17d3e409db8dd910623c296c5",
              "version_major": 2,
              "version_minor": 0
            },
            "text/plain": [
              "Validation: |          | 0/? [00:00<?, ?it/s]"
            ]
          },
          "metadata": {},
          "output_type": "display_data"
        },
        {
          "name": "stderr",
          "output_type": "stream",
          "text": [
            "Epoch 351, global step 1760: 'val_dice' was not in top 1\n"
          ]
        },
        {
          "name": "stdout",
          "output_type": "stream",
          "text": [
            "current epoch: 351 current mean dice: 0.6405 current mean iou: 0.7412\n",
            "best mean dice: 0.7166 at epoch: 322\n",
            "[neptune] [error  ] Error occurred during asynchronous operation processing: X-coordinates (step) must be strictly increasing for series attribute: training/epoch. Invalid point: 1759.0\n"
          ]
        },
        {
          "data": {
            "application/vnd.jupyter.widget-view+json": {
              "model_id": "1bcf605e415f4b5ba8f5edbeba5658b9",
              "version_major": 2,
              "version_minor": 0
            },
            "text/plain": [
              "Validation: |          | 0/? [00:00<?, ?it/s]"
            ]
          },
          "metadata": {},
          "output_type": "display_data"
        },
        {
          "name": "stderr",
          "output_type": "stream",
          "text": [
            "Epoch 352, global step 1765: 'val_dice' was not in top 1\n"
          ]
        },
        {
          "name": "stdout",
          "output_type": "stream",
          "text": [
            "current epoch: 352 current mean dice: 0.6267 current mean iou: 0.7330\n",
            "best mean dice: 0.7166 at epoch: 322\n",
            "[neptune] [error  ] Error occurred during asynchronous operation processing: X-coordinates (step) must be strictly increasing for series attribute: training/epoch. Invalid point: 1764.0\n"
          ]
        },
        {
          "data": {
            "application/vnd.jupyter.widget-view+json": {
              "model_id": "c39c52f5b05e4fa4a814cf4f85e93d5f",
              "version_major": 2,
              "version_minor": 0
            },
            "text/plain": [
              "Validation: |          | 0/? [00:00<?, ?it/s]"
            ]
          },
          "metadata": {},
          "output_type": "display_data"
        },
        {
          "name": "stderr",
          "output_type": "stream",
          "text": [
            "Epoch 353, global step 1770: 'val_dice' was not in top 1\n"
          ]
        },
        {
          "name": "stdout",
          "output_type": "stream",
          "text": [
            "current epoch: 353 current mean dice: 0.5751 current mean iou: 0.7068\n",
            "best mean dice: 0.7166 at epoch: 322\n",
            "[neptune] [error  ] Error occurred during asynchronous operation processing: X-coordinates (step) must be strictly increasing for series attribute: training/epoch. Invalid point: 1769.0\n"
          ]
        },
        {
          "data": {
            "application/vnd.jupyter.widget-view+json": {
              "model_id": "b2c65853e5ac44058ba8d01271220acc",
              "version_major": 2,
              "version_minor": 0
            },
            "text/plain": [
              "Validation: |          | 0/? [00:00<?, ?it/s]"
            ]
          },
          "metadata": {},
          "output_type": "display_data"
        },
        {
          "name": "stderr",
          "output_type": "stream",
          "text": [
            "Epoch 354, global step 1775: 'val_dice' was not in top 1\n"
          ]
        },
        {
          "name": "stdout",
          "output_type": "stream",
          "text": [
            "current epoch: 354 current mean dice: 0.5377 current mean iou: 0.6886\n",
            "best mean dice: 0.7166 at epoch: 322\n",
            "[neptune] [error  ] Error occurred during asynchronous operation processing: X-coordinates (step) must be strictly increasing for series attribute: training/epoch. Invalid point: 1774.0\n"
          ]
        },
        {
          "data": {
            "application/vnd.jupyter.widget-view+json": {
              "model_id": "9d3cdf6ad84941f9aca34aa81bb81e5b",
              "version_major": 2,
              "version_minor": 0
            },
            "text/plain": [
              "Validation: |          | 0/? [00:00<?, ?it/s]"
            ]
          },
          "metadata": {},
          "output_type": "display_data"
        },
        {
          "name": "stderr",
          "output_type": "stream",
          "text": [
            "Epoch 355, global step 1780: 'val_dice' was not in top 1\n"
          ]
        },
        {
          "name": "stdout",
          "output_type": "stream",
          "text": [
            "current epoch: 355 current mean dice: 0.3959 current mean iou: 0.6254\n",
            "best mean dice: 0.7166 at epoch: 322\n",
            "[neptune] [error  ] Error occurred during asynchronous operation processing: X-coordinates (step) must be strictly increasing for series attribute: training/epoch. Invalid point: 1779.0\n"
          ]
        },
        {
          "data": {
            "application/vnd.jupyter.widget-view+json": {
              "model_id": "0292bec1578e4cc59f23a946de1a58cc",
              "version_major": 2,
              "version_minor": 0
            },
            "text/plain": [
              "Validation: |          | 0/? [00:00<?, ?it/s]"
            ]
          },
          "metadata": {},
          "output_type": "display_data"
        },
        {
          "name": "stderr",
          "output_type": "stream",
          "text": [
            "Epoch 356, global step 1785: 'val_dice' was not in top 1\n"
          ]
        },
        {
          "name": "stdout",
          "output_type": "stream",
          "text": [
            "current epoch: 356 current mean dice: 0.5056 current mean iou: 0.6750\n",
            "best mean dice: 0.7166 at epoch: 322\n",
            "[neptune] [error  ] Error occurred during asynchronous operation processing: X-coordinates (step) must be strictly increasing for series attribute: training/epoch. Invalid point: 1784.0\n"
          ]
        },
        {
          "data": {
            "application/vnd.jupyter.widget-view+json": {
              "model_id": "1d8caef352f546dc9400d3a047cd8db7",
              "version_major": 2,
              "version_minor": 0
            },
            "text/plain": [
              "Validation: |          | 0/? [00:00<?, ?it/s]"
            ]
          },
          "metadata": {},
          "output_type": "display_data"
        },
        {
          "name": "stderr",
          "output_type": "stream",
          "text": [
            "Epoch 357, global step 1790: 'val_dice' was not in top 1\n"
          ]
        },
        {
          "name": "stdout",
          "output_type": "stream",
          "text": [
            "current epoch: 357 current mean dice: 0.5217 current mean iou: 0.6827\n",
            "best mean dice: 0.7166 at epoch: 322\n",
            "[neptune] [error  ] Error occurred during asynchronous operation processing: X-coordinates (step) must be strictly increasing for series attribute: training/epoch. Invalid point: 1789.0\n"
          ]
        },
        {
          "data": {
            "application/vnd.jupyter.widget-view+json": {
              "model_id": "3e56a40236374f77b641d56a9010545e",
              "version_major": 2,
              "version_minor": 0
            },
            "text/plain": [
              "Validation: |          | 0/? [00:00<?, ?it/s]"
            ]
          },
          "metadata": {},
          "output_type": "display_data"
        },
        {
          "name": "stderr",
          "output_type": "stream",
          "text": [
            "Epoch 358, global step 1795: 'val_dice' was not in top 1\n"
          ]
        },
        {
          "name": "stdout",
          "output_type": "stream",
          "text": [
            "current epoch: 358 current mean dice: 0.6768 current mean iou: 0.7587\n",
            "best mean dice: 0.7166 at epoch: 322\n",
            "[neptune] [error  ] Error occurred during asynchronous operation processing: X-coordinates (step) must be strictly increasing for series attribute: training/epoch. Invalid point: 1794.0\n"
          ]
        },
        {
          "data": {
            "application/vnd.jupyter.widget-view+json": {
              "model_id": "3c77936bfff5439b99d06d2add901892",
              "version_major": 2,
              "version_minor": 0
            },
            "text/plain": [
              "Validation: |          | 0/? [00:00<?, ?it/s]"
            ]
          },
          "metadata": {},
          "output_type": "display_data"
        },
        {
          "name": "stderr",
          "output_type": "stream",
          "text": [
            "Epoch 359, global step 1800: 'val_dice' reached 0.72067 (best 0.72067), saving model to '/home/pawel/Documents/RISA/3D_segmentation/AeroPath/checkpoints/whole_epoch=359-val_dice=0.7207.ckpt' as top 1\n"
          ]
        },
        {
          "name": "stdout",
          "output_type": "stream",
          "text": [
            "current epoch: 359 current mean dice: 0.7207 current mean iou: 0.7832\n",
            "best mean dice: 0.7207 at epoch: 359\n",
            "[neptune] [error  ] Error occurred during asynchronous operation processing: X-coordinates (step) must be strictly increasing for series attribute: training/epoch. Invalid point: 1799.0\n"
          ]
        },
        {
          "data": {
            "application/vnd.jupyter.widget-view+json": {
              "model_id": "1a8eba15ad8943c98a2a03019ed13403",
              "version_major": 2,
              "version_minor": 0
            },
            "text/plain": [
              "Validation: |          | 0/? [00:00<?, ?it/s]"
            ]
          },
          "metadata": {},
          "output_type": "display_data"
        },
        {
          "name": "stderr",
          "output_type": "stream",
          "text": [
            "Epoch 360, global step 1805: 'val_dice' reached 0.72664 (best 0.72664), saving model to '/home/pawel/Documents/RISA/3D_segmentation/AeroPath/checkpoints/whole_epoch=360-val_dice=0.7266.ckpt' as top 1\n"
          ]
        },
        {
          "name": "stdout",
          "output_type": "stream",
          "text": [
            "current epoch: 360 current mean dice: 0.7266 current mean iou: 0.7868\n",
            "best mean dice: 0.7266 at epoch: 360\n",
            "[neptune] [error  ] Error occurred during asynchronous operation processing: X-coordinates (step) must be strictly increasing for series attribute: training/epoch. Invalid point: 1804.0\n"
          ]
        },
        {
          "data": {
            "application/vnd.jupyter.widget-view+json": {
              "model_id": "406ea59b8e7743ed8c02da83300d7293",
              "version_major": 2,
              "version_minor": 0
            },
            "text/plain": [
              "Validation: |          | 0/? [00:00<?, ?it/s]"
            ]
          },
          "metadata": {},
          "output_type": "display_data"
        },
        {
          "name": "stderr",
          "output_type": "stream",
          "text": [
            "Epoch 361, global step 1810: 'val_dice' was not in top 1\n"
          ]
        },
        {
          "name": "stdout",
          "output_type": "stream",
          "text": [
            "current epoch: 361 current mean dice: 0.7262 current mean iou: 0.7864\n",
            "best mean dice: 0.7266 at epoch: 360\n",
            "[neptune] [error  ] Error occurred during asynchronous operation processing: X-coordinates (step) must be strictly increasing for series attribute: training/epoch. Invalid point: 1809.0\n"
          ]
        },
        {
          "data": {
            "application/vnd.jupyter.widget-view+json": {
              "model_id": "ed700883152246e883661819e2c663f3",
              "version_major": 2,
              "version_minor": 0
            },
            "text/plain": [
              "Validation: |          | 0/? [00:00<?, ?it/s]"
            ]
          },
          "metadata": {},
          "output_type": "display_data"
        },
        {
          "name": "stderr",
          "output_type": "stream",
          "text": [
            "Epoch 362, global step 1815: 'val_dice' was not in top 1\n"
          ]
        },
        {
          "name": "stdout",
          "output_type": "stream",
          "text": [
            "current epoch: 362 current mean dice: 0.7214 current mean iou: 0.7836\n",
            "best mean dice: 0.7266 at epoch: 360\n",
            "[neptune] [error  ] Error occurred during asynchronous operation processing: X-coordinates (step) must be strictly increasing for series attribute: training/epoch. Invalid point: 1814.0\n"
          ]
        },
        {
          "data": {
            "application/vnd.jupyter.widget-view+json": {
              "model_id": "80a370e6760b4964900046c6146a50d4",
              "version_major": 2,
              "version_minor": 0
            },
            "text/plain": [
              "Validation: |          | 0/? [00:00<?, ?it/s]"
            ]
          },
          "metadata": {},
          "output_type": "display_data"
        },
        {
          "name": "stderr",
          "output_type": "stream",
          "text": [
            "Epoch 363, global step 1820: 'val_dice' was not in top 1\n"
          ]
        },
        {
          "name": "stdout",
          "output_type": "stream",
          "text": [
            "current epoch: 363 current mean dice: 0.7151 current mean iou: 0.7805\n",
            "best mean dice: 0.7266 at epoch: 360\n",
            "[neptune] [error  ] Error occurred during asynchronous operation processing: X-coordinates (step) must be strictly increasing for series attribute: training/epoch. Invalid point: 1819.0\n"
          ]
        },
        {
          "data": {
            "application/vnd.jupyter.widget-view+json": {
              "model_id": "47834774231c4ef2bb8de6cdaf57b123",
              "version_major": 2,
              "version_minor": 0
            },
            "text/plain": [
              "Validation: |          | 0/? [00:00<?, ?it/s]"
            ]
          },
          "metadata": {},
          "output_type": "display_data"
        },
        {
          "name": "stderr",
          "output_type": "stream",
          "text": [
            "Epoch 364, global step 1825: 'val_dice' was not in top 1\n"
          ]
        },
        {
          "name": "stdout",
          "output_type": "stream",
          "text": [
            "current epoch: 364 current mean dice: 0.6880 current mean iou: 0.7651\n",
            "best mean dice: 0.7266 at epoch: 360\n",
            "[neptune] [error  ] Error occurred during asynchronous operation processing: X-coordinates (step) must be strictly increasing for series attribute: training/epoch. Invalid point: 1824.0\n"
          ]
        },
        {
          "data": {
            "application/vnd.jupyter.widget-view+json": {
              "model_id": "548ea8fbefc9475ebddad0a9209be2d2",
              "version_major": 2,
              "version_minor": 0
            },
            "text/plain": [
              "Validation: |          | 0/? [00:00<?, ?it/s]"
            ]
          },
          "metadata": {},
          "output_type": "display_data"
        },
        {
          "name": "stderr",
          "output_type": "stream",
          "text": [
            "Epoch 365, global step 1830: 'val_dice' was not in top 1\n"
          ]
        },
        {
          "name": "stdout",
          "output_type": "stream",
          "text": [
            "current epoch: 365 current mean dice: 0.6240 current mean iou: 0.7329\n",
            "best mean dice: 0.7266 at epoch: 360\n",
            "[neptune] [error  ] Error occurred during asynchronous operation processing: X-coordinates (step) must be strictly increasing for series attribute: training/epoch. Invalid point: 1829.0\n"
          ]
        },
        {
          "data": {
            "application/vnd.jupyter.widget-view+json": {
              "model_id": "8958519b294b4294816d7b1d74bc33ca",
              "version_major": 2,
              "version_minor": 0
            },
            "text/plain": [
              "Validation: |          | 0/? [00:00<?, ?it/s]"
            ]
          },
          "metadata": {},
          "output_type": "display_data"
        },
        {
          "name": "stderr",
          "output_type": "stream",
          "text": [
            "Epoch 366, global step 1835: 'val_dice' was not in top 1\n"
          ]
        },
        {
          "name": "stdout",
          "output_type": "stream",
          "text": [
            "current epoch: 366 current mean dice: 0.6555 current mean iou: 0.7483\n",
            "best mean dice: 0.7266 at epoch: 360\n",
            "[neptune] [error  ] Error occurred during asynchronous operation processing: X-coordinates (step) must be strictly increasing for series attribute: training/epoch. Invalid point: 1834.0\n"
          ]
        },
        {
          "data": {
            "application/vnd.jupyter.widget-view+json": {
              "model_id": "4363778faced466481df3b8c7637737d",
              "version_major": 2,
              "version_minor": 0
            },
            "text/plain": [
              "Validation: |          | 0/? [00:00<?, ?it/s]"
            ]
          },
          "metadata": {},
          "output_type": "display_data"
        },
        {
          "name": "stderr",
          "output_type": "stream",
          "text": [
            "Epoch 367, global step 1840: 'val_dice' was not in top 1\n"
          ]
        },
        {
          "name": "stdout",
          "output_type": "stream",
          "text": [
            "current epoch: 367 current mean dice: 0.6830 current mean iou: 0.7621\n",
            "best mean dice: 0.7266 at epoch: 360\n",
            "[neptune] [error  ] Error occurred during asynchronous operation processing: X-coordinates (step) must be strictly increasing for series attribute: training/epoch. Invalid point: 1839.0\n"
          ]
        },
        {
          "data": {
            "application/vnd.jupyter.widget-view+json": {
              "model_id": "7e58a0cd203b4644961f72a4ad396f39",
              "version_major": 2,
              "version_minor": 0
            },
            "text/plain": [
              "Validation: |          | 0/? [00:00<?, ?it/s]"
            ]
          },
          "metadata": {},
          "output_type": "display_data"
        },
        {
          "name": "stderr",
          "output_type": "stream",
          "text": [
            "Epoch 368, global step 1845: 'val_dice' was not in top 1\n"
          ]
        },
        {
          "name": "stdout",
          "output_type": "stream",
          "text": [
            "current epoch: 368 current mean dice: 0.6889 current mean iou: 0.7650\n",
            "best mean dice: 0.7266 at epoch: 360\n",
            "[neptune] [error  ] Error occurred during asynchronous operation processing: X-coordinates (step) must be strictly increasing for series attribute: training/epoch. Invalid point: 1844.0\n"
          ]
        },
        {
          "data": {
            "application/vnd.jupyter.widget-view+json": {
              "model_id": "9c81fa80666447f5adb2ef425109334e",
              "version_major": 2,
              "version_minor": 0
            },
            "text/plain": [
              "Validation: |          | 0/? [00:00<?, ?it/s]"
            ]
          },
          "metadata": {},
          "output_type": "display_data"
        },
        {
          "name": "stderr",
          "output_type": "stream",
          "text": [
            "Epoch 369, global step 1850: 'val_dice' was not in top 1\n"
          ]
        },
        {
          "name": "stdout",
          "output_type": "stream",
          "text": [
            "current epoch: 369 current mean dice: 0.5852 current mean iou: 0.7126\n",
            "best mean dice: 0.7266 at epoch: 360\n",
            "[neptune] [error  ] Error occurred during asynchronous operation processing: X-coordinates (step) must be strictly increasing for series attribute: training/epoch. Invalid point: 1849.0\n"
          ]
        },
        {
          "data": {
            "application/vnd.jupyter.widget-view+json": {
              "model_id": "dc2517799e4543a08332c6f58be1a37b",
              "version_major": 2,
              "version_minor": 0
            },
            "text/plain": [
              "Validation: |          | 0/? [00:00<?, ?it/s]"
            ]
          },
          "metadata": {},
          "output_type": "display_data"
        },
        {
          "name": "stderr",
          "output_type": "stream",
          "text": [
            "Epoch 370, global step 1855: 'val_dice' was not in top 1\n"
          ]
        },
        {
          "name": "stdout",
          "output_type": "stream",
          "text": [
            "current epoch: 370 current mean dice: 0.5973 current mean iou: 0.7191\n",
            "best mean dice: 0.7266 at epoch: 360\n",
            "[neptune] [error  ] Error occurred during asynchronous operation processing: X-coordinates (step) must be strictly increasing for series attribute: training/epoch. Invalid point: 1854.0\n"
          ]
        },
        {
          "data": {
            "application/vnd.jupyter.widget-view+json": {
              "model_id": "f28eb709060f44f38014202f86ce47ad",
              "version_major": 2,
              "version_minor": 0
            },
            "text/plain": [
              "Validation: |          | 0/? [00:00<?, ?it/s]"
            ]
          },
          "metadata": {},
          "output_type": "display_data"
        },
        {
          "name": "stderr",
          "output_type": "stream",
          "text": [
            "Epoch 371, global step 1860: 'val_dice' was not in top 1\n"
          ]
        },
        {
          "name": "stdout",
          "output_type": "stream",
          "text": [
            "current epoch: 371 current mean dice: 0.7265 current mean iou: 0.7873\n",
            "best mean dice: 0.7266 at epoch: 360\n",
            "[neptune] [error  ] Error occurred during asynchronous operation processing: X-coordinates (step) must be strictly increasing for series attribute: training/epoch. Invalid point: 1859.0\n"
          ]
        },
        {
          "data": {
            "application/vnd.jupyter.widget-view+json": {
              "model_id": "a8a21f4599324825b72054c5f5724a8b",
              "version_major": 2,
              "version_minor": 0
            },
            "text/plain": [
              "Validation: |          | 0/? [00:00<?, ?it/s]"
            ]
          },
          "metadata": {},
          "output_type": "display_data"
        },
        {
          "name": "stderr",
          "output_type": "stream",
          "text": [
            "Epoch 372, global step 1865: 'val_dice' reached 0.74162 (best 0.74162), saving model to '/home/pawel/Documents/RISA/3D_segmentation/AeroPath/checkpoints/whole_epoch=372-val_dice=0.7416.ckpt' as top 1\n"
          ]
        },
        {
          "name": "stdout",
          "output_type": "stream",
          "text": [
            "current epoch: 372 current mean dice: 0.7416 current mean iou: 0.7959\n",
            "best mean dice: 0.7416 at epoch: 372\n",
            "[neptune] [error  ] Error occurred during asynchronous operation processing: X-coordinates (step) must be strictly increasing for series attribute: training/epoch. Invalid point: 1864.0\n"
          ]
        },
        {
          "data": {
            "application/vnd.jupyter.widget-view+json": {
              "model_id": "af4622f9ec904bfa9cc9e92af5a45ea7",
              "version_major": 2,
              "version_minor": 0
            },
            "text/plain": [
              "Validation: |          | 0/? [00:00<?, ?it/s]"
            ]
          },
          "metadata": {},
          "output_type": "display_data"
        },
        {
          "name": "stderr",
          "output_type": "stream",
          "text": [
            "Epoch 373, global step 1870: 'val_dice' was not in top 1\n"
          ]
        },
        {
          "name": "stdout",
          "output_type": "stream",
          "text": [
            "current epoch: 373 current mean dice: 0.6852 current mean iou: 0.7627\n",
            "best mean dice: 0.7416 at epoch: 372\n",
            "[neptune] [error  ] Error occurred during asynchronous operation processing: X-coordinates (step) must be strictly increasing for series attribute: training/epoch. Invalid point: 1869.0\n"
          ]
        },
        {
          "data": {
            "application/vnd.jupyter.widget-view+json": {
              "model_id": "760bb8c5041048459670bb99a32db29f",
              "version_major": 2,
              "version_minor": 0
            },
            "text/plain": [
              "Validation: |          | 0/? [00:00<?, ?it/s]"
            ]
          },
          "metadata": {},
          "output_type": "display_data"
        },
        {
          "name": "stderr",
          "output_type": "stream",
          "text": [
            "Epoch 374, global step 1875: 'val_dice' was not in top 1\n"
          ]
        },
        {
          "name": "stdout",
          "output_type": "stream",
          "text": [
            "current epoch: 374 current mean dice: 0.3942 current mean iou: 0.6246\n",
            "best mean dice: 0.7416 at epoch: 372\n",
            "[neptune] [error  ] Error occurred during asynchronous operation processing: X-coordinates (step) must be strictly increasing for series attribute: training/epoch. Invalid point: 1874.0\n"
          ]
        },
        {
          "data": {
            "application/vnd.jupyter.widget-view+json": {
              "model_id": "33ef8ad510d34bea82f11edc5f7e4d77",
              "version_major": 2,
              "version_minor": 0
            },
            "text/plain": [
              "Validation: |          | 0/? [00:00<?, ?it/s]"
            ]
          },
          "metadata": {},
          "output_type": "display_data"
        },
        {
          "name": "stderr",
          "output_type": "stream",
          "text": [
            "Epoch 375, global step 1880: 'val_dice' was not in top 1\n"
          ]
        },
        {
          "name": "stdout",
          "output_type": "stream",
          "text": [
            "current epoch: 375 current mean dice: 0.3691 current mean iou: 0.6187\n",
            "best mean dice: 0.7416 at epoch: 372\n",
            "[neptune] [error  ] Error occurred during asynchronous operation processing: X-coordinates (step) must be strictly increasing for series attribute: training/epoch. Invalid point: 1879.0\n"
          ]
        },
        {
          "data": {
            "application/vnd.jupyter.widget-view+json": {
              "model_id": "bcb3f323543e4780a555d58c43b0f689",
              "version_major": 2,
              "version_minor": 0
            },
            "text/plain": [
              "Validation: |          | 0/? [00:00<?, ?it/s]"
            ]
          },
          "metadata": {},
          "output_type": "display_data"
        },
        {
          "name": "stderr",
          "output_type": "stream",
          "text": [
            "Epoch 376, global step 1885: 'val_dice' was not in top 1\n"
          ]
        },
        {
          "name": "stdout",
          "output_type": "stream",
          "text": [
            "current epoch: 376 current mean dice: 0.6219 current mean iou: 0.7337\n",
            "best mean dice: 0.7416 at epoch: 372\n",
            "[neptune] [error  ] Error occurred during asynchronous operation processing: X-coordinates (step) must be strictly increasing for series attribute: training/epoch. Invalid point: 1884.0\n"
          ]
        },
        {
          "data": {
            "application/vnd.jupyter.widget-view+json": {
              "model_id": "36e1764cb8414771a8b47db4847cdd55",
              "version_major": 2,
              "version_minor": 0
            },
            "text/plain": [
              "Validation: |          | 0/? [00:00<?, ?it/s]"
            ]
          },
          "metadata": {},
          "output_type": "display_data"
        },
        {
          "name": "stderr",
          "output_type": "stream",
          "text": [
            "Epoch 377, global step 1890: 'val_dice' was not in top 1\n"
          ]
        },
        {
          "name": "stdout",
          "output_type": "stream",
          "text": [
            "current epoch: 377 current mean dice: 0.7041 current mean iou: 0.7734\n",
            "best mean dice: 0.7416 at epoch: 372\n",
            "[neptune] [error  ] Error occurred during asynchronous operation processing: X-coordinates (step) must be strictly increasing for series attribute: training/epoch. Invalid point: 1889.0\n"
          ]
        },
        {
          "data": {
            "application/vnd.jupyter.widget-view+json": {
              "model_id": "0a6a17c74c1448be93ae8c3a4c1969ff",
              "version_major": 2,
              "version_minor": 0
            },
            "text/plain": [
              "Validation: |          | 0/? [00:00<?, ?it/s]"
            ]
          },
          "metadata": {},
          "output_type": "display_data"
        },
        {
          "name": "stderr",
          "output_type": "stream",
          "text": [
            "Epoch 378, global step 1895: 'val_dice' was not in top 1\n"
          ]
        },
        {
          "name": "stdout",
          "output_type": "stream",
          "text": [
            "current epoch: 378 current mean dice: 0.6643 current mean iou: 0.7517\n",
            "best mean dice: 0.7416 at epoch: 372\n",
            "[neptune] [error  ] Error occurred during asynchronous operation processing: X-coordinates (step) must be strictly increasing for series attribute: training/epoch. Invalid point: 1894.0\n"
          ]
        },
        {
          "data": {
            "application/vnd.jupyter.widget-view+json": {
              "model_id": "d8d41cc7c85d447daeb64611077ea7ef",
              "version_major": 2,
              "version_minor": 0
            },
            "text/plain": [
              "Validation: |          | 0/? [00:00<?, ?it/s]"
            ]
          },
          "metadata": {},
          "output_type": "display_data"
        },
        {
          "name": "stderr",
          "output_type": "stream",
          "text": [
            "Epoch 379, global step 1900: 'val_dice' was not in top 1\n"
          ]
        },
        {
          "name": "stdout",
          "output_type": "stream",
          "text": [
            "current epoch: 379 current mean dice: 0.6380 current mean iou: 0.7376\n",
            "best mean dice: 0.7416 at epoch: 372\n",
            "[neptune] [error  ] Error occurred during asynchronous operation processing: X-coordinates (step) must be strictly increasing for series attribute: training/epoch. Invalid point: 1899.0\n"
          ]
        },
        {
          "data": {
            "application/vnd.jupyter.widget-view+json": {
              "model_id": "ac8d5e69991d40e580f217c2fee7266e",
              "version_major": 2,
              "version_minor": 0
            },
            "text/plain": [
              "Validation: |          | 0/? [00:00<?, ?it/s]"
            ]
          },
          "metadata": {},
          "output_type": "display_data"
        },
        {
          "name": "stderr",
          "output_type": "stream",
          "text": [
            "Epoch 380, global step 1905: 'val_dice' was not in top 1\n"
          ]
        },
        {
          "name": "stdout",
          "output_type": "stream",
          "text": [
            "current epoch: 380 current mean dice: 0.6089 current mean iou: 0.7236\n",
            "best mean dice: 0.7416 at epoch: 372\n",
            "[neptune] [error  ] Error occurred during asynchronous operation processing: X-coordinates (step) must be strictly increasing for series attribute: training/epoch. Invalid point: 1904.0\n"
          ]
        },
        {
          "data": {
            "application/vnd.jupyter.widget-view+json": {
              "model_id": "5bb530aeb28d45f8bfc8df8c0f8e8130",
              "version_major": 2,
              "version_minor": 0
            },
            "text/plain": [
              "Validation: |          | 0/? [00:00<?, ?it/s]"
            ]
          },
          "metadata": {},
          "output_type": "display_data"
        },
        {
          "name": "stderr",
          "output_type": "stream",
          "text": [
            "Epoch 381, global step 1910: 'val_dice' was not in top 1\n"
          ]
        },
        {
          "name": "stdout",
          "output_type": "stream",
          "text": [
            "current epoch: 381 current mean dice: 0.5500 current mean iou: 0.6967\n",
            "best mean dice: 0.7416 at epoch: 372\n",
            "[neptune] [error  ] Error occurred during asynchronous operation processing: X-coordinates (step) must be strictly increasing for series attribute: training/epoch. Invalid point: 1909.0\n"
          ]
        },
        {
          "data": {
            "application/vnd.jupyter.widget-view+json": {
              "model_id": "fcd1891e773f4b169a7c3f47d7a9d131",
              "version_major": 2,
              "version_minor": 0
            },
            "text/plain": [
              "Validation: |          | 0/? [00:00<?, ?it/s]"
            ]
          },
          "metadata": {},
          "output_type": "display_data"
        },
        {
          "name": "stderr",
          "output_type": "stream",
          "text": [
            "Epoch 382, global step 1915: 'val_dice' was not in top 1\n"
          ]
        },
        {
          "name": "stdout",
          "output_type": "stream",
          "text": [
            "current epoch: 382 current mean dice: 0.5959 current mean iou: 0.7194\n",
            "best mean dice: 0.7416 at epoch: 372\n",
            "[neptune] [error  ] Error occurred during asynchronous operation processing: X-coordinates (step) must be strictly increasing for series attribute: training/epoch. Invalid point: 1914.0\n"
          ]
        },
        {
          "data": {
            "application/vnd.jupyter.widget-view+json": {
              "model_id": "e687b033a5b34c8fb9a7b0cb2640e741",
              "version_major": 2,
              "version_minor": 0
            },
            "text/plain": [
              "Validation: |          | 0/? [00:00<?, ?it/s]"
            ]
          },
          "metadata": {},
          "output_type": "display_data"
        },
        {
          "name": "stderr",
          "output_type": "stream",
          "text": [
            "Epoch 383, global step 1920: 'val_dice' was not in top 1\n"
          ]
        },
        {
          "name": "stdout",
          "output_type": "stream",
          "text": [
            "current epoch: 383 current mean dice: 0.5925 current mean iou: 0.7175\n",
            "best mean dice: 0.7416 at epoch: 372\n",
            "[neptune] [error  ] Error occurred during asynchronous operation processing: X-coordinates (step) must be strictly increasing for series attribute: training/epoch. Invalid point: 1919.0\n"
          ]
        },
        {
          "data": {
            "application/vnd.jupyter.widget-view+json": {
              "model_id": "ddd06d9e4d1545a5ad2935f5869abbb0",
              "version_major": 2,
              "version_minor": 0
            },
            "text/plain": [
              "Validation: |          | 0/? [00:00<?, ?it/s]"
            ]
          },
          "metadata": {},
          "output_type": "display_data"
        },
        {
          "name": "stderr",
          "output_type": "stream",
          "text": [
            "Epoch 384, global step 1925: 'val_dice' was not in top 1\n"
          ]
        },
        {
          "name": "stdout",
          "output_type": "stream",
          "text": [
            "current epoch: 384 current mean dice: 0.5686 current mean iou: 0.7059\n",
            "best mean dice: 0.7416 at epoch: 372\n",
            "[neptune] [error  ] Error occurred during asynchronous operation processing: X-coordinates (step) must be strictly increasing for series attribute: training/epoch. Invalid point: 1924.0\n"
          ]
        },
        {
          "data": {
            "application/vnd.jupyter.widget-view+json": {
              "model_id": "5bacfc0c0fd34af2af4bfc68c9cf1cbb",
              "version_major": 2,
              "version_minor": 0
            },
            "text/plain": [
              "Validation: |          | 0/? [00:00<?, ?it/s]"
            ]
          },
          "metadata": {},
          "output_type": "display_data"
        },
        {
          "name": "stderr",
          "output_type": "stream",
          "text": [
            "Epoch 385, global step 1930: 'val_dice' was not in top 1\n"
          ]
        },
        {
          "name": "stdout",
          "output_type": "stream",
          "text": [
            "current epoch: 385 current mean dice: 0.6128 current mean iou: 0.7255\n",
            "best mean dice: 0.7416 at epoch: 372\n",
            "[neptune] [error  ] Error occurred during asynchronous operation processing: X-coordinates (step) must be strictly increasing for series attribute: training/epoch. Invalid point: 1929.0\n"
          ]
        },
        {
          "data": {
            "application/vnd.jupyter.widget-view+json": {
              "model_id": "b09dfaca6f124b70af246096e518c618",
              "version_major": 2,
              "version_minor": 0
            },
            "text/plain": [
              "Validation: |          | 0/? [00:00<?, ?it/s]"
            ]
          },
          "metadata": {},
          "output_type": "display_data"
        },
        {
          "name": "stderr",
          "output_type": "stream",
          "text": [
            "Epoch 386, global step 1935: 'val_dice' was not in top 1\n"
          ]
        },
        {
          "name": "stdout",
          "output_type": "stream",
          "text": [
            "current epoch: 386 current mean dice: 0.7067 current mean iou: 0.7746\n",
            "best mean dice: 0.7416 at epoch: 372\n",
            "[neptune] [error  ] Error occurred during asynchronous operation processing: X-coordinates (step) must be strictly increasing for series attribute: training/epoch. Invalid point: 1934.0\n"
          ]
        },
        {
          "data": {
            "application/vnd.jupyter.widget-view+json": {
              "model_id": "6a36c3b0ecd8410f82a1318f43fba2fb",
              "version_major": 2,
              "version_minor": 0
            },
            "text/plain": [
              "Validation: |          | 0/? [00:00<?, ?it/s]"
            ]
          },
          "metadata": {},
          "output_type": "display_data"
        },
        {
          "name": "stderr",
          "output_type": "stream",
          "text": [
            "Epoch 387, global step 1940: 'val_dice' was not in top 1\n"
          ]
        },
        {
          "name": "stdout",
          "output_type": "stream",
          "text": [
            "current epoch: 387 current mean dice: 0.5393 current mean iou: 0.6884\n",
            "best mean dice: 0.7416 at epoch: 372\n",
            "[neptune] [error  ] Error occurred during asynchronous operation processing: X-coordinates (step) must be strictly increasing for series attribute: training/epoch. Invalid point: 1939.0\n"
          ]
        },
        {
          "data": {
            "application/vnd.jupyter.widget-view+json": {
              "model_id": "ae4dfe7b34a045548de8cc523be19590",
              "version_major": 2,
              "version_minor": 0
            },
            "text/plain": [
              "Validation: |          | 0/? [00:00<?, ?it/s]"
            ]
          },
          "metadata": {},
          "output_type": "display_data"
        },
        {
          "name": "stderr",
          "output_type": "stream",
          "text": [
            "Epoch 388, global step 1945: 'val_dice' was not in top 1\n"
          ]
        },
        {
          "name": "stdout",
          "output_type": "stream",
          "text": [
            "current epoch: 388 current mean dice: 0.5164 current mean iou: 0.6803\n",
            "best mean dice: 0.7416 at epoch: 372\n",
            "[neptune] [error  ] Error occurred during asynchronous operation processing: X-coordinates (step) must be strictly increasing for series attribute: training/epoch. Invalid point: 1944.0\n"
          ]
        },
        {
          "data": {
            "application/vnd.jupyter.widget-view+json": {
              "model_id": "784e8a89c3494e19abe7f805c88eaac4",
              "version_major": 2,
              "version_minor": 0
            },
            "text/plain": [
              "Validation: |          | 0/? [00:00<?, ?it/s]"
            ]
          },
          "metadata": {},
          "output_type": "display_data"
        },
        {
          "name": "stderr",
          "output_type": "stream",
          "text": [
            "Epoch 389, global step 1950: 'val_dice' was not in top 1\n"
          ]
        },
        {
          "name": "stdout",
          "output_type": "stream",
          "text": [
            "current epoch: 389 current mean dice: 0.2948 current mean iou: 0.5862\n",
            "best mean dice: 0.7416 at epoch: 372\n",
            "[neptune] [error  ] Error occurred during asynchronous operation processing: X-coordinates (step) must be strictly increasing for series attribute: training/epoch. Invalid point: 1949.0\n"
          ]
        },
        {
          "data": {
            "application/vnd.jupyter.widget-view+json": {
              "model_id": "6f246a4b2b1a4d349568640d8916d22f",
              "version_major": 2,
              "version_minor": 0
            },
            "text/plain": [
              "Validation: |          | 0/? [00:00<?, ?it/s]"
            ]
          },
          "metadata": {},
          "output_type": "display_data"
        },
        {
          "name": "stderr",
          "output_type": "stream",
          "text": [
            "Epoch 390, global step 1955: 'val_dice' was not in top 1\n"
          ]
        },
        {
          "name": "stdout",
          "output_type": "stream",
          "text": [
            "current epoch: 390 current mean dice: 0.3827 current mean iou: 0.6193\n",
            "best mean dice: 0.7416 at epoch: 372\n",
            "[neptune] [error  ] Error occurred during asynchronous operation processing: X-coordinates (step) must be strictly increasing for series attribute: training/epoch. Invalid point: 1954.0\n"
          ]
        },
        {
          "data": {
            "application/vnd.jupyter.widget-view+json": {
              "model_id": "43141d99d50a4efda90df4ecb31fdc89",
              "version_major": 2,
              "version_minor": 0
            },
            "text/plain": [
              "Validation: |          | 0/? [00:00<?, ?it/s]"
            ]
          },
          "metadata": {},
          "output_type": "display_data"
        },
        {
          "name": "stderr",
          "output_type": "stream",
          "text": [
            "Epoch 391, global step 1960: 'val_dice' was not in top 1\n"
          ]
        },
        {
          "name": "stdout",
          "output_type": "stream",
          "text": [
            "current epoch: 391 current mean dice: 0.5446 current mean iou: 0.6947\n",
            "best mean dice: 0.7416 at epoch: 372\n",
            "[neptune] [error  ] Error occurred during asynchronous operation processing: X-coordinates (step) must be strictly increasing for series attribute: training/epoch. Invalid point: 1959.0\n"
          ]
        },
        {
          "data": {
            "application/vnd.jupyter.widget-view+json": {
              "model_id": "c447403b7c1f4b2aa8adfe3d4e45b6b1",
              "version_major": 2,
              "version_minor": 0
            },
            "text/plain": [
              "Validation: |          | 0/? [00:00<?, ?it/s]"
            ]
          },
          "metadata": {},
          "output_type": "display_data"
        },
        {
          "name": "stderr",
          "output_type": "stream",
          "text": [
            "Epoch 392, global step 1965: 'val_dice' was not in top 1\n"
          ]
        },
        {
          "name": "stdout",
          "output_type": "stream",
          "text": [
            "current epoch: 392 current mean dice: 0.6210 current mean iou: 0.7319\n",
            "best mean dice: 0.7416 at epoch: 372\n",
            "[neptune] [error  ] Error occurred during asynchronous operation processing: X-coordinates (step) must be strictly increasing for series attribute: training/epoch. Invalid point: 1964.0\n"
          ]
        },
        {
          "data": {
            "application/vnd.jupyter.widget-view+json": {
              "model_id": "f78d5339a0134151841e10b60d446d76",
              "version_major": 2,
              "version_minor": 0
            },
            "text/plain": [
              "Validation: |          | 0/? [00:00<?, ?it/s]"
            ]
          },
          "metadata": {},
          "output_type": "display_data"
        },
        {
          "name": "stderr",
          "output_type": "stream",
          "text": [
            "Epoch 393, global step 1970: 'val_dice' was not in top 1\n"
          ]
        },
        {
          "name": "stdout",
          "output_type": "stream",
          "text": [
            "current epoch: 393 current mean dice: 0.6891 current mean iou: 0.7650\n",
            "best mean dice: 0.7416 at epoch: 372\n",
            "[neptune] [error  ] Error occurred during asynchronous operation processing: X-coordinates (step) must be strictly increasing for series attribute: training/epoch. Invalid point: 1969.0\n"
          ]
        },
        {
          "data": {
            "application/vnd.jupyter.widget-view+json": {
              "model_id": "160300eeb4e94154a070efa57223413d",
              "version_major": 2,
              "version_minor": 0
            },
            "text/plain": [
              "Validation: |          | 0/? [00:00<?, ?it/s]"
            ]
          },
          "metadata": {},
          "output_type": "display_data"
        },
        {
          "name": "stderr",
          "output_type": "stream",
          "text": [
            "Epoch 394, global step 1975: 'val_dice' was not in top 1\n"
          ]
        },
        {
          "name": "stdout",
          "output_type": "stream",
          "text": [
            "current epoch: 394 current mean dice: 0.6893 current mean iou: 0.7655\n",
            "best mean dice: 0.7416 at epoch: 372\n",
            "[neptune] [error  ] Error occurred during asynchronous operation processing: X-coordinates (step) must be strictly increasing for series attribute: training/epoch. Invalid point: 1974.0\n"
          ]
        },
        {
          "data": {
            "application/vnd.jupyter.widget-view+json": {
              "model_id": "1d410fb1f57149c6a6fd99938a01e653",
              "version_major": 2,
              "version_minor": 0
            },
            "text/plain": [
              "Validation: |          | 0/? [00:00<?, ?it/s]"
            ]
          },
          "metadata": {},
          "output_type": "display_data"
        },
        {
          "name": "stderr",
          "output_type": "stream",
          "text": [
            "Epoch 395, global step 1980: 'val_dice' was not in top 1\n"
          ]
        },
        {
          "name": "stdout",
          "output_type": "stream",
          "text": [
            "current epoch: 395 current mean dice: 0.5950 current mean iou: 0.7177\n",
            "best mean dice: 0.7416 at epoch: 372\n",
            "[neptune] [error  ] Error occurred during asynchronous operation processing: X-coordinates (step) must be strictly increasing for series attribute: training/epoch. Invalid point: 1979.0\n"
          ]
        },
        {
          "data": {
            "application/vnd.jupyter.widget-view+json": {
              "model_id": "b8d3dae8440a442e8f0d8aaada2ac4e9",
              "version_major": 2,
              "version_minor": 0
            },
            "text/plain": [
              "Validation: |          | 0/? [00:00<?, ?it/s]"
            ]
          },
          "metadata": {},
          "output_type": "display_data"
        },
        {
          "name": "stderr",
          "output_type": "stream",
          "text": [
            "Epoch 396, global step 1985: 'val_dice' was not in top 1\n"
          ]
        },
        {
          "name": "stdout",
          "output_type": "stream",
          "text": [
            "current epoch: 396 current mean dice: 0.6527 current mean iou: 0.7465\n",
            "best mean dice: 0.7416 at epoch: 372\n",
            "[neptune] [error  ] Error occurred during asynchronous operation processing: X-coordinates (step) must be strictly increasing for series attribute: training/epoch. Invalid point: 1984.0\n"
          ]
        },
        {
          "data": {
            "application/vnd.jupyter.widget-view+json": {
              "model_id": "6378d72b369b4711a2faa8736dd71e60",
              "version_major": 2,
              "version_minor": 0
            },
            "text/plain": [
              "Validation: |          | 0/? [00:00<?, ?it/s]"
            ]
          },
          "metadata": {},
          "output_type": "display_data"
        },
        {
          "name": "stderr",
          "output_type": "stream",
          "text": [
            "Epoch 397, global step 1990: 'val_dice' was not in top 1\n"
          ]
        },
        {
          "name": "stdout",
          "output_type": "stream",
          "text": [
            "current epoch: 397 current mean dice: 0.6670 current mean iou: 0.7536\n",
            "best mean dice: 0.7416 at epoch: 372\n",
            "[neptune] [error  ] Error occurred during asynchronous operation processing: X-coordinates (step) must be strictly increasing for series attribute: training/epoch. Invalid point: 1989.0\n"
          ]
        },
        {
          "data": {
            "application/vnd.jupyter.widget-view+json": {
              "model_id": "edcfa71fa9104538a96e42f690ac1ac5",
              "version_major": 2,
              "version_minor": 0
            },
            "text/plain": [
              "Validation: |          | 0/? [00:00<?, ?it/s]"
            ]
          },
          "metadata": {},
          "output_type": "display_data"
        },
        {
          "name": "stderr",
          "output_type": "stream",
          "text": [
            "Epoch 398, global step 1995: 'val_dice' was not in top 1\n"
          ]
        },
        {
          "name": "stdout",
          "output_type": "stream",
          "text": [
            "current epoch: 398 current mean dice: 0.6615 current mean iou: 0.7513\n",
            "best mean dice: 0.7416 at epoch: 372\n",
            "[neptune] [error  ] Error occurred during asynchronous operation processing: X-coordinates (step) must be strictly increasing for series attribute: training/epoch. Invalid point: 1994.0\n"
          ]
        },
        {
          "data": {
            "application/vnd.jupyter.widget-view+json": {
              "model_id": "6d5f1192ed2244bf84dfa8878c581803",
              "version_major": 2,
              "version_minor": 0
            },
            "text/plain": [
              "Validation: |          | 0/? [00:00<?, ?it/s]"
            ]
          },
          "metadata": {},
          "output_type": "display_data"
        },
        {
          "name": "stderr",
          "output_type": "stream",
          "text": [
            "Epoch 399, global step 2000: 'val_dice' was not in top 1\n"
          ]
        },
        {
          "name": "stdout",
          "output_type": "stream",
          "text": [
            "current epoch: 399 current mean dice: 0.6813 current mean iou: 0.7634\n",
            "best mean dice: 0.7416 at epoch: 372\n",
            "[neptune] [error  ] Error occurred during asynchronous operation processing: X-coordinates (step) must be strictly increasing for series attribute: training/epoch. Invalid point: 1999.0\n"
          ]
        },
        {
          "data": {
            "application/vnd.jupyter.widget-view+json": {
              "model_id": "df0cc83ddb1e46d488e95782d831fce4",
              "version_major": 2,
              "version_minor": 0
            },
            "text/plain": [
              "Validation: |          | 0/? [00:00<?, ?it/s]"
            ]
          },
          "metadata": {},
          "output_type": "display_data"
        },
        {
          "name": "stderr",
          "output_type": "stream",
          "text": [
            "Epoch 400, global step 2005: 'val_dice' was not in top 1\n"
          ]
        },
        {
          "name": "stdout",
          "output_type": "stream",
          "text": [
            "current epoch: 400 current mean dice: 0.6884 current mean iou: 0.7674\n",
            "best mean dice: 0.7416 at epoch: 372\n",
            "[neptune] [error  ] Error occurred during asynchronous operation processing: X-coordinates (step) must be strictly increasing for series attribute: training/epoch. Invalid point: 2004.0\n"
          ]
        },
        {
          "data": {
            "application/vnd.jupyter.widget-view+json": {
              "model_id": "828ef82f4d1b407cb376b4fcd7890a53",
              "version_major": 2,
              "version_minor": 0
            },
            "text/plain": [
              "Validation: |          | 0/? [00:00<?, ?it/s]"
            ]
          },
          "metadata": {},
          "output_type": "display_data"
        },
        {
          "name": "stderr",
          "output_type": "stream",
          "text": [
            "Epoch 401, global step 2010: 'val_dice' was not in top 1\n"
          ]
        },
        {
          "name": "stdout",
          "output_type": "stream",
          "text": [
            "current epoch: 401 current mean dice: 0.6228 current mean iou: 0.7338\n",
            "best mean dice: 0.7416 at epoch: 372\n",
            "[neptune] [error  ] Error occurred during asynchronous operation processing: X-coordinates (step) must be strictly increasing for series attribute: training/epoch. Invalid point: 2009.0\n"
          ]
        },
        {
          "data": {
            "application/vnd.jupyter.widget-view+json": {
              "model_id": "d4ded4c100074adf865cf7107700c134",
              "version_major": 2,
              "version_minor": 0
            },
            "text/plain": [
              "Validation: |          | 0/? [00:00<?, ?it/s]"
            ]
          },
          "metadata": {},
          "output_type": "display_data"
        },
        {
          "name": "stderr",
          "output_type": "stream",
          "text": [
            "Epoch 402, global step 2015: 'val_dice' was not in top 1\n"
          ]
        },
        {
          "name": "stdout",
          "output_type": "stream",
          "text": [
            "current epoch: 402 current mean dice: 0.5373 current mean iou: 0.6915\n",
            "best mean dice: 0.7416 at epoch: 372\n",
            "[neptune] [error  ] Error occurred during asynchronous operation processing: X-coordinates (step) must be strictly increasing for series attribute: training/epoch. Invalid point: 2014.0\n"
          ]
        },
        {
          "data": {
            "application/vnd.jupyter.widget-view+json": {
              "model_id": "5c3cf80c0ed749999affc53f09ae9843",
              "version_major": 2,
              "version_minor": 0
            },
            "text/plain": [
              "Validation: |          | 0/? [00:00<?, ?it/s]"
            ]
          },
          "metadata": {},
          "output_type": "display_data"
        },
        {
          "name": "stderr",
          "output_type": "stream",
          "text": [
            "Epoch 403, global step 2020: 'val_dice' was not in top 1\n"
          ]
        },
        {
          "name": "stdout",
          "output_type": "stream",
          "text": [
            "current epoch: 403 current mean dice: 0.5104 current mean iou: 0.6802\n",
            "best mean dice: 0.7416 at epoch: 372\n",
            "[neptune] [error  ] Error occurred during asynchronous operation processing: X-coordinates (step) must be strictly increasing for series attribute: training/epoch. Invalid point: 2019.0\n"
          ]
        },
        {
          "data": {
            "application/vnd.jupyter.widget-view+json": {
              "model_id": "8459a1e8d94b48c0a926f7a918a5ece0",
              "version_major": 2,
              "version_minor": 0
            },
            "text/plain": [
              "Validation: |          | 0/? [00:00<?, ?it/s]"
            ]
          },
          "metadata": {},
          "output_type": "display_data"
        },
        {
          "name": "stderr",
          "output_type": "stream",
          "text": [
            "Epoch 404, global step 2025: 'val_dice' was not in top 1\n"
          ]
        },
        {
          "name": "stdout",
          "output_type": "stream",
          "text": [
            "current epoch: 404 current mean dice: 0.4858 current mean iou: 0.6689\n",
            "best mean dice: 0.7416 at epoch: 372\n",
            "[neptune] [error  ] Error occurred during asynchronous operation processing: X-coordinates (step) must be strictly increasing for series attribute: training/epoch. Invalid point: 2024.0\n"
          ]
        },
        {
          "data": {
            "application/vnd.jupyter.widget-view+json": {
              "model_id": "207314d3e47443a0adaa1f4f6b24ca12",
              "version_major": 2,
              "version_minor": 0
            },
            "text/plain": [
              "Validation: |          | 0/? [00:00<?, ?it/s]"
            ]
          },
          "metadata": {},
          "output_type": "display_data"
        },
        {
          "name": "stderr",
          "output_type": "stream",
          "text": [
            "Epoch 405, global step 2030: 'val_dice' was not in top 1\n"
          ]
        },
        {
          "name": "stdout",
          "output_type": "stream",
          "text": [
            "current epoch: 405 current mean dice: 0.5941 current mean iou: 0.7190\n",
            "best mean dice: 0.7416 at epoch: 372\n",
            "[neptune] [error  ] Error occurred during asynchronous operation processing: X-coordinates (step) must be strictly increasing for series attribute: training/epoch. Invalid point: 2029.0\n"
          ]
        },
        {
          "data": {
            "application/vnd.jupyter.widget-view+json": {
              "model_id": "11c9fed7797848e895be8a33de795516",
              "version_major": 2,
              "version_minor": 0
            },
            "text/plain": [
              "Validation: |          | 0/? [00:00<?, ?it/s]"
            ]
          },
          "metadata": {},
          "output_type": "display_data"
        },
        {
          "name": "stderr",
          "output_type": "stream",
          "text": [
            "Epoch 406, global step 2035: 'val_dice' was not in top 1\n"
          ]
        },
        {
          "name": "stdout",
          "output_type": "stream",
          "text": [
            "current epoch: 406 current mean dice: 0.6033 current mean iou: 0.7221\n",
            "best mean dice: 0.7416 at epoch: 372\n",
            "[neptune] [error  ] Error occurred during asynchronous operation processing: X-coordinates (step) must be strictly increasing for series attribute: training/epoch. Invalid point: 2034.0\n"
          ]
        },
        {
          "data": {
            "application/vnd.jupyter.widget-view+json": {
              "model_id": "32dd6c4e47ed43f185c17d3a39fd3017",
              "version_major": 2,
              "version_minor": 0
            },
            "text/plain": [
              "Validation: |          | 0/? [00:00<?, ?it/s]"
            ]
          },
          "metadata": {},
          "output_type": "display_data"
        },
        {
          "name": "stderr",
          "output_type": "stream",
          "text": [
            "Epoch 407, global step 2040: 'val_dice' was not in top 1\n"
          ]
        },
        {
          "name": "stdout",
          "output_type": "stream",
          "text": [
            "current epoch: 407 current mean dice: 0.6534 current mean iou: 0.7470\n",
            "best mean dice: 0.7416 at epoch: 372\n",
            "[neptune] [error  ] Error occurred during asynchronous operation processing: X-coordinates (step) must be strictly increasing for series attribute: training/epoch. Invalid point: 2039.0\n"
          ]
        },
        {
          "data": {
            "application/vnd.jupyter.widget-view+json": {
              "model_id": "c5afe62d96d446fc8b57f7a163d1d3b1",
              "version_major": 2,
              "version_minor": 0
            },
            "text/plain": [
              "Validation: |          | 0/? [00:00<?, ?it/s]"
            ]
          },
          "metadata": {},
          "output_type": "display_data"
        },
        {
          "name": "stderr",
          "output_type": "stream",
          "text": [
            "Epoch 408, global step 2045: 'val_dice' was not in top 1\n"
          ]
        },
        {
          "name": "stdout",
          "output_type": "stream",
          "text": [
            "current epoch: 408 current mean dice: 0.6385 current mean iou: 0.7392\n",
            "best mean dice: 0.7416 at epoch: 372\n",
            "[neptune] [error  ] Error occurred during asynchronous operation processing: X-coordinates (step) must be strictly increasing for series attribute: training/epoch. Invalid point: 2044.0\n"
          ]
        },
        {
          "data": {
            "application/vnd.jupyter.widget-view+json": {
              "model_id": "6cd752035f4f492f8689f466e0a5aa5f",
              "version_major": 2,
              "version_minor": 0
            },
            "text/plain": [
              "Validation: |          | 0/? [00:00<?, ?it/s]"
            ]
          },
          "metadata": {},
          "output_type": "display_data"
        },
        {
          "name": "stderr",
          "output_type": "stream",
          "text": [
            "Epoch 409, global step 2050: 'val_dice' was not in top 1\n"
          ]
        },
        {
          "name": "stdout",
          "output_type": "stream",
          "text": [
            "current epoch: 409 current mean dice: 0.7086 current mean iou: 0.7777\n",
            "best mean dice: 0.7416 at epoch: 372\n",
            "[neptune] [error  ] Error occurred during asynchronous operation processing: X-coordinates (step) must be strictly increasing for series attribute: training/epoch. Invalid point: 2049.0\n"
          ]
        },
        {
          "data": {
            "application/vnd.jupyter.widget-view+json": {
              "model_id": "994ac5f7e49d4500bb6ae9e65dbbbe69",
              "version_major": 2,
              "version_minor": 0
            },
            "text/plain": [
              "Validation: |          | 0/? [00:00<?, ?it/s]"
            ]
          },
          "metadata": {},
          "output_type": "display_data"
        },
        {
          "name": "stderr",
          "output_type": "stream",
          "text": [
            "Epoch 410, global step 2055: 'val_dice' was not in top 1\n"
          ]
        },
        {
          "name": "stdout",
          "output_type": "stream",
          "text": [
            "current epoch: 410 current mean dice: 0.5877 current mean iou: 0.7155\n",
            "best mean dice: 0.7416 at epoch: 372\n",
            "[neptune] [error  ] Error occurred during asynchronous operation processing: X-coordinates (step) must be strictly increasing for series attribute: training/epoch. Invalid point: 2054.0\n"
          ]
        },
        {
          "data": {
            "application/vnd.jupyter.widget-view+json": {
              "model_id": "8b32853b704d431c8f729239e95eca5a",
              "version_major": 2,
              "version_minor": 0
            },
            "text/plain": [
              "Validation: |          | 0/? [00:00<?, ?it/s]"
            ]
          },
          "metadata": {},
          "output_type": "display_data"
        },
        {
          "name": "stderr",
          "output_type": "stream",
          "text": [
            "Epoch 411, global step 2060: 'val_dice' was not in top 1\n"
          ]
        },
        {
          "name": "stdout",
          "output_type": "stream",
          "text": [
            "current epoch: 411 current mean dice: 0.6998 current mean iou: 0.7731\n",
            "best mean dice: 0.7416 at epoch: 372\n",
            "[neptune] [error  ] Error occurred during asynchronous operation processing: X-coordinates (step) must be strictly increasing for series attribute: training/epoch. Invalid point: 2059.0\n"
          ]
        },
        {
          "data": {
            "application/vnd.jupyter.widget-view+json": {
              "model_id": "849bb248dd29451cb1adcd18de69f106",
              "version_major": 2,
              "version_minor": 0
            },
            "text/plain": [
              "Validation: |          | 0/? [00:00<?, ?it/s]"
            ]
          },
          "metadata": {},
          "output_type": "display_data"
        },
        {
          "name": "stderr",
          "output_type": "stream",
          "text": [
            "Epoch 412, global step 2065: 'val_dice' was not in top 1\n"
          ]
        },
        {
          "name": "stdout",
          "output_type": "stream",
          "text": [
            "current epoch: 412 current mean dice: 0.6621 current mean iou: 0.7515\n",
            "best mean dice: 0.7416 at epoch: 372\n",
            "[neptune] [error  ] Error occurred during asynchronous operation processing: X-coordinates (step) must be strictly increasing for series attribute: training/epoch. Invalid point: 2064.0\n"
          ]
        },
        {
          "data": {
            "application/vnd.jupyter.widget-view+json": {
              "model_id": "1e48b84a73e44f6bb844a212963fc92d",
              "version_major": 2,
              "version_minor": 0
            },
            "text/plain": [
              "Validation: |          | 0/? [00:00<?, ?it/s]"
            ]
          },
          "metadata": {},
          "output_type": "display_data"
        },
        {
          "name": "stderr",
          "output_type": "stream",
          "text": [
            "Epoch 413, global step 2070: 'val_dice' was not in top 1\n"
          ]
        },
        {
          "name": "stdout",
          "output_type": "stream",
          "text": [
            "current epoch: 413 current mean dice: 0.1984 current mean iou: 0.5526\n",
            "best mean dice: 0.7416 at epoch: 372\n",
            "[neptune] [error  ] Error occurred during asynchronous operation processing: X-coordinates (step) must be strictly increasing for series attribute: training/epoch. Invalid point: 2069.0\n"
          ]
        },
        {
          "data": {
            "application/vnd.jupyter.widget-view+json": {
              "model_id": "ab6a8e58bf35478d968f4e81190a2d10",
              "version_major": 2,
              "version_minor": 0
            },
            "text/plain": [
              "Validation: |          | 0/? [00:00<?, ?it/s]"
            ]
          },
          "metadata": {},
          "output_type": "display_data"
        },
        {
          "name": "stderr",
          "output_type": "stream",
          "text": [
            "Epoch 414, global step 2075: 'val_dice' was not in top 1\n"
          ]
        },
        {
          "name": "stdout",
          "output_type": "stream",
          "text": [
            "current epoch: 414 current mean dice: 0.1712 current mean iou: 0.5433\n",
            "best mean dice: 0.7416 at epoch: 372\n",
            "[neptune] [error  ] Error occurred during asynchronous operation processing: X-coordinates (step) must be strictly increasing for series attribute: training/epoch. Invalid point: 2074.0\n"
          ]
        },
        {
          "data": {
            "application/vnd.jupyter.widget-view+json": {
              "model_id": "05d543610f294bad9b3b837df64488eb",
              "version_major": 2,
              "version_minor": 0
            },
            "text/plain": [
              "Validation: |          | 0/? [00:00<?, ?it/s]"
            ]
          },
          "metadata": {},
          "output_type": "display_data"
        },
        {
          "name": "stderr",
          "output_type": "stream",
          "text": [
            "Epoch 415, global step 2080: 'val_dice' was not in top 1\n"
          ]
        },
        {
          "name": "stdout",
          "output_type": "stream",
          "text": [
            "current epoch: 415 current mean dice: 0.4976 current mean iou: 0.6684\n",
            "best mean dice: 0.7416 at epoch: 372\n",
            "[neptune] [error  ] Error occurred during asynchronous operation processing: X-coordinates (step) must be strictly increasing for series attribute: training/epoch. Invalid point: 2079.0\n"
          ]
        },
        {
          "data": {
            "application/vnd.jupyter.widget-view+json": {
              "model_id": "491e037c24a6480f893e457837a0f7ba",
              "version_major": 2,
              "version_minor": 0
            },
            "text/plain": [
              "Validation: |          | 0/? [00:00<?, ?it/s]"
            ]
          },
          "metadata": {},
          "output_type": "display_data"
        },
        {
          "name": "stderr",
          "output_type": "stream",
          "text": [
            "Epoch 416, global step 2085: 'val_dice' was not in top 1\n"
          ]
        },
        {
          "name": "stdout",
          "output_type": "stream",
          "text": [
            "current epoch: 416 current mean dice: 0.5068 current mean iou: 0.6729\n",
            "best mean dice: 0.7416 at epoch: 372\n",
            "[neptune] [error  ] Error occurred during asynchronous operation processing: X-coordinates (step) must be strictly increasing for series attribute: training/epoch. Invalid point: 2084.0\n"
          ]
        },
        {
          "data": {
            "application/vnd.jupyter.widget-view+json": {
              "model_id": "be7b27b4997647169a6818fd10a07828",
              "version_major": 2,
              "version_minor": 0
            },
            "text/plain": [
              "Validation: |          | 0/? [00:00<?, ?it/s]"
            ]
          },
          "metadata": {},
          "output_type": "display_data"
        },
        {
          "name": "stderr",
          "output_type": "stream",
          "text": [
            "Epoch 417, global step 2090: 'val_dice' was not in top 1\n"
          ]
        },
        {
          "name": "stdout",
          "output_type": "stream",
          "text": [
            "current epoch: 417 current mean dice: 0.3409 current mean iou: 0.6033\n",
            "best mean dice: 0.7416 at epoch: 372\n",
            "[neptune] [error  ] Error occurred during asynchronous operation processing: X-coordinates (step) must be strictly increasing for series attribute: training/epoch. Invalid point: 2089.0\n"
          ]
        },
        {
          "data": {
            "application/vnd.jupyter.widget-view+json": {
              "model_id": "85565cc3f03c4f81921219ecb49f95a6",
              "version_major": 2,
              "version_minor": 0
            },
            "text/plain": [
              "Validation: |          | 0/? [00:00<?, ?it/s]"
            ]
          },
          "metadata": {},
          "output_type": "display_data"
        },
        {
          "name": "stderr",
          "output_type": "stream",
          "text": [
            "Epoch 418, global step 2095: 'val_dice' was not in top 1\n"
          ]
        },
        {
          "name": "stdout",
          "output_type": "stream",
          "text": [
            "current epoch: 418 current mean dice: 0.3785 current mean iou: 0.6185\n",
            "best mean dice: 0.7416 at epoch: 372\n",
            "[neptune] [error  ] Error occurred during asynchronous operation processing: X-coordinates (step) must be strictly increasing for series attribute: training/epoch. Invalid point: 2094.0\n"
          ]
        },
        {
          "data": {
            "application/vnd.jupyter.widget-view+json": {
              "model_id": "70c05d7221d543d4bbef1b8db910b530",
              "version_major": 2,
              "version_minor": 0
            },
            "text/plain": [
              "Validation: |          | 0/? [00:00<?, ?it/s]"
            ]
          },
          "metadata": {},
          "output_type": "display_data"
        },
        {
          "name": "stderr",
          "output_type": "stream",
          "text": [
            "Epoch 419, global step 2100: 'val_dice' was not in top 1\n"
          ]
        },
        {
          "name": "stdout",
          "output_type": "stream",
          "text": [
            "current epoch: 419 current mean dice: 0.4745 current mean iou: 0.6606\n",
            "best mean dice: 0.7416 at epoch: 372\n",
            "[neptune] [error  ] Error occurred during asynchronous operation processing: X-coordinates (step) must be strictly increasing for series attribute: training/epoch. Invalid point: 2099.0\n"
          ]
        },
        {
          "data": {
            "application/vnd.jupyter.widget-view+json": {
              "model_id": "2736c1e5c9ac4e6297bc376463f8971e",
              "version_major": 2,
              "version_minor": 0
            },
            "text/plain": [
              "Validation: |          | 0/? [00:00<?, ?it/s]"
            ]
          },
          "metadata": {},
          "output_type": "display_data"
        },
        {
          "name": "stderr",
          "output_type": "stream",
          "text": [
            "Epoch 420, global step 2105: 'val_dice' was not in top 1\n"
          ]
        },
        {
          "name": "stdout",
          "output_type": "stream",
          "text": [
            "current epoch: 420 current mean dice: 0.5655 current mean iou: 0.7048\n",
            "best mean dice: 0.7416 at epoch: 372\n",
            "[neptune] [error  ] Error occurred during asynchronous operation processing: X-coordinates (step) must be strictly increasing for series attribute: training/epoch. Invalid point: 2104.0\n"
          ]
        },
        {
          "data": {
            "application/vnd.jupyter.widget-view+json": {
              "model_id": "cdd2977394b74268888f91f0a5cc8366",
              "version_major": 2,
              "version_minor": 0
            },
            "text/plain": [
              "Validation: |          | 0/? [00:00<?, ?it/s]"
            ]
          },
          "metadata": {},
          "output_type": "display_data"
        },
        {
          "name": "stderr",
          "output_type": "stream",
          "text": [
            "Epoch 421, global step 2110: 'val_dice' was not in top 1\n"
          ]
        },
        {
          "name": "stdout",
          "output_type": "stream",
          "text": [
            "current epoch: 421 current mean dice: 0.6365 current mean iou: 0.7386\n",
            "best mean dice: 0.7416 at epoch: 372\n",
            "[neptune] [error  ] Error occurred during asynchronous operation processing: X-coordinates (step) must be strictly increasing for series attribute: training/epoch. Invalid point: 2109.0\n"
          ]
        },
        {
          "data": {
            "application/vnd.jupyter.widget-view+json": {
              "model_id": "f3a962390812449699a84eb043976ece",
              "version_major": 2,
              "version_minor": 0
            },
            "text/plain": [
              "Validation: |          | 0/? [00:00<?, ?it/s]"
            ]
          },
          "metadata": {},
          "output_type": "display_data"
        },
        {
          "name": "stderr",
          "output_type": "stream",
          "text": [
            "Epoch 422, global step 2115: 'val_dice' was not in top 1\n"
          ]
        },
        {
          "name": "stdout",
          "output_type": "stream",
          "text": [
            "current epoch: 422 current mean dice: 0.6014 current mean iou: 0.7203\n",
            "best mean dice: 0.7416 at epoch: 372\n",
            "[neptune] [error  ] Error occurred during asynchronous operation processing: X-coordinates (step) must be strictly increasing for series attribute: training/epoch. Invalid point: 2114.0\n"
          ]
        },
        {
          "data": {
            "application/vnd.jupyter.widget-view+json": {
              "model_id": "c7988f497908492c885ddae4b02f730b",
              "version_major": 2,
              "version_minor": 0
            },
            "text/plain": [
              "Validation: |          | 0/? [00:00<?, ?it/s]"
            ]
          },
          "metadata": {},
          "output_type": "display_data"
        },
        {
          "name": "stderr",
          "output_type": "stream",
          "text": [
            "Epoch 423, global step 2120: 'val_dice' was not in top 1\n"
          ]
        },
        {
          "name": "stdout",
          "output_type": "stream",
          "text": [
            "current epoch: 423 current mean dice: 0.5416 current mean iou: 0.6911\n",
            "best mean dice: 0.7416 at epoch: 372\n",
            "[neptune] [error  ] Error occurred during asynchronous operation processing: X-coordinates (step) must be strictly increasing for series attribute: training/epoch. Invalid point: 2119.0\n"
          ]
        },
        {
          "data": {
            "application/vnd.jupyter.widget-view+json": {
              "model_id": "f9c9f400c246439bad024f2be48f2a94",
              "version_major": 2,
              "version_minor": 0
            },
            "text/plain": [
              "Validation: |          | 0/? [00:00<?, ?it/s]"
            ]
          },
          "metadata": {},
          "output_type": "display_data"
        },
        {
          "name": "stderr",
          "output_type": "stream",
          "text": [
            "Epoch 424, global step 2125: 'val_dice' was not in top 1\n"
          ]
        },
        {
          "name": "stdout",
          "output_type": "stream",
          "text": [
            "current epoch: 424 current mean dice: 0.4977 current mean iou: 0.6707\n",
            "best mean dice: 0.7416 at epoch: 372\n",
            "[neptune] [error  ] Error occurred during asynchronous operation processing: X-coordinates (step) must be strictly increasing for series attribute: training/epoch. Invalid point: 2124.0\n"
          ]
        },
        {
          "data": {
            "application/vnd.jupyter.widget-view+json": {
              "model_id": "784f2041c20f48a4a245eb1b5c878b10",
              "version_major": 2,
              "version_minor": 0
            },
            "text/plain": [
              "Validation: |          | 0/? [00:00<?, ?it/s]"
            ]
          },
          "metadata": {},
          "output_type": "display_data"
        },
        {
          "name": "stderr",
          "output_type": "stream",
          "text": [
            "Epoch 425, global step 2130: 'val_dice' was not in top 1\n"
          ]
        },
        {
          "name": "stdout",
          "output_type": "stream",
          "text": [
            "current epoch: 425 current mean dice: 0.5500 current mean iou: 0.6958\n",
            "best mean dice: 0.7416 at epoch: 372\n",
            "[neptune] [error  ] Error occurred during asynchronous operation processing: X-coordinates (step) must be strictly increasing for series attribute: training/epoch. Invalid point: 2129.0\n"
          ]
        },
        {
          "data": {
            "application/vnd.jupyter.widget-view+json": {
              "model_id": "94746bc0956548fcadb6b7b1bbb21078",
              "version_major": 2,
              "version_minor": 0
            },
            "text/plain": [
              "Validation: |          | 0/? [00:00<?, ?it/s]"
            ]
          },
          "metadata": {},
          "output_type": "display_data"
        },
        {
          "name": "stderr",
          "output_type": "stream",
          "text": [
            "Epoch 426, global step 2135: 'val_dice' was not in top 1\n"
          ]
        },
        {
          "name": "stdout",
          "output_type": "stream",
          "text": [
            "current epoch: 426 current mean dice: 0.5939 current mean iou: 0.7178\n",
            "best mean dice: 0.7416 at epoch: 372\n",
            "[neptune] [error  ] Error occurred during asynchronous operation processing: X-coordinates (step) must be strictly increasing for series attribute: training/epoch. Invalid point: 2134.0\n"
          ]
        },
        {
          "data": {
            "application/vnd.jupyter.widget-view+json": {
              "model_id": "e9970c55a8df44daabd53b4ca12c34f2",
              "version_major": 2,
              "version_minor": 0
            },
            "text/plain": [
              "Validation: |          | 0/? [00:00<?, ?it/s]"
            ]
          },
          "metadata": {},
          "output_type": "display_data"
        },
        {
          "name": "stderr",
          "output_type": "stream",
          "text": [
            "Epoch 427, global step 2140: 'val_dice' was not in top 1\n"
          ]
        },
        {
          "name": "stdout",
          "output_type": "stream",
          "text": [
            "current epoch: 427 current mean dice: 0.6192 current mean iou: 0.7312\n",
            "best mean dice: 0.7416 at epoch: 372\n",
            "[neptune] [error  ] Error occurred during asynchronous operation processing: X-coordinates (step) must be strictly increasing for series attribute: training/epoch. Invalid point: 2139.0\n"
          ]
        },
        {
          "data": {
            "application/vnd.jupyter.widget-view+json": {
              "model_id": "a706e4be97ad433684cb2032207691d0",
              "version_major": 2,
              "version_minor": 0
            },
            "text/plain": [
              "Validation: |          | 0/? [00:00<?, ?it/s]"
            ]
          },
          "metadata": {},
          "output_type": "display_data"
        },
        {
          "name": "stderr",
          "output_type": "stream",
          "text": [
            "Epoch 428, global step 2145: 'val_dice' was not in top 1\n"
          ]
        },
        {
          "name": "stdout",
          "output_type": "stream",
          "text": [
            "current epoch: 428 current mean dice: 0.6714 current mean iou: 0.7568\n",
            "best mean dice: 0.7416 at epoch: 372\n",
            "[neptune] [error  ] Error occurred during asynchronous operation processing: X-coordinates (step) must be strictly increasing for series attribute: training/epoch. Invalid point: 2144.0\n"
          ]
        },
        {
          "data": {
            "application/vnd.jupyter.widget-view+json": {
              "model_id": "0c8c9d2088be44d7b3f8b6a79b5c346a",
              "version_major": 2,
              "version_minor": 0
            },
            "text/plain": [
              "Validation: |          | 0/? [00:00<?, ?it/s]"
            ]
          },
          "metadata": {},
          "output_type": "display_data"
        },
        {
          "name": "stderr",
          "output_type": "stream",
          "text": [
            "Epoch 429, global step 2150: 'val_dice' was not in top 1\n"
          ]
        },
        {
          "name": "stdout",
          "output_type": "stream",
          "text": [
            "current epoch: 429 current mean dice: 0.6561 current mean iou: 0.7484\n",
            "best mean dice: 0.7416 at epoch: 372\n",
            "[neptune] [error  ] Error occurred during asynchronous operation processing: X-coordinates (step) must be strictly increasing for series attribute: training/epoch. Invalid point: 2149.0\n"
          ]
        },
        {
          "data": {
            "application/vnd.jupyter.widget-view+json": {
              "model_id": "e302560cbeb2467c82261aab274dc6d9",
              "version_major": 2,
              "version_minor": 0
            },
            "text/plain": [
              "Validation: |          | 0/? [00:00<?, ?it/s]"
            ]
          },
          "metadata": {},
          "output_type": "display_data"
        },
        {
          "name": "stderr",
          "output_type": "stream",
          "text": [
            "/home/pawel/Documents/RISA/3D_segmentation/.venv/lib/python3.10/site-packages/pytorch_lightning/trainer/call.py:54: Detected KeyboardInterrupt, attempting graceful shutdown...\n"
          ]
        }
      ],
      "source": [
        "# initialise the LightningModule\n",
        "# net = Net1Q\n",
        "# net = Net2Q\n",
        "# net = Net_segment\n",
        "net = NetWhole\n",
        "# set up loggers and checkpoints\n",
        "log_dir = os.path.join(root_dir, \"logs\")\n",
        "\n",
        "# initialise Lightning's trainer.\n",
        "trainer = pytorch_lightning.Trainer(\n",
        "    devices=[0],\n",
        "    max_epochs=600,\n",
        "    logger=neptune_logger,\n",
        "    enable_checkpointing=True,\n",
        "    callbacks=[checkpoint_callback],\n",
        "    num_sanity_val_steps=1,\n",
        "    log_every_n_steps=16,\n",
        ")\n",
        "# train\n",
        "trainer.fit(net)"
      ]
    },
    {
      "cell_type": "code",
      "execution_count": null,
      "metadata": {
        "id": "2TucnezFI0vR",
        "outputId": "4e0a75d6-eb09-4989-bb2b-a2c6b1388edf",
        "tags": []
      },
      "outputs": [],
      "source": [
        "print(f\"train completed, best_metric: {net.best_val_dice:.4f} \" f\"at epoch {net.best_val_epoch}\")"
      ]
    },
    {
      "cell_type": "code",
      "execution_count": null,
      "metadata": {},
      "outputs": [],
      "source": [
        "import torch\n",
        "from monai.networks.nets import UNet\n",
        "\n",
        "\n",
        "# Load the model weights from the checkpoint file\n",
        "checkpoint_path = 'best-checkpoint.ckpt'\n",
        "model = Net1Q.load_from_checkpoint('1Q_clipped_resized128_128_144_roibest_metric: 0.2797 at epoch 495.ckpt', mode = '1Q', roi_size=(160*2, 160, 160), spatial_size=(160*2, 160, 160))\n",
        "\n",
        "# Set the model to evaluation mode\n",
        "model.eval()\n"
      ]
    },
    {
      "cell_type": "markdown",
      "metadata": {},
      "source": [
        "## Model Ensembling"
      ]
    },
    {
      "cell_type": "markdown",
      "metadata": {
        "id": "cba0TIqDI0vR"
      },
      "source": [
        "## View training in tensorboard\n",
        "\n",
        "Please uncomment the following cell to load tensorboard results."
      ]
    },
    {
      "cell_type": "code",
      "execution_count": null,
      "metadata": {
        "id": "dteU4yMVI0vR",
        "outputId": "8aa4354d-4d1a-4e57-d50e-d9a6eb88db5f"
      },
      "outputs": [],
      "source": [
        "%load_ext tensorboard\n",
        "%tensorboard --logdir=$log_dir"
      ]
    },
    {
      "cell_type": "markdown",
      "metadata": {
        "id": "KtDZoq7ZI0vS"
      },
      "source": [
        "## Load model and create prediction files"
      ]
    },
    {
      "cell_type": "code",
      "execution_count": null,
      "metadata": {},
      "outputs": [
        {
          "name": "stdout",
          "output_type": "stream",
          "text": [
            "['dataset/scan_patched_4/left_upper/0_left_upper_CT_HR.nii.gz', 'dataset/scan_patched_4/left_upper/10_left_upper_CT_HR.nii.gz', 'dataset/scan_patched_4/left_upper/11_left_upper_CT_HR.nii.gz', 'dataset/scan_patched_4/left_upper/12_left_upper_CT_HR.nii.gz', 'dataset/scan_patched_4/left_upper/13_left_upper_CT_HR.nii.gz', 'dataset/scan_patched_4/left_upper/14_left_upper_CT_HR.nii.gz', 'dataset/scan_patched_4/left_upper/15_left_upper_CT_HR.nii.gz', 'dataset/scan_patched_4/left_upper/16_left_upper_CT_HR.nii.gz', 'dataset/scan_patched_4/left_upper/17_left_upper_CT_HR.nii.gz', 'dataset/scan_patched_4/left_upper/18_left_upper_CT_HR.nii.gz', 'dataset/scan_patched_4/left_upper/19_left_upper_CT_HR.nii.gz', 'dataset/scan_patched_4/left_upper/1_left_upper_CT_HR.nii.gz', 'dataset/scan_patched_4/left_upper/20_left_upper_CT_HR.nii.gz', 'dataset/scan_patched_4/left_upper/21_left_upper_CT_HR.nii.gz', 'dataset/scan_patched_4/left_upper/22_left_upper_CT_HR.nii.gz', 'dataset/scan_patched_4/left_upper/23_left_upper_CT_HR.nii.gz', 'dataset/scan_patched_4/left_upper/24_left_upper_CT_HR.nii.gz', 'dataset/scan_patched_4/left_upper/25_left_upper_CT_HR.nii.gz', 'dataset/scan_patched_4/left_upper/26_left_upper_CT_HR.nii.gz', 'dataset/scan_patched_4/left_upper/2_left_upper_CT_HR.nii.gz', 'dataset/scan_patched_4/left_upper/3_left_upper_CT_HR.nii.gz', 'dataset/scan_patched_4/left_upper/4_left_upper_CT_HR.nii.gz', 'dataset/scan_patched_4/left_upper/5_left_upper_CT_HR.nii.gz', 'dataset/scan_patched_4/left_upper/6_left_upper_CT_HR.nii.gz', 'dataset/scan_patched_4/left_upper/7_left_upper_CT_HR.nii.gz', 'dataset/scan_patched_4/left_upper/8_left_upper_CT_HR.nii.gz', 'dataset/scan_patched_4/left_upper/9_left_upper_CT_HR.nii.gz']\n"
          ]
        },
        {
          "name": "stderr",
          "output_type": "stream",
          "text": [
            "Loading dataset: 100%|██████████| 9/9 [00:10<00:00,  1.14s/it]\n"
          ]
        },
        {
          "name": "stdout",
          "output_type": "stream",
          "text": [
            "['dataset/scan_patched_4/left_bottom/0_left_bottom_CT_HR.nii.gz', 'dataset/scan_patched_4/left_bottom/10_left_bottom_CT_HR.nii.gz', 'dataset/scan_patched_4/left_bottom/11_left_bottom_CT_HR.nii.gz', 'dataset/scan_patched_4/left_bottom/12_left_bottom_CT_HR.nii.gz', 'dataset/scan_patched_4/left_bottom/13_left_bottom_CT_HR.nii.gz', 'dataset/scan_patched_4/left_bottom/14_left_bottom_CT_HR.nii.gz', 'dataset/scan_patched_4/left_bottom/15_left_bottom_CT_HR.nii.gz', 'dataset/scan_patched_4/left_bottom/16_left_bottom_CT_HR.nii.gz', 'dataset/scan_patched_4/left_bottom/17_left_bottom_CT_HR.nii.gz', 'dataset/scan_patched_4/left_bottom/18_left_bottom_CT_HR.nii.gz', 'dataset/scan_patched_4/left_bottom/19_left_bottom_CT_HR.nii.gz', 'dataset/scan_patched_4/left_bottom/1_left_bottom_CT_HR.nii.gz', 'dataset/scan_patched_4/left_bottom/20_left_bottom_CT_HR.nii.gz', 'dataset/scan_patched_4/left_bottom/21_left_bottom_CT_HR.nii.gz', 'dataset/scan_patched_4/left_bottom/22_left_bottom_CT_HR.nii.gz', 'dataset/scan_patched_4/left_bottom/23_left_bottom_CT_HR.nii.gz', 'dataset/scan_patched_4/left_bottom/24_left_bottom_CT_HR.nii.gz', 'dataset/scan_patched_4/left_bottom/25_left_bottom_CT_HR.nii.gz', 'dataset/scan_patched_4/left_bottom/26_left_bottom_CT_HR.nii.gz', 'dataset/scan_patched_4/left_bottom/2_left_bottom_CT_HR.nii.gz', 'dataset/scan_patched_4/left_bottom/3_left_bottom_CT_HR.nii.gz', 'dataset/scan_patched_4/left_bottom/4_left_bottom_CT_HR.nii.gz', 'dataset/scan_patched_4/left_bottom/5_left_bottom_CT_HR.nii.gz', 'dataset/scan_patched_4/left_bottom/6_left_bottom_CT_HR.nii.gz', 'dataset/scan_patched_4/left_bottom/7_left_bottom_CT_HR.nii.gz', 'dataset/scan_patched_4/left_bottom/8_left_bottom_CT_HR.nii.gz', 'dataset/scan_patched_4/left_bottom/9_left_bottom_CT_HR.nii.gz']\n"
          ]
        },
        {
          "name": "stderr",
          "output_type": "stream",
          "text": [
            "Loading dataset: 100%|██████████| 9/9 [00:05<00:00,  1.69it/s]\n"
          ]
        },
        {
          "name": "stdout",
          "output_type": "stream",
          "text": [
            "['dataset/scan_patched_4/right_bottom/0_right_bottom_CT_HR.nii.gz', 'dataset/scan_patched_4/right_bottom/10_right_bottom_CT_HR.nii.gz', 'dataset/scan_patched_4/right_bottom/11_right_bottom_CT_HR.nii.gz', 'dataset/scan_patched_4/right_bottom/12_right_bottom_CT_HR.nii.gz', 'dataset/scan_patched_4/right_bottom/13_right_bottom_CT_HR.nii.gz', 'dataset/scan_patched_4/right_bottom/14_right_bottom_CT_HR.nii.gz', 'dataset/scan_patched_4/right_bottom/15_right_bottom_CT_HR.nii.gz', 'dataset/scan_patched_4/right_bottom/16_right_bottom_CT_HR.nii.gz', 'dataset/scan_patched_4/right_bottom/17_right_bottom_CT_HR.nii.gz', 'dataset/scan_patched_4/right_bottom/18_right_bottom_CT_HR.nii.gz', 'dataset/scan_patched_4/right_bottom/19_right_bottom_CT_HR.nii.gz', 'dataset/scan_patched_4/right_bottom/1_right_bottom_CT_HR.nii.gz', 'dataset/scan_patched_4/right_bottom/20_right_bottom_CT_HR.nii.gz', 'dataset/scan_patched_4/right_bottom/21_right_bottom_CT_HR.nii.gz', 'dataset/scan_patched_4/right_bottom/22_right_bottom_CT_HR.nii.gz', 'dataset/scan_patched_4/right_bottom/23_right_bottom_CT_HR.nii.gz', 'dataset/scan_patched_4/right_bottom/24_right_bottom_CT_HR.nii.gz', 'dataset/scan_patched_4/right_bottom/25_right_bottom_CT_HR.nii.gz', 'dataset/scan_patched_4/right_bottom/26_right_bottom_CT_HR.nii.gz', 'dataset/scan_patched_4/right_bottom/2_right_bottom_CT_HR.nii.gz', 'dataset/scan_patched_4/right_bottom/3_right_bottom_CT_HR.nii.gz', 'dataset/scan_patched_4/right_bottom/4_right_bottom_CT_HR.nii.gz', 'dataset/scan_patched_4/right_bottom/5_right_bottom_CT_HR.nii.gz', 'dataset/scan_patched_4/right_bottom/6_right_bottom_CT_HR.nii.gz', 'dataset/scan_patched_4/right_bottom/7_right_bottom_CT_HR.nii.gz', 'dataset/scan_patched_4/right_bottom/8_right_bottom_CT_HR.nii.gz', 'dataset/scan_patched_4/right_bottom/9_right_bottom_CT_HR.nii.gz']\n"
          ]
        },
        {
          "name": "stderr",
          "output_type": "stream",
          "text": [
            "Loading dataset: 100%|██████████| 9/9 [00:05<00:00,  1.72it/s]\n"
          ]
        },
        {
          "name": "stdout",
          "output_type": "stream",
          "text": [
            "['dataset/scan_patched_4/right_upper/0_right_upper_CT_HR.nii.gz', 'dataset/scan_patched_4/right_upper/10_right_upper_CT_HR.nii.gz', 'dataset/scan_patched_4/right_upper/11_right_upper_CT_HR.nii.gz', 'dataset/scan_patched_4/right_upper/12_right_upper_CT_HR.nii.gz', 'dataset/scan_patched_4/right_upper/13_right_upper_CT_HR.nii.gz', 'dataset/scan_patched_4/right_upper/14_right_upper_CT_HR.nii.gz', 'dataset/scan_patched_4/right_upper/15_right_upper_CT_HR.nii.gz', 'dataset/scan_patched_4/right_upper/16_right_upper_CT_HR.nii.gz', 'dataset/scan_patched_4/right_upper/17_right_upper_CT_HR.nii.gz', 'dataset/scan_patched_4/right_upper/18_right_upper_CT_HR.nii.gz', 'dataset/scan_patched_4/right_upper/19_right_upper_CT_HR.nii.gz', 'dataset/scan_patched_4/right_upper/1_right_upper_CT_HR.nii.gz', 'dataset/scan_patched_4/right_upper/20_right_upper_CT_HR.nii.gz', 'dataset/scan_patched_4/right_upper/21_right_upper_CT_HR.nii.gz', 'dataset/scan_patched_4/right_upper/22_right_upper_CT_HR.nii.gz', 'dataset/scan_patched_4/right_upper/23_right_upper_CT_HR.nii.gz', 'dataset/scan_patched_4/right_upper/24_right_upper_CT_HR.nii.gz', 'dataset/scan_patched_4/right_upper/25_right_upper_CT_HR.nii.gz', 'dataset/scan_patched_4/right_upper/26_right_upper_CT_HR.nii.gz', 'dataset/scan_patched_4/right_upper/2_right_upper_CT_HR.nii.gz', 'dataset/scan_patched_4/right_upper/3_right_upper_CT_HR.nii.gz', 'dataset/scan_patched_4/right_upper/4_right_upper_CT_HR.nii.gz', 'dataset/scan_patched_4/right_upper/5_right_upper_CT_HR.nii.gz', 'dataset/scan_patched_4/right_upper/6_right_upper_CT_HR.nii.gz', 'dataset/scan_patched_4/right_upper/7_right_upper_CT_HR.nii.gz', 'dataset/scan_patched_4/right_upper/8_right_upper_CT_HR.nii.gz', 'dataset/scan_patched_4/right_upper/9_right_upper_CT_HR.nii.gz']\n"
          ]
        },
        {
          "name": "stderr",
          "output_type": "stream",
          "text": [
            "Loading dataset: 100%|██████████| 9/9 [00:05<00:00,  1.72it/s]\n"
          ]
        },
        {
          "name": "stdout",
          "output_type": "stream",
          "text": [
            "['AeroPath/1/1_CT_HR.nii.gz', 'AeroPath/10/10_CT_HR.nii.gz', 'AeroPath/11/11_CT_HR.nii.gz', 'AeroPath/12/12_CT_HR.nii.gz', 'AeroPath/13/13_CT_HR.nii.gz', 'AeroPath/14/14_CT_HR.nii.gz', 'AeroPath/15/15_CT_HR.nii.gz', 'AeroPath/16/16_CT_HR.nii.gz', 'AeroPath/17/17_CT_HR.nii.gz', 'AeroPath/18/18_CT_HR.nii.gz', 'AeroPath/19/19_CT_HR.nii.gz', 'AeroPath/2/2_CT_HR.nii.gz', 'AeroPath/20/20_CT_HR.nii.gz', 'AeroPath/21/21_CT_HR.nii.gz', 'AeroPath/22/22_CT_HR.nii.gz', 'AeroPath/23/23_CT_HR.nii.gz', 'AeroPath/24/24_CT_HR.nii.gz', 'AeroPath/25/25_CT_HR.nii.gz', 'AeroPath/26/26_CT_HR.nii.gz', 'AeroPath/27/27_CT_HR.nii.gz', 'AeroPath/3/3_CT_HR.nii.gz', 'AeroPath/4/4_CT_HR.nii.gz', 'AeroPath/5/5_CT_HR.nii.gz', 'AeroPath/6/6_CT_HR.nii.gz', 'AeroPath/7/7_CT_HR.nii.gz', 'AeroPath/8/8_CT_HR.nii.gz', 'AeroPath/9/9_CT_HR.nii.gz', 'dataset/airways_patched_4/left_bottom/0_left_bottom_CT_HR.nii.gz', 'dataset/airways_patched_4/left_bottom/10_left_bottom_CT_HR.nii.gz', 'dataset/airways_patched_4/left_bottom/11_left_bottom_CT_HR.nii.gz', 'dataset/airways_patched_4/left_bottom/12_left_bottom_CT_HR.nii.gz', 'dataset/airways_patched_4/left_bottom/13_left_bottom_CT_HR.nii.gz', 'dataset/airways_patched_4/left_bottom/14_left_bottom_CT_HR.nii.gz', 'dataset/airways_patched_4/left_bottom/15_left_bottom_CT_HR.nii.gz', 'dataset/airways_patched_4/left_bottom/16_left_bottom_CT_HR.nii.gz', 'dataset/airways_patched_4/left_bottom/17_left_bottom_CT_HR.nii.gz', 'dataset/airways_patched_4/left_bottom/18_left_bottom_CT_HR.nii.gz', 'dataset/airways_patched_4/left_bottom/19_left_bottom_CT_HR.nii.gz', 'dataset/airways_patched_4/left_bottom/1_left_bottom_CT_HR.nii.gz', 'dataset/airways_patched_4/left_bottom/20_left_bottom_CT_HR.nii.gz', 'dataset/airways_patched_4/left_bottom/21_left_bottom_CT_HR.nii.gz', 'dataset/airways_patched_4/left_bottom/22_left_bottom_CT_HR.nii.gz', 'dataset/airways_patched_4/left_bottom/23_left_bottom_CT_HR.nii.gz', 'dataset/airways_patched_4/left_bottom/24_left_bottom_CT_HR.nii.gz', 'dataset/airways_patched_4/left_bottom/25_left_bottom_CT_HR.nii.gz', 'dataset/airways_patched_4/left_bottom/26_left_bottom_CT_HR.nii.gz', 'dataset/airways_patched_4/left_bottom/2_left_bottom_CT_HR.nii.gz', 'dataset/airways_patched_4/left_bottom/3_left_bottom_CT_HR.nii.gz', 'dataset/airways_patched_4/left_bottom/4_left_bottom_CT_HR.nii.gz', 'dataset/airways_patched_4/left_bottom/5_left_bottom_CT_HR.nii.gz', 'dataset/airways_patched_4/left_bottom/6_left_bottom_CT_HR.nii.gz', 'dataset/airways_patched_4/left_bottom/7_left_bottom_CT_HR.nii.gz', 'dataset/airways_patched_4/left_bottom/8_left_bottom_CT_HR.nii.gz', 'dataset/airways_patched_4/left_bottom/9_left_bottom_CT_HR.nii.gz', 'dataset/airways_patched_4/left_upper/0_left_upper_CT_HR.nii.gz', 'dataset/airways_patched_4/left_upper/10_left_upper_CT_HR.nii.gz', 'dataset/airways_patched_4/left_upper/11_left_upper_CT_HR.nii.gz', 'dataset/airways_patched_4/left_upper/12_left_upper_CT_HR.nii.gz', 'dataset/airways_patched_4/left_upper/13_left_upper_CT_HR.nii.gz', 'dataset/airways_patched_4/left_upper/14_left_upper_CT_HR.nii.gz', 'dataset/airways_patched_4/left_upper/15_left_upper_CT_HR.nii.gz', 'dataset/airways_patched_4/left_upper/16_left_upper_CT_HR.nii.gz', 'dataset/airways_patched_4/left_upper/17_left_upper_CT_HR.nii.gz', 'dataset/airways_patched_4/left_upper/18_left_upper_CT_HR.nii.gz', 'dataset/airways_patched_4/left_upper/19_left_upper_CT_HR.nii.gz', 'dataset/airways_patched_4/left_upper/1_left_upper_CT_HR.nii.gz', 'dataset/airways_patched_4/left_upper/20_left_upper_CT_HR.nii.gz', 'dataset/airways_patched_4/left_upper/21_left_upper_CT_HR.nii.gz', 'dataset/airways_patched_4/left_upper/22_left_upper_CT_HR.nii.gz', 'dataset/airways_patched_4/left_upper/23_left_upper_CT_HR.nii.gz', 'dataset/airways_patched_4/left_upper/24_left_upper_CT_HR.nii.gz', 'dataset/airways_patched_4/left_upper/25_left_upper_CT_HR.nii.gz', 'dataset/airways_patched_4/left_upper/26_left_upper_CT_HR.nii.gz', 'dataset/airways_patched_4/left_upper/2_left_upper_CT_HR.nii.gz', 'dataset/airways_patched_4/left_upper/3_left_upper_CT_HR.nii.gz', 'dataset/airways_patched_4/left_upper/4_left_upper_CT_HR.nii.gz', 'dataset/airways_patched_4/left_upper/5_left_upper_CT_HR.nii.gz', 'dataset/airways_patched_4/left_upper/6_left_upper_CT_HR.nii.gz', 'dataset/airways_patched_4/left_upper/7_left_upper_CT_HR.nii.gz', 'dataset/airways_patched_4/left_upper/8_left_upper_CT_HR.nii.gz', 'dataset/airways_patched_4/left_upper/9_left_upper_CT_HR.nii.gz', 'dataset/airways_patched_4/right_bottom/0_right_bottom_CT_HR.nii.gz', 'dataset/airways_patched_4/right_bottom/10_right_bottom_CT_HR.nii.gz', 'dataset/airways_patched_4/right_bottom/11_right_bottom_CT_HR.nii.gz', 'dataset/airways_patched_4/right_bottom/12_right_bottom_CT_HR.nii.gz', 'dataset/airways_patched_4/right_bottom/13_right_bottom_CT_HR.nii.gz', 'dataset/airways_patched_4/right_bottom/14_right_bottom_CT_HR.nii.gz', 'dataset/airways_patched_4/right_bottom/15_right_bottom_CT_HR.nii.gz', 'dataset/airways_patched_4/right_bottom/16_right_bottom_CT_HR.nii.gz', 'dataset/airways_patched_4/right_bottom/17_right_bottom_CT_HR.nii.gz', 'dataset/airways_patched_4/right_bottom/18_right_bottom_CT_HR.nii.gz', 'dataset/airways_patched_4/right_bottom/19_right_bottom_CT_HR.nii.gz', 'dataset/airways_patched_4/right_bottom/1_right_bottom_CT_HR.nii.gz', 'dataset/airways_patched_4/right_bottom/20_right_bottom_CT_HR.nii.gz', 'dataset/airways_patched_4/right_bottom/21_right_bottom_CT_HR.nii.gz', 'dataset/airways_patched_4/right_bottom/22_right_bottom_CT_HR.nii.gz', 'dataset/airways_patched_4/right_bottom/23_right_bottom_CT_HR.nii.gz', 'dataset/airways_patched_4/right_bottom/24_right_bottom_CT_HR.nii.gz', 'dataset/airways_patched_4/right_bottom/25_right_bottom_CT_HR.nii.gz', 'dataset/airways_patched_4/right_bottom/26_right_bottom_CT_HR.nii.gz', 'dataset/airways_patched_4/right_bottom/2_right_bottom_CT_HR.nii.gz', 'dataset/airways_patched_4/right_bottom/3_right_bottom_CT_HR.nii.gz', 'dataset/airways_patched_4/right_bottom/4_right_bottom_CT_HR.nii.gz', 'dataset/airways_patched_4/right_bottom/5_right_bottom_CT_HR.nii.gz', 'dataset/airways_patched_4/right_bottom/6_right_bottom_CT_HR.nii.gz', 'dataset/airways_patched_4/right_bottom/7_right_bottom_CT_HR.nii.gz', 'dataset/airways_patched_4/right_bottom/8_right_bottom_CT_HR.nii.gz', 'dataset/airways_patched_4/right_bottom/9_right_bottom_CT_HR.nii.gz', 'dataset/airways_patched_4/right_upper/0_right_upper_CT_HR.nii.gz', 'dataset/airways_patched_4/right_upper/10_right_upper_CT_HR.nii.gz', 'dataset/airways_patched_4/right_upper/11_right_upper_CT_HR.nii.gz', 'dataset/airways_patched_4/right_upper/12_right_upper_CT_HR.nii.gz', 'dataset/airways_patched_4/right_upper/13_right_upper_CT_HR.nii.gz', 'dataset/airways_patched_4/right_upper/14_right_upper_CT_HR.nii.gz', 'dataset/airways_patched_4/right_upper/15_right_upper_CT_HR.nii.gz', 'dataset/airways_patched_4/right_upper/16_right_upper_CT_HR.nii.gz', 'dataset/airways_patched_4/right_upper/17_right_upper_CT_HR.nii.gz', 'dataset/airways_patched_4/right_upper/18_right_upper_CT_HR.nii.gz', 'dataset/airways_patched_4/right_upper/19_right_upper_CT_HR.nii.gz', 'dataset/airways_patched_4/right_upper/1_right_upper_CT_HR.nii.gz', 'dataset/airways_patched_4/right_upper/20_right_upper_CT_HR.nii.gz', 'dataset/airways_patched_4/right_upper/21_right_upper_CT_HR.nii.gz', 'dataset/airways_patched_4/right_upper/22_right_upper_CT_HR.nii.gz', 'dataset/airways_patched_4/right_upper/23_right_upper_CT_HR.nii.gz', 'dataset/airways_patched_4/right_upper/24_right_upper_CT_HR.nii.gz', 'dataset/airways_patched_4/right_upper/25_right_upper_CT_HR.nii.gz', 'dataset/airways_patched_4/right_upper/26_right_upper_CT_HR.nii.gz', 'dataset/airways_patched_4/right_upper/2_right_upper_CT_HR.nii.gz', 'dataset/airways_patched_4/right_upper/3_right_upper_CT_HR.nii.gz', 'dataset/airways_patched_4/right_upper/4_right_upper_CT_HR.nii.gz', 'dataset/airways_patched_4/right_upper/5_right_upper_CT_HR.nii.gz', 'dataset/airways_patched_4/right_upper/6_right_upper_CT_HR.nii.gz', 'dataset/airways_patched_4/right_upper/7_right_upper_CT_HR.nii.gz', 'dataset/airways_patched_4/right_upper/8_right_upper_CT_HR.nii.gz', 'dataset/airways_patched_4/right_upper/9_right_upper_CT_HR.nii.gz', 'dataset/lungs_patched_4/left_bottom/0_left_bottom_CT_HR.nii.gz', 'dataset/lungs_patched_4/left_bottom/10_left_bottom_CT_HR.nii.gz', 'dataset/lungs_patched_4/left_bottom/11_left_bottom_CT_HR.nii.gz', 'dataset/lungs_patched_4/left_bottom/12_left_bottom_CT_HR.nii.gz', 'dataset/lungs_patched_4/left_bottom/13_left_bottom_CT_HR.nii.gz', 'dataset/lungs_patched_4/left_bottom/14_left_bottom_CT_HR.nii.gz', 'dataset/lungs_patched_4/left_bottom/15_left_bottom_CT_HR.nii.gz', 'dataset/lungs_patched_4/left_bottom/16_left_bottom_CT_HR.nii.gz', 'dataset/lungs_patched_4/left_bottom/17_left_bottom_CT_HR.nii.gz', 'dataset/lungs_patched_4/left_bottom/18_left_bottom_CT_HR.nii.gz', 'dataset/lungs_patched_4/left_bottom/19_left_bottom_CT_HR.nii.gz', 'dataset/lungs_patched_4/left_bottom/1_left_bottom_CT_HR.nii.gz', 'dataset/lungs_patched_4/left_bottom/20_left_bottom_CT_HR.nii.gz', 'dataset/lungs_patched_4/left_bottom/21_left_bottom_CT_HR.nii.gz', 'dataset/lungs_patched_4/left_bottom/22_left_bottom_CT_HR.nii.gz', 'dataset/lungs_patched_4/left_bottom/23_left_bottom_CT_HR.nii.gz', 'dataset/lungs_patched_4/left_bottom/24_left_bottom_CT_HR.nii.gz', 'dataset/lungs_patched_4/left_bottom/25_left_bottom_CT_HR.nii.gz', 'dataset/lungs_patched_4/left_bottom/26_left_bottom_CT_HR.nii.gz', 'dataset/lungs_patched_4/left_bottom/2_left_bottom_CT_HR.nii.gz', 'dataset/lungs_patched_4/left_bottom/3_left_bottom_CT_HR.nii.gz', 'dataset/lungs_patched_4/left_bottom/4_left_bottom_CT_HR.nii.gz', 'dataset/lungs_patched_4/left_bottom/5_left_bottom_CT_HR.nii.gz', 'dataset/lungs_patched_4/left_bottom/6_left_bottom_CT_HR.nii.gz', 'dataset/lungs_patched_4/left_bottom/7_left_bottom_CT_HR.nii.gz', 'dataset/lungs_patched_4/left_bottom/8_left_bottom_CT_HR.nii.gz', 'dataset/lungs_patched_4/left_bottom/9_left_bottom_CT_HR.nii.gz', 'dataset/lungs_patched_4/left_upper/0_left_upper_CT_HR.nii.gz', 'dataset/lungs_patched_4/left_upper/10_left_upper_CT_HR.nii.gz', 'dataset/lungs_patched_4/left_upper/11_left_upper_CT_HR.nii.gz', 'dataset/lungs_patched_4/left_upper/12_left_upper_CT_HR.nii.gz', 'dataset/lungs_patched_4/left_upper/13_left_upper_CT_HR.nii.gz', 'dataset/lungs_patched_4/left_upper/14_left_upper_CT_HR.nii.gz', 'dataset/lungs_patched_4/left_upper/15_left_upper_CT_HR.nii.gz', 'dataset/lungs_patched_4/left_upper/16_left_upper_CT_HR.nii.gz', 'dataset/lungs_patched_4/left_upper/17_left_upper_CT_HR.nii.gz', 'dataset/lungs_patched_4/left_upper/18_left_upper_CT_HR.nii.gz', 'dataset/lungs_patched_4/left_upper/19_left_upper_CT_HR.nii.gz', 'dataset/lungs_patched_4/left_upper/1_left_upper_CT_HR.nii.gz', 'dataset/lungs_patched_4/left_upper/20_left_upper_CT_HR.nii.gz', 'dataset/lungs_patched_4/left_upper/21_left_upper_CT_HR.nii.gz', 'dataset/lungs_patched_4/left_upper/22_left_upper_CT_HR.nii.gz', 'dataset/lungs_patched_4/left_upper/23_left_upper_CT_HR.nii.gz', 'dataset/lungs_patched_4/left_upper/24_left_upper_CT_HR.nii.gz', 'dataset/lungs_patched_4/left_upper/25_left_upper_CT_HR.nii.gz', 'dataset/lungs_patched_4/left_upper/26_left_upper_CT_HR.nii.gz', 'dataset/lungs_patched_4/left_upper/2_left_upper_CT_HR.nii.gz', 'dataset/lungs_patched_4/left_upper/3_left_upper_CT_HR.nii.gz', 'dataset/lungs_patched_4/left_upper/4_left_upper_CT_HR.nii.gz', 'dataset/lungs_patched_4/left_upper/5_left_upper_CT_HR.nii.gz', 'dataset/lungs_patched_4/left_upper/6_left_upper_CT_HR.nii.gz', 'dataset/lungs_patched_4/left_upper/7_left_upper_CT_HR.nii.gz', 'dataset/lungs_patched_4/left_upper/8_left_upper_CT_HR.nii.gz', 'dataset/lungs_patched_4/left_upper/9_left_upper_CT_HR.nii.gz', 'dataset/lungs_patched_4/right_bottom/0_right_bottom_CT_HR.nii.gz', 'dataset/lungs_patched_4/right_bottom/10_right_bottom_CT_HR.nii.gz', 'dataset/lungs_patched_4/right_bottom/11_right_bottom_CT_HR.nii.gz', 'dataset/lungs_patched_4/right_bottom/12_right_bottom_CT_HR.nii.gz', 'dataset/lungs_patched_4/right_bottom/13_right_bottom_CT_HR.nii.gz', 'dataset/lungs_patched_4/right_bottom/14_right_bottom_CT_HR.nii.gz', 'dataset/lungs_patched_4/right_bottom/15_right_bottom_CT_HR.nii.gz', 'dataset/lungs_patched_4/right_bottom/16_right_bottom_CT_HR.nii.gz', 'dataset/lungs_patched_4/right_bottom/17_right_bottom_CT_HR.nii.gz', 'dataset/lungs_patched_4/right_bottom/18_right_bottom_CT_HR.nii.gz', 'dataset/lungs_patched_4/right_bottom/19_right_bottom_CT_HR.nii.gz', 'dataset/lungs_patched_4/right_bottom/1_right_bottom_CT_HR.nii.gz', 'dataset/lungs_patched_4/right_bottom/20_right_bottom_CT_HR.nii.gz', 'dataset/lungs_patched_4/right_bottom/21_right_bottom_CT_HR.nii.gz', 'dataset/lungs_patched_4/right_bottom/22_right_bottom_CT_HR.nii.gz', 'dataset/lungs_patched_4/right_bottom/23_right_bottom_CT_HR.nii.gz', 'dataset/lungs_patched_4/right_bottom/24_right_bottom_CT_HR.nii.gz', 'dataset/lungs_patched_4/right_bottom/25_right_bottom_CT_HR.nii.gz', 'dataset/lungs_patched_4/right_bottom/26_right_bottom_CT_HR.nii.gz', 'dataset/lungs_patched_4/right_bottom/2_right_bottom_CT_HR.nii.gz', 'dataset/lungs_patched_4/right_bottom/3_right_bottom_CT_HR.nii.gz', 'dataset/lungs_patched_4/right_bottom/4_right_bottom_CT_HR.nii.gz', 'dataset/lungs_patched_4/right_bottom/5_right_bottom_CT_HR.nii.gz', 'dataset/lungs_patched_4/right_bottom/6_right_bottom_CT_HR.nii.gz', 'dataset/lungs_patched_4/right_bottom/7_right_bottom_CT_HR.nii.gz', 'dataset/lungs_patched_4/right_bottom/8_right_bottom_CT_HR.nii.gz', 'dataset/lungs_patched_4/right_bottom/9_right_bottom_CT_HR.nii.gz', 'dataset/lungs_patched_4/right_upper/0_right_upper_CT_HR.nii.gz', 'dataset/lungs_patched_4/right_upper/10_right_upper_CT_HR.nii.gz', 'dataset/lungs_patched_4/right_upper/11_right_upper_CT_HR.nii.gz', 'dataset/lungs_patched_4/right_upper/12_right_upper_CT_HR.nii.gz', 'dataset/lungs_patched_4/right_upper/13_right_upper_CT_HR.nii.gz', 'dataset/lungs_patched_4/right_upper/14_right_upper_CT_HR.nii.gz', 'dataset/lungs_patched_4/right_upper/15_right_upper_CT_HR.nii.gz', 'dataset/lungs_patched_4/right_upper/16_right_upper_CT_HR.nii.gz', 'dataset/lungs_patched_4/right_upper/17_right_upper_CT_HR.nii.gz', 'dataset/lungs_patched_4/right_upper/18_right_upper_CT_HR.nii.gz', 'dataset/lungs_patched_4/right_upper/19_right_upper_CT_HR.nii.gz', 'dataset/lungs_patched_4/right_upper/1_right_upper_CT_HR.nii.gz', 'dataset/lungs_patched_4/right_upper/20_right_upper_CT_HR.nii.gz', 'dataset/lungs_patched_4/right_upper/21_right_upper_CT_HR.nii.gz', 'dataset/lungs_patched_4/right_upper/22_right_upper_CT_HR.nii.gz', 'dataset/lungs_patched_4/right_upper/23_right_upper_CT_HR.nii.gz', 'dataset/lungs_patched_4/right_upper/24_right_upper_CT_HR.nii.gz', 'dataset/lungs_patched_4/right_upper/25_right_upper_CT_HR.nii.gz', 'dataset/lungs_patched_4/right_upper/26_right_upper_CT_HR.nii.gz', 'dataset/lungs_patched_4/right_upper/2_right_upper_CT_HR.nii.gz', 'dataset/lungs_patched_4/right_upper/3_right_upper_CT_HR.nii.gz', 'dataset/lungs_patched_4/right_upper/4_right_upper_CT_HR.nii.gz', 'dataset/lungs_patched_4/right_upper/5_right_upper_CT_HR.nii.gz', 'dataset/lungs_patched_4/right_upper/6_right_upper_CT_HR.nii.gz', 'dataset/lungs_patched_4/right_upper/7_right_upper_CT_HR.nii.gz', 'dataset/lungs_patched_4/right_upper/8_right_upper_CT_HR.nii.gz', 'dataset/lungs_patched_4/right_upper/9_right_upper_CT_HR.nii.gz', 'dataset/scan_cut/10_CT_HR.nii.gz', 'dataset/scan_cut/11_CT_HR.nii.gz', 'dataset/scan_cut/12_CT_HR.nii.gz', 'dataset/scan_cut/13_CT_HR.nii.gz', 'dataset/scan_cut/14_CT_HR.nii.gz', 'dataset/scan_cut/15_CT_HR.nii.gz', 'dataset/scan_cut/16_CT_HR.nii.gz', 'dataset/scan_cut/17_CT_HR.nii.gz', 'dataset/scan_cut/18_CT_HR.nii.gz', 'dataset/scan_cut/19_CT_HR.nii.gz', 'dataset/scan_cut/1_CT_HR.nii.gz', 'dataset/scan_cut/20_CT_HR.nii.gz', 'dataset/scan_cut/21_CT_HR.nii.gz', 'dataset/scan_cut/22_CT_HR.nii.gz', 'dataset/scan_cut/23_CT_HR.nii.gz', 'dataset/scan_cut/24_CT_HR.nii.gz', 'dataset/scan_cut/25_CT_HR.nii.gz', 'dataset/scan_cut/26_CT_HR.nii.gz', 'dataset/scan_cut/27_CT_HR.nii.gz', 'dataset/scan_cut/2_CT_HR.nii.gz', 'dataset/scan_cut/3_CT_HR.nii.gz', 'dataset/scan_cut/4_CT_HR.nii.gz', 'dataset/scan_cut/5_CT_HR.nii.gz', 'dataset/scan_cut/6_CT_HR.nii.gz', 'dataset/scan_cut/7_CT_HR.nii.gz', 'dataset/scan_cut/8_CT_HR.nii.gz', 'dataset/scan_cut/9_CT_HR.nii.gz', 'dataset/scan_patched_4/left_bottom/0_left_bottom_CT_HR.nii.gz', 'dataset/scan_patched_4/left_bottom/10_left_bottom_CT_HR.nii.gz', 'dataset/scan_patched_4/left_bottom/11_left_bottom_CT_HR.nii.gz', 'dataset/scan_patched_4/left_bottom/12_left_bottom_CT_HR.nii.gz', 'dataset/scan_patched_4/left_bottom/13_left_bottom_CT_HR.nii.gz', 'dataset/scan_patched_4/left_bottom/14_left_bottom_CT_HR.nii.gz', 'dataset/scan_patched_4/left_bottom/15_left_bottom_CT_HR.nii.gz', 'dataset/scan_patched_4/left_bottom/16_left_bottom_CT_HR.nii.gz', 'dataset/scan_patched_4/left_bottom/17_left_bottom_CT_HR.nii.gz', 'dataset/scan_patched_4/left_bottom/18_left_bottom_CT_HR.nii.gz', 'dataset/scan_patched_4/left_bottom/19_left_bottom_CT_HR.nii.gz', 'dataset/scan_patched_4/left_bottom/1_left_bottom_CT_HR.nii.gz', 'dataset/scan_patched_4/left_bottom/20_left_bottom_CT_HR.nii.gz', 'dataset/scan_patched_4/left_bottom/21_left_bottom_CT_HR.nii.gz', 'dataset/scan_patched_4/left_bottom/22_left_bottom_CT_HR.nii.gz', 'dataset/scan_patched_4/left_bottom/23_left_bottom_CT_HR.nii.gz', 'dataset/scan_patched_4/left_bottom/24_left_bottom_CT_HR.nii.gz', 'dataset/scan_patched_4/left_bottom/25_left_bottom_CT_HR.nii.gz', 'dataset/scan_patched_4/left_bottom/26_left_bottom_CT_HR.nii.gz', 'dataset/scan_patched_4/left_bottom/2_left_bottom_CT_HR.nii.gz', 'dataset/scan_patched_4/left_bottom/3_left_bottom_CT_HR.nii.gz', 'dataset/scan_patched_4/left_bottom/4_left_bottom_CT_HR.nii.gz', 'dataset/scan_patched_4/left_bottom/5_left_bottom_CT_HR.nii.gz', 'dataset/scan_patched_4/left_bottom/6_left_bottom_CT_HR.nii.gz', 'dataset/scan_patched_4/left_bottom/7_left_bottom_CT_HR.nii.gz', 'dataset/scan_patched_4/left_bottom/8_left_bottom_CT_HR.nii.gz', 'dataset/scan_patched_4/left_bottom/9_left_bottom_CT_HR.nii.gz', 'dataset/scan_patched_4/left_upper/0_left_upper_CT_HR.nii.gz', 'dataset/scan_patched_4/left_upper/10_left_upper_CT_HR.nii.gz', 'dataset/scan_patched_4/left_upper/11_left_upper_CT_HR.nii.gz', 'dataset/scan_patched_4/left_upper/12_left_upper_CT_HR.nii.gz', 'dataset/scan_patched_4/left_upper/13_left_upper_CT_HR.nii.gz', 'dataset/scan_patched_4/left_upper/14_left_upper_CT_HR.nii.gz', 'dataset/scan_patched_4/left_upper/15_left_upper_CT_HR.nii.gz', 'dataset/scan_patched_4/left_upper/16_left_upper_CT_HR.nii.gz', 'dataset/scan_patched_4/left_upper/17_left_upper_CT_HR.nii.gz', 'dataset/scan_patched_4/left_upper/18_left_upper_CT_HR.nii.gz', 'dataset/scan_patched_4/left_upper/19_left_upper_CT_HR.nii.gz', 'dataset/scan_patched_4/left_upper/1_left_upper_CT_HR.nii.gz', 'dataset/scan_patched_4/left_upper/20_left_upper_CT_HR.nii.gz', 'dataset/scan_patched_4/left_upper/21_left_upper_CT_HR.nii.gz', 'dataset/scan_patched_4/left_upper/22_left_upper_CT_HR.nii.gz', 'dataset/scan_patched_4/left_upper/23_left_upper_CT_HR.nii.gz', 'dataset/scan_patched_4/left_upper/24_left_upper_CT_HR.nii.gz', 'dataset/scan_patched_4/left_upper/25_left_upper_CT_HR.nii.gz', 'dataset/scan_patched_4/left_upper/26_left_upper_CT_HR.nii.gz', 'dataset/scan_patched_4/left_upper/2_left_upper_CT_HR.nii.gz', 'dataset/scan_patched_4/left_upper/3_left_upper_CT_HR.nii.gz', 'dataset/scan_patched_4/left_upper/4_left_upper_CT_HR.nii.gz', 'dataset/scan_patched_4/left_upper/5_left_upper_CT_HR.nii.gz', 'dataset/scan_patched_4/left_upper/6_left_upper_CT_HR.nii.gz', 'dataset/scan_patched_4/left_upper/7_left_upper_CT_HR.nii.gz', 'dataset/scan_patched_4/left_upper/8_left_upper_CT_HR.nii.gz', 'dataset/scan_patched_4/left_upper/9_left_upper_CT_HR.nii.gz', 'dataset/scan_patched_4/right_bottom/0_right_bottom_CT_HR.nii.gz', 'dataset/scan_patched_4/right_bottom/10_right_bottom_CT_HR.nii.gz', 'dataset/scan_patched_4/right_bottom/11_right_bottom_CT_HR.nii.gz', 'dataset/scan_patched_4/right_bottom/12_right_bottom_CT_HR.nii.gz', 'dataset/scan_patched_4/right_bottom/13_right_bottom_CT_HR.nii.gz', 'dataset/scan_patched_4/right_bottom/14_right_bottom_CT_HR.nii.gz', 'dataset/scan_patched_4/right_bottom/15_right_bottom_CT_HR.nii.gz', 'dataset/scan_patched_4/right_bottom/16_right_bottom_CT_HR.nii.gz', 'dataset/scan_patched_4/right_bottom/17_right_bottom_CT_HR.nii.gz', 'dataset/scan_patched_4/right_bottom/18_right_bottom_CT_HR.nii.gz', 'dataset/scan_patched_4/right_bottom/19_right_bottom_CT_HR.nii.gz', 'dataset/scan_patched_4/right_bottom/1_right_bottom_CT_HR.nii.gz', 'dataset/scan_patched_4/right_bottom/20_right_bottom_CT_HR.nii.gz', 'dataset/scan_patched_4/right_bottom/21_right_bottom_CT_HR.nii.gz', 'dataset/scan_patched_4/right_bottom/22_right_bottom_CT_HR.nii.gz', 'dataset/scan_patched_4/right_bottom/23_right_bottom_CT_HR.nii.gz', 'dataset/scan_patched_4/right_bottom/24_right_bottom_CT_HR.nii.gz', 'dataset/scan_patched_4/right_bottom/25_right_bottom_CT_HR.nii.gz', 'dataset/scan_patched_4/right_bottom/26_right_bottom_CT_HR.nii.gz', 'dataset/scan_patched_4/right_bottom/2_right_bottom_CT_HR.nii.gz', 'dataset/scan_patched_4/right_bottom/3_right_bottom_CT_HR.nii.gz', 'dataset/scan_patched_4/right_bottom/4_right_bottom_CT_HR.nii.gz', 'dataset/scan_patched_4/right_bottom/5_right_bottom_CT_HR.nii.gz', 'dataset/scan_patched_4/right_bottom/6_right_bottom_CT_HR.nii.gz', 'dataset/scan_patched_4/right_bottom/7_right_bottom_CT_HR.nii.gz', 'dataset/scan_patched_4/right_bottom/8_right_bottom_CT_HR.nii.gz', 'dataset/scan_patched_4/right_bottom/9_right_bottom_CT_HR.nii.gz', 'dataset/scan_patched_4/right_upper/0_right_upper_CT_HR.nii.gz', 'dataset/scan_patched_4/right_upper/10_right_upper_CT_HR.nii.gz', 'dataset/scan_patched_4/right_upper/11_right_upper_CT_HR.nii.gz', 'dataset/scan_patched_4/right_upper/12_right_upper_CT_HR.nii.gz', 'dataset/scan_patched_4/right_upper/13_right_upper_CT_HR.nii.gz', 'dataset/scan_patched_4/right_upper/14_right_upper_CT_HR.nii.gz', 'dataset/scan_patched_4/right_upper/15_right_upper_CT_HR.nii.gz', 'dataset/scan_patched_4/right_upper/16_right_upper_CT_HR.nii.gz', 'dataset/scan_patched_4/right_upper/17_right_upper_CT_HR.nii.gz', 'dataset/scan_patched_4/right_upper/18_right_upper_CT_HR.nii.gz', 'dataset/scan_patched_4/right_upper/19_right_upper_CT_HR.nii.gz', 'dataset/scan_patched_4/right_upper/1_right_upper_CT_HR.nii.gz', 'dataset/scan_patched_4/right_upper/20_right_upper_CT_HR.nii.gz', 'dataset/scan_patched_4/right_upper/21_right_upper_CT_HR.nii.gz', 'dataset/scan_patched_4/right_upper/22_right_upper_CT_HR.nii.gz', 'dataset/scan_patched_4/right_upper/23_right_upper_CT_HR.nii.gz', 'dataset/scan_patched_4/right_upper/24_right_upper_CT_HR.nii.gz', 'dataset/scan_patched_4/right_upper/25_right_upper_CT_HR.nii.gz', 'dataset/scan_patched_4/right_upper/26_right_upper_CT_HR.nii.gz', 'dataset/scan_patched_4/right_upper/2_right_upper_CT_HR.nii.gz', 'dataset/scan_patched_4/right_upper/3_right_upper_CT_HR.nii.gz', 'dataset/scan_patched_4/right_upper/4_right_upper_CT_HR.nii.gz', 'dataset/scan_patched_4/right_upper/5_right_upper_CT_HR.nii.gz', 'dataset/scan_patched_4/right_upper/6_right_upper_CT_HR.nii.gz', 'dataset/scan_patched_4/right_upper/7_right_upper_CT_HR.nii.gz', 'dataset/scan_patched_4/right_upper/8_right_upper_CT_HR.nii.gz', 'dataset/scan_patched_4/right_upper/9_right_upper_CT_HR.nii.gz', 'nonoverlapping_quadrants/1/quadrant_1_1_CT_HR.nii.gz', 'nonoverlapping_quadrants/1/quadrant_2_1_CT_HR.nii.gz', 'nonoverlapping_quadrants/10/quadrant_1_10_CT_HR.nii.gz', 'nonoverlapping_quadrants/10/quadrant_2_10_CT_HR.nii.gz', 'nonoverlapping_quadrants/11/quadrant_1_11_CT_HR.nii.gz', 'nonoverlapping_quadrants/11/quadrant_2_11_CT_HR.nii.gz', 'nonoverlapping_quadrants/12/quadrant_1_12_CT_HR.nii.gz', 'nonoverlapping_quadrants/12/quadrant_2_12_CT_HR.nii.gz', 'nonoverlapping_quadrants/13/quadrant_1_13_CT_HR.nii.gz', 'nonoverlapping_quadrants/13/quadrant_2_13_CT_HR.nii.gz', 'nonoverlapping_quadrants/14/quadrant_1_14_CT_HR.nii.gz', 'nonoverlapping_quadrants/14/quadrant_2_14_CT_HR.nii.gz', 'nonoverlapping_quadrants/15/quadrant_1_15_CT_HR.nii.gz', 'nonoverlapping_quadrants/15/quadrant_2_15_CT_HR.nii.gz', 'nonoverlapping_quadrants/16/quadrant_1_16_CT_HR.nii.gz', 'nonoverlapping_quadrants/16/quadrant_2_16_CT_HR.nii.gz', 'nonoverlapping_quadrants/17/quadrant_1_17_CT_HR.nii.gz', 'nonoverlapping_quadrants/17/quadrant_2_17_CT_HR.nii.gz', 'nonoverlapping_quadrants/18/quadrant_1_18_CT_HR.nii.gz', 'nonoverlapping_quadrants/18/quadrant_2_18_CT_HR.nii.gz', 'nonoverlapping_quadrants/19/quadrant_1_19_CT_HR.nii.gz', 'nonoverlapping_quadrants/19/quadrant_2_19_CT_HR.nii.gz', 'nonoverlapping_quadrants/2/quadrant_1_2_CT_HR.nii.gz', 'nonoverlapping_quadrants/2/quadrant_2_2_CT_HR.nii.gz', 'nonoverlapping_quadrants/20/quadrant_1_20_CT_HR.nii.gz', 'nonoverlapping_quadrants/20/quadrant_2_20_CT_HR.nii.gz', 'nonoverlapping_quadrants/21/quadrant_1_21_CT_HR.nii.gz', 'nonoverlapping_quadrants/21/quadrant_2_21_CT_HR.nii.gz', 'nonoverlapping_quadrants/22/quadrant_1_22_CT_HR.nii.gz', 'nonoverlapping_quadrants/22/quadrant_2_22_CT_HR.nii.gz', 'nonoverlapping_quadrants/23/quadrant_1_23_CT_HR.nii.gz', 'nonoverlapping_quadrants/23/quadrant_2_23_CT_HR.nii.gz', 'nonoverlapping_quadrants/24/quadrant_1_24_CT_HR.nii.gz', 'nonoverlapping_quadrants/24/quadrant_2_24_CT_HR.nii.gz', 'nonoverlapping_quadrants/25/quadrant_1_25_CT_HR.nii.gz', 'nonoverlapping_quadrants/25/quadrant_2_25_CT_HR.nii.gz', 'nonoverlapping_quadrants/26/quadrant_1_26_CT_HR.nii.gz', 'nonoverlapping_quadrants/26/quadrant_2_26_CT_HR.nii.gz', 'nonoverlapping_quadrants/27/quadrant_1_27_CT_HR.nii.gz', 'nonoverlapping_quadrants/27/quadrant_2_27_CT_HR.nii.gz', 'nonoverlapping_quadrants/3/quadrant_1_3_CT_HR.nii.gz', 'nonoverlapping_quadrants/3/quadrant_2_3_CT_HR.nii.gz', 'nonoverlapping_quadrants/4/quadrant_1_4_CT_HR.nii.gz', 'nonoverlapping_quadrants/4/quadrant_2_4_CT_HR.nii.gz', 'nonoverlapping_quadrants/5/quadrant_1_5_CT_HR.nii.gz', 'nonoverlapping_quadrants/5/quadrant_2_5_CT_HR.nii.gz', 'nonoverlapping_quadrants/6/quadrant_1_6_CT_HR.nii.gz', 'nonoverlapping_quadrants/6/quadrant_2_6_CT_HR.nii.gz', 'nonoverlapping_quadrants/7/quadrant_1_7_CT_HR.nii.gz', 'nonoverlapping_quadrants/7/quadrant_2_7_CT_HR.nii.gz', 'nonoverlapping_quadrants/8/quadrant_1_8_CT_HR.nii.gz', 'nonoverlapping_quadrants/8/quadrant_2_8_CT_HR.nii.gz', 'nonoverlapping_quadrants/9/quadrant_1_9_CT_HR.nii.gz', 'nonoverlapping_quadrants/9/quadrant_2_9_CT_HR.nii.gz']\n"
          ]
        },
        {
          "name": "stderr",
          "output_type": "stream",
          "text": [
            "Loading dataset: 100%|██████████| 9/9 [00:20<00:00,  2.33s/it]\n"
          ]
        }
      ],
      "source": [
        "netLeftUpper = UNetClass.load_from_checkpoint('AeroPath/checkpoints/left_upper_epoch=592-val_dice=0.7192.ckpt',\n",
        "                                    mode = 'left_upper',\n",
        "                                    roi_size=(160*2, 160, 160),\n",
        "                                    spatial_size=(160*2, 160, 160))\n",
        "netLeftBottom = UNetClass.load_from_checkpoint('AeroPath/checkpoints/left_bottom_epoch=525-val_dice=0.4427.ckpt',\n",
        "                                    mode = 'left_bottom',\n",
        "                                    roi_size=(160*2, 160, 160),\n",
        "                                    spatial_size=(160*2, 160, 160))\n",
        "netRightUpper = UNetClass.load_from_checkpoint('AeroPath/checkpoints/right_upper_epoch=449-val_dice=0.7599.ckpt',\n",
        "                                    mode = 'right_upper',\n",
        "                                    roi_size=(160*2, 160, 160),\n",
        "                                    spatial_size=(160*2, 160, 160))\n",
        "netRightBottom = UNetClass.load_from_checkpoint('AeroPath/checkpoints/right_bottom_epoch=482-val_dice=0.5261.ckpt',\n",
        "                                    mode = 'right_bottom',\n",
        "                                    roi_size=(160*2, 160, 160),\n",
        "                                    spatial_size=(160*2, 160, 160))\n",
        "netWhole = UNetClass.load_from_checkpoint('AeroPath/checkpoints/whole_lower_pixdim.ckpt',\n",
        "                                    mode = 'whole',\n",
        "                                    roi_size=(128, 128, 144),\n",
        "                                    spatial_size=(128, 128, 144))\n",
        "\n",
        "netLeftUpper.prepare_data(prepare_test_data=False)\n",
        "netLeftBottom.prepare_data(prepare_test_data=False)\n",
        "netRightBottom.prepare_data(prepare_test_data=False)\n",
        "netRightUpper.prepare_data(prepare_test_data=False)\n",
        "netWhole.prepare_data(prepare_test_data=False)\n",
        "\n",
        "nets = [netLeftUpper, netLeftBottom, netRightUpper, netRightBottom, netWhole]"
      ]
    },
    {
      "cell_type": "code",
      "execution_count": null,
      "metadata": {},
      "outputs": [],
      "source": [
        "# test validation dataset labels\n",
        "for i, val_data in enumerate(net.val_dataloader()):\n",
        "    label = val_data['label'].cpu().numpy()[0, 0, :, :, :]\n",
        "    nib.save(nib.Nifti1Image(label.astype(float), nib.load('AeroPath/1/1_CT_HR_label_airways.nii.gz').affine), f'labels_spacingd_10less/{i}.nii.gz')"
      ]
    },
    {
      "cell_type": "code",
      "execution_count": null,
      "metadata": {},
      "outputs": [],
      "source": [
        "def create_directory(path):\n",
        "    if not os.path.exists(path):\n",
        "        os.makedirs(path)"
      ]
    },
    {
      "cell_type": "code",
      "execution_count": null,
      "metadata": {
        "id": "8pp1HWrqI0vS",
        "jupyter": {
          "outputs_hidden": true
        },
        "lines_to_next_cell": 2,
        "outputId": "c7388a09-ec21-44bb-9747-1f1c8d1f81f9",
        "scrolled": false
      },
      "outputs": [],
      "source": [
        "for net in nets:\n",
        "    net.eval()\n",
        "    device = torch.device(\"cuda:0\")\n",
        "    net.to(device)\n",
        "    with torch.no_grad():\n",
        "        for i, val_data in enumerate(net.val_dataloader()):\n",
        "            roi_size = net.roi_size\n",
        "            sw_batch_size = 4\n",
        "            val_outputs = sliding_window_inference(val_data[\"image\"].to(device), roi_size, sw_batch_size, net)\n",
        "            pred = torch.argmax(val_outputs, dim=1).detach().cpu()\n",
        "            plt.show()\n",
        "\n",
        "            pred_np = pred.cpu().numpy()[0, :, :, :]\n",
        "\n",
        "            dir_name = net.mode\n",
        "\n",
        "            create_directory(f'pred/{dir_name}')\n",
        "            nib.save(nib.Nifti1Image(pred_np.astype(float), val_data[\"image\"].affine[0]), f'pred/{dir_name}/{i}.nii.gz')\n"
      ]
    },
    {
      "cell_type": "markdown",
      "metadata": {},
      "source": [
        "## Interpolate, Concat and ensemble predictions"
      ]
    },
    {
      "cell_type": "code",
      "execution_count": null,
      "metadata": {},
      "outputs": [
        {
          "ename": "AttributeError",
          "evalue": "'list' object has no attribute 'unique'",
          "output_type": "error",
          "traceback": [
            "\u001b[0;31m---------------------------------------------------------------------------\u001b[0m",
            "\u001b[0;31mAttributeError\u001b[0m                            Traceback (most recent call last)",
            "Cell \u001b[0;32mIn[66], line 46\u001b[0m\n\u001b[1;32m     42\u001b[0m labels \u001b[38;5;241m=\u001b[39m natsorted(glob\u001b[38;5;241m.\u001b[39mglob(\u001b[38;5;124m'\u001b[39m\u001b[38;5;124mpred/*/*\u001b[39m\u001b[38;5;124m'\u001b[39m, recursive\u001b[38;5;241m=\u001b[39m\u001b[38;5;28;01mTrue\u001b[39;00m))\n\u001b[1;32m     44\u001b[0m \u001b[38;5;66;03m# Example usage with NIfTI files\u001b[39;00m\n\u001b[0;32m---> 46\u001b[0m \u001b[38;5;28;01mfor\u001b[39;00m idx, _ \u001b[38;5;129;01min\u001b[39;00m \u001b[38;5;28menumerate\u001b[39m(\u001b[43mlabels\u001b[49m\u001b[38;5;241;43m.\u001b[39;49m\u001b[43munique\u001b[49m()):\n\u001b[1;32m     47\u001b[0m     \u001b[38;5;66;03m# label = nib.load(f'labels_resized/{idx}.nii.gz').get_fdata()\u001b[39;00m\n\u001b[1;32m     48\u001b[0m     \u001b[38;5;66;03m# whole = nib.load(f'pred/whole_resized_roi160/{idx}.nii.gz').get_fdata()\u001b[39;00m\n\u001b[1;32m     49\u001b[0m     whole \u001b[38;5;241m=\u001b[39m nib\u001b[38;5;241m.\u001b[39mload(\u001b[38;5;124mf\u001b[39m\u001b[38;5;124m'\u001b[39m\u001b[38;5;124mpred/whole/\u001b[39m\u001b[38;5;132;01m{\u001b[39;00midx\u001b[38;5;132;01m}\u001b[39;00m\u001b[38;5;124m.nii.gz\u001b[39m\u001b[38;5;124m'\u001b[39m)\u001b[38;5;241m.\u001b[39mget_fdata()\n\u001b[1;32m     51\u001b[0m     pred_left_bottom \u001b[38;5;241m=\u001b[39m nib\u001b[38;5;241m.\u001b[39mload(\u001b[38;5;124mf\u001b[39m\u001b[38;5;124m'\u001b[39m\u001b[38;5;124mpred/left_bottom/\u001b[39m\u001b[38;5;132;01m{\u001b[39;00midx\u001b[38;5;132;01m}\u001b[39;00m\u001b[38;5;124m.nii.gz\u001b[39m\u001b[38;5;124m'\u001b[39m)\u001b[38;5;241m.\u001b[39mget_fdata()\n",
            "\u001b[0;31mAttributeError\u001b[0m: 'list' object has no attribute 'unique'"
          ]
        }
      ],
      "source": [
        "import numpy as np\n",
        "import torch\n",
        "import torch.nn.functional as F\n",
        "import nibabel as nib\n",
        "from monai.transforms import Compose, AsDiscrete\n",
        "from monai.metrics import DiceMetric\n",
        "\n",
        "def interpolate_predictions(predictions, target_shape):\n",
        "    # Ensure predictions tensor has 5 dimensions: (N, C, D, H, W)\n",
        "    predictions = torch.tensor(predictions).unsqueeze(0).unsqueeze(0)  # Add batch and channel dimensions\n",
        "\n",
        "    # Interpolate the predictions using nearest neighbor interpolation\n",
        "    interpolated_predictions = F.interpolate(predictions, size=target_shape, mode='nearest')\n",
        "    \n",
        "    # Remove batch and channel dimensions after interpolation\n",
        "    interpolated_predictions = interpolated_predictions.squeeze(0).squeeze(0).numpy()\n",
        "    \n",
        "    return interpolated_predictions\n",
        "\n",
        "# Function to calculate Dice score\n",
        "def calc_dice_score(pred, label):\n",
        "    post_pred = Compose([AsDiscrete(argmax=False, to_onehot=2)])\n",
        "    post_label = Compose([AsDiscrete(to_onehot=2)])\n",
        "\n",
        "    # Ensure the inputs have the correct dimensions\n",
        "    pred = torch.tensor(pred).unsqueeze(0).unsqueeze(0)\n",
        "    label = torch.tensor(label).unsqueeze(0).unsqueeze(0)\n",
        "\n",
        "    prediction_tensor = post_pred(pred)\n",
        "    label_tensor = post_label(label)\n",
        "\n",
        "    # Compute Dice score\n",
        "    dice_metric = DiceMetric(include_background=False, reduction=\"mean\")\n",
        "    dice_metric(y_pred=prediction_tensor, y=label_tensor)\n",
        "\n",
        "    dice_score = dice_metric.aggregate().item()\n",
        "    dice_metric.reset()\n",
        "\n",
        "    return dice_score\n",
        "\n",
        "\n",
        "labels = natsorted(glob.glob('pred/*/*', recursive=True))\n",
        "\n",
        "# Example usage with NIfTI files\n",
        "\n",
        "for idx, _ in enumerate(labels.unique()):\n",
        "    # label = nib.load(f'labels_resized/{idx}.nii.gz').get_fdata()\n",
        "    # whole = nib.load(f'pred/whole_resized_roi160/{idx}.nii.gz').get_fdata()\n",
        "    whole = nib.load(f'pred/whole/{idx}.nii.gz').get_fdata()\n",
        "\n",
        "    pred_left_bottom = nib.load(f'pred/left_bottom/{idx}.nii.gz').get_fdata()\n",
        "    pred_left_upper = nib.load(f'pred/left_upper/{idx}.nii.gz').get_fdata()\n",
        "    pred_right_bottom = nib.load(f'pred/right_bottom/{idx}.nii.gz').get_fdata()\n",
        "    pred_right_upper = nib.load(f'pred/right_upper/{idx}.nii.gz').get_fdata()\n",
        "\n",
        "    # Interpolate predictions to allow for concatenation\n",
        "\n",
        "    inter_pred_left_bottom = interpolate_predictions(pred_left_bottom, (*whole.shape[:-1], pred_left_bottom.shape[-1]))\n",
        "    inter_pred_left_upper = interpolate_predictions(pred_left_upper, (*whole.shape[:-1], pred_left_upper.shape[-1]))\n",
        "    inter_pred_right_bottom = interpolate_predictions(pred_right_bottom, (*whole.shape[:-1], pred_right_bottom.shape[-1]))\n",
        "    inter_pred_right_upper = interpolate_predictions(pred_right_upper, (*whole.shape[:-1], pred_right_upper.shape[-1]))\n",
        "\n",
        "\n",
        "#     # Merge interpolated predictions along the last axis (z-axis)\n",
        "    merged_left = np.concatenate((inter_pred_left_bottom, inter_pred_left_upper), axis=2)\n",
        "    merged_right = np.concatenate((inter_pred_right_bottom, inter_pred_right_upper), axis=2)\n",
        "\n",
        "    merged = np.concatenate((merged_left, merged_right), axis=1)\n",
        "\n",
        "    # Interpolate predictions to match whole.shape\n",
        "\n",
        "    merged = interpolate_predictions(merged, whole.shape)\n",
        "\n",
        "#     # Save the merged predictions as a NIfTI file\n",
        "    merged_nifti = nib.Nifti1Image(merged, nib.load('AeroPath/1/1_CT_HR.nii.gz').affine)\n",
        "    nib.save(merged_nifti, 'pred_test_merged.nii.gz')\n",
        "    # print(f'Merged shape: {merged.shape}')\n",
        "\n",
        "    # Perform ensembling using the maximum values\n",
        "    ensembled = np.maximum(merged, whole)\n",
        "    \n",
        "    ensembled[:5, :, :] = 0\n",
        "    ensembled[-5:, :, :] = 0\n",
        "    ensembled[:, :5, :] = 0\n",
        "    ensembled[:, -5:, :] = 0\n",
        "    ensembled[:, :, :5] = 0\n",
        "    ensembled[:, :, -5:] = 0\n",
        "\n",
        "    # Save the ensembled predictions as a NIfTI file\n",
        "    ensembled_nifti = nib.Nifti1Image(ensembled, nib.load('AeroPath/1/1_CT_HR.nii.gz').affine)\n",
        "    create_directory('pred/ensembled')\n",
        "    nib.save(ensembled_nifti, f'pred/ensembled/{idx}.nii.gz')\n",
        "\n",
        "    # Compute Dice score\n",
        "    # print(f'whole: {whole.shape}, label: {label.shape}')\n",
        "    # dice_whole = calc_dice_score(whole, label)\n",
        "    # print(f'Dice Score for whole prediction: {dice_whole:.4f}')\n",
        "\n",
        "\n",
        "\n",
        "    # dice_ensembled = calc_dice_score(ensembled, label)\n",
        "    # print(f'Dice Score for ensembled prediction: {dice_ensembled:.4f}')\n",
        "\n",
        "    print('*'*50)\n",
        "\n",
        "# Dice Score for whole prediction: 0.8711\n",
        "# Dice Score for ensembled prediction: 0.8846\n",
        "# **************************************************\n",
        "# Dice Score for whole prediction: 0.7663\n",
        "# Dice Score for ensembled prediction: 0.7592\n",
        "# **************************************************\n",
        "# Dice Score for whole prediction: 0.7318\n",
        "# Dice Score for ensembled prediction: 0.7432\n",
        "# **************************************************\n",
        "# Dice Score for whole prediction: 0.8730\n",
        "# Dice Score for ensembled prediction: 0.8764\n",
        "# **************************************************\n",
        "# Dice Score for whole prediction: 0.8862\n",
        "# Dice Score for ensembled prediction: 0.8930\n",
        "# **************************************************\n",
        "# Dice Score for whole prediction: 0.7021\n",
        "# Dice Score for ensembled prediction: 0.7184\n",
        "# **************************************************\n",
        "# Dice Score for whole prediction: 0.7940\n",
        "# Dice Score for ensembled prediction: 0.8396\n",
        "# **************************************************\n",
        "# Dice Score for whole prediction: 0.6629\n",
        "# Dice Score for ensembled prediction: 0.6776\n",
        "# **************************************************\n",
        "# Dice Score for whole prediction: 0.8969\n",
        "# Dice Score for ensembled prediction: 0.9105\n",
        "# **************************************************"
      ]
    },
    {
      "cell_type": "code",
      "execution_count": null,
      "metadata": {},
      "outputs": [],
      "source": [
        "ensembled_nifti = nib.Nifti1Image(ensembled, nib.load('AeroPath/1/1_CT_HR.nii.gz').affine)\n",
        "nib.save(ensembled_nifti, f'pred/ensembled/{idx}.nii.gz')\n",
        "\n",
        "# Compute Dice score\n",
        "dice_whole = calc_dice_score(whole, label)\n",
        "print(f'Dice Score for whole prediction: {dice_whole:.4f}')\n",
        "\n",
        "dice_ensembled = calc_dice_score(ensembled, label)\n",
        "print(f'Dice Score for ensembled prediction: {dice_ensembled:.4f}')"
      ]
    },
    {
      "cell_type": "code",
      "execution_count": null,
      "metadata": {},
      "outputs": [],
      "source": [
        "def calc_dice_score(pred, label):\n",
        "    post_pred = Compose([AsDiscrete(argmax=False, to_onehot=2)])\n",
        "    post_label = Compose([AsDiscrete(to_onehot=2)])\n",
        "\n",
        "    # Ensure the inputs have the correct dimensions\n",
        "    pred = torch.tensor(pred).unsqueeze(0).unsqueeze(0)\n",
        "    label = torch.tensor(label).unsqueeze(0).unsqueeze(0)\n",
        "\n",
        "    prediction_tensor = post_pred(pred)\n",
        "    label_tensor = post_label(label)\n",
        "\n",
        "    # Compute Dice score\n",
        "    dice_metric = DiceMetric(include_background=False, reduction=\"mean\")\n",
        "    dice_metric(y_pred=prediction_tensor, y=label_tensor)\n",
        "\n",
        "    dice_score = dice_metric.aggregate().item()\n",
        "    dice_metric.reset()\n",
        "\n",
        "    return dice_score\n",
        "\n",
        "label = val_data['label'].cpu().numpy()[0, 0, :, :, :]\n",
        "dice_whole = calc_dice_score(pred, label)\n",
        "print(f'Dice Score for whole prediction: {dice_whole:.4f}')"
      ]
    },
    {
      "cell_type": "markdown",
      "metadata": {
        "id": "grzE-kjOI0vS"
      },
      "source": [
        "## Cleanup data directory\n",
        "\n",
        "Remove directory if a temporary was used."
      ]
    },
    {
      "cell_type": "code",
      "execution_count": null,
      "metadata": {
        "id": "JfhZOGgOI0vS"
      },
      "outputs": [],
      "source": [
        "if directory is None:\n",
        "    shutil.rmtree(root_dir)"
      ]
    }
  ],
  "metadata": {
    "colab": {
      "provenance": [],
      "toc_visible": true
    },
    "kernelspec": {
      "display_name": "Python 3 (ipykernel)",
      "language": "python",
      "name": "python3"
    },
    "language_info": {
      "codemirror_mode": {
        "name": "ipython",
        "version": 3
      },
      "file_extension": ".py",
      "mimetype": "text/x-python",
      "name": "python",
      "nbconvert_exporter": "python",
      "pygments_lexer": "ipython3",
      "version": "3.10.12"
    },
    "vscode": {
      "interpreter": {
        "hash": "916dbcbb3f70747c44a77c7bcd40155683ae19c65e1c03b4aa3499c5328201f1"
      }
    }
  },
  "nbformat": 4,
  "nbformat_minor": 0
}
