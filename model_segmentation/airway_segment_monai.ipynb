{
 "cells": [
  {
   "cell_type": "code",
   "execution_count": 1,
   "metadata": {},
   "outputs": [
    {
     "name": "stderr",
     "output_type": "stream",
     "text": [
      "2024-04-02 00:01:30.950744: I tensorflow/core/platform/cpu_feature_guard.cc:210] This TensorFlow binary is optimized to use available CPU instructions in performance-critical operations.\n",
      "To enable the following instructions: AVX2 FMA, in other operations, rebuild TensorFlow with the appropriate compiler flags.\n",
      "2024-04-02 00:01:31.714793: W tensorflow/compiler/tf2tensorrt/utils/py_utils.cc:38] TF-TRT Warning: Could not find TensorRT\n"
     ]
    },
    {
     "name": "stdout",
     "output_type": "stream",
     "text": [
      "MONAI version: 1.3.0\n",
      "Numpy version: 1.24.4\n",
      "Pytorch version: 2.2.1+cu121\n",
      "MONAI flags: HAS_EXT = False, USE_COMPILED = False, USE_META_DICT = False\n",
      "MONAI rev id: 865972f7a791bf7b42efbcd87c8402bd865b329e\n",
      "MONAI __file__: /home/<username>/Documents/RISA/3D_segmentation/.venv/lib/python3.10/site-packages/monai/__init__.py\n",
      "\n",
      "Optional dependencies:\n",
      "Pytorch Ignite version: NOT INSTALLED or UNKNOWN VERSION.\n",
      "ITK version: NOT INSTALLED or UNKNOWN VERSION.\n",
      "Nibabel version: 5.2.1\n",
      "scikit-image version: 0.22.0\n",
      "scipy version: 1.12.0\n",
      "Pillow version: 10.2.0\n",
      "Tensorboard version: 2.16.2\n",
      "gdown version: NOT INSTALLED or UNKNOWN VERSION.\n",
      "TorchVision version: 0.17.1+cu121\n",
      "tqdm version: 4.66.2\n",
      "lmdb version: NOT INSTALLED or UNKNOWN VERSION.\n",
      "psutil version: 5.9.8\n",
      "pandas version: 2.2.1\n",
      "einops version: 0.7.0\n",
      "transformers version: NOT INSTALLED or UNKNOWN VERSION.\n",
      "mlflow version: NOT INSTALLED or UNKNOWN VERSION.\n",
      "pynrrd version: NOT INSTALLED or UNKNOWN VERSION.\n",
      "clearml version: NOT INSTALLED or UNKNOWN VERSION.\n",
      "\n",
      "For details about installing the optional dependencies, please visit:\n",
      "    https://docs.monai.io/en/latest/installation.html#installing-the-recommended-dependencies\n",
      "\n"
     ]
    }
   ],
   "source": [
    "import pytorch_lightning\n",
    "from monai.utils import set_determinism\n",
    "from monai.transforms import (\n",
    "    AsDiscrete,\n",
    "    EnsureChannelFirstd,\n",
    "    Compose,\n",
    "    CropForegroundd,\n",
    "    LoadImaged,\n",
    "    Orientationd,\n",
    "    RandCropByPosNegLabeld,\n",
    "    ScaleIntensityRanged,\n",
    "    Spacingd,\n",
    "    EnsureType,\n",
    ")\n",
    "from monai.networks.nets import UNet\n",
    "from monai.networks.layers import Norm\n",
    "from monai.metrics import DiceMetric\n",
    "from monai.losses import DiceLoss\n",
    "from monai.inferers import sliding_window_inference\n",
    "from monai.data import CacheDataset, list_data_collate, decollate_batch, DataLoader, Dataset, decollate_batch\n",
    "from monai.utils import first, set_determinism\n",
    "from monai.config import print_config\n",
    "from monai.apps import download_and_extract\n",
    "import torch\n",
    "import matplotlib.pyplot as plt\n",
    "import tempfile\n",
    "import shutil\n",
    "import os\n",
    "import glob\n",
    "\n",
    "from pathlib import Path\n",
    "\n",
    "# from torch.utils.data import Dataset\n",
    "\n",
    "from pathlib import Path\n",
    "import os\n",
    "\n",
    "# from torch.utils.data import DataLoader\n",
    "from sklearn.model_selection import train_test_split\n",
    "\n",
    "import albumentations as A\n",
    "from albumentations.pytorch.transforms import ToTensorV2\n",
    "\n",
    "import numpy as np\n",
    "\n",
    "import random\n",
    "\n",
    "import tensorflow as tf\n",
    "import datetime, os\n",
    "\n",
    "print_config()"
   ]
  },
  {
   "cell_type": "code",
   "execution_count": 2,
   "metadata": {},
   "outputs": [
    {
     "name": "stdout",
     "output_type": "stream",
     "text": [
      "/home/pawel/Documents/RISA/3D_segmentation/logger\n"
     ]
    }
   ],
   "source": [
    "import os\n",
    "root_dir = Path(\"/home/pawel/Documents/RISA/3D_segmentation/logger\")\n",
    "print(root_dir)"
   ]
  },
  {
   "cell_type": "code",
   "execution_count": 3,
   "metadata": {},
   "outputs": [],
   "source": [
    "class CTDataset(Dataset):\n",
    "    def __init__(self, images_filepaths, transform=None):\n",
    "        self.images_filepaths = images_filepaths\n",
    "        self.transform = transform\n",
    "\n",
    "    def __len__(self):\n",
    "        return len(self.images_filepaths)\n",
    "\n",
    "    def __getitem__(self, idx):\n",
    "        image_filepath = self.images_filepaths[idx]\n",
    "        image_file = np.load(str(image_filepath))\n",
    "\n",
    "        path_elements = list(Path(image_filepath).parts)\n",
    "        index = path_elements.index('scans')\n",
    "        path_elements[index] = 'airways'\n",
    "\n",
    "        mask_filepath = os.path.join(*path_elements)\n",
    "        mask_file = np.load(str(mask_filepath))\n",
    "\n",
    "        if self.transform is not None:\n",
    "            transformed_images = []\n",
    "            transformed_masks = []\n",
    "            for i in range(0, image_file.shape[-1]):\n",
    "                \n",
    "                image_slice = image_file[..., i]\n",
    "                mask_slice = mask_file[..., i]\n",
    "\n",
    "                transformed = self.transform(image=image_slice, mask=mask_slice)\n",
    "\n",
    "                transformed_images.append(transformed[\"image\"])\n",
    "                transformed_masks.append(transformed[\"mask\"])\n",
    "\n",
    "            image_file = torch.stack(transformed_images, dim=0)\n",
    "            mask_file = torch.stack(transformed_masks, dim=0).type(torch.float16)\n",
    "            mask_file = mask_file.unsqueeze(0)\n",
    "\n",
    "            image_file = image_file.permute(1, 0, 2, 3)\n",
    "\n",
    "        return image_file, mask_file"
   ]
  },
  {
   "cell_type": "code",
   "execution_count": 4,
   "metadata": {},
   "outputs": [],
   "source": [
    "class CTDataModule(pytorch_lightning.LightningDataModule):\n",
    "    def __init__(self):\n",
    "        super().__init__()\n",
    "\n",
    "        self.augmentations = A.Compose([\n",
    "        A.ToFloat(max_value=1024+400, always_apply=True),\n",
    "        A.Rotate(limit=15, p=1.0),\n",
    "        # A.Resize(height=64, width=64),\n",
    "        A.RandomCrop(height=160, width=160),\n",
    "        # A.RGBShift(r_shift_limit=15, g_shift_limit=15, b_shift_limit=15, p=0.5),\n",
    "        # A.RandomBrightnessContrast(p=0.5),\n",
    "        # A.Normalize(mean=[-1024/400], std=[1/400], always_apply=True),\n",
    "        ToTensorV2()\n",
    "        ])\n",
    "        self.transforms = A.Compose([\n",
    "        A.ToFloat(max_value=1024+400, always_apply=True),\n",
    "        # A.Resize(height=64, width=64),\n",
    "        A.RandomCrop(height=160, width=160),\n",
    "        # A.Normalize(mean=[-1024/400], std=[1/400], always_apply=True),\n",
    "        ToTensorV2(),\n",
    "        ])\n",
    "\n",
    "        self.train_dataset = None\n",
    "        self.val_dataset = None\n",
    "        self.test_dataset = None\n",
    "\n",
    "        self.path_to_file = '/home/pawel/Documents/RISA/3D_segmentation/dataset'\n",
    "\n",
    "\n",
    "    def prepare_data(self):\n",
    "        if os.path.exists(self.path_to_file):\n",
    "            print(\"Path exists\")\n",
    "            images_paths = sorted(Path(self.path_to_file).rglob('*.npy'))\n",
    "            for image_path in images_paths:\n",
    "                image = np.load(str(image_path))\n",
    "\n",
    "                if image is None:\n",
    "                    print(\"Unlink image: \", image_path)\n",
    "                    image_path.unlink()\n",
    "        else:\n",
    "            print(\"Path does not exist\")\n",
    "\n",
    "\n",
    "    def setup(self, stage):\n",
    "        paths = sorted(Path(os.path.join(self.path_to_file, 'scans')).glob('*.npy'))\n",
    "\n",
    "        self.train_paths, self.val_paths = train_test_split(paths, test_size=0.3, random_state=42)\n",
    "\n",
    "        self.train_ds = CTDataset(self.train_paths, transform=self.augmentations)\n",
    "        self.val_ds = CTDataset(self.val_paths, transform=self.transforms)\n",
    "\n",
    "    def train_dataloader(self):\n",
    "        return DataLoader(self.train_ds,\n",
    "                            batch_size=10,\n",
    "                            shuffle=True,\n",
    "                            num_workers=6,\n",
    "                            collate_fn=list_data_collate\n",
    "                        )\n",
    "\n",
    "    def val_dataloader(self):\n",
    "        return DataLoader(self.val_ds, batch_size=6, num_workers=6)"
   ]
  },
  {
   "cell_type": "markdown",
   "metadata": {},
   "source": [
    "## Visualization"
   ]
  },
  {
   "cell_type": "code",
   "execution_count": 5,
   "metadata": {},
   "outputs": [
    {
     "name": "stdout",
     "output_type": "stream",
     "text": [
      "Path exists\n",
      "image shape: torch.Size([64, 160, 160]), label shape: torch.Size([64, 160, 160])\n"
     ]
    },
    {
     "data": {
      "image/png": "[encoded data removed]",
      "text/plain": [
       "<Figure size 1200x600 with 2 Axes>"
      ]
     },
     "metadata": {},
     "output_type": "display_data"
    }
   ],
   "source": [
    "dataModule = CTDataModule()\n",
    "dataModule.prepare_data()\n",
    "dataModule.setup('fit')\n",
    "val_dataset = dataModule.val_ds\n",
    "\n",
    "object_number = random.randint(0, len(val_dataset)-1)\n",
    "\n",
    "image, mask = val_dataset.__getitem__(object_number)\n",
    "image = image.squeeze(0)\n",
    "mask = mask.squeeze(0)\n",
    "\n",
    "slice_number = random.randint(0, image.shape[0]-1)\n",
    "\n",
    "print(f\"image shape: {image.shape}, label shape: {mask.shape}\")\n",
    "# plot the slice [:, :, 80]\n",
    "plt.figure(\"check\", (12, 6))\n",
    "plt.subplot(1, 2, 1)\n",
    "plt.title(\"image\")\n",
    "plt.imshow(image[slice_number, :, :], cmap=\"gray\")\n",
    "plt.subplot(1, 2, 2)\n",
    "plt.title(\"mask\")\n",
    "plt.imshow(mask[slice_number, :, :])\n",
    "plt.show()"
   ]
  },
  {
   "cell_type": "code",
   "execution_count": 6,
   "metadata": {},
   "outputs": [],
   "source": [
    "from x_unet import XUnet\n",
    "\n",
    "class Net(pytorch_lightning.LightningModule):\n",
    "    def __init__(self):\n",
    "        super().__init__()\n",
    "        self._model = UNet(\n",
    "            spatial_dims=3,\n",
    "            in_channels=1,\n",
    "            out_channels=2,\n",
    "            channels=(16, 32, 64, 128, 256, 512),\n",
    "            strides=(2, 2, 2, 2, 2),\n",
    "            num_res_units=3,\n",
    "            norm=Norm.BATCH,\n",
    "        )\n",
    "\n",
    "        # self._model = XUnet(\n",
    "        #     dim = 8,\n",
    "        #     frame_kernel_size = 5,                 # set this to greater than 1\n",
    "        #     channels = 1,\n",
    "        #     dim_mults = (1, 2, 4, 8),\n",
    "        #     nested_unet_depths = (5, 4, 2, 1),     # nested unet depths, from unet-squared paper\n",
    "        #     consolidate_upsample_fmaps = True,     # whether to consolidate outputs from all upsample blocks, used in unet-squared paper\n",
    "        #     weight_standardize = True\n",
    "        # )\n",
    "\n",
    "        self.loss_function = DiceLoss(to_onehot_y=True, softmax=True)\n",
    "        self.post_pred = Compose([EnsureType(\"tensor\", device=\"cpu\"), AsDiscrete(argmax=True, to_onehot=2)])\n",
    "        self.post_label = Compose([EnsureType(\"tensor\", device=\"cpu\"), AsDiscrete(to_onehot=2)])\n",
    "        self.dice_metric = DiceMetric(include_background=False, reduction=\"mean\", get_not_nans=False)\n",
    "        self.best_val_dice = 0\n",
    "        self.best_val_loss = 0\n",
    "        self.best_val_epoch_dice = 0\n",
    "        self.best_val_epoch_loss = 0\n",
    "        self.validation_step_outputs = []\n",
    "\n",
    "    def forward(self, x):\n",
    "        return self._model(x)\n",
    "\n",
    "    def configure_optimizers(self):\n",
    "        optimizer = torch.optim.Adam(self._model.parameters(), 1e-4)\n",
    "        return optimizer\n",
    "\n",
    "    def training_step(self, batch, batch_idx):\n",
    "        images, labels = batch\n",
    "        # print(images.shape)\n",
    "        output = self.forward(images)\n",
    "        loss = self.loss_function(output, labels)\n",
    "        tensorboard_logs = {\"train_loss\": loss.item()}\n",
    "        self.log('train_loss', loss, prog_bar=True)\n",
    "        # self.accuracy.update(output, labels)\n",
    "        # self.log('train_acc', self.accuracy, prog_bar=True)\n",
    "        return {\"loss\": loss, \"log\": tensorboard_logs}\n",
    "\n",
    "    def validation_step(self, batch, batch_idx):\n",
    "        images, labels = batch\n",
    "        roi_size = (32, 128, 128)\n",
    "        sw_batch_size = 4\n",
    "        outputs = sliding_window_inference(images, roi_size, sw_batch_size, self.forward)\n",
    "        loss = self.loss_function(outputs, labels)\n",
    "        outputs = [self.post_pred(i) for i in decollate_batch(outputs)]\n",
    "        labels = [self.post_label(i) for i in decollate_batch(labels)]\n",
    "        self.dice_metric(y_pred=outputs, y=labels)\n",
    "        d = {\"val_loss\": loss, \"val_number\": len(outputs)}\n",
    "        self.validation_step_outputs.append(d)\n",
    "        self.log('val_loss', loss, prog_bar=True)\n",
    "        return d\n",
    "\n",
    "    def on_validation_epoch_end(self):\n",
    "        val_loss, num_items = 0, 0\n",
    "        for output in self.validation_step_outputs:\n",
    "            val_loss += output[\"val_loss\"].sum().item()\n",
    "            num_items += output[\"val_number\"]\n",
    "        mean_val_dice = self.dice_metric.aggregate().item()\n",
    "        self.dice_metric.reset()\n",
    "        mean_val_loss = torch.tensor(val_loss / num_items)\n",
    "        tensorboard_logs = {\n",
    "            \"val_dice\": mean_val_dice,\n",
    "            \"val_loss\": mean_val_loss,\n",
    "        }\n",
    "        if mean_val_dice > self.best_val_dice:\n",
    "            self.best_val_dice = mean_val_dice\n",
    "            self.best_val_epoch_dice = self.current_epoch\n",
    "\n",
    "        if mean_val_loss < self.best_val_loss:\n",
    "            self.best_val_loss = mean_val_loss\n",
    "            self.best_val_epoch_loss = self.current_epoch\n",
    "        print(\n",
    "            f\"current epoch: {self.current_epoch} \"\n",
    "            f\"current mean dice: {mean_val_dice:.4f}\"\n",
    "            f\"\\nbest mean dice: {self.best_val_dice:.4f} \"\n",
    "            f\"at epoch: {self.best_val_epoch_dice}\"\n",
    "            f\"\\ncurrent mean loss: {mean_val_loss:.4f}\"\n",
    "            f\"\\nbest mean loss: {self.best_val_loss:.4f}\"\n",
    "            f\"at epoch: {self.best_val_epoch_loss}\"\n",
    "        )\n",
    "        self.validation_step_outputs.clear()  # free memory\n",
    "        return {\"log\": tensorboard_logs}"
   ]
  },
  {
   "cell_type": "code",
   "execution_count": 7,
   "metadata": {},
   "outputs": [
    {
     "name": "stdout",
     "output_type": "stream",
     "text": [
      "/home/pawel/Documents/RISA/3D_segmentation/logger\n"
     ]
    }
   ],
   "source": [
    "# set up loggers and checkpoints\n",
    "print(root_dir)\n",
    "log_dir = os.path.join(root_dir, \"logs\")\n",
    "tb_logger = pytorch_lightning.loggers.TensorBoardLogger(save_dir=log_dir)"
   ]
  },
  {
   "cell_type": "code",
   "execution_count": 8,
   "metadata": {},
   "outputs": [
    {
     "name": "stderr",
     "output_type": "stream",
     "text": [
      "GPU available: True (cuda), used: True\n",
      "TPU available: False, using: 0 TPU cores\n",
      "IPU available: False, using: 0 IPUs\n",
      "HPU available: False, using: 0 HPUs\n",
      "You are using a CUDA device ('NVIDIA GeForce RTX 3060 Laptop GPU') that has Tensor Cores. To properly utilize them, you should set `torch.set_float32_matmul_precision('medium' | 'high')` which will trade-off precision for performance. For more details, read https://pytorch.org/docs/stable/generated/torch.set_float32_matmul_precision.html#torch.set_float32_matmul_precision\n"
     ]
    },
    {
     "name": "stdout",
     "output_type": "stream",
     "text": [
      "Path exists\n"
     ]
    },
    {
     "name": "stderr",
     "output_type": "stream",
     "text": [
      "LOCAL_RANK: 0 - CUDA_VISIBLE_DEVICES: [0]\n",
      "\n",
      "  | Name          | Type     | Params\n",
      "-------------------------------------------\n",
      "0 | _model        | UNet     | 28.7 M\n",
      "1 | loss_function | DiceLoss | 0     \n",
      "-------------------------------------------\n",
      "28.7 M    Trainable params\n",
      "0         Non-trainable params\n",
      "28.7 M    Total params\n",
      "114.906   Total estimated model params size (MB)\n"
     ]
    },
    {
     "name": "stdout",
     "output_type": "stream",
     "text": [
      "Sanity Checking DataLoader 0: 100%|██████████| 1/1 [00:01<00:00,  0.92it/s]current epoch: 0 current mean dice: 0.0148\n",
      "best mean dice: 0.0148 at epoch: 0\n",
      "current mean loss: 0.1101best mean loss: 0.0000at epoch: 0\n",
      "Epoch 0: 100%|██████████| 9/9 [00:09<00:00,  0.98it/s, v_num=7, train_loss=0.665]current epoch: 0 current mean dice: 0.0093\n",
      "best mean dice: 0.0148 at epoch: 0\n",
      "current mean loss: 0.1226best mean loss: 0.0000at epoch: 0\n",
      "Epoch 0: 100%|██████████| 9/9 [00:16<00:00,  0.56it/s, v_num=7, train_loss=0.665, val_loss=0.666]"
     ]
    },
    {
     "name": "stderr",
     "output_type": "stream",
     "text": [
      "Epoch 0, global step 9: 'val_loss' reached 0.66566 (best 0.66566), saving model to '/home/pawel/Documents/RISA/3D_segmentation/logger/checkpoints/epoch_0-0.66566.ckpt' as top 1\n"
     ]
    },
    {
     "name": "stdout",
     "output_type": "stream",
     "text": [
      "Epoch 1: 100%|██████████| 9/9 [00:09<00:00,  0.99it/s, v_num=7, train_loss=0.656, val_loss=0.666]current epoch: 1 current mean dice: 0.0097\n",
      "best mean dice: 0.0148 at epoch: 0\n",
      "current mean loss: 0.1208best mean loss: 0.0000at epoch: 0\n",
      "Epoch 1: 100%|██████████| 9/9 [00:16<00:00,  0.56it/s, v_num=7, train_loss=0.656, val_loss=0.656]"
     ]
    },
    {
     "name": "stderr",
     "output_type": "stream",
     "text": [
      "Epoch 1, global step 18: 'val_loss' reached 0.65564 (best 0.65564), saving model to '/home/pawel/Documents/RISA/3D_segmentation/logger/checkpoints/epoch_1-0.65564.ckpt' as top 1\n"
     ]
    },
    {
     "name": "stdout",
     "output_type": "stream",
     "text": [
      "Epoch 2: 100%|██████████| 9/9 [00:09<00:00,  0.98it/s, v_num=7, train_loss=0.648, val_loss=0.656]current epoch: 2 current mean dice: 0.0097\n",
      "best mean dice: 0.0148 at epoch: 0\n",
      "current mean loss: 0.1189best mean loss: 0.0000at epoch: 0\n",
      "Epoch 2: 100%|██████████| 9/9 [00:16<00:00,  0.55it/s, v_num=7, train_loss=0.648, val_loss=0.645]"
     ]
    },
    {
     "name": "stderr",
     "output_type": "stream",
     "text": [
      "Epoch 2, global step 27: 'val_loss' reached 0.64538 (best 0.64538), saving model to '/home/pawel/Documents/RISA/3D_segmentation/logger/checkpoints/epoch_2-0.64538.ckpt' as top 1\n"
     ]
    },
    {
     "name": "stdout",
     "output_type": "stream",
     "text": [
      "Epoch 3: 100%|██████████| 9/9 [00:09<00:00,  0.93it/s, v_num=7, train_loss=0.643, val_loss=0.645]current epoch: 3 current mean dice: 0.0094\n",
      "best mean dice: 0.0148 at epoch: 0\n",
      "current mean loss: 0.1183best mean loss: 0.0000at epoch: 0\n",
      "Epoch 3: 100%|██████████| 9/9 [00:16<00:00,  0.53it/s, v_num=7, train_loss=0.643, val_loss=0.642]"
     ]
    },
    {
     "name": "stderr",
     "output_type": "stream",
     "text": [
      "Epoch 3, global step 36: 'val_loss' reached 0.64217 (best 0.64217), saving model to '/home/pawel/Documents/RISA/3D_segmentation/logger/checkpoints/epoch_3-0.64217.ckpt' as top 1\n"
     ]
    },
    {
     "name": "stdout",
     "output_type": "stream",
     "text": [
      "Epoch 4: 100%|██████████| 9/9 [00:11<00:00,  0.78it/s, v_num=7, train_loss=0.642, val_loss=0.642]current epoch: 4 current mean dice: 0.0099\n",
      "best mean dice: 0.0148 at epoch: 0\n",
      "current mean loss: 0.1177best mean loss: 0.0000at epoch: 0\n",
      "Epoch 4: 100%|██████████| 9/9 [00:19<00:00,  0.47it/s, v_num=7, train_loss=0.642, val_loss=0.639]"
     ]
    },
    {
     "name": "stderr",
     "output_type": "stream",
     "text": [
      "Epoch 4, global step 45: 'val_loss' reached 0.63897 (best 0.63897), saving model to '/home/pawel/Documents/RISA/3D_segmentation/logger/checkpoints/epoch_4-0.63897.ckpt' as top 1\n"
     ]
    },
    {
     "name": "stdout",
     "output_type": "stream",
     "text": [
      "Epoch 5: 100%|██████████| 9/9 [00:09<00:00,  0.97it/s, v_num=7, train_loss=0.636, val_loss=0.639]current epoch: 5 current mean dice: 0.0099\n",
      "best mean dice: 0.0148 at epoch: 0\n",
      "current mean loss: 0.1174best mean loss: 0.0000at epoch: 0\n",
      "Epoch 5: 100%|██████████| 9/9 [00:16<00:00,  0.55it/s, v_num=7, train_loss=0.636, val_loss=0.637]"
     ]
    },
    {
     "name": "stderr",
     "output_type": "stream",
     "text": [
      "Epoch 5, global step 54: 'val_loss' reached 0.63741 (best 0.63741), saving model to '/home/pawel/Documents/RISA/3D_segmentation/logger/checkpoints/epoch_5-0.63741.ckpt' as top 1\n"
     ]
    },
    {
     "name": "stdout",
     "output_type": "stream",
     "text": [
      "Epoch 6: 100%|██████████| 9/9 [00:09<00:00,  0.99it/s, v_num=7, train_loss=0.633, val_loss=0.637]current epoch: 6 current mean dice: 0.0101\n",
      "best mean dice: 0.0148 at epoch: 0\n",
      "current mean loss: 0.1167best mean loss: 0.0000at epoch: 0\n",
      "Epoch 6: 100%|██████████| 9/9 [00:16<00:00,  0.55it/s, v_num=7, train_loss=0.633, val_loss=0.633]"
     ]
    },
    {
     "name": "stderr",
     "output_type": "stream",
     "text": [
      "Epoch 6, global step 63: 'val_loss' reached 0.63294 (best 0.63294), saving model to '/home/pawel/Documents/RISA/3D_segmentation/logger/checkpoints/epoch_6-0.63294.ckpt' as top 1\n"
     ]
    },
    {
     "name": "stdout",
     "output_type": "stream",
     "text": [
      "Epoch 7: 100%|██████████| 9/9 [00:09<00:00,  0.95it/s, v_num=7, train_loss=0.631, val_loss=0.633]current epoch: 7 current mean dice: 0.0100\n",
      "best mean dice: 0.0148 at epoch: 0\n",
      "current mean loss: 0.1162best mean loss: 0.0000at epoch: 0\n",
      "Epoch 7: 100%|██████████| 9/9 [00:16<00:00,  0.54it/s, v_num=7, train_loss=0.631, val_loss=0.631]"
     ]
    },
    {
     "name": "stderr",
     "output_type": "stream",
     "text": [
      "Epoch 7, global step 72: 'val_loss' reached 0.63084 (best 0.63084), saving model to '/home/pawel/Documents/RISA/3D_segmentation/logger/checkpoints/epoch_7-0.63084.ckpt' as top 1\n"
     ]
    },
    {
     "name": "stdout",
     "output_type": "stream",
     "text": [
      "Epoch 8: 100%|██████████| 9/9 [00:09<00:00,  0.97it/s, v_num=7, train_loss=0.627, val_loss=0.631]current epoch: 8 current mean dice: 0.0100\n",
      "best mean dice: 0.0148 at epoch: 0\n",
      "current mean loss: 0.1160best mean loss: 0.0000at epoch: 0\n",
      "Epoch 8: 100%|██████████| 9/9 [00:16<00:00,  0.55it/s, v_num=7, train_loss=0.627, val_loss=0.630]"
     ]
    },
    {
     "name": "stderr",
     "output_type": "stream",
     "text": [
      "Epoch 8, global step 81: 'val_loss' reached 0.62951 (best 0.62951), saving model to '/home/pawel/Documents/RISA/3D_segmentation/logger/checkpoints/epoch_8-0.62951.ckpt' as top 1\n"
     ]
    },
    {
     "name": "stdout",
     "output_type": "stream",
     "text": [
      "Epoch 9: 100%|██████████| 9/9 [00:09<00:00,  0.98it/s, v_num=7, train_loss=0.624, val_loss=0.630]current epoch: 9 current mean dice: 0.0091\n",
      "best mean dice: 0.0148 at epoch: 0\n",
      "current mean loss: 0.1155best mean loss: 0.0000at epoch: 0\n",
      "Epoch 9: 100%|██████████| 9/9 [00:16<00:00,  0.55it/s, v_num=7, train_loss=0.624, val_loss=0.627]"
     ]
    },
    {
     "name": "stderr",
     "output_type": "stream",
     "text": [
      "Epoch 9, global step 90: 'val_loss' reached 0.62670 (best 0.62670), saving model to '/home/pawel/Documents/RISA/3D_segmentation/logger/checkpoints/epoch_9-0.62670.ckpt' as top 1\n"
     ]
    },
    {
     "name": "stdout",
     "output_type": "stream",
     "text": [
      "Epoch 10: 100%|██████████| 9/9 [00:08<00:00,  1.00it/s, v_num=7, train_loss=0.619, val_loss=0.627]current epoch: 10 current mean dice: 0.0099\n",
      "best mean dice: 0.0148 at epoch: 0\n",
      "current mean loss: 0.1146best mean loss: 0.0000at epoch: 0\n",
      "Epoch 10: 100%|██████████| 9/9 [00:16<00:00,  0.56it/s, v_num=7, train_loss=0.619, val_loss=0.622]"
     ]
    },
    {
     "name": "stderr",
     "output_type": "stream",
     "text": [
      "Epoch 10, global step 99: 'val_loss' reached 0.62183 (best 0.62183), saving model to '/home/pawel/Documents/RISA/3D_segmentation/logger/checkpoints/epoch_10-0.62183.ckpt' as top 1\n"
     ]
    },
    {
     "name": "stdout",
     "output_type": "stream",
     "text": [
      "Epoch 11: 100%|██████████| 9/9 [00:09<00:00,  0.95it/s, v_num=7, train_loss=0.616, val_loss=0.622]current epoch: 11 current mean dice: 0.0096\n",
      "best mean dice: 0.0148 at epoch: 0\n",
      "current mean loss: 0.1139best mean loss: 0.0000at epoch: 0\n",
      "Epoch 11: 100%|██████████| 9/9 [00:16<00:00,  0.55it/s, v_num=7, train_loss=0.616, val_loss=0.618]"
     ]
    },
    {
     "name": "stderr",
     "output_type": "stream",
     "text": [
      "Epoch 11, global step 108: 'val_loss' reached 0.61829 (best 0.61829), saving model to '/home/pawel/Documents/RISA/3D_segmentation/logger/checkpoints/epoch_11-0.61829.ckpt' as top 1\n"
     ]
    },
    {
     "name": "stdout",
     "output_type": "stream",
     "text": [
      "Epoch 12: 100%|██████████| 9/9 [00:09<00:00,  0.98it/s, v_num=7, train_loss=0.614, val_loss=0.618]current epoch: 12 current mean dice: 0.0092\n",
      "best mean dice: 0.0148 at epoch: 0\n",
      "current mean loss: 0.1135best mean loss: 0.0000at epoch: 0\n",
      "Epoch 12: 100%|██████████| 9/9 [00:16<00:00,  0.55it/s, v_num=7, train_loss=0.614, val_loss=0.616]"
     ]
    },
    {
     "name": "stderr",
     "output_type": "stream",
     "text": [
      "Epoch 12, global step 117: 'val_loss' reached 0.61601 (best 0.61601), saving model to '/home/pawel/Documents/RISA/3D_segmentation/logger/checkpoints/epoch_12-0.61601.ckpt' as top 1\n"
     ]
    },
    {
     "name": "stdout",
     "output_type": "stream",
     "text": [
      "Epoch 13: 100%|██████████| 9/9 [00:09<00:00,  0.99it/s, v_num=7, train_loss=0.610, val_loss=0.616]current epoch: 13 current mean dice: 0.0095\n",
      "best mean dice: 0.0148 at epoch: 0\n",
      "current mean loss: 0.1126best mean loss: 0.0000at epoch: 0\n",
      "Epoch 13: 100%|██████████| 9/9 [00:16<00:00,  0.56it/s, v_num=7, train_loss=0.610, val_loss=0.612]"
     ]
    },
    {
     "name": "stderr",
     "output_type": "stream",
     "text": [
      "Epoch 13, global step 126: 'val_loss' reached 0.61178 (best 0.61178), saving model to '/home/pawel/Documents/RISA/3D_segmentation/logger/checkpoints/epoch_13-0.61178.ckpt' as top 1\n"
     ]
    },
    {
     "name": "stdout",
     "output_type": "stream",
     "text": [
      "Epoch 14: 100%|██████████| 9/9 [00:08<00:00,  1.02it/s, v_num=7, train_loss=0.610, val_loss=0.612]current epoch: 14 current mean dice: 0.0093\n",
      "best mean dice: 0.0148 at epoch: 0\n",
      "current mean loss: 0.1124best mean loss: 0.0000at epoch: 0\n",
      "Epoch 14: 100%|██████████| 9/9 [00:15<00:00,  0.56it/s, v_num=7, train_loss=0.610, val_loss=0.610]"
     ]
    },
    {
     "name": "stderr",
     "output_type": "stream",
     "text": [
      "Epoch 14, global step 135: 'val_loss' reached 0.60971 (best 0.60971), saving model to '/home/pawel/Documents/RISA/3D_segmentation/logger/checkpoints/epoch_14-0.60971.ckpt' as top 1\n"
     ]
    },
    {
     "name": "stdout",
     "output_type": "stream",
     "text": [
      "Epoch 15: 100%|██████████| 9/9 [00:09<00:00,  0.94it/s, v_num=7, train_loss=0.605, val_loss=0.610]current epoch: 15 current mean dice: 0.0090\n",
      "best mean dice: 0.0148 at epoch: 0\n",
      "current mean loss: 0.1118best mean loss: 0.0000at epoch: 0\n",
      "Epoch 15: 100%|██████████| 9/9 [00:16<00:00,  0.54it/s, v_num=7, train_loss=0.605, val_loss=0.607]"
     ]
    },
    {
     "name": "stderr",
     "output_type": "stream",
     "text": [
      "Epoch 15, global step 144: 'val_loss' reached 0.60700 (best 0.60700), saving model to '/home/pawel/Documents/RISA/3D_segmentation/logger/checkpoints/epoch_15-0.60700.ckpt' as top 1\n"
     ]
    },
    {
     "name": "stdout",
     "output_type": "stream",
     "text": [
      "Epoch 16: 100%|██████████| 9/9 [00:09<00:00,  0.97it/s, v_num=7, train_loss=0.605, val_loss=0.607]current epoch: 16 current mean dice: 0.0082\n",
      "best mean dice: 0.0148 at epoch: 0\n",
      "current mean loss: 0.1114best mean loss: 0.0000at epoch: 0\n",
      "Epoch 16: 100%|██████████| 9/9 [00:16<00:00,  0.55it/s, v_num=7, train_loss=0.605, val_loss=0.605]"
     ]
    },
    {
     "name": "stderr",
     "output_type": "stream",
     "text": [
      "Epoch 16, global step 153: 'val_loss' reached 0.60452 (best 0.60452), saving model to '/home/pawel/Documents/RISA/3D_segmentation/logger/checkpoints/epoch_16-0.60452.ckpt' as top 1\n"
     ]
    },
    {
     "name": "stdout",
     "output_type": "stream",
     "text": [
      "Epoch 17: 100%|██████████| 9/9 [00:09<00:00,  0.97it/s, v_num=7, train_loss=0.599, val_loss=0.605]current epoch: 17 current mean dice: 0.0090\n",
      "best mean dice: 0.0148 at epoch: 0\n",
      "current mean loss: 0.1106best mean loss: 0.0000at epoch: 0\n",
      "Epoch 17: 100%|██████████| 9/9 [00:16<00:00,  0.55it/s, v_num=7, train_loss=0.599, val_loss=0.600]"
     ]
    },
    {
     "name": "stderr",
     "output_type": "stream",
     "text": [
      "Epoch 17, global step 162: 'val_loss' reached 0.60024 (best 0.60024), saving model to '/home/pawel/Documents/RISA/3D_segmentation/logger/checkpoints/epoch_17-0.60024.ckpt' as top 1\n"
     ]
    },
    {
     "name": "stdout",
     "output_type": "stream",
     "text": [
      "Epoch 18: 100%|██████████| 9/9 [00:09<00:00,  0.97it/s, v_num=7, train_loss=0.597, val_loss=0.600]current epoch: 18 current mean dice: 0.0090\n",
      "best mean dice: 0.0148 at epoch: 0\n",
      "current mean loss: 0.1105best mean loss: 0.0000at epoch: 0\n",
      "Epoch 18: 100%|██████████| 9/9 [00:16<00:00,  0.55it/s, v_num=7, train_loss=0.597, val_loss=0.600]"
     ]
    },
    {
     "name": "stderr",
     "output_type": "stream",
     "text": [
      "Epoch 18, global step 171: 'val_loss' reached 0.59987 (best 0.59987), saving model to '/home/pawel/Documents/RISA/3D_segmentation/logger/checkpoints/epoch_18-0.59987.ckpt' as top 1\n"
     ]
    },
    {
     "name": "stdout",
     "output_type": "stream",
     "text": [
      "Epoch 19: 100%|██████████| 9/9 [00:09<00:00,  0.98it/s, v_num=7, train_loss=0.596, val_loss=0.600]current epoch: 19 current mean dice: 0.0084\n",
      "best mean dice: 0.0148 at epoch: 0\n",
      "current mean loss: 0.1098best mean loss: 0.0000at epoch: 0\n",
      "Epoch 19: 100%|██████████| 9/9 [00:16<00:00,  0.55it/s, v_num=7, train_loss=0.596, val_loss=0.596]"
     ]
    },
    {
     "name": "stderr",
     "output_type": "stream",
     "text": [
      "Epoch 19, global step 180: 'val_loss' reached 0.59578 (best 0.59578), saving model to '/home/pawel/Documents/RISA/3D_segmentation/logger/checkpoints/epoch_19-0.59578.ckpt' as top 1\n"
     ]
    },
    {
     "name": "stdout",
     "output_type": "stream",
     "text": [
      "Epoch 20: 100%|██████████| 9/9 [00:09<00:00,  0.97it/s, v_num=7, train_loss=0.595, val_loss=0.596]current epoch: 20 current mean dice: 0.0085\n",
      "best mean dice: 0.0148 at epoch: 0\n",
      "current mean loss: 0.1095best mean loss: 0.0000at epoch: 0\n",
      "Epoch 20: 100%|██████████| 9/9 [00:16<00:00,  0.55it/s, v_num=7, train_loss=0.595, val_loss=0.594]"
     ]
    },
    {
     "name": "stderr",
     "output_type": "stream",
     "text": [
      "Epoch 20, global step 189: 'val_loss' reached 0.59444 (best 0.59444), saving model to '/home/pawel/Documents/RISA/3D_segmentation/logger/checkpoints/epoch_20-0.59444.ckpt' as top 1\n"
     ]
    },
    {
     "name": "stdout",
     "output_type": "stream",
     "text": [
      "Epoch 21: 100%|██████████| 9/9 [00:09<00:00,  0.95it/s, v_num=7, train_loss=0.593, val_loss=0.594]current epoch: 21 current mean dice: 0.0083\n",
      "best mean dice: 0.0148 at epoch: 0\n",
      "current mean loss: 0.1091best mean loss: 0.0000at epoch: 0\n",
      "Epoch 21: 100%|██████████| 9/9 [00:16<00:00,  0.54it/s, v_num=7, train_loss=0.593, val_loss=0.592]"
     ]
    },
    {
     "name": "stderr",
     "output_type": "stream",
     "text": [
      "Epoch 21, global step 198: 'val_loss' reached 0.59233 (best 0.59233), saving model to '/home/pawel/Documents/RISA/3D_segmentation/logger/checkpoints/epoch_21-0.59233.ckpt' as top 1\n"
     ]
    },
    {
     "name": "stdout",
     "output_type": "stream",
     "text": [
      "Epoch 22: 100%|██████████| 9/9 [00:09<00:00,  0.99it/s, v_num=7, train_loss=0.590, val_loss=0.592]current epoch: 22 current mean dice: 0.0076\n",
      "best mean dice: 0.0148 at epoch: 0\n",
      "current mean loss: 0.1086best mean loss: 0.0000at epoch: 0\n",
      "Epoch 22: 100%|██████████| 9/9 [00:16<00:00,  0.55it/s, v_num=7, train_loss=0.590, val_loss=0.589]"
     ]
    },
    {
     "name": "stderr",
     "output_type": "stream",
     "text": [
      "Epoch 22, global step 207: 'val_loss' reached 0.58932 (best 0.58932), saving model to '/home/pawel/Documents/RISA/3D_segmentation/logger/checkpoints/epoch_22-0.58932.ckpt' as top 1\n"
     ]
    },
    {
     "name": "stdout",
     "output_type": "stream",
     "text": [
      "Epoch 23: 100%|██████████| 9/9 [00:09<00:00,  0.93it/s, v_num=7, train_loss=0.588, val_loss=0.589]current epoch: 23 current mean dice: 0.0081\n",
      "best mean dice: 0.0148 at epoch: 0\n",
      "current mean loss: 0.1082best mean loss: 0.0000at epoch: 0\n",
      "Epoch 23: 100%|██████████| 9/9 [00:17<00:00,  0.53it/s, v_num=7, train_loss=0.588, val_loss=0.587]"
     ]
    },
    {
     "name": "stderr",
     "output_type": "stream",
     "text": [
      "Epoch 23, global step 216: 'val_loss' reached 0.58699 (best 0.58699), saving model to '/home/pawel/Documents/RISA/3D_segmentation/logger/checkpoints/epoch_23-0.58699.ckpt' as top 1\n"
     ]
    },
    {
     "name": "stdout",
     "output_type": "stream",
     "text": [
      "Epoch 24: 100%|██████████| 9/9 [00:09<00:00,  0.96it/s, v_num=7, train_loss=0.585, val_loss=0.587]current epoch: 24 current mean dice: 0.0077\n",
      "best mean dice: 0.0148 at epoch: 0\n",
      "current mean loss: 0.1078best mean loss: 0.0000at epoch: 0\n",
      "Epoch 24: 100%|██████████| 9/9 [00:16<00:00,  0.54it/s, v_num=7, train_loss=0.585, val_loss=0.585]"
     ]
    },
    {
     "name": "stderr",
     "output_type": "stream",
     "text": [
      "Epoch 24, global step 225: 'val_loss' reached 0.58542 (best 0.58542), saving model to '/home/pawel/Documents/RISA/3D_segmentation/logger/checkpoints/epoch_24-0.58542.ckpt' as top 1\n"
     ]
    },
    {
     "name": "stdout",
     "output_type": "stream",
     "text": [
      "Epoch 25: 100%|██████████| 9/9 [00:09<00:00,  0.91it/s, v_num=7, train_loss=0.582, val_loss=0.585]current epoch: 25 current mean dice: 0.0078\n",
      "best mean dice: 0.0148 at epoch: 0\n",
      "current mean loss: 0.1077best mean loss: 0.0000at epoch: 0\n",
      "Epoch 25: 100%|██████████| 9/9 [00:17<00:00,  0.53it/s, v_num=7, train_loss=0.582, val_loss=0.584]"
     ]
    },
    {
     "name": "stderr",
     "output_type": "stream",
     "text": [
      "Epoch 25, global step 234: 'val_loss' reached 0.58441 (best 0.58441), saving model to '/home/pawel/Documents/RISA/3D_segmentation/logger/checkpoints/epoch_25-0.58441.ckpt' as top 1\n"
     ]
    },
    {
     "name": "stdout",
     "output_type": "stream",
     "text": [
      "Epoch 26: 100%|██████████| 9/9 [00:09<00:00,  0.96it/s, v_num=7, train_loss=0.583, val_loss=0.584]current epoch: 26 current mean dice: 0.0082\n",
      "best mean dice: 0.0148 at epoch: 0\n",
      "current mean loss: 0.1072best mean loss: 0.0000at epoch: 0\n",
      "Epoch 26: 100%|██████████| 9/9 [00:16<00:00,  0.54it/s, v_num=7, train_loss=0.583, val_loss=0.582]"
     ]
    },
    {
     "name": "stderr",
     "output_type": "stream",
     "text": [
      "Epoch 26, global step 243: 'val_loss' reached 0.58162 (best 0.58162), saving model to '/home/pawel/Documents/RISA/3D_segmentation/logger/checkpoints/epoch_26-0.58162.ckpt' as top 1\n"
     ]
    },
    {
     "name": "stdout",
     "output_type": "stream",
     "text": [
      "Epoch 27: 100%|██████████| 9/9 [00:09<00:00,  0.95it/s, v_num=7, train_loss=0.579, val_loss=0.582]current epoch: 27 current mean dice: 0.0077\n",
      "best mean dice: 0.0148 at epoch: 0\n",
      "current mean loss: 0.1068best mean loss: 0.0000at epoch: 0\n",
      "Epoch 27: 100%|██████████| 9/9 [00:16<00:00,  0.54it/s, v_num=7, train_loss=0.579, val_loss=0.580]"
     ]
    },
    {
     "name": "stderr",
     "output_type": "stream",
     "text": [
      "Epoch 27, global step 252: 'val_loss' reached 0.58006 (best 0.58006), saving model to '/home/pawel/Documents/RISA/3D_segmentation/logger/checkpoints/epoch_27-0.58006.ckpt' as top 1\n"
     ]
    },
    {
     "name": "stdout",
     "output_type": "stream",
     "text": [
      "Epoch 28: 100%|██████████| 9/9 [00:09<00:00,  0.93it/s, v_num=7, train_loss=0.579, val_loss=0.580]current epoch: 28 current mean dice: 0.0075\n",
      "best mean dice: 0.0148 at epoch: 0\n",
      "current mean loss: 0.1066best mean loss: 0.0000at epoch: 0\n",
      "Epoch 28: 100%|██████████| 9/9 [00:16<00:00,  0.53it/s, v_num=7, train_loss=0.579, val_loss=0.579]"
     ]
    },
    {
     "name": "stderr",
     "output_type": "stream",
     "text": [
      "Epoch 28, global step 261: 'val_loss' reached 0.57857 (best 0.57857), saving model to '/home/pawel/Documents/RISA/3D_segmentation/logger/checkpoints/epoch_28-0.57857.ckpt' as top 1\n"
     ]
    },
    {
     "name": "stdout",
     "output_type": "stream",
     "text": [
      "Epoch 29: 100%|██████████| 9/9 [00:09<00:00,  0.94it/s, v_num=7, train_loss=0.578, val_loss=0.579]current epoch: 29 current mean dice: 0.0076\n",
      "best mean dice: 0.0148 at epoch: 0\n",
      "current mean loss: 0.1064best mean loss: 0.0000at epoch: 0\n",
      "Epoch 29: 100%|██████████| 9/9 [00:16<00:00,  0.54it/s, v_num=7, train_loss=0.578, val_loss=0.578]"
     ]
    },
    {
     "name": "stderr",
     "output_type": "stream",
     "text": [
      "Epoch 29, global step 270: 'val_loss' reached 0.57810 (best 0.57810), saving model to '/home/pawel/Documents/RISA/3D_segmentation/logger/checkpoints/epoch_29-0.57810.ckpt' as top 1\n"
     ]
    },
    {
     "name": "stdout",
     "output_type": "stream",
     "text": [
      "Epoch 30: 100%|██████████| 9/9 [00:09<00:00,  0.96it/s, v_num=7, train_loss=0.574, val_loss=0.578]current epoch: 30 current mean dice: 0.0082\n",
      "best mean dice: 0.0148 at epoch: 0\n",
      "current mean loss: 0.1059best mean loss: 0.0000at epoch: 0\n",
      "Epoch 30: 100%|██████████| 9/9 [00:16<00:00,  0.54it/s, v_num=7, train_loss=0.574, val_loss=0.575]"
     ]
    },
    {
     "name": "stderr",
     "output_type": "stream",
     "text": [
      "Epoch 30, global step 279: 'val_loss' reached 0.57488 (best 0.57488), saving model to '/home/pawel/Documents/RISA/3D_segmentation/logger/checkpoints/epoch_30-0.57488.ckpt' as top 1\n"
     ]
    },
    {
     "name": "stdout",
     "output_type": "stream",
     "text": [
      "Epoch 31: 100%|██████████| 9/9 [00:09<00:00,  0.97it/s, v_num=7, train_loss=0.573, val_loss=0.575]current epoch: 31 current mean dice: 0.0081\n",
      "best mean dice: 0.0148 at epoch: 0\n",
      "current mean loss: 0.1055best mean loss: 0.0000at epoch: 0\n",
      "Epoch 31: 100%|██████████| 9/9 [00:16<00:00,  0.55it/s, v_num=7, train_loss=0.573, val_loss=0.573]"
     ]
    },
    {
     "name": "stderr",
     "output_type": "stream",
     "text": [
      "Epoch 31, global step 288: 'val_loss' reached 0.57257 (best 0.57257), saving model to '/home/pawel/Documents/RISA/3D_segmentation/logger/checkpoints/epoch_31-0.57257.ckpt' as top 1\n"
     ]
    },
    {
     "name": "stdout",
     "output_type": "stream",
     "text": [
      "Epoch 32: 100%|██████████| 9/9 [00:09<00:00,  0.99it/s, v_num=7, train_loss=0.569, val_loss=0.573]current epoch: 32 current mean dice: 0.0075\n",
      "best mean dice: 0.0148 at epoch: 0\n",
      "current mean loss: 0.1054best mean loss: 0.0000at epoch: 0\n",
      "Epoch 32: 100%|██████████| 9/9 [00:16<00:00,  0.56it/s, v_num=7, train_loss=0.569, val_loss=0.572]"
     ]
    },
    {
     "name": "stderr",
     "output_type": "stream",
     "text": [
      "Epoch 32, global step 297: 'val_loss' reached 0.57191 (best 0.57191), saving model to '/home/pawel/Documents/RISA/3D_segmentation/logger/checkpoints/epoch_32-0.57191.ckpt' as top 1\n"
     ]
    },
    {
     "name": "stdout",
     "output_type": "stream",
     "text": [
      "Epoch 33: 100%|██████████| 9/9 [00:08<00:00,  1.01it/s, v_num=7, train_loss=0.570, val_loss=0.572]current epoch: 33 current mean dice: 0.0079\n",
      "best mean dice: 0.0148 at epoch: 0\n",
      "current mean loss: 0.1053best mean loss: 0.0000at epoch: 0\n",
      "Epoch 33: 100%|██████████| 9/9 [00:15<00:00,  0.56it/s, v_num=7, train_loss=0.570, val_loss=0.572]"
     ]
    },
    {
     "name": "stderr",
     "output_type": "stream",
     "text": [
      "Epoch 33, global step 306: 'val_loss' reached 0.57179 (best 0.57179), saving model to '/home/pawel/Documents/RISA/3D_segmentation/logger/checkpoints/epoch_33-0.57179.ckpt' as top 1\n"
     ]
    },
    {
     "name": "stdout",
     "output_type": "stream",
     "text": [
      "Epoch 34: 100%|██████████| 9/9 [00:09<00:00,  0.98it/s, v_num=7, train_loss=0.567, val_loss=0.572]current epoch: 34 current mean dice: 0.0071\n",
      "best mean dice: 0.0148 at epoch: 0\n",
      "current mean loss: 0.1048best mean loss: 0.0000at epoch: 0\n",
      "Epoch 34: 100%|██████████| 9/9 [00:16<00:00,  0.55it/s, v_num=7, train_loss=0.567, val_loss=0.569]"
     ]
    },
    {
     "name": "stderr",
     "output_type": "stream",
     "text": [
      "Epoch 34, global step 315: 'val_loss' reached 0.56876 (best 0.56876), saving model to '/home/pawel/Documents/RISA/3D_segmentation/logger/checkpoints/epoch_34-0.56876.ckpt' as top 1\n"
     ]
    },
    {
     "name": "stdout",
     "output_type": "stream",
     "text": [
      "Epoch 35: 100%|██████████| 9/9 [00:09<00:00,  0.99it/s, v_num=7, train_loss=0.567, val_loss=0.569]current epoch: 35 current mean dice: 0.0079\n",
      "best mean dice: 0.0148 at epoch: 0\n",
      "current mean loss: 0.1043best mean loss: 0.0000at epoch: 0\n",
      "Epoch 35: 100%|██████████| 9/9 [00:16<00:00,  0.56it/s, v_num=7, train_loss=0.567, val_loss=0.567]"
     ]
    },
    {
     "name": "stderr",
     "output_type": "stream",
     "text": [
      "Epoch 35, global step 324: 'val_loss' reached 0.56659 (best 0.56659), saving model to '/home/pawel/Documents/RISA/3D_segmentation/logger/checkpoints/epoch_35-0.56659.ckpt' as top 1\n"
     ]
    },
    {
     "name": "stdout",
     "output_type": "stream",
     "text": [
      "Epoch 36: 100%|██████████| 9/9 [00:09<00:00,  0.99it/s, v_num=7, train_loss=0.564, val_loss=0.567]current epoch: 36 current mean dice: 0.0079\n",
      "best mean dice: 0.0148 at epoch: 0\n",
      "current mean loss: 0.1042best mean loss: 0.0000at epoch: 0\n",
      "Epoch 36: 100%|██████████| 9/9 [00:16<00:00,  0.56it/s, v_num=7, train_loss=0.564, val_loss=0.565]"
     ]
    },
    {
     "name": "stderr",
     "output_type": "stream",
     "text": [
      "Epoch 36, global step 333: 'val_loss' reached 0.56528 (best 0.56528), saving model to '/home/pawel/Documents/RISA/3D_segmentation/logger/checkpoints/epoch_36-0.56528.ckpt' as top 1\n"
     ]
    },
    {
     "name": "stdout",
     "output_type": "stream",
     "text": [
      "Epoch 37: 100%|██████████| 9/9 [00:09<00:00,  0.99it/s, v_num=7, train_loss=0.563, val_loss=0.565]current epoch: 37 current mean dice: 0.0072\n",
      "best mean dice: 0.0148 at epoch: 0\n",
      "current mean loss: 0.1045best mean loss: 0.0000at epoch: 0\n",
      "Epoch 37: 100%|██████████| 9/9 [00:16<00:00,  0.56it/s, v_num=7, train_loss=0.563, val_loss=0.567]"
     ]
    },
    {
     "name": "stderr",
     "output_type": "stream",
     "text": [
      "Epoch 37, global step 342: 'val_loss' was not in top 1\n"
     ]
    },
    {
     "name": "stdout",
     "output_type": "stream",
     "text": [
      "Epoch 38: 100%|██████████| 9/9 [00:09<00:00,  0.99it/s, v_num=7, train_loss=0.561, val_loss=0.567]current epoch: 38 current mean dice: 0.0075\n",
      "best mean dice: 0.0148 at epoch: 0\n",
      "current mean loss: 0.1035best mean loss: 0.0000at epoch: 0\n",
      "Epoch 38: 100%|██████████| 9/9 [00:16<00:00,  0.56it/s, v_num=7, train_loss=0.561, val_loss=0.562]"
     ]
    },
    {
     "name": "stderr",
     "output_type": "stream",
     "text": [
      "Epoch 38, global step 351: 'val_loss' reached 0.56195 (best 0.56195), saving model to '/home/pawel/Documents/RISA/3D_segmentation/logger/checkpoints/epoch_38-0.56195.ckpt' as top 1\n"
     ]
    },
    {
     "name": "stdout",
     "output_type": "stream",
     "text": [
      "Epoch 39: 100%|██████████| 9/9 [00:09<00:00,  0.98it/s, v_num=7, train_loss=0.559, val_loss=0.562]current epoch: 39 current mean dice: 0.0075\n",
      "best mean dice: 0.0148 at epoch: 0\n",
      "current mean loss: 0.1033best mean loss: 0.0000at epoch: 0\n",
      "Epoch 39: 100%|██████████| 9/9 [00:16<00:00,  0.55it/s, v_num=7, train_loss=0.559, val_loss=0.561]"
     ]
    },
    {
     "name": "stderr",
     "output_type": "stream",
     "text": [
      "Epoch 39, global step 360: 'val_loss' reached 0.56063 (best 0.56063), saving model to '/home/pawel/Documents/RISA/3D_segmentation/logger/checkpoints/epoch_39-0.56063.ckpt' as top 1\n"
     ]
    },
    {
     "name": "stdout",
     "output_type": "stream",
     "text": [
      "Epoch 40: 100%|██████████| 9/9 [00:09<00:00,  0.97it/s, v_num=7, train_loss=0.557, val_loss=0.561]current epoch: 40 current mean dice: 0.0062\n",
      "best mean dice: 0.0148 at epoch: 0\n",
      "current mean loss: 0.1027best mean loss: 0.0000at epoch: 0\n",
      "Epoch 40: 100%|██████████| 9/9 [00:16<00:00,  0.55it/s, v_num=7, train_loss=0.557, val_loss=0.557]"
     ]
    },
    {
     "name": "stderr",
     "output_type": "stream",
     "text": [
      "Epoch 40, global step 369: 'val_loss' reached 0.55732 (best 0.55732), saving model to '/home/pawel/Documents/RISA/3D_segmentation/logger/checkpoints/epoch_40-0.55732.ckpt' as top 1\n"
     ]
    },
    {
     "name": "stdout",
     "output_type": "stream",
     "text": [
      "Epoch 41: 100%|██████████| 9/9 [00:08<00:00,  1.02it/s, v_num=7, train_loss=0.556, val_loss=0.557]current epoch: 41 current mean dice: 0.0067\n",
      "best mean dice: 0.0148 at epoch: 0\n",
      "current mean loss: 0.1019best mean loss: 0.0000at epoch: 0\n",
      "Epoch 41: 100%|██████████| 9/9 [00:15<00:00,  0.57it/s, v_num=7, train_loss=0.556, val_loss=0.553]"
     ]
    },
    {
     "name": "stderr",
     "output_type": "stream",
     "text": [
      "Epoch 41, global step 378: 'val_loss' reached 0.55307 (best 0.55307), saving model to '/home/pawel/Documents/RISA/3D_segmentation/logger/checkpoints/epoch_41-0.55307.ckpt' as top 1\n"
     ]
    },
    {
     "name": "stdout",
     "output_type": "stream",
     "text": [
      "Epoch 42: 100%|██████████| 9/9 [00:08<00:00,  1.00it/s, v_num=7, train_loss=0.554, val_loss=0.553]current epoch: 42 current mean dice: 0.0062\n",
      "best mean dice: 0.0148 at epoch: 0\n",
      "current mean loss: 0.1024best mean loss: 0.0000at epoch: 0\n",
      "Epoch 42: 100%|██████████| 9/9 [00:16<00:00,  0.56it/s, v_num=7, train_loss=0.554, val_loss=0.556]"
     ]
    },
    {
     "name": "stderr",
     "output_type": "stream",
     "text": [
      "Epoch 42, global step 387: 'val_loss' was not in top 1\n"
     ]
    },
    {
     "name": "stdout",
     "output_type": "stream",
     "text": [
      "Epoch 43: 100%|██████████| 9/9 [00:09<00:00,  0.97it/s, v_num=7, train_loss=0.552, val_loss=0.556]current epoch: 43 current mean dice: 0.0065\n",
      "best mean dice: 0.0148 at epoch: 0\n",
      "current mean loss: 0.1014best mean loss: 0.0000at epoch: 0\n",
      "Epoch 43: 100%|██████████| 9/9 [00:16<00:00,  0.55it/s, v_num=7, train_loss=0.552, val_loss=0.550]"
     ]
    },
    {
     "name": "stderr",
     "output_type": "stream",
     "text": [
      "Epoch 43, global step 396: 'val_loss' reached 0.55039 (best 0.55039), saving model to '/home/pawel/Documents/RISA/3D_segmentation/logger/checkpoints/epoch_43-0.55039.ckpt' as top 1\n"
     ]
    },
    {
     "name": "stdout",
     "output_type": "stream",
     "text": [
      "Epoch 44: 100%|██████████| 9/9 [00:09<00:00,  0.99it/s, v_num=7, train_loss=0.551, val_loss=0.550]current epoch: 44 current mean dice: 0.0068\n",
      "best mean dice: 0.0148 at epoch: 0\n",
      "current mean loss: 0.1021best mean loss: 0.0000at epoch: 0\n",
      "Epoch 44: 100%|██████████| 9/9 [00:16<00:00,  0.56it/s, v_num=7, train_loss=0.551, val_loss=0.554]"
     ]
    },
    {
     "name": "stderr",
     "output_type": "stream",
     "text": [
      "Epoch 44, global step 405: 'val_loss' was not in top 1\n"
     ]
    },
    {
     "name": "stdout",
     "output_type": "stream",
     "text": [
      "Epoch 45: 100%|██████████| 9/9 [00:09<00:00,  0.99it/s, v_num=7, train_loss=0.547, val_loss=0.554]current epoch: 45 current mean dice: 0.0055\n",
      "best mean dice: 0.0148 at epoch: 0\n",
      "current mean loss: 0.1008best mean loss: 0.0000at epoch: 0\n",
      "Epoch 45: 100%|██████████| 9/9 [00:16<00:00,  0.56it/s, v_num=7, train_loss=0.547, val_loss=0.547]"
     ]
    },
    {
     "name": "stderr",
     "output_type": "stream",
     "text": [
      "Epoch 45, global step 414: 'val_loss' reached 0.54687 (best 0.54687), saving model to '/home/pawel/Documents/RISA/3D_segmentation/logger/checkpoints/epoch_45-0.54687.ckpt' as top 1\n"
     ]
    },
    {
     "name": "stdout",
     "output_type": "stream",
     "text": [
      "Epoch 46: 100%|██████████| 9/9 [00:09<00:00,  0.97it/s, v_num=7, train_loss=0.546, val_loss=0.547]current epoch: 46 current mean dice: 0.0056\n",
      "best mean dice: 0.0148 at epoch: 0\n",
      "current mean loss: 0.1005best mean loss: 0.0000at epoch: 0\n",
      "Epoch 46: 100%|██████████| 9/9 [00:16<00:00,  0.55it/s, v_num=7, train_loss=0.546, val_loss=0.545]"
     ]
    },
    {
     "name": "stderr",
     "output_type": "stream",
     "text": [
      "Epoch 46, global step 423: 'val_loss' reached 0.54531 (best 0.54531), saving model to '/home/pawel/Documents/RISA/3D_segmentation/logger/checkpoints/epoch_46-0.54531.ckpt' as top 1\n"
     ]
    },
    {
     "name": "stdout",
     "output_type": "stream",
     "text": [
      "Epoch 47: 100%|██████████| 9/9 [00:09<00:00,  0.96it/s, v_num=7, train_loss=0.544, val_loss=0.545]current epoch: 47 current mean dice: 0.0035\n",
      "best mean dice: 0.0148 at epoch: 0\n",
      "current mean loss: 0.0998best mean loss: 0.0000at epoch: 0\n",
      "Epoch 47: 100%|██████████| 9/9 [00:16<00:00,  0.54it/s, v_num=7, train_loss=0.544, val_loss=0.542]"
     ]
    },
    {
     "name": "stderr",
     "output_type": "stream",
     "text": [
      "Epoch 47, global step 432: 'val_loss' reached 0.54167 (best 0.54167), saving model to '/home/pawel/Documents/RISA/3D_segmentation/logger/checkpoints/epoch_47-0.54167.ckpt' as top 1\n"
     ]
    },
    {
     "name": "stdout",
     "output_type": "stream",
     "text": [
      "Epoch 48: 100%|██████████| 9/9 [00:09<00:00,  0.95it/s, v_num=7, train_loss=0.542, val_loss=0.542]current epoch: 48 current mean dice: 0.0029\n",
      "best mean dice: 0.0148 at epoch: 0\n",
      "current mean loss: 0.0995best mean loss: 0.0000at epoch: 0\n",
      "Epoch 48: 100%|██████████| 9/9 [00:16<00:00,  0.54it/s, v_num=7, train_loss=0.542, val_loss=0.540]"
     ]
    },
    {
     "name": "stderr",
     "output_type": "stream",
     "text": [
      "Epoch 48, global step 441: 'val_loss' reached 0.53995 (best 0.53995), saving model to '/home/pawel/Documents/RISA/3D_segmentation/logger/checkpoints/epoch_48-0.53995.ckpt' as top 1\n"
     ]
    },
    {
     "name": "stdout",
     "output_type": "stream",
     "text": [
      "Epoch 49: 100%|██████████| 9/9 [00:09<00:00,  0.94it/s, v_num=7, train_loss=0.545, val_loss=0.540]current epoch: 49 current mean dice: 0.0037\n",
      "best mean dice: 0.0148 at epoch: 0\n",
      "current mean loss: 0.0999best mean loss: 0.0000at epoch: 0\n",
      "Epoch 49: 100%|██████████| 9/9 [00:16<00:00,  0.54it/s, v_num=7, train_loss=0.545, val_loss=0.542]"
     ]
    },
    {
     "name": "stderr",
     "output_type": "stream",
     "text": [
      "Epoch 49, global step 450: 'val_loss' was not in top 1\n"
     ]
    },
    {
     "name": "stdout",
     "output_type": "stream",
     "text": [
      "Epoch 50: 100%|██████████| 9/9 [00:09<00:00,  1.00it/s, v_num=7, train_loss=0.541, val_loss=0.542]current epoch: 50 current mean dice: 0.0034\n",
      "best mean dice: 0.0148 at epoch: 0\n",
      "current mean loss: 0.0995best mean loss: 0.0000at epoch: 0\n",
      "Epoch 50: 100%|██████████| 9/9 [00:16<00:00,  0.56it/s, v_num=7, train_loss=0.541, val_loss=0.540]"
     ]
    },
    {
     "name": "stderr",
     "output_type": "stream",
     "text": [
      "Epoch 50, global step 459: 'val_loss' reached 0.53972 (best 0.53972), saving model to '/home/pawel/Documents/RISA/3D_segmentation/logger/checkpoints/epoch_50-0.53972.ckpt' as top 1\n"
     ]
    },
    {
     "name": "stdout",
     "output_type": "stream",
     "text": [
      "Epoch 51: 100%|██████████| 9/9 [00:09<00:00,  0.99it/s, v_num=7, train_loss=0.541, val_loss=0.540]current epoch: 51 current mean dice: 0.0048\n",
      "best mean dice: 0.0148 at epoch: 0\n",
      "current mean loss: 0.0995best mean loss: 0.0000at epoch: 0\n",
      "Epoch 51: 100%|██████████| 9/9 [00:16<00:00,  0.56it/s, v_num=7, train_loss=0.541, val_loss=0.540]"
     ]
    },
    {
     "name": "stderr",
     "output_type": "stream",
     "text": [
      "Epoch 51, global step 468: 'val_loss' was not in top 1\n"
     ]
    },
    {
     "name": "stdout",
     "output_type": "stream",
     "text": [
      "Epoch 52: 100%|██████████| 9/9 [00:09<00:00,  0.99it/s, v_num=7, train_loss=0.537, val_loss=0.540]current epoch: 52 current mean dice: 0.0042\n",
      "best mean dice: 0.0148 at epoch: 0\n",
      "current mean loss: 0.0994best mean loss: 0.0000at epoch: 0\n",
      "Epoch 52: 100%|██████████| 9/9 [00:16<00:00,  0.56it/s, v_num=7, train_loss=0.537, val_loss=0.539]"
     ]
    },
    {
     "name": "stderr",
     "output_type": "stream",
     "text": [
      "Epoch 52, global step 477: 'val_loss' reached 0.53920 (best 0.53920), saving model to '/home/pawel/Documents/RISA/3D_segmentation/logger/checkpoints/epoch_52-0.53920.ckpt' as top 1\n"
     ]
    },
    {
     "name": "stdout",
     "output_type": "stream",
     "text": [
      "Epoch 53: 100%|██████████| 9/9 [00:09<00:00,  1.00it/s, v_num=7, train_loss=0.535, val_loss=0.539]current epoch: 53 current mean dice: 0.0001\n",
      "best mean dice: 0.0148 at epoch: 0\n",
      "current mean loss: 0.0982best mean loss: 0.0000at epoch: 0\n",
      "Epoch 53: 100%|██████████| 9/9 [00:16<00:00,  0.56it/s, v_num=7, train_loss=0.535, val_loss=0.533]"
     ]
    },
    {
     "name": "stderr",
     "output_type": "stream",
     "text": [
      "Epoch 53, global step 486: 'val_loss' reached 0.53286 (best 0.53286), saving model to '/home/pawel/Documents/RISA/3D_segmentation/logger/checkpoints/epoch_53-0.53286.ckpt' as top 1\n"
     ]
    },
    {
     "name": "stdout",
     "output_type": "stream",
     "text": [
      "Epoch 54: 100%|██████████| 9/9 [00:09<00:00,  0.97it/s, v_num=7, train_loss=0.535, val_loss=0.533]current epoch: 54 current mean dice: 0.0000\n",
      "best mean dice: 0.0148 at epoch: 0\n",
      "current mean loss: 0.0981best mean loss: 0.0000at epoch: 0\n",
      "Epoch 54: 100%|██████████| 9/9 [00:16<00:00,  0.55it/s, v_num=7, train_loss=0.535, val_loss=0.532]"
     ]
    },
    {
     "name": "stderr",
     "output_type": "stream",
     "text": [
      "Epoch 54, global step 495: 'val_loss' reached 0.53239 (best 0.53239), saving model to '/home/pawel/Documents/RISA/3D_segmentation/logger/checkpoints/epoch_54-0.53239.ckpt' as top 1\n"
     ]
    },
    {
     "name": "stdout",
     "output_type": "stream",
     "text": [
      "Epoch 55: 100%|██████████| 9/9 [00:09<00:00,  0.97it/s, v_num=7, train_loss=0.533, val_loss=0.532]current epoch: 55 current mean dice: 0.0065\n",
      "best mean dice: 0.0148 at epoch: 0\n",
      "current mean loss: 0.0990best mean loss: 0.0000at epoch: 0\n",
      "Epoch 55: 100%|██████████| 9/9 [00:16<00:00,  0.55it/s, v_num=7, train_loss=0.533, val_loss=0.537]"
     ]
    },
    {
     "name": "stderr",
     "output_type": "stream",
     "text": [
      "Epoch 55, global step 504: 'val_loss' was not in top 1\n"
     ]
    },
    {
     "name": "stdout",
     "output_type": "stream",
     "text": [
      "Epoch 56: 100%|██████████| 9/9 [00:09<00:00,  0.92it/s, v_num=7, train_loss=0.530, val_loss=0.537]current epoch: 56 current mean dice: 0.0023\n",
      "best mean dice: 0.0148 at epoch: 0\n",
      "current mean loss: 0.0979best mean loss: 0.0000at epoch: 0\n",
      "Epoch 56: 100%|██████████| 9/9 [00:17<00:00,  0.53it/s, v_num=7, train_loss=0.530, val_loss=0.531]"
     ]
    },
    {
     "name": "stderr",
     "output_type": "stream",
     "text": [
      "Epoch 56, global step 513: 'val_loss' reached 0.53113 (best 0.53113), saving model to '/home/pawel/Documents/RISA/3D_segmentation/logger/checkpoints/epoch_56-0.53113.ckpt' as top 1\n"
     ]
    },
    {
     "name": "stdout",
     "output_type": "stream",
     "text": [
      "Epoch 57: 100%|██████████| 9/9 [00:09<00:00,  0.93it/s, v_num=7, train_loss=0.531, val_loss=0.531]current epoch: 57 current mean dice: 0.0001\n",
      "best mean dice: 0.0148 at epoch: 0\n",
      "current mean loss: 0.0974best mean loss: 0.0000at epoch: 0\n",
      "Epoch 57: 100%|██████████| 9/9 [00:16<00:00,  0.54it/s, v_num=7, train_loss=0.531, val_loss=0.529]"
     ]
    },
    {
     "name": "stderr",
     "output_type": "stream",
     "text": [
      "Epoch 57, global step 522: 'val_loss' reached 0.52866 (best 0.52866), saving model to '/home/pawel/Documents/RISA/3D_segmentation/logger/checkpoints/epoch_57-0.52866.ckpt' as top 1\n"
     ]
    },
    {
     "name": "stdout",
     "output_type": "stream",
     "text": [
      "Epoch 58: 100%|██████████| 9/9 [00:09<00:00,  0.99it/s, v_num=7, train_loss=0.528, val_loss=0.529]current epoch: 58 current mean dice: 0.0000\n",
      "best mean dice: 0.0148 at epoch: 0\n",
      "current mean loss: 0.0973best mean loss: 0.0000at epoch: 0\n",
      "Epoch 58: 100%|██████████| 9/9 [00:16<00:00,  0.56it/s, v_num=7, train_loss=0.528, val_loss=0.528]"
     ]
    },
    {
     "name": "stderr",
     "output_type": "stream",
     "text": [
      "Epoch 58, global step 531: 'val_loss' reached 0.52794 (best 0.52794), saving model to '/home/pawel/Documents/RISA/3D_segmentation/logger/checkpoints/epoch_58-0.52794.ckpt' as top 1\n"
     ]
    },
    {
     "name": "stdout",
     "output_type": "stream",
     "text": [
      "Epoch 59: 100%|██████████| 9/9 [00:09<00:00,  0.97it/s, v_num=7, train_loss=0.527, val_loss=0.528]current epoch: 59 current mean dice: 0.0000\n",
      "best mean dice: 0.0148 at epoch: 0\n",
      "current mean loss: 0.0970best mean loss: 0.0000at epoch: 0\n",
      "Epoch 59: 100%|██████████| 9/9 [00:16<00:00,  0.55it/s, v_num=7, train_loss=0.527, val_loss=0.526]"
     ]
    },
    {
     "name": "stderr",
     "output_type": "stream",
     "text": [
      "Epoch 59, global step 540: 'val_loss' reached 0.52647 (best 0.52647), saving model to '/home/pawel/Documents/RISA/3D_segmentation/logger/checkpoints/epoch_59-0.52647.ckpt' as top 1\n"
     ]
    },
    {
     "name": "stdout",
     "output_type": "stream",
     "text": [
      "Epoch 60: 100%|██████████| 9/9 [00:09<00:00,  0.99it/s, v_num=7, train_loss=0.524, val_loss=0.526]current epoch: 60 current mean dice: 0.0000\n",
      "best mean dice: 0.0148 at epoch: 0\n",
      "current mean loss: 0.0969best mean loss: 0.0000at epoch: 0\n",
      "Epoch 60: 100%|██████████| 9/9 [00:16<00:00,  0.56it/s, v_num=7, train_loss=0.524, val_loss=0.526]"
     ]
    },
    {
     "name": "stderr",
     "output_type": "stream",
     "text": [
      "Epoch 60, global step 549: 'val_loss' reached 0.52577 (best 0.52577), saving model to '/home/pawel/Documents/RISA/3D_segmentation/logger/checkpoints/epoch_60-0.52577.ckpt' as top 1\n"
     ]
    },
    {
     "name": "stdout",
     "output_type": "stream",
     "text": [
      "Epoch 61: 100%|██████████| 9/9 [00:09<00:00,  0.96it/s, v_num=7, train_loss=0.526, val_loss=0.526]current epoch: 61 current mean dice: 0.0000\n",
      "best mean dice: 0.0148 at epoch: 0\n",
      "current mean loss: 0.0967best mean loss: 0.0000at epoch: 0\n",
      "Epoch 61: 100%|██████████| 9/9 [00:16<00:00,  0.55it/s, v_num=7, train_loss=0.526, val_loss=0.525]"
     ]
    },
    {
     "name": "stderr",
     "output_type": "stream",
     "text": [
      "Epoch 61, global step 558: 'val_loss' reached 0.52491 (best 0.52491), saving model to '/home/pawel/Documents/RISA/3D_segmentation/logger/checkpoints/epoch_61-0.52491.ckpt' as top 1\n"
     ]
    },
    {
     "name": "stdout",
     "output_type": "stream",
     "text": [
      "Epoch 62: 100%|██████████| 9/9 [00:09<00:00,  0.98it/s, v_num=7, train_loss=0.522, val_loss=0.525]current epoch: 62 current mean dice: 0.0000\n",
      "best mean dice: 0.0148 at epoch: 0\n",
      "current mean loss: 0.0964best mean loss: 0.0000at epoch: 0\n",
      "Epoch 62: 100%|██████████| 9/9 [00:16<00:00,  0.56it/s, v_num=7, train_loss=0.522, val_loss=0.523]"
     ]
    },
    {
     "name": "stderr",
     "output_type": "stream",
     "text": [
      "Epoch 62, global step 567: 'val_loss' reached 0.52299 (best 0.52299), saving model to '/home/pawel/Documents/RISA/3D_segmentation/logger/checkpoints/epoch_62-0.52299.ckpt' as top 1\n"
     ]
    },
    {
     "name": "stdout",
     "output_type": "stream",
     "text": [
      "Epoch 63: 100%|██████████| 9/9 [00:09<00:00,  0.96it/s, v_num=7, train_loss=0.524, val_loss=0.523]current epoch: 63 current mean dice: 0.0000\n",
      "best mean dice: 0.0148 at epoch: 0\n",
      "current mean loss: 0.0963best mean loss: 0.0000at epoch: 0\n",
      "Epoch 63: 100%|██████████| 9/9 [00:16<00:00,  0.55it/s, v_num=7, train_loss=0.524, val_loss=0.523]"
     ]
    },
    {
     "name": "stderr",
     "output_type": "stream",
     "text": [
      "Epoch 63, global step 576: 'val_loss' reached 0.52270 (best 0.52270), saving model to '/home/pawel/Documents/RISA/3D_segmentation/logger/checkpoints/epoch_63-0.52270.ckpt' as top 1\n"
     ]
    },
    {
     "name": "stdout",
     "output_type": "stream",
     "text": [
      "Epoch 64: 100%|██████████| 9/9 [00:09<00:00,  1.00it/s, v_num=7, train_loss=0.522, val_loss=0.523]current epoch: 64 current mean dice: 0.0000\n",
      "best mean dice: 0.0148 at epoch: 0\n",
      "current mean loss: 0.0961best mean loss: 0.0000at epoch: 0\n",
      "Epoch 64: 100%|██████████| 9/9 [00:15<00:00,  0.56it/s, v_num=7, train_loss=0.522, val_loss=0.522]"
     ]
    },
    {
     "name": "stderr",
     "output_type": "stream",
     "text": [
      "Epoch 64, global step 585: 'val_loss' reached 0.52188 (best 0.52188), saving model to '/home/pawel/Documents/RISA/3D_segmentation/logger/checkpoints/epoch_64-0.52188.ckpt' as top 1\n"
     ]
    },
    {
     "name": "stdout",
     "output_type": "stream",
     "text": [
      "Epoch 65: 100%|██████████| 9/9 [00:09<00:00,  0.97it/s, v_num=7, train_loss=0.518, val_loss=0.522]current epoch: 65 current mean dice: 0.0000\n",
      "best mean dice: 0.0148 at epoch: 0\n",
      "current mean loss: 0.0960best mean loss: 0.0000at epoch: 0\n",
      "Epoch 65: 100%|██████████| 9/9 [00:16<00:00,  0.55it/s, v_num=7, train_loss=0.518, val_loss=0.521]"
     ]
    },
    {
     "name": "stderr",
     "output_type": "stream",
     "text": [
      "Epoch 65, global step 594: 'val_loss' reached 0.52082 (best 0.52082), saving model to '/home/pawel/Documents/RISA/3D_segmentation/logger/checkpoints/epoch_65-0.52082.ckpt' as top 1\n"
     ]
    },
    {
     "name": "stdout",
     "output_type": "stream",
     "text": [
      "Epoch 66: 100%|██████████| 9/9 [00:09<00:00,  0.99it/s, v_num=7, train_loss=0.515, val_loss=0.521]current epoch: 66 current mean dice: 0.0000\n",
      "best mean dice: 0.0148 at epoch: 0\n",
      "current mean loss: 0.0958best mean loss: 0.0000at epoch: 0\n",
      "Epoch 66: 100%|██████████| 9/9 [00:16<00:00,  0.56it/s, v_num=7, train_loss=0.515, val_loss=0.520]"
     ]
    },
    {
     "name": "stderr",
     "output_type": "stream",
     "text": [
      "Epoch 66, global step 603: 'val_loss' reached 0.51989 (best 0.51989), saving model to '/home/pawel/Documents/RISA/3D_segmentation/logger/checkpoints/epoch_66-0.51989.ckpt' as top 1\n"
     ]
    },
    {
     "name": "stdout",
     "output_type": "stream",
     "text": [
      "Epoch 67: 100%|██████████| 9/9 [00:08<00:00,  1.01it/s, v_num=7, train_loss=0.515, val_loss=0.520]current epoch: 67 current mean dice: 0.0000\n",
      "best mean dice: 0.0148 at epoch: 0\n",
      "current mean loss: 0.0953best mean loss: 0.0000at epoch: 0\n",
      "Epoch 67: 100%|██████████| 9/9 [00:15<00:00,  0.57it/s, v_num=7, train_loss=0.515, val_loss=0.517]"
     ]
    },
    {
     "name": "stderr",
     "output_type": "stream",
     "text": [
      "Epoch 67, global step 612: 'val_loss' reached 0.51717 (best 0.51717), saving model to '/home/pawel/Documents/RISA/3D_segmentation/logger/checkpoints/epoch_67-0.51717.ckpt' as top 1\n"
     ]
    },
    {
     "name": "stdout",
     "output_type": "stream",
     "text": [
      "Epoch 68: 100%|██████████| 9/9 [00:08<00:00,  1.00it/s, v_num=7, train_loss=0.518, val_loss=0.517]current epoch: 68 current mean dice: 0.0000\n",
      "best mean dice: 0.0148 at epoch: 0\n",
      "current mean loss: 0.0954best mean loss: 0.0000at epoch: 0\n",
      "Epoch 68: 100%|██████████| 9/9 [00:15<00:00,  0.56it/s, v_num=7, train_loss=0.518, val_loss=0.518]"
     ]
    },
    {
     "name": "stderr",
     "output_type": "stream",
     "text": [
      "Epoch 68, global step 621: 'val_loss' was not in top 1\n"
     ]
    },
    {
     "name": "stdout",
     "output_type": "stream",
     "text": [
      "Epoch 69: 100%|██████████| 9/9 [00:08<00:00,  1.00it/s, v_num=7, train_loss=0.518, val_loss=0.518]current epoch: 69 current mean dice: 0.0001\n",
      "best mean dice: 0.0148 at epoch: 0\n",
      "current mean loss: 0.0953best mean loss: 0.0000at epoch: 0\n",
      "Epoch 69: 100%|██████████| 9/9 [00:15<00:00,  0.56it/s, v_num=7, train_loss=0.518, val_loss=0.517]"
     ]
    },
    {
     "name": "stderr",
     "output_type": "stream",
     "text": [
      "Epoch 69, global step 630: 'val_loss' reached 0.51717 (best 0.51717), saving model to '/home/pawel/Documents/RISA/3D_segmentation/logger/checkpoints/epoch_69-0.51717.ckpt' as top 1\n"
     ]
    },
    {
     "name": "stdout",
     "output_type": "stream",
     "text": [
      "Epoch 70: 100%|██████████| 9/9 [00:09<00:00,  0.98it/s, v_num=7, train_loss=0.516, val_loss=0.517]current epoch: 70 current mean dice: 0.0002\n",
      "best mean dice: 0.0148 at epoch: 0\n",
      "current mean loss: 0.0949best mean loss: 0.0000at epoch: 0\n",
      "Epoch 70: 100%|██████████| 9/9 [00:16<00:00,  0.56it/s, v_num=7, train_loss=0.516, val_loss=0.515]"
     ]
    },
    {
     "name": "stderr",
     "output_type": "stream",
     "text": [
      "Epoch 70, global step 639: 'val_loss' reached 0.51527 (best 0.51527), saving model to '/home/pawel/Documents/RISA/3D_segmentation/logger/checkpoints/epoch_70-0.51527.ckpt' as top 1\n"
     ]
    },
    {
     "name": "stdout",
     "output_type": "stream",
     "text": [
      "Epoch 71: 100%|██████████| 9/9 [00:09<00:00,  1.00it/s, v_num=7, train_loss=0.516, val_loss=0.515]current epoch: 71 current mean dice: 0.0018\n",
      "best mean dice: 0.0148 at epoch: 0\n",
      "current mean loss: 0.0946best mean loss: 0.0000at epoch: 0\n",
      "Epoch 71: 100%|██████████| 9/9 [00:16<00:00,  0.56it/s, v_num=7, train_loss=0.516, val_loss=0.513]"
     ]
    },
    {
     "name": "stderr",
     "output_type": "stream",
     "text": [
      "Epoch 71, global step 648: 'val_loss' reached 0.51338 (best 0.51338), saving model to '/home/pawel/Documents/RISA/3D_segmentation/logger/checkpoints/epoch_71-0.51338.ckpt' as top 1\n"
     ]
    },
    {
     "name": "stdout",
     "output_type": "stream",
     "text": [
      "Epoch 72: 100%|██████████| 9/9 [00:08<00:00,  1.02it/s, v_num=7, train_loss=0.515, val_loss=0.513]current epoch: 72 current mean dice: 0.0064\n",
      "best mean dice: 0.0148 at epoch: 0\n",
      "current mean loss: 0.0943best mean loss: 0.0000at epoch: 0\n",
      "Epoch 72: 100%|██████████| 9/9 [00:15<00:00,  0.57it/s, v_num=7, train_loss=0.515, val_loss=0.512]"
     ]
    },
    {
     "name": "stderr",
     "output_type": "stream",
     "text": [
      "Epoch 72, global step 657: 'val_loss' reached 0.51165 (best 0.51165), saving model to '/home/pawel/Documents/RISA/3D_segmentation/logger/checkpoints/epoch_72-0.51165.ckpt' as top 1\n"
     ]
    },
    {
     "name": "stdout",
     "output_type": "stream",
     "text": [
      "Epoch 73: 100%|██████████| 9/9 [00:09<00:00,  1.00it/s, v_num=7, train_loss=0.516, val_loss=0.512]current epoch: 73 current mean dice: 0.0099\n",
      "best mean dice: 0.0148 at epoch: 0\n",
      "current mean loss: 0.0939best mean loss: 0.0000at epoch: 0\n",
      "Epoch 73: 100%|██████████| 9/9 [00:16<00:00,  0.56it/s, v_num=7, train_loss=0.516, val_loss=0.510]"
     ]
    },
    {
     "name": "stderr",
     "output_type": "stream",
     "text": [
      "Epoch 73, global step 666: 'val_loss' reached 0.50952 (best 0.50952), saving model to '/home/pawel/Documents/RISA/3D_segmentation/logger/checkpoints/epoch_73-0.50952.ckpt' as top 1\n"
     ]
    },
    {
     "name": "stdout",
     "output_type": "stream",
     "text": [
      "Epoch 74: 100%|██████████| 9/9 [00:09<00:00,  0.99it/s, v_num=7, train_loss=0.513, val_loss=0.510]current epoch: 74 current mean dice: 0.0486\n",
      "best mean dice: 0.0486 at epoch: 74\n",
      "current mean loss: 0.0942best mean loss: 0.0000at epoch: 0\n",
      "Epoch 74: 100%|██████████| 9/9 [00:16<00:00,  0.56it/s, v_num=7, train_loss=0.513, val_loss=0.511]"
     ]
    },
    {
     "name": "stderr",
     "output_type": "stream",
     "text": [
      "Epoch 74, global step 675: 'val_loss' was not in top 1\n"
     ]
    },
    {
     "name": "stdout",
     "output_type": "stream",
     "text": [
      "Epoch 75: 100%|██████████| 9/9 [00:09<00:00,  0.98it/s, v_num=7, train_loss=0.515, val_loss=0.511]current epoch: 75 current mean dice: 0.0743\n",
      "best mean dice: 0.0743 at epoch: 75\n",
      "current mean loss: 0.0939best mean loss: 0.0000at epoch: 0\n",
      "Epoch 75: 100%|██████████| 9/9 [00:16<00:00,  0.56it/s, v_num=7, train_loss=0.515, val_loss=0.510]"
     ]
    },
    {
     "name": "stderr",
     "output_type": "stream",
     "text": [
      "Epoch 75, global step 684: 'val_loss' was not in top 1\n"
     ]
    },
    {
     "name": "stdout",
     "output_type": "stream",
     "text": [
      "Epoch 76: 100%|██████████| 9/9 [00:08<00:00,  1.05it/s, v_num=7, train_loss=0.508, val_loss=0.510]current epoch: 76 current mean dice: 0.0782\n",
      "best mean dice: 0.0782 at epoch: 76\n",
      "current mean loss: 0.0936best mean loss: 0.0000at epoch: 0\n",
      "Epoch 76: 100%|██████████| 9/9 [00:15<00:00,  0.58it/s, v_num=7, train_loss=0.508, val_loss=0.508]"
     ]
    },
    {
     "name": "stderr",
     "output_type": "stream",
     "text": [
      "Epoch 76, global step 693: 'val_loss' reached 0.50838 (best 0.50838), saving model to '/home/pawel/Documents/RISA/3D_segmentation/logger/checkpoints/epoch_76-0.50838.ckpt' as top 1\n"
     ]
    },
    {
     "name": "stdout",
     "output_type": "stream",
     "text": [
      "Epoch 77: 100%|██████████| 9/9 [00:09<00:00,  0.99it/s, v_num=7, train_loss=0.502, val_loss=0.508]current epoch: 77 current mean dice: 0.1291\n",
      "best mean dice: 0.1291 at epoch: 77\n",
      "current mean loss: 0.0936best mean loss: 0.0000at epoch: 0\n",
      "Epoch 77: 100%|██████████| 9/9 [00:16<00:00,  0.56it/s, v_num=7, train_loss=0.502, val_loss=0.508]"
     ]
    },
    {
     "name": "stderr",
     "output_type": "stream",
     "text": [
      "Epoch 77, global step 702: 'val_loss' reached 0.50814 (best 0.50814), saving model to '/home/pawel/Documents/RISA/3D_segmentation/logger/checkpoints/epoch_77-0.50814.ckpt' as top 1\n"
     ]
    },
    {
     "name": "stdout",
     "output_type": "stream",
     "text": [
      "Epoch 78: 100%|██████████| 9/9 [00:09<00:00,  0.94it/s, v_num=7, train_loss=0.502, val_loss=0.508]current epoch: 78 current mean dice: 0.1275\n",
      "best mean dice: 0.1291 at epoch: 77\n",
      "current mean loss: 0.0933best mean loss: 0.0000at epoch: 0\n",
      "Epoch 78: 100%|██████████| 9/9 [00:16<00:00,  0.54it/s, v_num=7, train_loss=0.502, val_loss=0.506]"
     ]
    },
    {
     "name": "stderr",
     "output_type": "stream",
     "text": [
      "Epoch 78, global step 711: 'val_loss' reached 0.50631 (best 0.50631), saving model to '/home/pawel/Documents/RISA/3D_segmentation/logger/checkpoints/epoch_78-0.50631.ckpt' as top 1\n"
     ]
    },
    {
     "name": "stdout",
     "output_type": "stream",
     "text": [
      "Epoch 79: 100%|██████████| 9/9 [00:09<00:00,  0.94it/s, v_num=7, train_loss=0.504, val_loss=0.506]current epoch: 79 current mean dice: 0.1543\n",
      "best mean dice: 0.1543 at epoch: 79\n",
      "current mean loss: 0.0931best mean loss: 0.0000at epoch: 0\n",
      "Epoch 79: 100%|██████████| 9/9 [00:16<00:00,  0.54it/s, v_num=7, train_loss=0.504, val_loss=0.505]"
     ]
    },
    {
     "name": "stderr",
     "output_type": "stream",
     "text": [
      "Epoch 79, global step 720: 'val_loss' reached 0.50534 (best 0.50534), saving model to '/home/pawel/Documents/RISA/3D_segmentation/logger/checkpoints/epoch_79-0.50534.ckpt' as top 1\n"
     ]
    },
    {
     "name": "stdout",
     "output_type": "stream",
     "text": [
      "Epoch 80: 100%|██████████| 9/9 [00:09<00:00,  0.99it/s, v_num=7, train_loss=0.503, val_loss=0.505]current epoch: 80 current mean dice: 0.1611\n",
      "best mean dice: 0.1611 at epoch: 80\n",
      "current mean loss: 0.0931best mean loss: 0.0000at epoch: 0\n",
      "Epoch 80: 100%|██████████| 9/9 [00:16<00:00,  0.56it/s, v_num=7, train_loss=0.503, val_loss=0.505]"
     ]
    },
    {
     "name": "stderr",
     "output_type": "stream",
     "text": [
      "Epoch 80, global step 729: 'val_loss' reached 0.50527 (best 0.50527), saving model to '/home/pawel/Documents/RISA/3D_segmentation/logger/checkpoints/epoch_80-0.50527.ckpt' as top 1\n"
     ]
    },
    {
     "name": "stdout",
     "output_type": "stream",
     "text": [
      "Epoch 81: 100%|██████████| 9/9 [00:09<00:00,  0.97it/s, v_num=7, train_loss=0.510, val_loss=0.505]current epoch: 81 current mean dice: 0.1580\n",
      "best mean dice: 0.1611 at epoch: 80\n",
      "current mean loss: 0.0928best mean loss: 0.0000at epoch: 0\n",
      "Epoch 81: 100%|██████████| 9/9 [00:16<00:00,  0.55it/s, v_num=7, train_loss=0.510, val_loss=0.504]"
     ]
    },
    {
     "name": "stderr",
     "output_type": "stream",
     "text": [
      "Epoch 81, global step 738: 'val_loss' reached 0.50362 (best 0.50362), saving model to '/home/pawel/Documents/RISA/3D_segmentation/logger/checkpoints/epoch_81-0.50362.ckpt' as top 1\n"
     ]
    },
    {
     "name": "stdout",
     "output_type": "stream",
     "text": [
      "Epoch 82: 100%|██████████| 9/9 [00:08<00:00,  1.00it/s, v_num=7, train_loss=0.507, val_loss=0.504]current epoch: 82 current mean dice: 0.1903\n",
      "best mean dice: 0.1903 at epoch: 82\n",
      "current mean loss: 0.0916best mean loss: 0.0000at epoch: 0\n",
      "Epoch 82: 100%|██████████| 9/9 [00:16<00:00,  0.56it/s, v_num=7, train_loss=0.507, val_loss=0.497]"
     ]
    },
    {
     "name": "stderr",
     "output_type": "stream",
     "text": [
      "Epoch 82, global step 747: 'val_loss' reached 0.49694 (best 0.49694), saving model to '/home/pawel/Documents/RISA/3D_segmentation/logger/checkpoints/epoch_82-0.49694.ckpt' as top 1\n"
     ]
    },
    {
     "name": "stdout",
     "output_type": "stream",
     "text": [
      "Epoch 83: 100%|██████████| 9/9 [00:09<00:00,  0.97it/s, v_num=7, train_loss=0.485, val_loss=0.497]current epoch: 83 current mean dice: 0.1835\n",
      "best mean dice: 0.1903 at epoch: 82\n",
      "current mean loss: 0.0920best mean loss: 0.0000at epoch: 0\n",
      "Epoch 83: 100%|██████████| 9/9 [00:16<00:00,  0.55it/s, v_num=7, train_loss=0.485, val_loss=0.500]"
     ]
    },
    {
     "name": "stderr",
     "output_type": "stream",
     "text": [
      "Epoch 83, global step 756: 'val_loss' was not in top 1\n"
     ]
    },
    {
     "name": "stdout",
     "output_type": "stream",
     "text": [
      "Epoch 84: 100%|██████████| 9/9 [00:08<00:00,  1.00it/s, v_num=7, train_loss=0.493, val_loss=0.500]current epoch: 84 current mean dice: 0.2005\n",
      "best mean dice: 0.2005 at epoch: 84\n",
      "current mean loss: 0.0917best mean loss: 0.0000at epoch: 0\n",
      "Epoch 84: 100%|██████████| 9/9 [00:16<00:00,  0.56it/s, v_num=7, train_loss=0.493, val_loss=0.497]"
     ]
    },
    {
     "name": "stderr",
     "output_type": "stream",
     "text": [
      "Epoch 84, global step 765: 'val_loss' was not in top 1\n"
     ]
    },
    {
     "name": "stdout",
     "output_type": "stream",
     "text": [
      "Epoch 85: 100%|██████████| 9/9 [00:08<00:00,  1.02it/s, v_num=7, train_loss=0.489, val_loss=0.497]current epoch: 85 current mean dice: 0.1968\n",
      "best mean dice: 0.2005 at epoch: 84\n",
      "current mean loss: 0.0922best mean loss: 0.0000at epoch: 0\n",
      "Epoch 85: 100%|██████████| 9/9 [00:15<00:00,  0.57it/s, v_num=7, train_loss=0.489, val_loss=0.500]"
     ]
    },
    {
     "name": "stderr",
     "output_type": "stream",
     "text": [
      "Epoch 85, global step 774: 'val_loss' was not in top 1\n"
     ]
    },
    {
     "name": "stdout",
     "output_type": "stream",
     "text": [
      "Epoch 86: 100%|██████████| 9/9 [00:08<00:00,  1.01it/s, v_num=7, train_loss=0.492, val_loss=0.500]current epoch: 86 current mean dice: 0.2004\n",
      "best mean dice: 0.2005 at epoch: 84\n",
      "current mean loss: 0.0909best mean loss: 0.0000at epoch: 0\n",
      "Epoch 86: 100%|██████████| 9/9 [00:15<00:00,  0.57it/s, v_num=7, train_loss=0.492, val_loss=0.493]"
     ]
    },
    {
     "name": "stderr",
     "output_type": "stream",
     "text": [
      "Epoch 86, global step 783: 'val_loss' reached 0.49312 (best 0.49312), saving model to '/home/pawel/Documents/RISA/3D_segmentation/logger/checkpoints/epoch_86-0.49312.ckpt' as top 1\n"
     ]
    },
    {
     "name": "stdout",
     "output_type": "stream",
     "text": [
      "Epoch 87: 100%|██████████| 9/9 [00:09<00:00,  0.99it/s, v_num=7, train_loss=0.484, val_loss=0.493]current epoch: 87 current mean dice: 0.2001\n",
      "best mean dice: 0.2005 at epoch: 84\n",
      "current mean loss: 0.0898best mean loss: 0.0000at epoch: 0\n",
      "Epoch 87: 100%|██████████| 9/9 [00:16<00:00,  0.56it/s, v_num=7, train_loss=0.484, val_loss=0.487]"
     ]
    },
    {
     "name": "stderr",
     "output_type": "stream",
     "text": [
      "Epoch 87, global step 792: 'val_loss' reached 0.48707 (best 0.48707), saving model to '/home/pawel/Documents/RISA/3D_segmentation/logger/checkpoints/epoch_87-0.48707.ckpt' as top 1\n"
     ]
    },
    {
     "name": "stdout",
     "output_type": "stream",
     "text": [
      "Epoch 88: 100%|██████████| 9/9 [00:09<00:00,  0.99it/s, v_num=7, train_loss=0.489, val_loss=0.487]current epoch: 88 current mean dice: 0.2153\n",
      "best mean dice: 0.2153 at epoch: 88\n",
      "current mean loss: 0.0902best mean loss: 0.0000at epoch: 0\n",
      "Epoch 88: 100%|██████████| 9/9 [00:16<00:00,  0.56it/s, v_num=7, train_loss=0.489, val_loss=0.490]"
     ]
    },
    {
     "name": "stderr",
     "output_type": "stream",
     "text": [
      "Epoch 88, global step 801: 'val_loss' was not in top 1\n"
     ]
    },
    {
     "name": "stdout",
     "output_type": "stream",
     "text": [
      "Epoch 89: 100%|██████████| 9/9 [00:08<00:00,  1.01it/s, v_num=7, train_loss=0.491, val_loss=0.490]current epoch: 89 current mean dice: 0.2284\n",
      "best mean dice: 0.2284 at epoch: 89\n",
      "current mean loss: 0.0917best mean loss: 0.0000at epoch: 0\n",
      "Epoch 89: 100%|██████████| 9/9 [00:15<00:00,  0.57it/s, v_num=7, train_loss=0.491, val_loss=0.498]"
     ]
    },
    {
     "name": "stderr",
     "output_type": "stream",
     "text": [
      "Epoch 89, global step 810: 'val_loss' was not in top 1\n"
     ]
    },
    {
     "name": "stdout",
     "output_type": "stream",
     "text": [
      "Epoch 90: 100%|██████████| 9/9 [00:09<00:00,  0.98it/s, v_num=7, train_loss=0.487, val_loss=0.498]current epoch: 90 current mean dice: 0.2339\n",
      "best mean dice: 0.2339 at epoch: 90\n",
      "current mean loss: 0.0919best mean loss: 0.0000at epoch: 0\n",
      "Epoch 90: 100%|██████████| 9/9 [00:16<00:00,  0.56it/s, v_num=7, train_loss=0.487, val_loss=0.498]"
     ]
    },
    {
     "name": "stderr",
     "output_type": "stream",
     "text": [
      "Epoch 90, global step 819: 'val_loss' was not in top 1\n"
     ]
    },
    {
     "name": "stdout",
     "output_type": "stream",
     "text": [
      "Epoch 91: 100%|██████████| 9/9 [00:08<00:00,  1.01it/s, v_num=7, train_loss=0.483, val_loss=0.498]current epoch: 91 current mean dice: 0.2067\n",
      "best mean dice: 0.2339 at epoch: 90\n",
      "current mean loss: 0.0912best mean loss: 0.0000at epoch: 0\n",
      "Epoch 91: 100%|██████████| 9/9 [00:16<00:00,  0.56it/s, v_num=7, train_loss=0.483, val_loss=0.494]"
     ]
    },
    {
     "name": "stderr",
     "output_type": "stream",
     "text": [
      "Epoch 91, global step 828: 'val_loss' was not in top 1\n"
     ]
    },
    {
     "name": "stdout",
     "output_type": "stream",
     "text": [
      "Epoch 92: 100%|██████████| 9/9 [00:09<00:00,  0.96it/s, v_num=7, train_loss=0.500, val_loss=0.494]current epoch: 92 current mean dice: 0.2265\n",
      "best mean dice: 0.2339 at epoch: 90\n",
      "current mean loss: 0.0883best mean loss: 0.0000at epoch: 0\n",
      "Epoch 92: 100%|██████████| 9/9 [00:16<00:00,  0.55it/s, v_num=7, train_loss=0.500, val_loss=0.479]"
     ]
    },
    {
     "name": "stderr",
     "output_type": "stream",
     "text": [
      "Epoch 92, global step 837: 'val_loss' reached 0.47922 (best 0.47922), saving model to '/home/pawel/Documents/RISA/3D_segmentation/logger/checkpoints/epoch_92-0.47922.ckpt' as top 1\n"
     ]
    },
    {
     "name": "stdout",
     "output_type": "stream",
     "text": [
      "Epoch 93: 100%|██████████| 9/9 [00:09<00:00,  0.98it/s, v_num=7, train_loss=0.474, val_loss=0.479]current epoch: 93 current mean dice: 0.2165\n",
      "best mean dice: 0.2339 at epoch: 90\n",
      "current mean loss: 0.0892best mean loss: 0.0000at epoch: 0\n",
      "Epoch 93: 100%|██████████| 9/9 [00:16<00:00,  0.56it/s, v_num=7, train_loss=0.474, val_loss=0.484]"
     ]
    },
    {
     "name": "stderr",
     "output_type": "stream",
     "text": [
      "Epoch 93, global step 846: 'val_loss' was not in top 1\n"
     ]
    },
    {
     "name": "stdout",
     "output_type": "stream",
     "text": [
      "Epoch 94: 100%|██████████| 9/9 [00:09<00:00,  1.00it/s, v_num=7, train_loss=0.501, val_loss=0.484]current epoch: 94 current mean dice: 0.2438\n",
      "best mean dice: 0.2438 at epoch: 94\n",
      "current mean loss: 0.0870best mean loss: 0.0000at epoch: 0\n",
      "Epoch 94: 100%|██████████| 9/9 [00:16<00:00,  0.56it/s, v_num=7, train_loss=0.501, val_loss=0.473]"
     ]
    },
    {
     "name": "stderr",
     "output_type": "stream",
     "text": [
      "Epoch 94, global step 855: 'val_loss' reached 0.47253 (best 0.47253), saving model to '/home/pawel/Documents/RISA/3D_segmentation/logger/checkpoints/epoch_94-0.47253.ckpt' as top 1\n"
     ]
    },
    {
     "name": "stdout",
     "output_type": "stream",
     "text": [
      "Epoch 95: 100%|██████████| 9/9 [00:08<00:00,  1.00it/s, v_num=7, train_loss=0.463, val_loss=0.473]current epoch: 95 current mean dice: 0.2598\n",
      "best mean dice: 0.2598 at epoch: 95\n",
      "current mean loss: 0.0889best mean loss: 0.0000at epoch: 0\n",
      "Epoch 95: 100%|██████████| 9/9 [00:16<00:00,  0.56it/s, v_num=7, train_loss=0.463, val_loss=0.482]"
     ]
    },
    {
     "name": "stderr",
     "output_type": "stream",
     "text": [
      "Epoch 95, global step 864: 'val_loss' was not in top 1\n"
     ]
    },
    {
     "name": "stdout",
     "output_type": "stream",
     "text": [
      "Epoch 96: 100%|██████████| 9/9 [00:09<00:00,  1.00it/s, v_num=7, train_loss=0.467, val_loss=0.482]current epoch: 96 current mean dice: 0.2301\n",
      "best mean dice: 0.2598 at epoch: 95\n",
      "current mean loss: 0.0911best mean loss: 0.0000at epoch: 0\n",
      "Epoch 96: 100%|██████████| 9/9 [00:16<00:00,  0.56it/s, v_num=7, train_loss=0.467, val_loss=0.495]"
     ]
    },
    {
     "name": "stderr",
     "output_type": "stream",
     "text": [
      "Epoch 96, global step 873: 'val_loss' was not in top 1\n"
     ]
    },
    {
     "name": "stdout",
     "output_type": "stream",
     "text": [
      "Epoch 97: 100%|██████████| 9/9 [00:08<00:00,  1.02it/s, v_num=7, train_loss=0.470, val_loss=0.495]current epoch: 97 current mean dice: 0.2468\n",
      "best mean dice: 0.2598 at epoch: 95\n",
      "current mean loss: 0.0898best mean loss: 0.0000at epoch: 0\n",
      "Epoch 97: 100%|██████████| 9/9 [00:15<00:00,  0.57it/s, v_num=7, train_loss=0.470, val_loss=0.487]"
     ]
    },
    {
     "name": "stderr",
     "output_type": "stream",
     "text": [
      "Epoch 97, global step 882: 'val_loss' was not in top 1\n"
     ]
    },
    {
     "name": "stdout",
     "output_type": "stream",
     "text": [
      "Epoch 98: 100%|██████████| 9/9 [00:08<00:00,  1.00it/s, v_num=7, train_loss=0.471, val_loss=0.487]current epoch: 98 current mean dice: 0.2125\n",
      "best mean dice: 0.2598 at epoch: 95\n",
      "current mean loss: 0.0913best mean loss: 0.0000at epoch: 0\n",
      "Epoch 98: 100%|██████████| 9/9 [00:16<00:00,  0.56it/s, v_num=7, train_loss=0.471, val_loss=0.496]"
     ]
    },
    {
     "name": "stderr",
     "output_type": "stream",
     "text": [
      "Epoch 98, global step 891: 'val_loss' was not in top 1\n"
     ]
    },
    {
     "name": "stdout",
     "output_type": "stream",
     "text": [
      "Epoch 99: 100%|██████████| 9/9 [00:09<00:00,  0.97it/s, v_num=7, train_loss=0.499, val_loss=0.496]current epoch: 99 current mean dice: 0.2522\n",
      "best mean dice: 0.2598 at epoch: 95\n",
      "current mean loss: 0.0900best mean loss: 0.0000at epoch: 0\n",
      "Epoch 99: 100%|██████████| 9/9 [00:16<00:00,  0.55it/s, v_num=7, train_loss=0.499, val_loss=0.489]"
     ]
    },
    {
     "name": "stderr",
     "output_type": "stream",
     "text": [
      "Epoch 99, global step 900: 'val_loss' was not in top 1\n"
     ]
    },
    {
     "name": "stdout",
     "output_type": "stream",
     "text": [
      "Epoch 100: 100%|██████████| 9/9 [00:09<00:00,  0.99it/s, v_num=7, train_loss=0.451, val_loss=0.489]current epoch: 100 current mean dice: 0.2547\n",
      "best mean dice: 0.2598 at epoch: 95\n",
      "current mean loss: 0.0886best mean loss: 0.0000at epoch: 0\n",
      "Epoch 100: 100%|██████████| 9/9 [00:16<00:00,  0.56it/s, v_num=7, train_loss=0.451, val_loss=0.481]"
     ]
    },
    {
     "name": "stderr",
     "output_type": "stream",
     "text": [
      "Epoch 100, global step 909: 'val_loss' was not in top 1\n"
     ]
    },
    {
     "name": "stdout",
     "output_type": "stream",
     "text": [
      "Epoch 101: 100%|██████████| 9/9 [00:09<00:00,  0.99it/s, v_num=7, train_loss=0.432, val_loss=0.481]current epoch: 101 current mean dice: 0.2511\n",
      "best mean dice: 0.2598 at epoch: 95\n",
      "current mean loss: 0.0883best mean loss: 0.0000at epoch: 0\n",
      "Epoch 101: 100%|██████████| 9/9 [00:16<00:00,  0.56it/s, v_num=7, train_loss=0.432, val_loss=0.479]"
     ]
    },
    {
     "name": "stderr",
     "output_type": "stream",
     "text": [
      "Epoch 101, global step 918: 'val_loss' was not in top 1\n"
     ]
    },
    {
     "name": "stdout",
     "output_type": "stream",
     "text": [
      "Epoch 102: 100%|██████████| 9/9 [00:09<00:00,  1.00it/s, v_num=7, train_loss=0.442, val_loss=0.479]current epoch: 102 current mean dice: 0.2497\n",
      "best mean dice: 0.2598 at epoch: 95\n",
      "current mean loss: 0.0887best mean loss: 0.0000at epoch: 0\n",
      "Epoch 102: 100%|██████████| 9/9 [00:16<00:00,  0.56it/s, v_num=7, train_loss=0.442, val_loss=0.481]"
     ]
    },
    {
     "name": "stderr",
     "output_type": "stream",
     "text": [
      "Epoch 102, global step 927: 'val_loss' was not in top 1\n"
     ]
    },
    {
     "name": "stdout",
     "output_type": "stream",
     "text": [
      "Epoch 103: 100%|██████████| 9/9 [00:09<00:00,  0.99it/s, v_num=7, train_loss=0.448, val_loss=0.481]current epoch: 103 current mean dice: 0.2528\n",
      "best mean dice: 0.2598 at epoch: 95\n",
      "current mean loss: 0.0885best mean loss: 0.0000at epoch: 0\n",
      "Epoch 103: 100%|██████████| 9/9 [00:16<00:00,  0.56it/s, v_num=7, train_loss=0.448, val_loss=0.480]"
     ]
    },
    {
     "name": "stderr",
     "output_type": "stream",
     "text": [
      "Epoch 103, global step 936: 'val_loss' was not in top 1\n"
     ]
    },
    {
     "name": "stdout",
     "output_type": "stream",
     "text": [
      "Epoch 104: 100%|██████████| 9/9 [00:09<00:00,  0.97it/s, v_num=7, train_loss=0.437, val_loss=0.480]current epoch: 104 current mean dice: 0.2352\n",
      "best mean dice: 0.2598 at epoch: 95\n",
      "current mean loss: 0.0894best mean loss: 0.0000at epoch: 0\n",
      "Epoch 104: 100%|██████████| 9/9 [00:16<00:00,  0.55it/s, v_num=7, train_loss=0.437, val_loss=0.485]"
     ]
    },
    {
     "name": "stderr",
     "output_type": "stream",
     "text": [
      "Epoch 104, global step 945: 'val_loss' was not in top 1\n"
     ]
    },
    {
     "name": "stdout",
     "output_type": "stream",
     "text": [
      "Epoch 105: 100%|██████████| 9/9 [00:09<00:00,  1.00it/s, v_num=7, train_loss=0.428, val_loss=0.485]current epoch: 105 current mean dice: 0.2681\n",
      "best mean dice: 0.2681 at epoch: 105\n",
      "current mean loss: 0.0847best mean loss: 0.0000at epoch: 0\n",
      "Epoch 105: 100%|██████████| 9/9 [00:16<00:00,  0.56it/s, v_num=7, train_loss=0.428, val_loss=0.459]"
     ]
    },
    {
     "name": "stderr",
     "output_type": "stream",
     "text": [
      "Epoch 105, global step 954: 'val_loss' reached 0.45926 (best 0.45926), saving model to '/home/pawel/Documents/RISA/3D_segmentation/logger/checkpoints/epoch_105-0.45926.ckpt' as top 1\n"
     ]
    },
    {
     "name": "stdout",
     "output_type": "stream",
     "text": [
      "Epoch 106: 100%|██████████| 9/9 [00:08<00:00,  1.00it/s, v_num=7, train_loss=0.442, val_loss=0.459]current epoch: 106 current mean dice: 0.2643\n",
      "best mean dice: 0.2681 at epoch: 105\n",
      "current mean loss: 0.0851best mean loss: 0.0000at epoch: 0\n",
      "Epoch 106: 100%|██████████| 9/9 [00:16<00:00,  0.56it/s, v_num=7, train_loss=0.442, val_loss=0.462]"
     ]
    },
    {
     "name": "stderr",
     "output_type": "stream",
     "text": [
      "Epoch 106, global step 963: 'val_loss' was not in top 1\n"
     ]
    },
    {
     "name": "stdout",
     "output_type": "stream",
     "text": [
      "Epoch 107: 100%|██████████| 9/9 [00:09<00:00,  0.97it/s, v_num=7, train_loss=0.400, val_loss=0.462]current epoch: 107 current mean dice: 0.2555\n",
      "best mean dice: 0.2681 at epoch: 105\n",
      "current mean loss: 0.0875best mean loss: 0.0000at epoch: 0\n",
      "Epoch 107: 100%|██████████| 9/9 [00:16<00:00,  0.55it/s, v_num=7, train_loss=0.400, val_loss=0.475]"
     ]
    },
    {
     "name": "stderr",
     "output_type": "stream",
     "text": [
      "Epoch 107, global step 972: 'val_loss' was not in top 1\n"
     ]
    },
    {
     "name": "stdout",
     "output_type": "stream",
     "text": [
      "Epoch 108: 100%|██████████| 9/9 [00:09<00:00,  0.99it/s, v_num=7, train_loss=0.429, val_loss=0.475]current epoch: 108 current mean dice: 0.2541\n",
      "best mean dice: 0.2681 at epoch: 105\n",
      "current mean loss: 0.0844best mean loss: 0.0000at epoch: 0\n",
      "Epoch 108: 100%|██████████| 9/9 [00:16<00:00,  0.56it/s, v_num=7, train_loss=0.429, val_loss=0.456]"
     ]
    },
    {
     "name": "stderr",
     "output_type": "stream",
     "text": [
      "Epoch 108, global step 981: 'val_loss' reached 0.45649 (best 0.45649), saving model to '/home/pawel/Documents/RISA/3D_segmentation/logger/checkpoints/epoch_108-0.45649.ckpt' as top 1\n"
     ]
    },
    {
     "name": "stdout",
     "output_type": "stream",
     "text": [
      "Epoch 109: 100%|██████████| 9/9 [00:09<00:00,  0.99it/s, v_num=7, train_loss=0.491, val_loss=0.456]current epoch: 109 current mean dice: 0.2125\n",
      "best mean dice: 0.2681 at epoch: 105\n",
      "current mean loss: 0.0839best mean loss: 0.0000at epoch: 0\n",
      "Epoch 109: 100%|██████████| 9/9 [00:16<00:00,  0.56it/s, v_num=7, train_loss=0.491, val_loss=0.456]"
     ]
    },
    {
     "name": "stderr",
     "output_type": "stream",
     "text": [
      "Epoch 109, global step 990: 'val_loss' reached 0.45645 (best 0.45645), saving model to '/home/pawel/Documents/RISA/3D_segmentation/logger/checkpoints/epoch_109-0.45645.ckpt' as top 1\n"
     ]
    },
    {
     "name": "stdout",
     "output_type": "stream",
     "text": [
      "Epoch 110: 100%|██████████| 9/9 [00:09<00:00,  1.00it/s, v_num=7, train_loss=0.427, val_loss=0.456]current epoch: 110 current mean dice: 0.2665\n",
      "best mean dice: 0.2681 at epoch: 105\n",
      "current mean loss: 0.0880best mean loss: 0.0000at epoch: 0\n",
      "Epoch 110: 100%|██████████| 9/9 [00:16<00:00,  0.56it/s, v_num=7, train_loss=0.427, val_loss=0.478]"
     ]
    },
    {
     "name": "stderr",
     "output_type": "stream",
     "text": [
      "Epoch 110, global step 999: 'val_loss' was not in top 1\n"
     ]
    },
    {
     "name": "stdout",
     "output_type": "stream",
     "text": [
      "Epoch 111: 100%|██████████| 9/9 [00:09<00:00,  0.98it/s, v_num=7, train_loss=0.413, val_loss=0.478]current epoch: 111 current mean dice: 0.2396\n",
      "best mean dice: 0.2681 at epoch: 105\n",
      "current mean loss: 0.0878best mean loss: 0.0000at epoch: 0\n",
      "Epoch 111: 100%|██████████| 9/9 [00:16<00:00,  0.55it/s, v_num=7, train_loss=0.413, val_loss=0.475]"
     ]
    },
    {
     "name": "stderr",
     "output_type": "stream",
     "text": [
      "Epoch 111, global step 1008: 'val_loss' was not in top 1\n"
     ]
    },
    {
     "name": "stdout",
     "output_type": "stream",
     "text": [
      "Epoch 112: 100%|██████████| 9/9 [00:08<00:00,  1.02it/s, v_num=7, train_loss=0.478, val_loss=0.475]current epoch: 112 current mean dice: 0.2600\n",
      "best mean dice: 0.2681 at epoch: 105\n",
      "current mean loss: 0.0832best mean loss: 0.0000at epoch: 0\n",
      "Epoch 112: 100%|██████████| 9/9 [00:15<00:00,  0.57it/s, v_num=7, train_loss=0.478, val_loss=0.454]"
     ]
    },
    {
     "name": "stderr",
     "output_type": "stream",
     "text": [
      "Epoch 112, global step 1017: 'val_loss' reached 0.45361 (best 0.45361), saving model to '/home/pawel/Documents/RISA/3D_segmentation/logger/checkpoints/epoch_112-0.45361.ckpt' as top 1\n"
     ]
    },
    {
     "name": "stdout",
     "output_type": "stream",
     "text": [
      "Epoch 113: 100%|██████████| 9/9 [00:09<00:00,  0.97it/s, v_num=7, train_loss=0.411, val_loss=0.454]current epoch: 113 current mean dice: 0.2603\n",
      "best mean dice: 0.2681 at epoch: 105\n",
      "current mean loss: 0.0838best mean loss: 0.0000at epoch: 0\n",
      "Epoch 113: 100%|██████████| 9/9 [00:16<00:00,  0.55it/s, v_num=7, train_loss=0.411, val_loss=0.455]"
     ]
    },
    {
     "name": "stderr",
     "output_type": "stream",
     "text": [
      "Epoch 113, global step 1026: 'val_loss' was not in top 1\n"
     ]
    },
    {
     "name": "stdout",
     "output_type": "stream",
     "text": [
      "Epoch 114: 100%|██████████| 9/9 [00:09<00:00,  0.98it/s, v_num=7, train_loss=0.479, val_loss=0.455]current epoch: 114 current mean dice: 0.2677\n",
      "best mean dice: 0.2681 at epoch: 105\n",
      "current mean loss: 0.0841best mean loss: 0.0000at epoch: 0\n",
      "Epoch 114: 100%|██████████| 9/9 [00:16<00:00,  0.55it/s, v_num=7, train_loss=0.479, val_loss=0.456]"
     ]
    },
    {
     "name": "stderr",
     "output_type": "stream",
     "text": [
      "Epoch 114, global step 1035: 'val_loss' was not in top 1\n"
     ]
    },
    {
     "name": "stdout",
     "output_type": "stream",
     "text": [
      "Epoch 115: 100%|██████████| 9/9 [00:09<00:00,  0.95it/s, v_num=7, train_loss=0.406, val_loss=0.456]current epoch: 115 current mean dice: 0.2695\n",
      "best mean dice: 0.2695 at epoch: 115\n",
      "current mean loss: 0.0836best mean loss: 0.0000at epoch: 0\n",
      "Epoch 115: 100%|██████████| 9/9 [00:16<00:00,  0.54it/s, v_num=7, train_loss=0.406, val_loss=0.453]"
     ]
    },
    {
     "name": "stderr",
     "output_type": "stream",
     "text": [
      "Epoch 115, global step 1044: 'val_loss' reached 0.45295 (best 0.45295), saving model to '/home/pawel/Documents/RISA/3D_segmentation/logger/checkpoints/epoch_115-0.45295.ckpt' as top 1\n"
     ]
    },
    {
     "name": "stdout",
     "output_type": "stream",
     "text": [
      "Epoch 116: 100%|██████████| 9/9 [00:09<00:00,  0.98it/s, v_num=7, train_loss=0.427, val_loss=0.453]current epoch: 116 current mean dice: 0.2707\n",
      "best mean dice: 0.2707 at epoch: 116\n",
      "current mean loss: 0.0852best mean loss: 0.0000at epoch: 0\n",
      "Epoch 116: 100%|██████████| 9/9 [00:16<00:00,  0.55it/s, v_num=7, train_loss=0.427, val_loss=0.462]"
     ]
    },
    {
     "name": "stderr",
     "output_type": "stream",
     "text": [
      "Epoch 116, global step 1053: 'val_loss' was not in top 1\n"
     ]
    },
    {
     "name": "stdout",
     "output_type": "stream",
     "text": [
      "Epoch 117: 100%|██████████| 9/9 [00:09<00:00,  0.97it/s, v_num=7, train_loss=0.412, val_loss=0.462]current epoch: 117 current mean dice: 0.2810\n",
      "best mean dice: 0.2810 at epoch: 117\n",
      "current mean loss: 0.0838best mean loss: 0.0000at epoch: 0\n",
      "Epoch 117: 100%|██████████| 9/9 [00:16<00:00,  0.55it/s, v_num=7, train_loss=0.412, val_loss=0.455]"
     ]
    },
    {
     "name": "stderr",
     "output_type": "stream",
     "text": [
      "Epoch 117, global step 1062: 'val_loss' was not in top 1\n"
     ]
    },
    {
     "name": "stdout",
     "output_type": "stream",
     "text": [
      "Epoch 118: 100%|██████████| 9/9 [00:09<00:00,  0.99it/s, v_num=7, train_loss=0.376, val_loss=0.455]current epoch: 118 current mean dice: 0.2790\n",
      "best mean dice: 0.2810 at epoch: 117\n",
      "current mean loss: 0.0884best mean loss: 0.0000at epoch: 0\n",
      "Epoch 118: 100%|██████████| 9/9 [00:16<00:00,  0.56it/s, v_num=7, train_loss=0.376, val_loss=0.479]"
     ]
    },
    {
     "name": "stderr",
     "output_type": "stream",
     "text": [
      "Epoch 118, global step 1071: 'val_loss' was not in top 1\n"
     ]
    },
    {
     "name": "stdout",
     "output_type": "stream",
     "text": [
      "Epoch 119: 100%|██████████| 9/9 [00:08<00:00,  1.01it/s, v_num=7, train_loss=0.405, val_loss=0.479]current epoch: 119 current mean dice: 0.2672\n",
      "best mean dice: 0.2810 at epoch: 117\n",
      "current mean loss: 0.0893best mean loss: 0.0000at epoch: 0\n",
      "Epoch 119: 100%|██████████| 9/9 [00:15<00:00,  0.56it/s, v_num=7, train_loss=0.405, val_loss=0.484]"
     ]
    },
    {
     "name": "stderr",
     "output_type": "stream",
     "text": [
      "Epoch 119, global step 1080: 'val_loss' was not in top 1\n"
     ]
    },
    {
     "name": "stdout",
     "output_type": "stream",
     "text": [
      "Epoch 120: 100%|██████████| 9/9 [00:09<00:00,  0.97it/s, v_num=7, train_loss=0.400, val_loss=0.484]current epoch: 120 current mean dice: 0.2694\n",
      "best mean dice: 0.2810 at epoch: 117\n",
      "current mean loss: 0.0873best mean loss: 0.0000at epoch: 0\n",
      "Epoch 120: 100%|██████████| 9/9 [00:16<00:00,  0.55it/s, v_num=7, train_loss=0.400, val_loss=0.473]"
     ]
    },
    {
     "name": "stderr",
     "output_type": "stream",
     "text": [
      "Epoch 120, global step 1089: 'val_loss' was not in top 1\n"
     ]
    },
    {
     "name": "stdout",
     "output_type": "stream",
     "text": [
      "Epoch 121: 100%|██████████| 9/9 [00:09<00:00,  0.98it/s, v_num=7, train_loss=0.393, val_loss=0.473]current epoch: 121 current mean dice: 0.2715\n",
      "best mean dice: 0.2810 at epoch: 117\n",
      "current mean loss: 0.0847best mean loss: 0.0000at epoch: 0\n",
      "Epoch 121: 100%|██████████| 9/9 [00:16<00:00,  0.55it/s, v_num=7, train_loss=0.393, val_loss=0.460]"
     ]
    },
    {
     "name": "stderr",
     "output_type": "stream",
     "text": [
      "Epoch 121, global step 1098: 'val_loss' was not in top 1\n"
     ]
    },
    {
     "name": "stdout",
     "output_type": "stream",
     "text": [
      "Epoch 122: 100%|██████████| 9/9 [00:09<00:00,  0.98it/s, v_num=7, train_loss=0.418, val_loss=0.460]current epoch: 122 current mean dice: 0.2362\n",
      "best mean dice: 0.2810 at epoch: 117\n",
      "current mean loss: 0.0836best mean loss: 0.0000at epoch: 0\n",
      "Epoch 122: 100%|██████████| 9/9 [00:16<00:00,  0.56it/s, v_num=7, train_loss=0.418, val_loss=0.452]"
     ]
    },
    {
     "name": "stderr",
     "output_type": "stream",
     "text": [
      "Epoch 122, global step 1107: 'val_loss' reached 0.45230 (best 0.45230), saving model to '/home/pawel/Documents/RISA/3D_segmentation/logger/checkpoints/epoch_122-0.45230.ckpt' as top 1\n"
     ]
    },
    {
     "name": "stdout",
     "output_type": "stream",
     "text": [
      "Epoch 123: 100%|██████████| 9/9 [00:08<00:00,  1.01it/s, v_num=7, train_loss=0.412, val_loss=0.452]current epoch: 123 current mean dice: 0.2669\n",
      "best mean dice: 0.2810 at epoch: 117\n",
      "current mean loss: 0.0835best mean loss: 0.0000at epoch: 0\n",
      "Epoch 123: 100%|██████████| 9/9 [00:15<00:00,  0.56it/s, v_num=7, train_loss=0.412, val_loss=0.453]"
     ]
    },
    {
     "name": "stderr",
     "output_type": "stream",
     "text": [
      "Epoch 123, global step 1116: 'val_loss' was not in top 1\n"
     ]
    },
    {
     "name": "stdout",
     "output_type": "stream",
     "text": [
      "Epoch 124: 100%|██████████| 9/9 [00:09<00:00,  0.99it/s, v_num=7, train_loss=0.473, val_loss=0.453]current epoch: 124 current mean dice: 0.2674\n",
      "best mean dice: 0.2810 at epoch: 117\n",
      "current mean loss: 0.0811best mean loss: 0.0000at epoch: 0\n",
      "Epoch 124: 100%|██████████| 9/9 [00:16<00:00,  0.56it/s, v_num=7, train_loss=0.473, val_loss=0.439]"
     ]
    },
    {
     "name": "stderr",
     "output_type": "stream",
     "text": [
      "Epoch 124, global step 1125: 'val_loss' reached 0.43946 (best 0.43946), saving model to '/home/pawel/Documents/RISA/3D_segmentation/logger/checkpoints/epoch_124-0.43946.ckpt' as top 1\n"
     ]
    },
    {
     "name": "stdout",
     "output_type": "stream",
     "text": [
      "Epoch 125: 100%|██████████| 9/9 [00:08<00:00,  1.01it/s, v_num=7, train_loss=0.394, val_loss=0.439]current epoch: 125 current mean dice: 0.2681\n",
      "best mean dice: 0.2810 at epoch: 117\n",
      "current mean loss: 0.0840best mean loss: 0.0000at epoch: 0\n",
      "Epoch 125: 100%|██████████| 9/9 [00:15<00:00,  0.56it/s, v_num=7, train_loss=0.394, val_loss=0.455]"
     ]
    },
    {
     "name": "stderr",
     "output_type": "stream",
     "text": [
      "Epoch 125, global step 1134: 'val_loss' was not in top 1\n"
     ]
    },
    {
     "name": "stdout",
     "output_type": "stream",
     "text": [
      "Epoch 126: 100%|██████████| 9/9 [00:09<00:00,  0.96it/s, v_num=7, train_loss=0.394, val_loss=0.455]current epoch: 126 current mean dice: 0.2810\n",
      "best mean dice: 0.2810 at epoch: 126\n",
      "current mean loss: 0.0805best mean loss: 0.0000at epoch: 0\n",
      "Epoch 126: 100%|██████████| 9/9 [00:16<00:00,  0.55it/s, v_num=7, train_loss=0.394, val_loss=0.435]"
     ]
    },
    {
     "name": "stderr",
     "output_type": "stream",
     "text": [
      "Epoch 126, global step 1143: 'val_loss' reached 0.43500 (best 0.43500), saving model to '/home/pawel/Documents/RISA/3D_segmentation/logger/checkpoints/epoch_126-0.43500.ckpt' as top 1\n"
     ]
    },
    {
     "name": "stdout",
     "output_type": "stream",
     "text": [
      "Epoch 127: 100%|██████████| 9/9 [00:09<00:00,  0.99it/s, v_num=7, train_loss=0.503, val_loss=0.435]current epoch: 127 current mean dice: 0.2805\n",
      "best mean dice: 0.2810 at epoch: 126\n",
      "current mean loss: 0.0810best mean loss: 0.0000at epoch: 0\n",
      "Epoch 127: 100%|██████████| 9/9 [00:16<00:00,  0.55it/s, v_num=7, train_loss=0.503, val_loss=0.439]"
     ]
    },
    {
     "name": "stderr",
     "output_type": "stream",
     "text": [
      "Epoch 127, global step 1152: 'val_loss' was not in top 1\n"
     ]
    },
    {
     "name": "stdout",
     "output_type": "stream",
     "text": [
      "Epoch 128: 100%|██████████| 9/9 [00:08<00:00,  1.02it/s, v_num=7, train_loss=0.399, val_loss=0.439]current epoch: 128 current mean dice: 0.2887\n",
      "best mean dice: 0.2887 at epoch: 128\n",
      "current mean loss: 0.0800best mean loss: 0.0000at epoch: 0\n",
      "Epoch 128: 100%|██████████| 9/9 [00:15<00:00,  0.57it/s, v_num=7, train_loss=0.399, val_loss=0.433]"
     ]
    },
    {
     "name": "stderr",
     "output_type": "stream",
     "text": [
      "Epoch 128, global step 1161: 'val_loss' reached 0.43318 (best 0.43318), saving model to '/home/pawel/Documents/RISA/3D_segmentation/logger/checkpoints/epoch_128-0.43318.ckpt' as top 1\n"
     ]
    },
    {
     "name": "stdout",
     "output_type": "stream",
     "text": [
      "Epoch 129: 100%|██████████| 9/9 [00:09<00:00,  0.96it/s, v_num=7, train_loss=0.438, val_loss=0.433]current epoch: 129 current mean dice: 0.2729\n",
      "best mean dice: 0.2887 at epoch: 128\n",
      "current mean loss: 0.0789best mean loss: 0.0000at epoch: 0\n",
      "Epoch 129: 100%|██████████| 9/9 [00:16<00:00,  0.55it/s, v_num=7, train_loss=0.438, val_loss=0.428]"
     ]
    },
    {
     "name": "stderr",
     "output_type": "stream",
     "text": [
      "Epoch 129, global step 1170: 'val_loss' reached 0.42847 (best 0.42847), saving model to '/home/pawel/Documents/RISA/3D_segmentation/logger/checkpoints/epoch_129-0.42847.ckpt' as top 1\n"
     ]
    },
    {
     "name": "stdout",
     "output_type": "stream",
     "text": [
      "Epoch 130: 100%|██████████| 9/9 [00:09<00:00,  0.97it/s, v_num=7, train_loss=0.430, val_loss=0.428]current epoch: 130 current mean dice: 0.2849\n",
      "best mean dice: 0.2887 at epoch: 128\n",
      "current mean loss: 0.0806best mean loss: 0.0000at epoch: 0\n",
      "Epoch 130: 100%|██████████| 9/9 [00:16<00:00,  0.55it/s, v_num=7, train_loss=0.430, val_loss=0.437]"
     ]
    },
    {
     "name": "stderr",
     "output_type": "stream",
     "text": [
      "Epoch 130, global step 1179: 'val_loss' was not in top 1\n"
     ]
    },
    {
     "name": "stdout",
     "output_type": "stream",
     "text": [
      "Epoch 131: 100%|██████████| 9/9 [00:09<00:00,  0.99it/s, v_num=7, train_loss=0.368, val_loss=0.437]current epoch: 131 current mean dice: 0.2843\n",
      "best mean dice: 0.2887 at epoch: 128\n",
      "current mean loss: 0.0809best mean loss: 0.0000at epoch: 0\n",
      "Epoch 131: 100%|██████████| 9/9 [00:16<00:00,  0.55it/s, v_num=7, train_loss=0.368, val_loss=0.438]"
     ]
    },
    {
     "name": "stderr",
     "output_type": "stream",
     "text": [
      "Epoch 131, global step 1188: 'val_loss' was not in top 1\n"
     ]
    },
    {
     "name": "stdout",
     "output_type": "stream",
     "text": [
      "Epoch 132: 100%|██████████| 9/9 [00:09<00:00,  0.99it/s, v_num=7, train_loss=0.439, val_loss=0.438]current epoch: 132 current mean dice: 0.2201\n",
      "best mean dice: 0.2887 at epoch: 128\n",
      "current mean loss: 0.0815best mean loss: 0.0000at epoch: 0\n",
      "Epoch 132: 100%|██████████| 9/9 [00:16<00:00,  0.56it/s, v_num=7, train_loss=0.439, val_loss=0.442]"
     ]
    },
    {
     "name": "stderr",
     "output_type": "stream",
     "text": [
      "Epoch 132, global step 1197: 'val_loss' was not in top 1\n"
     ]
    },
    {
     "name": "stdout",
     "output_type": "stream",
     "text": [
      "Epoch 133: 100%|██████████| 9/9 [00:09<00:00,  0.98it/s, v_num=7, train_loss=0.452, val_loss=0.442]current epoch: 133 current mean dice: 0.2810\n",
      "best mean dice: 0.2887 at epoch: 128\n",
      "current mean loss: 0.0766best mean loss: 0.0000at epoch: 0\n",
      "Epoch 133: 100%|██████████| 9/9 [00:16<00:00,  0.55it/s, v_num=7, train_loss=0.452, val_loss=0.415]"
     ]
    },
    {
     "name": "stderr",
     "output_type": "stream",
     "text": [
      "Epoch 133, global step 1206: 'val_loss' reached 0.41521 (best 0.41521), saving model to '/home/pawel/Documents/RISA/3D_segmentation/logger/checkpoints/epoch_133-0.41521.ckpt' as top 1\n"
     ]
    },
    {
     "name": "stdout",
     "output_type": "stream",
     "text": [
      "Epoch 134: 100%|██████████| 9/9 [00:09<00:00,  0.95it/s, v_num=7, train_loss=0.394, val_loss=0.415]current epoch: 134 current mean dice: 0.2757\n",
      "best mean dice: 0.2887 at epoch: 128\n",
      "current mean loss: 0.0769best mean loss: 0.0000at epoch: 0\n",
      "Epoch 134: 100%|██████████| 9/9 [00:16<00:00,  0.54it/s, v_num=7, train_loss=0.394, val_loss=0.417]"
     ]
    },
    {
     "name": "stderr",
     "output_type": "stream",
     "text": [
      "Epoch 134, global step 1215: 'val_loss' was not in top 1\n"
     ]
    },
    {
     "name": "stdout",
     "output_type": "stream",
     "text": [
      "Epoch 135: 100%|██████████| 9/9 [00:09<00:00,  0.97it/s, v_num=7, train_loss=0.412, val_loss=0.417]current epoch: 135 current mean dice: 0.2969\n",
      "best mean dice: 0.2969 at epoch: 135\n",
      "current mean loss: 0.0762best mean loss: 0.0000at epoch: 0\n",
      "Epoch 135: 100%|██████████| 9/9 [00:16<00:00,  0.55it/s, v_num=7, train_loss=0.412, val_loss=0.415]"
     ]
    },
    {
     "name": "stderr",
     "output_type": "stream",
     "text": [
      "Epoch 135, global step 1224: 'val_loss' reached 0.41476 (best 0.41476), saving model to '/home/pawel/Documents/RISA/3D_segmentation/logger/checkpoints/epoch_135-0.41476.ckpt' as top 1\n"
     ]
    },
    {
     "name": "stdout",
     "output_type": "stream",
     "text": [
      "Epoch 136: 100%|██████████| 9/9 [00:09<00:00,  0.97it/s, v_num=7, train_loss=0.369, val_loss=0.415]current epoch: 136 current mean dice: 0.2801\n",
      "best mean dice: 0.2969 at epoch: 135\n",
      "current mean loss: 0.0782best mean loss: 0.0000at epoch: 0\n",
      "Epoch 136: 100%|██████████| 9/9 [00:16<00:00,  0.55it/s, v_num=7, train_loss=0.369, val_loss=0.424]"
     ]
    },
    {
     "name": "stderr",
     "output_type": "stream",
     "text": [
      "Epoch 136, global step 1233: 'val_loss' was not in top 1\n"
     ]
    },
    {
     "name": "stdout",
     "output_type": "stream",
     "text": [
      "Epoch 137: 100%|██████████| 9/9 [00:09<00:00,  0.95it/s, v_num=7, train_loss=0.385, val_loss=0.424]current epoch: 137 current mean dice: 0.2820\n",
      "best mean dice: 0.2969 at epoch: 135\n",
      "current mean loss: 0.0785best mean loss: 0.0000at epoch: 0\n",
      "Epoch 137: 100%|██████████| 9/9 [00:16<00:00,  0.54it/s, v_num=7, train_loss=0.385, val_loss=0.425]"
     ]
    },
    {
     "name": "stderr",
     "output_type": "stream",
     "text": [
      "Epoch 137, global step 1242: 'val_loss' was not in top 1\n"
     ]
    },
    {
     "name": "stdout",
     "output_type": "stream",
     "text": [
      "Epoch 138: 100%|██████████| 9/9 [00:08<00:00,  1.00it/s, v_num=7, train_loss=0.377, val_loss=0.425]current epoch: 138 current mean dice: 0.2821\n",
      "best mean dice: 0.2969 at epoch: 135\n",
      "current mean loss: 0.0782best mean loss: 0.0000at epoch: 0\n",
      "Epoch 138: 100%|██████████| 9/9 [00:16<00:00,  0.56it/s, v_num=7, train_loss=0.377, val_loss=0.422]"
     ]
    },
    {
     "name": "stderr",
     "output_type": "stream",
     "text": [
      "Epoch 138, global step 1251: 'val_loss' was not in top 1\n"
     ]
    },
    {
     "name": "stdout",
     "output_type": "stream",
     "text": [
      "Epoch 139: 100%|██████████| 9/9 [00:08<00:00,  1.03it/s, v_num=7, train_loss=0.460, val_loss=0.422]current epoch: 139 current mean dice: 0.2772\n",
      "best mean dice: 0.2969 at epoch: 135\n",
      "current mean loss: 0.0775best mean loss: 0.0000at epoch: 0\n",
      "Epoch 139: 100%|██████████| 9/9 [00:15<00:00,  0.56it/s, v_num=7, train_loss=0.460, val_loss=0.420]"
     ]
    },
    {
     "name": "stderr",
     "output_type": "stream",
     "text": [
      "Epoch 139, global step 1260: 'val_loss' was not in top 1\n"
     ]
    },
    {
     "name": "stdout",
     "output_type": "stream",
     "text": [
      "Epoch 140: 100%|██████████| 9/9 [00:09<00:00,  0.96it/s, v_num=7, train_loss=0.339, val_loss=0.420]current epoch: 140 current mean dice: 0.2893\n",
      "best mean dice: 0.2969 at epoch: 135\n",
      "current mean loss: 0.0779best mean loss: 0.0000at epoch: 0\n",
      "Epoch 140: 100%|██████████| 9/9 [00:16<00:00,  0.55it/s, v_num=7, train_loss=0.339, val_loss=0.420]"
     ]
    },
    {
     "name": "stderr",
     "output_type": "stream",
     "text": [
      "Epoch 140, global step 1269: 'val_loss' was not in top 1\n"
     ]
    },
    {
     "name": "stdout",
     "output_type": "stream",
     "text": [
      "Epoch 141: 100%|██████████| 9/9 [00:09<00:00,  0.94it/s, v_num=7, train_loss=0.467, val_loss=0.420]current epoch: 141 current mean dice: 0.2847\n",
      "best mean dice: 0.2969 at epoch: 135\n",
      "current mean loss: 0.0766best mean loss: 0.0000at epoch: 0\n",
      "Epoch 141: 100%|██████████| 9/9 [00:16<00:00,  0.54it/s, v_num=7, train_loss=0.467, val_loss=0.415]"
     ]
    },
    {
     "name": "stderr",
     "output_type": "stream",
     "text": [
      "Epoch 141, global step 1278: 'val_loss' reached 0.41474 (best 0.41474), saving model to '/home/pawel/Documents/RISA/3D_segmentation/logger/checkpoints/epoch_141-0.41474.ckpt' as top 1\n"
     ]
    },
    {
     "name": "stdout",
     "output_type": "stream",
     "text": [
      "Epoch 142: 100%|██████████| 9/9 [00:09<00:00,  0.95it/s, v_num=7, train_loss=0.395, val_loss=0.415]current epoch: 142 current mean dice: 0.2664\n",
      "best mean dice: 0.2969 at epoch: 135\n",
      "current mean loss: 0.0771best mean loss: 0.0000at epoch: 0\n",
      "Epoch 142: 100%|██████████| 9/9 [00:16<00:00,  0.55it/s, v_num=7, train_loss=0.395, val_loss=0.419]"
     ]
    },
    {
     "name": "stderr",
     "output_type": "stream",
     "text": [
      "Epoch 142, global step 1287: 'val_loss' was not in top 1\n"
     ]
    },
    {
     "name": "stdout",
     "output_type": "stream",
     "text": [
      "Epoch 143: 100%|██████████| 9/9 [00:09<00:00,  1.00it/s, v_num=7, train_loss=0.431, val_loss=0.419]current epoch: 143 current mean dice: 0.2784\n",
      "best mean dice: 0.2969 at epoch: 135\n",
      "current mean loss: 0.0797best mean loss: 0.0000at epoch: 0\n",
      "Epoch 143: 100%|██████████| 9/9 [00:16<00:00,  0.56it/s, v_num=7, train_loss=0.431, val_loss=0.434]"
     ]
    },
    {
     "name": "stderr",
     "output_type": "stream",
     "text": [
      "Epoch 143, global step 1296: 'val_loss' was not in top 1\n"
     ]
    },
    {
     "name": "stdout",
     "output_type": "stream",
     "text": [
      "Epoch 144: 100%|██████████| 9/9 [00:08<00:00,  1.00it/s, v_num=7, train_loss=0.361, val_loss=0.434]current epoch: 144 current mean dice: 0.2882\n",
      "best mean dice: 0.2969 at epoch: 135\n",
      "current mean loss: 0.0809best mean loss: 0.0000at epoch: 0\n",
      "Epoch 144: 100%|██████████| 9/9 [00:16<00:00,  0.56it/s, v_num=7, train_loss=0.361, val_loss=0.440]"
     ]
    },
    {
     "name": "stderr",
     "output_type": "stream",
     "text": [
      "Epoch 144, global step 1305: 'val_loss' was not in top 1\n"
     ]
    },
    {
     "name": "stdout",
     "output_type": "stream",
     "text": [
      "Epoch 145: 100%|██████████| 9/9 [00:09<00:00,  0.96it/s, v_num=7, train_loss=0.461, val_loss=0.440]current epoch: 145 current mean dice: 0.2880\n",
      "best mean dice: 0.2969 at epoch: 135\n",
      "current mean loss: 0.0822best mean loss: 0.0000at epoch: 0\n",
      "Epoch 145: 100%|██████████| 9/9 [00:16<00:00,  0.55it/s, v_num=7, train_loss=0.461, val_loss=0.445]"
     ]
    },
    {
     "name": "stderr",
     "output_type": "stream",
     "text": [
      "Epoch 145, global step 1314: 'val_loss' was not in top 1\n"
     ]
    },
    {
     "name": "stdout",
     "output_type": "stream",
     "text": [
      "Epoch 146: 100%|██████████| 9/9 [00:09<00:00,  0.96it/s, v_num=7, train_loss=0.393, val_loss=0.445]current epoch: 146 current mean dice: 0.2580\n",
      "best mean dice: 0.2969 at epoch: 135\n",
      "current mean loss: 0.0782best mean loss: 0.0000at epoch: 0\n",
      "Epoch 146: 100%|██████████| 9/9 [00:16<00:00,  0.55it/s, v_num=7, train_loss=0.393, val_loss=0.424]"
     ]
    },
    {
     "name": "stderr",
     "output_type": "stream",
     "text": [
      "Epoch 146, global step 1323: 'val_loss' was not in top 1\n"
     ]
    },
    {
     "name": "stdout",
     "output_type": "stream",
     "text": [
      "Epoch 147: 100%|██████████| 9/9 [00:09<00:00,  0.96it/s, v_num=7, train_loss=0.378, val_loss=0.424]current epoch: 147 current mean dice: 0.2872\n",
      "best mean dice: 0.2969 at epoch: 135\n",
      "current mean loss: 0.0753best mean loss: 0.0000at epoch: 0\n",
      "Epoch 147: 100%|██████████| 9/9 [00:16<00:00,  0.55it/s, v_num=7, train_loss=0.378, val_loss=0.409]"
     ]
    },
    {
     "name": "stderr",
     "output_type": "stream",
     "text": [
      "Epoch 147, global step 1332: 'val_loss' reached 0.40946 (best 0.40946), saving model to '/home/pawel/Documents/RISA/3D_segmentation/logger/checkpoints/epoch_147-0.40946.ckpt' as top 1\n"
     ]
    },
    {
     "name": "stdout",
     "output_type": "stream",
     "text": [
      "Epoch 148: 100%|██████████| 9/9 [00:08<00:00,  1.00it/s, v_num=7, train_loss=0.488, val_loss=0.409]current epoch: 148 current mean dice: 0.2859\n",
      "best mean dice: 0.2969 at epoch: 135\n",
      "current mean loss: 0.0743best mean loss: 0.0000at epoch: 0\n",
      "Epoch 148: 100%|██████████| 9/9 [00:16<00:00,  0.56it/s, v_num=7, train_loss=0.488, val_loss=0.403]"
     ]
    },
    {
     "name": "stderr",
     "output_type": "stream",
     "text": [
      "Epoch 148, global step 1341: 'val_loss' reached 0.40279 (best 0.40279), saving model to '/home/pawel/Documents/RISA/3D_segmentation/logger/checkpoints/epoch_148-0.40279.ckpt' as top 1\n"
     ]
    },
    {
     "name": "stdout",
     "output_type": "stream",
     "text": [
      "Epoch 149: 100%|██████████| 9/9 [00:08<00:00,  1.00it/s, v_num=7, train_loss=0.378, val_loss=0.403]current epoch: 149 current mean dice: 0.2918\n",
      "best mean dice: 0.2969 at epoch: 135\n",
      "current mean loss: 0.0742best mean loss: 0.0000at epoch: 0\n",
      "Epoch 149: 100%|██████████| 9/9 [00:16<00:00,  0.56it/s, v_num=7, train_loss=0.378, val_loss=0.402]"
     ]
    },
    {
     "name": "stderr",
     "output_type": "stream",
     "text": [
      "Epoch 149, global step 1350: 'val_loss' reached 0.40236 (best 0.40236), saving model to '/home/pawel/Documents/RISA/3D_segmentation/logger/checkpoints/epoch_149-0.40236.ckpt' as top 1\n"
     ]
    },
    {
     "name": "stdout",
     "output_type": "stream",
     "text": [
      "Epoch 150: 100%|██████████| 9/9 [00:09<00:00,  0.98it/s, v_num=7, train_loss=0.339, val_loss=0.402]current epoch: 150 current mean dice: 0.2802\n",
      "best mean dice: 0.2969 at epoch: 135\n",
      "current mean loss: 0.0749best mean loss: 0.0000at epoch: 0\n",
      "Epoch 150: 100%|██████████| 9/9 [00:16<00:00,  0.55it/s, v_num=7, train_loss=0.339, val_loss=0.405]"
     ]
    },
    {
     "name": "stderr",
     "output_type": "stream",
     "text": [
      "Epoch 150, global step 1359: 'val_loss' was not in top 1\n"
     ]
    },
    {
     "name": "stdout",
     "output_type": "stream",
     "text": [
      "Epoch 151: 100%|██████████| 9/9 [00:09<00:00,  0.98it/s, v_num=7, train_loss=0.353, val_loss=0.405]current epoch: 151 current mean dice: 0.2830\n",
      "best mean dice: 0.2969 at epoch: 135\n",
      "current mean loss: 0.0758best mean loss: 0.0000at epoch: 0\n",
      "Epoch 151: 100%|██████████| 9/9 [00:16<00:00,  0.55it/s, v_num=7, train_loss=0.353, val_loss=0.410]"
     ]
    },
    {
     "name": "stderr",
     "output_type": "stream",
     "text": [
      "Epoch 151, global step 1368: 'val_loss' was not in top 1\n"
     ]
    },
    {
     "name": "stdout",
     "output_type": "stream",
     "text": [
      "Epoch 152: 100%|██████████| 9/9 [00:09<00:00,  0.96it/s, v_num=7, train_loss=0.404, val_loss=0.410]current epoch: 152 current mean dice: 0.2825\n",
      "best mean dice: 0.2969 at epoch: 135\n",
      "current mean loss: 0.0738best mean loss: 0.0000at epoch: 0\n",
      "Epoch 152: 100%|██████████| 9/9 [00:16<00:00,  0.54it/s, v_num=7, train_loss=0.404, val_loss=0.400]"
     ]
    },
    {
     "name": "stderr",
     "output_type": "stream",
     "text": [
      "Epoch 152, global step 1377: 'val_loss' reached 0.40022 (best 0.40022), saving model to '/home/pawel/Documents/RISA/3D_segmentation/logger/checkpoints/epoch_152-0.40022.ckpt' as top 1\n"
     ]
    },
    {
     "name": "stdout",
     "output_type": "stream",
     "text": [
      "Epoch 153: 100%|██████████| 9/9 [00:09<00:00,  0.96it/s, v_num=7, train_loss=0.355, val_loss=0.400]current epoch: 153 current mean dice: 0.2772\n",
      "best mean dice: 0.2969 at epoch: 135\n",
      "current mean loss: 0.0745best mean loss: 0.0000at epoch: 0\n",
      "Epoch 153: 100%|██████████| 9/9 [00:16<00:00,  0.54it/s, v_num=7, train_loss=0.355, val_loss=0.404]"
     ]
    },
    {
     "name": "stderr",
     "output_type": "stream",
     "text": [
      "Epoch 153, global step 1386: 'val_loss' was not in top 1\n"
     ]
    },
    {
     "name": "stdout",
     "output_type": "stream",
     "text": [
      "Epoch 154: 100%|██████████| 9/9 [00:09<00:00,  0.98it/s, v_num=7, train_loss=0.335, val_loss=0.404]current epoch: 154 current mean dice: 0.2872\n",
      "best mean dice: 0.2969 at epoch: 135\n",
      "current mean loss: 0.0759best mean loss: 0.0000at epoch: 0\n",
      "Epoch 154: 100%|██████████| 9/9 [00:16<00:00,  0.55it/s, v_num=7, train_loss=0.335, val_loss=0.412]"
     ]
    },
    {
     "name": "stderr",
     "output_type": "stream",
     "text": [
      "Epoch 154, global step 1395: 'val_loss' was not in top 1\n"
     ]
    },
    {
     "name": "stdout",
     "output_type": "stream",
     "text": [
      "Epoch 155: 100%|██████████| 9/9 [00:09<00:00,  0.99it/s, v_num=7, train_loss=0.386, val_loss=0.412]current epoch: 155 current mean dice: 0.2831\n",
      "best mean dice: 0.2969 at epoch: 135\n",
      "current mean loss: 0.0729best mean loss: 0.0000at epoch: 0\n",
      "Epoch 155: 100%|██████████| 9/9 [00:16<00:00,  0.56it/s, v_num=7, train_loss=0.386, val_loss=0.397]"
     ]
    },
    {
     "name": "stderr",
     "output_type": "stream",
     "text": [
      "Epoch 155, global step 1404: 'val_loss' reached 0.39693 (best 0.39693), saving model to '/home/pawel/Documents/RISA/3D_segmentation/logger/checkpoints/epoch_155-0.39693.ckpt' as top 1\n"
     ]
    },
    {
     "name": "stdout",
     "output_type": "stream",
     "text": [
      "Epoch 156: 100%|██████████| 9/9 [00:09<00:00,  0.97it/s, v_num=7, train_loss=0.353, val_loss=0.397]current epoch: 156 current mean dice: 0.2874\n",
      "best mean dice: 0.2969 at epoch: 135\n",
      "current mean loss: 0.0727best mean loss: 0.0000at epoch: 0\n",
      "Epoch 156: 100%|██████████| 9/9 [00:16<00:00,  0.55it/s, v_num=7, train_loss=0.353, val_loss=0.394]"
     ]
    },
    {
     "name": "stderr",
     "output_type": "stream",
     "text": [
      "Epoch 156, global step 1413: 'val_loss' reached 0.39434 (best 0.39434), saving model to '/home/pawel/Documents/RISA/3D_segmentation/logger/checkpoints/epoch_156-0.39434.ckpt' as top 1\n"
     ]
    },
    {
     "name": "stdout",
     "output_type": "stream",
     "text": [
      "Epoch 157: 100%|██████████| 9/9 [00:09<00:00,  0.97it/s, v_num=7, train_loss=0.362, val_loss=0.394]current epoch: 157 current mean dice: 0.2919\n",
      "best mean dice: 0.2969 at epoch: 135\n",
      "current mean loss: 0.0724best mean loss: 0.0000at epoch: 0\n",
      "Epoch 157: 100%|██████████| 9/9 [00:16<00:00,  0.55it/s, v_num=7, train_loss=0.362, val_loss=0.392]"
     ]
    },
    {
     "name": "stderr",
     "output_type": "stream",
     "text": [
      "Epoch 157, global step 1422: 'val_loss' reached 0.39222 (best 0.39222), saving model to '/home/pawel/Documents/RISA/3D_segmentation/logger/checkpoints/epoch_157-0.39222.ckpt' as top 1\n"
     ]
    },
    {
     "name": "stdout",
     "output_type": "stream",
     "text": [
      "Epoch 158: 100%|██████████| 9/9 [00:08<00:00,  1.02it/s, v_num=7, train_loss=0.380, val_loss=0.392]current epoch: 158 current mean dice: 0.2869\n",
      "best mean dice: 0.2969 at epoch: 135\n",
      "current mean loss: 0.0729best mean loss: 0.0000at epoch: 0\n",
      "Epoch 158: 100%|██████████| 9/9 [00:15<00:00,  0.57it/s, v_num=7, train_loss=0.380, val_loss=0.397]"
     ]
    },
    {
     "name": "stderr",
     "output_type": "stream",
     "text": [
      "Epoch 158, global step 1431: 'val_loss' was not in top 1\n"
     ]
    },
    {
     "name": "stdout",
     "output_type": "stream",
     "text": [
      "Epoch 159: 100%|██████████| 9/9 [00:09<00:00,  0.99it/s, v_num=7, train_loss=0.500, val_loss=0.397]current epoch: 159 current mean dice: 0.2922\n",
      "best mean dice: 0.2969 at epoch: 135\n",
      "current mean loss: 0.0724best mean loss: 0.0000at epoch: 0\n",
      "Epoch 159: 100%|██████████| 9/9 [00:16<00:00,  0.55it/s, v_num=7, train_loss=0.500, val_loss=0.393]"
     ]
    },
    {
     "name": "stderr",
     "output_type": "stream",
     "text": [
      "Epoch 159, global step 1440: 'val_loss' was not in top 1\n"
     ]
    },
    {
     "name": "stdout",
     "output_type": "stream",
     "text": [
      "Epoch 160: 100%|██████████| 9/9 [00:09<00:00,  0.97it/s, v_num=7, train_loss=0.375, val_loss=0.393]current epoch: 160 current mean dice: 0.2937\n",
      "best mean dice: 0.2969 at epoch: 135\n",
      "current mean loss: 0.0721best mean loss: 0.0000at epoch: 0\n",
      "Epoch 160: 100%|██████████| 9/9 [00:16<00:00,  0.55it/s, v_num=7, train_loss=0.375, val_loss=0.391]"
     ]
    },
    {
     "name": "stderr",
     "output_type": "stream",
     "text": [
      "Epoch 160, global step 1449: 'val_loss' reached 0.39113 (best 0.39113), saving model to '/home/pawel/Documents/RISA/3D_segmentation/logger/checkpoints/epoch_160-0.39113.ckpt' as top 1\n"
     ]
    },
    {
     "name": "stdout",
     "output_type": "stream",
     "text": [
      "Epoch 161: 100%|██████████| 9/9 [00:09<00:00,  1.00it/s, v_num=7, train_loss=0.358, val_loss=0.391]current epoch: 161 current mean dice: 0.3010\n",
      "best mean dice: 0.3010 at epoch: 161\n",
      "current mean loss: 0.0719best mean loss: 0.0000at epoch: 0\n",
      "Epoch 161: 100%|██████████| 9/9 [00:16<00:00,  0.56it/s, v_num=7, train_loss=0.358, val_loss=0.390]"
     ]
    },
    {
     "name": "stderr",
     "output_type": "stream",
     "text": [
      "Epoch 161, global step 1458: 'val_loss' reached 0.38962 (best 0.38962), saving model to '/home/pawel/Documents/RISA/3D_segmentation/logger/checkpoints/epoch_161-0.38962.ckpt' as top 1\n"
     ]
    },
    {
     "name": "stdout",
     "output_type": "stream",
     "text": [
      "Epoch 162: 100%|██████████| 9/9 [00:09<00:00,  0.95it/s, v_num=7, train_loss=0.378, val_loss=0.390]current epoch: 162 current mean dice: 0.2933\n",
      "best mean dice: 0.3010 at epoch: 161\n",
      "current mean loss: 0.0718best mean loss: 0.0000at epoch: 0\n",
      "Epoch 162: 100%|██████████| 9/9 [00:16<00:00,  0.54it/s, v_num=7, train_loss=0.378, val_loss=0.389]"
     ]
    },
    {
     "name": "stderr",
     "output_type": "stream",
     "text": [
      "Epoch 162, global step 1467: 'val_loss' reached 0.38937 (best 0.38937), saving model to '/home/pawel/Documents/RISA/3D_segmentation/logger/checkpoints/epoch_162-0.38937.ckpt' as top 1\n"
     ]
    },
    {
     "name": "stdout",
     "output_type": "stream",
     "text": [
      "Epoch 163: 100%|██████████| 9/9 [00:09<00:00,  0.98it/s, v_num=7, train_loss=0.346, val_loss=0.389]current epoch: 163 current mean dice: 0.2950\n",
      "best mean dice: 0.3010 at epoch: 161\n",
      "current mean loss: 0.0718best mean loss: 0.0000at epoch: 0\n",
      "Epoch 163: 100%|██████████| 9/9 [00:16<00:00,  0.55it/s, v_num=7, train_loss=0.346, val_loss=0.387]"
     ]
    },
    {
     "name": "stderr",
     "output_type": "stream",
     "text": [
      "Epoch 163, global step 1476: 'val_loss' reached 0.38705 (best 0.38705), saving model to '/home/pawel/Documents/RISA/3D_segmentation/logger/checkpoints/epoch_163-0.38705.ckpt' as top 1\n"
     ]
    },
    {
     "name": "stdout",
     "output_type": "stream",
     "text": [
      "Epoch 164: 100%|██████████| 9/9 [00:09<00:00,  0.95it/s, v_num=7, train_loss=0.413, val_loss=0.387]current epoch: 164 current mean dice: 0.2989\n",
      "best mean dice: 0.3010 at epoch: 161\n",
      "current mean loss: 0.0717best mean loss: 0.0000at epoch: 0\n",
      "Epoch 164: 100%|██████████| 9/9 [00:16<00:00,  0.54it/s, v_num=7, train_loss=0.413, val_loss=0.387]"
     ]
    },
    {
     "name": "stderr",
     "output_type": "stream",
     "text": [
      "Epoch 164, global step 1485: 'val_loss' was not in top 1\n"
     ]
    },
    {
     "name": "stdout",
     "output_type": "stream",
     "text": [
      "Epoch 165: 100%|██████████| 9/9 [00:09<00:00,  0.97it/s, v_num=7, train_loss=0.332, val_loss=0.387]current epoch: 165 current mean dice: 0.2959\n",
      "best mean dice: 0.3010 at epoch: 161\n",
      "current mean loss: 0.0715best mean loss: 0.0000at epoch: 0\n",
      "Epoch 165: 100%|██████████| 9/9 [00:16<00:00,  0.55it/s, v_num=7, train_loss=0.332, val_loss=0.389]"
     ]
    },
    {
     "name": "stderr",
     "output_type": "stream",
     "text": [
      "Epoch 165, global step 1494: 'val_loss' was not in top 1\n"
     ]
    },
    {
     "name": "stdout",
     "output_type": "stream",
     "text": [
      "Epoch 166: 100%|██████████| 9/9 [00:09<00:00,  0.97it/s, v_num=7, train_loss=0.328, val_loss=0.389]current epoch: 166 current mean dice: 0.2926\n",
      "best mean dice: 0.3010 at epoch: 161\n",
      "current mean loss: 0.0723best mean loss: 0.0000at epoch: 0\n",
      "Epoch 166: 100%|██████████| 9/9 [00:16<00:00,  0.55it/s, v_num=7, train_loss=0.328, val_loss=0.393]"
     ]
    },
    {
     "name": "stderr",
     "output_type": "stream",
     "text": [
      "Epoch 166, global step 1503: 'val_loss' was not in top 1\n"
     ]
    },
    {
     "name": "stdout",
     "output_type": "stream",
     "text": [
      "Epoch 167: 100%|██████████| 9/9 [00:09<00:00,  0.98it/s, v_num=7, train_loss=0.386, val_loss=0.393]current epoch: 167 current mean dice: 0.2968\n",
      "best mean dice: 0.3010 at epoch: 161\n",
      "current mean loss: 0.0718best mean loss: 0.0000at epoch: 0\n",
      "Epoch 167: 100%|██████████| 9/9 [00:16<00:00,  0.55it/s, v_num=7, train_loss=0.386, val_loss=0.388]"
     ]
    },
    {
     "name": "stderr",
     "output_type": "stream",
     "text": [
      "Epoch 167, global step 1512: 'val_loss' was not in top 1\n"
     ]
    },
    {
     "name": "stdout",
     "output_type": "stream",
     "text": [
      "Epoch 168: 100%|██████████| 9/9 [00:09<00:00,  0.97it/s, v_num=7, train_loss=0.426, val_loss=0.388]current epoch: 168 current mean dice: 0.2849\n",
      "best mean dice: 0.3010 at epoch: 161\n",
      "current mean loss: 0.0723best mean loss: 0.0000at epoch: 0\n",
      "Epoch 168: 100%|██████████| 9/9 [00:16<00:00,  0.55it/s, v_num=7, train_loss=0.426, val_loss=0.392]"
     ]
    },
    {
     "name": "stderr",
     "output_type": "stream",
     "text": [
      "Epoch 168, global step 1521: 'val_loss' was not in top 1\n"
     ]
    },
    {
     "name": "stdout",
     "output_type": "stream",
     "text": [
      "Epoch 169: 100%|██████████| 9/9 [00:09<00:00,  0.95it/s, v_num=7, train_loss=0.350, val_loss=0.392]current epoch: 169 current mean dice: 0.3083\n",
      "best mean dice: 0.3083 at epoch: 169\n",
      "current mean loss: 0.0711best mean loss: 0.0000at epoch: 0\n",
      "Epoch 169: 100%|██████████| 9/9 [00:16<00:00,  0.54it/s, v_num=7, train_loss=0.350, val_loss=0.384]"
     ]
    },
    {
     "name": "stderr",
     "output_type": "stream",
     "text": [
      "Epoch 169, global step 1530: 'val_loss' reached 0.38419 (best 0.38419), saving model to '/home/pawel/Documents/RISA/3D_segmentation/logger/checkpoints/epoch_169-0.38419.ckpt' as top 1\n"
     ]
    },
    {
     "name": "stdout",
     "output_type": "stream",
     "text": [
      "Epoch 170: 100%|██████████| 9/9 [00:09<00:00,  0.98it/s, v_num=7, train_loss=0.334, val_loss=0.384]current epoch: 170 current mean dice: 0.2993\n",
      "best mean dice: 0.3083 at epoch: 169\n",
      "current mean loss: 0.0716best mean loss: 0.0000at epoch: 0\n",
      "Epoch 170: 100%|██████████| 9/9 [00:16<00:00,  0.55it/s, v_num=7, train_loss=0.334, val_loss=0.388]"
     ]
    },
    {
     "name": "stderr",
     "output_type": "stream",
     "text": [
      "Epoch 170, global step 1539: 'val_loss' was not in top 1\n"
     ]
    },
    {
     "name": "stdout",
     "output_type": "stream",
     "text": [
      "Epoch 171: 100%|██████████| 9/9 [00:09<00:00,  0.95it/s, v_num=7, train_loss=0.352, val_loss=0.388]current epoch: 171 current mean dice: 0.2958\n",
      "best mean dice: 0.3083 at epoch: 169\n",
      "current mean loss: 0.0715best mean loss: 0.0000at epoch: 0\n",
      "Epoch 171: 100%|██████████| 9/9 [00:16<00:00,  0.54it/s, v_num=7, train_loss=0.352, val_loss=0.389]"
     ]
    },
    {
     "name": "stderr",
     "output_type": "stream",
     "text": [
      "Epoch 171, global step 1548: 'val_loss' was not in top 1\n"
     ]
    },
    {
     "name": "stdout",
     "output_type": "stream",
     "text": [
      "Epoch 172: 100%|██████████| 9/9 [00:09<00:00,  0.98it/s, v_num=7, train_loss=0.386, val_loss=0.389]current epoch: 172 current mean dice: 0.2987\n",
      "best mean dice: 0.3083 at epoch: 169\n",
      "current mean loss: 0.0722best mean loss: 0.0000at epoch: 0\n",
      "Epoch 172: 100%|██████████| 9/9 [00:16<00:00,  0.55it/s, v_num=7, train_loss=0.386, val_loss=0.388]"
     ]
    },
    {
     "name": "stderr",
     "output_type": "stream",
     "text": [
      "Epoch 172, global step 1557: 'val_loss' was not in top 1\n"
     ]
    },
    {
     "name": "stdout",
     "output_type": "stream",
     "text": [
      "Epoch 173: 100%|██████████| 9/9 [00:09<00:00,  0.93it/s, v_num=7, train_loss=0.366, val_loss=0.388]current epoch: 173 current mean dice: 0.2836\n",
      "best mean dice: 0.3083 at epoch: 169\n",
      "current mean loss: 0.0726best mean loss: 0.0000at epoch: 0\n",
      "Epoch 173: 100%|██████████| 9/9 [00:16<00:00,  0.54it/s, v_num=7, train_loss=0.366, val_loss=0.393]"
     ]
    },
    {
     "name": "stderr",
     "output_type": "stream",
     "text": [
      "Epoch 173, global step 1566: 'val_loss' was not in top 1\n"
     ]
    },
    {
     "name": "stdout",
     "output_type": "stream",
     "text": [
      "Epoch 174: 100%|██████████| 9/9 [00:09<00:00,  0.97it/s, v_num=7, train_loss=0.368, val_loss=0.393]current epoch: 174 current mean dice: 0.2966\n",
      "best mean dice: 0.3083 at epoch: 169\n",
      "current mean loss: 0.0712best mean loss: 0.0000at epoch: 0\n",
      "Epoch 174: 100%|██████████| 9/9 [00:16<00:00,  0.55it/s, v_num=7, train_loss=0.368, val_loss=0.386]"
     ]
    },
    {
     "name": "stderr",
     "output_type": "stream",
     "text": [
      "Epoch 174, global step 1575: 'val_loss' was not in top 1\n"
     ]
    },
    {
     "name": "stdout",
     "output_type": "stream",
     "text": [
      "Epoch 175: 100%|██████████| 9/9 [00:09<00:00,  0.99it/s, v_num=7, train_loss=0.400, val_loss=0.386]current epoch: 175 current mean dice: 0.3097\n",
      "best mean dice: 0.3097 at epoch: 175\n",
      "current mean loss: 0.0707best mean loss: 0.0000at epoch: 0\n",
      "Epoch 175: 100%|██████████| 9/9 [00:16<00:00,  0.55it/s, v_num=7, train_loss=0.400, val_loss=0.383]"
     ]
    },
    {
     "name": "stderr",
     "output_type": "stream",
     "text": [
      "Epoch 175, global step 1584: 'val_loss' reached 0.38344 (best 0.38344), saving model to '/home/pawel/Documents/RISA/3D_segmentation/logger/checkpoints/epoch_175-0.38344.ckpt' as top 1\n"
     ]
    },
    {
     "name": "stdout",
     "output_type": "stream",
     "text": [
      "Epoch 176: 100%|██████████| 9/9 [00:09<00:00,  0.93it/s, v_num=7, train_loss=0.398, val_loss=0.383]current epoch: 176 current mean dice: 0.2960\n",
      "best mean dice: 0.3097 at epoch: 175\n",
      "current mean loss: 0.0719best mean loss: 0.0000at epoch: 0\n",
      "Epoch 176: 100%|██████████| 9/9 [00:16<00:00,  0.54it/s, v_num=7, train_loss=0.398, val_loss=0.391]"
     ]
    },
    {
     "name": "stderr",
     "output_type": "stream",
     "text": [
      "Epoch 176, global step 1593: 'val_loss' was not in top 1\n"
     ]
    },
    {
     "name": "stdout",
     "output_type": "stream",
     "text": [
      "Epoch 177: 100%|██████████| 9/9 [00:09<00:00,  0.97it/s, v_num=7, train_loss=0.373, val_loss=0.391]current epoch: 177 current mean dice: 0.3010\n",
      "best mean dice: 0.3097 at epoch: 175\n",
      "current mean loss: 0.0709best mean loss: 0.0000at epoch: 0\n",
      "Epoch 177: 100%|██████████| 9/9 [00:16<00:00,  0.55it/s, v_num=7, train_loss=0.373, val_loss=0.385]"
     ]
    },
    {
     "name": "stderr",
     "output_type": "stream",
     "text": [
      "Epoch 177, global step 1602: 'val_loss' was not in top 1\n"
     ]
    },
    {
     "name": "stdout",
     "output_type": "stream",
     "text": [
      "Epoch 178: 100%|██████████| 9/9 [00:09<00:00,  0.99it/s, v_num=7, train_loss=0.383, val_loss=0.385]current epoch: 178 current mean dice: 0.2996\n",
      "best mean dice: 0.3097 at epoch: 175\n",
      "current mean loss: 0.0718best mean loss: 0.0000at epoch: 0\n",
      "Epoch 178: 100%|██████████| 9/9 [00:16<00:00,  0.55it/s, v_num=7, train_loss=0.383, val_loss=0.387]"
     ]
    },
    {
     "name": "stderr",
     "output_type": "stream",
     "text": [
      "Epoch 178, global step 1611: 'val_loss' was not in top 1\n"
     ]
    },
    {
     "name": "stdout",
     "output_type": "stream",
     "text": [
      "Epoch 179: 100%|██████████| 9/9 [00:09<00:00,  0.98it/s, v_num=7, train_loss=0.386, val_loss=0.387]current epoch: 179 current mean dice: 0.2927\n",
      "best mean dice: 0.3097 at epoch: 175\n",
      "current mean loss: 0.0711best mean loss: 0.0000at epoch: 0\n",
      "Epoch 179: 100%|██████████| 9/9 [00:16<00:00,  0.55it/s, v_num=7, train_loss=0.386, val_loss=0.388]"
     ]
    },
    {
     "name": "stderr",
     "output_type": "stream",
     "text": [
      "Epoch 179, global step 1620: 'val_loss' was not in top 1\n"
     ]
    },
    {
     "name": "stdout",
     "output_type": "stream",
     "text": [
      "Epoch 180: 100%|██████████| 9/9 [00:09<00:00,  0.99it/s, v_num=7, train_loss=0.404, val_loss=0.388]current epoch: 180 current mean dice: 0.3003\n",
      "best mean dice: 0.3097 at epoch: 175\n",
      "current mean loss: 0.0707best mean loss: 0.0000at epoch: 0\n",
      "Epoch 180: 100%|██████████| 9/9 [00:16<00:00,  0.56it/s, v_num=7, train_loss=0.404, val_loss=0.385]"
     ]
    },
    {
     "name": "stderr",
     "output_type": "stream",
     "text": [
      "Epoch 180, global step 1629: 'val_loss' was not in top 1\n"
     ]
    },
    {
     "name": "stdout",
     "output_type": "stream",
     "text": [
      "Epoch 181: 100%|██████████| 9/9 [00:09<00:00,  0.98it/s, v_num=7, train_loss=0.389, val_loss=0.385]current epoch: 181 current mean dice: 0.3121\n",
      "best mean dice: 0.3121 at epoch: 181\n",
      "current mean loss: 0.0700best mean loss: 0.0000at epoch: 0\n",
      "Epoch 181: 100%|██████████| 9/9 [00:16<00:00,  0.56it/s, v_num=7, train_loss=0.389, val_loss=0.380]"
     ]
    },
    {
     "name": "stderr",
     "output_type": "stream",
     "text": [
      "Epoch 181, global step 1638: 'val_loss' reached 0.37969 (best 0.37969), saving model to '/home/pawel/Documents/RISA/3D_segmentation/logger/checkpoints/epoch_181-0.37969.ckpt' as top 1\n"
     ]
    },
    {
     "name": "stdout",
     "output_type": "stream",
     "text": [
      "Epoch 182: 100%|██████████| 9/9 [00:09<00:00,  0.99it/s, v_num=7, train_loss=0.420, val_loss=0.380]current epoch: 182 current mean dice: 0.2909\n",
      "best mean dice: 0.3121 at epoch: 181\n",
      "current mean loss: 0.0717best mean loss: 0.0000at epoch: 0\n",
      "Epoch 182: 100%|██████████| 9/9 [00:16<00:00,  0.56it/s, v_num=7, train_loss=0.420, val_loss=0.389]"
     ]
    },
    {
     "name": "stderr",
     "output_type": "stream",
     "text": [
      "Epoch 182, global step 1647: 'val_loss' was not in top 1\n"
     ]
    },
    {
     "name": "stdout",
     "output_type": "stream",
     "text": [
      "Epoch 183: 100%|██████████| 9/9 [00:08<00:00,  1.01it/s, v_num=7, train_loss=0.400, val_loss=0.389]current epoch: 183 current mean dice: 0.3006\n",
      "best mean dice: 0.3121 at epoch: 181\n",
      "current mean loss: 0.0711best mean loss: 0.0000at epoch: 0\n",
      "Epoch 183: 100%|██████████| 9/9 [00:16<00:00,  0.56it/s, v_num=7, train_loss=0.400, val_loss=0.386]"
     ]
    },
    {
     "name": "stderr",
     "output_type": "stream",
     "text": [
      "Epoch 183, global step 1656: 'val_loss' was not in top 1\n"
     ]
    },
    {
     "name": "stdout",
     "output_type": "stream",
     "text": [
      "Epoch 184: 100%|██████████| 9/9 [00:09<00:00,  0.97it/s, v_num=7, train_loss=0.469, val_loss=0.386]current epoch: 184 current mean dice: 0.2976\n",
      "best mean dice: 0.3121 at epoch: 181\n",
      "current mean loss: 0.0710best mean loss: 0.0000at epoch: 0\n",
      "Epoch 184: 100%|██████████| 9/9 [00:16<00:00,  0.55it/s, v_num=7, train_loss=0.469, val_loss=0.385]"
     ]
    },
    {
     "name": "stderr",
     "output_type": "stream",
     "text": [
      "Epoch 184, global step 1665: 'val_loss' was not in top 1\n"
     ]
    },
    {
     "name": "stdout",
     "output_type": "stream",
     "text": [
      "Epoch 185: 100%|██████████| 9/9 [00:08<00:00,  1.01it/s, v_num=7, train_loss=0.358, val_loss=0.385]current epoch: 185 current mean dice: 0.3058\n",
      "best mean dice: 0.3121 at epoch: 181\n",
      "current mean loss: 0.0705best mean loss: 0.0000at epoch: 0\n",
      "Epoch 185: 100%|██████████| 9/9 [00:16<00:00,  0.56it/s, v_num=7, train_loss=0.358, val_loss=0.381]"
     ]
    },
    {
     "name": "stderr",
     "output_type": "stream",
     "text": [
      "Epoch 185, global step 1674: 'val_loss' was not in top 1\n"
     ]
    },
    {
     "name": "stdout",
     "output_type": "stream",
     "text": [
      "Epoch 186: 100%|██████████| 9/9 [00:09<00:00,  0.94it/s, v_num=7, train_loss=0.354, val_loss=0.381]current epoch: 186 current mean dice: 0.2996\n",
      "best mean dice: 0.3121 at epoch: 181\n",
      "current mean loss: 0.0721best mean loss: 0.0000at epoch: 0\n",
      "Epoch 186: 100%|██████████| 9/9 [00:16<00:00,  0.54it/s, v_num=7, train_loss=0.354, val_loss=0.388]"
     ]
    },
    {
     "name": "stderr",
     "output_type": "stream",
     "text": [
      "Epoch 186, global step 1683: 'val_loss' was not in top 1\n"
     ]
    },
    {
     "name": "stdout",
     "output_type": "stream",
     "text": [
      "Epoch 187: 100%|██████████| 9/9 [00:09<00:00,  0.92it/s, v_num=7, train_loss=0.332, val_loss=0.388]current epoch: 187 current mean dice: 0.2931\n",
      "best mean dice: 0.3121 at epoch: 181\n",
      "current mean loss: 0.0717best mean loss: 0.0000at epoch: 0\n",
      "Epoch 187: 100%|██████████| 9/9 [00:16<00:00,  0.53it/s, v_num=7, train_loss=0.332, val_loss=0.387]"
     ]
    },
    {
     "name": "stderr",
     "output_type": "stream",
     "text": [
      "Epoch 187, global step 1692: 'val_loss' was not in top 1\n"
     ]
    },
    {
     "name": "stdout",
     "output_type": "stream",
     "text": [
      "Epoch 188: 100%|██████████| 9/9 [00:09<00:00,  0.95it/s, v_num=7, train_loss=0.438, val_loss=0.387]current epoch: 188 current mean dice: 0.2941\n",
      "best mean dice: 0.3121 at epoch: 181\n",
      "current mean loss: 0.0711best mean loss: 0.0000at epoch: 0\n",
      "Epoch 188: 100%|██████████| 9/9 [00:16<00:00,  0.54it/s, v_num=7, train_loss=0.438, val_loss=0.386]"
     ]
    },
    {
     "name": "stderr",
     "output_type": "stream",
     "text": [
      "Epoch 188, global step 1701: 'val_loss' was not in top 1\n"
     ]
    },
    {
     "name": "stdout",
     "output_type": "stream",
     "text": [
      "Epoch 189: 100%|██████████| 9/9 [00:09<00:00,  0.97it/s, v_num=7, train_loss=0.367, val_loss=0.386]current epoch: 189 current mean dice: 0.2994\n",
      "best mean dice: 0.3121 at epoch: 181\n",
      "current mean loss: 0.0706best mean loss: 0.0000at epoch: 0\n",
      "Epoch 189: 100%|██████████| 9/9 [00:16<00:00,  0.55it/s, v_num=7, train_loss=0.367, val_loss=0.382]"
     ]
    },
    {
     "name": "stderr",
     "output_type": "stream",
     "text": [
      "Epoch 189, global step 1710: 'val_loss' was not in top 1\n"
     ]
    },
    {
     "name": "stdout",
     "output_type": "stream",
     "text": [
      "Epoch 190: 100%|██████████| 9/9 [00:09<00:00,  0.95it/s, v_num=7, train_loss=0.392, val_loss=0.382]current epoch: 190 current mean dice: 0.3077\n",
      "best mean dice: 0.3121 at epoch: 181\n",
      "current mean loss: 0.0703best mean loss: 0.0000at epoch: 0\n",
      "Epoch 190: 100%|██████████| 9/9 [00:16<00:00,  0.54it/s, v_num=7, train_loss=0.392, val_loss=0.380]"
     ]
    },
    {
     "name": "stderr",
     "output_type": "stream",
     "text": [
      "Epoch 190, global step 1719: 'val_loss' was not in top 1\n"
     ]
    },
    {
     "name": "stdout",
     "output_type": "stream",
     "text": [
      "Epoch 191: 100%|██████████| 9/9 [00:09<00:00,  0.99it/s, v_num=7, train_loss=0.441, val_loss=0.380]current epoch: 191 current mean dice: 0.3028\n",
      "best mean dice: 0.3121 at epoch: 181\n",
      "current mean loss: 0.0708best mean loss: 0.0000at epoch: 0\n",
      "Epoch 191: 100%|██████████| 9/9 [00:16<00:00,  0.56it/s, v_num=7, train_loss=0.441, val_loss=0.383]"
     ]
    },
    {
     "name": "stderr",
     "output_type": "stream",
     "text": [
      "Epoch 191, global step 1728: 'val_loss' was not in top 1\n"
     ]
    },
    {
     "name": "stdout",
     "output_type": "stream",
     "text": [
      "Epoch 192: 100%|██████████| 9/9 [00:09<00:00,  0.96it/s, v_num=7, train_loss=0.296, val_loss=0.383]current epoch: 192 current mean dice: 0.3056\n",
      "best mean dice: 0.3121 at epoch: 181\n",
      "current mean loss: 0.0709best mean loss: 0.0000at epoch: 0\n",
      "Epoch 192: 100%|██████████| 9/9 [00:16<00:00,  0.55it/s, v_num=7, train_loss=0.296, val_loss=0.383]"
     ]
    },
    {
     "name": "stderr",
     "output_type": "stream",
     "text": [
      "Epoch 192, global step 1737: 'val_loss' was not in top 1\n"
     ]
    },
    {
     "name": "stdout",
     "output_type": "stream",
     "text": [
      "Epoch 193: 100%|██████████| 9/9 [00:09<00:00,  0.96it/s, v_num=7, train_loss=0.300, val_loss=0.383]current epoch: 193 current mean dice: 0.3043\n",
      "best mean dice: 0.3121 at epoch: 181\n",
      "current mean loss: 0.0711best mean loss: 0.0000at epoch: 0\n",
      "Epoch 193: 100%|██████████| 9/9 [00:16<00:00,  0.55it/s, v_num=7, train_loss=0.300, val_loss=0.382]"
     ]
    },
    {
     "name": "stderr",
     "output_type": "stream",
     "text": [
      "Epoch 193, global step 1746: 'val_loss' was not in top 1\n"
     ]
    },
    {
     "name": "stdout",
     "output_type": "stream",
     "text": [
      "Epoch 194: 100%|██████████| 9/9 [00:08<00:00,  1.03it/s, v_num=7, train_loss=0.355, val_loss=0.382]current epoch: 194 current mean dice: 0.3136\n",
      "best mean dice: 0.3136 at epoch: 194\n",
      "current mean loss: 0.0704best mean loss: 0.0000at epoch: 0\n",
      "Epoch 194: 100%|██████████| 9/9 [00:15<00:00,  0.57it/s, v_num=7, train_loss=0.355, val_loss=0.382]"
     ]
    },
    {
     "name": "stderr",
     "output_type": "stream",
     "text": [
      "Epoch 194, global step 1755: 'val_loss' was not in top 1\n"
     ]
    },
    {
     "name": "stdout",
     "output_type": "stream",
     "text": [
      "Epoch 195: 100%|██████████| 9/9 [00:08<00:00,  1.02it/s, v_num=7, train_loss=0.393, val_loss=0.382]current epoch: 195 current mean dice: 0.2951\n",
      "best mean dice: 0.3136 at epoch: 194\n",
      "current mean loss: 0.0711best mean loss: 0.0000at epoch: 0\n",
      "Epoch 195: 100%|██████████| 9/9 [00:15<00:00,  0.57it/s, v_num=7, train_loss=0.393, val_loss=0.386]"
     ]
    },
    {
     "name": "stderr",
     "output_type": "stream",
     "text": [
      "Epoch 195, global step 1764: 'val_loss' was not in top 1\n"
     ]
    },
    {
     "name": "stdout",
     "output_type": "stream",
     "text": [
      "Epoch 196: 100%|██████████| 9/9 [00:08<00:00,  1.01it/s, v_num=7, train_loss=0.370, val_loss=0.386]current epoch: 196 current mean dice: 0.3088\n",
      "best mean dice: 0.3136 at epoch: 194\n",
      "current mean loss: 0.0701best mean loss: 0.0000at epoch: 0\n",
      "Epoch 196: 100%|██████████| 9/9 [00:15<00:00,  0.57it/s, v_num=7, train_loss=0.370, val_loss=0.381]"
     ]
    },
    {
     "name": "stderr",
     "output_type": "stream",
     "text": [
      "Epoch 196, global step 1773: 'val_loss' was not in top 1\n"
     ]
    },
    {
     "name": "stdout",
     "output_type": "stream",
     "text": [
      "Epoch 197: 100%|██████████| 9/9 [00:08<00:00,  1.02it/s, v_num=7, train_loss=0.411, val_loss=0.381]current epoch: 197 current mean dice: 0.3103\n",
      "best mean dice: 0.3136 at epoch: 194\n",
      "current mean loss: 0.0714best mean loss: 0.0000at epoch: 0\n",
      "Epoch 197: 100%|██████████| 9/9 [00:15<00:00,  0.57it/s, v_num=7, train_loss=0.411, val_loss=0.387]"
     ]
    },
    {
     "name": "stderr",
     "output_type": "stream",
     "text": [
      "Epoch 197, global step 1782: 'val_loss' was not in top 1\n"
     ]
    },
    {
     "name": "stdout",
     "output_type": "stream",
     "text": [
      "Epoch 198: 100%|██████████| 9/9 [00:08<00:00,  1.00it/s, v_num=7, train_loss=0.391, val_loss=0.387]current epoch: 198 current mean dice: 0.2832\n",
      "best mean dice: 0.3136 at epoch: 194\n",
      "current mean loss: 0.0729best mean loss: 0.0000at epoch: 0\n",
      "Epoch 198: 100%|██████████| 9/9 [00:15<00:00,  0.57it/s, v_num=7, train_loss=0.391, val_loss=0.395]"
     ]
    },
    {
     "name": "stderr",
     "output_type": "stream",
     "text": [
      "Epoch 198, global step 1791: 'val_loss' was not in top 1\n"
     ]
    },
    {
     "name": "stdout",
     "output_type": "stream",
     "text": [
      "Epoch 199: 100%|██████████| 9/9 [00:08<00:00,  1.00it/s, v_num=7, train_loss=0.428, val_loss=0.395]current epoch: 199 current mean dice: 0.3046\n",
      "best mean dice: 0.3136 at epoch: 194\n",
      "current mean loss: 0.0717best mean loss: 0.0000at epoch: 0\n",
      "Epoch 199: 100%|██████████| 9/9 [00:15<00:00,  0.56it/s, v_num=7, train_loss=0.428, val_loss=0.387]"
     ]
    },
    {
     "name": "stderr",
     "output_type": "stream",
     "text": [
      "Epoch 199, global step 1800: 'val_loss' was not in top 1\n"
     ]
    },
    {
     "name": "stdout",
     "output_type": "stream",
     "text": [
      "Epoch 200: 100%|██████████| 9/9 [00:09<00:00,  1.00it/s, v_num=7, train_loss=0.371, val_loss=0.387]current epoch: 200 current mean dice: 0.3023\n",
      "best mean dice: 0.3136 at epoch: 194\n",
      "current mean loss: 0.0705best mean loss: 0.0000at epoch: 0\n",
      "Epoch 200: 100%|██████████| 9/9 [00:15<00:00,  0.56it/s, v_num=7, train_loss=0.371, val_loss=0.382]"
     ]
    },
    {
     "name": "stderr",
     "output_type": "stream",
     "text": [
      "Epoch 200, global step 1809: 'val_loss' was not in top 1\n"
     ]
    },
    {
     "name": "stdout",
     "output_type": "stream",
     "text": [
      "Epoch 201: 100%|██████████| 9/9 [00:08<00:00,  1.01it/s, v_num=7, train_loss=0.368, val_loss=0.382]current epoch: 201 current mean dice: 0.2950\n",
      "best mean dice: 0.3136 at epoch: 194\n",
      "current mean loss: 0.0710best mean loss: 0.0000at epoch: 0\n",
      "Epoch 201: 100%|██████████| 9/9 [00:15<00:00,  0.56it/s, v_num=7, train_loss=0.368, val_loss=0.384]"
     ]
    },
    {
     "name": "stderr",
     "output_type": "stream",
     "text": [
      "Epoch 201, global step 1818: 'val_loss' was not in top 1\n"
     ]
    },
    {
     "name": "stdout",
     "output_type": "stream",
     "text": [
      "Epoch 202: 100%|██████████| 9/9 [00:08<00:00,  1.00it/s, v_num=7, train_loss=0.365, val_loss=0.384]current epoch: 202 current mean dice: 0.3012\n",
      "best mean dice: 0.3136 at epoch: 194\n",
      "current mean loss: 0.0708best mean loss: 0.0000at epoch: 0\n",
      "Epoch 202: 100%|██████████| 9/9 [00:15<00:00,  0.57it/s, v_num=7, train_loss=0.365, val_loss=0.384]"
     ]
    },
    {
     "name": "stderr",
     "output_type": "stream",
     "text": [
      "Epoch 202, global step 1827: 'val_loss' was not in top 1\n"
     ]
    },
    {
     "name": "stdout",
     "output_type": "stream",
     "text": [
      "Epoch 203: 100%|██████████| 9/9 [00:08<00:00,  1.01it/s, v_num=7, train_loss=0.340, val_loss=0.384]current epoch: 203 current mean dice: 0.3099\n",
      "best mean dice: 0.3136 at epoch: 194\n",
      "current mean loss: 0.0701best mean loss: 0.0000at epoch: 0\n",
      "Epoch 203: 100%|██████████| 9/9 [00:15<00:00,  0.57it/s, v_num=7, train_loss=0.340, val_loss=0.381]"
     ]
    },
    {
     "name": "stderr",
     "output_type": "stream",
     "text": [
      "Epoch 203, global step 1836: 'val_loss' was not in top 1\n"
     ]
    },
    {
     "name": "stdout",
     "output_type": "stream",
     "text": [
      "Epoch 204: 100%|██████████| 9/9 [00:09<00:00,  0.99it/s, v_num=7, train_loss=0.342, val_loss=0.381]current epoch: 204 current mean dice: 0.3182\n",
      "best mean dice: 0.3182 at epoch: 204\n",
      "current mean loss: 0.0707best mean loss: 0.0000at epoch: 0\n",
      "Epoch 204: 100%|██████████| 9/9 [00:16<00:00,  0.56it/s, v_num=7, train_loss=0.342, val_loss=0.382]"
     ]
    },
    {
     "name": "stderr",
     "output_type": "stream",
     "text": [
      "Epoch 204, global step 1845: 'val_loss' was not in top 1\n"
     ]
    },
    {
     "name": "stdout",
     "output_type": "stream",
     "text": [
      "Epoch 205: 100%|██████████| 9/9 [00:09<00:00,  1.00it/s, v_num=7, train_loss=0.408, val_loss=0.382]current epoch: 205 current mean dice: 0.3169\n",
      "best mean dice: 0.3182 at epoch: 204\n",
      "current mean loss: 0.0697best mean loss: 0.0000at epoch: 0\n",
      "Epoch 205: 100%|██████████| 9/9 [00:15<00:00,  0.56it/s, v_num=7, train_loss=0.408, val_loss=0.376]"
     ]
    },
    {
     "name": "stderr",
     "output_type": "stream",
     "text": [
      "Epoch 205, global step 1854: 'val_loss' reached 0.37617 (best 0.37617), saving model to '/home/pawel/Documents/RISA/3D_segmentation/logger/checkpoints/epoch_205-0.37617.ckpt' as top 1\n"
     ]
    },
    {
     "name": "stdout",
     "output_type": "stream",
     "text": [
      "Epoch 206: 100%|██████████| 9/9 [00:09<00:00,  1.00it/s, v_num=7, train_loss=0.404, val_loss=0.376]current epoch: 206 current mean dice: 0.3011\n",
      "best mean dice: 0.3182 at epoch: 204\n",
      "current mean loss: 0.0701best mean loss: 0.0000at epoch: 0\n",
      "Epoch 206: 100%|██████████| 9/9 [00:15<00:00,  0.56it/s, v_num=7, train_loss=0.404, val_loss=0.381]"
     ]
    },
    {
     "name": "stderr",
     "output_type": "stream",
     "text": [
      "Epoch 206, global step 1863: 'val_loss' was not in top 1\n"
     ]
    },
    {
     "name": "stdout",
     "output_type": "stream",
     "text": [
      "Epoch 207: 100%|██████████| 9/9 [00:08<00:00,  1.01it/s, v_num=7, train_loss=0.290, val_loss=0.381]current epoch: 207 current mean dice: 0.3085\n",
      "best mean dice: 0.3182 at epoch: 204\n",
      "current mean loss: 0.0703best mean loss: 0.0000at epoch: 0\n",
      "Epoch 207: 100%|██████████| 9/9 [00:15<00:00,  0.57it/s, v_num=7, train_loss=0.290, val_loss=0.382]"
     ]
    },
    {
     "name": "stderr",
     "output_type": "stream",
     "text": [
      "Epoch 207, global step 1872: 'val_loss' was not in top 1\n"
     ]
    },
    {
     "name": "stdout",
     "output_type": "stream",
     "text": [
      "Epoch 208: 100%|██████████| 9/9 [00:08<00:00,  1.01it/s, v_num=7, train_loss=0.408, val_loss=0.382]current epoch: 208 current mean dice: 0.3047\n",
      "best mean dice: 0.3182 at epoch: 204\n",
      "current mean loss: 0.0708best mean loss: 0.0000at epoch: 0\n",
      "Epoch 208: 100%|██████████| 9/9 [00:15<00:00,  0.57it/s, v_num=7, train_loss=0.408, val_loss=0.384]"
     ]
    },
    {
     "name": "stderr",
     "output_type": "stream",
     "text": [
      "Epoch 208, global step 1881: 'val_loss' was not in top 1\n"
     ]
    },
    {
     "name": "stdout",
     "output_type": "stream",
     "text": [
      "Epoch 209: 100%|██████████| 9/9 [00:08<00:00,  1.02it/s, v_num=7, train_loss=0.380, val_loss=0.384]current epoch: 209 current mean dice: 0.2989\n",
      "best mean dice: 0.3182 at epoch: 204\n",
      "current mean loss: 0.0709best mean loss: 0.0000at epoch: 0\n",
      "Epoch 209: 100%|██████████| 9/9 [00:15<00:00,  0.57it/s, v_num=7, train_loss=0.380, val_loss=0.385]"
     ]
    },
    {
     "name": "stderr",
     "output_type": "stream",
     "text": [
      "Epoch 209, global step 1890: 'val_loss' was not in top 1\n"
     ]
    },
    {
     "name": "stdout",
     "output_type": "stream",
     "text": [
      "Epoch 210: 100%|██████████| 9/9 [00:08<00:00,  1.01it/s, v_num=7, train_loss=0.347, val_loss=0.385]current epoch: 210 current mean dice: 0.3067\n",
      "best mean dice: 0.3182 at epoch: 204\n",
      "current mean loss: 0.0696best mean loss: 0.0000at epoch: 0\n",
      "Epoch 210: 100%|██████████| 9/9 [00:15<00:00,  0.57it/s, v_num=7, train_loss=0.347, val_loss=0.378]"
     ]
    },
    {
     "name": "stderr",
     "output_type": "stream",
     "text": [
      "Epoch 210, global step 1899: 'val_loss' was not in top 1\n"
     ]
    },
    {
     "name": "stdout",
     "output_type": "stream",
     "text": [
      "Epoch 211: 100%|██████████| 9/9 [00:09<00:00,  0.99it/s, v_num=7, train_loss=0.421, val_loss=0.378]current epoch: 211 current mean dice: 0.3133\n",
      "best mean dice: 0.3182 at epoch: 204\n",
      "current mean loss: 0.0694best mean loss: 0.0000at epoch: 0\n",
      "Epoch 211: 100%|██████████| 9/9 [00:16<00:00,  0.56it/s, v_num=7, train_loss=0.421, val_loss=0.375]"
     ]
    },
    {
     "name": "stderr",
     "output_type": "stream",
     "text": [
      "Epoch 211, global step 1908: 'val_loss' reached 0.37515 (best 0.37515), saving model to '/home/pawel/Documents/RISA/3D_segmentation/logger/checkpoints/epoch_211-0.37515.ckpt' as top 1\n"
     ]
    },
    {
     "name": "stdout",
     "output_type": "stream",
     "text": [
      "Epoch 212: 100%|██████████| 9/9 [00:08<00:00,  1.01it/s, v_num=7, train_loss=0.420, val_loss=0.375]current epoch: 212 current mean dice: 0.3062\n",
      "best mean dice: 0.3182 at epoch: 204\n",
      "current mean loss: 0.0704best mean loss: 0.0000at epoch: 0\n",
      "Epoch 212: 100%|██████████| 9/9 [00:15<00:00,  0.57it/s, v_num=7, train_loss=0.420, val_loss=0.379]"
     ]
    },
    {
     "name": "stderr",
     "output_type": "stream",
     "text": [
      "Epoch 212, global step 1917: 'val_loss' was not in top 1\n"
     ]
    },
    {
     "name": "stdout",
     "output_type": "stream",
     "text": [
      "Epoch 213: 100%|██████████| 9/9 [00:09<00:00,  1.00it/s, v_num=7, train_loss=0.368, val_loss=0.379]current epoch: 213 current mean dice: 0.3066\n",
      "best mean dice: 0.3182 at epoch: 204\n",
      "current mean loss: 0.0702best mean loss: 0.0000at epoch: 0\n",
      "Epoch 213: 100%|██████████| 9/9 [00:15<00:00,  0.56it/s, v_num=7, train_loss=0.368, val_loss=0.380]"
     ]
    },
    {
     "name": "stderr",
     "output_type": "stream",
     "text": [
      "Epoch 213, global step 1926: 'val_loss' was not in top 1\n"
     ]
    },
    {
     "name": "stdout",
     "output_type": "stream",
     "text": [
      "Epoch 214: 100%|██████████| 9/9 [00:08<00:00,  1.01it/s, v_num=7, train_loss=0.468, val_loss=0.380]current epoch: 214 current mean dice: 0.3057\n",
      "best mean dice: 0.3182 at epoch: 204\n",
      "current mean loss: 0.0703best mean loss: 0.0000at epoch: 0\n",
      "Epoch 214: 100%|██████████| 9/9 [00:15<00:00,  0.57it/s, v_num=7, train_loss=0.468, val_loss=0.380]"
     ]
    },
    {
     "name": "stderr",
     "output_type": "stream",
     "text": [
      "Epoch 214, global step 1935: 'val_loss' was not in top 1\n"
     ]
    },
    {
     "name": "stdout",
     "output_type": "stream",
     "text": [
      "Epoch 215: 100%|██████████| 9/9 [00:08<00:00,  1.04it/s, v_num=7, train_loss=0.331, val_loss=0.380]current epoch: 215 current mean dice: 0.3040\n",
      "best mean dice: 0.3182 at epoch: 204\n",
      "current mean loss: 0.0703best mean loss: 0.0000at epoch: 0\n",
      "Epoch 215: 100%|██████████| 9/9 [00:15<00:00,  0.58it/s, v_num=7, train_loss=0.331, val_loss=0.380]"
     ]
    },
    {
     "name": "stderr",
     "output_type": "stream",
     "text": [
      "Epoch 215, global step 1944: 'val_loss' was not in top 1\n"
     ]
    },
    {
     "name": "stdout",
     "output_type": "stream",
     "text": [
      "Epoch 216: 100%|██████████| 9/9 [00:08<00:00,  1.01it/s, v_num=7, train_loss=0.321, val_loss=0.380]current epoch: 216 current mean dice: 0.3075\n",
      "best mean dice: 0.3182 at epoch: 204\n",
      "current mean loss: 0.0699best mean loss: 0.0000at epoch: 0\n",
      "Epoch 216: 100%|██████████| 9/9 [00:15<00:00,  0.57it/s, v_num=7, train_loss=0.321, val_loss=0.379]"
     ]
    },
    {
     "name": "stderr",
     "output_type": "stream",
     "text": [
      "Epoch 216, global step 1953: 'val_loss' was not in top 1\n"
     ]
    },
    {
     "name": "stdout",
     "output_type": "stream",
     "text": [
      "Epoch 217: 100%|██████████| 9/9 [00:08<00:00,  1.03it/s, v_num=7, train_loss=0.417, val_loss=0.379]current epoch: 217 current mean dice: 0.3138\n",
      "best mean dice: 0.3182 at epoch: 204\n",
      "current mean loss: 0.0697best mean loss: 0.0000at epoch: 0\n",
      "Epoch 217: 100%|██████████| 9/9 [00:15<00:00,  0.57it/s, v_num=7, train_loss=0.417, val_loss=0.377]"
     ]
    },
    {
     "name": "stderr",
     "output_type": "stream",
     "text": [
      "Epoch 217, global step 1962: 'val_loss' was not in top 1\n"
     ]
    },
    {
     "name": "stdout",
     "output_type": "stream",
     "text": [
      "Epoch 218: 100%|██████████| 9/9 [00:09<00:00,  0.99it/s, v_num=7, train_loss=0.360, val_loss=0.377]current epoch: 218 current mean dice: 0.3206\n",
      "best mean dice: 0.3206 at epoch: 218\n",
      "current mean loss: 0.0686best mean loss: 0.0000at epoch: 0\n",
      "Epoch 218: 100%|██████████| 9/9 [00:16<00:00,  0.56it/s, v_num=7, train_loss=0.360, val_loss=0.374]"
     ]
    },
    {
     "name": "stderr",
     "output_type": "stream",
     "text": [
      "Epoch 218, global step 1971: 'val_loss' reached 0.37384 (best 0.37384), saving model to '/home/pawel/Documents/RISA/3D_segmentation/logger/checkpoints/epoch_218-0.37384.ckpt' as top 1\n"
     ]
    },
    {
     "name": "stdout",
     "output_type": "stream",
     "text": [
      "Epoch 219: 100%|██████████| 9/9 [00:08<00:00,  1.01it/s, v_num=7, train_loss=0.348, val_loss=0.374]current epoch: 219 current mean dice: 0.3164\n",
      "best mean dice: 0.3206 at epoch: 218\n",
      "current mean loss: 0.0690best mean loss: 0.0000at epoch: 0\n",
      "Epoch 219: 100%|██████████| 9/9 [00:15<00:00,  0.57it/s, v_num=7, train_loss=0.348, val_loss=0.374]"
     ]
    },
    {
     "name": "stderr",
     "output_type": "stream",
     "text": [
      "Epoch 219, global step 1980: 'val_loss' was not in top 1\n"
     ]
    },
    {
     "name": "stdout",
     "output_type": "stream",
     "text": [
      "Epoch 220: 100%|██████████| 9/9 [00:09<00:00,  1.00it/s, v_num=7, train_loss=0.378, val_loss=0.374]current epoch: 220 current mean dice: 0.3086\n",
      "best mean dice: 0.3206 at epoch: 218\n",
      "current mean loss: 0.0694best mean loss: 0.0000at epoch: 0\n",
      "Epoch 220: 100%|██████████| 9/9 [00:15<00:00,  0.56it/s, v_num=7, train_loss=0.378, val_loss=0.377]"
     ]
    },
    {
     "name": "stderr",
     "output_type": "stream",
     "text": [
      "Epoch 220, global step 1989: 'val_loss' was not in top 1\n"
     ]
    },
    {
     "name": "stdout",
     "output_type": "stream",
     "text": [
      "Epoch 221: 100%|██████████| 9/9 [00:08<00:00,  1.01it/s, v_num=7, train_loss=0.375, val_loss=0.377]current epoch: 221 current mean dice: 0.3103\n",
      "best mean dice: 0.3206 at epoch: 218\n",
      "current mean loss: 0.0690best mean loss: 0.0000at epoch: 0\n",
      "Epoch 221: 100%|██████████| 9/9 [00:15<00:00,  0.57it/s, v_num=7, train_loss=0.375, val_loss=0.376]"
     ]
    },
    {
     "name": "stderr",
     "output_type": "stream",
     "text": [
      "Epoch 221, global step 1998: 'val_loss' was not in top 1\n"
     ]
    },
    {
     "name": "stdout",
     "output_type": "stream",
     "text": [
      "Epoch 222: 100%|██████████| 9/9 [00:08<00:00,  1.01it/s, v_num=7, train_loss=0.348, val_loss=0.376]current epoch: 222 current mean dice: 0.3188\n",
      "best mean dice: 0.3206 at epoch: 218\n",
      "current mean loss: 0.0696best mean loss: 0.0000at epoch: 0\n",
      "Epoch 222: 100%|██████████| 9/9 [00:15<00:00,  0.57it/s, v_num=7, train_loss=0.348, val_loss=0.375]"
     ]
    },
    {
     "name": "stderr",
     "output_type": "stream",
     "text": [
      "Epoch 222, global step 2007: 'val_loss' was not in top 1\n"
     ]
    },
    {
     "name": "stdout",
     "output_type": "stream",
     "text": [
      "Epoch 223: 100%|██████████| 9/9 [00:08<00:00,  1.02it/s, v_num=7, train_loss=0.420, val_loss=0.375]current epoch: 223 current mean dice: 0.3202\n",
      "best mean dice: 0.3206 at epoch: 218\n",
      "current mean loss: 0.0689best mean loss: 0.0000at epoch: 0\n",
      "Epoch 223: 100%|██████████| 9/9 [00:15<00:00,  0.57it/s, v_num=7, train_loss=0.420, val_loss=0.373]"
     ]
    },
    {
     "name": "stderr",
     "output_type": "stream",
     "text": [
      "Epoch 223, global step 2016: 'val_loss' reached 0.37298 (best 0.37298), saving model to '/home/pawel/Documents/RISA/3D_segmentation/logger/checkpoints/epoch_223-0.37298.ckpt' as top 1\n"
     ]
    },
    {
     "name": "stdout",
     "output_type": "stream",
     "text": [
      "Epoch 224: 100%|██████████| 9/9 [00:08<00:00,  1.03it/s, v_num=7, train_loss=0.460, val_loss=0.373]current epoch: 224 current mean dice: 0.3142\n",
      "best mean dice: 0.3206 at epoch: 218\n",
      "current mean loss: 0.0689best mean loss: 0.0000at epoch: 0\n",
      "Epoch 224: 100%|██████████| 9/9 [00:15<00:00,  0.57it/s, v_num=7, train_loss=0.460, val_loss=0.374]"
     ]
    },
    {
     "name": "stderr",
     "output_type": "stream",
     "text": [
      "Epoch 224, global step 2025: 'val_loss' was not in top 1\n"
     ]
    },
    {
     "name": "stdout",
     "output_type": "stream",
     "text": [
      "Epoch 225: 100%|██████████| 9/9 [00:09<00:00,  1.00it/s, v_num=7, train_loss=0.375, val_loss=0.374]current epoch: 225 current mean dice: 0.3262\n",
      "best mean dice: 0.3262 at epoch: 225\n",
      "current mean loss: 0.0683best mean loss: 0.0000at epoch: 0\n",
      "Epoch 225: 100%|██████████| 9/9 [00:16<00:00,  0.56it/s, v_num=7, train_loss=0.375, val_loss=0.369]"
     ]
    },
    {
     "name": "stderr",
     "output_type": "stream",
     "text": [
      "Epoch 225, global step 2034: 'val_loss' reached 0.36931 (best 0.36931), saving model to '/home/pawel/Documents/RISA/3D_segmentation/logger/checkpoints/epoch_225-0.36931.ckpt' as top 1\n"
     ]
    },
    {
     "name": "stdout",
     "output_type": "stream",
     "text": [
      "Epoch 226: 100%|██████████| 9/9 [00:08<00:00,  1.03it/s, v_num=7, train_loss=0.326, val_loss=0.369]current epoch: 226 current mean dice: 0.3141\n",
      "best mean dice: 0.3262 at epoch: 225\n",
      "current mean loss: 0.0697best mean loss: 0.0000at epoch: 0\n",
      "Epoch 226: 100%|██████████| 9/9 [00:15<00:00,  0.57it/s, v_num=7, train_loss=0.326, val_loss=0.376]"
     ]
    },
    {
     "name": "stderr",
     "output_type": "stream",
     "text": [
      "Epoch 226, global step 2043: 'val_loss' was not in top 1\n"
     ]
    },
    {
     "name": "stdout",
     "output_type": "stream",
     "text": [
      "Epoch 227: 100%|██████████| 9/9 [00:08<00:00,  1.02it/s, v_num=7, train_loss=0.343, val_loss=0.376]current epoch: 227 current mean dice: 0.3176\n",
      "best mean dice: 0.3262 at epoch: 225\n",
      "current mean loss: 0.0689best mean loss: 0.0000at epoch: 0\n",
      "Epoch 227: 100%|██████████| 9/9 [00:15<00:00,  0.57it/s, v_num=7, train_loss=0.343, val_loss=0.374]"
     ]
    },
    {
     "name": "stderr",
     "output_type": "stream",
     "text": [
      "Epoch 227, global step 2052: 'val_loss' was not in top 1\n"
     ]
    },
    {
     "name": "stdout",
     "output_type": "stream",
     "text": [
      "Epoch 228: 100%|██████████| 9/9 [00:08<00:00,  1.01it/s, v_num=7, train_loss=0.385, val_loss=0.374]current epoch: 228 current mean dice: 0.3180\n",
      "best mean dice: 0.3262 at epoch: 225\n",
      "current mean loss: 0.0688best mean loss: 0.0000at epoch: 0\n",
      "Epoch 228: 100%|██████████| 9/9 [00:15<00:00,  0.57it/s, v_num=7, train_loss=0.385, val_loss=0.374]"
     ]
    },
    {
     "name": "stderr",
     "output_type": "stream",
     "text": [
      "Epoch 228, global step 2061: 'val_loss' was not in top 1\n"
     ]
    },
    {
     "name": "stdout",
     "output_type": "stream",
     "text": [
      "Epoch 229: 100%|██████████| 9/9 [00:08<00:00,  1.01it/s, v_num=7, train_loss=0.392, val_loss=0.374]current epoch: 229 current mean dice: 0.3145\n",
      "best mean dice: 0.3262 at epoch: 225\n",
      "current mean loss: 0.0694best mean loss: 0.0000at epoch: 0\n",
      "Epoch 229: 100%|██████████| 9/9 [00:15<00:00,  0.57it/s, v_num=7, train_loss=0.392, val_loss=0.375]"
     ]
    },
    {
     "name": "stderr",
     "output_type": "stream",
     "text": [
      "Epoch 229, global step 2070: 'val_loss' was not in top 1\n"
     ]
    },
    {
     "name": "stdout",
     "output_type": "stream",
     "text": [
      "Epoch 230: 100%|██████████| 9/9 [00:08<00:00,  1.03it/s, v_num=7, train_loss=0.454, val_loss=0.375]current epoch: 230 current mean dice: 0.3025\n",
      "best mean dice: 0.3262 at epoch: 225\n",
      "current mean loss: 0.0704best mean loss: 0.0000at epoch: 0\n",
      "Epoch 230: 100%|██████████| 9/9 [00:15<00:00,  0.57it/s, v_num=7, train_loss=0.454, val_loss=0.380]"
     ]
    },
    {
     "name": "stderr",
     "output_type": "stream",
     "text": [
      "Epoch 230, global step 2079: 'val_loss' was not in top 1\n"
     ]
    },
    {
     "name": "stdout",
     "output_type": "stream",
     "text": [
      "Epoch 231: 100%|██████████| 9/9 [00:08<00:00,  1.03it/s, v_num=7, train_loss=0.358, val_loss=0.380]current epoch: 231 current mean dice: 0.3042\n",
      "best mean dice: 0.3262 at epoch: 225\n",
      "current mean loss: 0.0698best mean loss: 0.0000at epoch: 0\n",
      "Epoch 231: 100%|██████████| 9/9 [00:15<00:00,  0.58it/s, v_num=7, train_loss=0.358, val_loss=0.379]"
     ]
    },
    {
     "name": "stderr",
     "output_type": "stream",
     "text": [
      "Epoch 231, global step 2088: 'val_loss' was not in top 1\n"
     ]
    },
    {
     "name": "stdout",
     "output_type": "stream",
     "text": [
      "Epoch 232: 100%|██████████| 9/9 [00:08<00:00,  1.01it/s, v_num=7, train_loss=0.437, val_loss=0.379]current epoch: 232 current mean dice: 0.3154\n",
      "best mean dice: 0.3262 at epoch: 225\n",
      "current mean loss: 0.0691best mean loss: 0.0000at epoch: 0\n",
      "Epoch 232: 100%|██████████| 9/9 [00:15<00:00,  0.57it/s, v_num=7, train_loss=0.437, val_loss=0.376]"
     ]
    },
    {
     "name": "stderr",
     "output_type": "stream",
     "text": [
      "Epoch 232, global step 2097: 'val_loss' was not in top 1\n"
     ]
    },
    {
     "name": "stdout",
     "output_type": "stream",
     "text": [
      "Epoch 233: 100%|██████████| 9/9 [00:08<00:00,  1.00it/s, v_num=7, train_loss=0.405, val_loss=0.376]current epoch: 233 current mean dice: 0.3133\n",
      "best mean dice: 0.3262 at epoch: 225\n",
      "current mean loss: 0.0688best mean loss: 0.0000at epoch: 0\n",
      "Epoch 233: 100%|██████████| 9/9 [00:15<00:00,  0.57it/s, v_num=7, train_loss=0.405, val_loss=0.376]"
     ]
    },
    {
     "name": "stderr",
     "output_type": "stream",
     "text": [
      "Epoch 233, global step 2106: 'val_loss' was not in top 1\n"
     ]
    },
    {
     "name": "stdout",
     "output_type": "stream",
     "text": [
      "Epoch 234: 100%|██████████| 9/9 [00:09<00:00,  0.99it/s, v_num=7, train_loss=0.380, val_loss=0.376]current epoch: 234 current mean dice: 0.3154\n",
      "best mean dice: 0.3262 at epoch: 225\n",
      "current mean loss: 0.0697best mean loss: 0.0000at epoch: 0\n",
      "Epoch 234: 100%|██████████| 9/9 [00:16<00:00,  0.56it/s, v_num=7, train_loss=0.380, val_loss=0.379]"
     ]
    },
    {
     "name": "stderr",
     "output_type": "stream",
     "text": [
      "Epoch 234, global step 2115: 'val_loss' was not in top 1\n"
     ]
    },
    {
     "name": "stdout",
     "output_type": "stream",
     "text": [
      "Epoch 235: 100%|██████████| 9/9 [00:08<00:00,  1.00it/s, v_num=7, train_loss=0.342, val_loss=0.379]current epoch: 235 current mean dice: 0.3015\n",
      "best mean dice: 0.3262 at epoch: 225\n",
      "current mean loss: 0.0703best mean loss: 0.0000at epoch: 0\n",
      "Epoch 235: 100%|██████████| 9/9 [00:15<00:00,  0.56it/s, v_num=7, train_loss=0.342, val_loss=0.380]"
     ]
    },
    {
     "name": "stderr",
     "output_type": "stream",
     "text": [
      "Epoch 235, global step 2124: 'val_loss' was not in top 1\n"
     ]
    },
    {
     "name": "stdout",
     "output_type": "stream",
     "text": [
      "Epoch 236: 100%|██████████| 9/9 [00:08<00:00,  1.03it/s, v_num=7, train_loss=0.403, val_loss=0.380]current epoch: 236 current mean dice: 0.3119\n",
      "best mean dice: 0.3262 at epoch: 225\n",
      "current mean loss: 0.0696best mean loss: 0.0000at epoch: 0\n",
      "Epoch 236: 100%|██████████| 9/9 [00:15<00:00,  0.57it/s, v_num=7, train_loss=0.403, val_loss=0.375]"
     ]
    },
    {
     "name": "stderr",
     "output_type": "stream",
     "text": [
      "Epoch 236, global step 2133: 'val_loss' was not in top 1\n"
     ]
    },
    {
     "name": "stdout",
     "output_type": "stream",
     "text": [
      "Epoch 237: 100%|██████████| 9/9 [00:09<00:00,  0.99it/s, v_num=7, train_loss=0.345, val_loss=0.375]current epoch: 237 current mean dice: 0.3143\n",
      "best mean dice: 0.3262 at epoch: 225\n",
      "current mean loss: 0.0693best mean loss: 0.0000at epoch: 0\n",
      "Epoch 237: 100%|██████████| 9/9 [00:16<00:00,  0.56it/s, v_num=7, train_loss=0.345, val_loss=0.374]"
     ]
    },
    {
     "name": "stderr",
     "output_type": "stream",
     "text": [
      "Epoch 237, global step 2142: 'val_loss' was not in top 1\n"
     ]
    },
    {
     "name": "stdout",
     "output_type": "stream",
     "text": [
      "Epoch 238: 100%|██████████| 9/9 [00:08<00:00,  1.00it/s, v_num=7, train_loss=0.382, val_loss=0.374]current epoch: 238 current mean dice: 0.2986\n",
      "best mean dice: 0.3262 at epoch: 225\n",
      "current mean loss: 0.0703best mean loss: 0.0000at epoch: 0\n",
      "Epoch 238: 100%|██████████| 9/9 [00:15<00:00,  0.57it/s, v_num=7, train_loss=0.382, val_loss=0.382]"
     ]
    },
    {
     "name": "stderr",
     "output_type": "stream",
     "text": [
      "Epoch 238, global step 2151: 'val_loss' was not in top 1\n"
     ]
    },
    {
     "name": "stdout",
     "output_type": "stream",
     "text": [
      "Epoch 239: 100%|██████████| 9/9 [00:09<00:00,  0.98it/s, v_num=7, train_loss=0.352, val_loss=0.382]current epoch: 239 current mean dice: 0.3055\n",
      "best mean dice: 0.3262 at epoch: 225\n",
      "current mean loss: 0.0701best mean loss: 0.0000at epoch: 0\n",
      "Epoch 239: 100%|██████████| 9/9 [00:16<00:00,  0.56it/s, v_num=7, train_loss=0.352, val_loss=0.380]"
     ]
    },
    {
     "name": "stderr",
     "output_type": "stream",
     "text": [
      "Epoch 239, global step 2160: 'val_loss' was not in top 1\n"
     ]
    },
    {
     "name": "stdout",
     "output_type": "stream",
     "text": [
      "Epoch 240: 100%|██████████| 9/9 [00:08<00:00,  1.03it/s, v_num=7, train_loss=0.384, val_loss=0.380]current epoch: 240 current mean dice: 0.3184\n",
      "best mean dice: 0.3262 at epoch: 225\n",
      "current mean loss: 0.0689best mean loss: 0.0000at epoch: 0\n",
      "Epoch 240: 100%|██████████| 9/9 [00:15<00:00,  0.57it/s, v_num=7, train_loss=0.384, val_loss=0.374]"
     ]
    },
    {
     "name": "stderr",
     "output_type": "stream",
     "text": [
      "Epoch 240, global step 2169: 'val_loss' was not in top 1\n"
     ]
    },
    {
     "name": "stdout",
     "output_type": "stream",
     "text": [
      "Epoch 241: 100%|██████████| 9/9 [00:09<00:00,  0.98it/s, v_num=7, train_loss=0.443, val_loss=0.374]current epoch: 241 current mean dice: 0.3132\n",
      "best mean dice: 0.3262 at epoch: 225\n",
      "current mean loss: 0.0686best mean loss: 0.0000at epoch: 0\n",
      "Epoch 241: 100%|██████████| 9/9 [00:16<00:00,  0.56it/s, v_num=7, train_loss=0.443, val_loss=0.374]"
     ]
    },
    {
     "name": "stderr",
     "output_type": "stream",
     "text": [
      "Epoch 241, global step 2178: 'val_loss' was not in top 1\n"
     ]
    },
    {
     "name": "stdout",
     "output_type": "stream",
     "text": [
      "Epoch 242: 100%|██████████| 9/9 [00:08<00:00,  1.01it/s, v_num=7, train_loss=0.359, val_loss=0.374]current epoch: 242 current mean dice: 0.3070\n",
      "best mean dice: 0.3262 at epoch: 225\n",
      "current mean loss: 0.0696best mean loss: 0.0000at epoch: 0\n",
      "Epoch 242: 100%|██████████| 9/9 [00:15<00:00,  0.57it/s, v_num=7, train_loss=0.359, val_loss=0.376]"
     ]
    },
    {
     "name": "stderr",
     "output_type": "stream",
     "text": [
      "Epoch 242, global step 2187: 'val_loss' was not in top 1\n"
     ]
    },
    {
     "name": "stdout",
     "output_type": "stream",
     "text": [
      "Epoch 243: 100%|██████████| 9/9 [00:08<00:00,  1.02it/s, v_num=7, train_loss=0.360, val_loss=0.376]current epoch: 243 current mean dice: 0.3199\n",
      "best mean dice: 0.3262 at epoch: 225\n",
      "current mean loss: 0.0688best mean loss: 0.0000at epoch: 0\n",
      "Epoch 243: 100%|██████████| 9/9 [00:15<00:00,  0.57it/s, v_num=7, train_loss=0.360, val_loss=0.372]"
     ]
    },
    {
     "name": "stderr",
     "output_type": "stream",
     "text": [
      "Epoch 243, global step 2196: 'val_loss' was not in top 1\n"
     ]
    },
    {
     "name": "stdout",
     "output_type": "stream",
     "text": [
      "Epoch 244: 100%|██████████| 9/9 [00:08<00:00,  1.01it/s, v_num=7, train_loss=0.405, val_loss=0.372]current epoch: 244 current mean dice: 0.3094\n",
      "best mean dice: 0.3262 at epoch: 225\n",
      "current mean loss: 0.0697best mean loss: 0.0000at epoch: 0\n",
      "Epoch 244: 100%|██████████| 9/9 [00:15<00:00,  0.57it/s, v_num=7, train_loss=0.405, val_loss=0.377]"
     ]
    },
    {
     "name": "stderr",
     "output_type": "stream",
     "text": [
      "Epoch 244, global step 2205: 'val_loss' was not in top 1\n"
     ]
    },
    {
     "name": "stdout",
     "output_type": "stream",
     "text": [
      "Epoch 245: 100%|██████████| 9/9 [00:08<00:00,  1.01it/s, v_num=7, train_loss=0.364, val_loss=0.377]current epoch: 245 current mean dice: 0.3074\n",
      "best mean dice: 0.3262 at epoch: 225\n",
      "current mean loss: 0.0699best mean loss: 0.0000at epoch: 0\n",
      "Epoch 245: 100%|██████████| 9/9 [00:15<00:00,  0.57it/s, v_num=7, train_loss=0.364, val_loss=0.378]"
     ]
    },
    {
     "name": "stderr",
     "output_type": "stream",
     "text": [
      "Epoch 245, global step 2214: 'val_loss' was not in top 1\n"
     ]
    },
    {
     "name": "stdout",
     "output_type": "stream",
     "text": [
      "Epoch 246: 100%|██████████| 9/9 [00:08<00:00,  1.01it/s, v_num=7, train_loss=0.399, val_loss=0.378]current epoch: 246 current mean dice: 0.3223\n",
      "best mean dice: 0.3262 at epoch: 225\n",
      "current mean loss: 0.0679best mean loss: 0.0000at epoch: 0\n",
      "Epoch 246: 100%|██████████| 9/9 [00:15<00:00,  0.57it/s, v_num=7, train_loss=0.399, val_loss=0.370]"
     ]
    },
    {
     "name": "stderr",
     "output_type": "stream",
     "text": [
      "Epoch 246, global step 2223: 'val_loss' was not in top 1\n"
     ]
    },
    {
     "name": "stdout",
     "output_type": "stream",
     "text": [
      "Epoch 247: 100%|██████████| 9/9 [00:08<00:00,  1.01it/s, v_num=7, train_loss=0.402, val_loss=0.370]current epoch: 247 current mean dice: 0.3211\n",
      "best mean dice: 0.3262 at epoch: 225\n",
      "current mean loss: 0.0687best mean loss: 0.0000at epoch: 0\n",
      "Epoch 247: 100%|██████████| 9/9 [00:15<00:00,  0.57it/s, v_num=7, train_loss=0.402, val_loss=0.371]"
     ]
    },
    {
     "name": "stderr",
     "output_type": "stream",
     "text": [
      "Epoch 247, global step 2232: 'val_loss' was not in top 1\n"
     ]
    },
    {
     "name": "stdout",
     "output_type": "stream",
     "text": [
      "Epoch 248: 100%|██████████| 9/9 [00:08<00:00,  1.03it/s, v_num=7, train_loss=0.412, val_loss=0.371]current epoch: 248 current mean dice: 0.3090\n",
      "best mean dice: 0.3262 at epoch: 225\n",
      "current mean loss: 0.0697best mean loss: 0.0000at epoch: 0\n",
      "Epoch 248: 100%|██████████| 9/9 [00:15<00:00,  0.57it/s, v_num=7, train_loss=0.412, val_loss=0.376]"
     ]
    },
    {
     "name": "stderr",
     "output_type": "stream",
     "text": [
      "Epoch 248, global step 2241: 'val_loss' was not in top 1\n"
     ]
    },
    {
     "name": "stdout",
     "output_type": "stream",
     "text": [
      "Epoch 249: 100%|██████████| 9/9 [00:08<00:00,  1.03it/s, v_num=7, train_loss=0.337, val_loss=0.376]current epoch: 249 current mean dice: 0.3084\n",
      "best mean dice: 0.3262 at epoch: 225\n",
      "current mean loss: 0.0690best mean loss: 0.0000at epoch: 0\n",
      "Epoch 249: 100%|██████████| 9/9 [00:15<00:00,  0.58it/s, v_num=7, train_loss=0.337, val_loss=0.377]"
     ]
    },
    {
     "name": "stderr",
     "output_type": "stream",
     "text": [
      "Epoch 249, global step 2250: 'val_loss' was not in top 1\n"
     ]
    },
    {
     "name": "stdout",
     "output_type": "stream",
     "text": [
      "Epoch 250: 100%|██████████| 9/9 [00:09<00:00,  1.00it/s, v_num=7, train_loss=0.412, val_loss=0.377]current epoch: 250 current mean dice: 0.3044\n",
      "best mean dice: 0.3262 at epoch: 225\n",
      "current mean loss: 0.0699best mean loss: 0.0000at epoch: 0\n",
      "Epoch 250: 100%|██████████| 9/9 [00:16<00:00,  0.56it/s, v_num=7, train_loss=0.412, val_loss=0.378]"
     ]
    },
    {
     "name": "stderr",
     "output_type": "stream",
     "text": [
      "Epoch 250, global step 2259: 'val_loss' was not in top 1\n"
     ]
    },
    {
     "name": "stdout",
     "output_type": "stream",
     "text": [
      "Epoch 251: 100%|██████████| 9/9 [00:08<00:00,  1.03it/s, v_num=7, train_loss=0.294, val_loss=0.378]current epoch: 251 current mean dice: 0.3214\n",
      "best mean dice: 0.3262 at epoch: 225\n",
      "current mean loss: 0.0685best mean loss: 0.0000at epoch: 0\n",
      "Epoch 251: 100%|██████████| 9/9 [00:15<00:00,  0.57it/s, v_num=7, train_loss=0.294, val_loss=0.371]"
     ]
    },
    {
     "name": "stderr",
     "output_type": "stream",
     "text": [
      "Epoch 251, global step 2268: 'val_loss' was not in top 1\n"
     ]
    },
    {
     "name": "stdout",
     "output_type": "stream",
     "text": [
      "Epoch 252: 100%|██████████| 9/9 [00:08<00:00,  1.01it/s, v_num=7, train_loss=0.354, val_loss=0.371]current epoch: 252 current mean dice: 0.3306\n",
      "best mean dice: 0.3306 at epoch: 252\n",
      "current mean loss: 0.0673best mean loss: 0.0000at epoch: 0\n",
      "Epoch 252: 100%|██████████| 9/9 [00:15<00:00,  0.57it/s, v_num=7, train_loss=0.354, val_loss=0.366]"
     ]
    },
    {
     "name": "stderr",
     "output_type": "stream",
     "text": [
      "Epoch 252, global step 2277: 'val_loss' reached 0.36616 (best 0.36616), saving model to '/home/pawel/Documents/RISA/3D_segmentation/logger/checkpoints/epoch_252-0.36616.ckpt' as top 1\n"
     ]
    },
    {
     "name": "stdout",
     "output_type": "stream",
     "text": [
      "Epoch 253: 100%|██████████| 9/9 [00:09<00:00,  0.99it/s, v_num=7, train_loss=0.300, val_loss=0.366]current epoch: 253 current mean dice: 0.3209\n",
      "best mean dice: 0.3306 at epoch: 252\n",
      "current mean loss: 0.0682best mean loss: 0.0000at epoch: 0\n",
      "Epoch 253: 100%|██████████| 9/9 [00:16<00:00,  0.56it/s, v_num=7, train_loss=0.300, val_loss=0.371]"
     ]
    },
    {
     "name": "stderr",
     "output_type": "stream",
     "text": [
      "Epoch 253, global step 2286: 'val_loss' was not in top 1\n"
     ]
    },
    {
     "name": "stdout",
     "output_type": "stream",
     "text": [
      "Epoch 254: 100%|██████████| 9/9 [00:08<00:00,  1.02it/s, v_num=7, train_loss=0.359, val_loss=0.371]current epoch: 254 current mean dice: 0.3230\n",
      "best mean dice: 0.3306 at epoch: 252\n",
      "current mean loss: 0.0679best mean loss: 0.0000at epoch: 0\n",
      "Epoch 254: 100%|██████████| 9/9 [00:15<00:00,  0.57it/s, v_num=7, train_loss=0.359, val_loss=0.370]"
     ]
    },
    {
     "name": "stderr",
     "output_type": "stream",
     "text": [
      "Epoch 254, global step 2295: 'val_loss' was not in top 1\n"
     ]
    },
    {
     "name": "stdout",
     "output_type": "stream",
     "text": [
      "Epoch 255: 100%|██████████| 9/9 [00:08<00:00,  1.03it/s, v_num=7, train_loss=0.425, val_loss=0.370]current epoch: 255 current mean dice: 0.3243\n",
      "best mean dice: 0.3306 at epoch: 252\n",
      "current mean loss: 0.0684best mean loss: 0.0000at epoch: 0\n",
      "Epoch 255: 100%|██████████| 9/9 [00:15<00:00,  0.57it/s, v_num=7, train_loss=0.425, val_loss=0.370]"
     ]
    },
    {
     "name": "stderr",
     "output_type": "stream",
     "text": [
      "Epoch 255, global step 2304: 'val_loss' was not in top 1\n"
     ]
    },
    {
     "name": "stdout",
     "output_type": "stream",
     "text": [
      "Epoch 256: 100%|██████████| 9/9 [00:08<00:00,  1.03it/s, v_num=7, train_loss=0.389, val_loss=0.370]current epoch: 256 current mean dice: 0.3264\n",
      "best mean dice: 0.3306 at epoch: 252\n",
      "current mean loss: 0.0678best mean loss: 0.0000at epoch: 0\n",
      "Epoch 256: 100%|██████████| 9/9 [00:15<00:00,  0.57it/s, v_num=7, train_loss=0.389, val_loss=0.368]"
     ]
    },
    {
     "name": "stderr",
     "output_type": "stream",
     "text": [
      "Epoch 256, global step 2313: 'val_loss' was not in top 1\n"
     ]
    },
    {
     "name": "stdout",
     "output_type": "stream",
     "text": [
      "Epoch 257: 100%|██████████| 9/9 [00:09<00:00,  0.99it/s, v_num=7, train_loss=0.379, val_loss=0.368]current epoch: 257 current mean dice: 0.3223\n",
      "best mean dice: 0.3306 at epoch: 252\n",
      "current mean loss: 0.0684best mean loss: 0.0000at epoch: 0\n",
      "Epoch 257: 100%|██████████| 9/9 [00:16<00:00,  0.56it/s, v_num=7, train_loss=0.379, val_loss=0.371]"
     ]
    },
    {
     "name": "stderr",
     "output_type": "stream",
     "text": [
      "Epoch 257, global step 2322: 'val_loss' was not in top 1\n"
     ]
    },
    {
     "name": "stdout",
     "output_type": "stream",
     "text": [
      "Epoch 258: 100%|██████████| 9/9 [00:08<00:00,  1.03it/s, v_num=7, train_loss=0.349, val_loss=0.371]current epoch: 258 current mean dice: 0.3217\n",
      "best mean dice: 0.3306 at epoch: 252\n",
      "current mean loss: 0.0689best mean loss: 0.0000at epoch: 0\n",
      "Epoch 258: 100%|██████████| 9/9 [00:15<00:00,  0.57it/s, v_num=7, train_loss=0.349, val_loss=0.371]"
     ]
    },
    {
     "name": "stderr",
     "output_type": "stream",
     "text": [
      "Epoch 258, global step 2331: 'val_loss' was not in top 1\n"
     ]
    },
    {
     "name": "stdout",
     "output_type": "stream",
     "text": [
      "Epoch 259: 100%|██████████| 9/9 [00:08<00:00,  1.01it/s, v_num=7, train_loss=0.337, val_loss=0.371]current epoch: 259 current mean dice: 0.3247\n",
      "best mean dice: 0.3306 at epoch: 252\n",
      "current mean loss: 0.0686best mean loss: 0.0000at epoch: 0\n",
      "Epoch 259: 100%|██████████| 9/9 [00:15<00:00,  0.57it/s, v_num=7, train_loss=0.337, val_loss=0.371]"
     ]
    },
    {
     "name": "stderr",
     "output_type": "stream",
     "text": [
      "Epoch 259, global step 2340: 'val_loss' was not in top 1\n"
     ]
    },
    {
     "name": "stdout",
     "output_type": "stream",
     "text": [
      "Epoch 260: 100%|██████████| 9/9 [00:09<00:00,  1.00it/s, v_num=7, train_loss=0.305, val_loss=0.371]current epoch: 260 current mean dice: 0.3170\n",
      "best mean dice: 0.3306 at epoch: 252\n",
      "current mean loss: 0.0690best mean loss: 0.0000at epoch: 0\n",
      "Epoch 260: 100%|██████████| 9/9 [00:16<00:00,  0.56it/s, v_num=7, train_loss=0.305, val_loss=0.373]"
     ]
    },
    {
     "name": "stderr",
     "output_type": "stream",
     "text": [
      "Epoch 260, global step 2349: 'val_loss' was not in top 1\n"
     ]
    },
    {
     "name": "stdout",
     "output_type": "stream",
     "text": [
      "Epoch 261: 100%|██████████| 9/9 [00:08<00:00,  1.02it/s, v_num=7, train_loss=0.321, val_loss=0.373]current epoch: 261 current mean dice: 0.3149\n",
      "best mean dice: 0.3306 at epoch: 252\n",
      "current mean loss: 0.0687best mean loss: 0.0000at epoch: 0\n",
      "Epoch 261: 100%|██████████| 9/9 [00:15<00:00,  0.57it/s, v_num=7, train_loss=0.321, val_loss=0.373]"
     ]
    },
    {
     "name": "stderr",
     "output_type": "stream",
     "text": [
      "Epoch 261, global step 2358: 'val_loss' was not in top 1\n"
     ]
    },
    {
     "name": "stdout",
     "output_type": "stream",
     "text": [
      "Epoch 262: 100%|██████████| 9/9 [00:08<00:00,  1.01it/s, v_num=7, train_loss=0.295, val_loss=0.373]current epoch: 262 current mean dice: 0.3250\n",
      "best mean dice: 0.3306 at epoch: 252\n",
      "current mean loss: 0.0680best mean loss: 0.0000at epoch: 0\n",
      "Epoch 262: 100%|██████████| 9/9 [00:15<00:00,  0.57it/s, v_num=7, train_loss=0.295, val_loss=0.369]"
     ]
    },
    {
     "name": "stderr",
     "output_type": "stream",
     "text": [
      "Epoch 262, global step 2367: 'val_loss' was not in top 1\n"
     ]
    },
    {
     "name": "stdout",
     "output_type": "stream",
     "text": [
      "Epoch 263: 100%|██████████| 9/9 [00:09<00:00,  1.00it/s, v_num=7, train_loss=0.323, val_loss=0.369]current epoch: 263 current mean dice: 0.3355\n",
      "best mean dice: 0.3355 at epoch: 263\n",
      "current mean loss: 0.0673best mean loss: 0.0000at epoch: 0\n",
      "Epoch 263: 100%|██████████| 9/9 [00:16<00:00,  0.56it/s, v_num=7, train_loss=0.323, val_loss=0.365]"
     ]
    },
    {
     "name": "stderr",
     "output_type": "stream",
     "text": [
      "Epoch 263, global step 2376: 'val_loss' reached 0.36518 (best 0.36518), saving model to '/home/pawel/Documents/RISA/3D_segmentation/logger/checkpoints/epoch_263-0.36518.ckpt' as top 1\n"
     ]
    },
    {
     "name": "stdout",
     "output_type": "stream",
     "text": [
      "Epoch 264: 100%|██████████| 9/9 [00:08<00:00,  1.01it/s, v_num=7, train_loss=0.327, val_loss=0.365]current epoch: 264 current mean dice: 0.3135\n",
      "best mean dice: 0.3355 at epoch: 263\n",
      "current mean loss: 0.0692best mean loss: 0.0000at epoch: 0\n",
      "Epoch 264: 100%|██████████| 9/9 [00:15<00:00,  0.57it/s, v_num=7, train_loss=0.327, val_loss=0.375]"
     ]
    },
    {
     "name": "stderr",
     "output_type": "stream",
     "text": [
      "Epoch 264, global step 2385: 'val_loss' was not in top 1\n"
     ]
    },
    {
     "name": "stdout",
     "output_type": "stream",
     "text": [
      "Epoch 265: 100%|██████████| 9/9 [00:09<00:00,  0.99it/s, v_num=7, train_loss=0.391, val_loss=0.375]current epoch: 265 current mean dice: 0.3219\n",
      "best mean dice: 0.3355 at epoch: 263\n",
      "current mean loss: 0.0684best mean loss: 0.0000at epoch: 0\n",
      "Epoch 265: 100%|██████████| 9/9 [00:16<00:00,  0.56it/s, v_num=7, train_loss=0.391, val_loss=0.372]"
     ]
    },
    {
     "name": "stderr",
     "output_type": "stream",
     "text": [
      "Epoch 265, global step 2394: 'val_loss' was not in top 1\n"
     ]
    },
    {
     "name": "stdout",
     "output_type": "stream",
     "text": [
      "Epoch 266: 100%|██████████| 9/9 [00:08<00:00,  1.01it/s, v_num=7, train_loss=0.332, val_loss=0.372]current epoch: 266 current mean dice: 0.3293\n",
      "best mean dice: 0.3355 at epoch: 263\n",
      "current mean loss: 0.0678best mean loss: 0.0000at epoch: 0\n",
      "Epoch 266: 100%|██████████| 9/9 [00:15<00:00,  0.57it/s, v_num=7, train_loss=0.332, val_loss=0.369]"
     ]
    },
    {
     "name": "stderr",
     "output_type": "stream",
     "text": [
      "Epoch 266, global step 2403: 'val_loss' was not in top 1\n"
     ]
    },
    {
     "name": "stdout",
     "output_type": "stream",
     "text": [
      "Epoch 267: 100%|██████████| 9/9 [00:08<00:00,  1.04it/s, v_num=7, train_loss=0.410, val_loss=0.369]current epoch: 267 current mean dice: 0.3074\n",
      "best mean dice: 0.3355 at epoch: 263\n",
      "current mean loss: 0.0694best mean loss: 0.0000at epoch: 0\n",
      "Epoch 267: 100%|██████████| 9/9 [00:15<00:00,  0.58it/s, v_num=7, train_loss=0.410, val_loss=0.376]"
     ]
    },
    {
     "name": "stderr",
     "output_type": "stream",
     "text": [
      "Epoch 267, global step 2412: 'val_loss' was not in top 1\n"
     ]
    },
    {
     "name": "stdout",
     "output_type": "stream",
     "text": [
      "Epoch 268: 100%|██████████| 9/9 [00:09<00:00,  1.00it/s, v_num=7, train_loss=0.377, val_loss=0.376]current epoch: 268 current mean dice: 0.3179\n",
      "best mean dice: 0.3355 at epoch: 263\n",
      "current mean loss: 0.0691best mean loss: 0.0000at epoch: 0\n",
      "Epoch 268: 100%|██████████| 9/9 [00:15<00:00,  0.56it/s, v_num=7, train_loss=0.377, val_loss=0.372]"
     ]
    },
    {
     "name": "stderr",
     "output_type": "stream",
     "text": [
      "Epoch 268, global step 2421: 'val_loss' was not in top 1\n"
     ]
    },
    {
     "name": "stdout",
     "output_type": "stream",
     "text": [
      "Epoch 269: 100%|██████████| 9/9 [00:08<00:00,  1.01it/s, v_num=7, train_loss=0.365, val_loss=0.372]current epoch: 269 current mean dice: 0.3273\n",
      "best mean dice: 0.3355 at epoch: 263\n",
      "current mean loss: 0.0680best mean loss: 0.0000at epoch: 0\n",
      "Epoch 269: 100%|██████████| 9/9 [00:15<00:00,  0.57it/s, v_num=7, train_loss=0.365, val_loss=0.368]"
     ]
    },
    {
     "name": "stderr",
     "output_type": "stream",
     "text": [
      "Epoch 269, global step 2430: 'val_loss' was not in top 1\n"
     ]
    },
    {
     "name": "stdout",
     "output_type": "stream",
     "text": [
      "Epoch 270: 100%|██████████| 9/9 [00:08<00:00,  1.00it/s, v_num=7, train_loss=0.444, val_loss=0.368]current epoch: 270 current mean dice: 0.3213\n",
      "best mean dice: 0.3355 at epoch: 263\n",
      "current mean loss: 0.0687best mean loss: 0.0000at epoch: 0\n",
      "Epoch 270: 100%|██████████| 9/9 [00:15<00:00,  0.57it/s, v_num=7, train_loss=0.444, val_loss=0.370]"
     ]
    },
    {
     "name": "stderr",
     "output_type": "stream",
     "text": [
      "Epoch 270, global step 2439: 'val_loss' was not in top 1\n"
     ]
    },
    {
     "name": "stdout",
     "output_type": "stream",
     "text": [
      "Epoch 271: 100%|██████████| 9/9 [00:08<00:00,  1.00it/s, v_num=7, train_loss=0.349, val_loss=0.370]current epoch: 271 current mean dice: 0.3309\n",
      "best mean dice: 0.3355 at epoch: 263\n",
      "current mean loss: 0.0677best mean loss: 0.0000at epoch: 0\n",
      "Epoch 271: 100%|██████████| 9/9 [00:15<00:00,  0.56it/s, v_num=7, train_loss=0.349, val_loss=0.367]"
     ]
    },
    {
     "name": "stderr",
     "output_type": "stream",
     "text": [
      "Epoch 271, global step 2448: 'val_loss' was not in top 1\n"
     ]
    },
    {
     "name": "stdout",
     "output_type": "stream",
     "text": [
      "Epoch 272: 100%|██████████| 9/9 [00:09<00:00,  0.99it/s, v_num=7, train_loss=0.294, val_loss=0.367]current epoch: 272 current mean dice: 0.3224\n",
      "best mean dice: 0.3355 at epoch: 263\n",
      "current mean loss: 0.0682best mean loss: 0.0000at epoch: 0\n",
      "Epoch 272: 100%|██████████| 9/9 [00:16<00:00,  0.56it/s, v_num=7, train_loss=0.294, val_loss=0.370]"
     ]
    },
    {
     "name": "stderr",
     "output_type": "stream",
     "text": [
      "Epoch 272, global step 2457: 'val_loss' was not in top 1\n"
     ]
    },
    {
     "name": "stdout",
     "output_type": "stream",
     "text": [
      "Epoch 273: 100%|██████████| 9/9 [00:08<00:00,  1.01it/s, v_num=7, train_loss=0.311, val_loss=0.370]current epoch: 273 current mean dice: 0.3365\n",
      "best mean dice: 0.3365 at epoch: 273\n",
      "current mean loss: 0.0671best mean loss: 0.0000at epoch: 0\n",
      "Epoch 273: 100%|██████████| 9/9 [00:15<00:00,  0.57it/s, v_num=7, train_loss=0.311, val_loss=0.365]"
     ]
    },
    {
     "name": "stderr",
     "output_type": "stream",
     "text": [
      "Epoch 273, global step 2466: 'val_loss' reached 0.36506 (best 0.36506), saving model to '/home/pawel/Documents/RISA/3D_segmentation/logger/checkpoints/epoch_273-0.36506.ckpt' as top 1\n"
     ]
    },
    {
     "name": "stdout",
     "output_type": "stream",
     "text": [
      "Epoch 274: 100%|██████████| 9/9 [00:09<00:00,  1.00it/s, v_num=7, train_loss=0.447, val_loss=0.365]current epoch: 274 current mean dice: 0.3208\n",
      "best mean dice: 0.3365 at epoch: 273\n",
      "current mean loss: 0.0690best mean loss: 0.0000at epoch: 0\n",
      "Epoch 274: 100%|██████████| 9/9 [00:15<00:00,  0.56it/s, v_num=7, train_loss=0.447, val_loss=0.371]"
     ]
    },
    {
     "name": "stderr",
     "output_type": "stream",
     "text": [
      "Epoch 274, global step 2475: 'val_loss' was not in top 1\n"
     ]
    },
    {
     "name": "stdout",
     "output_type": "stream",
     "text": [
      "Epoch 275: 100%|██████████| 9/9 [00:08<00:00,  1.01it/s, v_num=7, train_loss=0.319, val_loss=0.371]current epoch: 275 current mean dice: 0.3070\n",
      "best mean dice: 0.3365 at epoch: 273\n",
      "current mean loss: 0.0695best mean loss: 0.0000at epoch: 0\n",
      "Epoch 275: 100%|██████████| 9/9 [00:15<00:00,  0.57it/s, v_num=7, train_loss=0.319, val_loss=0.378]"
     ]
    },
    {
     "name": "stderr",
     "output_type": "stream",
     "text": [
      "Epoch 275, global step 2484: 'val_loss' was not in top 1\n"
     ]
    },
    {
     "name": "stdout",
     "output_type": "stream",
     "text": [
      "Epoch 276: 100%|██████████| 9/9 [00:08<00:00,  1.01it/s, v_num=7, train_loss=0.303, val_loss=0.378]current epoch: 276 current mean dice: 0.3222\n",
      "best mean dice: 0.3365 at epoch: 273\n",
      "current mean loss: 0.0686best mean loss: 0.0000at epoch: 0\n",
      "Epoch 276: 100%|██████████| 9/9 [00:15<00:00,  0.57it/s, v_num=7, train_loss=0.303, val_loss=0.371]"
     ]
    },
    {
     "name": "stderr",
     "output_type": "stream",
     "text": [
      "Epoch 276, global step 2493: 'val_loss' was not in top 1\n"
     ]
    },
    {
     "name": "stdout",
     "output_type": "stream",
     "text": [
      "Epoch 277: 100%|██████████| 9/9 [00:09<00:00,  1.00it/s, v_num=7, train_loss=0.410, val_loss=0.371]current epoch: 277 current mean dice: 0.3417\n",
      "best mean dice: 0.3417 at epoch: 277\n",
      "current mean loss: 0.0661best mean loss: 0.0000at epoch: 0\n",
      "Epoch 277: 100%|██████████| 9/9 [00:16<00:00,  0.56it/s, v_num=7, train_loss=0.410, val_loss=0.362]"
     ]
    },
    {
     "name": "stderr",
     "output_type": "stream",
     "text": [
      "Epoch 277, global step 2502: 'val_loss' reached 0.36233 (best 0.36233), saving model to '/home/pawel/Documents/RISA/3D_segmentation/logger/checkpoints/epoch_277-0.36233.ckpt' as top 1\n"
     ]
    },
    {
     "name": "stdout",
     "output_type": "stream",
     "text": [
      "Epoch 278: 100%|██████████| 9/9 [00:09<00:00,  0.99it/s, v_num=7, train_loss=0.377, val_loss=0.362]current epoch: 278 current mean dice: 0.3301\n",
      "best mean dice: 0.3417 at epoch: 277\n",
      "current mean loss: 0.0677best mean loss: 0.0000at epoch: 0\n",
      "Epoch 278: 100%|██████████| 9/9 [00:15<00:00,  0.56it/s, v_num=7, train_loss=0.377, val_loss=0.367]"
     ]
    },
    {
     "name": "stderr",
     "output_type": "stream",
     "text": [
      "Epoch 278, global step 2511: 'val_loss' was not in top 1\n"
     ]
    },
    {
     "name": "stdout",
     "output_type": "stream",
     "text": [
      "Epoch 279: 100%|██████████| 9/9 [00:09<00:00,  1.00it/s, v_num=7, train_loss=0.392, val_loss=0.367]current epoch: 279 current mean dice: 0.3253\n",
      "best mean dice: 0.3417 at epoch: 277\n",
      "current mean loss: 0.0680best mean loss: 0.0000at epoch: 0\n",
      "Epoch 279: 100%|██████████| 9/9 [00:16<00:00,  0.56it/s, v_num=7, train_loss=0.392, val_loss=0.369]"
     ]
    },
    {
     "name": "stderr",
     "output_type": "stream",
     "text": [
      "Epoch 279, global step 2520: 'val_loss' was not in top 1\n"
     ]
    },
    {
     "name": "stdout",
     "output_type": "stream",
     "text": [
      "Epoch 280: 100%|██████████| 9/9 [00:08<00:00,  1.02it/s, v_num=7, train_loss=0.353, val_loss=0.369]current epoch: 280 current mean dice: 0.3187\n",
      "best mean dice: 0.3417 at epoch: 277\n",
      "current mean loss: 0.0688best mean loss: 0.0000at epoch: 0\n",
      "Epoch 280: 100%|██████████| 9/9 [00:15<00:00,  0.57it/s, v_num=7, train_loss=0.353, val_loss=0.371]"
     ]
    },
    {
     "name": "stderr",
     "output_type": "stream",
     "text": [
      "Epoch 280, global step 2529: 'val_loss' was not in top 1\n"
     ]
    },
    {
     "name": "stdout",
     "output_type": "stream",
     "text": [
      "Epoch 281: 100%|██████████| 9/9 [00:08<00:00,  1.00it/s, v_num=7, train_loss=0.405, val_loss=0.371]current epoch: 281 current mean dice: 0.3322\n",
      "best mean dice: 0.3417 at epoch: 277\n",
      "current mean loss: 0.0679best mean loss: 0.0000at epoch: 0\n",
      "Epoch 281: 100%|██████████| 9/9 [00:15<00:00,  0.57it/s, v_num=7, train_loss=0.405, val_loss=0.366]"
     ]
    },
    {
     "name": "stderr",
     "output_type": "stream",
     "text": [
      "Epoch 281, global step 2538: 'val_loss' was not in top 1\n"
     ]
    },
    {
     "name": "stdout",
     "output_type": "stream",
     "text": [
      "Epoch 282: 100%|██████████| 9/9 [00:08<00:00,  1.01it/s, v_num=7, train_loss=0.416, val_loss=0.366]current epoch: 282 current mean dice: 0.3173\n",
      "best mean dice: 0.3417 at epoch: 277\n",
      "current mean loss: 0.0683best mean loss: 0.0000at epoch: 0\n",
      "Epoch 282: 100%|██████████| 9/9 [00:15<00:00,  0.57it/s, v_num=7, train_loss=0.416, val_loss=0.372]"
     ]
    },
    {
     "name": "stderr",
     "output_type": "stream",
     "text": [
      "Epoch 282, global step 2547: 'val_loss' was not in top 1\n"
     ]
    },
    {
     "name": "stdout",
     "output_type": "stream",
     "text": [
      "Epoch 283: 100%|██████████| 9/9 [00:08<00:00,  1.01it/s, v_num=7, train_loss=0.408, val_loss=0.372]current epoch: 283 current mean dice: 0.3198\n",
      "best mean dice: 0.3417 at epoch: 277\n",
      "current mean loss: 0.0691best mean loss: 0.0000at epoch: 0\n",
      "Epoch 283: 100%|██████████| 9/9 [00:15<00:00,  0.57it/s, v_num=7, train_loss=0.408, val_loss=0.371]"
     ]
    },
    {
     "name": "stderr",
     "output_type": "stream",
     "text": [
      "Epoch 283, global step 2556: 'val_loss' was not in top 1\n"
     ]
    },
    {
     "name": "stdout",
     "output_type": "stream",
     "text": [
      "Epoch 284: 100%|██████████| 9/9 [00:08<00:00,  1.00it/s, v_num=7, train_loss=0.367, val_loss=0.371]current epoch: 284 current mean dice: 0.3376\n",
      "best mean dice: 0.3417 at epoch: 277\n",
      "current mean loss: 0.0666best mean loss: 0.0000at epoch: 0\n",
      "Epoch 284: 100%|██████████| 9/9 [00:15<00:00,  0.57it/s, v_num=7, train_loss=0.367, val_loss=0.363]"
     ]
    },
    {
     "name": "stderr",
     "output_type": "stream",
     "text": [
      "Epoch 284, global step 2565: 'val_loss' was not in top 1\n"
     ]
    },
    {
     "name": "stdout",
     "output_type": "stream",
     "text": [
      "Epoch 285: 100%|██████████| 9/9 [00:08<00:00,  1.02it/s, v_num=7, train_loss=0.316, val_loss=0.363]current epoch: 285 current mean dice: 0.3336\n",
      "best mean dice: 0.3417 at epoch: 277\n",
      "current mean loss: 0.0678best mean loss: 0.0000at epoch: 0\n",
      "Epoch 285: 100%|██████████| 9/9 [00:15<00:00,  0.57it/s, v_num=7, train_loss=0.316, val_loss=0.365]"
     ]
    },
    {
     "name": "stderr",
     "output_type": "stream",
     "text": [
      "Epoch 285, global step 2574: 'val_loss' was not in top 1\n"
     ]
    },
    {
     "name": "stdout",
     "output_type": "stream",
     "text": [
      "Epoch 286: 100%|██████████| 9/9 [00:09<00:00,  1.00it/s, v_num=7, train_loss=0.323, val_loss=0.365]current epoch: 286 current mean dice: 0.3324\n",
      "best mean dice: 0.3417 at epoch: 277\n",
      "current mean loss: 0.0675best mean loss: 0.0000at epoch: 0\n",
      "Epoch 286: 100%|██████████| 9/9 [00:16<00:00,  0.56it/s, v_num=7, train_loss=0.323, val_loss=0.366]"
     ]
    },
    {
     "name": "stderr",
     "output_type": "stream",
     "text": [
      "Epoch 286, global step 2583: 'val_loss' was not in top 1\n"
     ]
    },
    {
     "name": "stdout",
     "output_type": "stream",
     "text": [
      "Epoch 287: 100%|██████████| 9/9 [00:08<00:00,  1.01it/s, v_num=7, train_loss=0.413, val_loss=0.366]current epoch: 287 current mean dice: 0.3399\n",
      "best mean dice: 0.3417 at epoch: 277\n",
      "current mean loss: 0.0668best mean loss: 0.0000at epoch: 0\n",
      "Epoch 287: 100%|██████████| 9/9 [00:15<00:00,  0.57it/s, v_num=7, train_loss=0.413, val_loss=0.362]"
     ]
    },
    {
     "name": "stderr",
     "output_type": "stream",
     "text": [
      "Epoch 287, global step 2592: 'val_loss' reached 0.36156 (best 0.36156), saving model to '/home/pawel/Documents/RISA/3D_segmentation/logger/checkpoints/epoch_287-0.36156.ckpt' as top 1\n"
     ]
    },
    {
     "name": "stdout",
     "output_type": "stream",
     "text": [
      "Epoch 288: 100%|██████████| 9/9 [00:08<00:00,  1.01it/s, v_num=7, train_loss=0.343, val_loss=0.362]current epoch: 288 current mean dice: 0.3307\n",
      "best mean dice: 0.3417 at epoch: 277\n",
      "current mean loss: 0.0677best mean loss: 0.0000at epoch: 0\n",
      "Epoch 288: 100%|██████████| 9/9 [00:15<00:00,  0.57it/s, v_num=7, train_loss=0.343, val_loss=0.367]"
     ]
    },
    {
     "name": "stderr",
     "output_type": "stream",
     "text": [
      "Epoch 288, global step 2601: 'val_loss' was not in top 1\n"
     ]
    },
    {
     "name": "stdout",
     "output_type": "stream",
     "text": [
      "Epoch 289: 100%|██████████| 9/9 [00:08<00:00,  1.02it/s, v_num=7, train_loss=0.435, val_loss=0.367]current epoch: 289 current mean dice: 0.3226\n",
      "best mean dice: 0.3417 at epoch: 277\n",
      "current mean loss: 0.0682best mean loss: 0.0000at epoch: 0\n",
      "Epoch 289: 100%|██████████| 9/9 [00:15<00:00,  0.57it/s, v_num=7, train_loss=0.435, val_loss=0.369]"
     ]
    },
    {
     "name": "stderr",
     "output_type": "stream",
     "text": [
      "Epoch 289, global step 2610: 'val_loss' was not in top 1\n"
     ]
    },
    {
     "name": "stdout",
     "output_type": "stream",
     "text": [
      "Epoch 290: 100%|██████████| 9/9 [00:08<00:00,  1.02it/s, v_num=7, train_loss=0.285, val_loss=0.369]current epoch: 290 current mean dice: 0.3088\n",
      "best mean dice: 0.3417 at epoch: 277\n",
      "current mean loss: 0.0694best mean loss: 0.0000at epoch: 0\n",
      "Epoch 290: 100%|██████████| 9/9 [00:15<00:00,  0.57it/s, v_num=7, train_loss=0.285, val_loss=0.375]"
     ]
    },
    {
     "name": "stderr",
     "output_type": "stream",
     "text": [
      "Epoch 290, global step 2619: 'val_loss' was not in top 1\n"
     ]
    },
    {
     "name": "stdout",
     "output_type": "stream",
     "text": [
      "Epoch 291: 100%|██████████| 9/9 [00:08<00:00,  1.01it/s, v_num=7, train_loss=0.406, val_loss=0.375]current epoch: 291 current mean dice: 0.3278\n",
      "best mean dice: 0.3417 at epoch: 277\n",
      "current mean loss: 0.0681best mean loss: 0.0000at epoch: 0\n",
      "Epoch 291: 100%|██████████| 9/9 [00:15<00:00,  0.56it/s, v_num=7, train_loss=0.406, val_loss=0.366]"
     ]
    },
    {
     "name": "stderr",
     "output_type": "stream",
     "text": [
      "Epoch 291, global step 2628: 'val_loss' was not in top 1\n"
     ]
    },
    {
     "name": "stdout",
     "output_type": "stream",
     "text": [
      "Epoch 292: 100%|██████████| 9/9 [00:08<00:00,  1.00it/s, v_num=7, train_loss=0.387, val_loss=0.366]current epoch: 292 current mean dice: 0.3334\n",
      "best mean dice: 0.3417 at epoch: 277\n",
      "current mean loss: 0.0675best mean loss: 0.0000at epoch: 0\n",
      "Epoch 292: 100%|██████████| 9/9 [00:15<00:00,  0.56it/s, v_num=7, train_loss=0.387, val_loss=0.364]"
     ]
    },
    {
     "name": "stderr",
     "output_type": "stream",
     "text": [
      "Epoch 292, global step 2637: 'val_loss' was not in top 1\n"
     ]
    },
    {
     "name": "stdout",
     "output_type": "stream",
     "text": [
      "Epoch 293: 100%|██████████| 9/9 [00:08<00:00,  1.03it/s, v_num=7, train_loss=0.344, val_loss=0.364]current epoch: 293 current mean dice: 0.3109\n",
      "best mean dice: 0.3417 at epoch: 277\n",
      "current mean loss: 0.0688best mean loss: 0.0000at epoch: 0\n",
      "Epoch 293: 100%|██████████| 9/9 [00:15<00:00,  0.57it/s, v_num=7, train_loss=0.344, val_loss=0.374]"
     ]
    },
    {
     "name": "stderr",
     "output_type": "stream",
     "text": [
      "Epoch 293, global step 2646: 'val_loss' was not in top 1\n"
     ]
    },
    {
     "name": "stdout",
     "output_type": "stream",
     "text": [
      "Epoch 294: 100%|██████████| 9/9 [00:09<00:00,  1.00it/s, v_num=7, train_loss=0.330, val_loss=0.374]current epoch: 294 current mean dice: 0.3301\n",
      "best mean dice: 0.3417 at epoch: 277\n",
      "current mean loss: 0.0675best mean loss: 0.0000at epoch: 0\n",
      "Epoch 294: 100%|██████████| 9/9 [00:16<00:00,  0.56it/s, v_num=7, train_loss=0.330, val_loss=0.366]"
     ]
    },
    {
     "name": "stderr",
     "output_type": "stream",
     "text": [
      "Epoch 294, global step 2655: 'val_loss' was not in top 1\n"
     ]
    },
    {
     "name": "stdout",
     "output_type": "stream",
     "text": [
      "Epoch 295: 100%|██████████| 9/9 [00:09<00:00,  0.99it/s, v_num=7, train_loss=0.341, val_loss=0.366]current epoch: 295 current mean dice: 0.3286\n",
      "best mean dice: 0.3417 at epoch: 277\n",
      "current mean loss: 0.0677best mean loss: 0.0000at epoch: 0\n",
      "Epoch 295: 100%|██████████| 9/9 [00:16<00:00,  0.56it/s, v_num=7, train_loss=0.341, val_loss=0.366]"
     ]
    },
    {
     "name": "stderr",
     "output_type": "stream",
     "text": [
      "Epoch 295, global step 2664: 'val_loss' was not in top 1\n"
     ]
    },
    {
     "name": "stdout",
     "output_type": "stream",
     "text": [
      "Epoch 296: 100%|██████████| 9/9 [00:08<00:00,  1.00it/s, v_num=7, train_loss=0.313, val_loss=0.366]current epoch: 296 current mean dice: 0.3304\n",
      "best mean dice: 0.3417 at epoch: 277\n",
      "current mean loss: 0.0676best mean loss: 0.0000at epoch: 0\n",
      "Epoch 296: 100%|██████████| 9/9 [00:15<00:00,  0.56it/s, v_num=7, train_loss=0.313, val_loss=0.366]"
     ]
    },
    {
     "name": "stderr",
     "output_type": "stream",
     "text": [
      "Epoch 296, global step 2673: 'val_loss' was not in top 1\n"
     ]
    },
    {
     "name": "stdout",
     "output_type": "stream",
     "text": [
      "Epoch 297: 100%|██████████| 9/9 [00:08<00:00,  1.02it/s, v_num=7, train_loss=0.320, val_loss=0.366]current epoch: 297 current mean dice: 0.3318\n",
      "best mean dice: 0.3417 at epoch: 277\n",
      "current mean loss: 0.0670best mean loss: 0.0000at epoch: 0\n",
      "Epoch 297: 100%|██████████| 9/9 [00:15<00:00,  0.57it/s, v_num=7, train_loss=0.320, val_loss=0.366]"
     ]
    },
    {
     "name": "stderr",
     "output_type": "stream",
     "text": [
      "Epoch 297, global step 2682: 'val_loss' was not in top 1\n"
     ]
    },
    {
     "name": "stdout",
     "output_type": "stream",
     "text": [
      "Epoch 298: 100%|██████████| 9/9 [00:08<00:00,  1.04it/s, v_num=7, train_loss=0.371, val_loss=0.366]current epoch: 298 current mean dice: 0.3092\n",
      "best mean dice: 0.3417 at epoch: 277\n",
      "current mean loss: 0.0694best mean loss: 0.0000at epoch: 0\n",
      "Epoch 298: 100%|██████████| 9/9 [00:15<00:00,  0.58it/s, v_num=7, train_loss=0.371, val_loss=0.375]"
     ]
    },
    {
     "name": "stderr",
     "output_type": "stream",
     "text": [
      "Epoch 298, global step 2691: 'val_loss' was not in top 1\n"
     ]
    },
    {
     "name": "stdout",
     "output_type": "stream",
     "text": [
      "Epoch 299: 100%|██████████| 9/9 [00:08<00:00,  1.03it/s, v_num=7, train_loss=0.312, val_loss=0.375]current epoch: 299 current mean dice: 0.3303\n",
      "best mean dice: 0.3417 at epoch: 277\n",
      "current mean loss: 0.0672best mean loss: 0.0000at epoch: 0\n",
      "Epoch 299: 100%|██████████| 9/9 [00:15<00:00,  0.57it/s, v_num=7, train_loss=0.312, val_loss=0.367]"
     ]
    },
    {
     "name": "stderr",
     "output_type": "stream",
     "text": [
      "Epoch 299, global step 2700: 'val_loss' was not in top 1\n"
     ]
    },
    {
     "name": "stdout",
     "output_type": "stream",
     "text": [
      "Epoch 300: 100%|██████████| 9/9 [00:09<00:00,  1.00it/s, v_num=7, train_loss=0.422, val_loss=0.367]current epoch: 300 current mean dice: 0.3323\n",
      "best mean dice: 0.3417 at epoch: 277\n",
      "current mean loss: 0.0677best mean loss: 0.0000at epoch: 0\n",
      "Epoch 300: 100%|██████████| 9/9 [00:15<00:00,  0.56it/s, v_num=7, train_loss=0.422, val_loss=0.366]"
     ]
    },
    {
     "name": "stderr",
     "output_type": "stream",
     "text": [
      "Epoch 300, global step 2709: 'val_loss' was not in top 1\n"
     ]
    },
    {
     "name": "stdout",
     "output_type": "stream",
     "text": [
      "Epoch 301: 100%|██████████| 9/9 [00:08<00:00,  1.01it/s, v_num=7, train_loss=0.411, val_loss=0.366]current epoch: 301 current mean dice: 0.3338\n",
      "best mean dice: 0.3417 at epoch: 277\n",
      "current mean loss: 0.0676best mean loss: 0.0000at epoch: 0\n",
      "Epoch 301: 100%|██████████| 9/9 [00:15<00:00,  0.57it/s, v_num=7, train_loss=0.411, val_loss=0.366]"
     ]
    },
    {
     "name": "stderr",
     "output_type": "stream",
     "text": [
      "Epoch 301, global step 2718: 'val_loss' was not in top 1\n"
     ]
    },
    {
     "name": "stdout",
     "output_type": "stream",
     "text": [
      "Epoch 302: 100%|██████████| 9/9 [00:08<00:00,  1.01it/s, v_num=7, train_loss=0.320, val_loss=0.366]current epoch: 302 current mean dice: 0.3393\n",
      "best mean dice: 0.3417 at epoch: 277\n",
      "current mean loss: 0.0664best mean loss: 0.0000at epoch: 0\n",
      "Epoch 302: 100%|██████████| 9/9 [00:15<00:00,  0.57it/s, v_num=7, train_loss=0.320, val_loss=0.362]"
     ]
    },
    {
     "name": "stderr",
     "output_type": "stream",
     "text": [
      "Epoch 302, global step 2727: 'val_loss' was not in top 1\n"
     ]
    },
    {
     "name": "stdout",
     "output_type": "stream",
     "text": [
      "Epoch 303: 100%|██████████| 9/9 [00:08<00:00,  1.02it/s, v_num=7, train_loss=0.343, val_loss=0.362]current epoch: 303 current mean dice: 0.3348\n",
      "best mean dice: 0.3417 at epoch: 277\n",
      "current mean loss: 0.0670best mean loss: 0.0000at epoch: 0\n",
      "Epoch 303: 100%|██████████| 9/9 [00:15<00:00,  0.57it/s, v_num=7, train_loss=0.343, val_loss=0.364]"
     ]
    },
    {
     "name": "stderr",
     "output_type": "stream",
     "text": [
      "Epoch 303, global step 2736: 'val_loss' was not in top 1\n"
     ]
    },
    {
     "name": "stdout",
     "output_type": "stream",
     "text": [
      "Epoch 304: 100%|██████████| 9/9 [00:09<00:00,  1.00it/s, v_num=7, train_loss=0.372, val_loss=0.364]current epoch: 304 current mean dice: 0.3359\n",
      "best mean dice: 0.3417 at epoch: 277\n",
      "current mean loss: 0.0667best mean loss: 0.0000at epoch: 0\n",
      "Epoch 304: 100%|██████████| 9/9 [00:15<00:00,  0.56it/s, v_num=7, train_loss=0.372, val_loss=0.364]"
     ]
    },
    {
     "name": "stderr",
     "output_type": "stream",
     "text": [
      "Epoch 304, global step 2745: 'val_loss' was not in top 1\n"
     ]
    },
    {
     "name": "stdout",
     "output_type": "stream",
     "text": [
      "Epoch 305: 100%|██████████| 9/9 [00:08<00:00,  1.02it/s, v_num=7, train_loss=0.384, val_loss=0.364]current epoch: 305 current mean dice: 0.3126\n",
      "best mean dice: 0.3417 at epoch: 277\n",
      "current mean loss: 0.0693best mean loss: 0.0000at epoch: 0\n",
      "Epoch 305: 100%|██████████| 9/9 [00:15<00:00,  0.57it/s, v_num=7, train_loss=0.384, val_loss=0.374]"
     ]
    },
    {
     "name": "stderr",
     "output_type": "stream",
     "text": [
      "Epoch 305, global step 2754: 'val_loss' was not in top 1\n"
     ]
    },
    {
     "name": "stdout",
     "output_type": "stream",
     "text": [
      "Epoch 306: 100%|██████████| 9/9 [00:08<00:00,  1.02it/s, v_num=7, train_loss=0.352, val_loss=0.374]current epoch: 306 current mean dice: 0.3181\n",
      "best mean dice: 0.3417 at epoch: 277\n",
      "current mean loss: 0.0690best mean loss: 0.0000at epoch: 0\n",
      "Epoch 306: 100%|██████████| 9/9 [00:15<00:00,  0.57it/s, v_num=7, train_loss=0.352, val_loss=0.372]"
     ]
    },
    {
     "name": "stderr",
     "output_type": "stream",
     "text": [
      "Epoch 306, global step 2763: 'val_loss' was not in top 1\n"
     ]
    },
    {
     "name": "stdout",
     "output_type": "stream",
     "text": [
      "Epoch 307: 100%|██████████| 9/9 [00:08<00:00,  1.00it/s, v_num=7, train_loss=0.315, val_loss=0.372]current epoch: 307 current mean dice: 0.3257\n",
      "best mean dice: 0.3417 at epoch: 277\n",
      "current mean loss: 0.0681best mean loss: 0.0000at epoch: 0\n",
      "Epoch 307: 100%|██████████| 9/9 [00:15<00:00,  0.57it/s, v_num=7, train_loss=0.315, val_loss=0.367]"
     ]
    },
    {
     "name": "stderr",
     "output_type": "stream",
     "text": [
      "Epoch 307, global step 2772: 'val_loss' was not in top 1\n"
     ]
    },
    {
     "name": "stdout",
     "output_type": "stream",
     "text": [
      "Epoch 308: 100%|██████████| 9/9 [00:08<00:00,  1.02it/s, v_num=7, train_loss=0.448, val_loss=0.367]current epoch: 308 current mean dice: 0.3292\n",
      "best mean dice: 0.3417 at epoch: 277\n",
      "current mean loss: 0.0675best mean loss: 0.0000at epoch: 0\n",
      "Epoch 308: 100%|██████████| 9/9 [00:15<00:00,  0.57it/s, v_num=7, train_loss=0.448, val_loss=0.366]"
     ]
    },
    {
     "name": "stderr",
     "output_type": "stream",
     "text": [
      "Epoch 308, global step 2781: 'val_loss' was not in top 1\n"
     ]
    },
    {
     "name": "stdout",
     "output_type": "stream",
     "text": [
      "Epoch 309: 100%|██████████| 9/9 [00:08<00:00,  1.01it/s, v_num=7, train_loss=0.346, val_loss=0.366]current epoch: 309 current mean dice: 0.3354\n",
      "best mean dice: 0.3417 at epoch: 277\n",
      "current mean loss: 0.0667best mean loss: 0.0000at epoch: 0\n",
      "Epoch 309: 100%|██████████| 9/9 [00:15<00:00,  0.57it/s, v_num=7, train_loss=0.346, val_loss=0.363]"
     ]
    },
    {
     "name": "stderr",
     "output_type": "stream",
     "text": [
      "Epoch 309, global step 2790: 'val_loss' was not in top 1\n"
     ]
    },
    {
     "name": "stdout",
     "output_type": "stream",
     "text": [
      "Epoch 310: 100%|██████████| 9/9 [00:08<00:00,  1.03it/s, v_num=7, train_loss=0.351, val_loss=0.363]current epoch: 310 current mean dice: 0.3185\n",
      "best mean dice: 0.3417 at epoch: 277\n",
      "current mean loss: 0.0684best mean loss: 0.0000at epoch: 0\n",
      "Epoch 310: 100%|██████████| 9/9 [00:15<00:00,  0.57it/s, v_num=7, train_loss=0.351, val_loss=0.370]"
     ]
    },
    {
     "name": "stderr",
     "output_type": "stream",
     "text": [
      "Epoch 310, global step 2799: 'val_loss' was not in top 1\n"
     ]
    },
    {
     "name": "stdout",
     "output_type": "stream",
     "text": [
      "Epoch 311: 100%|██████████| 9/9 [00:08<00:00,  1.01it/s, v_num=7, train_loss=0.378, val_loss=0.370]current epoch: 311 current mean dice: 0.3194\n",
      "best mean dice: 0.3417 at epoch: 277\n",
      "current mean loss: 0.0689best mean loss: 0.0000at epoch: 0\n",
      "Epoch 311: 100%|██████████| 9/9 [00:15<00:00,  0.57it/s, v_num=7, train_loss=0.378, val_loss=0.371]"
     ]
    },
    {
     "name": "stderr",
     "output_type": "stream",
     "text": [
      "Epoch 311, global step 2808: 'val_loss' was not in top 1\n"
     ]
    },
    {
     "name": "stdout",
     "output_type": "stream",
     "text": [
      "Epoch 312: 100%|██████████| 9/9 [00:08<00:00,  1.01it/s, v_num=7, train_loss=0.316, val_loss=0.371]current epoch: 312 current mean dice: 0.3456\n",
      "best mean dice: 0.3456 at epoch: 312\n",
      "current mean loss: 0.0665best mean loss: 0.0000at epoch: 0\n",
      "Epoch 312: 100%|██████████| 9/9 [00:15<00:00,  0.57it/s, v_num=7, train_loss=0.316, val_loss=0.361]"
     ]
    },
    {
     "name": "stderr",
     "output_type": "stream",
     "text": [
      "Epoch 312, global step 2817: 'val_loss' reached 0.36056 (best 0.36056), saving model to '/home/pawel/Documents/RISA/3D_segmentation/logger/checkpoints/epoch_312-0.36056.ckpt' as top 1\n"
     ]
    },
    {
     "name": "stdout",
     "output_type": "stream",
     "text": [
      "Epoch 313: 100%|██████████| 9/9 [00:08<00:00,  1.02it/s, v_num=7, train_loss=0.291, val_loss=0.361]current epoch: 313 current mean dice: 0.3313\n",
      "best mean dice: 0.3456 at epoch: 312\n",
      "current mean loss: 0.0673best mean loss: 0.0000at epoch: 0\n",
      "Epoch 313: 100%|██████████| 9/9 [00:15<00:00,  0.57it/s, v_num=7, train_loss=0.291, val_loss=0.365]"
     ]
    },
    {
     "name": "stderr",
     "output_type": "stream",
     "text": [
      "Epoch 313, global step 2826: 'val_loss' was not in top 1\n"
     ]
    },
    {
     "name": "stdout",
     "output_type": "stream",
     "text": [
      "Epoch 314: 100%|██████████| 9/9 [00:08<00:00,  1.02it/s, v_num=7, train_loss=0.434, val_loss=0.365]current epoch: 314 current mean dice: 0.3302\n",
      "best mean dice: 0.3456 at epoch: 312\n",
      "current mean loss: 0.0673best mean loss: 0.0000at epoch: 0\n",
      "Epoch 314: 100%|██████████| 9/9 [00:15<00:00,  0.57it/s, v_num=7, train_loss=0.434, val_loss=0.365]"
     ]
    },
    {
     "name": "stderr",
     "output_type": "stream",
     "text": [
      "Epoch 314, global step 2835: 'val_loss' was not in top 1\n"
     ]
    },
    {
     "name": "stdout",
     "output_type": "stream",
     "text": [
      "Epoch 315: 100%|██████████| 9/9 [00:08<00:00,  1.01it/s, v_num=7, train_loss=0.332, val_loss=0.365]current epoch: 315 current mean dice: 0.3113\n",
      "best mean dice: 0.3456 at epoch: 312\n",
      "current mean loss: 0.0693best mean loss: 0.0000at epoch: 0\n",
      "Epoch 315: 100%|██████████| 9/9 [00:15<00:00,  0.57it/s, v_num=7, train_loss=0.332, val_loss=0.373]"
     ]
    },
    {
     "name": "stderr",
     "output_type": "stream",
     "text": [
      "Epoch 315, global step 2844: 'val_loss' was not in top 1\n"
     ]
    },
    {
     "name": "stdout",
     "output_type": "stream",
     "text": [
      "Epoch 316: 100%|██████████| 9/9 [00:09<00:00,  0.99it/s, v_num=7, train_loss=0.330, val_loss=0.373]current epoch: 316 current mean dice: 0.3380\n",
      "best mean dice: 0.3456 at epoch: 312\n",
      "current mean loss: 0.0668best mean loss: 0.0000at epoch: 0\n",
      "Epoch 316: 100%|██████████| 9/9 [00:15<00:00,  0.56it/s, v_num=7, train_loss=0.330, val_loss=0.363]"
     ]
    },
    {
     "name": "stderr",
     "output_type": "stream",
     "text": [
      "Epoch 316, global step 2853: 'val_loss' was not in top 1\n"
     ]
    },
    {
     "name": "stdout",
     "output_type": "stream",
     "text": [
      "Epoch 317: 100%|██████████| 9/9 [00:08<00:00,  1.02it/s, v_num=7, train_loss=0.363, val_loss=0.363]current epoch: 317 current mean dice: 0.3351\n",
      "best mean dice: 0.3456 at epoch: 312\n",
      "current mean loss: 0.0672best mean loss: 0.0000at epoch: 0\n",
      "Epoch 317: 100%|██████████| 9/9 [00:15<00:00,  0.57it/s, v_num=7, train_loss=0.363, val_loss=0.365]"
     ]
    },
    {
     "name": "stderr",
     "output_type": "stream",
     "text": [
      "Epoch 317, global step 2862: 'val_loss' was not in top 1\n"
     ]
    },
    {
     "name": "stdout",
     "output_type": "stream",
     "text": [
      "Epoch 318: 100%|██████████| 9/9 [00:08<00:00,  1.00it/s, v_num=7, train_loss=0.353, val_loss=0.365]current epoch: 318 current mean dice: 0.3261\n",
      "best mean dice: 0.3456 at epoch: 312\n",
      "current mean loss: 0.0683best mean loss: 0.0000at epoch: 0\n",
      "Epoch 318: 100%|██████████| 9/9 [00:15<00:00,  0.56it/s, v_num=7, train_loss=0.353, val_loss=0.369]"
     ]
    },
    {
     "name": "stderr",
     "output_type": "stream",
     "text": [
      "Epoch 318, global step 2871: 'val_loss' was not in top 1\n"
     ]
    },
    {
     "name": "stdout",
     "output_type": "stream",
     "text": [
      "Epoch 319: 100%|██████████| 9/9 [00:08<00:00,  1.02it/s, v_num=7, train_loss=0.307, val_loss=0.369]current epoch: 319 current mean dice: 0.3371\n",
      "best mean dice: 0.3456 at epoch: 312\n",
      "current mean loss: 0.0672best mean loss: 0.0000at epoch: 0\n",
      "Epoch 319: 100%|██████████| 9/9 [00:15<00:00,  0.57it/s, v_num=7, train_loss=0.307, val_loss=0.363]"
     ]
    },
    {
     "name": "stderr",
     "output_type": "stream",
     "text": [
      "Epoch 319, global step 2880: 'val_loss' was not in top 1\n"
     ]
    },
    {
     "name": "stdout",
     "output_type": "stream",
     "text": [
      "Epoch 320: 100%|██████████| 9/9 [00:08<00:00,  1.00it/s, v_num=7, train_loss=0.396, val_loss=0.363]current epoch: 320 current mean dice: 0.3201\n",
      "best mean dice: 0.3456 at epoch: 312\n",
      "current mean loss: 0.0685best mean loss: 0.0000at epoch: 0\n",
      "Epoch 320: 100%|██████████| 9/9 [00:15<00:00,  0.57it/s, v_num=7, train_loss=0.396, val_loss=0.371]"
     ]
    },
    {
     "name": "stderr",
     "output_type": "stream",
     "text": [
      "Epoch 320, global step 2889: 'val_loss' was not in top 1\n"
     ]
    },
    {
     "name": "stdout",
     "output_type": "stream",
     "text": [
      "Epoch 321: 100%|██████████| 9/9 [00:08<00:00,  1.02it/s, v_num=7, train_loss=0.328, val_loss=0.371]current epoch: 321 current mean dice: 0.3286\n",
      "best mean dice: 0.3456 at epoch: 312\n",
      "current mean loss: 0.0682best mean loss: 0.0000at epoch: 0\n",
      "Epoch 321: 100%|██████████| 9/9 [00:15<00:00,  0.57it/s, v_num=7, train_loss=0.328, val_loss=0.368]"
     ]
    },
    {
     "name": "stderr",
     "output_type": "stream",
     "text": [
      "Epoch 321, global step 2898: 'val_loss' was not in top 1\n"
     ]
    },
    {
     "name": "stdout",
     "output_type": "stream",
     "text": [
      "Epoch 322: 100%|██████████| 9/9 [00:08<00:00,  1.02it/s, v_num=7, train_loss=0.387, val_loss=0.368]current epoch: 322 current mean dice: 0.3273\n",
      "best mean dice: 0.3456 at epoch: 312\n",
      "current mean loss: 0.0681best mean loss: 0.0000at epoch: 0\n",
      "Epoch 322: 100%|██████████| 9/9 [00:15<00:00,  0.57it/s, v_num=7, train_loss=0.387, val_loss=0.367]"
     ]
    },
    {
     "name": "stderr",
     "output_type": "stream",
     "text": [
      "Epoch 322, global step 2907: 'val_loss' was not in top 1\n"
     ]
    },
    {
     "name": "stdout",
     "output_type": "stream",
     "text": [
      "Epoch 323: 100%|██████████| 9/9 [00:08<00:00,  1.01it/s, v_num=7, train_loss=0.352, val_loss=0.367]current epoch: 323 current mean dice: 0.3344\n",
      "best mean dice: 0.3456 at epoch: 312\n",
      "current mean loss: 0.0672best mean loss: 0.0000at epoch: 0\n",
      "Epoch 323: 100%|██████████| 9/9 [00:15<00:00,  0.57it/s, v_num=7, train_loss=0.352, val_loss=0.364]"
     ]
    },
    {
     "name": "stderr",
     "output_type": "stream",
     "text": [
      "Epoch 323, global step 2916: 'val_loss' was not in top 1\n"
     ]
    },
    {
     "name": "stdout",
     "output_type": "stream",
     "text": [
      "Epoch 324: 100%|██████████| 9/9 [00:08<00:00,  1.02it/s, v_num=7, train_loss=0.274, val_loss=0.364]current epoch: 324 current mean dice: 0.3271\n",
      "best mean dice: 0.3456 at epoch: 312\n",
      "current mean loss: 0.0676best mean loss: 0.0000at epoch: 0\n",
      "Epoch 324: 100%|██████████| 9/9 [00:15<00:00,  0.57it/s, v_num=7, train_loss=0.274, val_loss=0.367]"
     ]
    },
    {
     "name": "stderr",
     "output_type": "stream",
     "text": [
      "Epoch 324, global step 2925: 'val_loss' was not in top 1\n"
     ]
    },
    {
     "name": "stdout",
     "output_type": "stream",
     "text": [
      "Epoch 325: 100%|██████████| 9/9 [00:08<00:00,  1.01it/s, v_num=7, train_loss=0.341, val_loss=0.367]current epoch: 325 current mean dice: 0.3174\n",
      "best mean dice: 0.3456 at epoch: 312\n",
      "current mean loss: 0.0685best mean loss: 0.0000at epoch: 0\n",
      "Epoch 325: 100%|██████████| 9/9 [00:15<00:00,  0.57it/s, v_num=7, train_loss=0.341, val_loss=0.371]"
     ]
    },
    {
     "name": "stderr",
     "output_type": "stream",
     "text": [
      "Epoch 325, global step 2934: 'val_loss' was not in top 1\n"
     ]
    },
    {
     "name": "stdout",
     "output_type": "stream",
     "text": [
      "Epoch 326: 100%|██████████| 9/9 [00:08<00:00,  1.02it/s, v_num=7, train_loss=0.368, val_loss=0.371]current epoch: 326 current mean dice: 0.3329\n",
      "best mean dice: 0.3456 at epoch: 312\n",
      "current mean loss: 0.0670best mean loss: 0.0000at epoch: 0\n",
      "Epoch 326: 100%|██████████| 9/9 [00:15<00:00,  0.57it/s, v_num=7, train_loss=0.368, val_loss=0.364]"
     ]
    },
    {
     "name": "stderr",
     "output_type": "stream",
     "text": [
      "Epoch 326, global step 2943: 'val_loss' was not in top 1\n"
     ]
    },
    {
     "name": "stdout",
     "output_type": "stream",
     "text": [
      "Epoch 327: 100%|██████████| 9/9 [00:08<00:00,  1.01it/s, v_num=7, train_loss=0.401, val_loss=0.364]current epoch: 327 current mean dice: 0.3343\n",
      "best mean dice: 0.3456 at epoch: 312\n",
      "current mean loss: 0.0669best mean loss: 0.0000at epoch: 0\n",
      "Epoch 327: 100%|██████████| 9/9 [00:15<00:00,  0.57it/s, v_num=7, train_loss=0.401, val_loss=0.364]"
     ]
    },
    {
     "name": "stderr",
     "output_type": "stream",
     "text": [
      "Epoch 327, global step 2952: 'val_loss' was not in top 1\n"
     ]
    },
    {
     "name": "stdout",
     "output_type": "stream",
     "text": [
      "Epoch 328: 100%|██████████| 9/9 [00:08<00:00,  1.03it/s, v_num=7, train_loss=0.400, val_loss=0.364]current epoch: 328 current mean dice: 0.3383\n",
      "best mean dice: 0.3456 at epoch: 312\n",
      "current mean loss: 0.0670best mean loss: 0.0000at epoch: 0\n",
      "Epoch 328: 100%|██████████| 9/9 [00:15<00:00,  0.57it/s, v_num=7, train_loss=0.400, val_loss=0.363]"
     ]
    },
    {
     "name": "stderr",
     "output_type": "stream",
     "text": [
      "Epoch 328, global step 2961: 'val_loss' was not in top 1\n"
     ]
    },
    {
     "name": "stdout",
     "output_type": "stream",
     "text": [
      "Epoch 329: 100%|██████████| 9/9 [00:08<00:00,  1.01it/s, v_num=7, train_loss=0.357, val_loss=0.363]current epoch: 329 current mean dice: 0.3200\n",
      "best mean dice: 0.3456 at epoch: 312\n",
      "current mean loss: 0.0682best mean loss: 0.0000at epoch: 0\n",
      "Epoch 329: 100%|██████████| 9/9 [00:15<00:00,  0.57it/s, v_num=7, train_loss=0.357, val_loss=0.370]"
     ]
    },
    {
     "name": "stderr",
     "output_type": "stream",
     "text": [
      "Epoch 329, global step 2970: 'val_loss' was not in top 1\n"
     ]
    },
    {
     "name": "stdout",
     "output_type": "stream",
     "text": [
      "Epoch 330: 100%|██████████| 9/9 [00:08<00:00,  1.02it/s, v_num=7, train_loss=0.379, val_loss=0.370]current epoch: 330 current mean dice: 0.3264\n",
      "best mean dice: 0.3456 at epoch: 312\n",
      "current mean loss: 0.0677best mean loss: 0.0000at epoch: 0\n",
      "Epoch 330: 100%|██████████| 9/9 [00:15<00:00,  0.57it/s, v_num=7, train_loss=0.379, val_loss=0.368]"
     ]
    },
    {
     "name": "stderr",
     "output_type": "stream",
     "text": [
      "Epoch 330, global step 2979: 'val_loss' was not in top 1\n"
     ]
    },
    {
     "name": "stdout",
     "output_type": "stream",
     "text": [
      "Epoch 331: 100%|██████████| 9/9 [00:08<00:00,  1.01it/s, v_num=7, train_loss=0.406, val_loss=0.368]current epoch: 331 current mean dice: 0.3316\n",
      "best mean dice: 0.3456 at epoch: 312\n",
      "current mean loss: 0.0674best mean loss: 0.0000at epoch: 0\n",
      "Epoch 331: 100%|██████████| 9/9 [00:15<00:00,  0.57it/s, v_num=7, train_loss=0.406, val_loss=0.365]"
     ]
    },
    {
     "name": "stderr",
     "output_type": "stream",
     "text": [
      "Epoch 331, global step 2988: 'val_loss' was not in top 1\n"
     ]
    },
    {
     "name": "stdout",
     "output_type": "stream",
     "text": [
      "Epoch 332: 100%|██████████| 9/9 [00:08<00:00,  1.01it/s, v_num=7, train_loss=0.345, val_loss=0.365]current epoch: 332 current mean dice: 0.3290\n",
      "best mean dice: 0.3456 at epoch: 312\n",
      "current mean loss: 0.0680best mean loss: 0.0000at epoch: 0\n",
      "Epoch 332: 100%|██████████| 9/9 [00:15<00:00,  0.57it/s, v_num=7, train_loss=0.345, val_loss=0.366]"
     ]
    },
    {
     "name": "stderr",
     "output_type": "stream",
     "text": [
      "Epoch 332, global step 2997: 'val_loss' was not in top 1\n"
     ]
    },
    {
     "name": "stdout",
     "output_type": "stream",
     "text": [
      "Epoch 333: 100%|██████████| 9/9 [00:08<00:00,  1.02it/s, v_num=7, train_loss=0.342, val_loss=0.366]current epoch: 333 current mean dice: 0.3413\n",
      "best mean dice: 0.3456 at epoch: 312\n",
      "current mean loss: 0.0668best mean loss: 0.0000at epoch: 0\n",
      "Epoch 333: 100%|██████████| 9/9 [00:15<00:00,  0.57it/s, v_num=7, train_loss=0.342, val_loss=0.362]"
     ]
    },
    {
     "name": "stderr",
     "output_type": "stream",
     "text": [
      "Epoch 333, global step 3006: 'val_loss' was not in top 1\n"
     ]
    },
    {
     "name": "stdout",
     "output_type": "stream",
     "text": [
      "Epoch 334: 100%|██████████| 9/9 [00:08<00:00,  1.00it/s, v_num=7, train_loss=0.376, val_loss=0.362]current epoch: 334 current mean dice: 0.3344\n",
      "best mean dice: 0.3456 at epoch: 312\n",
      "current mean loss: 0.0675best mean loss: 0.0000at epoch: 0\n",
      "Epoch 334: 100%|██████████| 9/9 [00:15<00:00,  0.56it/s, v_num=7, train_loss=0.376, val_loss=0.364]"
     ]
    },
    {
     "name": "stderr",
     "output_type": "stream",
     "text": [
      "Epoch 334, global step 3015: 'val_loss' was not in top 1\n"
     ]
    },
    {
     "name": "stdout",
     "output_type": "stream",
     "text": [
      "Epoch 335: 100%|██████████| 9/9 [00:08<00:00,  1.00it/s, v_num=7, train_loss=0.350, val_loss=0.364]current epoch: 335 current mean dice: 0.3295\n",
      "best mean dice: 0.3456 at epoch: 312\n",
      "current mean loss: 0.0677best mean loss: 0.0000at epoch: 0\n",
      "Epoch 335: 100%|██████████| 9/9 [00:15<00:00,  0.56it/s, v_num=7, train_loss=0.350, val_loss=0.365]"
     ]
    },
    {
     "name": "stderr",
     "output_type": "stream",
     "text": [
      "Epoch 335, global step 3024: 'val_loss' was not in top 1\n"
     ]
    },
    {
     "name": "stdout",
     "output_type": "stream",
     "text": [
      "Epoch 336: 100%|██████████| 9/9 [00:08<00:00,  1.02it/s, v_num=7, train_loss=0.315, val_loss=0.365]current epoch: 336 current mean dice: 0.3294\n",
      "best mean dice: 0.3456 at epoch: 312\n",
      "current mean loss: 0.0675best mean loss: 0.0000at epoch: 0\n",
      "Epoch 336: 100%|██████████| 9/9 [00:15<00:00,  0.57it/s, v_num=7, train_loss=0.315, val_loss=0.366]"
     ]
    },
    {
     "name": "stderr",
     "output_type": "stream",
     "text": [
      "Epoch 336, global step 3033: 'val_loss' was not in top 1\n"
     ]
    },
    {
     "name": "stdout",
     "output_type": "stream",
     "text": [
      "Epoch 337: 100%|██████████| 9/9 [00:08<00:00,  1.04it/s, v_num=7, train_loss=0.410, val_loss=0.366]current epoch: 337 current mean dice: 0.3383\n",
      "best mean dice: 0.3456 at epoch: 312\n",
      "current mean loss: 0.0663best mean loss: 0.0000at epoch: 0\n",
      "Epoch 337: 100%|██████████| 9/9 [00:15<00:00,  0.58it/s, v_num=7, train_loss=0.410, val_loss=0.362]"
     ]
    },
    {
     "name": "stderr",
     "output_type": "stream",
     "text": [
      "Epoch 337, global step 3042: 'val_loss' was not in top 1\n"
     ]
    },
    {
     "name": "stdout",
     "output_type": "stream",
     "text": [
      "Epoch 338: 100%|██████████| 9/9 [00:08<00:00,  1.02it/s, v_num=7, train_loss=0.366, val_loss=0.362]current epoch: 338 current mean dice: 0.3418\n",
      "best mean dice: 0.3456 at epoch: 312\n",
      "current mean loss: 0.0667best mean loss: 0.0000at epoch: 0\n",
      "Epoch 338: 100%|██████████| 9/9 [00:15<00:00,  0.57it/s, v_num=7, train_loss=0.366, val_loss=0.361]"
     ]
    },
    {
     "name": "stderr",
     "output_type": "stream",
     "text": [
      "Epoch 338, global step 3051: 'val_loss' was not in top 1\n"
     ]
    },
    {
     "name": "stdout",
     "output_type": "stream",
     "text": [
      "Epoch 339: 100%|██████████| 9/9 [00:08<00:00,  1.00it/s, v_num=7, train_loss=0.310, val_loss=0.361]current epoch: 339 current mean dice: 0.3420\n",
      "best mean dice: 0.3456 at epoch: 312\n",
      "current mean loss: 0.0664best mean loss: 0.0000at epoch: 0\n",
      "Epoch 339: 100%|██████████| 9/9 [00:15<00:00,  0.56it/s, v_num=7, train_loss=0.310, val_loss=0.360]"
     ]
    },
    {
     "name": "stderr",
     "output_type": "stream",
     "text": [
      "Epoch 339, global step 3060: 'val_loss' reached 0.36022 (best 0.36022), saving model to '/home/pawel/Documents/RISA/3D_segmentation/logger/checkpoints/epoch_339-0.36022.ckpt' as top 1\n"
     ]
    },
    {
     "name": "stdout",
     "output_type": "stream",
     "text": [
      "Epoch 340: 100%|██████████| 9/9 [00:08<00:00,  1.03it/s, v_num=7, train_loss=0.372, val_loss=0.360]current epoch: 340 current mean dice: 0.3287\n",
      "best mean dice: 0.3456 at epoch: 312\n",
      "current mean loss: 0.0673best mean loss: 0.0000at epoch: 0\n",
      "Epoch 340: 100%|██████████| 9/9 [00:15<00:00,  0.58it/s, v_num=7, train_loss=0.372, val_loss=0.367]"
     ]
    },
    {
     "name": "stderr",
     "output_type": "stream",
     "text": [
      "Epoch 340, global step 3069: 'val_loss' was not in top 1\n"
     ]
    },
    {
     "name": "stdout",
     "output_type": "stream",
     "text": [
      "Epoch 341: 100%|██████████| 9/9 [00:08<00:00,  1.02it/s, v_num=7, train_loss=0.315, val_loss=0.367]current epoch: 341 current mean dice: 0.3277\n",
      "best mean dice: 0.3456 at epoch: 312\n",
      "current mean loss: 0.0681best mean loss: 0.0000at epoch: 0\n",
      "Epoch 341: 100%|██████████| 9/9 [00:15<00:00,  0.57it/s, v_num=7, train_loss=0.315, val_loss=0.366]"
     ]
    },
    {
     "name": "stderr",
     "output_type": "stream",
     "text": [
      "Epoch 341, global step 3078: 'val_loss' was not in top 1\n"
     ]
    },
    {
     "name": "stdout",
     "output_type": "stream",
     "text": [
      "Epoch 342: 100%|██████████| 9/9 [00:08<00:00,  1.03it/s, v_num=7, train_loss=0.314, val_loss=0.366]current epoch: 342 current mean dice: 0.3280\n",
      "best mean dice: 0.3456 at epoch: 312\n",
      "current mean loss: 0.0679best mean loss: 0.0000at epoch: 0\n",
      "Epoch 342: 100%|██████████| 9/9 [00:15<00:00,  0.57it/s, v_num=7, train_loss=0.314, val_loss=0.366]"
     ]
    },
    {
     "name": "stderr",
     "output_type": "stream",
     "text": [
      "Epoch 342, global step 3087: 'val_loss' was not in top 1\n"
     ]
    },
    {
     "name": "stdout",
     "output_type": "stream",
     "text": [
      "Epoch 343: 100%|██████████| 9/9 [00:09<00:00,  1.00it/s, v_num=7, train_loss=0.260, val_loss=0.366]current epoch: 343 current mean dice: 0.3301\n",
      "best mean dice: 0.3456 at epoch: 312\n",
      "current mean loss: 0.0675best mean loss: 0.0000at epoch: 0\n",
      "Epoch 343: 100%|██████████| 9/9 [00:15<00:00,  0.56it/s, v_num=7, train_loss=0.260, val_loss=0.365]"
     ]
    },
    {
     "name": "stderr",
     "output_type": "stream",
     "text": [
      "Epoch 343, global step 3096: 'val_loss' was not in top 1\n"
     ]
    },
    {
     "name": "stdout",
     "output_type": "stream",
     "text": [
      "Epoch 344: 100%|██████████| 9/9 [00:08<00:00,  1.02it/s, v_num=7, train_loss=0.272, val_loss=0.365]current epoch: 344 current mean dice: 0.3347\n",
      "best mean dice: 0.3456 at epoch: 312\n",
      "current mean loss: 0.0671best mean loss: 0.0000at epoch: 0\n",
      "Epoch 344: 100%|██████████| 9/9 [00:15<00:00,  0.57it/s, v_num=7, train_loss=0.272, val_loss=0.364]"
     ]
    },
    {
     "name": "stderr",
     "output_type": "stream",
     "text": [
      "Epoch 344, global step 3105: 'val_loss' was not in top 1\n"
     ]
    },
    {
     "name": "stdout",
     "output_type": "stream",
     "text": [
      "Epoch 345: 100%|██████████| 9/9 [00:08<00:00,  1.02it/s, v_num=7, train_loss=0.267, val_loss=0.364]current epoch: 345 current mean dice: 0.3470\n",
      "best mean dice: 0.3470 at epoch: 345\n",
      "current mean loss: 0.0660best mean loss: 0.0000at epoch: 0\n",
      "Epoch 345: 100%|██████████| 9/9 [00:15<00:00,  0.57it/s, v_num=7, train_loss=0.267, val_loss=0.359]"
     ]
    },
    {
     "name": "stderr",
     "output_type": "stream",
     "text": [
      "Epoch 345, global step 3114: 'val_loss' reached 0.35850 (best 0.35850), saving model to '/home/pawel/Documents/RISA/3D_segmentation/logger/checkpoints/epoch_345-0.35850.ckpt' as top 1\n"
     ]
    },
    {
     "name": "stdout",
     "output_type": "stream",
     "text": [
      "Epoch 346: 100%|██████████| 9/9 [00:08<00:00,  1.01it/s, v_num=7, train_loss=0.376, val_loss=0.359]current epoch: 346 current mean dice: 0.3312\n",
      "best mean dice: 0.3470 at epoch: 345\n",
      "current mean loss: 0.0679best mean loss: 0.0000at epoch: 0\n",
      "Epoch 346: 100%|██████████| 9/9 [00:15<00:00,  0.57it/s, v_num=7, train_loss=0.376, val_loss=0.365]"
     ]
    },
    {
     "name": "stderr",
     "output_type": "stream",
     "text": [
      "Epoch 346, global step 3123: 'val_loss' was not in top 1\n"
     ]
    },
    {
     "name": "stdout",
     "output_type": "stream",
     "text": [
      "Epoch 347: 100%|██████████| 9/9 [00:08<00:00,  1.00it/s, v_num=7, train_loss=0.270, val_loss=0.365]current epoch: 347 current mean dice: 0.3432\n",
      "best mean dice: 0.3470 at epoch: 345\n",
      "current mean loss: 0.0664best mean loss: 0.0000at epoch: 0\n",
      "Epoch 347: 100%|██████████| 9/9 [00:15<00:00,  0.57it/s, v_num=7, train_loss=0.270, val_loss=0.360]"
     ]
    },
    {
     "name": "stderr",
     "output_type": "stream",
     "text": [
      "Epoch 347, global step 3132: 'val_loss' was not in top 1\n"
     ]
    },
    {
     "name": "stdout",
     "output_type": "stream",
     "text": [
      "Epoch 348: 100%|██████████| 9/9 [00:08<00:00,  1.00it/s, v_num=7, train_loss=0.397, val_loss=0.360]current epoch: 348 current mean dice: 0.3447\n",
      "best mean dice: 0.3470 at epoch: 345\n",
      "current mean loss: 0.0660best mean loss: 0.0000at epoch: 0\n",
      "Epoch 348: 100%|██████████| 9/9 [00:15<00:00,  0.56it/s, v_num=7, train_loss=0.397, val_loss=0.360]"
     ]
    },
    {
     "name": "stderr",
     "output_type": "stream",
     "text": [
      "Epoch 348, global step 3141: 'val_loss' was not in top 1\n"
     ]
    },
    {
     "name": "stdout",
     "output_type": "stream",
     "text": [
      "Epoch 349: 100%|██████████| 9/9 [00:08<00:00,  1.02it/s, v_num=7, train_loss=0.412, val_loss=0.360]current epoch: 349 current mean dice: 0.3413\n",
      "best mean dice: 0.3470 at epoch: 345\n",
      "current mean loss: 0.0663best mean loss: 0.0000at epoch: 0\n",
      "Epoch 349: 100%|██████████| 9/9 [00:15<00:00,  0.57it/s, v_num=7, train_loss=0.412, val_loss=0.361]"
     ]
    },
    {
     "name": "stderr",
     "output_type": "stream",
     "text": [
      "Epoch 349, global step 3150: 'val_loss' was not in top 1\n"
     ]
    },
    {
     "name": "stdout",
     "output_type": "stream",
     "text": [
      "Epoch 350: 100%|██████████| 9/9 [00:09<00:00,  1.00it/s, v_num=7, train_loss=0.272, val_loss=0.361]current epoch: 350 current mean dice: 0.3417\n",
      "best mean dice: 0.3470 at epoch: 345\n",
      "current mean loss: 0.0670best mean loss: 0.0000at epoch: 0\n",
      "Epoch 350: 100%|██████████| 9/9 [00:15<00:00,  0.57it/s, v_num=7, train_loss=0.272, val_loss=0.361]"
     ]
    },
    {
     "name": "stderr",
     "output_type": "stream",
     "text": [
      "Epoch 350, global step 3159: 'val_loss' was not in top 1\n"
     ]
    },
    {
     "name": "stdout",
     "output_type": "stream",
     "text": [
      "Epoch 351: 100%|██████████| 9/9 [00:08<00:00,  1.01it/s, v_num=7, train_loss=0.321, val_loss=0.361]current epoch: 351 current mean dice: 0.3297\n",
      "best mean dice: 0.3470 at epoch: 345\n",
      "current mean loss: 0.0672best mean loss: 0.0000at epoch: 0\n",
      "Epoch 351: 100%|██████████| 9/9 [00:15<00:00,  0.57it/s, v_num=7, train_loss=0.321, val_loss=0.365]"
     ]
    },
    {
     "name": "stderr",
     "output_type": "stream",
     "text": [
      "Epoch 351, global step 3168: 'val_loss' was not in top 1\n"
     ]
    },
    {
     "name": "stdout",
     "output_type": "stream",
     "text": [
      "Epoch 352: 100%|██████████| 9/9 [00:08<00:00,  1.01it/s, v_num=7, train_loss=0.295, val_loss=0.365]current epoch: 352 current mean dice: 0.3353\n",
      "best mean dice: 0.3470 at epoch: 345\n",
      "current mean loss: 0.0674best mean loss: 0.0000at epoch: 0\n",
      "Epoch 352: 100%|██████████| 9/9 [00:15<00:00,  0.57it/s, v_num=7, train_loss=0.295, val_loss=0.363]"
     ]
    },
    {
     "name": "stderr",
     "output_type": "stream",
     "text": [
      "Epoch 352, global step 3177: 'val_loss' was not in top 1\n"
     ]
    },
    {
     "name": "stdout",
     "output_type": "stream",
     "text": [
      "Epoch 353: 100%|██████████| 9/9 [00:08<00:00,  1.02it/s, v_num=7, train_loss=0.372, val_loss=0.363]current epoch: 353 current mean dice: 0.3412\n",
      "best mean dice: 0.3470 at epoch: 345\n",
      "current mean loss: 0.0666best mean loss: 0.0000at epoch: 0\n",
      "Epoch 353: 100%|██████████| 9/9 [00:15<00:00,  0.57it/s, v_num=7, train_loss=0.372, val_loss=0.361]"
     ]
    },
    {
     "name": "stderr",
     "output_type": "stream",
     "text": [
      "Epoch 353, global step 3186: 'val_loss' was not in top 1\n"
     ]
    },
    {
     "name": "stdout",
     "output_type": "stream",
     "text": [
      "Epoch 354: 100%|██████████| 9/9 [00:08<00:00,  1.04it/s, v_num=7, train_loss=0.377, val_loss=0.361]current epoch: 354 current mean dice: 0.3280\n",
      "best mean dice: 0.3470 at epoch: 345\n",
      "current mean loss: 0.0675best mean loss: 0.0000at epoch: 0\n",
      "Epoch 354: 100%|██████████| 9/9 [00:15<00:00,  0.58it/s, v_num=7, train_loss=0.377, val_loss=0.365]"
     ]
    },
    {
     "name": "stderr",
     "output_type": "stream",
     "text": [
      "Epoch 354, global step 3195: 'val_loss' was not in top 1\n"
     ]
    },
    {
     "name": "stdout",
     "output_type": "stream",
     "text": [
      "Epoch 355: 100%|██████████| 9/9 [00:09<00:00,  1.00it/s, v_num=7, train_loss=0.330, val_loss=0.365]current epoch: 355 current mean dice: 0.3333\n",
      "best mean dice: 0.3470 at epoch: 345\n",
      "current mean loss: 0.0669best mean loss: 0.0000at epoch: 0\n",
      "Epoch 355: 100%|██████████| 9/9 [00:15<00:00,  0.56it/s, v_num=7, train_loss=0.330, val_loss=0.364]"
     ]
    },
    {
     "name": "stderr",
     "output_type": "stream",
     "text": [
      "Epoch 355, global step 3204: 'val_loss' was not in top 1\n"
     ]
    },
    {
     "name": "stdout",
     "output_type": "stream",
     "text": [
      "Epoch 356: 100%|██████████| 9/9 [00:08<00:00,  1.02it/s, v_num=7, train_loss=0.383, val_loss=0.364]current epoch: 356 current mean dice: 0.3405\n",
      "best mean dice: 0.3470 at epoch: 345\n",
      "current mean loss: 0.0667best mean loss: 0.0000at epoch: 0\n",
      "Epoch 356: 100%|██████████| 9/9 [00:15<00:00,  0.57it/s, v_num=7, train_loss=0.383, val_loss=0.361]"
     ]
    },
    {
     "name": "stderr",
     "output_type": "stream",
     "text": [
      "Epoch 356, global step 3213: 'val_loss' was not in top 1\n"
     ]
    },
    {
     "name": "stdout",
     "output_type": "stream",
     "text": [
      "Epoch 357: 100%|██████████| 9/9 [00:08<00:00,  1.00it/s, v_num=7, train_loss=0.358, val_loss=0.361]current epoch: 357 current mean dice: 0.3382\n",
      "best mean dice: 0.3470 at epoch: 345\n",
      "current mean loss: 0.0674best mean loss: 0.0000at epoch: 0\n",
      "Epoch 357: 100%|██████████| 9/9 [00:15<00:00,  0.56it/s, v_num=7, train_loss=0.358, val_loss=0.363]"
     ]
    },
    {
     "name": "stderr",
     "output_type": "stream",
     "text": [
      "Epoch 357, global step 3222: 'val_loss' was not in top 1\n"
     ]
    },
    {
     "name": "stdout",
     "output_type": "stream",
     "text": [
      "Epoch 358: 100%|██████████| 9/9 [00:09<00:00,  1.00it/s, v_num=7, train_loss=0.395, val_loss=0.363]current epoch: 358 current mean dice: 0.3327\n",
      "best mean dice: 0.3470 at epoch: 345\n",
      "current mean loss: 0.0674best mean loss: 0.0000at epoch: 0\n",
      "Epoch 358: 100%|██████████| 9/9 [00:15<00:00,  0.56it/s, v_num=7, train_loss=0.395, val_loss=0.364]"
     ]
    },
    {
     "name": "stderr",
     "output_type": "stream",
     "text": [
      "Epoch 358, global step 3231: 'val_loss' was not in top 1\n"
     ]
    },
    {
     "name": "stdout",
     "output_type": "stream",
     "text": [
      "Epoch 359: 100%|██████████| 9/9 [00:09<00:00,  1.00it/s, v_num=7, train_loss=0.382, val_loss=0.364]current epoch: 359 current mean dice: 0.3409\n",
      "best mean dice: 0.3470 at epoch: 345\n",
      "current mean loss: 0.0662best mean loss: 0.0000at epoch: 0\n",
      "Epoch 359: 100%|██████████| 9/9 [00:15<00:00,  0.56it/s, v_num=7, train_loss=0.382, val_loss=0.361]"
     ]
    },
    {
     "name": "stderr",
     "output_type": "stream",
     "text": [
      "Epoch 359, global step 3240: 'val_loss' was not in top 1\n"
     ]
    },
    {
     "name": "stdout",
     "output_type": "stream",
     "text": [
      "Epoch 360: 100%|██████████| 9/9 [00:09<00:00,  0.99it/s, v_num=7, train_loss=0.283, val_loss=0.361]current epoch: 360 current mean dice: 0.3511\n",
      "best mean dice: 0.3511 at epoch: 360\n",
      "current mean loss: 0.0654best mean loss: 0.0000at epoch: 0\n",
      "Epoch 360: 100%|██████████| 9/9 [00:16<00:00,  0.56it/s, v_num=7, train_loss=0.283, val_loss=0.356]"
     ]
    },
    {
     "name": "stderr",
     "output_type": "stream",
     "text": [
      "Epoch 360, global step 3249: 'val_loss' reached 0.35632 (best 0.35632), saving model to '/home/pawel/Documents/RISA/3D_segmentation/logger/checkpoints/epoch_360-0.35632.ckpt' as top 1\n"
     ]
    },
    {
     "name": "stdout",
     "output_type": "stream",
     "text": [
      "Epoch 361: 100%|██████████| 9/9 [00:08<00:00,  1.03it/s, v_num=7, train_loss=0.357, val_loss=0.356]current epoch: 361 current mean dice: 0.3350\n",
      "best mean dice: 0.3511 at epoch: 360\n",
      "current mean loss: 0.0675best mean loss: 0.0000at epoch: 0\n",
      "Epoch 361: 100%|██████████| 9/9 [00:15<00:00,  0.57it/s, v_num=7, train_loss=0.357, val_loss=0.363]"
     ]
    },
    {
     "name": "stderr",
     "output_type": "stream",
     "text": [
      "Epoch 361, global step 3258: 'val_loss' was not in top 1\n"
     ]
    },
    {
     "name": "stdout",
     "output_type": "stream",
     "text": [
      "Epoch 362: 100%|██████████| 9/9 [00:08<00:00,  1.01it/s, v_num=7, train_loss=0.379, val_loss=0.363]current epoch: 362 current mean dice: 0.3165\n",
      "best mean dice: 0.3511 at epoch: 360\n",
      "current mean loss: 0.0683best mean loss: 0.0000at epoch: 0\n",
      "Epoch 362: 100%|██████████| 9/9 [00:15<00:00,  0.57it/s, v_num=7, train_loss=0.379, val_loss=0.370]"
     ]
    },
    {
     "name": "stderr",
     "output_type": "stream",
     "text": [
      "Epoch 362, global step 3267: 'val_loss' was not in top 1\n"
     ]
    },
    {
     "name": "stdout",
     "output_type": "stream",
     "text": [
      "Epoch 363: 100%|██████████| 9/9 [00:08<00:00,  1.00it/s, v_num=7, train_loss=0.401, val_loss=0.370]current epoch: 363 current mean dice: 0.3324\n",
      "best mean dice: 0.3511 at epoch: 360\n",
      "current mean loss: 0.0673best mean loss: 0.0000at epoch: 0\n",
      "Epoch 363: 100%|██████████| 9/9 [00:15<00:00,  0.57it/s, v_num=7, train_loss=0.401, val_loss=0.366]"
     ]
    },
    {
     "name": "stderr",
     "output_type": "stream",
     "text": [
      "Epoch 363, global step 3276: 'val_loss' was not in top 1\n"
     ]
    },
    {
     "name": "stdout",
     "output_type": "stream",
     "text": [
      "Epoch 364: 100%|██████████| 9/9 [00:08<00:00,  1.02it/s, v_num=7, train_loss=0.393, val_loss=0.366]current epoch: 364 current mean dice: 0.3467\n",
      "best mean dice: 0.3511 at epoch: 360\n",
      "current mean loss: 0.0667best mean loss: 0.0000at epoch: 0\n",
      "Epoch 364: 100%|██████████| 9/9 [00:15<00:00,  0.57it/s, v_num=7, train_loss=0.393, val_loss=0.359]"
     ]
    },
    {
     "name": "stderr",
     "output_type": "stream",
     "text": [
      "Epoch 364, global step 3285: 'val_loss' was not in top 1\n"
     ]
    },
    {
     "name": "stdout",
     "output_type": "stream",
     "text": [
      "Epoch 365: 100%|██████████| 9/9 [00:08<00:00,  1.05it/s, v_num=7, train_loss=0.363, val_loss=0.359]current epoch: 365 current mean dice: 0.3399\n",
      "best mean dice: 0.3511 at epoch: 360\n",
      "current mean loss: 0.0666best mean loss: 0.0000at epoch: 0\n",
      "Epoch 365: 100%|██████████| 9/9 [00:15<00:00,  0.58it/s, v_num=7, train_loss=0.363, val_loss=0.361]"
     ]
    },
    {
     "name": "stderr",
     "output_type": "stream",
     "text": [
      "Epoch 365, global step 3294: 'val_loss' was not in top 1\n"
     ]
    },
    {
     "name": "stdout",
     "output_type": "stream",
     "text": [
      "Epoch 366: 100%|██████████| 9/9 [00:08<00:00,  1.03it/s, v_num=7, train_loss=0.377, val_loss=0.361]current epoch: 366 current mean dice: 0.3352\n",
      "best mean dice: 0.3511 at epoch: 360\n",
      "current mean loss: 0.0671best mean loss: 0.0000at epoch: 0\n",
      "Epoch 366: 100%|██████████| 9/9 [00:15<00:00,  0.58it/s, v_num=7, train_loss=0.377, val_loss=0.362]"
     ]
    },
    {
     "name": "stderr",
     "output_type": "stream",
     "text": [
      "Epoch 366, global step 3303: 'val_loss' was not in top 1\n"
     ]
    },
    {
     "name": "stdout",
     "output_type": "stream",
     "text": [
      "Epoch 367: 100%|██████████| 9/9 [00:08<00:00,  1.03it/s, v_num=7, train_loss=0.290, val_loss=0.362]current epoch: 367 current mean dice: 0.3401\n",
      "best mean dice: 0.3511 at epoch: 360\n",
      "current mean loss: 0.0665best mean loss: 0.0000at epoch: 0\n",
      "Epoch 367: 100%|██████████| 9/9 [00:15<00:00,  0.57it/s, v_num=7, train_loss=0.290, val_loss=0.360]"
     ]
    },
    {
     "name": "stderr",
     "output_type": "stream",
     "text": [
      "Epoch 367, global step 3312: 'val_loss' was not in top 1\n"
     ]
    },
    {
     "name": "stdout",
     "output_type": "stream",
     "text": [
      "Epoch 368: 100%|██████████| 9/9 [00:08<00:00,  1.01it/s, v_num=7, train_loss=0.381, val_loss=0.360]current epoch: 368 current mean dice: 0.3415\n",
      "best mean dice: 0.3511 at epoch: 360\n",
      "current mean loss: 0.0661best mean loss: 0.0000at epoch: 0\n",
      "Epoch 368: 100%|██████████| 9/9 [00:15<00:00,  0.57it/s, v_num=7, train_loss=0.381, val_loss=0.359]"
     ]
    },
    {
     "name": "stderr",
     "output_type": "stream",
     "text": [
      "Epoch 368, global step 3321: 'val_loss' was not in top 1\n"
     ]
    },
    {
     "name": "stdout",
     "output_type": "stream",
     "text": [
      "Epoch 369: 100%|██████████| 9/9 [00:08<00:00,  1.03it/s, v_num=7, train_loss=0.258, val_loss=0.359]current epoch: 369 current mean dice: 0.3327\n",
      "best mean dice: 0.3511 at epoch: 360\n",
      "current mean loss: 0.0673best mean loss: 0.0000at epoch: 0\n",
      "Epoch 369: 100%|██████████| 9/9 [00:15<00:00,  0.58it/s, v_num=7, train_loss=0.258, val_loss=0.364]"
     ]
    },
    {
     "name": "stderr",
     "output_type": "stream",
     "text": [
      "Epoch 369, global step 3330: 'val_loss' was not in top 1\n"
     ]
    },
    {
     "name": "stdout",
     "output_type": "stream",
     "text": [
      "Epoch 370: 100%|██████████| 9/9 [00:09<00:00,  0.99it/s, v_num=7, train_loss=0.418, val_loss=0.364]current epoch: 370 current mean dice: 0.3453\n",
      "best mean dice: 0.3511 at epoch: 360\n",
      "current mean loss: 0.0667best mean loss: 0.0000at epoch: 0\n",
      "Epoch 370: 100%|██████████| 9/9 [00:16<00:00,  0.56it/s, v_num=7, train_loss=0.418, val_loss=0.361]"
     ]
    },
    {
     "name": "stderr",
     "output_type": "stream",
     "text": [
      "Epoch 370, global step 3339: 'val_loss' was not in top 1\n"
     ]
    },
    {
     "name": "stdout",
     "output_type": "stream",
     "text": [
      "Epoch 371: 100%|██████████| 9/9 [00:09<00:00,  1.00it/s, v_num=7, train_loss=0.364, val_loss=0.361]current epoch: 371 current mean dice: 0.3283\n",
      "best mean dice: 0.3511 at epoch: 360\n",
      "current mean loss: 0.0677best mean loss: 0.0000at epoch: 0\n",
      "Epoch 371: 100%|██████████| 9/9 [00:15<00:00,  0.56it/s, v_num=7, train_loss=0.364, val_loss=0.369]"
     ]
    },
    {
     "name": "stderr",
     "output_type": "stream",
     "text": [
      "Epoch 371, global step 3348: 'val_loss' was not in top 1\n"
     ]
    },
    {
     "name": "stdout",
     "output_type": "stream",
     "text": [
      "Epoch 372: 100%|██████████| 9/9 [00:08<00:00,  1.01it/s, v_num=7, train_loss=0.306, val_loss=0.369]current epoch: 372 current mean dice: 0.3334\n",
      "best mean dice: 0.3511 at epoch: 360\n",
      "current mean loss: 0.0673best mean loss: 0.0000at epoch: 0\n",
      "Epoch 372: 100%|██████████| 9/9 [00:15<00:00,  0.57it/s, v_num=7, train_loss=0.306, val_loss=0.364]"
     ]
    },
    {
     "name": "stderr",
     "output_type": "stream",
     "text": [
      "Epoch 372, global step 3357: 'val_loss' was not in top 1\n"
     ]
    },
    {
     "name": "stdout",
     "output_type": "stream",
     "text": [
      "Epoch 373: 100%|██████████| 9/9 [00:08<00:00,  1.01it/s, v_num=7, train_loss=0.302, val_loss=0.364]current epoch: 373 current mean dice: 0.3287\n",
      "best mean dice: 0.3511 at epoch: 360\n",
      "current mean loss: 0.0678best mean loss: 0.0000at epoch: 0\n",
      "Epoch 373: 100%|██████████| 9/9 [00:15<00:00,  0.57it/s, v_num=7, train_loss=0.302, val_loss=0.365]"
     ]
    },
    {
     "name": "stderr",
     "output_type": "stream",
     "text": [
      "Epoch 373, global step 3366: 'val_loss' was not in top 1\n"
     ]
    },
    {
     "name": "stdout",
     "output_type": "stream",
     "text": [
      "Epoch 374: 100%|██████████| 9/9 [00:08<00:00,  1.01it/s, v_num=7, train_loss=0.372, val_loss=0.365]current epoch: 374 current mean dice: 0.3423\n",
      "best mean dice: 0.3511 at epoch: 360\n",
      "current mean loss: 0.0661best mean loss: 0.0000at epoch: 0\n",
      "Epoch 374: 100%|██████████| 9/9 [00:15<00:00,  0.57it/s, v_num=7, train_loss=0.372, val_loss=0.360]"
     ]
    },
    {
     "name": "stderr",
     "output_type": "stream",
     "text": [
      "Epoch 374, global step 3375: 'val_loss' was not in top 1\n"
     ]
    },
    {
     "name": "stdout",
     "output_type": "stream",
     "text": [
      "Epoch 375: 100%|██████████| 9/9 [00:08<00:00,  1.03it/s, v_num=7, train_loss=0.268, val_loss=0.360]current epoch: 375 current mean dice: 0.3388\n",
      "best mean dice: 0.3511 at epoch: 360\n",
      "current mean loss: 0.0670best mean loss: 0.0000at epoch: 0\n",
      "Epoch 375: 100%|██████████| 9/9 [00:15<00:00,  0.58it/s, v_num=7, train_loss=0.268, val_loss=0.361]"
     ]
    },
    {
     "name": "stderr",
     "output_type": "stream",
     "text": [
      "Epoch 375, global step 3384: 'val_loss' was not in top 1\n"
     ]
    },
    {
     "name": "stdout",
     "output_type": "stream",
     "text": [
      "Epoch 376: 100%|██████████| 9/9 [00:08<00:00,  1.00it/s, v_num=7, train_loss=0.369, val_loss=0.361]current epoch: 376 current mean dice: 0.3376\n",
      "best mean dice: 0.3511 at epoch: 360\n",
      "current mean loss: 0.0678best mean loss: 0.0000at epoch: 0\n",
      "Epoch 376: 100%|██████████| 9/9 [00:15<00:00,  0.56it/s, v_num=7, train_loss=0.369, val_loss=0.362]"
     ]
    },
    {
     "name": "stderr",
     "output_type": "stream",
     "text": [
      "Epoch 376, global step 3393: 'val_loss' was not in top 1\n"
     ]
    },
    {
     "name": "stdout",
     "output_type": "stream",
     "text": [
      "Epoch 377: 100%|██████████| 9/9 [00:08<00:00,  1.01it/s, v_num=7, train_loss=0.322, val_loss=0.362]current epoch: 377 current mean dice: 0.3213\n",
      "best mean dice: 0.3511 at epoch: 360\n",
      "current mean loss: 0.0680best mean loss: 0.0000at epoch: 0\n",
      "Epoch 377: 100%|██████████| 9/9 [00:15<00:00,  0.57it/s, v_num=7, train_loss=0.322, val_loss=0.369]"
     ]
    },
    {
     "name": "stderr",
     "output_type": "stream",
     "text": [
      "Epoch 377, global step 3402: 'val_loss' was not in top 1\n"
     ]
    },
    {
     "name": "stdout",
     "output_type": "stream",
     "text": [
      "Epoch 378: 100%|██████████| 9/9 [00:08<00:00,  1.02it/s, v_num=7, train_loss=0.376, val_loss=0.369]current epoch: 378 current mean dice: 0.3235\n",
      "best mean dice: 0.3511 at epoch: 360\n",
      "current mean loss: 0.0683best mean loss: 0.0000at epoch: 0\n",
      "Epoch 378: 100%|██████████| 9/9 [00:15<00:00,  0.57it/s, v_num=7, train_loss=0.376, val_loss=0.367]"
     ]
    },
    {
     "name": "stderr",
     "output_type": "stream",
     "text": [
      "Epoch 378, global step 3411: 'val_loss' was not in top 1\n"
     ]
    },
    {
     "name": "stdout",
     "output_type": "stream",
     "text": [
      "Epoch 379: 100%|██████████| 9/9 [00:09<00:00,  0.99it/s, v_num=7, train_loss=0.285, val_loss=0.367]current epoch: 379 current mean dice: 0.3332\n",
      "best mean dice: 0.3511 at epoch: 360\n",
      "current mean loss: 0.0673best mean loss: 0.0000at epoch: 0\n",
      "Epoch 379: 100%|██████████| 9/9 [00:16<00:00,  0.56it/s, v_num=7, train_loss=0.285, val_loss=0.363]"
     ]
    },
    {
     "name": "stderr",
     "output_type": "stream",
     "text": [
      "Epoch 379, global step 3420: 'val_loss' was not in top 1\n"
     ]
    },
    {
     "name": "stdout",
     "output_type": "stream",
     "text": [
      "Epoch 380: 100%|██████████| 9/9 [00:08<00:00,  1.01it/s, v_num=7, train_loss=0.386, val_loss=0.363]current epoch: 380 current mean dice: 0.3320\n",
      "best mean dice: 0.3511 at epoch: 360\n",
      "current mean loss: 0.0674best mean loss: 0.0000at epoch: 0\n",
      "Epoch 380: 100%|██████████| 9/9 [00:15<00:00,  0.57it/s, v_num=7, train_loss=0.386, val_loss=0.364]"
     ]
    },
    {
     "name": "stderr",
     "output_type": "stream",
     "text": [
      "Epoch 380, global step 3429: 'val_loss' was not in top 1\n"
     ]
    },
    {
     "name": "stdout",
     "output_type": "stream",
     "text": [
      "Epoch 381: 100%|██████████| 9/9 [00:08<00:00,  1.02it/s, v_num=7, train_loss=0.311, val_loss=0.364]current epoch: 381 current mean dice: 0.3395\n",
      "best mean dice: 0.3511 at epoch: 360\n",
      "current mean loss: 0.0666best mean loss: 0.0000at epoch: 0\n",
      "Epoch 381: 100%|██████████| 9/9 [00:15<00:00,  0.57it/s, v_num=7, train_loss=0.311, val_loss=0.362]"
     ]
    },
    {
     "name": "stderr",
     "output_type": "stream",
     "text": [
      "Epoch 381, global step 3438: 'val_loss' was not in top 1\n"
     ]
    },
    {
     "name": "stdout",
     "output_type": "stream",
     "text": [
      "Epoch 382: 100%|██████████| 9/9 [00:08<00:00,  1.00it/s, v_num=7, train_loss=0.388, val_loss=0.362]current epoch: 382 current mean dice: 0.3466\n",
      "best mean dice: 0.3511 at epoch: 360\n",
      "current mean loss: 0.0664best mean loss: 0.0000at epoch: 0\n",
      "Epoch 382: 100%|██████████| 9/9 [00:15<00:00,  0.57it/s, v_num=7, train_loss=0.388, val_loss=0.358]"
     ]
    },
    {
     "name": "stderr",
     "output_type": "stream",
     "text": [
      "Epoch 382, global step 3447: 'val_loss' was not in top 1\n"
     ]
    },
    {
     "name": "stdout",
     "output_type": "stream",
     "text": [
      "Epoch 383: 100%|██████████| 9/9 [00:08<00:00,  1.02it/s, v_num=7, train_loss=0.398, val_loss=0.358]current epoch: 383 current mean dice: 0.3231\n",
      "best mean dice: 0.3511 at epoch: 360\n",
      "current mean loss: 0.0676best mean loss: 0.0000at epoch: 0\n",
      "Epoch 383: 100%|██████████| 9/9 [00:15<00:00,  0.57it/s, v_num=7, train_loss=0.398, val_loss=0.367]"
     ]
    },
    {
     "name": "stderr",
     "output_type": "stream",
     "text": [
      "Epoch 383, global step 3456: 'val_loss' was not in top 1\n"
     ]
    },
    {
     "name": "stdout",
     "output_type": "stream",
     "text": [
      "Epoch 384: 100%|██████████| 9/9 [00:08<00:00,  1.01it/s, v_num=7, train_loss=0.341, val_loss=0.367]current epoch: 384 current mean dice: 0.3180\n",
      "best mean dice: 0.3511 at epoch: 360\n",
      "current mean loss: 0.0684best mean loss: 0.0000at epoch: 0\n",
      "Epoch 384: 100%|██████████| 9/9 [00:15<00:00,  0.57it/s, v_num=7, train_loss=0.341, val_loss=0.369]"
     ]
    },
    {
     "name": "stderr",
     "output_type": "stream",
     "text": [
      "Epoch 384, global step 3465: 'val_loss' was not in top 1\n"
     ]
    },
    {
     "name": "stdout",
     "output_type": "stream",
     "text": [
      "Epoch 385: 100%|██████████| 9/9 [00:09<00:00,  0.99it/s, v_num=7, train_loss=0.386, val_loss=0.369]current epoch: 385 current mean dice: 0.3269\n",
      "best mean dice: 0.3511 at epoch: 360\n",
      "current mean loss: 0.0677best mean loss: 0.0000at epoch: 0\n",
      "Epoch 385: 100%|██████████| 9/9 [00:16<00:00,  0.56it/s, v_num=7, train_loss=0.386, val_loss=0.366]"
     ]
    },
    {
     "name": "stderr",
     "output_type": "stream",
     "text": [
      "Epoch 385, global step 3474: 'val_loss' was not in top 1\n"
     ]
    },
    {
     "name": "stdout",
     "output_type": "stream",
     "text": [
      "Epoch 386: 100%|██████████| 9/9 [00:08<00:00,  1.00it/s, v_num=7, train_loss=0.291, val_loss=0.366]current epoch: 386 current mean dice: 0.3381\n",
      "best mean dice: 0.3511 at epoch: 360\n",
      "current mean loss: 0.0667best mean loss: 0.0000at epoch: 0\n",
      "Epoch 386: 100%|██████████| 9/9 [00:15<00:00,  0.56it/s, v_num=7, train_loss=0.291, val_loss=0.361]"
     ]
    },
    {
     "name": "stderr",
     "output_type": "stream",
     "text": [
      "Epoch 386, global step 3483: 'val_loss' was not in top 1\n"
     ]
    },
    {
     "name": "stdout",
     "output_type": "stream",
     "text": [
      "Epoch 387: 100%|██████████| 9/9 [00:08<00:00,  1.03it/s, v_num=7, train_loss=0.360, val_loss=0.361]current epoch: 387 current mean dice: 0.3274\n",
      "best mean dice: 0.3511 at epoch: 360\n",
      "current mean loss: 0.0674best mean loss: 0.0000at epoch: 0\n",
      "Epoch 387: 100%|██████████| 9/9 [00:15<00:00,  0.57it/s, v_num=7, train_loss=0.360, val_loss=0.365]"
     ]
    },
    {
     "name": "stderr",
     "output_type": "stream",
     "text": [
      "Epoch 387, global step 3492: 'val_loss' was not in top 1\n"
     ]
    },
    {
     "name": "stdout",
     "output_type": "stream",
     "text": [
      "Epoch 388: 100%|██████████| 9/9 [00:08<00:00,  1.01it/s, v_num=7, train_loss=0.348, val_loss=0.365]current epoch: 388 current mean dice: 0.3272\n",
      "best mean dice: 0.3511 at epoch: 360\n",
      "current mean loss: 0.0672best mean loss: 0.0000at epoch: 0\n",
      "Epoch 388: 100%|██████████| 9/9 [00:15<00:00,  0.57it/s, v_num=7, train_loss=0.348, val_loss=0.366]"
     ]
    },
    {
     "name": "stderr",
     "output_type": "stream",
     "text": [
      "Epoch 388, global step 3501: 'val_loss' was not in top 1\n"
     ]
    },
    {
     "name": "stdout",
     "output_type": "stream",
     "text": [
      "Epoch 389: 100%|██████████| 9/9 [00:08<00:00,  1.01it/s, v_num=7, train_loss=0.374, val_loss=0.366]current epoch: 389 current mean dice: 0.3351\n",
      "best mean dice: 0.3511 at epoch: 360\n",
      "current mean loss: 0.0671best mean loss: 0.0000at epoch: 0\n",
      "Epoch 389: 100%|██████████| 9/9 [00:15<00:00,  0.57it/s, v_num=7, train_loss=0.374, val_loss=0.362]"
     ]
    },
    {
     "name": "stderr",
     "output_type": "stream",
     "text": [
      "Epoch 389, global step 3510: 'val_loss' was not in top 1\n"
     ]
    },
    {
     "name": "stdout",
     "output_type": "stream",
     "text": [
      "Epoch 390: 100%|██████████| 9/9 [00:08<00:00,  1.01it/s, v_num=7, train_loss=0.336, val_loss=0.362]current epoch: 390 current mean dice: 0.3425\n",
      "best mean dice: 0.3511 at epoch: 360\n",
      "current mean loss: 0.0659best mean loss: 0.0000at epoch: 0\n",
      "Epoch 390: 100%|██████████| 9/9 [00:15<00:00,  0.57it/s, v_num=7, train_loss=0.336, val_loss=0.359]"
     ]
    },
    {
     "name": "stderr",
     "output_type": "stream",
     "text": [
      "Epoch 390, global step 3519: 'val_loss' was not in top 1\n"
     ]
    },
    {
     "name": "stdout",
     "output_type": "stream",
     "text": [
      "Epoch 391: 100%|██████████| 9/9 [00:08<00:00,  1.02it/s, v_num=7, train_loss=0.395, val_loss=0.359]current epoch: 391 current mean dice: 0.3278\n",
      "best mean dice: 0.3511 at epoch: 360\n",
      "current mean loss: 0.0677best mean loss: 0.0000at epoch: 0\n",
      "Epoch 391: 100%|██████████| 9/9 [00:15<00:00,  0.57it/s, v_num=7, train_loss=0.395, val_loss=0.366]"
     ]
    },
    {
     "name": "stderr",
     "output_type": "stream",
     "text": [
      "Epoch 391, global step 3528: 'val_loss' was not in top 1\n"
     ]
    },
    {
     "name": "stdout",
     "output_type": "stream",
     "text": [
      "Epoch 392: 100%|██████████| 9/9 [00:08<00:00,  1.03it/s, v_num=7, train_loss=0.346, val_loss=0.366]current epoch: 392 current mean dice: 0.3381\n",
      "best mean dice: 0.3511 at epoch: 360\n",
      "current mean loss: 0.0676best mean loss: 0.0000at epoch: 0\n",
      "Epoch 392: 100%|██████████| 9/9 [00:15<00:00,  0.57it/s, v_num=7, train_loss=0.346, val_loss=0.361]"
     ]
    },
    {
     "name": "stderr",
     "output_type": "stream",
     "text": [
      "Epoch 392, global step 3537: 'val_loss' was not in top 1\n"
     ]
    },
    {
     "name": "stdout",
     "output_type": "stream",
     "text": [
      "Epoch 393: 100%|██████████| 9/9 [00:08<00:00,  1.02it/s, v_num=7, train_loss=0.374, val_loss=0.361]current epoch: 393 current mean dice: 0.3328\n",
      "best mean dice: 0.3511 at epoch: 360\n",
      "current mean loss: 0.0664best mean loss: 0.0000at epoch: 0\n",
      "Epoch 393: 100%|██████████| 9/9 [00:15<00:00,  0.57it/s, v_num=7, train_loss=0.374, val_loss=0.363]"
     ]
    },
    {
     "name": "stderr",
     "output_type": "stream",
     "text": [
      "Epoch 393, global step 3546: 'val_loss' was not in top 1\n"
     ]
    },
    {
     "name": "stdout",
     "output_type": "stream",
     "text": [
      "Epoch 394: 100%|██████████| 9/9 [00:08<00:00,  1.03it/s, v_num=7, train_loss=0.397, val_loss=0.363]current epoch: 394 current mean dice: 0.3188\n",
      "best mean dice: 0.3511 at epoch: 360\n",
      "current mean loss: 0.0684best mean loss: 0.0000at epoch: 0\n",
      "Epoch 394: 100%|██████████| 9/9 [00:15<00:00,  0.57it/s, v_num=7, train_loss=0.397, val_loss=0.369]"
     ]
    },
    {
     "name": "stderr",
     "output_type": "stream",
     "text": [
      "Epoch 394, global step 3555: 'val_loss' was not in top 1\n"
     ]
    },
    {
     "name": "stdout",
     "output_type": "stream",
     "text": [
      "Epoch 395: 100%|██████████| 9/9 [00:08<00:00,  1.01it/s, v_num=7, train_loss=0.317, val_loss=0.369]current epoch: 395 current mean dice: 0.3467\n",
      "best mean dice: 0.3511 at epoch: 360\n",
      "current mean loss: 0.0662best mean loss: 0.0000at epoch: 0\n",
      "Epoch 395: 100%|██████████| 9/9 [00:15<00:00,  0.57it/s, v_num=7, train_loss=0.317, val_loss=0.358]"
     ]
    },
    {
     "name": "stderr",
     "output_type": "stream",
     "text": [
      "Epoch 395, global step 3564: 'val_loss' was not in top 1\n"
     ]
    },
    {
     "name": "stdout",
     "output_type": "stream",
     "text": [
      "Epoch 396: 100%|██████████| 9/9 [00:08<00:00,  1.01it/s, v_num=7, train_loss=0.432, val_loss=0.358]current epoch: 396 current mean dice: 0.3312\n",
      "best mean dice: 0.3511 at epoch: 360\n",
      "current mean loss: 0.0671best mean loss: 0.0000at epoch: 0\n",
      "Epoch 396: 100%|██████████| 9/9 [00:15<00:00,  0.57it/s, v_num=7, train_loss=0.432, val_loss=0.364]"
     ]
    },
    {
     "name": "stderr",
     "output_type": "stream",
     "text": [
      "Epoch 396, global step 3573: 'val_loss' was not in top 1\n"
     ]
    },
    {
     "name": "stdout",
     "output_type": "stream",
     "text": [
      "Epoch 397: 100%|██████████| 9/9 [00:08<00:00,  1.02it/s, v_num=7, train_loss=0.248, val_loss=0.364]current epoch: 397 current mean dice: 0.3372\n",
      "best mean dice: 0.3511 at epoch: 360\n",
      "current mean loss: 0.0665best mean loss: 0.0000at epoch: 0\n",
      "Epoch 397: 100%|██████████| 9/9 [00:15<00:00,  0.57it/s, v_num=7, train_loss=0.248, val_loss=0.361]"
     ]
    },
    {
     "name": "stderr",
     "output_type": "stream",
     "text": [
      "Epoch 397, global step 3582: 'val_loss' was not in top 1\n"
     ]
    },
    {
     "name": "stdout",
     "output_type": "stream",
     "text": [
      "Epoch 398: 100%|██████████| 9/9 [00:08<00:00,  1.03it/s, v_num=7, train_loss=0.463, val_loss=0.361]current epoch: 398 current mean dice: 0.3419\n",
      "best mean dice: 0.3511 at epoch: 360\n",
      "current mean loss: 0.0665best mean loss: 0.0000at epoch: 0\n",
      "Epoch 398: 100%|██████████| 9/9 [00:15<00:00,  0.57it/s, v_num=7, train_loss=0.463, val_loss=0.359]"
     ]
    },
    {
     "name": "stderr",
     "output_type": "stream",
     "text": [
      "Epoch 398, global step 3591: 'val_loss' was not in top 1\n"
     ]
    },
    {
     "name": "stdout",
     "output_type": "stream",
     "text": [
      "Epoch 399: 100%|██████████| 9/9 [00:08<00:00,  1.01it/s, v_num=7, train_loss=0.414, val_loss=0.359]current epoch: 399 current mean dice: 0.3442\n",
      "best mean dice: 0.3511 at epoch: 360\n",
      "current mean loss: 0.0657best mean loss: 0.0000at epoch: 0\n",
      "Epoch 399: 100%|██████████| 9/9 [00:15<00:00,  0.57it/s, v_num=7, train_loss=0.414, val_loss=0.359]"
     ]
    },
    {
     "name": "stderr",
     "output_type": "stream",
     "text": [
      "Epoch 399, global step 3600: 'val_loss' was not in top 1\n"
     ]
    },
    {
     "name": "stdout",
     "output_type": "stream",
     "text": [
      "Epoch 400: 100%|██████████| 9/9 [00:08<00:00,  1.01it/s, v_num=7, train_loss=0.404, val_loss=0.359]current epoch: 400 current mean dice: 0.3530\n",
      "best mean dice: 0.3530 at epoch: 400\n",
      "current mean loss: 0.0651best mean loss: 0.0000at epoch: 0\n",
      "Epoch 400: 100%|██████████| 9/9 [00:15<00:00,  0.57it/s, v_num=7, train_loss=0.404, val_loss=0.355]"
     ]
    },
    {
     "name": "stderr",
     "output_type": "stream",
     "text": [
      "Epoch 400, global step 3609: 'val_loss' reached 0.35458 (best 0.35458), saving model to '/home/pawel/Documents/RISA/3D_segmentation/logger/checkpoints/epoch_400-0.35458.ckpt' as top 1\n"
     ]
    },
    {
     "name": "stdout",
     "output_type": "stream",
     "text": [
      "Epoch 401: 100%|██████████| 9/9 [00:08<00:00,  1.01it/s, v_num=7, train_loss=0.365, val_loss=0.355]current epoch: 401 current mean dice: 0.3407\n",
      "best mean dice: 0.3530 at epoch: 400\n",
      "current mean loss: 0.0664best mean loss: 0.0000at epoch: 0\n",
      "Epoch 401: 100%|██████████| 9/9 [00:15<00:00,  0.57it/s, v_num=7, train_loss=0.365, val_loss=0.360]"
     ]
    },
    {
     "name": "stderr",
     "output_type": "stream",
     "text": [
      "Epoch 401, global step 3618: 'val_loss' was not in top 1\n"
     ]
    },
    {
     "name": "stdout",
     "output_type": "stream",
     "text": [
      "Epoch 402: 100%|██████████| 9/9 [00:08<00:00,  1.00it/s, v_num=7, train_loss=0.322, val_loss=0.360]current epoch: 402 current mean dice: 0.3380\n",
      "best mean dice: 0.3530 at epoch: 400\n",
      "current mean loss: 0.0666best mean loss: 0.0000at epoch: 0\n",
      "Epoch 402: 100%|██████████| 9/9 [00:15<00:00,  0.57it/s, v_num=7, train_loss=0.322, val_loss=0.361]"
     ]
    },
    {
     "name": "stderr",
     "output_type": "stream",
     "text": [
      "Epoch 402, global step 3627: 'val_loss' was not in top 1\n"
     ]
    },
    {
     "name": "stdout",
     "output_type": "stream",
     "text": [
      "Epoch 403: 100%|██████████| 9/9 [00:08<00:00,  1.01it/s, v_num=7, train_loss=0.478, val_loss=0.361]current epoch: 403 current mean dice: 0.3397\n",
      "best mean dice: 0.3530 at epoch: 400\n",
      "current mean loss: 0.0666best mean loss: 0.0000at epoch: 0\n",
      "Epoch 403: 100%|██████████| 9/9 [00:15<00:00,  0.57it/s, v_num=7, train_loss=0.478, val_loss=0.360]"
     ]
    },
    {
     "name": "stderr",
     "output_type": "stream",
     "text": [
      "Epoch 403, global step 3636: 'val_loss' was not in top 1\n"
     ]
    },
    {
     "name": "stdout",
     "output_type": "stream",
     "text": [
      "Epoch 404: 100%|██████████| 9/9 [00:08<00:00,  1.02it/s, v_num=7, train_loss=0.407, val_loss=0.360]current epoch: 404 current mean dice: 0.3323\n",
      "best mean dice: 0.3530 at epoch: 400\n",
      "current mean loss: 0.0669best mean loss: 0.0000at epoch: 0\n",
      "Epoch 404: 100%|██████████| 9/9 [00:15<00:00,  0.57it/s, v_num=7, train_loss=0.407, val_loss=0.363]"
     ]
    },
    {
     "name": "stderr",
     "output_type": "stream",
     "text": [
      "Epoch 404, global step 3645: 'val_loss' was not in top 1\n"
     ]
    },
    {
     "name": "stdout",
     "output_type": "stream",
     "text": [
      "Epoch 405: 100%|██████████| 9/9 [00:08<00:00,  1.01it/s, v_num=7, train_loss=0.387, val_loss=0.363]current epoch: 405 current mean dice: 0.3479\n",
      "best mean dice: 0.3530 at epoch: 400\n",
      "current mean loss: 0.0658best mean loss: 0.0000at epoch: 0\n",
      "Epoch 405: 100%|██████████| 9/9 [00:15<00:00,  0.57it/s, v_num=7, train_loss=0.387, val_loss=0.357]"
     ]
    },
    {
     "name": "stderr",
     "output_type": "stream",
     "text": [
      "Epoch 405, global step 3654: 'val_loss' was not in top 1\n"
     ]
    },
    {
     "name": "stdout",
     "output_type": "stream",
     "text": [
      "Epoch 406: 100%|██████████| 9/9 [00:09<00:00,  1.00it/s, v_num=7, train_loss=0.364, val_loss=0.357]current epoch: 406 current mean dice: 0.3410\n",
      "best mean dice: 0.3530 at epoch: 400\n",
      "current mean loss: 0.0664best mean loss: 0.0000at epoch: 0\n",
      "Epoch 406: 100%|██████████| 9/9 [00:15<00:00,  0.56it/s, v_num=7, train_loss=0.364, val_loss=0.360]"
     ]
    },
    {
     "name": "stderr",
     "output_type": "stream",
     "text": [
      "Epoch 406, global step 3663: 'val_loss' was not in top 1\n"
     ]
    },
    {
     "name": "stdout",
     "output_type": "stream",
     "text": [
      "Epoch 407: 100%|██████████| 9/9 [00:09<00:00,  0.98it/s, v_num=7, train_loss=0.274, val_loss=0.360]current epoch: 407 current mean dice: 0.3376\n",
      "best mean dice: 0.3530 at epoch: 400\n",
      "current mean loss: 0.0670best mean loss: 0.0000at epoch: 0\n",
      "Epoch 407: 100%|██████████| 9/9 [00:16<00:00,  0.56it/s, v_num=7, train_loss=0.274, val_loss=0.362]"
     ]
    },
    {
     "name": "stderr",
     "output_type": "stream",
     "text": [
      "Epoch 407, global step 3672: 'val_loss' was not in top 1\n"
     ]
    },
    {
     "name": "stdout",
     "output_type": "stream",
     "text": [
      "Epoch 408: 100%|██████████| 9/9 [00:08<00:00,  1.01it/s, v_num=7, train_loss=0.306, val_loss=0.362]current epoch: 408 current mean dice: 0.3546\n",
      "best mean dice: 0.3546 at epoch: 408\n",
      "current mean loss: 0.0660best mean loss: 0.0000at epoch: 0\n",
      "Epoch 408: 100%|██████████| 9/9 [00:15<00:00,  0.57it/s, v_num=7, train_loss=0.306, val_loss=0.355]"
     ]
    },
    {
     "name": "stderr",
     "output_type": "stream",
     "text": [
      "Epoch 408, global step 3681: 'val_loss' was not in top 1\n"
     ]
    },
    {
     "name": "stdout",
     "output_type": "stream",
     "text": [
      "Epoch 409: 100%|██████████| 9/9 [00:08<00:00,  1.01it/s, v_num=7, train_loss=0.401, val_loss=0.355]current epoch: 409 current mean dice: 0.3196\n",
      "best mean dice: 0.3546 at epoch: 408\n",
      "current mean loss: 0.0681best mean loss: 0.0000at epoch: 0\n",
      "Epoch 409: 100%|██████████| 9/9 [00:15<00:00,  0.57it/s, v_num=7, train_loss=0.401, val_loss=0.369]"
     ]
    },
    {
     "name": "stderr",
     "output_type": "stream",
     "text": [
      "Epoch 409, global step 3690: 'val_loss' was not in top 1\n"
     ]
    },
    {
     "name": "stdout",
     "output_type": "stream",
     "text": [
      "Epoch 410: 100%|██████████| 9/9 [00:09<00:00,  1.00it/s, v_num=7, train_loss=0.301, val_loss=0.369]current epoch: 410 current mean dice: 0.3340\n",
      "best mean dice: 0.3546 at epoch: 408\n",
      "current mean loss: 0.0668best mean loss: 0.0000at epoch: 0\n",
      "Epoch 410: 100%|██████████| 9/9 [00:15<00:00,  0.56it/s, v_num=7, train_loss=0.301, val_loss=0.364]"
     ]
    },
    {
     "name": "stderr",
     "output_type": "stream",
     "text": [
      "Epoch 410, global step 3699: 'val_loss' was not in top 1\n"
     ]
    },
    {
     "name": "stdout",
     "output_type": "stream",
     "text": [
      "Epoch 411: 100%|██████████| 9/9 [00:08<00:00,  1.01it/s, v_num=7, train_loss=0.374, val_loss=0.364]current epoch: 411 current mean dice: 0.3433\n",
      "best mean dice: 0.3546 at epoch: 408\n",
      "current mean loss: 0.0662best mean loss: 0.0000at epoch: 0\n",
      "Epoch 411: 100%|██████████| 9/9 [00:15<00:00,  0.57it/s, v_num=7, train_loss=0.374, val_loss=0.359]"
     ]
    },
    {
     "name": "stderr",
     "output_type": "stream",
     "text": [
      "Epoch 411, global step 3708: 'val_loss' was not in top 1\n"
     ]
    },
    {
     "name": "stdout",
     "output_type": "stream",
     "text": [
      "Epoch 412: 100%|██████████| 9/9 [00:08<00:00,  1.02it/s, v_num=7, train_loss=0.372, val_loss=0.359]current epoch: 412 current mean dice: 0.3333\n",
      "best mean dice: 0.3546 at epoch: 408\n",
      "current mean loss: 0.0674best mean loss: 0.0000at epoch: 0\n",
      "Epoch 412: 100%|██████████| 9/9 [00:15<00:00,  0.57it/s, v_num=7, train_loss=0.372, val_loss=0.363]"
     ]
    },
    {
     "name": "stderr",
     "output_type": "stream",
     "text": [
      "Epoch 412, global step 3717: 'val_loss' was not in top 1\n"
     ]
    },
    {
     "name": "stdout",
     "output_type": "stream",
     "text": [
      "Epoch 413: 100%|██████████| 9/9 [00:08<00:00,  1.01it/s, v_num=7, train_loss=0.317, val_loss=0.363]current epoch: 413 current mean dice: 0.3327\n",
      "best mean dice: 0.3546 at epoch: 408\n",
      "current mean loss: 0.0669best mean loss: 0.0000at epoch: 0\n",
      "Epoch 413: 100%|██████████| 9/9 [00:15<00:00,  0.57it/s, v_num=7, train_loss=0.317, val_loss=0.363]"
     ]
    },
    {
     "name": "stderr",
     "output_type": "stream",
     "text": [
      "Epoch 413, global step 3726: 'val_loss' was not in top 1\n"
     ]
    },
    {
     "name": "stdout",
     "output_type": "stream",
     "text": [
      "Epoch 414: 100%|██████████| 9/9 [00:09<00:00,  1.00it/s, v_num=7, train_loss=0.399, val_loss=0.363]current epoch: 414 current mean dice: 0.3458\n",
      "best mean dice: 0.3546 at epoch: 408\n",
      "current mean loss: 0.0664best mean loss: 0.0000at epoch: 0\n",
      "Epoch 414: 100%|██████████| 9/9 [00:15<00:00,  0.56it/s, v_num=7, train_loss=0.399, val_loss=0.358]"
     ]
    },
    {
     "name": "stderr",
     "output_type": "stream",
     "text": [
      "Epoch 414, global step 3735: 'val_loss' was not in top 1\n"
     ]
    },
    {
     "name": "stdout",
     "output_type": "stream",
     "text": [
      "Epoch 415: 100%|██████████| 9/9 [00:08<00:00,  1.01it/s, v_num=7, train_loss=0.431, val_loss=0.358]current epoch: 415 current mean dice: 0.3504\n",
      "best mean dice: 0.3546 at epoch: 408\n",
      "current mean loss: 0.0662best mean loss: 0.0000at epoch: 0\n",
      "Epoch 415: 100%|██████████| 9/9 [00:15<00:00,  0.57it/s, v_num=7, train_loss=0.431, val_loss=0.360]"
     ]
    },
    {
     "name": "stderr",
     "output_type": "stream",
     "text": [
      "Epoch 415, global step 3744: 'val_loss' was not in top 1\n"
     ]
    },
    {
     "name": "stdout",
     "output_type": "stream",
     "text": [
      "Epoch 416: 100%|██████████| 9/9 [00:08<00:00,  1.04it/s, v_num=7, train_loss=0.350, val_loss=0.360]current epoch: 416 current mean dice: 0.3380\n",
      "best mean dice: 0.3546 at epoch: 408\n",
      "current mean loss: 0.0669best mean loss: 0.0000at epoch: 0\n",
      "Epoch 416: 100%|██████████| 9/9 [00:15<00:00,  0.58it/s, v_num=7, train_loss=0.350, val_loss=0.361]"
     ]
    },
    {
     "name": "stderr",
     "output_type": "stream",
     "text": [
      "Epoch 416, global step 3753: 'val_loss' was not in top 1\n"
     ]
    },
    {
     "name": "stdout",
     "output_type": "stream",
     "text": [
      "Epoch 417: 100%|██████████| 9/9 [00:08<00:00,  1.00it/s, v_num=7, train_loss=0.377, val_loss=0.361]current epoch: 417 current mean dice: 0.3418\n",
      "best mean dice: 0.3546 at epoch: 408\n",
      "current mean loss: 0.0661best mean loss: 0.0000at epoch: 0\n",
      "Epoch 417: 100%|██████████| 9/9 [00:15<00:00,  0.57it/s, v_num=7, train_loss=0.377, val_loss=0.360]"
     ]
    },
    {
     "name": "stderr",
     "output_type": "stream",
     "text": [
      "Epoch 417, global step 3762: 'val_loss' was not in top 1\n"
     ]
    },
    {
     "name": "stdout",
     "output_type": "stream",
     "text": [
      "Epoch 418: 100%|██████████| 9/9 [00:08<00:00,  1.01it/s, v_num=7, train_loss=0.313, val_loss=0.360]current epoch: 418 current mean dice: 0.3290\n",
      "best mean dice: 0.3546 at epoch: 408\n",
      "current mean loss: 0.0676best mean loss: 0.0000at epoch: 0\n",
      "Epoch 418: 100%|██████████| 9/9 [00:15<00:00,  0.57it/s, v_num=7, train_loss=0.313, val_loss=0.366]"
     ]
    },
    {
     "name": "stderr",
     "output_type": "stream",
     "text": [
      "Epoch 418, global step 3771: 'val_loss' was not in top 1\n"
     ]
    },
    {
     "name": "stdout",
     "output_type": "stream",
     "text": [
      "Epoch 419: 100%|██████████| 9/9 [00:08<00:00,  1.02it/s, v_num=7, train_loss=0.329, val_loss=0.366]current epoch: 419 current mean dice: 0.3367\n",
      "best mean dice: 0.3546 at epoch: 408\n",
      "current mean loss: 0.0667best mean loss: 0.0000at epoch: 0\n",
      "Epoch 419: 100%|██████████| 9/9 [00:15<00:00,  0.57it/s, v_num=7, train_loss=0.329, val_loss=0.362]"
     ]
    },
    {
     "name": "stderr",
     "output_type": "stream",
     "text": [
      "Epoch 419, global step 3780: 'val_loss' was not in top 1\n"
     ]
    },
    {
     "name": "stdout",
     "output_type": "stream",
     "text": [
      "Epoch 420: 100%|██████████| 9/9 [00:08<00:00,  1.01it/s, v_num=7, train_loss=0.297, val_loss=0.362]current epoch: 420 current mean dice: 0.3243\n",
      "best mean dice: 0.3546 at epoch: 408\n",
      "current mean loss: 0.0678best mean loss: 0.0000at epoch: 0\n",
      "Epoch 420: 100%|██████████| 9/9 [00:15<00:00,  0.57it/s, v_num=7, train_loss=0.297, val_loss=0.367]"
     ]
    },
    {
     "name": "stderr",
     "output_type": "stream",
     "text": [
      "Epoch 420, global step 3789: 'val_loss' was not in top 1\n"
     ]
    },
    {
     "name": "stdout",
     "output_type": "stream",
     "text": [
      "Epoch 421: 100%|██████████| 9/9 [00:08<00:00,  1.01it/s, v_num=7, train_loss=0.363, val_loss=0.367]current epoch: 421 current mean dice: 0.3430\n",
      "best mean dice: 0.3546 at epoch: 408\n",
      "current mean loss: 0.0661best mean loss: 0.0000at epoch: 0\n",
      "Epoch 421: 100%|██████████| 9/9 [00:15<00:00,  0.57it/s, v_num=7, train_loss=0.363, val_loss=0.359]"
     ]
    },
    {
     "name": "stderr",
     "output_type": "stream",
     "text": [
      "Epoch 421, global step 3798: 'val_loss' was not in top 1\n"
     ]
    },
    {
     "name": "stdout",
     "output_type": "stream",
     "text": [
      "Epoch 422: 100%|██████████| 9/9 [00:08<00:00,  1.01it/s, v_num=7, train_loss=0.310, val_loss=0.359]current epoch: 422 current mean dice: 0.3615\n",
      "best mean dice: 0.3615 at epoch: 422\n",
      "current mean loss: 0.0643best mean loss: 0.0000at epoch: 0\n",
      "Epoch 422: 100%|██████████| 9/9 [00:15<00:00,  0.57it/s, v_num=7, train_loss=0.310, val_loss=0.351]"
     ]
    },
    {
     "name": "stderr",
     "output_type": "stream",
     "text": [
      "Epoch 422, global step 3807: 'val_loss' reached 0.35113 (best 0.35113), saving model to '/home/pawel/Documents/RISA/3D_segmentation/logger/checkpoints/epoch_422-0.35113.ckpt' as top 1\n"
     ]
    },
    {
     "name": "stdout",
     "output_type": "stream",
     "text": [
      "Epoch 423: 100%|██████████| 9/9 [00:08<00:00,  1.01it/s, v_num=7, train_loss=0.394, val_loss=0.351]current epoch: 423 current mean dice: 0.3345\n",
      "best mean dice: 0.3615 at epoch: 422\n",
      "current mean loss: 0.0668best mean loss: 0.0000at epoch: 0\n",
      "Epoch 423: 100%|██████████| 9/9 [00:15<00:00,  0.57it/s, v_num=7, train_loss=0.394, val_loss=0.362]"
     ]
    },
    {
     "name": "stderr",
     "output_type": "stream",
     "text": [
      "Epoch 423, global step 3816: 'val_loss' was not in top 1\n"
     ]
    },
    {
     "name": "stdout",
     "output_type": "stream",
     "text": [
      "Epoch 424: 100%|██████████| 9/9 [00:08<00:00,  1.00it/s, v_num=7, train_loss=0.288, val_loss=0.362]current epoch: 424 current mean dice: 0.3179\n",
      "best mean dice: 0.3615 at epoch: 422\n",
      "current mean loss: 0.0693best mean loss: 0.0000at epoch: 0\n",
      "Epoch 424: 100%|██████████| 9/9 [00:15<00:00,  0.57it/s, v_num=7, train_loss=0.288, val_loss=0.373]"
     ]
    },
    {
     "name": "stderr",
     "output_type": "stream",
     "text": [
      "Epoch 424, global step 3825: 'val_loss' was not in top 1\n"
     ]
    },
    {
     "name": "stdout",
     "output_type": "stream",
     "text": [
      "Epoch 425: 100%|██████████| 9/9 [00:08<00:00,  1.01it/s, v_num=7, train_loss=0.356, val_loss=0.373]current epoch: 425 current mean dice: 0.3426\n",
      "best mean dice: 0.3615 at epoch: 422\n",
      "current mean loss: 0.0675best mean loss: 0.0000at epoch: 0\n",
      "Epoch 425: 100%|██████████| 9/9 [00:15<00:00,  0.57it/s, v_num=7, train_loss=0.356, val_loss=0.360]"
     ]
    },
    {
     "name": "stderr",
     "output_type": "stream",
     "text": [
      "Epoch 425, global step 3834: 'val_loss' was not in top 1\n"
     ]
    },
    {
     "name": "stdout",
     "output_type": "stream",
     "text": [
      "Epoch 426: 100%|██████████| 9/9 [00:08<00:00,  1.03it/s, v_num=7, train_loss=0.304, val_loss=0.360]current epoch: 426 current mean dice: 0.3338\n",
      "best mean dice: 0.3615 at epoch: 422\n",
      "current mean loss: 0.0678best mean loss: 0.0000at epoch: 0\n",
      "Epoch 426: 100%|██████████| 9/9 [00:15<00:00,  0.57it/s, v_num=7, train_loss=0.304, val_loss=0.363]"
     ]
    },
    {
     "name": "stderr",
     "output_type": "stream",
     "text": [
      "Epoch 426, global step 3843: 'val_loss' was not in top 1\n"
     ]
    },
    {
     "name": "stdout",
     "output_type": "stream",
     "text": [
      "Epoch 427: 100%|██████████| 9/9 [00:08<00:00,  1.02it/s, v_num=7, train_loss=0.419, val_loss=0.363]current epoch: 427 current mean dice: 0.3185\n",
      "best mean dice: 0.3615 at epoch: 422\n",
      "current mean loss: 0.0680best mean loss: 0.0000at epoch: 0\n",
      "Epoch 427: 100%|██████████| 9/9 [00:15<00:00,  0.57it/s, v_num=7, train_loss=0.419, val_loss=0.369]"
     ]
    },
    {
     "name": "stderr",
     "output_type": "stream",
     "text": [
      "Epoch 427, global step 3852: 'val_loss' was not in top 1\n"
     ]
    },
    {
     "name": "stdout",
     "output_type": "stream",
     "text": [
      "Epoch 428: 100%|██████████| 9/9 [00:08<00:00,  1.01it/s, v_num=7, train_loss=0.328, val_loss=0.369]current epoch: 428 current mean dice: 0.3473\n",
      "best mean dice: 0.3615 at epoch: 422\n",
      "current mean loss: 0.0662best mean loss: 0.0000at epoch: 0\n",
      "Epoch 428: 100%|██████████| 9/9 [00:15<00:00,  0.57it/s, v_num=7, train_loss=0.328, val_loss=0.357]"
     ]
    },
    {
     "name": "stderr",
     "output_type": "stream",
     "text": [
      "Epoch 428, global step 3861: 'val_loss' was not in top 1\n"
     ]
    },
    {
     "name": "stdout",
     "output_type": "stream",
     "text": [
      "Epoch 429: 100%|██████████| 9/9 [00:08<00:00,  1.01it/s, v_num=7, train_loss=0.304, val_loss=0.357]current epoch: 429 current mean dice: 0.3353\n",
      "best mean dice: 0.3615 at epoch: 422\n",
      "current mean loss: 0.0668best mean loss: 0.0000at epoch: 0\n",
      "Epoch 429: 100%|██████████| 9/9 [00:15<00:00,  0.57it/s, v_num=7, train_loss=0.304, val_loss=0.362]"
     ]
    },
    {
     "name": "stderr",
     "output_type": "stream",
     "text": [
      "Epoch 429, global step 3870: 'val_loss' was not in top 1\n"
     ]
    },
    {
     "name": "stdout",
     "output_type": "stream",
     "text": [
      "Epoch 430: 100%|██████████| 9/9 [00:08<00:00,  1.00it/s, v_num=7, train_loss=0.384, val_loss=0.362]current epoch: 430 current mean dice: 0.3393\n",
      "best mean dice: 0.3615 at epoch: 422\n",
      "current mean loss: 0.0670best mean loss: 0.0000at epoch: 0\n",
      "Epoch 430: 100%|██████████| 9/9 [00:15<00:00,  0.56it/s, v_num=7, train_loss=0.384, val_loss=0.360]"
     ]
    },
    {
     "name": "stderr",
     "output_type": "stream",
     "text": [
      "Epoch 430, global step 3879: 'val_loss' was not in top 1\n"
     ]
    },
    {
     "name": "stdout",
     "output_type": "stream",
     "text": [
      "Epoch 431: 100%|██████████| 9/9 [00:08<00:00,  1.00it/s, v_num=7, train_loss=0.399, val_loss=0.360]current epoch: 431 current mean dice: 0.3309\n",
      "best mean dice: 0.3615 at epoch: 422\n",
      "current mean loss: 0.0672best mean loss: 0.0000at epoch: 0\n",
      "Epoch 431: 100%|██████████| 9/9 [00:15<00:00,  0.56it/s, v_num=7, train_loss=0.399, val_loss=0.364]"
     ]
    },
    {
     "name": "stderr",
     "output_type": "stream",
     "text": [
      "Epoch 431, global step 3888: 'val_loss' was not in top 1\n"
     ]
    },
    {
     "name": "stdout",
     "output_type": "stream",
     "text": [
      "Epoch 432: 100%|██████████| 9/9 [00:08<00:00,  1.02it/s, v_num=7, train_loss=0.343, val_loss=0.364]current epoch: 432 current mean dice: 0.3208\n",
      "best mean dice: 0.3615 at epoch: 422\n",
      "current mean loss: 0.0683best mean loss: 0.0000at epoch: 0\n",
      "Epoch 432: 100%|██████████| 9/9 [00:15<00:00,  0.57it/s, v_num=7, train_loss=0.343, val_loss=0.368]"
     ]
    },
    {
     "name": "stderr",
     "output_type": "stream",
     "text": [
      "Epoch 432, global step 3897: 'val_loss' was not in top 1\n"
     ]
    },
    {
     "name": "stdout",
     "output_type": "stream",
     "text": [
      "Epoch 433: 100%|██████████| 9/9 [00:08<00:00,  1.03it/s, v_num=7, train_loss=0.348, val_loss=0.368]current epoch: 433 current mean dice: 0.3371\n",
      "best mean dice: 0.3615 at epoch: 422\n",
      "current mean loss: 0.0669best mean loss: 0.0000at epoch: 0\n",
      "Epoch 433: 100%|██████████| 9/9 [00:15<00:00,  0.57it/s, v_num=7, train_loss=0.348, val_loss=0.361]"
     ]
    },
    {
     "name": "stderr",
     "output_type": "stream",
     "text": [
      "Epoch 433, global step 3906: 'val_loss' was not in top 1\n"
     ]
    },
    {
     "name": "stdout",
     "output_type": "stream",
     "text": [
      "Epoch 434: 100%|██████████| 9/9 [00:08<00:00,  1.02it/s, v_num=7, train_loss=0.344, val_loss=0.361]current epoch: 434 current mean dice: 0.3486\n",
      "best mean dice: 0.3615 at epoch: 422\n",
      "current mean loss: 0.0658best mean loss: 0.0000at epoch: 0\n",
      "Epoch 434: 100%|██████████| 9/9 [00:15<00:00,  0.57it/s, v_num=7, train_loss=0.344, val_loss=0.357]"
     ]
    },
    {
     "name": "stderr",
     "output_type": "stream",
     "text": [
      "Epoch 434, global step 3915: 'val_loss' was not in top 1\n"
     ]
    },
    {
     "name": "stdout",
     "output_type": "stream",
     "text": [
      "Epoch 435: 100%|██████████| 9/9 [00:08<00:00,  1.02it/s, v_num=7, train_loss=0.330, val_loss=0.357]current epoch: 435 current mean dice: 0.3426\n",
      "best mean dice: 0.3615 at epoch: 422\n",
      "current mean loss: 0.0662best mean loss: 0.0000at epoch: 0\n",
      "Epoch 435: 100%|██████████| 9/9 [00:15<00:00,  0.57it/s, v_num=7, train_loss=0.330, val_loss=0.358]"
     ]
    },
    {
     "name": "stderr",
     "output_type": "stream",
     "text": [
      "Epoch 435, global step 3924: 'val_loss' was not in top 1\n"
     ]
    },
    {
     "name": "stdout",
     "output_type": "stream",
     "text": [
      "Epoch 436: 100%|██████████| 9/9 [00:08<00:00,  1.00it/s, v_num=7, train_loss=0.364, val_loss=0.358]current epoch: 436 current mean dice: 0.3366\n",
      "best mean dice: 0.3615 at epoch: 422\n",
      "current mean loss: 0.0667best mean loss: 0.0000at epoch: 0\n",
      "Epoch 436: 100%|██████████| 9/9 [00:15<00:00,  0.57it/s, v_num=7, train_loss=0.364, val_loss=0.361]"
     ]
    },
    {
     "name": "stderr",
     "output_type": "stream",
     "text": [
      "Epoch 436, global step 3933: 'val_loss' was not in top 1\n"
     ]
    },
    {
     "name": "stdout",
     "output_type": "stream",
     "text": [
      "Epoch 437: 100%|██████████| 9/9 [00:08<00:00,  1.02it/s, v_num=7, train_loss=0.262, val_loss=0.361]current epoch: 437 current mean dice: 0.3444\n",
      "best mean dice: 0.3615 at epoch: 422\n",
      "current mean loss: 0.0661best mean loss: 0.0000at epoch: 0\n",
      "Epoch 437: 100%|██████████| 9/9 [00:15<00:00,  0.57it/s, v_num=7, train_loss=0.262, val_loss=0.359]"
     ]
    },
    {
     "name": "stderr",
     "output_type": "stream",
     "text": [
      "Epoch 437, global step 3942: 'val_loss' was not in top 1\n"
     ]
    },
    {
     "name": "stdout",
     "output_type": "stream",
     "text": [
      "Epoch 438: 100%|██████████| 9/9 [00:09<00:00,  1.00it/s, v_num=7, train_loss=0.369, val_loss=0.359]current epoch: 438 current mean dice: 0.3367\n",
      "best mean dice: 0.3615 at epoch: 422\n",
      "current mean loss: 0.0668best mean loss: 0.0000at epoch: 0\n",
      "Epoch 438: 100%|██████████| 9/9 [00:15<00:00,  0.56it/s, v_num=7, train_loss=0.369, val_loss=0.362]"
     ]
    },
    {
     "name": "stderr",
     "output_type": "stream",
     "text": [
      "Epoch 438, global step 3951: 'val_loss' was not in top 1\n"
     ]
    },
    {
     "name": "stdout",
     "output_type": "stream",
     "text": [
      "Epoch 439: 100%|██████████| 9/9 [00:08<00:00,  1.01it/s, v_num=7, train_loss=0.356, val_loss=0.362]current epoch: 439 current mean dice: 0.3187\n",
      "best mean dice: 0.3615 at epoch: 422\n",
      "current mean loss: 0.0687best mean loss: 0.0000at epoch: 0\n",
      "Epoch 439: 100%|██████████| 9/9 [00:15<00:00,  0.57it/s, v_num=7, train_loss=0.356, val_loss=0.368]"
     ]
    },
    {
     "name": "stderr",
     "output_type": "stream",
     "text": [
      "Epoch 439, global step 3960: 'val_loss' was not in top 1\n"
     ]
    },
    {
     "name": "stdout",
     "output_type": "stream",
     "text": [
      "Epoch 440: 100%|██████████| 9/9 [00:08<00:00,  1.03it/s, v_num=7, train_loss=0.285, val_loss=0.368]current epoch: 440 current mean dice: 0.3184\n",
      "best mean dice: 0.3615 at epoch: 422\n",
      "current mean loss: 0.0678best mean loss: 0.0000at epoch: 0\n",
      "Epoch 440: 100%|██████████| 9/9 [00:15<00:00,  0.57it/s, v_num=7, train_loss=0.285, val_loss=0.369]"
     ]
    },
    {
     "name": "stderr",
     "output_type": "stream",
     "text": [
      "Epoch 440, global step 3969: 'val_loss' was not in top 1\n"
     ]
    },
    {
     "name": "stdout",
     "output_type": "stream",
     "text": [
      "Epoch 441: 100%|██████████| 9/9 [00:09<00:00,  0.98it/s, v_num=7, train_loss=0.330, val_loss=0.369]current epoch: 441 current mean dice: 0.3221\n",
      "best mean dice: 0.3615 at epoch: 422\n",
      "current mean loss: 0.0685best mean loss: 0.0000at epoch: 0\n",
      "Epoch 441: 100%|██████████| 9/9 [00:16<00:00,  0.56it/s, v_num=7, train_loss=0.330, val_loss=0.368]"
     ]
    },
    {
     "name": "stderr",
     "output_type": "stream",
     "text": [
      "Epoch 441, global step 3978: 'val_loss' was not in top 1\n"
     ]
    },
    {
     "name": "stdout",
     "output_type": "stream",
     "text": [
      "Epoch 442: 100%|██████████| 9/9 [00:08<00:00,  1.03it/s, v_num=7, train_loss=0.292, val_loss=0.368]current epoch: 442 current mean dice: 0.3392\n",
      "best mean dice: 0.3615 at epoch: 422\n",
      "current mean loss: 0.0668best mean loss: 0.0000at epoch: 0\n",
      "Epoch 442: 100%|██████████| 9/9 [00:15<00:00,  0.57it/s, v_num=7, train_loss=0.292, val_loss=0.361]"
     ]
    },
    {
     "name": "stderr",
     "output_type": "stream",
     "text": [
      "Epoch 442, global step 3987: 'val_loss' was not in top 1\n"
     ]
    },
    {
     "name": "stdout",
     "output_type": "stream",
     "text": [
      "Epoch 443: 100%|██████████| 9/9 [00:08<00:00,  1.01it/s, v_num=7, train_loss=0.414, val_loss=0.361]current epoch: 443 current mean dice: 0.3465\n",
      "best mean dice: 0.3615 at epoch: 422\n",
      "current mean loss: 0.0659best mean loss: 0.0000at epoch: 0\n",
      "Epoch 443: 100%|██████████| 9/9 [00:15<00:00,  0.57it/s, v_num=7, train_loss=0.414, val_loss=0.357]"
     ]
    },
    {
     "name": "stderr",
     "output_type": "stream",
     "text": [
      "Epoch 443, global step 3996: 'val_loss' was not in top 1\n"
     ]
    },
    {
     "name": "stdout",
     "output_type": "stream",
     "text": [
      "Epoch 444: 100%|██████████| 9/9 [00:09<00:00,  1.00it/s, v_num=7, train_loss=0.355, val_loss=0.357]current epoch: 444 current mean dice: 0.3597\n",
      "best mean dice: 0.3615 at epoch: 422\n",
      "current mean loss: 0.0649best mean loss: 0.0000at epoch: 0\n",
      "Epoch 444: 100%|██████████| 9/9 [00:15<00:00,  0.56it/s, v_num=7, train_loss=0.355, val_loss=0.352]"
     ]
    },
    {
     "name": "stderr",
     "output_type": "stream",
     "text": [
      "Epoch 444, global step 4005: 'val_loss' was not in top 1\n"
     ]
    },
    {
     "name": "stdout",
     "output_type": "stream",
     "text": [
      "Epoch 445: 100%|██████████| 9/9 [00:08<00:00,  1.02it/s, v_num=7, train_loss=0.350, val_loss=0.352]current epoch: 445 current mean dice: 0.3524\n",
      "best mean dice: 0.3615 at epoch: 422\n",
      "current mean loss: 0.0655best mean loss: 0.0000at epoch: 0\n",
      "Epoch 445: 100%|██████████| 9/9 [00:15<00:00,  0.57it/s, v_num=7, train_loss=0.350, val_loss=0.356]"
     ]
    },
    {
     "name": "stderr",
     "output_type": "stream",
     "text": [
      "Epoch 445, global step 4014: 'val_loss' was not in top 1\n"
     ]
    },
    {
     "name": "stdout",
     "output_type": "stream",
     "text": [
      "Epoch 446: 100%|██████████| 9/9 [00:09<00:00,  1.00it/s, v_num=7, train_loss=0.337, val_loss=0.356]current epoch: 446 current mean dice: 0.3529\n",
      "best mean dice: 0.3615 at epoch: 422\n",
      "current mean loss: 0.0653best mean loss: 0.0000at epoch: 0\n",
      "Epoch 446: 100%|██████████| 9/9 [00:15<00:00,  0.57it/s, v_num=7, train_loss=0.337, val_loss=0.354]"
     ]
    },
    {
     "name": "stderr",
     "output_type": "stream",
     "text": [
      "Epoch 446, global step 4023: 'val_loss' was not in top 1\n"
     ]
    },
    {
     "name": "stdout",
     "output_type": "stream",
     "text": [
      "Epoch 447: 100%|██████████| 9/9 [00:08<00:00,  1.01it/s, v_num=7, train_loss=0.310, val_loss=0.354]current epoch: 447 current mean dice: 0.3389\n",
      "best mean dice: 0.3615 at epoch: 422\n",
      "current mean loss: 0.0670best mean loss: 0.0000at epoch: 0\n",
      "Epoch 447: 100%|██████████| 9/9 [00:15<00:00,  0.57it/s, v_num=7, train_loss=0.310, val_loss=0.360]"
     ]
    },
    {
     "name": "stderr",
     "output_type": "stream",
     "text": [
      "Epoch 447, global step 4032: 'val_loss' was not in top 1\n"
     ]
    },
    {
     "name": "stdout",
     "output_type": "stream",
     "text": [
      "Epoch 448: 100%|██████████| 9/9 [00:08<00:00,  1.02it/s, v_num=7, train_loss=0.415, val_loss=0.360]current epoch: 448 current mean dice: 0.3555\n",
      "best mean dice: 0.3615 at epoch: 422\n",
      "current mean loss: 0.0655best mean loss: 0.0000at epoch: 0\n",
      "Epoch 448: 100%|██████████| 9/9 [00:15<00:00,  0.57it/s, v_num=7, train_loss=0.415, val_loss=0.354]"
     ]
    },
    {
     "name": "stderr",
     "output_type": "stream",
     "text": [
      "Epoch 448, global step 4041: 'val_loss' was not in top 1\n"
     ]
    },
    {
     "name": "stdout",
     "output_type": "stream",
     "text": [
      "Epoch 449: 100%|██████████| 9/9 [00:08<00:00,  1.02it/s, v_num=7, train_loss=0.298, val_loss=0.354]current epoch: 449 current mean dice: 0.3537\n",
      "best mean dice: 0.3615 at epoch: 422\n",
      "current mean loss: 0.0653best mean loss: 0.0000at epoch: 0\n",
      "Epoch 449: 100%|██████████| 9/9 [00:15<00:00,  0.57it/s, v_num=7, train_loss=0.298, val_loss=0.354]"
     ]
    },
    {
     "name": "stderr",
     "output_type": "stream",
     "text": [
      "Epoch 449, global step 4050: 'val_loss' was not in top 1\n"
     ]
    },
    {
     "name": "stdout",
     "output_type": "stream",
     "text": [
      "Epoch 450: 100%|██████████| 9/9 [00:08<00:00,  1.02it/s, v_num=7, train_loss=0.330, val_loss=0.354]current epoch: 450 current mean dice: 0.3418\n",
      "best mean dice: 0.3615 at epoch: 422\n",
      "current mean loss: 0.0663best mean loss: 0.0000at epoch: 0\n",
      "Epoch 450: 100%|██████████| 9/9 [00:15<00:00,  0.57it/s, v_num=7, train_loss=0.330, val_loss=0.359]"
     ]
    },
    {
     "name": "stderr",
     "output_type": "stream",
     "text": [
      "Epoch 450, global step 4059: 'val_loss' was not in top 1\n"
     ]
    },
    {
     "name": "stdout",
     "output_type": "stream",
     "text": [
      "Epoch 451: 100%|██████████| 9/9 [00:08<00:00,  1.00it/s, v_num=7, train_loss=0.393, val_loss=0.359]current epoch: 451 current mean dice: 0.3467\n",
      "best mean dice: 0.3615 at epoch: 422\n",
      "current mean loss: 0.0659best mean loss: 0.0000at epoch: 0\n",
      "Epoch 451: 100%|██████████| 9/9 [00:15<00:00,  0.57it/s, v_num=7, train_loss=0.393, val_loss=0.357]"
     ]
    },
    {
     "name": "stderr",
     "output_type": "stream",
     "text": [
      "Epoch 451, global step 4068: 'val_loss' was not in top 1\n"
     ]
    },
    {
     "name": "stdout",
     "output_type": "stream",
     "text": [
      "Epoch 452: 100%|██████████| 9/9 [00:08<00:00,  1.02it/s, v_num=7, train_loss=0.399, val_loss=0.357]current epoch: 452 current mean dice: 0.3554\n",
      "best mean dice: 0.3615 at epoch: 422\n",
      "current mean loss: 0.0653best mean loss: 0.0000at epoch: 0\n",
      "Epoch 452: 100%|██████████| 9/9 [00:15<00:00,  0.57it/s, v_num=7, train_loss=0.399, val_loss=0.353]"
     ]
    },
    {
     "name": "stderr",
     "output_type": "stream",
     "text": [
      "Epoch 452, global step 4077: 'val_loss' was not in top 1\n"
     ]
    },
    {
     "name": "stdout",
     "output_type": "stream",
     "text": [
      "Epoch 453: 100%|██████████| 9/9 [00:08<00:00,  1.03it/s, v_num=7, train_loss=0.322, val_loss=0.353]current epoch: 453 current mean dice: 0.3580\n",
      "best mean dice: 0.3615 at epoch: 422\n",
      "current mean loss: 0.0649best mean loss: 0.0000at epoch: 0\n",
      "Epoch 453: 100%|██████████| 9/9 [00:15<00:00,  0.57it/s, v_num=7, train_loss=0.322, val_loss=0.353]"
     ]
    },
    {
     "name": "stderr",
     "output_type": "stream",
     "text": [
      "Epoch 453, global step 4086: 'val_loss' was not in top 1\n"
     ]
    },
    {
     "name": "stdout",
     "output_type": "stream",
     "text": [
      "Epoch 454: 100%|██████████| 9/9 [00:08<00:00,  1.03it/s, v_num=7, train_loss=0.383, val_loss=0.353]current epoch: 454 current mean dice: 0.3686\n",
      "best mean dice: 0.3686 at epoch: 454\n",
      "current mean loss: 0.0659best mean loss: 0.0000at epoch: 0\n",
      "Epoch 454: 100%|██████████| 9/9 [00:15<00:00,  0.57it/s, v_num=7, train_loss=0.383, val_loss=0.354]"
     ]
    },
    {
     "name": "stderr",
     "output_type": "stream",
     "text": [
      "Epoch 454, global step 4095: 'val_loss' was not in top 1\n"
     ]
    },
    {
     "name": "stdout",
     "output_type": "stream",
     "text": [
      "Epoch 455: 100%|██████████| 9/9 [00:08<00:00,  1.03it/s, v_num=7, train_loss=0.311, val_loss=0.354]current epoch: 455 current mean dice: 0.3451\n",
      "best mean dice: 0.3686 at epoch: 454\n",
      "current mean loss: 0.0659best mean loss: 0.0000at epoch: 0\n",
      "Epoch 455: 100%|██████████| 9/9 [00:15<00:00,  0.58it/s, v_num=7, train_loss=0.311, val_loss=0.358]"
     ]
    },
    {
     "name": "stderr",
     "output_type": "stream",
     "text": [
      "Epoch 455, global step 4104: 'val_loss' was not in top 1\n"
     ]
    },
    {
     "name": "stdout",
     "output_type": "stream",
     "text": [
      "Epoch 456: 100%|██████████| 9/9 [00:08<00:00,  1.00it/s, v_num=7, train_loss=0.309, val_loss=0.358]current epoch: 456 current mean dice: 0.3502\n",
      "best mean dice: 0.3686 at epoch: 454\n",
      "current mean loss: 0.0657best mean loss: 0.0000at epoch: 0\n",
      "Epoch 456: 100%|██████████| 9/9 [00:15<00:00,  0.57it/s, v_num=7, train_loss=0.309, val_loss=0.356]"
     ]
    },
    {
     "name": "stderr",
     "output_type": "stream",
     "text": [
      "Epoch 456, global step 4113: 'val_loss' was not in top 1\n"
     ]
    },
    {
     "name": "stdout",
     "output_type": "stream",
     "text": [
      "Epoch 457: 100%|██████████| 9/9 [00:08<00:00,  1.01it/s, v_num=7, train_loss=0.327, val_loss=0.356]current epoch: 457 current mean dice: 0.3386\n",
      "best mean dice: 0.3686 at epoch: 454\n",
      "current mean loss: 0.0667best mean loss: 0.0000at epoch: 0\n",
      "Epoch 457: 100%|██████████| 9/9 [00:15<00:00,  0.57it/s, v_num=7, train_loss=0.327, val_loss=0.361]"
     ]
    },
    {
     "name": "stderr",
     "output_type": "stream",
     "text": [
      "Epoch 457, global step 4122: 'val_loss' was not in top 1\n"
     ]
    },
    {
     "name": "stdout",
     "output_type": "stream",
     "text": [
      "Epoch 458: 100%|██████████| 9/9 [00:09<00:00,  0.99it/s, v_num=7, train_loss=0.279, val_loss=0.361]current epoch: 458 current mean dice: 0.3550\n",
      "best mean dice: 0.3686 at epoch: 454\n",
      "current mean loss: 0.0653best mean loss: 0.0000at epoch: 0\n",
      "Epoch 458: 100%|██████████| 9/9 [00:15<00:00,  0.56it/s, v_num=7, train_loss=0.279, val_loss=0.354]"
     ]
    },
    {
     "name": "stderr",
     "output_type": "stream",
     "text": [
      "Epoch 458, global step 4131: 'val_loss' was not in top 1\n"
     ]
    },
    {
     "name": "stdout",
     "output_type": "stream",
     "text": [
      "Epoch 459: 100%|██████████| 9/9 [00:09<00:00,  1.00it/s, v_num=7, train_loss=0.402, val_loss=0.354]current epoch: 459 current mean dice: 0.3404\n",
      "best mean dice: 0.3686 at epoch: 454\n",
      "current mean loss: 0.0663best mean loss: 0.0000at epoch: 0\n",
      "Epoch 459: 100%|██████████| 9/9 [00:16<00:00,  0.56it/s, v_num=7, train_loss=0.402, val_loss=0.361]"
     ]
    },
    {
     "name": "stderr",
     "output_type": "stream",
     "text": [
      "Epoch 459, global step 4140: 'val_loss' was not in top 1\n"
     ]
    },
    {
     "name": "stdout",
     "output_type": "stream",
     "text": [
      "Epoch 460: 100%|██████████| 9/9 [00:08<00:00,  1.02it/s, v_num=7, train_loss=0.314, val_loss=0.361]current epoch: 460 current mean dice: 0.3464\n",
      "best mean dice: 0.3686 at epoch: 454\n",
      "current mean loss: 0.0661best mean loss: 0.0000at epoch: 0\n",
      "Epoch 460: 100%|██████████| 9/9 [00:15<00:00,  0.57it/s, v_num=7, train_loss=0.314, val_loss=0.357]"
     ]
    },
    {
     "name": "stderr",
     "output_type": "stream",
     "text": [
      "Epoch 460, global step 4149: 'val_loss' was not in top 1\n"
     ]
    },
    {
     "name": "stdout",
     "output_type": "stream",
     "text": [
      "Epoch 461: 100%|██████████| 9/9 [00:08<00:00,  1.01it/s, v_num=7, train_loss=0.356, val_loss=0.357]current epoch: 461 current mean dice: 0.3414\n",
      "best mean dice: 0.3686 at epoch: 454\n",
      "current mean loss: 0.0654best mean loss: 0.0000at epoch: 0\n",
      "Epoch 461: 100%|██████████| 9/9 [00:15<00:00,  0.57it/s, v_num=7, train_loss=0.356, val_loss=0.359]"
     ]
    },
    {
     "name": "stderr",
     "output_type": "stream",
     "text": [
      "Epoch 461, global step 4158: 'val_loss' was not in top 1\n"
     ]
    },
    {
     "name": "stdout",
     "output_type": "stream",
     "text": [
      "Epoch 462: 100%|██████████| 9/9 [00:08<00:00,  1.03it/s, v_num=7, train_loss=0.343, val_loss=0.359]current epoch: 462 current mean dice: 0.3438\n",
      "best mean dice: 0.3686 at epoch: 454\n",
      "current mean loss: 0.0663best mean loss: 0.0000at epoch: 0\n",
      "Epoch 462: 100%|██████████| 9/9 [00:15<00:00,  0.57it/s, v_num=7, train_loss=0.343, val_loss=0.358]"
     ]
    },
    {
     "name": "stderr",
     "output_type": "stream",
     "text": [
      "Epoch 462, global step 4167: 'val_loss' was not in top 1\n"
     ]
    },
    {
     "name": "stdout",
     "output_type": "stream",
     "text": [
      "Epoch 463: 100%|██████████| 9/9 [00:09<00:00,  0.99it/s, v_num=7, train_loss=0.349, val_loss=0.358]current epoch: 463 current mean dice: 0.3563\n",
      "best mean dice: 0.3686 at epoch: 454\n",
      "current mean loss: 0.0650best mean loss: 0.0000at epoch: 0\n",
      "Epoch 463: 100%|██████████| 9/9 [00:16<00:00,  0.56it/s, v_num=7, train_loss=0.349, val_loss=0.353]"
     ]
    },
    {
     "name": "stderr",
     "output_type": "stream",
     "text": [
      "Epoch 463, global step 4176: 'val_loss' was not in top 1\n"
     ]
    },
    {
     "name": "stdout",
     "output_type": "stream",
     "text": [
      "Epoch 464: 100%|██████████| 9/9 [00:08<00:00,  1.02it/s, v_num=7, train_loss=0.335, val_loss=0.353]current epoch: 464 current mean dice: 0.3421\n",
      "best mean dice: 0.3686 at epoch: 454\n",
      "current mean loss: 0.0664best mean loss: 0.0000at epoch: 0\n",
      "Epoch 464: 100%|██████████| 9/9 [00:15<00:00,  0.57it/s, v_num=7, train_loss=0.335, val_loss=0.359]"
     ]
    },
    {
     "name": "stderr",
     "output_type": "stream",
     "text": [
      "Epoch 464, global step 4185: 'val_loss' was not in top 1\n"
     ]
    },
    {
     "name": "stdout",
     "output_type": "stream",
     "text": [
      "Epoch 465: 100%|██████████| 9/9 [00:08<00:00,  1.01it/s, v_num=7, train_loss=0.339, val_loss=0.359]current epoch: 465 current mean dice: 0.3361\n",
      "best mean dice: 0.3686 at epoch: 454\n",
      "current mean loss: 0.0669best mean loss: 0.0000at epoch: 0\n",
      "Epoch 465: 100%|██████████| 9/9 [00:15<00:00,  0.57it/s, v_num=7, train_loss=0.339, val_loss=0.361]"
     ]
    },
    {
     "name": "stderr",
     "output_type": "stream",
     "text": [
      "Epoch 465, global step 4194: 'val_loss' was not in top 1\n"
     ]
    },
    {
     "name": "stdout",
     "output_type": "stream",
     "text": [
      "Epoch 466: 100%|██████████| 9/9 [00:08<00:00,  1.01it/s, v_num=7, train_loss=0.268, val_loss=0.361]current epoch: 466 current mean dice: 0.3413\n",
      "best mean dice: 0.3686 at epoch: 454\n",
      "current mean loss: 0.0664best mean loss: 0.0000at epoch: 0\n",
      "Epoch 466: 100%|██████████| 9/9 [00:15<00:00,  0.57it/s, v_num=7, train_loss=0.268, val_loss=0.359]"
     ]
    },
    {
     "name": "stderr",
     "output_type": "stream",
     "text": [
      "Epoch 466, global step 4203: 'val_loss' was not in top 1\n"
     ]
    },
    {
     "name": "stdout",
     "output_type": "stream",
     "text": [
      "Epoch 467: 100%|██████████| 9/9 [00:08<00:00,  1.00it/s, v_num=7, train_loss=0.322, val_loss=0.359]current epoch: 467 current mean dice: 0.3394\n",
      "best mean dice: 0.3686 at epoch: 454\n",
      "current mean loss: 0.0666best mean loss: 0.0000at epoch: 0\n",
      "Epoch 467: 100%|██████████| 9/9 [00:15<00:00,  0.56it/s, v_num=7, train_loss=0.322, val_loss=0.360]"
     ]
    },
    {
     "name": "stderr",
     "output_type": "stream",
     "text": [
      "Epoch 467, global step 4212: 'val_loss' was not in top 1\n"
     ]
    },
    {
     "name": "stdout",
     "output_type": "stream",
     "text": [
      "Epoch 468: 100%|██████████| 9/9 [00:08<00:00,  1.02it/s, v_num=7, train_loss=0.371, val_loss=0.360]current epoch: 468 current mean dice: 0.3501\n",
      "best mean dice: 0.3686 at epoch: 454\n",
      "current mean loss: 0.0656best mean loss: 0.0000at epoch: 0\n",
      "Epoch 468: 100%|██████████| 9/9 [00:15<00:00,  0.57it/s, v_num=7, train_loss=0.371, val_loss=0.355]"
     ]
    },
    {
     "name": "stderr",
     "output_type": "stream",
     "text": [
      "Epoch 468, global step 4221: 'val_loss' was not in top 1\n"
     ]
    },
    {
     "name": "stdout",
     "output_type": "stream",
     "text": [
      "Epoch 469: 100%|██████████| 9/9 [00:08<00:00,  1.01it/s, v_num=7, train_loss=0.324, val_loss=0.355]current epoch: 469 current mean dice: 0.3423\n",
      "best mean dice: 0.3686 at epoch: 454\n",
      "current mean loss: 0.0669best mean loss: 0.0000at epoch: 0\n",
      "Epoch 469: 100%|██████████| 9/9 [00:15<00:00,  0.57it/s, v_num=7, train_loss=0.324, val_loss=0.359]"
     ]
    },
    {
     "name": "stderr",
     "output_type": "stream",
     "text": [
      "Epoch 469, global step 4230: 'val_loss' was not in top 1\n"
     ]
    },
    {
     "name": "stdout",
     "output_type": "stream",
     "text": [
      "Epoch 470: 100%|██████████| 9/9 [00:08<00:00,  1.01it/s, v_num=7, train_loss=0.414, val_loss=0.359]current epoch: 470 current mean dice: 0.3470\n",
      "best mean dice: 0.3686 at epoch: 454\n",
      "current mean loss: 0.0653best mean loss: 0.0000at epoch: 0\n",
      "Epoch 470: 100%|██████████| 9/9 [00:15<00:00,  0.57it/s, v_num=7, train_loss=0.414, val_loss=0.356]"
     ]
    },
    {
     "name": "stderr",
     "output_type": "stream",
     "text": [
      "Epoch 470, global step 4239: 'val_loss' was not in top 1\n"
     ]
    },
    {
     "name": "stdout",
     "output_type": "stream",
     "text": [
      "Epoch 471: 100%|██████████| 9/9 [00:08<00:00,  1.02it/s, v_num=7, train_loss=0.357, val_loss=0.356]current epoch: 471 current mean dice: 0.3481\n",
      "best mean dice: 0.3686 at epoch: 454\n",
      "current mean loss: 0.0661best mean loss: 0.0000at epoch: 0\n",
      "Epoch 471: 100%|██████████| 9/9 [00:15<00:00,  0.57it/s, v_num=7, train_loss=0.357, val_loss=0.356]"
     ]
    },
    {
     "name": "stderr",
     "output_type": "stream",
     "text": [
      "Epoch 471, global step 4248: 'val_loss' was not in top 1\n"
     ]
    },
    {
     "name": "stdout",
     "output_type": "stream",
     "text": [
      "Epoch 472: 100%|██████████| 9/9 [00:08<00:00,  1.02it/s, v_num=7, train_loss=0.304, val_loss=0.356]current epoch: 472 current mean dice: 0.3553\n",
      "best mean dice: 0.3686 at epoch: 454\n",
      "current mean loss: 0.0653best mean loss: 0.0000at epoch: 0\n",
      "Epoch 472: 100%|██████████| 9/9 [00:15<00:00,  0.57it/s, v_num=7, train_loss=0.304, val_loss=0.353]"
     ]
    },
    {
     "name": "stderr",
     "output_type": "stream",
     "text": [
      "Epoch 472, global step 4257: 'val_loss' was not in top 1\n"
     ]
    },
    {
     "name": "stdout",
     "output_type": "stream",
     "text": [
      "Epoch 473: 100%|██████████| 9/9 [00:09<00:00,  1.00it/s, v_num=7, train_loss=0.366, val_loss=0.353]current epoch: 473 current mean dice: 0.3741\n",
      "best mean dice: 0.3741 at epoch: 473\n",
      "current mean loss: 0.0636best mean loss: 0.0000at epoch: 0\n",
      "Epoch 473: 100%|██████████| 9/9 [00:16<00:00,  0.56it/s, v_num=7, train_loss=0.366, val_loss=0.345]"
     ]
    },
    {
     "name": "stderr",
     "output_type": "stream",
     "text": [
      "Epoch 473, global step 4266: 'val_loss' reached 0.34542 (best 0.34542), saving model to '/home/pawel/Documents/RISA/3D_segmentation/logger/checkpoints/epoch_473-0.34542.ckpt' as top 1\n"
     ]
    },
    {
     "name": "stdout",
     "output_type": "stream",
     "text": [
      "Epoch 474: 100%|██████████| 9/9 [00:08<00:00,  1.01it/s, v_num=7, train_loss=0.392, val_loss=0.345]current epoch: 474 current mean dice: 0.3481\n",
      "best mean dice: 0.3741 at epoch: 473\n",
      "current mean loss: 0.0657best mean loss: 0.0000at epoch: 0\n",
      "Epoch 474: 100%|██████████| 9/9 [00:15<00:00,  0.57it/s, v_num=7, train_loss=0.392, val_loss=0.357]"
     ]
    },
    {
     "name": "stderr",
     "output_type": "stream",
     "text": [
      "Epoch 474, global step 4275: 'val_loss' was not in top 1\n"
     ]
    },
    {
     "name": "stdout",
     "output_type": "stream",
     "text": [
      "Epoch 475: 100%|██████████| 9/9 [00:08<00:00,  1.02it/s, v_num=7, train_loss=0.456, val_loss=0.357]current epoch: 475 current mean dice: 0.3523\n",
      "best mean dice: 0.3741 at epoch: 473\n",
      "current mean loss: 0.0654best mean loss: 0.0000at epoch: 0\n",
      "Epoch 475: 100%|██████████| 9/9 [00:15<00:00,  0.57it/s, v_num=7, train_loss=0.456, val_loss=0.355]"
     ]
    },
    {
     "name": "stderr",
     "output_type": "stream",
     "text": [
      "Epoch 475, global step 4284: 'val_loss' was not in top 1\n"
     ]
    },
    {
     "name": "stdout",
     "output_type": "stream",
     "text": [
      "Epoch 476: 100%|██████████| 9/9 [00:08<00:00,  1.01it/s, v_num=7, train_loss=0.313, val_loss=0.355]current epoch: 476 current mean dice: 0.3451\n",
      "best mean dice: 0.3741 at epoch: 473\n",
      "current mean loss: 0.0664best mean loss: 0.0000at epoch: 0\n",
      "Epoch 476: 100%|██████████| 9/9 [00:15<00:00,  0.57it/s, v_num=7, train_loss=0.313, val_loss=0.358]"
     ]
    },
    {
     "name": "stderr",
     "output_type": "stream",
     "text": [
      "Epoch 476, global step 4293: 'val_loss' was not in top 1\n"
     ]
    },
    {
     "name": "stdout",
     "output_type": "stream",
     "text": [
      "Epoch 477: 100%|██████████| 9/9 [00:08<00:00,  1.02it/s, v_num=7, train_loss=0.312, val_loss=0.358]current epoch: 477 current mean dice: 0.3299\n",
      "best mean dice: 0.3741 at epoch: 473\n",
      "current mean loss: 0.0671best mean loss: 0.0000at epoch: 0\n",
      "Epoch 477: 100%|██████████| 9/9 [00:15<00:00,  0.57it/s, v_num=7, train_loss=0.312, val_loss=0.364]"
     ]
    },
    {
     "name": "stderr",
     "output_type": "stream",
     "text": [
      "Epoch 477, global step 4302: 'val_loss' was not in top 1\n"
     ]
    },
    {
     "name": "stdout",
     "output_type": "stream",
     "text": [
      "Epoch 478: 100%|██████████| 9/9 [00:08<00:00,  1.02it/s, v_num=7, train_loss=0.340, val_loss=0.364]current epoch: 478 current mean dice: 0.3428\n",
      "best mean dice: 0.3741 at epoch: 473\n",
      "current mean loss: 0.0661best mean loss: 0.0000at epoch: 0\n",
      "Epoch 478: 100%|██████████| 9/9 [00:15<00:00,  0.57it/s, v_num=7, train_loss=0.340, val_loss=0.359]"
     ]
    },
    {
     "name": "stderr",
     "output_type": "stream",
     "text": [
      "Epoch 478, global step 4311: 'val_loss' was not in top 1\n"
     ]
    },
    {
     "name": "stdout",
     "output_type": "stream",
     "text": [
      "Epoch 479: 100%|██████████| 9/9 [00:08<00:00,  1.02it/s, v_num=7, train_loss=0.385, val_loss=0.359]current epoch: 479 current mean dice: 0.3437\n",
      "best mean dice: 0.3741 at epoch: 473\n",
      "current mean loss: 0.0660best mean loss: 0.0000at epoch: 0\n",
      "Epoch 479: 100%|██████████| 9/9 [00:15<00:00,  0.57it/s, v_num=7, train_loss=0.385, val_loss=0.358]"
     ]
    },
    {
     "name": "stderr",
     "output_type": "stream",
     "text": [
      "Epoch 479, global step 4320: 'val_loss' was not in top 1\n"
     ]
    },
    {
     "name": "stdout",
     "output_type": "stream",
     "text": [
      "Epoch 480: 100%|██████████| 9/9 [00:08<00:00,  1.01it/s, v_num=7, train_loss=0.338, val_loss=0.358]current epoch: 480 current mean dice: 0.3316\n",
      "best mean dice: 0.3741 at epoch: 473\n",
      "current mean loss: 0.0676best mean loss: 0.0000at epoch: 0\n",
      "Epoch 480: 100%|██████████| 9/9 [00:15<00:00,  0.57it/s, v_num=7, train_loss=0.338, val_loss=0.363]"
     ]
    },
    {
     "name": "stderr",
     "output_type": "stream",
     "text": [
      "Epoch 480, global step 4329: 'val_loss' was not in top 1\n"
     ]
    },
    {
     "name": "stdout",
     "output_type": "stream",
     "text": [
      "Epoch 481: 100%|██████████| 9/9 [00:08<00:00,  1.00it/s, v_num=7, train_loss=0.305, val_loss=0.363]current epoch: 481 current mean dice: 0.3496\n",
      "best mean dice: 0.3741 at epoch: 473\n",
      "current mean loss: 0.0652best mean loss: 0.0000at epoch: 0\n",
      "Epoch 481: 100%|██████████| 9/9 [00:15<00:00,  0.57it/s, v_num=7, train_loss=0.305, val_loss=0.355]"
     ]
    },
    {
     "name": "stderr",
     "output_type": "stream",
     "text": [
      "Epoch 481, global step 4338: 'val_loss' was not in top 1\n"
     ]
    },
    {
     "name": "stdout",
     "output_type": "stream",
     "text": [
      "Epoch 482: 100%|██████████| 9/9 [00:08<00:00,  1.00it/s, v_num=7, train_loss=0.352, val_loss=0.355]current epoch: 482 current mean dice: 0.3501\n",
      "best mean dice: 0.3741 at epoch: 473\n",
      "current mean loss: 0.0653best mean loss: 0.0000at epoch: 0\n",
      "Epoch 482: 100%|██████████| 9/9 [00:15<00:00,  0.56it/s, v_num=7, train_loss=0.352, val_loss=0.355]"
     ]
    },
    {
     "name": "stderr",
     "output_type": "stream",
     "text": [
      "Epoch 482, global step 4347: 'val_loss' was not in top 1\n"
     ]
    },
    {
     "name": "stdout",
     "output_type": "stream",
     "text": [
      "Epoch 483: 100%|██████████| 9/9 [00:08<00:00,  1.02it/s, v_num=7, train_loss=0.360, val_loss=0.355]current epoch: 483 current mean dice: 0.3407\n",
      "best mean dice: 0.3741 at epoch: 473\n",
      "current mean loss: 0.0664best mean loss: 0.0000at epoch: 0\n",
      "Epoch 483: 100%|██████████| 9/9 [00:15<00:00,  0.57it/s, v_num=7, train_loss=0.360, val_loss=0.360]"
     ]
    },
    {
     "name": "stderr",
     "output_type": "stream",
     "text": [
      "Epoch 483, global step 4356: 'val_loss' was not in top 1\n"
     ]
    },
    {
     "name": "stdout",
     "output_type": "stream",
     "text": [
      "Epoch 484: 100%|██████████| 9/9 [00:08<00:00,  1.02it/s, v_num=7, train_loss=0.377, val_loss=0.360]current epoch: 484 current mean dice: 0.3577\n",
      "best mean dice: 0.3741 at epoch: 473\n",
      "current mean loss: 0.0646best mean loss: 0.0000at epoch: 0\n",
      "Epoch 484: 100%|██████████| 9/9 [00:15<00:00,  0.57it/s, v_num=7, train_loss=0.377, val_loss=0.353]"
     ]
    },
    {
     "name": "stderr",
     "output_type": "stream",
     "text": [
      "Epoch 484, global step 4365: 'val_loss' was not in top 1\n"
     ]
    },
    {
     "name": "stdout",
     "output_type": "stream",
     "text": [
      "Epoch 485: 100%|██████████| 9/9 [00:08<00:00,  1.01it/s, v_num=7, train_loss=0.269, val_loss=0.353]current epoch: 485 current mean dice: 0.3507\n",
      "best mean dice: 0.3741 at epoch: 473\n",
      "current mean loss: 0.0649best mean loss: 0.0000at epoch: 0\n",
      "Epoch 485: 100%|██████████| 9/9 [00:15<00:00,  0.57it/s, v_num=7, train_loss=0.269, val_loss=0.355]"
     ]
    },
    {
     "name": "stderr",
     "output_type": "stream",
     "text": [
      "Epoch 485, global step 4374: 'val_loss' was not in top 1\n"
     ]
    },
    {
     "name": "stdout",
     "output_type": "stream",
     "text": [
      "Epoch 486: 100%|██████████| 9/9 [00:08<00:00,  1.01it/s, v_num=7, train_loss=0.313, val_loss=0.355]current epoch: 486 current mean dice: 0.3426\n",
      "best mean dice: 0.3741 at epoch: 473\n",
      "current mean loss: 0.0661best mean loss: 0.0000at epoch: 0\n",
      "Epoch 486: 100%|██████████| 9/9 [00:15<00:00,  0.57it/s, v_num=7, train_loss=0.313, val_loss=0.358]"
     ]
    },
    {
     "name": "stderr",
     "output_type": "stream",
     "text": [
      "Epoch 486, global step 4383: 'val_loss' was not in top 1\n"
     ]
    },
    {
     "name": "stdout",
     "output_type": "stream",
     "text": [
      "Epoch 487: 100%|██████████| 9/9 [00:08<00:00,  1.04it/s, v_num=7, train_loss=0.406, val_loss=0.358]current epoch: 487 current mean dice: 0.3476\n",
      "best mean dice: 0.3741 at epoch: 473\n",
      "current mean loss: 0.0656best mean loss: 0.0000at epoch: 0\n",
      "Epoch 487: 100%|██████████| 9/9 [00:15<00:00,  0.58it/s, v_num=7, train_loss=0.406, val_loss=0.356]"
     ]
    },
    {
     "name": "stderr",
     "output_type": "stream",
     "text": [
      "Epoch 487, global step 4392: 'val_loss' was not in top 1\n"
     ]
    },
    {
     "name": "stdout",
     "output_type": "stream",
     "text": [
      "Epoch 488: 100%|██████████| 9/9 [00:09<00:00,  0.99it/s, v_num=7, train_loss=0.296, val_loss=0.356]current epoch: 488 current mean dice: 0.3570\n",
      "best mean dice: 0.3741 at epoch: 473\n",
      "current mean loss: 0.0644best mean loss: 0.0000at epoch: 0\n",
      "Epoch 488: 100%|██████████| 9/9 [00:15<00:00,  0.56it/s, v_num=7, train_loss=0.296, val_loss=0.353]"
     ]
    },
    {
     "name": "stderr",
     "output_type": "stream",
     "text": [
      "Epoch 488, global step 4401: 'val_loss' was not in top 1\n"
     ]
    },
    {
     "name": "stdout",
     "output_type": "stream",
     "text": [
      "Epoch 489: 100%|██████████| 9/9 [00:09<00:00,  1.00it/s, v_num=7, train_loss=0.333, val_loss=0.353]current epoch: 489 current mean dice: 0.3484\n",
      "best mean dice: 0.3741 at epoch: 473\n",
      "current mean loss: 0.0656best mean loss: 0.0000at epoch: 0\n",
      "Epoch 489: 100%|██████████| 9/9 [00:15<00:00,  0.56it/s, v_num=7, train_loss=0.333, val_loss=0.355]"
     ]
    },
    {
     "name": "stderr",
     "output_type": "stream",
     "text": [
      "Epoch 489, global step 4410: 'val_loss' was not in top 1\n"
     ]
    },
    {
     "name": "stdout",
     "output_type": "stream",
     "text": [
      "Epoch 490: 100%|██████████| 9/9 [00:08<00:00,  1.01it/s, v_num=7, train_loss=0.370, val_loss=0.355]current epoch: 490 current mean dice: 0.3489\n",
      "best mean dice: 0.3741 at epoch: 473\n",
      "current mean loss: 0.0656best mean loss: 0.0000at epoch: 0\n",
      "Epoch 490: 100%|██████████| 9/9 [00:15<00:00,  0.57it/s, v_num=7, train_loss=0.370, val_loss=0.356]"
     ]
    },
    {
     "name": "stderr",
     "output_type": "stream",
     "text": [
      "Epoch 490, global step 4419: 'val_loss' was not in top 1\n"
     ]
    },
    {
     "name": "stdout",
     "output_type": "stream",
     "text": [
      "Epoch 491: 100%|██████████| 9/9 [00:08<00:00,  1.02it/s, v_num=7, train_loss=0.414, val_loss=0.356]current epoch: 491 current mean dice: 0.3548\n",
      "best mean dice: 0.3741 at epoch: 473\n",
      "current mean loss: 0.0644best mean loss: 0.0000at epoch: 0\n",
      "Epoch 491: 100%|██████████| 9/9 [00:15<00:00,  0.57it/s, v_num=7, train_loss=0.414, val_loss=0.353]"
     ]
    },
    {
     "name": "stderr",
     "output_type": "stream",
     "text": [
      "Epoch 491, global step 4428: 'val_loss' was not in top 1\n"
     ]
    },
    {
     "name": "stdout",
     "output_type": "stream",
     "text": [
      "Epoch 492: 100%|██████████| 9/9 [00:08<00:00,  1.00it/s, v_num=7, train_loss=0.336, val_loss=0.353]current epoch: 492 current mean dice: 0.3288\n",
      "best mean dice: 0.3741 at epoch: 473\n",
      "current mean loss: 0.0674best mean loss: 0.0000at epoch: 0\n",
      "Epoch 492: 100%|██████████| 9/9 [00:15<00:00,  0.56it/s, v_num=7, train_loss=0.336, val_loss=0.364]"
     ]
    },
    {
     "name": "stderr",
     "output_type": "stream",
     "text": [
      "Epoch 492, global step 4437: 'val_loss' was not in top 1\n"
     ]
    },
    {
     "name": "stdout",
     "output_type": "stream",
     "text": [
      "Epoch 493: 100%|██████████| 9/9 [00:08<00:00,  1.02it/s, v_num=7, train_loss=0.349, val_loss=0.364]current epoch: 493 current mean dice: 0.3404\n",
      "best mean dice: 0.3741 at epoch: 473\n",
      "current mean loss: 0.0667best mean loss: 0.0000at epoch: 0\n",
      "Epoch 493: 100%|██████████| 9/9 [00:15<00:00,  0.57it/s, v_num=7, train_loss=0.349, val_loss=0.359]"
     ]
    },
    {
     "name": "stderr",
     "output_type": "stream",
     "text": [
      "Epoch 493, global step 4446: 'val_loss' was not in top 1\n"
     ]
    },
    {
     "name": "stdout",
     "output_type": "stream",
     "text": [
      "Epoch 494: 100%|██████████| 9/9 [00:08<00:00,  1.00it/s, v_num=7, train_loss=0.322, val_loss=0.359]current epoch: 494 current mean dice: 0.3457\n",
      "best mean dice: 0.3741 at epoch: 473\n",
      "current mean loss: 0.0663best mean loss: 0.0000at epoch: 0\n",
      "Epoch 494: 100%|██████████| 9/9 [00:15<00:00,  0.56it/s, v_num=7, train_loss=0.322, val_loss=0.357]"
     ]
    },
    {
     "name": "stderr",
     "output_type": "stream",
     "text": [
      "Epoch 494, global step 4455: 'val_loss' was not in top 1\n"
     ]
    },
    {
     "name": "stdout",
     "output_type": "stream",
     "text": [
      "Epoch 495: 100%|██████████| 9/9 [00:08<00:00,  1.01it/s, v_num=7, train_loss=0.344, val_loss=0.357]current epoch: 495 current mean dice: 0.3185\n",
      "best mean dice: 0.3741 at epoch: 473\n",
      "current mean loss: 0.0682best mean loss: 0.0000at epoch: 0\n",
      "Epoch 495: 100%|██████████| 9/9 [00:15<00:00,  0.57it/s, v_num=7, train_loss=0.344, val_loss=0.369]"
     ]
    },
    {
     "name": "stderr",
     "output_type": "stream",
     "text": [
      "Epoch 495, global step 4464: 'val_loss' was not in top 1\n"
     ]
    },
    {
     "name": "stdout",
     "output_type": "stream",
     "text": [
      "Epoch 496: 100%|██████████| 9/9 [00:09<00:00,  0.98it/s, v_num=7, train_loss=0.462, val_loss=0.369]current epoch: 496 current mean dice: 0.3428\n",
      "best mean dice: 0.3741 at epoch: 473\n",
      "current mean loss: 0.0665best mean loss: 0.0000at epoch: 0\n",
      "Epoch 496: 100%|██████████| 9/9 [00:16<00:00,  0.56it/s, v_num=7, train_loss=0.462, val_loss=0.359]"
     ]
    },
    {
     "name": "stderr",
     "output_type": "stream",
     "text": [
      "Epoch 496, global step 4473: 'val_loss' was not in top 1\n"
     ]
    },
    {
     "name": "stdout",
     "output_type": "stream",
     "text": [
      "Epoch 497: 100%|██████████| 9/9 [00:08<00:00,  1.01it/s, v_num=7, train_loss=0.299, val_loss=0.359]current epoch: 497 current mean dice: 0.3381\n",
      "best mean dice: 0.3741 at epoch: 473\n",
      "current mean loss: 0.0662best mean loss: 0.0000at epoch: 0\n",
      "Epoch 497: 100%|██████████| 9/9 [00:15<00:00,  0.57it/s, v_num=7, train_loss=0.299, val_loss=0.360]"
     ]
    },
    {
     "name": "stderr",
     "output_type": "stream",
     "text": [
      "Epoch 497, global step 4482: 'val_loss' was not in top 1\n"
     ]
    },
    {
     "name": "stdout",
     "output_type": "stream",
     "text": [
      "Epoch 498: 100%|██████████| 9/9 [00:09<00:00,  0.99it/s, v_num=7, train_loss=0.279, val_loss=0.360]current epoch: 498 current mean dice: 0.3431\n",
      "best mean dice: 0.3741 at epoch: 473\n",
      "current mean loss: 0.0666best mean loss: 0.0000at epoch: 0\n",
      "Epoch 498: 100%|██████████| 9/9 [00:16<00:00,  0.56it/s, v_num=7, train_loss=0.279, val_loss=0.359]"
     ]
    },
    {
     "name": "stderr",
     "output_type": "stream",
     "text": [
      "Epoch 498, global step 4491: 'val_loss' was not in top 1\n"
     ]
    },
    {
     "name": "stdout",
     "output_type": "stream",
     "text": [
      "Epoch 499: 100%|██████████| 9/9 [00:08<00:00,  1.03it/s, v_num=7, train_loss=0.377, val_loss=0.359]current epoch: 499 current mean dice: 0.3474\n",
      "best mean dice: 0.3741 at epoch: 473\n",
      "current mean loss: 0.0656best mean loss: 0.0000at epoch: 0\n",
      "Epoch 499: 100%|██████████| 9/9 [00:15<00:00,  0.57it/s, v_num=7, train_loss=0.377, val_loss=0.356]"
     ]
    },
    {
     "name": "stderr",
     "output_type": "stream",
     "text": [
      "Epoch 499, global step 4500: 'val_loss' was not in top 1\n"
     ]
    },
    {
     "name": "stdout",
     "output_type": "stream",
     "text": [
      "Epoch 500: 100%|██████████| 9/9 [00:09<00:00,  1.00it/s, v_num=7, train_loss=0.331, val_loss=0.356]current epoch: 500 current mean dice: 0.3498\n",
      "best mean dice: 0.3741 at epoch: 473\n",
      "current mean loss: 0.0656best mean loss: 0.0000at epoch: 0\n",
      "Epoch 500: 100%|██████████| 9/9 [00:15<00:00,  0.57it/s, v_num=7, train_loss=0.331, val_loss=0.355]"
     ]
    },
    {
     "name": "stderr",
     "output_type": "stream",
     "text": [
      "Epoch 500, global step 4509: 'val_loss' was not in top 1\n"
     ]
    },
    {
     "name": "stdout",
     "output_type": "stream",
     "text": [
      "Epoch 501: 100%|██████████| 9/9 [00:08<00:00,  1.01it/s, v_num=7, train_loss=0.311, val_loss=0.355]current epoch: 501 current mean dice: 0.3486\n",
      "best mean dice: 0.3741 at epoch: 473\n",
      "current mean loss: 0.0657best mean loss: 0.0000at epoch: 0\n",
      "Epoch 501: 100%|██████████| 9/9 [00:15<00:00,  0.57it/s, v_num=7, train_loss=0.311, val_loss=0.356]"
     ]
    },
    {
     "name": "stderr",
     "output_type": "stream",
     "text": [
      "Epoch 501, global step 4518: 'val_loss' was not in top 1\n"
     ]
    },
    {
     "name": "stdout",
     "output_type": "stream",
     "text": [
      "Epoch 502: 100%|██████████| 9/9 [00:08<00:00,  1.01it/s, v_num=7, train_loss=0.304, val_loss=0.356]current epoch: 502 current mean dice: 0.3425\n",
      "best mean dice: 0.3741 at epoch: 473\n",
      "current mean loss: 0.0658best mean loss: 0.0000at epoch: 0\n",
      "Epoch 502: 100%|██████████| 9/9 [00:15<00:00,  0.57it/s, v_num=7, train_loss=0.304, val_loss=0.358]"
     ]
    },
    {
     "name": "stderr",
     "output_type": "stream",
     "text": [
      "Epoch 502, global step 4527: 'val_loss' was not in top 1\n"
     ]
    },
    {
     "name": "stdout",
     "output_type": "stream",
     "text": [
      "Epoch 503: 100%|██████████| 9/9 [00:08<00:00,  1.03it/s, v_num=7, train_loss=0.281, val_loss=0.358]current epoch: 503 current mean dice: 0.3547\n",
      "best mean dice: 0.3741 at epoch: 473\n",
      "current mean loss: 0.0652best mean loss: 0.0000at epoch: 0\n",
      "Epoch 503: 100%|██████████| 9/9 [00:15<00:00,  0.57it/s, v_num=7, train_loss=0.281, val_loss=0.353]"
     ]
    },
    {
     "name": "stderr",
     "output_type": "stream",
     "text": [
      "Epoch 503, global step 4536: 'val_loss' was not in top 1\n"
     ]
    },
    {
     "name": "stdout",
     "output_type": "stream",
     "text": [
      "Epoch 504: 100%|██████████| 9/9 [00:08<00:00,  1.01it/s, v_num=7, train_loss=0.318, val_loss=0.353]current epoch: 504 current mean dice: 0.3532\n",
      "best mean dice: 0.3741 at epoch: 473\n",
      "current mean loss: 0.0653best mean loss: 0.0000at epoch: 0\n",
      "Epoch 504: 100%|██████████| 9/9 [00:15<00:00,  0.57it/s, v_num=7, train_loss=0.318, val_loss=0.354]"
     ]
    },
    {
     "name": "stderr",
     "output_type": "stream",
     "text": [
      "Epoch 504, global step 4545: 'val_loss' was not in top 1\n"
     ]
    },
    {
     "name": "stdout",
     "output_type": "stream",
     "text": [
      "Epoch 505: 100%|██████████| 9/9 [00:08<00:00,  1.01it/s, v_num=7, train_loss=0.394, val_loss=0.354]current epoch: 505 current mean dice: 0.3634\n",
      "best mean dice: 0.3741 at epoch: 473\n",
      "current mean loss: 0.0638best mean loss: 0.0000at epoch: 0\n",
      "Epoch 505: 100%|██████████| 9/9 [00:15<00:00,  0.57it/s, v_num=7, train_loss=0.394, val_loss=0.350]"
     ]
    },
    {
     "name": "stderr",
     "output_type": "stream",
     "text": [
      "Epoch 505, global step 4554: 'val_loss' was not in top 1\n"
     ]
    },
    {
     "name": "stdout",
     "output_type": "stream",
     "text": [
      "Epoch 506: 100%|██████████| 9/9 [00:08<00:00,  1.01it/s, v_num=7, train_loss=0.406, val_loss=0.350]current epoch: 506 current mean dice: 0.3653\n",
      "best mean dice: 0.3741 at epoch: 473\n",
      "current mean loss: 0.0646best mean loss: 0.0000at epoch: 0\n",
      "Epoch 506: 100%|██████████| 9/9 [00:15<00:00,  0.57it/s, v_num=7, train_loss=0.406, val_loss=0.349]"
     ]
    },
    {
     "name": "stderr",
     "output_type": "stream",
     "text": [
      "Epoch 506, global step 4563: 'val_loss' was not in top 1\n"
     ]
    },
    {
     "name": "stdout",
     "output_type": "stream",
     "text": [
      "Epoch 507: 100%|██████████| 9/9 [00:09<00:00,  1.00it/s, v_num=7, train_loss=0.281, val_loss=0.349]current epoch: 507 current mean dice: 0.3374\n",
      "best mean dice: 0.3741 at epoch: 473\n",
      "current mean loss: 0.0664best mean loss: 0.0000at epoch: 0\n",
      "Epoch 507: 100%|██████████| 9/9 [00:15<00:00,  0.56it/s, v_num=7, train_loss=0.281, val_loss=0.360]"
     ]
    },
    {
     "name": "stderr",
     "output_type": "stream",
     "text": [
      "Epoch 507, global step 4572: 'val_loss' was not in top 1\n"
     ]
    },
    {
     "name": "stdout",
     "output_type": "stream",
     "text": [
      "Epoch 508: 100%|██████████| 9/9 [00:08<00:00,  1.01it/s, v_num=7, train_loss=0.363, val_loss=0.360]current epoch: 508 current mean dice: 0.3492\n",
      "best mean dice: 0.3741 at epoch: 473\n",
      "current mean loss: 0.0656best mean loss: 0.0000at epoch: 0\n",
      "Epoch 508: 100%|██████████| 9/9 [00:15<00:00,  0.57it/s, v_num=7, train_loss=0.363, val_loss=0.356]"
     ]
    },
    {
     "name": "stderr",
     "output_type": "stream",
     "text": [
      "Epoch 508, global step 4581: 'val_loss' was not in top 1\n"
     ]
    },
    {
     "name": "stdout",
     "output_type": "stream",
     "text": [
      "Epoch 509: 100%|██████████| 9/9 [00:09<00:00,  0.98it/s, v_num=7, train_loss=0.338, val_loss=0.356]current epoch: 509 current mean dice: 0.3569\n",
      "best mean dice: 0.3741 at epoch: 473\n",
      "current mean loss: 0.0653best mean loss: 0.0000at epoch: 0\n",
      "Epoch 509: 100%|██████████| 9/9 [00:16<00:00,  0.56it/s, v_num=7, train_loss=0.338, val_loss=0.353]"
     ]
    },
    {
     "name": "stderr",
     "output_type": "stream",
     "text": [
      "Epoch 509, global step 4590: 'val_loss' was not in top 1\n"
     ]
    },
    {
     "name": "stdout",
     "output_type": "stream",
     "text": [
      "Epoch 510: 100%|██████████| 9/9 [00:08<00:00,  1.05it/s, v_num=7, train_loss=0.438, val_loss=0.353]current epoch: 510 current mean dice: 0.3706\n",
      "best mean dice: 0.3741 at epoch: 473\n",
      "current mean loss: 0.0644best mean loss: 0.0000at epoch: 0\n",
      "Epoch 510: 100%|██████████| 9/9 [00:15<00:00,  0.58it/s, v_num=7, train_loss=0.438, val_loss=0.347]"
     ]
    },
    {
     "name": "stderr",
     "output_type": "stream",
     "text": [
      "Epoch 510, global step 4599: 'val_loss' was not in top 1\n"
     ]
    },
    {
     "name": "stdout",
     "output_type": "stream",
     "text": [
      "Epoch 511: 100%|██████████| 9/9 [00:08<00:00,  1.01it/s, v_num=7, train_loss=0.238, val_loss=0.347]current epoch: 511 current mean dice: 0.3544\n",
      "best mean dice: 0.3741 at epoch: 473\n",
      "current mean loss: 0.0653best mean loss: 0.0000at epoch: 0\n",
      "Epoch 511: 100%|██████████| 9/9 [00:15<00:00,  0.57it/s, v_num=7, train_loss=0.238, val_loss=0.354]"
     ]
    },
    {
     "name": "stderr",
     "output_type": "stream",
     "text": [
      "Epoch 511, global step 4608: 'val_loss' was not in top 1\n"
     ]
    },
    {
     "name": "stdout",
     "output_type": "stream",
     "text": [
      "Epoch 512: 100%|██████████| 9/9 [00:08<00:00,  1.03it/s, v_num=7, train_loss=0.272, val_loss=0.354]current epoch: 512 current mean dice: 0.3561\n",
      "best mean dice: 0.3741 at epoch: 473\n",
      "current mean loss: 0.0649best mean loss: 0.0000at epoch: 0\n",
      "Epoch 512: 100%|██████████| 9/9 [00:15<00:00,  0.57it/s, v_num=7, train_loss=0.272, val_loss=0.353]"
     ]
    },
    {
     "name": "stderr",
     "output_type": "stream",
     "text": [
      "Epoch 512, global step 4617: 'val_loss' was not in top 1\n"
     ]
    },
    {
     "name": "stdout",
     "output_type": "stream",
     "text": [
      "Epoch 513: 100%|██████████| 9/9 [00:08<00:00,  1.01it/s, v_num=7, train_loss=0.441, val_loss=0.353]current epoch: 513 current mean dice: 0.3732\n",
      "best mean dice: 0.3741 at epoch: 473\n",
      "current mean loss: 0.0634best mean loss: 0.0000at epoch: 0\n",
      "Epoch 513: 100%|██████████| 9/9 [00:15<00:00,  0.57it/s, v_num=7, train_loss=0.441, val_loss=0.346]"
     ]
    },
    {
     "name": "stderr",
     "output_type": "stream",
     "text": [
      "Epoch 513, global step 4626: 'val_loss' was not in top 1\n"
     ]
    },
    {
     "name": "stdout",
     "output_type": "stream",
     "text": [
      "Epoch 514: 100%|██████████| 9/9 [00:08<00:00,  1.01it/s, v_num=7, train_loss=0.437, val_loss=0.346]current epoch: 514 current mean dice: 0.3497\n",
      "best mean dice: 0.3741 at epoch: 473\n",
      "current mean loss: 0.0652best mean loss: 0.0000at epoch: 0\n",
      "Epoch 514: 100%|██████████| 9/9 [00:15<00:00,  0.57it/s, v_num=7, train_loss=0.437, val_loss=0.356]"
     ]
    },
    {
     "name": "stderr",
     "output_type": "stream",
     "text": [
      "Epoch 514, global step 4635: 'val_loss' was not in top 1\n"
     ]
    },
    {
     "name": "stdout",
     "output_type": "stream",
     "text": [
      "Epoch 515: 100%|██████████| 9/9 [00:09<00:00,  1.00it/s, v_num=7, train_loss=0.363, val_loss=0.356]current epoch: 515 current mean dice: 0.3397\n",
      "best mean dice: 0.3741 at epoch: 473\n",
      "current mean loss: 0.0663best mean loss: 0.0000at epoch: 0\n",
      "Epoch 515: 100%|██████████| 9/9 [00:15<00:00,  0.57it/s, v_num=7, train_loss=0.363, val_loss=0.360]"
     ]
    },
    {
     "name": "stderr",
     "output_type": "stream",
     "text": [
      "Epoch 515, global step 4644: 'val_loss' was not in top 1\n"
     ]
    },
    {
     "name": "stdout",
     "output_type": "stream",
     "text": [
      "Epoch 516: 100%|██████████| 9/9 [00:08<00:00,  1.02it/s, v_num=7, train_loss=0.332, val_loss=0.360]current epoch: 516 current mean dice: 0.3550\n",
      "best mean dice: 0.3741 at epoch: 473\n",
      "current mean loss: 0.0650best mean loss: 0.0000at epoch: 0\n",
      "Epoch 516: 100%|██████████| 9/9 [00:15<00:00,  0.57it/s, v_num=7, train_loss=0.332, val_loss=0.353]"
     ]
    },
    {
     "name": "stderr",
     "output_type": "stream",
     "text": [
      "Epoch 516, global step 4653: 'val_loss' was not in top 1\n"
     ]
    },
    {
     "name": "stdout",
     "output_type": "stream",
     "text": [
      "Epoch 517: 100%|██████████| 9/9 [00:08<00:00,  1.02it/s, v_num=7, train_loss=0.325, val_loss=0.353]current epoch: 517 current mean dice: 0.3403\n",
      "best mean dice: 0.3741 at epoch: 473\n",
      "current mean loss: 0.0665best mean loss: 0.0000at epoch: 0\n",
      "Epoch 517: 100%|██████████| 9/9 [00:15<00:00,  0.57it/s, v_num=7, train_loss=0.325, val_loss=0.359]"
     ]
    },
    {
     "name": "stderr",
     "output_type": "stream",
     "text": [
      "Epoch 517, global step 4662: 'val_loss' was not in top 1\n"
     ]
    },
    {
     "name": "stdout",
     "output_type": "stream",
     "text": [
      "Epoch 518: 100%|██████████| 9/9 [00:08<00:00,  1.02it/s, v_num=7, train_loss=0.387, val_loss=0.359]current epoch: 518 current mean dice: 0.3513\n",
      "best mean dice: 0.3741 at epoch: 473\n",
      "current mean loss: 0.0652best mean loss: 0.0000at epoch: 0\n",
      "Epoch 518: 100%|██████████| 9/9 [00:15<00:00,  0.57it/s, v_num=7, train_loss=0.387, val_loss=0.355]"
     ]
    },
    {
     "name": "stderr",
     "output_type": "stream",
     "text": [
      "Epoch 518, global step 4671: 'val_loss' was not in top 1\n"
     ]
    },
    {
     "name": "stdout",
     "output_type": "stream",
     "text": [
      "Epoch 519: 100%|██████████| 9/9 [00:08<00:00,  1.02it/s, v_num=7, train_loss=0.326, val_loss=0.355]current epoch: 519 current mean dice: 0.3542\n",
      "best mean dice: 0.3741 at epoch: 473\n",
      "current mean loss: 0.0653best mean loss: 0.0000at epoch: 0\n",
      "Epoch 519: 100%|██████████| 9/9 [00:15<00:00,  0.57it/s, v_num=7, train_loss=0.326, val_loss=0.354]"
     ]
    },
    {
     "name": "stderr",
     "output_type": "stream",
     "text": [
      "Epoch 519, global step 4680: 'val_loss' was not in top 1\n"
     ]
    },
    {
     "name": "stdout",
     "output_type": "stream",
     "text": [
      "Epoch 520: 100%|██████████| 9/9 [00:08<00:00,  1.02it/s, v_num=7, train_loss=0.361, val_loss=0.354]current epoch: 520 current mean dice: 0.3450\n",
      "best mean dice: 0.3741 at epoch: 473\n",
      "current mean loss: 0.0659best mean loss: 0.0000at epoch: 0\n",
      "Epoch 520: 100%|██████████| 9/9 [00:15<00:00,  0.57it/s, v_num=7, train_loss=0.361, val_loss=0.357]"
     ]
    },
    {
     "name": "stderr",
     "output_type": "stream",
     "text": [
      "Epoch 520, global step 4689: 'val_loss' was not in top 1\n"
     ]
    },
    {
     "name": "stdout",
     "output_type": "stream",
     "text": [
      "Epoch 521: 100%|██████████| 9/9 [00:08<00:00,  1.04it/s, v_num=7, train_loss=0.303, val_loss=0.357]current epoch: 521 current mean dice: 0.3507\n",
      "best mean dice: 0.3741 at epoch: 473\n",
      "current mean loss: 0.0658best mean loss: 0.0000at epoch: 0\n",
      "Epoch 521: 100%|██████████| 9/9 [00:15<00:00,  0.58it/s, v_num=7, train_loss=0.303, val_loss=0.355]"
     ]
    },
    {
     "name": "stderr",
     "output_type": "stream",
     "text": [
      "Epoch 521, global step 4698: 'val_loss' was not in top 1\n"
     ]
    },
    {
     "name": "stdout",
     "output_type": "stream",
     "text": [
      "Epoch 522: 100%|██████████| 9/9 [00:09<00:00,  1.00it/s, v_num=7, train_loss=0.255, val_loss=0.355]current epoch: 522 current mean dice: 0.3534\n",
      "best mean dice: 0.3741 at epoch: 473\n",
      "current mean loss: 0.0652best mean loss: 0.0000at epoch: 0\n",
      "Epoch 522: 100%|██████████| 9/9 [00:15<00:00,  0.57it/s, v_num=7, train_loss=0.255, val_loss=0.354]"
     ]
    },
    {
     "name": "stderr",
     "output_type": "stream",
     "text": [
      "Epoch 522, global step 4707: 'val_loss' was not in top 1\n"
     ]
    },
    {
     "name": "stdout",
     "output_type": "stream",
     "text": [
      "Epoch 523: 100%|██████████| 9/9 [00:08<00:00,  1.02it/s, v_num=7, train_loss=0.438, val_loss=0.354]current epoch: 523 current mean dice: 0.3759\n",
      "best mean dice: 0.3759 at epoch: 523\n",
      "current mean loss: 0.0641best mean loss: 0.0000at epoch: 0\n",
      "Epoch 523: 100%|██████████| 9/9 [00:15<00:00,  0.57it/s, v_num=7, train_loss=0.438, val_loss=0.350]"
     ]
    },
    {
     "name": "stderr",
     "output_type": "stream",
     "text": [
      "Epoch 523, global step 4716: 'val_loss' was not in top 1\n"
     ]
    },
    {
     "name": "stdout",
     "output_type": "stream",
     "text": [
      "Epoch 524: 100%|██████████| 9/9 [00:09<00:00,  1.00it/s, v_num=7, train_loss=0.393, val_loss=0.350]current epoch: 524 current mean dice: 0.3425\n",
      "best mean dice: 0.3759 at epoch: 523\n",
      "current mean loss: 0.0661best mean loss: 0.0000at epoch: 0\n",
      "Epoch 524: 100%|██████████| 9/9 [00:16<00:00,  0.56it/s, v_num=7, train_loss=0.393, val_loss=0.358]"
     ]
    },
    {
     "name": "stderr",
     "output_type": "stream",
     "text": [
      "Epoch 524, global step 4725: 'val_loss' was not in top 1\n"
     ]
    },
    {
     "name": "stdout",
     "output_type": "stream",
     "text": [
      "Epoch 525: 100%|██████████| 9/9 [00:08<00:00,  1.02it/s, v_num=7, train_loss=0.345, val_loss=0.358]current epoch: 525 current mean dice: 0.3557\n",
      "best mean dice: 0.3759 at epoch: 523\n",
      "current mean loss: 0.0649best mean loss: 0.0000at epoch: 0\n",
      "Epoch 525: 100%|██████████| 9/9 [00:15<00:00,  0.57it/s, v_num=7, train_loss=0.345, val_loss=0.353]"
     ]
    },
    {
     "name": "stderr",
     "output_type": "stream",
     "text": [
      "Epoch 525, global step 4734: 'val_loss' was not in top 1\n"
     ]
    },
    {
     "name": "stdout",
     "output_type": "stream",
     "text": [
      "Epoch 526: 100%|██████████| 9/9 [00:08<00:00,  1.02it/s, v_num=7, train_loss=0.333, val_loss=0.353]current epoch: 526 current mean dice: 0.3502\n",
      "best mean dice: 0.3759 at epoch: 523\n",
      "current mean loss: 0.0654best mean loss: 0.0000at epoch: 0\n",
      "Epoch 526: 100%|██████████| 9/9 [00:15<00:00,  0.57it/s, v_num=7, train_loss=0.333, val_loss=0.355]"
     ]
    },
    {
     "name": "stderr",
     "output_type": "stream",
     "text": [
      "Epoch 526, global step 4743: 'val_loss' was not in top 1\n"
     ]
    },
    {
     "name": "stdout",
     "output_type": "stream",
     "text": [
      "Epoch 527: 100%|██████████| 9/9 [00:08<00:00,  1.01it/s, v_num=7, train_loss=0.375, val_loss=0.355]current epoch: 527 current mean dice: 0.3486\n",
      "best mean dice: 0.3759 at epoch: 523\n",
      "current mean loss: 0.0659best mean loss: 0.0000at epoch: 0\n",
      "Epoch 527: 100%|██████████| 9/9 [00:15<00:00,  0.57it/s, v_num=7, train_loss=0.375, val_loss=0.355]"
     ]
    },
    {
     "name": "stderr",
     "output_type": "stream",
     "text": [
      "Epoch 527, global step 4752: 'val_loss' was not in top 1\n"
     ]
    },
    {
     "name": "stdout",
     "output_type": "stream",
     "text": [
      "Epoch 528: 100%|██████████| 9/9 [00:08<00:00,  1.03it/s, v_num=7, train_loss=0.321, val_loss=0.355]current epoch: 528 current mean dice: 0.3614\n",
      "best mean dice: 0.3759 at epoch: 523\n",
      "current mean loss: 0.0643best mean loss: 0.0000at epoch: 0\n",
      "Epoch 528: 100%|██████████| 9/9 [00:15<00:00,  0.57it/s, v_num=7, train_loss=0.321, val_loss=0.350]"
     ]
    },
    {
     "name": "stderr",
     "output_type": "stream",
     "text": [
      "Epoch 528, global step 4761: 'val_loss' was not in top 1\n"
     ]
    },
    {
     "name": "stdout",
     "output_type": "stream",
     "text": [
      "Epoch 529: 100%|██████████| 9/9 [00:09<00:00,  1.00it/s, v_num=7, train_loss=0.274, val_loss=0.350]current epoch: 529 current mean dice: 0.3492\n",
      "best mean dice: 0.3759 at epoch: 523\n",
      "current mean loss: 0.0655best mean loss: 0.0000at epoch: 0\n",
      "Epoch 529: 100%|██████████| 9/9 [00:15<00:00,  0.57it/s, v_num=7, train_loss=0.274, val_loss=0.356]"
     ]
    },
    {
     "name": "stderr",
     "output_type": "stream",
     "text": [
      "Epoch 529, global step 4770: 'val_loss' was not in top 1\n"
     ]
    },
    {
     "name": "stdout",
     "output_type": "stream",
     "text": [
      "Epoch 530: 100%|██████████| 9/9 [00:08<00:00,  1.01it/s, v_num=7, train_loss=0.290, val_loss=0.356]current epoch: 530 current mean dice: 0.3292\n",
      "best mean dice: 0.3759 at epoch: 523\n",
      "current mean loss: 0.0669best mean loss: 0.0000at epoch: 0\n",
      "Epoch 530: 100%|██████████| 9/9 [00:15<00:00,  0.57it/s, v_num=7, train_loss=0.290, val_loss=0.364]"
     ]
    },
    {
     "name": "stderr",
     "output_type": "stream",
     "text": [
      "Epoch 530, global step 4779: 'val_loss' was not in top 1\n"
     ]
    },
    {
     "name": "stdout",
     "output_type": "stream",
     "text": [
      "Epoch 531: 100%|██████████| 9/9 [00:08<00:00,  1.02it/s, v_num=7, train_loss=0.324, val_loss=0.364]current epoch: 531 current mean dice: 0.3428\n",
      "best mean dice: 0.3759 at epoch: 523\n",
      "current mean loss: 0.0657best mean loss: 0.0000at epoch: 0\n",
      "Epoch 531: 100%|██████████| 9/9 [00:15<00:00,  0.57it/s, v_num=7, train_loss=0.324, val_loss=0.358]"
     ]
    },
    {
     "name": "stderr",
     "output_type": "stream",
     "text": [
      "Epoch 531, global step 4788: 'val_loss' was not in top 1\n"
     ]
    },
    {
     "name": "stdout",
     "output_type": "stream",
     "text": [
      "Epoch 532: 100%|██████████| 9/9 [00:09<00:00,  0.99it/s, v_num=7, train_loss=0.400, val_loss=0.358]current epoch: 532 current mean dice: 0.3547\n",
      "best mean dice: 0.3759 at epoch: 523\n",
      "current mean loss: 0.0649best mean loss: 0.0000at epoch: 0\n",
      "Epoch 532: 100%|██████████| 9/9 [00:15<00:00,  0.56it/s, v_num=7, train_loss=0.400, val_loss=0.353]"
     ]
    },
    {
     "name": "stderr",
     "output_type": "stream",
     "text": [
      "Epoch 532, global step 4797: 'val_loss' was not in top 1\n"
     ]
    },
    {
     "name": "stdout",
     "output_type": "stream",
     "text": [
      "Epoch 533: 100%|██████████| 9/9 [00:08<00:00,  1.00it/s, v_num=7, train_loss=0.353, val_loss=0.353]current epoch: 533 current mean dice: 0.3434\n",
      "best mean dice: 0.3759 at epoch: 523\n",
      "current mean loss: 0.0660best mean loss: 0.0000at epoch: 0\n",
      "Epoch 533: 100%|██████████| 9/9 [00:15<00:00,  0.57it/s, v_num=7, train_loss=0.353, val_loss=0.358]"
     ]
    },
    {
     "name": "stderr",
     "output_type": "stream",
     "text": [
      "Epoch 533, global step 4806: 'val_loss' was not in top 1\n"
     ]
    },
    {
     "name": "stdout",
     "output_type": "stream",
     "text": [
      "Epoch 534: 100%|██████████| 9/9 [00:08<00:00,  1.00it/s, v_num=7, train_loss=0.345, val_loss=0.358]current epoch: 534 current mean dice: 0.3475\n",
      "best mean dice: 0.3759 at epoch: 523\n",
      "current mean loss: 0.0655best mean loss: 0.0000at epoch: 0\n",
      "Epoch 534: 100%|██████████| 9/9 [00:15<00:00,  0.57it/s, v_num=7, train_loss=0.345, val_loss=0.356]"
     ]
    },
    {
     "name": "stderr",
     "output_type": "stream",
     "text": [
      "Epoch 534, global step 4815: 'val_loss' was not in top 1\n"
     ]
    },
    {
     "name": "stdout",
     "output_type": "stream",
     "text": [
      "Epoch 535: 100%|██████████| 9/9 [00:08<00:00,  1.01it/s, v_num=7, train_loss=0.326, val_loss=0.356]current epoch: 535 current mean dice: 0.3438\n",
      "best mean dice: 0.3759 at epoch: 523\n",
      "current mean loss: 0.0660best mean loss: 0.0000at epoch: 0\n",
      "Epoch 535: 100%|██████████| 9/9 [00:15<00:00,  0.57it/s, v_num=7, train_loss=0.326, val_loss=0.358]"
     ]
    },
    {
     "name": "stderr",
     "output_type": "stream",
     "text": [
      "Epoch 535, global step 4824: 'val_loss' was not in top 1\n"
     ]
    },
    {
     "name": "stdout",
     "output_type": "stream",
     "text": [
      "Epoch 536: 100%|██████████| 9/9 [00:09<00:00,  0.99it/s, v_num=7, train_loss=0.264, val_loss=0.358]current epoch: 536 current mean dice: 0.3461\n",
      "best mean dice: 0.3759 at epoch: 523\n",
      "current mean loss: 0.0657best mean loss: 0.0000at epoch: 0\n",
      "Epoch 536: 100%|██████████| 9/9 [00:15<00:00,  0.56it/s, v_num=7, train_loss=0.264, val_loss=0.357]"
     ]
    },
    {
     "name": "stderr",
     "output_type": "stream",
     "text": [
      "Epoch 536, global step 4833: 'val_loss' was not in top 1\n"
     ]
    },
    {
     "name": "stdout",
     "output_type": "stream",
     "text": [
      "Epoch 537: 100%|██████████| 9/9 [00:08<00:00,  1.01it/s, v_num=7, train_loss=0.378, val_loss=0.357]current epoch: 537 current mean dice: 0.3544\n",
      "best mean dice: 0.3759 at epoch: 523\n",
      "current mean loss: 0.0654best mean loss: 0.0000at epoch: 0\n",
      "Epoch 537: 100%|██████████| 9/9 [00:15<00:00,  0.57it/s, v_num=7, train_loss=0.378, val_loss=0.354]"
     ]
    },
    {
     "name": "stderr",
     "output_type": "stream",
     "text": [
      "Epoch 537, global step 4842: 'val_loss' was not in top 1\n"
     ]
    },
    {
     "name": "stdout",
     "output_type": "stream",
     "text": [
      "Epoch 538: 100%|██████████| 9/9 [00:08<00:00,  1.02it/s, v_num=7, train_loss=0.381, val_loss=0.354]current epoch: 538 current mean dice: 0.3173\n",
      "best mean dice: 0.3759 at epoch: 523\n",
      "current mean loss: 0.0683best mean loss: 0.0000at epoch: 0\n",
      "Epoch 538: 100%|██████████| 9/9 [00:15<00:00,  0.57it/s, v_num=7, train_loss=0.381, val_loss=0.369]"
     ]
    },
    {
     "name": "stderr",
     "output_type": "stream",
     "text": [
      "Epoch 538, global step 4851: 'val_loss' was not in top 1\n"
     ]
    },
    {
     "name": "stdout",
     "output_type": "stream",
     "text": [
      "Epoch 539: 100%|██████████| 9/9 [00:08<00:00,  1.02it/s, v_num=7, train_loss=0.282, val_loss=0.369]current epoch: 539 current mean dice: 0.3374\n",
      "best mean dice: 0.3759 at epoch: 523\n",
      "current mean loss: 0.0665best mean loss: 0.0000at epoch: 0\n",
      "Epoch 539: 100%|██████████| 9/9 [00:15<00:00,  0.57it/s, v_num=7, train_loss=0.282, val_loss=0.361]"
     ]
    },
    {
     "name": "stderr",
     "output_type": "stream",
     "text": [
      "Epoch 539, global step 4860: 'val_loss' was not in top 1\n"
     ]
    },
    {
     "name": "stdout",
     "output_type": "stream",
     "text": [
      "Epoch 540: 100%|██████████| 9/9 [00:08<00:00,  1.01it/s, v_num=7, train_loss=0.442, val_loss=0.361]current epoch: 540 current mean dice: 0.3422\n",
      "best mean dice: 0.3759 at epoch: 523\n",
      "current mean loss: 0.0661best mean loss: 0.0000at epoch: 0\n",
      "Epoch 540: 100%|██████████| 9/9 [00:15<00:00,  0.57it/s, v_num=7, train_loss=0.442, val_loss=0.359]"
     ]
    },
    {
     "name": "stderr",
     "output_type": "stream",
     "text": [
      "Epoch 540, global step 4869: 'val_loss' was not in top 1\n"
     ]
    },
    {
     "name": "stdout",
     "output_type": "stream",
     "text": [
      "Epoch 541: 100%|██████████| 9/9 [00:08<00:00,  1.02it/s, v_num=7, train_loss=0.328, val_loss=0.359]current epoch: 541 current mean dice: 0.3204\n",
      "best mean dice: 0.3759 at epoch: 523\n",
      "current mean loss: 0.0685best mean loss: 0.0000at epoch: 0\n",
      "Epoch 541: 100%|██████████| 9/9 [00:15<00:00,  0.57it/s, v_num=7, train_loss=0.328, val_loss=0.367]"
     ]
    },
    {
     "name": "stderr",
     "output_type": "stream",
     "text": [
      "Epoch 541, global step 4878: 'val_loss' was not in top 1\n"
     ]
    },
    {
     "name": "stdout",
     "output_type": "stream",
     "text": [
      "Epoch 542: 100%|██████████| 9/9 [00:08<00:00,  1.01it/s, v_num=7, train_loss=0.257, val_loss=0.367]current epoch: 542 current mean dice: 0.3567\n",
      "best mean dice: 0.3759 at epoch: 523\n",
      "current mean loss: 0.0650best mean loss: 0.0000at epoch: 0\n",
      "Epoch 542: 100%|██████████| 9/9 [00:15<00:00,  0.57it/s, v_num=7, train_loss=0.257, val_loss=0.353]"
     ]
    },
    {
     "name": "stderr",
     "output_type": "stream",
     "text": [
      "Epoch 542, global step 4887: 'val_loss' was not in top 1\n"
     ]
    },
    {
     "name": "stdout",
     "output_type": "stream",
     "text": [
      "Epoch 543: 100%|██████████| 9/9 [00:08<00:00,  1.00it/s, v_num=7, train_loss=0.343, val_loss=0.353]current epoch: 543 current mean dice: 0.3603\n",
      "best mean dice: 0.3759 at epoch: 523\n",
      "current mean loss: 0.0649best mean loss: 0.0000at epoch: 0\n",
      "Epoch 543: 100%|██████████| 9/9 [00:15<00:00,  0.56it/s, v_num=7, train_loss=0.343, val_loss=0.351]"
     ]
    },
    {
     "name": "stderr",
     "output_type": "stream",
     "text": [
      "Epoch 543, global step 4896: 'val_loss' was not in top 1\n"
     ]
    },
    {
     "name": "stdout",
     "output_type": "stream",
     "text": [
      "Epoch 544: 100%|██████████| 9/9 [00:08<00:00,  1.02it/s, v_num=7, train_loss=0.350, val_loss=0.351]current epoch: 544 current mean dice: 0.3456\n",
      "best mean dice: 0.3759 at epoch: 523\n",
      "current mean loss: 0.0654best mean loss: 0.0000at epoch: 0\n",
      "Epoch 544: 100%|██████████| 9/9 [00:15<00:00,  0.57it/s, v_num=7, train_loss=0.350, val_loss=0.357]"
     ]
    },
    {
     "name": "stderr",
     "output_type": "stream",
     "text": [
      "Epoch 544, global step 4905: 'val_loss' was not in top 1\n"
     ]
    },
    {
     "name": "stdout",
     "output_type": "stream",
     "text": [
      "Epoch 545: 100%|██████████| 9/9 [00:08<00:00,  1.02it/s, v_num=7, train_loss=0.288, val_loss=0.357]current epoch: 545 current mean dice: 0.3557\n",
      "best mean dice: 0.3759 at epoch: 523\n",
      "current mean loss: 0.0648best mean loss: 0.0000at epoch: 0\n",
      "Epoch 545: 100%|██████████| 9/9 [00:15<00:00,  0.57it/s, v_num=7, train_loss=0.288, val_loss=0.353]"
     ]
    },
    {
     "name": "stderr",
     "output_type": "stream",
     "text": [
      "Epoch 545, global step 4914: 'val_loss' was not in top 1\n"
     ]
    },
    {
     "name": "stdout",
     "output_type": "stream",
     "text": [
      "Epoch 546: 100%|██████████| 9/9 [00:08<00:00,  1.02it/s, v_num=7, train_loss=0.403, val_loss=0.353]current epoch: 546 current mean dice: 0.3515\n",
      "best mean dice: 0.3759 at epoch: 523\n",
      "current mean loss: 0.0661best mean loss: 0.0000at epoch: 0\n",
      "Epoch 546: 100%|██████████| 9/9 [00:15<00:00,  0.57it/s, v_num=7, train_loss=0.403, val_loss=0.356]"
     ]
    },
    {
     "name": "stderr",
     "output_type": "stream",
     "text": [
      "Epoch 546, global step 4923: 'val_loss' was not in top 1\n"
     ]
    },
    {
     "name": "stdout",
     "output_type": "stream",
     "text": [
      "Epoch 547: 100%|██████████| 9/9 [00:08<00:00,  1.05it/s, v_num=7, train_loss=0.383, val_loss=0.356]current epoch: 547 current mean dice: 0.3592\n",
      "best mean dice: 0.3759 at epoch: 523\n",
      "current mean loss: 0.0648best mean loss: 0.0000at epoch: 0\n",
      "Epoch 547: 100%|██████████| 9/9 [00:15<00:00,  0.58it/s, v_num=7, train_loss=0.383, val_loss=0.351]"
     ]
    },
    {
     "name": "stderr",
     "output_type": "stream",
     "text": [
      "Epoch 547, global step 4932: 'val_loss' was not in top 1\n"
     ]
    },
    {
     "name": "stdout",
     "output_type": "stream",
     "text": [
      "Epoch 548: 100%|██████████| 9/9 [00:08<00:00,  1.02it/s, v_num=7, train_loss=0.347, val_loss=0.351]current epoch: 548 current mean dice: 0.3633\n",
      "best mean dice: 0.3759 at epoch: 523\n",
      "current mean loss: 0.0644best mean loss: 0.0000at epoch: 0\n",
      "Epoch 548: 100%|██████████| 9/9 [00:15<00:00,  0.57it/s, v_num=7, train_loss=0.347, val_loss=0.350]"
     ]
    },
    {
     "name": "stderr",
     "output_type": "stream",
     "text": [
      "Epoch 548, global step 4941: 'val_loss' was not in top 1\n"
     ]
    },
    {
     "name": "stdout",
     "output_type": "stream",
     "text": [
      "Epoch 549: 100%|██████████| 9/9 [00:08<00:00,  1.01it/s, v_num=7, train_loss=0.405, val_loss=0.350]current epoch: 549 current mean dice: 0.3475\n",
      "best mean dice: 0.3759 at epoch: 523\n",
      "current mean loss: 0.0662best mean loss: 0.0000at epoch: 0\n",
      "Epoch 549: 100%|██████████| 9/9 [00:15<00:00,  0.57it/s, v_num=7, train_loss=0.405, val_loss=0.356]"
     ]
    },
    {
     "name": "stderr",
     "output_type": "stream",
     "text": [
      "Epoch 549, global step 4950: 'val_loss' was not in top 1\n"
     ]
    },
    {
     "name": "stdout",
     "output_type": "stream",
     "text": [
      "Epoch 550: 100%|██████████| 9/9 [00:08<00:00,  1.05it/s, v_num=7, train_loss=0.313, val_loss=0.356]current epoch: 550 current mean dice: 0.3386\n",
      "best mean dice: 0.3759 at epoch: 523\n",
      "current mean loss: 0.0664best mean loss: 0.0000at epoch: 0\n",
      "Epoch 550: 100%|██████████| 9/9 [00:15<00:00,  0.58it/s, v_num=7, train_loss=0.313, val_loss=0.359]"
     ]
    },
    {
     "name": "stderr",
     "output_type": "stream",
     "text": [
      "Epoch 550, global step 4959: 'val_loss' was not in top 1\n"
     ]
    },
    {
     "name": "stdout",
     "output_type": "stream",
     "text": [
      "Epoch 551: 100%|██████████| 9/9 [00:09<00:00,  1.00it/s, v_num=7, train_loss=0.409, val_loss=0.359]current epoch: 551 current mean dice: 0.3565\n",
      "best mean dice: 0.3759 at epoch: 523\n",
      "current mean loss: 0.0647best mean loss: 0.0000at epoch: 0\n",
      "Epoch 551: 100%|██████████| 9/9 [00:15<00:00,  0.56it/s, v_num=7, train_loss=0.409, val_loss=0.352]"
     ]
    },
    {
     "name": "stderr",
     "output_type": "stream",
     "text": [
      "Epoch 551, global step 4968: 'val_loss' was not in top 1\n"
     ]
    },
    {
     "name": "stdout",
     "output_type": "stream",
     "text": [
      "Epoch 552: 100%|██████████| 9/9 [00:08<00:00,  1.01it/s, v_num=7, train_loss=0.342, val_loss=0.352]current epoch: 552 current mean dice: 0.3437\n",
      "best mean dice: 0.3759 at epoch: 523\n",
      "current mean loss: 0.0657best mean loss: 0.0000at epoch: 0\n",
      "Epoch 552: 100%|██████████| 9/9 [00:15<00:00,  0.57it/s, v_num=7, train_loss=0.342, val_loss=0.358]"
     ]
    },
    {
     "name": "stderr",
     "output_type": "stream",
     "text": [
      "Epoch 552, global step 4977: 'val_loss' was not in top 1\n"
     ]
    },
    {
     "name": "stdout",
     "output_type": "stream",
     "text": [
      "Epoch 553: 100%|██████████| 9/9 [00:09<00:00,  1.00it/s, v_num=7, train_loss=0.329, val_loss=0.358]current epoch: 553 current mean dice: 0.3467\n",
      "best mean dice: 0.3759 at epoch: 523\n",
      "current mean loss: 0.0657best mean loss: 0.0000at epoch: 0\n",
      "Epoch 553: 100%|██████████| 9/9 [00:15<00:00,  0.56it/s, v_num=7, train_loss=0.329, val_loss=0.356]"
     ]
    },
    {
     "name": "stderr",
     "output_type": "stream",
     "text": [
      "Epoch 553, global step 4986: 'val_loss' was not in top 1\n"
     ]
    },
    {
     "name": "stdout",
     "output_type": "stream",
     "text": [
      "Epoch 554: 100%|██████████| 9/9 [00:09<00:00,  0.99it/s, v_num=7, train_loss=0.260, val_loss=0.356]current epoch: 554 current mean dice: 0.3354\n",
      "best mean dice: 0.3759 at epoch: 523\n",
      "current mean loss: 0.0667best mean loss: 0.0000at epoch: 0\n",
      "Epoch 554: 100%|██████████| 9/9 [00:16<00:00,  0.56it/s, v_num=7, train_loss=0.260, val_loss=0.363]"
     ]
    },
    {
     "name": "stderr",
     "output_type": "stream",
     "text": [
      "Epoch 554, global step 4995: 'val_loss' was not in top 1\n"
     ]
    },
    {
     "name": "stdout",
     "output_type": "stream",
     "text": [
      "Epoch 555: 100%|██████████| 9/9 [00:09<00:00,  1.00it/s, v_num=7, train_loss=0.371, val_loss=0.363]current epoch: 555 current mean dice: 0.3604\n",
      "best mean dice: 0.3759 at epoch: 523\n",
      "current mean loss: 0.0650best mean loss: 0.0000at epoch: 0\n",
      "Epoch 555: 100%|██████████| 9/9 [00:15<00:00,  0.56it/s, v_num=7, train_loss=0.371, val_loss=0.351]"
     ]
    },
    {
     "name": "stderr",
     "output_type": "stream",
     "text": [
      "Epoch 555, global step 5004: 'val_loss' was not in top 1\n"
     ]
    },
    {
     "name": "stdout",
     "output_type": "stream",
     "text": [
      "Epoch 556: 100%|██████████| 9/9 [00:08<00:00,  1.02it/s, v_num=7, train_loss=0.389, val_loss=0.351]current epoch: 556 current mean dice: 0.3378\n",
      "best mean dice: 0.3759 at epoch: 523\n",
      "current mean loss: 0.0663best mean loss: 0.0000at epoch: 0\n",
      "Epoch 556: 100%|██████████| 9/9 [00:15<00:00,  0.57it/s, v_num=7, train_loss=0.389, val_loss=0.361]"
     ]
    },
    {
     "name": "stderr",
     "output_type": "stream",
     "text": [
      "Epoch 556, global step 5013: 'val_loss' was not in top 1\n"
     ]
    },
    {
     "name": "stdout",
     "output_type": "stream",
     "text": [
      "Epoch 557: 100%|██████████| 9/9 [00:09<00:00,  0.99it/s, v_num=7, train_loss=0.326, val_loss=0.361]current epoch: 557 current mean dice: 0.3530\n",
      "best mean dice: 0.3759 at epoch: 523\n",
      "current mean loss: 0.0654best mean loss: 0.0000at epoch: 0\n",
      "Epoch 557: 100%|██████████| 9/9 [00:16<00:00,  0.56it/s, v_num=7, train_loss=0.326, val_loss=0.353]"
     ]
    },
    {
     "name": "stderr",
     "output_type": "stream",
     "text": [
      "Epoch 557, global step 5022: 'val_loss' was not in top 1\n"
     ]
    },
    {
     "name": "stdout",
     "output_type": "stream",
     "text": [
      "Epoch 558: 100%|██████████| 9/9 [00:09<00:00,  1.00it/s, v_num=7, train_loss=0.374, val_loss=0.353]current epoch: 558 current mean dice: 0.3425\n",
      "best mean dice: 0.3759 at epoch: 523\n",
      "current mean loss: 0.0667best mean loss: 0.0000at epoch: 0\n",
      "Epoch 558: 100%|██████████| 9/9 [00:15<00:00,  0.56it/s, v_num=7, train_loss=0.374, val_loss=0.358]"
     ]
    },
    {
     "name": "stderr",
     "output_type": "stream",
     "text": [
      "Epoch 558, global step 5031: 'val_loss' was not in top 1\n"
     ]
    },
    {
     "name": "stdout",
     "output_type": "stream",
     "text": [
      "Epoch 559: 100%|██████████| 9/9 [00:08<00:00,  1.01it/s, v_num=7, train_loss=0.311, val_loss=0.358]current epoch: 559 current mean dice: 0.3451\n",
      "best mean dice: 0.3759 at epoch: 523\n",
      "current mean loss: 0.0658best mean loss: 0.0000at epoch: 0\n",
      "Epoch 559: 100%|██████████| 9/9 [00:15<00:00,  0.57it/s, v_num=7, train_loss=0.311, val_loss=0.357]"
     ]
    },
    {
     "name": "stderr",
     "output_type": "stream",
     "text": [
      "Epoch 559, global step 5040: 'val_loss' was not in top 1\n"
     ]
    },
    {
     "name": "stdout",
     "output_type": "stream",
     "text": [
      "Epoch 560: 100%|██████████| 9/9 [00:08<00:00,  1.01it/s, v_num=7, train_loss=0.317, val_loss=0.357]current epoch: 560 current mean dice: 0.3515\n",
      "best mean dice: 0.3759 at epoch: 523\n",
      "current mean loss: 0.0654best mean loss: 0.0000at epoch: 0\n",
      "Epoch 560: 100%|██████████| 9/9 [00:15<00:00,  0.57it/s, v_num=7, train_loss=0.317, val_loss=0.354]"
     ]
    },
    {
     "name": "stderr",
     "output_type": "stream",
     "text": [
      "Epoch 560, global step 5049: 'val_loss' was not in top 1\n"
     ]
    },
    {
     "name": "stdout",
     "output_type": "stream",
     "text": [
      "Epoch 561: 100%|██████████| 9/9 [00:08<00:00,  1.02it/s, v_num=7, train_loss=0.329, val_loss=0.354]current epoch: 561 current mean dice: 0.3510\n",
      "best mean dice: 0.3759 at epoch: 523\n",
      "current mean loss: 0.0655best mean loss: 0.0000at epoch: 0\n",
      "Epoch 561: 100%|██████████| 9/9 [00:15<00:00,  0.57it/s, v_num=7, train_loss=0.329, val_loss=0.355]"
     ]
    },
    {
     "name": "stderr",
     "output_type": "stream",
     "text": [
      "Epoch 561, global step 5058: 'val_loss' was not in top 1\n"
     ]
    },
    {
     "name": "stdout",
     "output_type": "stream",
     "text": [
      "Epoch 562: 100%|██████████| 9/9 [00:08<00:00,  1.00it/s, v_num=7, train_loss=0.463, val_loss=0.355]current epoch: 562 current mean dice: 0.3513\n",
      "best mean dice: 0.3759 at epoch: 523\n",
      "current mean loss: 0.0653best mean loss: 0.0000at epoch: 0\n",
      "Epoch 562: 100%|██████████| 9/9 [00:15<00:00,  0.57it/s, v_num=7, train_loss=0.463, val_loss=0.355]"
     ]
    },
    {
     "name": "stderr",
     "output_type": "stream",
     "text": [
      "Epoch 562, global step 5067: 'val_loss' was not in top 1\n"
     ]
    },
    {
     "name": "stdout",
     "output_type": "stream",
     "text": [
      "Epoch 563: 100%|██████████| 9/9 [00:08<00:00,  1.01it/s, v_num=7, train_loss=0.399, val_loss=0.355]current epoch: 563 current mean dice: 0.3452\n",
      "best mean dice: 0.3759 at epoch: 523\n",
      "current mean loss: 0.0655best mean loss: 0.0000at epoch: 0\n",
      "Epoch 563: 100%|██████████| 9/9 [00:15<00:00,  0.57it/s, v_num=7, train_loss=0.399, val_loss=0.357]"
     ]
    },
    {
     "name": "stderr",
     "output_type": "stream",
     "text": [
      "Epoch 563, global step 5076: 'val_loss' was not in top 1\n"
     ]
    },
    {
     "name": "stdout",
     "output_type": "stream",
     "text": [
      "Epoch 564: 100%|██████████| 9/9 [00:08<00:00,  1.02it/s, v_num=7, train_loss=0.284, val_loss=0.357]current epoch: 564 current mean dice: 0.3377\n",
      "best mean dice: 0.3759 at epoch: 523\n",
      "current mean loss: 0.0666best mean loss: 0.0000at epoch: 0\n",
      "Epoch 564: 100%|██████████| 9/9 [00:15<00:00,  0.57it/s, v_num=7, train_loss=0.284, val_loss=0.359]"
     ]
    },
    {
     "name": "stderr",
     "output_type": "stream",
     "text": [
      "Epoch 564, global step 5085: 'val_loss' was not in top 1\n"
     ]
    },
    {
     "name": "stdout",
     "output_type": "stream",
     "text": [
      "Epoch 565: 100%|██████████| 9/9 [00:09<00:00,  1.00it/s, v_num=7, train_loss=0.312, val_loss=0.359]current epoch: 565 current mean dice: 0.3208\n",
      "best mean dice: 0.3759 at epoch: 523\n",
      "current mean loss: 0.0674best mean loss: 0.0000at epoch: 0\n",
      "Epoch 565: 100%|██████████| 9/9 [00:15<00:00,  0.57it/s, v_num=7, train_loss=0.312, val_loss=0.367]"
     ]
    },
    {
     "name": "stderr",
     "output_type": "stream",
     "text": [
      "Epoch 565, global step 5094: 'val_loss' was not in top 1\n"
     ]
    },
    {
     "name": "stdout",
     "output_type": "stream",
     "text": [
      "Epoch 566: 100%|██████████| 9/9 [00:08<00:00,  1.01it/s, v_num=7, train_loss=0.279, val_loss=0.367]current epoch: 566 current mean dice: 0.3313\n",
      "best mean dice: 0.3759 at epoch: 523\n",
      "current mean loss: 0.0671best mean loss: 0.0000at epoch: 0\n",
      "Epoch 566: 100%|██████████| 9/9 [00:15<00:00,  0.57it/s, v_num=7, train_loss=0.279, val_loss=0.363]"
     ]
    },
    {
     "name": "stderr",
     "output_type": "stream",
     "text": [
      "Epoch 566, global step 5103: 'val_loss' was not in top 1\n"
     ]
    },
    {
     "name": "stdout",
     "output_type": "stream",
     "text": [
      "Epoch 567: 100%|██████████| 9/9 [00:08<00:00,  1.01it/s, v_num=7, train_loss=0.337, val_loss=0.363]current epoch: 567 current mean dice: 0.3369\n",
      "best mean dice: 0.3759 at epoch: 523\n",
      "current mean loss: 0.0662best mean loss: 0.0000at epoch: 0\n",
      "Epoch 567: 100%|██████████| 9/9 [00:15<00:00,  0.56it/s, v_num=7, train_loss=0.337, val_loss=0.360]"
     ]
    },
    {
     "name": "stderr",
     "output_type": "stream",
     "text": [
      "Epoch 567, global step 5112: 'val_loss' was not in top 1\n"
     ]
    },
    {
     "name": "stdout",
     "output_type": "stream",
     "text": [
      "Epoch 568: 100%|██████████| 9/9 [00:09<00:00,  0.99it/s, v_num=7, train_loss=0.299, val_loss=0.360]current epoch: 568 current mean dice: 0.3566\n",
      "best mean dice: 0.3759 at epoch: 523\n",
      "current mean loss: 0.0651best mean loss: 0.0000at epoch: 0\n",
      "Epoch 568: 100%|██████████| 9/9 [00:15<00:00,  0.56it/s, v_num=7, train_loss=0.299, val_loss=0.352]"
     ]
    },
    {
     "name": "stderr",
     "output_type": "stream",
     "text": [
      "Epoch 568, global step 5121: 'val_loss' was not in top 1\n"
     ]
    },
    {
     "name": "stdout",
     "output_type": "stream",
     "text": [
      "Epoch 569: 100%|██████████| 9/9 [00:08<00:00,  1.03it/s, v_num=7, train_loss=0.314, val_loss=0.352]current epoch: 569 current mean dice: 0.3510\n",
      "best mean dice: 0.3759 at epoch: 523\n",
      "current mean loss: 0.0656best mean loss: 0.0000at epoch: 0\n",
      "Epoch 569: 100%|██████████| 9/9 [00:15<00:00,  0.57it/s, v_num=7, train_loss=0.314, val_loss=0.355]"
     ]
    },
    {
     "name": "stderr",
     "output_type": "stream",
     "text": [
      "Epoch 569, global step 5130: 'val_loss' was not in top 1\n"
     ]
    },
    {
     "name": "stdout",
     "output_type": "stream",
     "text": [
      "Epoch 570: 100%|██████████| 9/9 [00:09<00:00,  0.97it/s, v_num=7, train_loss=0.297, val_loss=0.355]current epoch: 570 current mean dice: 0.3479\n",
      "best mean dice: 0.3759 at epoch: 523\n",
      "current mean loss: 0.0659best mean loss: 0.0000at epoch: 0\n",
      "Epoch 570: 100%|██████████| 9/9 [00:16<00:00,  0.56it/s, v_num=7, train_loss=0.297, val_loss=0.356]"
     ]
    },
    {
     "name": "stderr",
     "output_type": "stream",
     "text": [
      "Epoch 570, global step 5139: 'val_loss' was not in top 1\n"
     ]
    },
    {
     "name": "stdout",
     "output_type": "stream",
     "text": [
      "Epoch 571: 100%|██████████| 9/9 [00:09<00:00,  0.99it/s, v_num=7, train_loss=0.297, val_loss=0.356]current epoch: 571 current mean dice: 0.3349\n",
      "best mean dice: 0.3759 at epoch: 523\n",
      "current mean loss: 0.0672best mean loss: 0.0000at epoch: 0\n",
      "Epoch 571: 100%|██████████| 9/9 [00:16<00:00,  0.56it/s, v_num=7, train_loss=0.297, val_loss=0.361]"
     ]
    },
    {
     "name": "stderr",
     "output_type": "stream",
     "text": [
      "Epoch 571, global step 5148: 'val_loss' was not in top 1\n"
     ]
    },
    {
     "name": "stdout",
     "output_type": "stream",
     "text": [
      "Epoch 572: 100%|██████████| 9/9 [00:08<00:00,  1.00it/s, v_num=7, train_loss=0.370, val_loss=0.361]current epoch: 572 current mean dice: 0.3576\n",
      "best mean dice: 0.3759 at epoch: 523\n",
      "current mean loss: 0.0647best mean loss: 0.0000at epoch: 0\n",
      "Epoch 572: 100%|██████████| 9/9 [00:15<00:00,  0.56it/s, v_num=7, train_loss=0.370, val_loss=0.352]"
     ]
    },
    {
     "name": "stderr",
     "output_type": "stream",
     "text": [
      "Epoch 572, global step 5157: 'val_loss' was not in top 1\n"
     ]
    },
    {
     "name": "stdout",
     "output_type": "stream",
     "text": [
      "Epoch 573: 100%|██████████| 9/9 [00:08<00:00,  1.02it/s, v_num=7, train_loss=0.420, val_loss=0.352]current epoch: 573 current mean dice: 0.3463\n",
      "best mean dice: 0.3759 at epoch: 523\n",
      "current mean loss: 0.0657best mean loss: 0.0000at epoch: 0\n",
      "Epoch 573: 100%|██████████| 9/9 [00:15<00:00,  0.57it/s, v_num=7, train_loss=0.420, val_loss=0.357]"
     ]
    },
    {
     "name": "stderr",
     "output_type": "stream",
     "text": [
      "Epoch 573, global step 5166: 'val_loss' was not in top 1\n"
     ]
    },
    {
     "name": "stdout",
     "output_type": "stream",
     "text": [
      "Epoch 574: 100%|██████████| 9/9 [00:09<00:00,  1.00it/s, v_num=7, train_loss=0.360, val_loss=0.357]current epoch: 574 current mean dice: 0.3499\n",
      "best mean dice: 0.3759 at epoch: 523\n",
      "current mean loss: 0.0656best mean loss: 0.0000at epoch: 0\n",
      "Epoch 574: 100%|██████████| 9/9 [00:15<00:00,  0.57it/s, v_num=7, train_loss=0.360, val_loss=0.355]"
     ]
    },
    {
     "name": "stderr",
     "output_type": "stream",
     "text": [
      "Epoch 574, global step 5175: 'val_loss' was not in top 1\n"
     ]
    },
    {
     "name": "stdout",
     "output_type": "stream",
     "text": [
      "Epoch 575: 100%|██████████| 9/9 [00:08<00:00,  1.03it/s, v_num=7, train_loss=0.378, val_loss=0.355]current epoch: 575 current mean dice: 0.3588\n",
      "best mean dice: 0.3759 at epoch: 523\n",
      "current mean loss: 0.0651best mean loss: 0.0000at epoch: 0\n",
      "Epoch 575: 100%|██████████| 9/9 [00:15<00:00,  0.57it/s, v_num=7, train_loss=0.378, val_loss=0.351]"
     ]
    },
    {
     "name": "stderr",
     "output_type": "stream",
     "text": [
      "Epoch 575, global step 5184: 'val_loss' was not in top 1\n"
     ]
    },
    {
     "name": "stdout",
     "output_type": "stream",
     "text": [
      "Epoch 576: 100%|██████████| 9/9 [00:09<00:00,  0.99it/s, v_num=7, train_loss=0.357, val_loss=0.351]current epoch: 576 current mean dice: 0.3510\n",
      "best mean dice: 0.3759 at epoch: 523\n",
      "current mean loss: 0.0656best mean loss: 0.0000at epoch: 0\n",
      "Epoch 576: 100%|██████████| 9/9 [00:16<00:00,  0.56it/s, v_num=7, train_loss=0.357, val_loss=0.354]"
     ]
    },
    {
     "name": "stderr",
     "output_type": "stream",
     "text": [
      "Epoch 576, global step 5193: 'val_loss' was not in top 1\n"
     ]
    },
    {
     "name": "stdout",
     "output_type": "stream",
     "text": [
      "Epoch 577: 100%|██████████| 9/9 [00:08<00:00,  1.01it/s, v_num=7, train_loss=0.408, val_loss=0.354]current epoch: 577 current mean dice: 0.3463\n",
      "best mean dice: 0.3759 at epoch: 523\n",
      "current mean loss: 0.0662best mean loss: 0.0000at epoch: 0\n",
      "Epoch 577: 100%|██████████| 9/9 [00:15<00:00,  0.57it/s, v_num=7, train_loss=0.408, val_loss=0.356]"
     ]
    },
    {
     "name": "stderr",
     "output_type": "stream",
     "text": [
      "Epoch 577, global step 5202: 'val_loss' was not in top 1\n"
     ]
    },
    {
     "name": "stdout",
     "output_type": "stream",
     "text": [
      "Epoch 578: 100%|██████████| 9/9 [00:08<00:00,  1.03it/s, v_num=7, train_loss=0.406, val_loss=0.356]current epoch: 578 current mean dice: 0.3224\n",
      "best mean dice: 0.3759 at epoch: 523\n",
      "current mean loss: 0.0674best mean loss: 0.0000at epoch: 0\n",
      "Epoch 578: 100%|██████████| 9/9 [00:15<00:00,  0.57it/s, v_num=7, train_loss=0.406, val_loss=0.367]"
     ]
    },
    {
     "name": "stderr",
     "output_type": "stream",
     "text": [
      "Epoch 578, global step 5211: 'val_loss' was not in top 1\n"
     ]
    },
    {
     "name": "stdout",
     "output_type": "stream",
     "text": [
      "Epoch 579: 100%|██████████| 9/9 [00:08<00:00,  1.01it/s, v_num=7, train_loss=0.286, val_loss=0.367]current epoch: 579 current mean dice: 0.3684\n",
      "best mean dice: 0.3759 at epoch: 523\n",
      "current mean loss: 0.0651best mean loss: 0.0000at epoch: 0\n",
      "Epoch 579: 100%|██████████| 9/9 [00:15<00:00,  0.57it/s, v_num=7, train_loss=0.286, val_loss=0.352]"
     ]
    },
    {
     "name": "stderr",
     "output_type": "stream",
     "text": [
      "Epoch 579, global step 5220: 'val_loss' was not in top 1\n"
     ]
    },
    {
     "name": "stdout",
     "output_type": "stream",
     "text": [
      "Epoch 580: 100%|██████████| 9/9 [00:09<00:00,  0.98it/s, v_num=7, train_loss=0.333, val_loss=0.352]current epoch: 580 current mean dice: 0.3501\n",
      "best mean dice: 0.3759 at epoch: 523\n",
      "current mean loss: 0.0654best mean loss: 0.0000at epoch: 0\n",
      "Epoch 580: 100%|██████████| 9/9 [00:16<00:00,  0.56it/s, v_num=7, train_loss=0.333, val_loss=0.355]"
     ]
    },
    {
     "name": "stderr",
     "output_type": "stream",
     "text": [
      "Epoch 580, global step 5229: 'val_loss' was not in top 1\n"
     ]
    },
    {
     "name": "stdout",
     "output_type": "stream",
     "text": [
      "Epoch 581: 100%|██████████| 9/9 [00:08<00:00,  1.02it/s, v_num=7, train_loss=0.353, val_loss=0.355]current epoch: 581 current mean dice: 0.3595\n",
      "best mean dice: 0.3759 at epoch: 523\n",
      "current mean loss: 0.0645best mean loss: 0.0000at epoch: 0\n",
      "Epoch 581: 100%|██████████| 9/9 [00:15<00:00,  0.57it/s, v_num=7, train_loss=0.353, val_loss=0.351]"
     ]
    },
    {
     "name": "stderr",
     "output_type": "stream",
     "text": [
      "Epoch 581, global step 5238: 'val_loss' was not in top 1\n"
     ]
    },
    {
     "name": "stdout",
     "output_type": "stream",
     "text": [
      "Epoch 582: 100%|██████████| 9/9 [00:09<00:00,  1.00it/s, v_num=7, train_loss=0.334, val_loss=0.351]current epoch: 582 current mean dice: 0.3453\n",
      "best mean dice: 0.3759 at epoch: 523\n",
      "current mean loss: 0.0660best mean loss: 0.0000at epoch: 0\n",
      "Epoch 582: 100%|██████████| 9/9 [00:15<00:00,  0.56it/s, v_num=7, train_loss=0.334, val_loss=0.357]"
     ]
    },
    {
     "name": "stderr",
     "output_type": "stream",
     "text": [
      "Epoch 582, global step 5247: 'val_loss' was not in top 1\n"
     ]
    },
    {
     "name": "stdout",
     "output_type": "stream",
     "text": [
      "Epoch 583: 100%|██████████| 9/9 [00:08<00:00,  1.03it/s, v_num=7, train_loss=0.353, val_loss=0.357]current epoch: 583 current mean dice: 0.3657\n",
      "best mean dice: 0.3759 at epoch: 523\n",
      "current mean loss: 0.0648best mean loss: 0.0000at epoch: 0\n",
      "Epoch 583: 100%|██████████| 9/9 [00:15<00:00,  0.57it/s, v_num=7, train_loss=0.353, val_loss=0.349]"
     ]
    },
    {
     "name": "stderr",
     "output_type": "stream",
     "text": [
      "Epoch 583, global step 5256: 'val_loss' was not in top 1\n"
     ]
    },
    {
     "name": "stdout",
     "output_type": "stream",
     "text": [
      "Epoch 584: 100%|██████████| 9/9 [00:08<00:00,  1.02it/s, v_num=7, train_loss=0.249, val_loss=0.349]current epoch: 584 current mean dice: 0.3460\n",
      "best mean dice: 0.3759 at epoch: 523\n",
      "current mean loss: 0.0654best mean loss: 0.0000at epoch: 0\n",
      "Epoch 584: 100%|██████████| 9/9 [00:15<00:00,  0.57it/s, v_num=7, train_loss=0.249, val_loss=0.357]"
     ]
    },
    {
     "name": "stderr",
     "output_type": "stream",
     "text": [
      "Epoch 584, global step 5265: 'val_loss' was not in top 1\n"
     ]
    },
    {
     "name": "stdout",
     "output_type": "stream",
     "text": [
      "Epoch 585: 100%|██████████| 9/9 [00:08<00:00,  1.02it/s, v_num=7, train_loss=0.350, val_loss=0.357]current epoch: 585 current mean dice: 0.3458\n",
      "best mean dice: 0.3759 at epoch: 523\n",
      "current mean loss: 0.0665best mean loss: 0.0000at epoch: 0\n",
      "Epoch 585: 100%|██████████| 9/9 [00:15<00:00,  0.57it/s, v_num=7, train_loss=0.350, val_loss=0.357]"
     ]
    },
    {
     "name": "stderr",
     "output_type": "stream",
     "text": [
      "Epoch 585, global step 5274: 'val_loss' was not in top 1\n"
     ]
    },
    {
     "name": "stdout",
     "output_type": "stream",
     "text": [
      "Epoch 586: 100%|██████████| 9/9 [00:08<00:00,  1.00it/s, v_num=7, train_loss=0.245, val_loss=0.357]current epoch: 586 current mean dice: 0.3606\n",
      "best mean dice: 0.3759 at epoch: 523\n",
      "current mean loss: 0.0646best mean loss: 0.0000at epoch: 0\n",
      "Epoch 586: 100%|██████████| 9/9 [00:15<00:00,  0.57it/s, v_num=7, train_loss=0.245, val_loss=0.350]"
     ]
    },
    {
     "name": "stderr",
     "output_type": "stream",
     "text": [
      "Epoch 586, global step 5283: 'val_loss' was not in top 1\n"
     ]
    },
    {
     "name": "stdout",
     "output_type": "stream",
     "text": [
      "Epoch 587: 100%|██████████| 9/9 [00:08<00:00,  1.03it/s, v_num=7, train_loss=0.433, val_loss=0.350]current epoch: 587 current mean dice: 0.3622\n",
      "best mean dice: 0.3759 at epoch: 523\n",
      "current mean loss: 0.0646best mean loss: 0.0000at epoch: 0\n",
      "Epoch 587: 100%|██████████| 9/9 [00:15<00:00,  0.58it/s, v_num=7, train_loss=0.433, val_loss=0.350]"
     ]
    },
    {
     "name": "stderr",
     "output_type": "stream",
     "text": [
      "Epoch 587, global step 5292: 'val_loss' was not in top 1\n"
     ]
    },
    {
     "name": "stdout",
     "output_type": "stream",
     "text": [
      "Epoch 588: 100%|██████████| 9/9 [00:08<00:00,  1.00it/s, v_num=7, train_loss=0.428, val_loss=0.350]current epoch: 588 current mean dice: 0.3523\n",
      "best mean dice: 0.3759 at epoch: 523\n",
      "current mean loss: 0.0654best mean loss: 0.0000at epoch: 0\n",
      "Epoch 588: 100%|██████████| 9/9 [00:15<00:00,  0.57it/s, v_num=7, train_loss=0.428, val_loss=0.355]"
     ]
    },
    {
     "name": "stderr",
     "output_type": "stream",
     "text": [
      "Epoch 588, global step 5301: 'val_loss' was not in top 1\n"
     ]
    },
    {
     "name": "stdout",
     "output_type": "stream",
     "text": [
      "Epoch 589: 100%|██████████| 9/9 [00:08<00:00,  1.02it/s, v_num=7, train_loss=0.352, val_loss=0.355]current epoch: 589 current mean dice: 0.3462\n",
      "best mean dice: 0.3759 at epoch: 523\n",
      "current mean loss: 0.0657best mean loss: 0.0000at epoch: 0\n",
      "Epoch 589: 100%|██████████| 9/9 [00:15<00:00,  0.57it/s, v_num=7, train_loss=0.352, val_loss=0.357]"
     ]
    },
    {
     "name": "stderr",
     "output_type": "stream",
     "text": [
      "Epoch 589, global step 5310: 'val_loss' was not in top 1\n"
     ]
    },
    {
     "name": "stdout",
     "output_type": "stream",
     "text": [
      "Epoch 590: 100%|██████████| 9/9 [00:08<00:00,  1.02it/s, v_num=7, train_loss=0.337, val_loss=0.357]current epoch: 590 current mean dice: 0.3745\n",
      "best mean dice: 0.3759 at epoch: 523\n",
      "current mean loss: 0.0634best mean loss: 0.0000at epoch: 0\n",
      "Epoch 590: 100%|██████████| 9/9 [00:15<00:00,  0.57it/s, v_num=7, train_loss=0.337, val_loss=0.345]"
     ]
    },
    {
     "name": "stderr",
     "output_type": "stream",
     "text": [
      "Epoch 590, global step 5319: 'val_loss' reached 0.34480 (best 0.34480), saving model to '/home/pawel/Documents/RISA/3D_segmentation/logger/checkpoints/epoch_590-0.34480.ckpt' as top 1\n"
     ]
    },
    {
     "name": "stdout",
     "output_type": "stream",
     "text": [
      "Epoch 591: 100%|██████████| 9/9 [00:08<00:00,  1.02it/s, v_num=7, train_loss=0.307, val_loss=0.345]current epoch: 591 current mean dice: 0.3607\n",
      "best mean dice: 0.3759 at epoch: 523\n",
      "current mean loss: 0.0648best mean loss: 0.0000at epoch: 0\n",
      "Epoch 591: 100%|██████████| 9/9 [00:15<00:00,  0.57it/s, v_num=7, train_loss=0.307, val_loss=0.350]"
     ]
    },
    {
     "name": "stderr",
     "output_type": "stream",
     "text": [
      "Epoch 591, global step 5328: 'val_loss' was not in top 1\n"
     ]
    },
    {
     "name": "stdout",
     "output_type": "stream",
     "text": [
      "Epoch 592: 100%|██████████| 9/9 [00:08<00:00,  1.01it/s, v_num=7, train_loss=0.358, val_loss=0.350]current epoch: 592 current mean dice: 0.3668\n",
      "best mean dice: 0.3759 at epoch: 523\n",
      "current mean loss: 0.0647best mean loss: 0.0000at epoch: 0\n",
      "Epoch 592: 100%|██████████| 9/9 [00:15<00:00,  0.57it/s, v_num=7, train_loss=0.358, val_loss=0.348]"
     ]
    },
    {
     "name": "stderr",
     "output_type": "stream",
     "text": [
      "Epoch 592, global step 5337: 'val_loss' was not in top 1\n"
     ]
    },
    {
     "name": "stdout",
     "output_type": "stream",
     "text": [
      "Epoch 593: 100%|██████████| 9/9 [00:09<00:00,  1.00it/s, v_num=7, train_loss=0.266, val_loss=0.348]current epoch: 593 current mean dice: 0.3503\n",
      "best mean dice: 0.3759 at epoch: 523\n",
      "current mean loss: 0.0652best mean loss: 0.0000at epoch: 0\n",
      "Epoch 593: 100%|██████████| 9/9 [00:15<00:00,  0.57it/s, v_num=7, train_loss=0.266, val_loss=0.354]"
     ]
    },
    {
     "name": "stderr",
     "output_type": "stream",
     "text": [
      "Epoch 593, global step 5346: 'val_loss' was not in top 1\n"
     ]
    },
    {
     "name": "stdout",
     "output_type": "stream",
     "text": [
      "Epoch 594: 100%|██████████| 9/9 [00:08<00:00,  1.02it/s, v_num=7, train_loss=0.303, val_loss=0.354]current epoch: 594 current mean dice: 0.3486\n",
      "best mean dice: 0.3759 at epoch: 523\n",
      "current mean loss: 0.0660best mean loss: 0.0000at epoch: 0\n",
      "Epoch 594: 100%|██████████| 9/9 [00:15<00:00,  0.57it/s, v_num=7, train_loss=0.303, val_loss=0.355]"
     ]
    },
    {
     "name": "stderr",
     "output_type": "stream",
     "text": [
      "Epoch 594, global step 5355: 'val_loss' was not in top 1\n"
     ]
    },
    {
     "name": "stdout",
     "output_type": "stream",
     "text": [
      "Epoch 595: 100%|██████████| 9/9 [00:09<00:00,  0.98it/s, v_num=7, train_loss=0.233, val_loss=0.355]current epoch: 595 current mean dice: 0.3478\n",
      "best mean dice: 0.3759 at epoch: 523\n",
      "current mean loss: 0.0658best mean loss: 0.0000at epoch: 0\n",
      "Epoch 595: 100%|██████████| 9/9 [00:16<00:00,  0.56it/s, v_num=7, train_loss=0.233, val_loss=0.355]"
     ]
    },
    {
     "name": "stderr",
     "output_type": "stream",
     "text": [
      "Epoch 595, global step 5364: 'val_loss' was not in top 1\n"
     ]
    },
    {
     "name": "stdout",
     "output_type": "stream",
     "text": [
      "Epoch 596: 100%|██████████| 9/9 [00:08<00:00,  1.02it/s, v_num=7, train_loss=0.480, val_loss=0.355]current epoch: 596 current mean dice: 0.3444\n",
      "best mean dice: 0.3759 at epoch: 523\n",
      "current mean loss: 0.0658best mean loss: 0.0000at epoch: 0\n",
      "Epoch 596: 100%|██████████| 9/9 [00:15<00:00,  0.57it/s, v_num=7, train_loss=0.480, val_loss=0.357]"
     ]
    },
    {
     "name": "stderr",
     "output_type": "stream",
     "text": [
      "Epoch 596, global step 5373: 'val_loss' was not in top 1\n"
     ]
    },
    {
     "name": "stdout",
     "output_type": "stream",
     "text": [
      "Epoch 597: 100%|██████████| 9/9 [00:08<00:00,  1.00it/s, v_num=7, train_loss=0.291, val_loss=0.357]current epoch: 597 current mean dice: 0.3393\n",
      "best mean dice: 0.3759 at epoch: 523\n",
      "current mean loss: 0.0666best mean loss: 0.0000at epoch: 0\n",
      "Epoch 597: 100%|██████████| 9/9 [00:15<00:00,  0.56it/s, v_num=7, train_loss=0.291, val_loss=0.359]"
     ]
    },
    {
     "name": "stderr",
     "output_type": "stream",
     "text": [
      "Epoch 597, global step 5382: 'val_loss' was not in top 1\n"
     ]
    },
    {
     "name": "stdout",
     "output_type": "stream",
     "text": [
      "Epoch 598: 100%|██████████| 9/9 [00:08<00:00,  1.03it/s, v_num=7, train_loss=0.326, val_loss=0.359]current epoch: 598 current mean dice: 0.3752\n",
      "best mean dice: 0.3759 at epoch: 523\n",
      "current mean loss: 0.0636best mean loss: 0.0000at epoch: 0\n",
      "Epoch 598: 100%|██████████| 9/9 [00:15<00:00,  0.58it/s, v_num=7, train_loss=0.326, val_loss=0.344]"
     ]
    },
    {
     "name": "stderr",
     "output_type": "stream",
     "text": [
      "Epoch 598, global step 5391: 'val_loss' reached 0.34432 (best 0.34432), saving model to '/home/pawel/Documents/RISA/3D_segmentation/logger/checkpoints/epoch_598-0.34432.ckpt' as top 1\n"
     ]
    },
    {
     "name": "stdout",
     "output_type": "stream",
     "text": [
      "Epoch 599: 100%|██████████| 9/9 [00:08<00:00,  1.03it/s, v_num=7, train_loss=0.377, val_loss=0.344]current epoch: 599 current mean dice: 0.3635\n",
      "best mean dice: 0.3759 at epoch: 523\n",
      "current mean loss: 0.0650best mean loss: 0.0000at epoch: 0\n",
      "Epoch 599: 100%|██████████| 9/9 [00:15<00:00,  0.57it/s, v_num=7, train_loss=0.377, val_loss=0.350]"
     ]
    },
    {
     "name": "stderr",
     "output_type": "stream",
     "text": [
      "Epoch 599, global step 5400: 'val_loss' was not in top 1\n",
      "`Trainer.fit` stopped: `max_epochs=600` reached.\n"
     ]
    },
    {
     "name": "stdout",
     "output_type": "stream",
     "text": [
      "Epoch 599: 100%|██████████| 9/9 [00:15<00:00,  0.57it/s, v_num=7, train_loss=0.377, val_loss=0.350]\n"
     ]
    }
   ],
   "source": [
    "# initialise the LightningModule\n",
    "net = Net()\n",
    "\n",
    "checkpoint_path = '/home/pawel/Documents/RISA/3D_segmentation/model_segmentation/checkpoints/epoch_319-0.42079.ckpt'\n",
    "# net = Net.load_from_checkpoint(checkpoint_path)\n",
    "\n",
    "data_module = CTDataModule()\n",
    "\n",
    "# initialise Lightning's trainer.\n",
    "trainer = pytorch_lightning.Trainer(\n",
    "    devices=[0],\n",
    "    max_epochs=600,\n",
    "    callbacks= pytorch_lightning.callbacks.ModelCheckpoint(monitor='val_loss', save_top_k=1, save_last=False, verbose=True, dirpath='/home/pawel/Documents/RISA/3D_segmentation/logger/checkpoints', filename='epoch_{epoch}-{val_loss:.5f}',  auto_insert_metric_name=False),\n",
    "    logger=tb_logger,\n",
    "    enable_checkpointing=True,\n",
    "    num_sanity_val_steps=1,\n",
    "    log_every_n_steps=2,\n",
    ")\n",
    "\n",
    "# train\n",
    "trainer.fit(net, datamodule=data_module)"
   ]
  },
  {
   "cell_type": "code",
   "execution_count": 9,
   "metadata": {},
   "outputs": [
    {
     "name": "stdout",
     "output_type": "stream",
     "text": [
      "train completed, best_metric: 0.3759 at epoch 523\n",
      "train completed, best_metric: 0.0000 at epoch 0\n"
     ]
    }
   ],
   "source": [
    "print(f\"train completed, best_metric: {net.best_val_dice:.4f} \" f\"at epoch {net.best_val_epoch_dice}\")\n",
    "print(f\"train completed, best_metric: {net.best_val_loss:.4f} \" f\"at epoch {net.best_val_epoch_loss}\")"
   ]
  },
  {
   "cell_type": "code",
   "execution_count": 10,
   "metadata": {},
   "outputs": [],
   "source": [
    "log_dir = Path(\"/home/pawel/Downloads/logs-20240330T155645Z-001/logs\")"
   ]
  },
  {
   "cell_type": "code",
   "execution_count": 10,
   "metadata": {},
   "outputs": [
    {
     "data": {
      "text/plain": [
       "Reusing TensorBoard on port 6007 (pid 98255), started 12:25:57 ago. (Use '!kill 98255' to kill it.)"
      ]
     },
     "metadata": {},
     "output_type": "display_data"
    },
    {
     "data": {
      "text/html": [
       "\n",
       "      <iframe id=\"tensorboard-frame-ee76bacd7e378c3d\" width=\"100%\" height=\"800\" frameborder=\"0\">\n",
       "      </iframe>\n",
       "      <script>\n",
       "        (function() {\n",
       "          const frame = document.getElementById(\"tensorboard-frame-ee76bacd7e378c3d\");\n",
       "          const url = new URL(\"http://localhost\");\n",
       "          const port = 6007;\n",
       "          if (port) {\n",
       "            url.port = port;\n",
       "          }\n",
       "          frame.src = url;\n",
       "        })();\n",
       "      </script>\n",
       "    "
      ],
      "text/plain": [
       "<IPython.core.display.HTML object>"
      ]
     },
     "metadata": {},
     "output_type": "display_data"
    }
   ],
   "source": [
    "%load_ext tensorboard\n",
    "%tensorboard --logdir=$log_dir"
   ]
  },
  {
   "cell_type": "code",
   "execution_count": 9,
   "metadata": {},
   "outputs": [
    {
     "name": "stdout",
     "output_type": "stream",
     "text": [
      "torch.Size([2, 1, 32, 64, 64])\n"
     ]
    },
    {
     "ename": "",
     "evalue": "",
     "output_type": "error",
     "traceback": [
      "\u001b[1;31mThe Kernel crashed while executing code in the current cell or a previous cell. \n",
      "\u001b[1;31mPlease review the code in the cell(s) to identify a possible cause of the failure. \n",
      "\u001b[1;31mClick <a href='https://aka.ms/vscodeJupyterKernelCrash'>here</a> for more info. \n",
      "\u001b[1;31mView Jupyter <a href='command:jupyter.viewOutput'>log</a> for further details."
     ]
    }
   ],
   "source": [
    "model = XUnet(\n",
    "    dim = 32,\n",
    "    frame_kernel_size = 3,                 # set this to greater than 1\n",
    "    channels = 1,\n",
    "    dim_mults = (1, 2, 4, 8),\n",
    "    nested_unet_depths = (5, 4, 2, 1),     # nested unet depths, from unet-squared paper\n",
    "    consolidate_upsample_fmaps = True,     # whether to consolidate outputs from all upsample blocks, used in unet-squared paper\n",
    "    weight_standardize = True\n",
    ")\n",
    "video = torch.randn(2, 1, 32, 64, 64)    # (batch, channels, frames, height, width)\n",
    "out = model(video) # (1, 3, 10, 128, 128)\n",
    "print(out.shape)\n"
   ]
  },
  {
   "cell_type": "code",
   "execution_count": 42,
   "metadata": {},
   "outputs": [
    {
     "name": "stdout",
     "output_type": "stream",
     "text": [
      "torch.Size([2, 2, 32, 64, 64])\n"
     ]
    }
   ],
   "source": [
    "model = UNet(\n",
    "    spatial_dims=3,\n",
    "    in_channels=1,\n",
    "    out_channels=2,\n",
    "    channels=(8, 16, 32, 64, 128, 256),\n",
    "    strides=(2, 2, 2, 2, 2),\n",
    "    num_res_units=3,\n",
    "    norm=Norm.BATCH,\n",
    ")\n",
    "\n",
    "video = torch.randn(2, 1, 32, 64, 64)    # (batch, channels, frames, height, width)\n",
    "out = model(video) # (1, 3, 10, 128, 128)\n",
    "print(out.shape)"
   ]
  },
  {
   "cell_type": "code",
   "execution_count": 22,
   "metadata": {},
   "outputs": [
    {
     "name": "stdout",
     "output_type": "stream",
     "text": [
      "type of images and labels: <class 'nibabel.nifti1.Nifti1Image'>\n",
      "shapes of images and labels: (512, 512, 90)\n"
     ]
    }
   ],
   "source": [
    "import nibabel as nib\n",
    "\n",
    "img = nib.load('/home/pawel/Documents/RISA/3D_segmentation/MONAI_DATA_DIRECTORY/Task09_Spleen/imagesTr/spleen_2.nii.gz')\n",
    "\n",
    "print(\"type of images and labels:\", type(img))\n",
    "print(\"shapes of images and labels:\", img.shape)\n",
    "# print(images)"
   ]
  },
  {
   "cell_type": "code",
   "execution_count": 12,
   "metadata": {},
   "outputs": [
    {
     "name": "stdout",
     "output_type": "stream",
     "text": [
      "/home/pawel/Documents/RISA/3D_segmentation/MONAI_DATA_DIRECTORY/logs\n"
     ]
    }
   ],
   "source": [
    "print(log_dir)"
   ]
  }
 ],
 "metadata": {
  "kernelspec": {
   "display_name": ".venv",
   "language": "python",
   "name": "python3"
  },
  "language_info": {
   "codemirror_mode": {
    "name": "ipython",
    "version": 3
   },
   "file_extension": ".py",
   "mimetype": "text/x-python",
   "name": "python",
   "nbconvert_exporter": "python",
   "pygments_lexer": "ipython3",
   "version": "3.10.12"
  }
 },
 "nbformat": 4,
 "nbformat_minor": 2
}
